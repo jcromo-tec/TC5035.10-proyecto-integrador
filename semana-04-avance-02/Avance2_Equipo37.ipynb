{
 "cells": [
  {
   "cell_type": "markdown",
   "metadata": {
    "id": "HMQEY1ttU_w-"
   },
   "source": [
    "![logo-tec-de-monterrey-.png](data:image/png;base64,iVBORw0KGgoAAAANSUhEUgAAAKgAAACoCAYAAAB0S6W0AAAAAXNSR0IArs4c6QAAAARnQU1BAACxjwv8YQUAAAAJcEhZcwAACxAAAAsQAa0jvXUAAEiySURBVHhe7V0HfBzF9X5b7k7d3dh0CBhwKLbuJErovXfcGxhsihN6TzAmQCCUUEIxtsG2im1I6CEQSCihWpILAYLB/DEEsDHGXdKVLf/vvdmT7k53JxkUorPv++l0ezOzu7Mz37wybSmPPPLII4888sgjjzzyyCOPPPLII4888sgjjzzy+N9B877z2BT0n1pEff19Sdd7k6b3xKeIXE0jA3G2SkKa45CrbyDDWU1WeCVtaPyell4c8WLz6CDyBG0Pu9wboF59dqOYsSe50cFk6HsQuduR6/ZD8ZWRphWQxswENF19uw7/w5+wtRGftYhcjvAvcfwv0v2LKdb4AS364jOiKZw4jwzIEzQd9vlDd/L3ORDkO5pI358ceyBIVYRjRDKfQDwISDl2QUQJQ5zrQmIapZCmOI6pMAhW+daZxPgwiR3EObE1pJvvg8Rv4HKvUOTTd+mjKVEkyiMBeYImIjTnAJTImWDX8Sia3UBKRTQmlEhDJmO8yPiYwb9xbIC/duw5kPOvkLL3Ib0p5wlBE9LKJfDNhNVwff62mlzSzDqYBM+Qaz1JDSM/VunziJf2louzHjfoc+dU2IwTQJ7DyCjwkQNTUUjpad84xzKVFsf5inFO5FmqG3UKVc6dCKI+LNcR6ZoOOCluGjD0AH77QPLoGpzzAiT0DFow6lUvdosF66wtF8HaM2mZ8xqcnT+R7oM6t30UWwd+hBEJYrXXfOOCsZW9X/E/mj9sKiTvQ2SCtBnBqt5dj1NtMQnsJkjS9biM1YOMwEjk6RUK1T5NoZpDvBO2SGyZBC2vOgjq/EUyzCdgEx5IdjPIsRE8gxoXlZzAzPhhQlALWuJwwOfaztteCFFBZDKk4eciGVuZ3Ao2CTTjWXwuByER4F3MsRRRXUtH+CnI38sUmjedQlW7qQRbFrYsgu4+qxdVzL2bDN/LZPiPIQfEtNnJbpGA6ZHKL/ntBbKTpEM1O7FvKGz/XQUCb47/Dmq6RuLSXZudJV37hOpH3ktO9AUyS7wIBhMeElwR1Yf8joc9/Bry/ksVueVgyyHo4KojqLTgVRDzUqjfgFLlWYjJUR4H2ySR3wmBeiF+arX00dkrvBAFx3qF7Ijd0v0UB/+2Iw6u/4YKiN4IB6s5ySYV4B4uS1Tk1bX7gez3gaTP0eBZe3gJNntsGQQNzbuOTP9fQIy9KCqVrUjCiJOw9UAhiZRenHQpxY+9f2YBCNS8gpyN90t4IgLmN/i/oeVicjr+6TiH3LfI3U2ZBPXnwIMHmRPNgZb7M0nxYYeLzRDddwLuCbU/a6iXYLPG5k3QgfN6UsWcWqjIW0RqcgWLjQl4PJADIZ6H+GHLN8fzt/qpjuMBXHx+Pv41NUzkTvhkwIrEDVUZx8+Xn/xDu5MaQjEJExgvq7h4/rwT4ucJUT21rznbkBaYg2e70YvcbLH5EjRUszMVa8+SUTCcLAgxdj4SycmHLR8vnJFwKOC4eLx8e7/54+uG6zbPpoZRj6oEKYi5O5Hmlgqx5FTc2CyFerfmUf2I51SiONzPWvtNgZZv78OI398O474xDZJ4MlXOfYy2vQs2xuaJzZOgFTN/DnvuedLNX4ityYyMVzIj8Zh/iJRKClQ/050j30y0MibKP0j/nh0XuUIbuHQM1DbO4Gh82HN3Il9CUl6pAhKgUVQFxW+EY0mRnEyB08BMYWmqB8ZR/23n0X7Teqq4zQubH0H3qf05UQF33+yhyNkBxDnRIYAwJiSnG32Hmp0RNP9isCQNKh7vB4l3Jtk8eolzeNTI1XgEYALVD/+PSpQAx+kpTlKLueFlKomfqWTFb35Gw38SOWW1tFdNDy9is8HmRdCKWQMoYDwJybkz2Qn2Ziak1ne7wAlxclqxM+iDEd96EW1hx66CebGNODdMPO7rdK1rqG7kS16KZGj6IOXFJ2SKs5/0DBmeh0mq+Y+hQnM27X1HttGBnMPmQ9A9p20FyTmHNHOA2JwdEYsdSKLApMHHADnt6JvkNp9OC0YvV3FpEKo6mQzjIrIacQ8UsQG704reAbvzHi9FMo69F+x1jpMuJQYPecbR0UbEXVG6/0TybzNVhm83E2weBB34uJ8KSmaQ7isXu6zjzGuFx8FkJASIQxR7gyztdKpL6e9MRKiqAgSbhnOh0+Ecia3aPJUaRlztpWiLVd1PIMM3SJkDOMmNLcMzuFnJmS6On90oHEmfRW/2QnIemwdBi2K3kllwgiJnNmSpcfawUxEPYrXuxF4ji86kRUO/80LbYnBtCKr2SajlvqLahdRNj5K7IbMjFZwKz8l3nTQq3cSX/zPc8BJogvVqxpOXLhXpwtl+ZdPG9F+NhjLKC81p5D5By6uGQHJeJn2cgmzSs5241Gi2/1gCOrFXyLbOyk7OWSEyYf9q2rYy2US6kyKP0I6+CdQwMaG/MxWl18M+Dcp8AKMAJHOmU8OoZ0Hnz9UwaZZG1QZIy2aCayPjPOrEDmNuI7cJuvfsnSBl7kWlatLPGUd7ddrROhcJGHmFAtYQahi5ygtti4qa/SHBnwE5t1NEY1JHH6C6f19ATwzhiaTpUTF7JPJ/tcwHMODbWM31FFv+AGJc2K6LwfLseWX7Nh4v39zC8OF+UsPXA2EP0iGP8bBVziK3CRow7oTU6SeTPuLeLleUd5gViRWfjgSs1u3IXyi8Zgi9OXKNF9oWwVkHIvFTuOfWQk6WnE7kXqobDrWeZTlHRdVpcOqmgpWG572vg5S+gN6/kmev4BncL9R3lodx3FjLsyYm43PYUTQKDqZm/2VeaE4idwkaqh4Ke+30Vo/dY1mW+hTECZxUod53HGJzRp8j38bh9K8Ls5Cz5kDSA3/G0VYitXwgpxu5i+qGXYKwdLRXCFafQuSfhRZQrOYFcB+pdTEtHFvvpcDvKB4Ml0h3FZ7pr/uXIO5W2KpeYBpww3X0q3NZ1ecmQfd6EOpLnyJDiPFZ7+0ysyPANVit2+Gnaf2GkfT2ucz+9BBymiAnO0Rsc5YQxaJ30PzhV3gp0qOy5lSo32owp1QcKQPn2bGbqG4ECJsATRYxpX8sQ0Y2p1Egeh+52vfKVk0DJ8qqvgyS9iYvJOeQmwQt6DYJNt9uLao9s6xqi2w8Rl1CTc+jr9ePpCUdIKdGyltncjrh31HDsKu8FOkRnHMKuWYVGlWJOg+NwWp6hBpGTPZSJMC3VVv1jgcVQofnk2E8SO+etxp5eF8kcFrgfKsJtWycRoOqj/MCcwq5R9B9Zm5DjnahVHAc2UjXIeACyiF6gooi42j5RNRqBrRITpDTZpLx+DpLwJHXqQQZwGpdN6qQGORkc4DvF4YkbZzkpUjAZJ0cex+lIbwg7kLiaXqus4as6EX07lC0Ton4WJylOBIbqxyzCWFo5IOqP2RyFnugayL3CGr6zoP0hGOUQNAfBSanTPyopsLmMfT62WBPBgg5uSuJJSfUp5AzcgNszjQSMAGVc0+FGgYZbah1j5xWeA6tDJ+XtgsqtMuuyFdI7iFgcnIfKVdXdFKSrUraiiRWtmmsCOD1TppxCDXteqwXmDPILYIGp/ZGeZ/9XyFnozE+KzkHVx8s5CTqo2w7SDMndi0k529VggwQh4glp63Uuq87DqNzaMU34+mLTPfTR6ERlsmSZ/UblygGDy00hlG1XqBCyyyoNIiTVab7sUkLzdMamhPIMQlacgYZge07h6CoJ+lMb55Na1aeSx8NiYurtghWHQrJ/Sec00dIw6rWiV5FdcNv81KkRxAOke6DzWl5Nic3hkgVrWw+h7663FPRKQjN2Bn/J4qkZTCdZLAg/GDaxuA4vVQiJmk6oiKMo1mKEh1BoaoQH+QKcoigsJ80d5Ty2r2KyCA42gdqjCWn1fwoOa+dm3XPpMraw+GEgJwuyAkO87IMO3o51Y+8w0uRHkxOw8+SU3nrIjnDM8n5RxbJCWgFd6ARKikt+fRsVWcDd121habv2maKXhsgnLuz9AI/HK+RXmBOIHcIWr5LCJWxb4v05DrJVB9Z4ZHTDj9GJZ9MpIZHMg9D8kI7V38CDQNSylKS07Z+RQ0j7/ZSpIc4ROytQ3LyBBCWgLHmx6hpSfb7BWuvwj1Ol1lQnE/VH/sEGd+kHy4dPH1rFMS+yhRgEqrghAMgXkj4ZtI7dLJ00+UIcoegmnESpJcP3i3/aC33TQJO4i4hu3kGOesn0utTEsZHU1A5+3Dy+efhqKeMb2s+l+wYyDmi7eK4RLQ4RF5XkvSrNk+jkiUTsu69VF49DqS+xVPFnlqPPEkbvzuH3s1gDhgFp6mRNO+yLWWSoXDEdjZ3okDZYV5Il0duEJSn02nakWq8PVE6JB5nAKs/ScbkZJszMp12fAqSLMsEjuDso8gNsFrvpVSj6cLWO79dcobmnA6J65GTJSdLwOZHqP7pC7I2hlD1aBBnKsSsKfcTUkcfJ2fdaPpoUnwWTDL2m9cTGbsYjpoXwGinPMRZ8uFbyxlvPjcIGmjaHaXK2x/iB4jWUg+JkiJD5XBnNydjclrNULsbLqQnnmAxnB6h6uNgAz6O6/VQktN0yHHPp/rhj3gp0iNYcxbSzsZNipVDhPs54Qeo7il4zlnuN7hqFOn+aUjsF7JJ5324ltx1Z6MRZe6PdawbIT13Vc5U/NkTyyMNuCzUwrxf0N6zc2LmfW4QVPftT4avSI1b43e6euC142mBylMTOP5C61al73eMo7z6REjLOZA03T1yokXY57RLTp4XoJuzIAFBTiYZ27iR++DlT8pKTpacvsB0WRLNElccosijtPbbc7KSM1R7Dm4ySeZ+ZiyQVHgkFnPA2ZVM2lMFdG3kiA3q7KcqAYWcQVCmJy0S87i1Hf6MKJzdW+fZRYaPycks4UYRg1of32aMPBXB2uFQm4/hJoWKnLBx3fDdIHV6rzuO0OyzcQ+Q0wI50RhErUdmUNG/J2bNZ2g2bHHjfjRWTRpshxEvIH422PKGOdgL6NLo+gTlHY5J3+sHOUcy00djiXm+t0xjAAe3QbAKJAuoznSG5muEVBtH9SNgT2aBsh09coJk4oBFbqf5Iy5HbKamxJL6PHjrU3GOp9Yh4WMwB4r+fX5WW7Wi9ljSCmajERUpVS3T9FRcJqSLlvkLdk70h3Z9ghaX9QcptxeVu6ngoUg7+hjVj3wFv7rjMxCfZIpXVI8gwz8T1/dsMmMDiDOizYhNKsprzoXtOANECUjeeKtFO3IbSH2NlyI9QrMnQFI/hPN86jw2P2L3UAPMgWzkHMzkhPlBMD9UV5sDoja2W4WylCWFpWIq6Xvkwth81yeoYfDISi/UvvrdUfAUNDvyPcXc+GjPWnyexqe1toKzTgFDHkWF8YRMBJiQnNFRINmzKkEGBGsmkWk+rEiGfOloCFZ0Cs671kuRHsGaiZDUDyKxIecpR+pOqht6qZciPSprTyCfORfngJzNOA/mgG5Mh6T/k5p6l05MxsHtMUXtqEko21J4W5Rr10YO2KD69iCbLoWaDlI3qRWE37JBlzOH3h/zuQpLQfnccthijyItbEAmv+FA2k6g+tHZyTmYO9P994Oc0K/Ik0wYaZ4MCZh9n6RQ9UWQnCAnzhNyyrS522Dj8i4jmcEjUq6PydlNkZMdsOaPKBq7Go+5TE0g6aDdEy8mpY16U6xgG/ndhdH1CaqbUPEZsskFLnWTUkFsm9kRC/FzvZBk8DYxhvso0vUEScBNJpk1mRa0o9ZDNTeQz3c7nCD8YGeDR5Zi14PU2ScEh2ovUqSOqoamszkQvqV9iVt7Js5TtrGsdWKJay+DBB5Ki89eiwa1oXWYc1OAPGhaEenaVl5Al0XXJ6jm9vGOEuBVivAytYLwWzqjnU8p5izyApNhF/+WjIJ9ZCUoD3s6kafpxE9v9WLTQaPKmjvJCEwRKcZg1epGr4W3nu08JuclaAhMTnjdIIY0hvDNIOevvRTpUQ7bWPdxv2oJOU3KHHDdZWh4Z1D9mA8kjU5oKYnPz8epvxMQt0eZ1NyIXSdN2XYtdH2COlZf7ygBnsSU8k9Vb/it5k4ugHpXC9ASIXu+6xO8RWUsaVeQbl1GUzItcJusU8Xch2FnXi6z0+X6vBGIfQXVjWxvNtNlyMsfyI21ktOO3gin7TdeivQorx1Lph/mR6xQJDyrdddeCk//VFoweoGXClnRYCekeX5GprJpCeOq5+WnXRtdn6CuU5BWjXFQavm3ABGO03aDLo5w6WpIJjWkyI6Ua99K8zPYqYyKPR4CISeo/Y9QXGLbgtB1w+5SCTKgsuZK2Jx3KY8b5GQv343cAMk5RSXIAO6EN81psBMDQk5ZiOd8SFbkZFo0ZrGXSkELbC1dRi1IOM5YNh5khI1thq6Nrk/Q5BpoRXsVYDjstSdjcM1+uNxRMltIOvAjqPCmGV5sWwTn/AE2IKQt73sEMms+B87RJJo/4g9eivQon3MdUeD3XncQzsW9nMhv2p3cHKqZANLwG0J8ipw8ZmAvIGfDybRw7L+9VB4g2cnZSyTzDwITFA5iF0cOEBRgMqYRolnhuG37+Az3TNiRSnqqTvxpGYcUg9VXkxm4RO3KzGlN7ne8ABKQN1bIjIo510M93yJ2I0MTM+IaeOvZ90sKzp6ExsBdUKYa9uT5o5F3Kdp8MtWP/z8vVSv2HDAAmsVbFpJYOHyc8DspKv4jniZD4+9CyA2CSlmqw/bhJdaN3uq3hx1kh41DZcSH15U70VVkNz2vIlMweNbpZCRMfVOmwK/aHZPnLbl1383E/edctGyrupErqWHU7SpBBgSrL4U9DEcqYsBG9cgZ/QdZIOficV97qZJRSMPILCyFRMeP1MJJ+M2Hwkv8a8NHLfPAQBdB1yeoJssSvR8dBEtIV9/F+6XQ09gWj7uTTO5lgtrOfFp4rtq9IxH8PiIj8CDq05C0MkIUu7V9yVl7C647WZGayQlS29HLqH7UnSpBBgSrryLDf7dIQu6fVBNGnqdY8xm0aHz6vaAqq/As2gQxIdqSzvtOgAQlhnvHbrxLousiBwhqrJXyFCmQinSBSMxS0nGCtG9taz8fD5eS201sNnEQqG0X1CGvmoj7I5ybrYRoalbS81TyafZVm0LOguvUO5c8crKt2jAqu60arP41mQW3C9G4MTA53dgTFI4Ok37OjDBuh3TuL+clgosjLi1byiaxjBKOpRxsGNddG12foK6mpEiiAGgBAhPLPw6RfL7+ZLkHeyGA1g1euHpecSxibb38jd+cD4fmSNUFxY5N7Bui5ouzTzau/Z0iJ099Y3Ly5GbrIkjO7BI3WANbteC30gHPEl9mM4Vnk/7V2LTdY3GE5lyBxCPU/TzEy4DLqKWcuGw4IrHg4scchzJwtCyNoGug6xNUp+R13x2BEBCPptFYFQDojqbUoVc5mozNt2IvqE1dv045HQB39mv2TWkdlDhCtZNhO17TMi+Tz7HsSVQ/Es5OFgRrboQDdrOQU7qgWFKHp1LRx+MzLu9g8LIQTb9NSdwE8nlfLYjPjc3kA3F3mWvZKIfMG/F2EXR9grqxr4nHyjNNSE4XzGFS+foxVD77cBWmNcl1eDSFK8hxkjupA/ovYXtCbYYhPblDPVJHGz95zIttC574oftuFHIyWUTiWr+mBe2QM1RzGySnZ6vyeaU4L3IP1S25MLukrhkms6Bc21COURZkKKoWyNCxvhb5zryNeRdB1ycojz27VjOkm9RnZiRGooakI94woXJVx7iMYRNUJ+Kkw90HR8MDr47UaLT0PcZrV6d7My5yq6g6Ate9Rzk2uI/sQR9+hBpG3uKlSI/QHN4uUu0HyuDNGJzmO6lu+KVZt2rkeaea+ShaTUF6x2gToeaRfkuR9XkJ+qMRBrE0Wq4KNRUeKfkrlbxciSyljMCB0o1TMnMpwr6V6zjMBaNcJQTMwuNJg/TkLh7ZlCHyMa1vTj+riT1ozfcI8lRALsgim3k111FsefZ9ONlWNQKXS78qmxgspWPh26luZDuzmWaPQWOagZsUQqqnkBMP3fLcqQWQDVwG7ucZF+R1IXR9gn503hqyNZCLO8vbsND7BtJKFaRnVa8bN9PGCfuBmG+riSQsGN0DaJ/HdlTJ3GPUpZBeRoz0pzLubucad5Lu31nIL/t64gaafUnLxrPpEKq5rsVWZXLKphHRR2AOZJ/cHKweD299Gu7hSy858bslKN3zpwOeka+jawu9gC6Nrk9QLlHdrRO1nImEGesGEaojuwhPCvsNxqITdaW/0SjsQaZ/mCRzaS9JJ9P0ooh0X5TwVFTIfvhDKeZxV2Y0WbOpfkzre+JTUVE1FufAIQJ/2RzgeaBW+B2iDdknKQer2MadinP8Qs74Q6a20YzIlBDlqJZv5wnaadD1dxSB0jExIzsV+Bzuj3Z5FaMzTFU2oCTS+bKFt6YFRLKpEaP/gKUfqkQJCE7tRq5+o6ST+ZRIa0c2kOXepxKkQbD6FxCXfwSJNWkUIr0hRmUDiCyrNivmXAAp/QDOgUOUQE5GureRpEWGcuGZXq61CvZ2gxfSpZEbBG1qrAcpvpYK/iGQ11mD4Dr5IIlVzQlBaQfE3YUK87biFufhY6ob+72kSULpGKjpPVS/JX7ym+NI+zstGv2RRKeivKo/yDAD91M7jDCUxH0kefvEFISqeP7oAxCzhpgi6dR6R5GOyzyKpumLaOH4tm9n7oLIDYJ+cN63KOy3pXAzqq5UJKTjOuVPy2QJD+yFG0YlIvpAHCKAzQi97fDnbtNLSXMukAEABpOGL+W6/1ABaWDov4f9uFvLPksyvBr+HrfJLHEran+Jc/6AfGkt/bHqRuqwU8BV7ryCPHXmRf9ryA2CMjTnL4pgmyBBslasd50WIsSRZnSlLHAkCAbp6UlC6UeNQs/b/1IBKaicexak/SgZkRIJiHzwxBFetLdwVNsGwKioHgcD9R6RmtIQ+LzEzw9A6mmsIaxwmGJOehu7CyJ3CNocfhGqcrnYiVmJF49LV7HpzktII4dqRVkSXP0UqVxpIPzhhG4zGbSSo5PA650c5xaVjqUyIISO8f5OT6mAFARrjifyP0QU0z2nToV3NmSyNb0Fs+R9+Z0DyB2CKjX/nFfIPxAdqHiX4GYngJ0j7pJiSSun8z8hKBiYKn0Bp/BcMgt2VSNZkg5faFSO/Q0ZVlvHhGdP6eZ0aFzVCZ9xCx8Gk34TIad456kRpDk4+AEX+t8gdwjK0JxZqhuInZkM4Are1OJvSY8DzW0dYWLoIBtp27fYnwJod1crJFtP3mdTpKd2vpC55ZrIjzhfzlKqW5YsceU9ncZ00o3+ar0TV0di5nGcajd3CN458sX/kAfZeDcM88J5hkNzBblF0Pox75ALA5/XoichoRJZAGUTQozUOpf0+Cfr49096YDbSzlE4LgDQaBAElFkJCgALzvAO5W0wio+ngz/TjJkmpgH6cPVv2oznKmVXEtm4YFq1n78hKQTE8IZicfZ4KXjr/j50uvgVmd9pWMXRG4RlKnlan+ULiEu/RbOdLTi2oF065g/o8g2e3sh/Luv1/2kfgtwzBWv0SFegILjnqIkeEpayZ/OA/2tqJjFO0ZfrsblE9J30qMkgU2MWPh7isWmeyE5g1wjKNGCJX+Fs/GyzHRPNKVSOdEeWhyexGuA+LoftakN90JwqLdK05akYJH0o7pHU3DW9hI0aEYflGalIrmEKMg5/I93zWuBRo5xA+4FM2FTnKKEvHYYOIf7XzV3Bi0+myfM5BRyj6CsJl3rVni7tozPc53xJ7GO26tvjhfVF/8kQMbu9RHivAhkCEgdtiTFDdnbNgr6kGucK0G6wTP2+7VI9zj4kMNcd0DLm4fLZx4K4p8o0jNJhceRiYjp0iYi5Tz+KbufhL9Co75HBeYWcpCgQMPo12AHVst0NUZ79dZh4EIy4uTrAfL/XoJc+rYtYbwb8txR3TxfRo1MvRtMAX9ap0aGac0B1KSrTWMN8xzYhG3392w5NfWB0lwzLbzz4sn5pywQdG6jBaO7/NzPdMhNgjJi0RvhLS9Xxv+PRGL9s0Tj0R/ddzKFaq6E974I94HeTlNUMhLl6wPC3Uy2C1HF3lP8YgkskckpvgKQdLSMSrn6oWm7lJJ+JmXK+04MywJJjrSy4K/5TQp/Ok3CcxBZ+mu6OL59Zi1tc9o60gMne7NzVPgPRSo5mGuafgQOY5CKvIFZdzCyNV5OwEc61t19EMS6dDsQHC0mHh8HjllaOlDzPrBGnCuLx22TkXRa4vlxpAvLAJacLjURhYfT4svS7bKSE9iEJ+6S0CDl5sIJGEKx9ZmfpqXiN/FxpXsIdq4dhr3rvR67DXBx9vLVaBF+J94jkXGczrOZ+Z1LAo6TAKCjeYunzwZci7fMkQ0jhmdfk9/F0dFS6bpg+8/wvQqC7KbmXOKR0j2VqlcHkkVPWj7CabPWOV8PCVpsy8SLc1jqzRLC0l1bnCK+nvqZhHTpk8BSOMZivNXeiN8u8Vu9qOwZ2sk8g54YkmLo5hb4kXIf+9YcSI75ImpFvQIm/ljxymaCyVKOWANsyltI8xfALkxjVHZl8F77TiFpvtvQGPslj2wBQlD84wnRjrUEdvThtPDcb1Rk7mLzICgjVMNvzXhUDTPGVWgcXHtQw3oBRKx1Ubtv7uiqqKj9PR7icjRCpQKElCpKJLxZiAPtezhGx1PDuPkqIreRu05SKr55chH1PyUKexSODROUNWG89vhbHBw/SHwC9Tv1C1r+ZPJWhl0datHd1eSE8TDMTA/yiPgt0/k0qA9rBNWPeZVDNwdsPgRlfPPkm7TN6QUg6YGqjzGVpAhjZ0czQdIzV9DyP7VuBttVcdZZBhVddyeZgStloZ4sOfGQSE7djJEVHU8No/8kcZsJNi+CMr7+099p61MKSWeScmUyUeMkBdRIj0GGcRJtfVqAig55k1a/2DUdiX2nbUVrB08DAc9TDmBig2Mpio8MYxpRcuzxtGBU9vc65SA2P4Iyvv7zK9TvdBvevdpVpIWk3kdJV43MooMoUFxJ25zyAaRv19rEIFRzElFBFZ7hMJmZL4RMaGgMfhkD6eth0oyh+pH8ZubNDilPvJmBdyzWfXejcovVVjPxx+XK5i/89vHGC9ZaVPKD5MPn3Qz7cf5UCM3dkzTtMjSgMWKOJOWb4RFVvHVnGfIOyTki89qoHMfmTVBGaO6RqPCHQNRdlCSCmpS+Uo+kXOG8AYPsrRT5GnGPwdGopvrRS7wEPwU0quDtyY0xyM5w5LWbqHTZSyqhithT5/ECfuOHHYMj1Hw+1Y39xIvdLLH5E5TBU+L0wntRuadKP2liX6nAI6s4G/g4UV4493dIp+fIdN/I+pKFH4zJJg3aZQCZ+lHIy0loMAeRXuBXy5rjfZzxPMbzJxO10cLs+yny9fVZdzPZTLBlEFRwiEkVEy+E2rwBer2XbNOtHCYV3QKWqD5IVG/uhxP7DgHs7c+HRFuI8/9N1soVtPhS3vzVY057gCe+92G9KFC2NaTgnrj4YHzzCx32IsNfqu4Tbic/vNFY5GOyneug0tMvvtsMsQUR1EPFzJ+TW3QDJNYQUZ9i4zHP4kURP+ZvHX8mfsIE4LQyKYXfHuL7jjTnNpo/9FEEtA/Z5NY/jNxIX5CN1yEhEGRsGVRIvH8cTEykE2JajSD0VHLX/Y4aJubUko0fixwb7usE1I37kOqHDCXbPh0V/66sb5J5pXFSxuH95gkgbA/yuiGZImd3J1/hrpB63oTmjsAtB0F3xDlF0iBs2MLSp5k4aSQOj5hsZ2o+G1L7z6RFj6T6YZdvaeRkbHkEjYPV5HdLDiM7CsfEelvG6hUpvAQeEjkrhAWpeFGcy3svdhRuk7J9WYWng3cTniLHuy1rZgT271Mg9LFUN+RMmj/6XZVgy8OWS1DGF1PCVD+qihpBVNc+BUR9AtJrrRCVpSpPj2sRbiAR8yhVE28K4ue2kB4BvBFF/H6u9jUcpIfA5MMgMU/33nO/RePHFPfmiWDN7nCETgRJjgN7oJqN7qJyWR3LfE9IQe4gd6K/pfoRcLg6gFD1U2QEThW1LqQHKePXdJ3l+PcOPn+laOyvGd+LtIUiT9DM0ChUNYAc/SDStf2g0oMg7nZwrnqRvydRdO0dVDfsKi9tdlTM+Rv5uh1F0dWQnfq3YPfnuNZ8kP1tSMx3qP6cnJ3x/t9GnqAdBe8CYpdsQ4a1KxklA0Gy92n+WX/zYrMjVDtKJLHV/CFp2mdE4eVweFImdOaRRx555JFHHnnkkUceeeSRRx555JFHHnnkkUceeeSRRx4dR36os7Oxy71l1KN7P3INNXOemh/p0Fh7MOgj+8Lu5PdHaP7o9V7oFo/OIyi/ptrW9ybdsnFZjVyfJhPHHdfFT17QzTN3NIq5OgUQweGEj4vfjrGRtPXv5vz4dHnNvWT4TiOKlZIe6C5zR2ONP6dF49O/LjGO4NxTSTeuRVnsgBq5huqGzPRifjwqqwaizKO0cMxSLySn0InzQfVTyVfyF9JLXySj7K+kmy+Qo7+A8L+i4F+SD+kvks/3AqTLC6jAv5JZ8iKZxTh2q3CBxD3ccxO6PY8092lITpAzikZoryfTn2mWsgdXI826mAr6VhJZX1Fsw1+8iB+P4Nxfklb8NvkK36FQ9eleaE6h8wjqOIWyfsdqWkjRteeRtf4kim44nJzInagwJMCt7Nh/yNpwCoXXHkt20ylkrbuV7IgFSVNCuh8n5zj4tdzRFb+FplhJsreoF54NwZm7kWbuT+EVa8iNjIK0/c6L+XE4ZHIBac6vkIduZBT0Rh1M8GJyCp1HUNfoK++BdOyRtGDcdFow/nlafO6ruMUCWXDGlaUba2nhuc/R+xNeovrRz1LdmOtBzgdI17uTrfHCoNyH2RfEkE2gvID2YJxJvrIAUeSX1HD2x17gj8frFEXtviwL/njVqEs5uaFY5xFU1wdAfM6nhWP/7YUoaInvLnQNqry31PvhwapFIbpQ+Vt5AbkN14D97W0+37K0IyN0aI5jKLb+UTTWGi+skzDFIXvDFRRpnACNNpIaPr7Di8gpdKIEjcHOjG76q0583/8LkvUWZCXNO9o3ezgUazqHvqz7lfe7c9EwsYkWDJ1GC8bWtnnLXY6go3rohyO+sayoGfsj0lftT/MvTt+NUv7wz0jvcQEZejnZNk6w3obTMJUWX5B5nc6+c46DM3YGTAv2gPltbh9STHuYFg9f1rJhgr8UcfoR5Gil1DDietk1zi6+CGHlkHhryW6eBy/3OXXBNBg0YyD5C8dAHZeDUqzCV8I0eZn01X+iul8mN6zg49vD6XkPja4f0uA5ncq02+gMerSCzCKeaT8A5cJLOZfD5X+JnMbHQSzeFKItQg9sR1rPEcjHwbhuMUyn1RAM7IS+QYYdIFfvTY6xC+7/GtWN/ZQGT+9Phn9HSOmjyHbW49n/4F0pGYPu7UNG76HwIQ4jJ1aG77Uoz1fIZ86md4fyW3FbUVkLv8I/jAz3Z8i3AS2xFM/5HDV8ivLr/Ebw0xLUAUGNDAQdPOsc8pXAoYotI814Dg89hHzddydr48dkRUfRgpHJbwre+8E9qbAf0tPPyWpeARNjR/J1gzOAR4qtnU/rvzySSre9BYU9jFyrjMxuAYquaSDDuIsocBuZJdvDKUGeYmg4jgtn7TxqGDVDXbwFvGfSdaQXXoN43lf09/DSoXXgfBgl3eAQvk8U/SXVjXrDS98+Qfe7q5CsrW4ms3gSrrkRjeROcTCJriBfcSEaSz1s+Um0YMx76gQPlbNPJSq4h4ziHeBoViNrdbj2lWQUbovfa0FWH/l6FaNBf0H2WhCo7Ncgz3549m4U6G1SdPUzVD8C10hB5dwxaKRT4FBFUD/NyM8glCMLE153dRPKZLKkGzSvD5nuvWQWDEf+PsTzcVfYQDi7qF/e2ML3LLkbJlLd2Z26S2Dnqfgfg+Ds8RToMQOFuYLsZYfRe2dNRuWdiEL9FhWwO3L5CB0wvdV2HVx1BBVu/RoK8WdkrTuKGkZWUGzlQIqtvlXWrDu2TTsV8EuMqiDxGlB4ICcLOncgudrlRPYDFPv2bIqAyDYvb+euHu1G2nt2X7l+HKGqO8gsvZmcaDHIdirVnXUjzR9yAxoM243rIZ32hv38ZyqvCXpnZMchk02y+z9M/h6XIZ9oFNHjcb3fUf2wG0DSE0GuMCo7RGbgSRpU1fqi2vIqSHr/bDKKdqDYmjepbthoqht6H65xFhoJzinsjmdeh/N/Q9R8Ji34ej6a1nSQ7isIB1NtmkYb5VqJCFWjoZTNQov+G238KAQCD8Y1Q2jgr0hDN3S19xO/ktx0nkS+mZyfoV4Op/ln3YnPOZDeV0rvje4/mVzkW15f3nn4aQmaTl6Hpu+JQlSqxwpPoYZrlHpbMO4zSLa3ZMMD3V9OkcIjJHzvWQNAjGrStV6onEktnu+ii7+DJLseNt2xZGpj6cWLI6j4OnIbHxbpza2c6Eui708EKX4Pp2QmrgG1TVCTFvKmbUu62/oS2WDN8XDcLgcxwd/YK7RgdOsCOZFu7jyE4zyjN869DRWTsuNDGmwcMALXHKMakfNskpTkLRRd9xnpP9X8W5Nh3iQNh6Hr55ERKJWNxTQjIR/j+Hw0QPzXzDKKNj0F1V4vqnb+sKfJtubJMud0qKyZSP6e10OrLKWVSy6mj6YoAi8Yh+tZZyD8VCqM3Cdhetl1MEcOlB1RNGsmvX9h62vFtciDaGj/lt1XzKL9iUou9WI6BT8RQePubDq3tvAiSMlStFpm0R5o1aPxuYiCVZchcpAQi1+rQtpOktynX0v+kn4UW/clGYTKSMGCkS/ReyM/9X4B0s+CL+6Lhe1YN6lVBe0UWApyfq7WqqOWdbenipiso9IvgLrDMbLlGlCnKbDtf0Bq4ZtJ48J2Kwh5MenBBNbdidJYJD/U9pourslsk/2i7ONp8OzdVbizh1qTz8d6gnmkuUi+QopV95fAZixX4R4MeX+OejZhsYf9Zm5DjjtF8uK6/5ANLBLBQ60No56h188O015V2yLdOMmTDD7IRmqtYEfMdf8pa/3lNeTuiM6Uoj8RQRMKJxGstl06TB7MdRwy/RdAmsLOM6/C93k4bwWI+zTU6UNiiLNzo+nHK7Vsfgd7lmsyO1ypHT7AB0wMTmiVdCv7cJcQRCQg0cxGYN/d+uD/YKkQqWBnjYQnIcrkRkYQb/gNSLlkgvL1EmGW7Ii8/FzehqwcxtVeTCts7RMQEZEgvhkohCZQhNP1JtVY8Ciuldwd57oBISDbjK6TbP+1PHsKosZxZBRsJdpJ43eRZoGP9oG92de7fow0m7emTIZrKYGgto3ckazAJuxblR0/rYpPrbQwv4udWEUiJ8YaqPgTqGn9IAqvHkTG1+XwDA+Cg3EabJ0LZSw5Vgi7zO0jKpnf2NHUp2P5l/tyXaVkYOMnGkrAq8SEuoxapchTkRBJ4KnaJPhRUTrUIkfho2ttpUbi7aJwVkiDpx2/Zpqs+wO4Jntu3jUdTUl0W39OSXlcUHOOprMeF3VAez3YA+n3VltF2vUUiKbZwymeiYTM6LSXOuAw1jDZ4GyNFoikSBvv302Fy12E8ecCpX2i8joFPx1BvTJPgiV6F1IMD6fp3VAONn1w3rf0rwvX0LuXQ3emdlvYfhAH6Zmgzg5I31+Ft4OW+6YvX0FilGE4qDuvRrmI9LYFzmmQEyW9kNTRPMni9cqk3krTE54F19QMkCsFmuNNrOFr4kvXlZRdv/JRsppng4T8mp0gLbMeo4raYynQbQb5e29P1sYlOGcCvX2ueEPJiGckKUPsdqt8cy9IVvALxBhIqxvsDbVtiIZPaSF1jwjs1LZS9gfiJyKoV9epCBC71rCp+OH9fth6w1VEBgQ07g+FzcOVFygjk4apiI4iQz4ECXEbmr8D41aK3aok3gAJT0RMK0QFq1EyJwo6O957l7jHyLtWIid8BvLurvJsYcBtqwZjNkvtAiG9Y4XJiv1Lwpeywzd8LNmxpxAO0mqDIPhgCunbwhb/NblNh8IDXyhpk5DQJpLxH3UPthmNg6miepAX3hZ+/VMxSxjyglrtZ+pHIqQfF3/ikH0FL7/TZk799wmqe+PSqs5cCkfx20Pd2O9RhmrrQ4udDf0C9XaLBAw8y0+hqgvFe482LwEpFohKc1hS+a5C+jNUQg8DJ/vhgU+iCqRnONzhHycfdGTJklYmlnzj4v6tbIpPC1wCSaRpz8q+9WIzugfQgKm9JS4OI7IjTiiRvJNbR6WWcnpEsuI+clWIKEPerUn03ohvEf6CbOMtFW4fTAP/WCJxcWjuTqhk2LP8ahnnn7RL0YccSpXzdsJz3kZm2THQHndS3fC9af795fiupLqht2Tse3TZJvCgtdgWuLXxN5hTcakHcumPUOVs5YTGMXjWHhScO5Gali/CddQ+qkriHiXxidCdnYXwXBYuPUeLL80hCeq424iBL0a225vM0mR1adn3QQJFpC+NHH51xRMUrJ5Kg2aOoeDsS6lkKDzEwM1Qd6bMF9XodkgZlJRIt1L8m4fKm0nls8dRaObFVLL3P3Gt68iW/bQlmXpMnKJB4r3+ulcxwOtTLBQsboy4VPPKiN2HSlwqZDEC21Jp0UQvRkEzjpfeBdfiNyFPFo+XYTXZeE6IGvDBgT0WS1Dtrns7vP6vIf2RJf8AKux2thejoLknkcFvHYk0w/yZrF4Ee5aO8x4jX/eryWnqjosMp2DV9VQ+/kJ8X0PlNb/Bs19B5VVHS+NMhAtVzo/FvHI4Tx4WjuDej5nSIc8NXTMqoL1el37RwTNGSWPwF7+Lsjtc9sHXkRdHKhBp9aMpNOsQdSGAnU5HP0Ias9O8lAz3Li+mU5BSK52EXe4NUFnfM8CLfVHo48koKlZ9hnCgraZ3EPYXPOgbNH/4PyV9cM54kOp+kBBqE+UgfZYgFT90bB1Uo3UmzR/W6gCEai9B+ttQsHA6kN5ISB9d9xlp0dOp2fqMfPowFO5FqPTBYrdKN4l7EzV+fx9JOwn8Cnm5QfwEbiB2Uz3IcCs5G56XxhCsqYTdNYvM4t2lO8m1ryHH4TcrH0ym/w44B6vJabyc6kbNlK6pit2OxvUvIF/RyZIv5n6s6XmU8jRa+91LoqqDNQfiXjNxzZ+RDR/Lda5A43gH3yeSv/RaqPDlFGu8iBaMbt2HPjjnRvKXTKbYGiaTek4GE08alzCQr/U3aIyR0Cwx0q3hiLoW99le4qwmZiIat38eNZz5MR1Y04MixmNoLKeoukH5ybaQyDOXRWxdNRU2ntfS8MpnTyCz8HYyirsjbgXK7WKU6VewAS4if/cRCPsIQmE0LRjWqW/v++8QlPvBtLIHUGLbo9DWoABZ8qkC1aAWDV8pKvop2FU8VKkgrTJwIVRbEAVaRq4JGxBqlpruS6vCglWHku47HxcNggy4n28VLv4UxZbfI532wcd2h8p5GPfGnXn/bs6AYaCCSykWuRDk0shnPog4OBay+TwcFLMHCv4rEGdCy3g4jy4FfCw9UZH6jjh/PdpCDER4Ddd5kBaNUbbnwMf9VMybz+p7Ij/Ii7AHMHuh8lGRKye2jNsPrt2aTDg1pJ+EbIFA+kYkZ5vlJTzvQ21fLQOvPWhdDol2FQjRS2xHUAj30FEGYCzIxV1GPvhdsXV34VrTQbJHQCA8l3TUIjlYpxdAAtsP0Pwhs/kCMrK1cbdzET0C19oZISbK/DMcP0h1I9vOruIRLd2YgOc5HNfsju8NKF9uZY9TbOMjnTaXNQH/HYL+GOw+qxcVxkrgCq0WW7A9DJzWE85TKW0IrKGlnbKWJ96UksHq0+jZF2oxQFpkVYYJHenPzXbNsn59yIEKCK9bmfW1MuUzj5YRNM18mig8FyZAE7xl2KuBbXDl4bjDqSL97NgiWrdqP5HW6ZEmL5D+g3v3I6u7Trs/u5yeeALiPwvYdvYVK5u8cf3yLPf60eh6BM0jBSBP5YBryCi7GYrgOThGp3gRrRBJuMvfoWoPhhnwLu1UcKCyX3Mf7D3k0ZVRsfthsJFvwRGEid06ayoR7OyRCweFbVP95c2FnIw8Qbs6NKenOEYWtL+jDaW94NykYtA9u4Kcp1Pk+6UU1mH7bz7ofBUfqtlZungWjvrCC8njx6ACNjmZL0tPBPdCuNZ78ITup0j0IzIDGvy+Sjg/14K9YXKbhtB8z2nbTPDjCVpedRDpOtSQthU8ul1htAdRVg9Q/aiOvQEjj/bBgxSBgnug4o8lsxvPXVUdE65jk+ZbDXLOpeg3v5Xei80MnUHQC8lXdBFKiydy4IoBNPD1rTOxOwuhqt1w7dtROT6yo6gd3MwshInSfB+9N/JNlagdhGpuIN23N87njr8AmSXF5EZfp/ln3eql6MrQaHA1hIG5D9Q+z+qCxLSXEq19i+ov2mzfEtI5Kp5HE9wDn4fKOVrsJTt8IyToFC+2cxCs6U2aORQ5Pop0PzxZ7qAvRmNY8wLVjTgRKdJ177SiYlaIKDCfjAI8M0ugxlWQ9g+THXmDGka87KX634AHNvz9XfpoiDfonUccneMkNTwCiaR/DsaAJtl58oPRMHIV1Q99gOqGnkp2Y72M1ESh0VztCJC3wkuVBb7zhZw8GiOvJbR+S/PP+M3/nJy8XKTHVi9RQXiwF5JHAjrTiwc7GZ0jlLPCdXnUCN8O7urnge1zvZj0GPTorpCvp8riMskmGpHuppmE/BOjvHoEmf6XYHYcguf5CQou99B5BOXhPy7jhAk0/x1MNmF/FZMVfh3mxFo1K9w9k/ZOmY2TCLNwEunG/0FqvkIG+Mzktul/u5NJ8PFu8MDvhE3Zi+zmCJkuD3XmkYIf3mp3u7KUug/ah1z/djDaV5EVOR823ekgQnYblIfJSvocAiHWmxz9C1r3xju09P6OD5XxG9+MbvPJik1DBR8Dkh6nhvgiuOeItvfkZSJu2YdkWdcg0b5w6M4VyWs1XUILxt3rpWoLXlWp+weRwW975UkRqxa1WQOfCJ7d7u/9c9i2H9Dis9fKWnNf331RwgZF1ta3WdtfPjOIfD8PgvaDoxbF85yK7/cpYGhU+PUK1fmegEGz96FAYC+yQWR7w2JaeF76OZf7TetJVmB3+s5eQF+cHaby2fuSUdiHIstebTOUGpqxM7kFvWE+zWdbiSr+fDS5jWGqH/u6l6IVMrehOIh0MOfWfUh1E3gqoFq2EynrQZF1rXVYaGqklZlkr/pWpjQ27t4fwsGiaNghX9ggX3edCrfFMx6W/IxpsOkEDd6Glr8DvHbf2chsEa6A2ta3VYuqcD9faWaChmqGkV7wa0haMMrphvN47fg/yYldoQqpAwhO7U1690XkWleQA0/c558pZebw+y+tCpljmohQzXUg8aXkrNsF2Z1KZsFQUfFW05UgaOtklTgqHhtEWul1SHACab5P5BlJH4A8foqbzKCij+9qIU+w+hek66cizXbkGuV4rl7kbjiAqKgC5L4d991ardPRl6FMLpGFaIzQ3JsQfynZ61mKqzrQ/Ouh6nkEqJkijUfT4nGKAKFHIQCKcC06EoW7Ct974FlXkxu+l+pH/xYpXArNOQ5fMBOs7XHdCoQEKPz5PlSw82jE/x5aI0BOeBbZ6y4mvew0cux9kH4XEPcA5O8tctYPI61kOmz04TCfLKS9BPWnOvwr7u9F1JdHsk5DY1oF238PZLaRtNjDVLDkWmre7WByzRnQYrgHLy4DeAKL5n5DTuNpFPZHqMB4EufwO/ajiCtBuvfJ2ji8I5NLNk3Fsy1n7PRX8vVChu1PUenHkPXFYGTkYlxqo0jPTCiv+g35e8wBsZZRZM1B1Lz6AJBkIQh9EM57UrqROoQCEIbn19kwKTY8Dcm5UiSiHtiJHPNML5ECS2vNvACVUeVN7uBdQVBW+Kd2L01GZe0JkBKvkFlyFirij2St+gVZSytBLhC7EM9edBukwQyZucTQ9W1A4qFkFA8lHRXgRAPSCHTzN3jOTyFNv8c3p9wRZskMkVgCezFp9s24wBqZ4kY6Ejn3I/xaPMt1VGx9KclYahk9XpTeC6vxHFq3dF+KbbwK9+0JKTSFKmp+Lek0YxdU/Dlklg4HQXcBAdaTf7txZBbfi3AQhzv46TgK8wRWLYSwXyHuROSzJxpeM2nFd1JBv+GSzgiYICn3ikD71G4FGfI8iDwR0v1yWrt0P5hW5yCfJdBiV6As7qKNS97ENUaTjUZjFO6Ea6MerAKKxSZR3bKV9K8RayH1obViH1Og5064zvPkNE+kRV9m1kYJ6DhB94Sq9BU+SWbZ/hT5bjFt/G4I1Z/7ATVcsYrqxtyHQvFmoHvpEzG4ahT5u91E0XXfk73mPGk570/4HAV9G/HmG0bhNuQYV3ips8NyS2FS+FApGz3SPQNy4ouFj3Me7fIC/1Ao6jkEFbI1WdFp8luTaXUeWHUngF/D7eozIeF7UWTl+9T4CTz8iU2yTt/dcBlF138g09zMojFUbKu133UjHkdjOw7aYx0qCdfXC0H+9ym86iCqG3YoyuRYFMhyOc8IQBL5T5bz6kf+mZqX/RHE2yDZ0HQbFVhN84dNpbqhs2RtEduoeqAGRBoIG/UG2S1wydUbaMHYO0CShaKtXPcqadh1Q+6Haj4T6WIyJMoSXdMvp9j6qZBUf/ccw5n04Tn/Qb54R5ObpFHHUHy6eTTSHkrh5Xfjmv+HuEaEPSDLpG1nFvl67Idnvx/Sulrdf8xMpHsJ6fiak6jgZ4Oh/d4UAjsRF98It9EoeCkPrymDU7Jg+GcQCBHU/zJaueRC2fOgg9vkdJyghUW/gQTZUybZkjOTPprEB63Q9Q1yuVSjgYfqdG0KCgHPY79F659eLfNFeatsK4KKAbH4o7uHtVkCkQ4+mAa8FsiVfZhwP1SsHbVV6/cHqdtqkALgGT6afgkk2AutO+6xOItnMIWgRFeCRLCLUfC68Tf6aEprnyQTlXSoKTyDhUPX/hUNfKyfxBmFULfUpC6nbSS78a6WjQ0Wjq2HafeCLFHhluvqO0g4w9y5DM8B5nCL5jmr/uSVBrp9PiRiORpLDOR9g/pPLqJ9/tCdgnfyNDfuK8M1SqAh6CB1graCHHa0kEfDLEP47bDJzydf4CQQ90CqM2C2eNC1/zBv0MjxA9+2PQoqHQTTDqdwIxrX8OchVYehcRwDYcR5eY12mFxAe/2uh3xcSH6Gr4RvdrAc913LO70sEH/AKIQZ6MKU8jB4GswrNAQ7+kCbNfjtADfoAAZX74DCHCp2po1600gt5kqEk0ZlMlzzKBBnZ4ryWi86hHqe8y/Seyyi7lstQvh0SBkH5IKaMT6k9SBse3CJJ936QCJllBd9/jZu/o5IUZkV7nU5NQ04AqTZC5xUu2MwXENdnzmh8ZCXh70f7IuSOAqqXMU5dtt5BFpssUhptil139ZUqO+rwiHNeRtzBRgO/lLv2IMLNe8dZi1ttlU9HPIYGqA9ROYau5YBwVBN2w1cTP7+i6AQFiEfh6AuopDaK8AGOHAMF1oFX9xQbAv234Y5EsybfzWMeosocYaTrK/BF68hct+iBaPVLHieP/H+WF58ByfHhD2KU8Ss9N9HW/38fSrYaSE+fP/T0RCjsLJWoTGosuKdXMidK6QXOaCfJFKY4Ss+CeXdRMbaavm9CegYQcndBxlGy+VnhC5zeA+UdIjXRAI0fbBkmsvEdd9GK38ERv7dkLg34u5wtKyD4d1VUOOqkfQVLzVuD5wPQHPUpg2yrsg3W8ipbPQjqbx6L9xzIvK5mEo+S9i4VbMUOeWHsiMZRaXbQoj1loLlBA4Ksw1YQtmeiSANYUd13C7gMHhHLUuZGXwL/hkPShDoYf92uAE8bNaQBghu86ZmD+IHbH/jcoQfj2rYn5yVlTAzXlQnJUDHc8bs7HUbvy0vG0xFxf090RB/LgSV2f72LHwehuS8FUS7BhL3VJTFART+Hvcf8oQ6iaE9iTpYo/JNg4m6q8EHV4cTZj+ZtKtLB9FBgvpQeihlHiVyUeCyzCAF8SslVIEHpbZl9aO2kOqH3kkNw+6XZQfzRz5NDWe/JR5rqsmQCVoAEgoVYIsRpKDD/rXD30hDIF4KbE9HXo+FZL6/TXeNZFAYo6QIw+HFZXF1izjNSVa3DAe6X9Oi+HgByvsRxIPaQ9p0HJgSwYv7eM6BOHNmjKLf3EXzh/4B9uk0lN882HB/owXnLGgzBt9a9hoFnA7ULU7grStSETUhwWXHPZQtl2kjbOPhd1P9kEeQjzm0aNxfZQ8n9iPEVvBQP/L/UO5/E8dP8+Nf9CiZ3eZqu1MMgukHoGME1W2lHpigRgGf43mjKWBTqk0luEoaSYc6d5VM7tg9M8G1eFsaHYRsVVnvyZLep+DBqvv4SirR4r9Fwf7JS5EM4WFCl4PjR6vXIH49shi+bVREAkyoUNcBqRHPkkUjGPodBN+vtRrTAJG8aUMcVhh2FBqA8un6k68/yq2T4T1qGvmJZy3jyoqIJNQDEDBFx3kx7cNxHleSFx82m1y6DN+LaOHINLuetI8OEtT6CIW1XtSokqKjvJgEoED5geVQbAEF21okD8renWZWUnDX5KW2cVR4Tke7cHghng67LLloba0KEjOqzCvOCDzy1HVDvBNIHG7Cs69dsQzX/FA5M8i6Y1ciQfxpFGx/T1zTLzaea39JjpG8cVlWAnrg9fJx8FbhLCJVeSIvCTaoWfolwpahvJBEhz2oX0bb3uUt5UwA96zwwAVDM+RCAi6ZzKubVD44KT9iOgY0fLIa5fiRMsvQSHRjEg2c522slgBeD5a4LSZDD/8d5sen8ly2cwAE7IUUjT6MGC9zm4aOEZRXGWr6Uyg4PDwEom4cS6E5N4inrMBV30e1HEFrYRrrXiQ38n+yvpzwsJp+D2zEX9E+M7cRT758xr5U+fhfyC38nTqhHWj0MxSwDqme/MALltShUP6J1o+CaV4LKVTrxSTAVfkVniSocVn0pd8vxcE71uloSOXVygmKQ6egDJOKM0YPyeQVhm3BwQMl4nTW4ttwxKF5Q8D4JNp7BRYaNP/Ex+A3nARaJ4uwY6NrtXI/dpR082Dq338e8TLo3W4vpb0e2ZYq50yiwrI3SStQ/ceajvu0OGu4pt5qAqXChUaM55fNpTaYAsfVrREriHtHNHNPKrKfpvI5B0md7f5wfwrNG0XF3d+mWACNOQEsFDTeSwoN2SjAP30prvWsF7vJ6BhBGQHjBniOH6vF/kw0mkKNA16mUO2DVDHvFfw+UtSrGMjaL6nyz3NlaTAPD7p0JcJQgGybuLzs+F7y6XXUvfcC8vd8F8QKotWBIBmhSXdVee1YPHUlBBko4Z4vHd/c/SGQQq2WjQ9c5zladE7rFoy8q3Fl1X7Iw0FCCGlI7uGSv3jXVsOIORQL3yc7aBhFBWiEd1MliMDYc+ruKKoL1PS+xnm00tuLn71Uw/cLZK+Xem7Y2w7vMeqZMZWoTJwtxyJAnEFqZAbwf7YaEkytI2ISkH0jBef8gfZ98kkKPXEcha0HyGp6DeWDeNa4Jjxh+w0q3aaeCkr/RUYZysuFOg1/oPos6UBIdzwLNzDaCmkOlWl8nKtE7MY7CmrIM1s4nGd3dwpN340OeTUubBSaP5lLVvMT5Of9yZA/3TgIXH6NuvVsoNJu75O/tArnv04rrbe8M1rh8hY9EUsamEuz6f0x2eR5VnScoG8N+ZKs2Elkx57BafxWDhRyr0NhDI9DobyAh35FSVjrCzz1YqgGLhyF+lHw7iLDUCgfitpi1eHrzvun/4ys6FMUWbd/S1dHOuxb2xct5AUyeNtp14+CY8/9KtJK66nvgMu9VFyRf6HYhtfR8h/1QkgIbPevJtfHe29uj3zAwYryjiL9UOgvUVGPF2jPWrWl4YKRF0PyXoo0n5FZsj+80Peo8k8vIM0/0ChMstbeSOtWjZUxbq58vWw2wueAnAbKxcK3A03xGFUOHEd731FM7lbPgh4ngGiW5Nnl9eR9/kn7PDZInDfZJMJaiQaB8uiG8vBdiHKDKWV9JpUaXTtUNg3TfMo+NssC+AxAOa5DmY2jumHXS761MmgL7SFIfzwb54PZp1dRj63eooqa/SQNIzR3Tyot/SeefSxZjchTGGm1XUkrfpMav33ca1AK3A+8sWk8ygINwbcBUhH3L9HJ320X1J9F0e8vgdM2UcqiDcK8we8iSP8onm+uF/iDkNy6OorgnENJ13kiRBQF+KyMDFTM4R2QC6l5Yx19cB53VLe1OQbe1ZNK+h2MQuENqGKojHp5+VV74H7BJl8lxSLcP4fmDHvNgTrzdy8gZ+PXSe8XCk4uooYprd1EvFXh0lglJAX3LSYXpo5WZsM5WeO8l1TQbNsFivYnwxwIIVOI54SaWvsq1JcaghTguqHwviC+HxLQU6fIl6+0EPn8kvTmL0grOQCNxoG9CZXD/aeGjgZdSKa5AGpc7VzHL2jwlRwJde/A8Xsl7buSKmpDIAhvaNGNLGMZOStebV3eATMruCvMEThxTgT5gJZi8LY3fn+Aok0LW8a8ecGdXwshL814LohatntZq/kKyYBadBrfwTMmGMMeBs/cm8wClKHTE1bS1yDna1lfbMGomPt35DdMdSNO8ELyyKOLgIdfQ/PWUbC67Rr+TUTHVXweeXQUmv9m/P+evv22dT/9H4g8QfPoPPAsr1DtTTBzzoSjVNWxkcHsyBM0j84BdxsW28+TWfQbiq6OwrZ/0ov5UcgTNI/Ogc+3B/nKjpKuRKJFtGvBBxL+I9E63JdHHj8GvpO+oYKYn3T/1mTbf6RXhrZ9zU4eefzPwfNF88gjjzzyyCOPPPLII4888sgjjzzyyCOPPPLII4/NAUT/D/k5OV4iFNNYAAAAAElFTkSuQmCC)"
   ]
  },
  {
   "cell_type": "markdown",
   "metadata": {
    "id": "b3d0b781-0da5-4c6a-a76a-c6c0837bae05"
   },
   "source": [
    "## Proyecto Integrador\n",
    "## Smart Travel Assistant: Optimizando la Experiencia de Viaje con IA\n",
    "## Avance 2"
   ]
  },
  {
   "cell_type": "markdown",
   "metadata": {
    "id": "18dd3d13-d70f-4c28-894b-159fb9f0f7f6"
   },
   "source": [
    "### Equipo 37\n",
    "##### A00759664 - Joel Orlando Hernández Ramos\n",
    "##### A01793486 - Juan Carlos Alvarado Carricarte\n",
    "##### A00260430 - Juan Carlos Romo Cárdenas\n"
   ]
  },
  {
   "cell_type": "markdown",
   "metadata": {
    "id": "wiPf8lTteLm1"
   },
   "source": [
    "## **Descripción del Proyecto**"
   ]
  },
  {
   "cell_type": "markdown",
   "metadata": {
    "id": "XqZeUJCEefQ3"
   },
   "source": [
    "Este proyecto se propone desarrollar un asistente de inteligencia artificial integrado en una plataforma de traveltech, que facilita la elección personalizada de hoteles y destinos para los usuarios. Utilizando la función \"knowledge base\" de Amazon Bedrock, el sistema integrará una extensa base de datos con información detallada sobre más de 2 millones de hoteles. Para este efecto  \n",
    "\n",
    "El objetivo principal de este proyecto es transformar la experiencia de planificación de viajes, haciendo que sea más intuitiva, personalizada y respaldada por datos. Las metas específicas incluyen mejorar la satisfacción del cliente mediante recomendaciones precisas y personalizadas, reducir el tiempo necesario para planificar un viaje y aumentar la eficiencia del proceso de selección de destinos y hoteles.\n",
    "\n",
    "El asistente empleará modelos avanzados de sistemas de recomendación, potenciados por un modelo de lenguaje de aprendizaje profundo (LLM), para sugerir itinerarios personalizados y ofrecer asistencia general en la planificación de viajes. Las recomendaciones incluirán referencias detalladas a los hoteles disponibles en nuestra base de datos, asegurando que los usuarios reciban opciones que no solo se ajustan a sus preferencias personales, sino que también maximizan la calidad y la relevancia de la información proporcionada."
   ]
  },
  {
   "cell_type": "markdown",
   "metadata": {
    "id": "b8af6127-cc07-4a20-8fea-57ed0d56a355"
   },
   "source": [
    "## **Cargando Conjunto de Datos**"
   ]
  },
  {
   "cell_type": "code",
   "execution_count": 1,
   "metadata": {
    "id": "7f538ba7-a747-42b5-9481-38084383bf8f"
   },
   "outputs": [],
   "source": [
    "# Importando librerias requeridas\n",
    "import re\n",
    "import json\n",
    "import uuid\n",
    "import pyarrow.parquet as pq\n",
    "import pandas as pd\n",
    "import numpy as np\n",
    "import seaborn as sns\n"
   ]
  },
  {
   "cell_type": "code",
   "execution_count": 2,
   "metadata": {},
   "outputs": [],
   "source": [
    "DATA_SET = '../hotel-dataset'\n",
    "DATA_SOURCE = '../hotel-data-source'"
   ]
  },
  {
   "cell_type": "code",
   "execution_count": 3,
   "metadata": {
    "id": "0d6d5eee-596e-4bb8-a3c9-919ce176fe7b"
   },
   "outputs": [],
   "source": [
    "# Cargando conjunto de datos de hoteles como un Dataset multi-parte de Apache Parquet\n",
    "dataset = pq.ParquetDataset(DATA_SET)\n",
    "table = dataset.read()"
   ]
  },
  {
   "cell_type": "code",
   "execution_count": 4,
   "metadata": {
    "id": "db71dd2d-591e-479a-b0b9-d4a44dc728d5"
   },
   "outputs": [],
   "source": [
    "# Creando un Dataframe de Pandas para el analisis\n",
    "dataframe = table.to_pandas()\n"
   ]
  },
  {
   "cell_type": "code",
   "execution_count": 5,
   "metadata": {
    "colab": {
     "base_uri": "https://localhost:8080/"
    },
    "id": "TDJVMazBYYjx",
    "outputId": "be989558-4680-4a6a-b6ab-f4f47c0f4555"
   },
   "outputs": [
    {
     "data": {
      "text/plain": [
       "(1093095, 14)"
      ]
     },
     "execution_count": 5,
     "metadata": {},
     "output_type": "execute_result"
    }
   ],
   "source": [
    "#Corroboramos el tamaño de nuestro DataFrame para tenerlo como referencia.\n",
    "dataframe.shape"
   ]
  },
  {
   "cell_type": "markdown",
   "metadata": {
    "id": "AZPS1fw-gaD1"
   },
   "source": [
    "## **Limpieza y Preparación de los Datos**"
   ]
  },
  {
   "cell_type": "markdown",
   "metadata": {
    "id": "YfaK_KY2glxe"
   },
   "source": [
    "Hasta el momento, solamente se conoce que se cuenta con un conjunto de datos con más de 1,093,000 entradas y 14 dimensiones o columnas.\n"
   ]
  },
  {
   "cell_type": "markdown",
   "metadata": {
    "id": "VqoEcysJteLT"
   },
   "source": [
    "Las columnas incluyen valores como la descripción del hotel, el número de estrellas del hotel, la dirección del hotel, el código del país donde se localiza el hotel y sus coordenadas geográficas, entre otras.\n",
    "\n",
    "Para crear la base de conocimientos en AWS Bedrock, preliminarmente, se esperan usar los siguientes campos o columnas:\n",
    "* Nombre del hotel\n",
    "* Descripción del hotel\n",
    "* Nombre de la ciudad donde se ubica el hotel\n",
    "* Código del país donde se ubica el hotel\n",
    "* Nivel del hotel (rating)\n",
    "\n",
    "Otras piezas de información que se podrían usar incluyen:\n",
    "* Longitud y Latitud\n",
    "\n",
    "La decisión final dependerá del análisis que se realice en este entregable.\n"
   ]
  },
  {
   "cell_type": "code",
   "execution_count": 6,
   "metadata": {},
   "outputs": [],
   "source": [
    "dataframe = dataframe.drop(['uuid','match_id','match_confidence_score'], axis=1)"
   ]
  },
  {
   "cell_type": "markdown",
   "metadata": {
    "id": "n3g-dZI0lGii"
   },
   "source": [
    "Uno de los parámetros importantes para crear una base de conocimiento para RAG es el tamaño del texto en caracteres, o ***chunk size***. Para este efecto, se agregará una nueva columna con el tamaño de la descripción del hotel en caracteres."
   ]
  },
  {
   "cell_type": "code",
   "execution_count": 7,
   "metadata": {
    "id": "qjKwCiVklGOe"
   },
   "outputs": [],
   "source": [
    "# Calculando el tamaño en caracteres de la descripción del hotel\n",
    "dataframe['DescLength'] = dataframe['Description'].str.len()\n"
   ]
  },
  {
   "cell_type": "code",
   "execution_count": 8,
   "metadata": {},
   "outputs": [
    {
     "data": {
      "text/html": [
       "<div>\n",
       "<style scoped>\n",
       "    .dataframe tbody tr th:only-of-type {\n",
       "        vertical-align: middle;\n",
       "    }\n",
       "\n",
       "    .dataframe tbody tr th {\n",
       "        vertical-align: top;\n",
       "    }\n",
       "\n",
       "    .dataframe thead th {\n",
       "        text-align: right;\n",
       "    }\n",
       "</style>\n",
       "<table border=\"1\" class=\"dataframe\">\n",
       "  <thead>\n",
       "    <tr style=\"text-align: right;\">\n",
       "      <th></th>\n",
       "      <th>HotelCode</th>\n",
       "      <th>HotelName</th>\n",
       "      <th>Description</th>\n",
       "      <th>Address</th>\n",
       "      <th>Pincode</th>\n",
       "      <th>CountryCode</th>\n",
       "      <th>PhoneNumber</th>\n",
       "      <th>CityName</th>\n",
       "      <th>Longitude</th>\n",
       "      <th>Latitude</th>\n",
       "      <th>HotelRating</th>\n",
       "      <th>DescLength</th>\n",
       "    </tr>\n",
       "  </thead>\n",
       "  <tbody>\n",
       "    <tr>\n",
       "      <th>count</th>\n",
       "      <td>1093095</td>\n",
       "      <td>1093095</td>\n",
       "      <td>1093095</td>\n",
       "      <td>1093095</td>\n",
       "      <td>1093095</td>\n",
       "      <td>1093095</td>\n",
       "      <td>742223</td>\n",
       "      <td>1093095</td>\n",
       "      <td>1090879</td>\n",
       "      <td>1093095</td>\n",
       "      <td>1.093052e+06</td>\n",
       "      <td>1.093095e+06</td>\n",
       "    </tr>\n",
       "    <tr>\n",
       "      <th>unique</th>\n",
       "      <td>1093095</td>\n",
       "      <td>994885</td>\n",
       "      <td>1025518</td>\n",
       "      <td>1060951</td>\n",
       "      <td>178491</td>\n",
       "      <td>441</td>\n",
       "      <td>612681</td>\n",
       "      <td>100184</td>\n",
       "      <td>1009164</td>\n",
       "      <td>980655</td>\n",
       "      <td>NaN</td>\n",
       "      <td>NaN</td>\n",
       "    </tr>\n",
       "    <tr>\n",
       "      <th>top</th>\n",
       "      <td>1688289</td>\n",
       "      <td>quality inn</td>\n",
       "      <td>&lt;br/&gt;&lt;b&gt;Disclaimer notification: Amenities are...</td>\n",
       "      <td>510 gulf shore drive, , destin, 32541, usa</td>\n",
       "      <td></td>\n",
       "      <td>US</td>\n",
       "      <td>91-93-13931393</td>\n",
       "      <td>Rome</td>\n",
       "      <td>-86.49782</td>\n",
       "      <td></td>\n",
       "      <td>NaN</td>\n",
       "      <td>NaN</td>\n",
       "    </tr>\n",
       "    <tr>\n",
       "      <th>freq</th>\n",
       "      <td>1</td>\n",
       "      <td>373</td>\n",
       "      <td>62806</td>\n",
       "      <td>94</td>\n",
       "      <td>40804</td>\n",
       "      <td>116324</td>\n",
       "      <td>6690</td>\n",
       "      <td>7937</td>\n",
       "      <td>94</td>\n",
       "      <td>2217</td>\n",
       "      <td>NaN</td>\n",
       "      <td>NaN</td>\n",
       "    </tr>\n",
       "    <tr>\n",
       "      <th>mean</th>\n",
       "      <td>NaN</td>\n",
       "      <td>NaN</td>\n",
       "      <td>NaN</td>\n",
       "      <td>NaN</td>\n",
       "      <td>NaN</td>\n",
       "      <td>NaN</td>\n",
       "      <td>NaN</td>\n",
       "      <td>NaN</td>\n",
       "      <td>NaN</td>\n",
       "      <td>NaN</td>\n",
       "      <td>4.772850e+01</td>\n",
       "      <td>1.356845e+03</td>\n",
       "    </tr>\n",
       "    <tr>\n",
       "      <th>std</th>\n",
       "      <td>NaN</td>\n",
       "      <td>NaN</td>\n",
       "      <td>NaN</td>\n",
       "      <td>NaN</td>\n",
       "      <td>NaN</td>\n",
       "      <td>NaN</td>\n",
       "      <td>NaN</td>\n",
       "      <td>NaN</td>\n",
       "      <td>NaN</td>\n",
       "      <td>NaN</td>\n",
       "      <td>4.784483e+04</td>\n",
       "      <td>5.874179e+02</td>\n",
       "    </tr>\n",
       "    <tr>\n",
       "      <th>min</th>\n",
       "      <td>NaN</td>\n",
       "      <td>NaN</td>\n",
       "      <td>NaN</td>\n",
       "      <td>NaN</td>\n",
       "      <td>NaN</td>\n",
       "      <td>NaN</td>\n",
       "      <td>NaN</td>\n",
       "      <td>NaN</td>\n",
       "      <td>NaN</td>\n",
       "      <td>NaN</td>\n",
       "      <td>0.000000e+00</td>\n",
       "      <td>0.000000e+00</td>\n",
       "    </tr>\n",
       "    <tr>\n",
       "      <th>25%</th>\n",
       "      <td>NaN</td>\n",
       "      <td>NaN</td>\n",
       "      <td>NaN</td>\n",
       "      <td>NaN</td>\n",
       "      <td>NaN</td>\n",
       "      <td>NaN</td>\n",
       "      <td>NaN</td>\n",
       "      <td>NaN</td>\n",
       "      <td>NaN</td>\n",
       "      <td>NaN</td>\n",
       "      <td>0.000000e+00</td>\n",
       "      <td>9.770000e+02</td>\n",
       "    </tr>\n",
       "    <tr>\n",
       "      <th>50%</th>\n",
       "      <td>NaN</td>\n",
       "      <td>NaN</td>\n",
       "      <td>NaN</td>\n",
       "      <td>NaN</td>\n",
       "      <td>NaN</td>\n",
       "      <td>NaN</td>\n",
       "      <td>NaN</td>\n",
       "      <td>NaN</td>\n",
       "      <td>NaN</td>\n",
       "      <td>NaN</td>\n",
       "      <td>2.000000e+00</td>\n",
       "      <td>1.383000e+03</td>\n",
       "    </tr>\n",
       "    <tr>\n",
       "      <th>75%</th>\n",
       "      <td>NaN</td>\n",
       "      <td>NaN</td>\n",
       "      <td>NaN</td>\n",
       "      <td>NaN</td>\n",
       "      <td>NaN</td>\n",
       "      <td>NaN</td>\n",
       "      <td>NaN</td>\n",
       "      <td>NaN</td>\n",
       "      <td>NaN</td>\n",
       "      <td>NaN</td>\n",
       "      <td>3.000000e+00</td>\n",
       "      <td>1.750000e+03</td>\n",
       "    </tr>\n",
       "    <tr>\n",
       "      <th>max</th>\n",
       "      <td>NaN</td>\n",
       "      <td>NaN</td>\n",
       "      <td>NaN</td>\n",
       "      <td>NaN</td>\n",
       "      <td>NaN</td>\n",
       "      <td>NaN</td>\n",
       "      <td>NaN</td>\n",
       "      <td>NaN</td>\n",
       "      <td>NaN</td>\n",
       "      <td>NaN</td>\n",
       "      <td>5.002136e+07</td>\n",
       "      <td>1.959800e+04</td>\n",
       "    </tr>\n",
       "  </tbody>\n",
       "</table>\n",
       "</div>"
      ],
      "text/plain": [
       "       HotelCode    HotelName  \\\n",
       "count    1093095      1093095   \n",
       "unique   1093095       994885   \n",
       "top      1688289  quality inn   \n",
       "freq           1          373   \n",
       "mean         NaN          NaN   \n",
       "std          NaN          NaN   \n",
       "min          NaN          NaN   \n",
       "25%          NaN          NaN   \n",
       "50%          NaN          NaN   \n",
       "75%          NaN          NaN   \n",
       "max          NaN          NaN   \n",
       "\n",
       "                                              Description  \\\n",
       "count                                             1093095   \n",
       "unique                                            1025518   \n",
       "top     <br/><b>Disclaimer notification: Amenities are...   \n",
       "freq                                                62806   \n",
       "mean                                                  NaN   \n",
       "std                                                   NaN   \n",
       "min                                                   NaN   \n",
       "25%                                                   NaN   \n",
       "50%                                                   NaN   \n",
       "75%                                                   NaN   \n",
       "max                                                   NaN   \n",
       "\n",
       "                                           Address  Pincode CountryCode  \\\n",
       "count                                      1093095  1093095     1093095   \n",
       "unique                                     1060951   178491         441   \n",
       "top     510 gulf shore drive, , destin, 32541, usa                   US   \n",
       "freq                                            94    40804      116324   \n",
       "mean                                           NaN      NaN         NaN   \n",
       "std                                            NaN      NaN         NaN   \n",
       "min                                            NaN      NaN         NaN   \n",
       "25%                                            NaN      NaN         NaN   \n",
       "50%                                            NaN      NaN         NaN   \n",
       "75%                                            NaN      NaN         NaN   \n",
       "max                                            NaN      NaN         NaN   \n",
       "\n",
       "           PhoneNumber CityName  Longitude Latitude   HotelRating  \\\n",
       "count           742223  1093095    1090879  1093095  1.093052e+06   \n",
       "unique          612681   100184    1009164   980655           NaN   \n",
       "top     91-93-13931393     Rome  -86.49782                    NaN   \n",
       "freq              6690     7937         94     2217           NaN   \n",
       "mean               NaN      NaN        NaN      NaN  4.772850e+01   \n",
       "std                NaN      NaN        NaN      NaN  4.784483e+04   \n",
       "min                NaN      NaN        NaN      NaN  0.000000e+00   \n",
       "25%                NaN      NaN        NaN      NaN  0.000000e+00   \n",
       "50%                NaN      NaN        NaN      NaN  2.000000e+00   \n",
       "75%                NaN      NaN        NaN      NaN  3.000000e+00   \n",
       "max                NaN      NaN        NaN      NaN  5.002136e+07   \n",
       "\n",
       "          DescLength  \n",
       "count   1.093095e+06  \n",
       "unique           NaN  \n",
       "top              NaN  \n",
       "freq             NaN  \n",
       "mean    1.356845e+03  \n",
       "std     5.874179e+02  \n",
       "min     0.000000e+00  \n",
       "25%     9.770000e+02  \n",
       "50%     1.383000e+03  \n",
       "75%     1.750000e+03  \n",
       "max     1.959800e+04  "
      ]
     },
     "execution_count": 8,
     "metadata": {},
     "output_type": "execute_result"
    }
   ],
   "source": [
    "dataframe.describe(include='all')"
   ]
  },
  {
   "cell_type": "markdown",
   "metadata": {
    "id": "pMILPh9AuyFT"
   },
   "source": [
    "\n",
    "La descripción extendida de los datos almacenados en el conjunto de datos indica que:\n",
    "\n",
    "* Hay 1,093,095 registros con 14 columnas.\n",
    "* Las columnas PhoneNumber y Longitude tienen valores ausentes.\n",
    "* El nivel promedio de estrellas de los hoteles es por encima de 4 estrellas, de acuerdo a la media de HotelRating.\n",
    "* El tamaño promedio en caracteres de la descripción de un hotel es 1,356, de acuerdo a la media de DescLength, aunque hay descripciones vacías basadas en el valor mínimo de cero (0) de la misma columna.\n"
   ]
  },
  {
   "cell_type": "markdown",
   "metadata": {
    "id": "ztaXvWXqyAt0"
   },
   "source": [
    "### **Reemplazo de Datos Incorrectos y Faltantes**"
   ]
  },
  {
   "cell_type": "markdown",
   "metadata": {
    "id": "5e5ugghwDq3o"
   },
   "source": [
    "Un hallazgo importante de la fase anterior es que, en los registros donde el valor de longitud no está presente, la latitud tampoco presenta un valor, aun cuando el análisis de valores ausentes indica que cuenta con valores para todos los registros.\n",
    "\n",
    "Se convertirán los valores de longitud y latitud a un valor de punto flotante válido o faltante."
   ]
  },
  {
   "cell_type": "code",
   "execution_count": 9,
   "metadata": {
    "id": "xosWjGhUDq3p"
   },
   "outputs": [],
   "source": [
    "# Convirtiendo latitud y longitud a un número\n",
    "def to_float_number(x):\n",
    "    try:\n",
    "        return float(x)\n",
    "    except:\n",
    "        return np.nan\n",
    "\n",
    "dataframe['Longitude'] = dataframe['Longitude'].apply(to_float_number)\n",
    "dataframe['Latitude'] = dataframe['Latitude'].apply(to_float_number)"
   ]
  },
  {
   "cell_type": "code",
   "execution_count": 10,
   "metadata": {},
   "outputs": [],
   "source": [
    "# Actualizando datos faltantes para los teléfonos\n",
    "def fill_phone_number(x):\n",
    "    if x == None:\n",
    "        return 'N/A'\n",
    "    else:\n",
    "        return x\n",
    "\n",
    "\n",
    "dataframe['PhoneNumber'] = dataframe['PhoneNumber'].apply(fill_phone_number)"
   ]
  },
  {
   "cell_type": "code",
   "execution_count": 11,
   "metadata": {},
   "outputs": [
    {
     "data": {
      "text/plain": [
       "HotelCode                                                1883789\n",
       "HotelName                                    malvina house hotel\n",
       "Description    Malvina House Hotel has a garden, shared loung...\n",
       "Address        ross road 3, stanley, stanley, fiqq 1zz, falkl...\n",
       "Pincode                                                 FIQQ 1ZZ\n",
       "CountryCode                                                   FK\n",
       "PhoneNumber                                   +50021355+50021360\n",
       "CityName                                                 Stanley\n",
       "Longitude                                              -51.69174\n",
       "Latitude                                                     0.0\n",
       "HotelRating                                           50021357.0\n",
       "DescLength                                                   608\n",
       "Name: 826365, dtype: object"
      ]
     },
     "execution_count": 11,
     "metadata": {},
     "output_type": "execute_result"
    }
   ],
   "source": [
    "# Registro con un nivel de estrellas mayor a 5\n",
    "dataframe.loc[826365]"
   ]
  },
  {
   "cell_type": "code",
   "execution_count": 12,
   "metadata": {},
   "outputs": [],
   "source": [
    "# Cambiando valor de nivel de estrellas para el hotel con un valor mayor a 5\n",
    "dataframe.loc[826365, 'HotelRating']= 4.5"
   ]
  },
  {
   "cell_type": "code",
   "execution_count": 13,
   "metadata": {
    "colab": {
     "base_uri": "https://localhost:8080/"
    },
    "id": "A4AIBPZLgARZ",
    "outputId": "509a6f43-35d6-4014-ebf4-201eb75a766d"
   },
   "outputs": [],
   "source": [
    "# Convirtiendo CountryCode a mayusculas\n",
    "def to_capital_letters(x):\n",
    "    try:\n",
    "        return str(x).upper()\n",
    "    except:\n",
    "        return np.nan\n",
    "\n",
    "dataframe['CountryCode'] = dataframe['CountryCode'].apply(to_capital_letters)"
   ]
  },
  {
   "cell_type": "code",
   "execution_count": 14,
   "metadata": {},
   "outputs": [
    {
     "data": {
      "text/plain": [
       "HotelCode                                                5005278\n",
       "HotelName                                       zone connect goa\n",
       "Description    <br/><b>Disclaimer notification: Amenities are...\n",
       "Address        569/1-a, carrasco vaddo, ?parra, bardez, 40351...\n",
       "Pincode                                                         \n",
       "CountryCode                                                     \n",
       "PhoneNumber                                                  N/A\n",
       "CityName                                                  Anjuna\n",
       "Longitude                                               73.78512\n",
       "Latitude                                                15.56537\n",
       "HotelRating                                                  4.0\n",
       "DescLength                                                   121\n",
       "Name: 28426, dtype: object"
      ]
     },
     "execution_count": 14,
     "metadata": {},
     "output_type": "execute_result"
    }
   ],
   "source": [
    "# Registro con código de país faltante\n",
    "dataframe.loc[28426]"
   ]
  },
  {
   "cell_type": "code",
   "execution_count": 15,
   "metadata": {},
   "outputs": [
    {
     "data": {
      "text/plain": [
       "HotelCode                                                5007841\n",
       "HotelName                                  frankfort hotel & spa\n",
       "Description    <br/><b>Disclaimer notification: Amenities are...\n",
       "Address        ??. mar, 4, 100164 tashkent, uzbekistan, , tas...\n",
       "Pincode                                                         \n",
       "CountryCode                                                     \n",
       "PhoneNumber                                                  N/A\n",
       "CityName                                                Tashkent\n",
       "Longitude                                              69.328835\n",
       "Latitude                                               41.345065\n",
       "HotelRating                                                  3.0\n",
       "DescLength                                                   121\n",
       "Name: 903509, dtype: object"
      ]
     },
     "execution_count": 15,
     "metadata": {},
     "output_type": "execute_result"
    }
   ],
   "source": [
    "# Registro con código de país faltante\n",
    "dataframe.loc[903509]"
   ]
  },
  {
   "cell_type": "code",
   "execution_count": 16,
   "metadata": {},
   "outputs": [
    {
     "data": {
      "text/plain": [
       "HotelCode                                                5017661\n",
       "HotelName                                     reyado hotel kudan\n",
       "Description    Property Description\\nOpened: 2019Number of Ro...\n",
       "Address        2-4-10 kudan minami, chiyoda-ku, chiyoda, toky...\n",
       "Pincode                                                  1020074\n",
       "CountryCode                                                     \n",
       "PhoneNumber                                         03-6869-0601\n",
       "CityName                                                   Tokyo\n",
       "Longitude                                             139.744092\n",
       "Latitude                                               35.693256\n",
       "HotelRating                                                  0.0\n",
       "DescLength                                                   446\n",
       "Name: 907683, dtype: object"
      ]
     },
     "execution_count": 16,
     "metadata": {},
     "output_type": "execute_result"
    }
   ],
   "source": [
    "# Registro con código de país faltante\n",
    "dataframe.loc[907683]"
   ]
  },
  {
   "cell_type": "code",
   "execution_count": 17,
   "metadata": {},
   "outputs": [
    {
     "data": {
      "text/plain": [
       "HotelCode                                                5021855\n",
       "HotelName                   ramada wyndham huangshi huangshigang\n",
       "Description    <p>The best of the area is within easy reach w...\n",
       "Address        32 yingbin avenue, huangshi port district, hua...\n",
       "Pincode                                                   435000\n",
       "CountryCode                                                     \n",
       "PhoneNumber                                                  N/A\n",
       "CityName                                                Huangshi\n",
       "Longitude                                             115.042888\n",
       "Latitude                                               30.245982\n",
       "HotelRating                                                  0.0\n",
       "DescLength                                                   655\n",
       "Name: 931385, dtype: object"
      ]
     },
     "execution_count": 17,
     "metadata": {},
     "output_type": "execute_result"
    }
   ],
   "source": [
    "# Registro con código de país faltante\n",
    "dataframe.loc[931385]"
   ]
  },
  {
   "cell_type": "code",
   "execution_count": 18,
   "metadata": {
    "colab": {
     "base_uri": "https://localhost:8080/"
    },
    "id": "AiFUm_egmTSt",
    "outputId": "5bdbe840-8b8a-4987-ed1a-b4c0b65c066b"
   },
   "outputs": [],
   "source": [
    "# Asignando códigos de país faltantes\n",
    "dataframe.loc[28426, 'CountryCode'] = 'IN'\n",
    "dataframe.loc[903509, 'CountryCode'] = 'UZ'\n",
    "dataframe.loc[907683, 'CountryCode'] = 'JP'\n",
    "dataframe.loc[931385, 'CountryCode'] = 'CN'"
   ]
  },
  {
   "cell_type": "code",
   "execution_count": 19,
   "metadata": {},
   "outputs": [
    {
     "data": {
      "text/plain": [
       "HotelCode                                                5022122\n",
       "HotelName                                hypernym hotel & suites\n",
       "Description    <p>HeadLine : Near Tivoli Gardens</p><p>Locati...\n",
       "Address        studiestræde 61,, 1554 copenhagen, denmark, de...\n",
       "Pincode                                                     1554\n",
       "CountryCode                                                   11\n",
       "PhoneNumber                                            1-5555555\n",
       "CityName                                                 Denmark\n",
       "Longitude                                              12.565302\n",
       "Latitude                                               55.676868\n",
       "HotelRating                                                  3.0\n",
       "DescLength                                                  1651\n",
       "Name: 226508, dtype: object"
      ]
     },
     "execution_count": 19,
     "metadata": {},
     "output_type": "execute_result"
    }
   ],
   "source": [
    "# Registro con código de país numérico\n",
    "dataframe.loc[226508]"
   ]
  },
  {
   "cell_type": "code",
   "execution_count": 20,
   "metadata": {},
   "outputs": [
    {
     "data": {
      "text/plain": [
       "HotelCode                                                5012156\n",
       "HotelName                                        tier collection\n",
       "Description    <p>HeadLine : In Athens (Athens City Centre)</...\n",
       "Address        viktoros ougko, athens, athens, 104 37, athens...\n",
       "Pincode                                                   104 37\n",
       "CountryCode                                                   11\n",
       "PhoneNumber                                        30-6987169735\n",
       "CityName                                                  Athens\n",
       "Longitude                                              23.722661\n",
       "Latitude                                               37.986424\n",
       "HotelRating                                                  3.0\n",
       "DescLength                                                  1630\n",
       "Name: 564401, dtype: object"
      ]
     },
     "execution_count": 20,
     "metadata": {},
     "output_type": "execute_result"
    }
   ],
   "source": [
    "# Registro con código de país numérico\n",
    "dataframe.loc[564401]"
   ]
  },
  {
   "cell_type": "code",
   "execution_count": 21,
   "metadata": {},
   "outputs": [
    {
     "data": {
      "text/plain": [
       "HotelCode                                                5007255\n",
       "HotelName                                    garden square hotel\n",
       "Description    <p>HeadLine : In Kraków (Lagiewniki)</p><p>Loc...\n",
       "Address        1d sucha,, krakow, malopolskie, 30-601, krakow...\n",
       "Pincode                                                   30-601\n",
       "CountryCode                                                   12\n",
       "PhoneNumber                                         48-533398849\n",
       "CityName                                                  Krakow\n",
       "Longitude                                              19.934406\n",
       "Latitude                                               50.023739\n",
       "HotelRating                                                  4.0\n",
       "DescLength                                                  1929\n",
       "Name: 292980, dtype: object"
      ]
     },
     "execution_count": 21,
     "metadata": {},
     "output_type": "execute_result"
    }
   ],
   "source": [
    "# Registro con código de país numérico\n",
    "dataframe.loc[292980]"
   ]
  },
  {
   "cell_type": "code",
   "execution_count": 22,
   "metadata": {},
   "outputs": [
    {
     "data": {
      "text/plain": [
       "HotelCode                                                5015037\n",
       "HotelName                          yogved hospitality and resort\n",
       "Description    Set in Rishikesh, 30 km from Mansa Devi Temple...\n",
       "Address        bhumi khata no. 7 & 9 , ghuyhtiyni talli , dev...\n",
       "Pincode                                                   249001\n",
       "CountryCode                                                   13\n",
       "PhoneNumber                                                  N/A\n",
       "CityName                                               Rishikesh\n",
       "Longitude                                               78.32642\n",
       "Latitude                                                30.13094\n",
       "HotelRating                                                  3.0\n",
       "DescLength                                                  1038\n",
       "Name: 755576, dtype: object"
      ]
     },
     "execution_count": 22,
     "metadata": {},
     "output_type": "execute_result"
    }
   ],
   "source": [
    "# Registro con código de país numérico\n",
    "dataframe.loc[755576]"
   ]
  },
  {
   "cell_type": "code",
   "execution_count": 23,
   "metadata": {},
   "outputs": [
    {
     "data": {
      "text/plain": [
       "HotelCode                                                5011361\n",
       "HotelName                                     number 4 apartment\n",
       "Description    A 10-minute walk from Naiharn Beach, Number 4 ...\n",
       "Address        14/100 moo 1, soi saiyuan, saiyuan rd, muang, ...\n",
       "Pincode                                                    83130\n",
       "CountryCode                                                   13\n",
       "PhoneNumber                                                  N/A\n",
       "CityName                                                  Phuket\n",
       "Longitude                                               98.31422\n",
       "Latitude                                                 7.78167\n",
       "HotelRating                                                  2.0\n",
       "DescLength                                                  1790\n",
       "Name: 905058, dtype: object"
      ]
     },
     "execution_count": 23,
     "metadata": {},
     "output_type": "execute_result"
    }
   ],
   "source": [
    "# Registro con código de país numérico\n",
    "dataframe.loc[905058]"
   ]
  },
  {
   "cell_type": "code",
   "execution_count": 24,
   "metadata": {},
   "outputs": [
    {
     "data": {
      "text/plain": [
       "HotelCode                                                6193930\n",
       "HotelName                              labranda miraluna village\n",
       "Description    <p>HeadLine : Near Kardamis Beach</p><p>Locati...\n",
       "Address              kiotari, , lindos beach villa kiotari, null\n",
       "Pincode                                                     null\n",
       "CountryCode                                                   85\n",
       "PhoneNumber                                       30-22440-47371\n",
       "CityName                              Lindos Beach Villa Kiotari\n",
       "Longitude                                              27.987262\n",
       "Latitude                                               36.063139\n",
       "HotelRating                                                  4.0\n",
       "DescLength                                                  2119\n",
       "Name: 901282, dtype: object"
      ]
     },
     "execution_count": 24,
     "metadata": {},
     "output_type": "execute_result"
    }
   ],
   "source": [
    "# Registro con código de país numérico\n",
    "dataframe.loc[901282]"
   ]
  },
  {
   "cell_type": "code",
   "execution_count": 25,
   "metadata": {
    "colab": {
     "base_uri": "https://localhost:8080/"
    },
    "id": "sIJsthHN016E",
    "outputId": "746e8db7-4e98-4289-db7f-8a76a9797a1b"
   },
   "outputs": [],
   "source": [
    "# Corrigiendo registros con códigos de país numéricos\n",
    "dataframe.loc[226508, 'CountryCode'] = 'DK'\n",
    "dataframe.loc[564401, 'CountryCode'] = 'GR'\n",
    "dataframe.loc[292980, 'CountryCode'] = 'PL'\n",
    "dataframe.loc[755576, 'CountryCode'] = 'IN'\n",
    "dataframe.loc[905058, 'CountryCode'] = 'TH'\n",
    "dataframe.loc[901282, 'CountryCode'] = 'GR'"
   ]
  },
  {
   "cell_type": "code",
   "execution_count": 26,
   "metadata": {},
   "outputs": [],
   "source": [
    "# Verificando que la descripción sea de tipo \"string#\n",
    "def get_type(text):\n",
    "    if type(text) is str:\n",
    "        return 'str'\n",
    "    else:\n",
    "        return 'non-str'\n",
    "dataframe['DescType'] = 'N/A'\n",
    "dataframe['DescType'] = dataframe['Description'].apply(get_type)"
   ]
  },
  {
   "cell_type": "code",
   "execution_count": 27,
   "metadata": {},
   "outputs": [
    {
     "data": {
      "text/html": [
       "<div>\n",
       "<style scoped>\n",
       "    .dataframe tbody tr th:only-of-type {\n",
       "        vertical-align: middle;\n",
       "    }\n",
       "\n",
       "    .dataframe tbody tr th {\n",
       "        vertical-align: top;\n",
       "    }\n",
       "\n",
       "    .dataframe thead th {\n",
       "        text-align: right;\n",
       "    }\n",
       "</style>\n",
       "<table border=\"1\" class=\"dataframe\">\n",
       "  <thead>\n",
       "    <tr style=\"text-align: right;\">\n",
       "      <th></th>\n",
       "      <th>HotelCode</th>\n",
       "      <th>HotelName</th>\n",
       "      <th>Description</th>\n",
       "      <th>Address</th>\n",
       "      <th>Pincode</th>\n",
       "      <th>CountryCode</th>\n",
       "      <th>PhoneNumber</th>\n",
       "      <th>CityName</th>\n",
       "      <th>Longitude</th>\n",
       "      <th>Latitude</th>\n",
       "      <th>HotelRating</th>\n",
       "      <th>DescLength</th>\n",
       "      <th>DescType</th>\n",
       "    </tr>\n",
       "  </thead>\n",
       "  <tbody>\n",
       "  </tbody>\n",
       "</table>\n",
       "</div>"
      ],
      "text/plain": [
       "Empty DataFrame\n",
       "Columns: [HotelCode, HotelName, Description, Address, Pincode, CountryCode, PhoneNumber, CityName, Longitude, Latitude, HotelRating, DescLength, DescType]\n",
       "Index: []"
      ]
     },
     "execution_count": 27,
     "metadata": {},
     "output_type": "execute_result"
    }
   ],
   "source": [
    "dataframe.loc[dataframe['DescType'] != \"str\"]"
   ]
  },
  {
   "cell_type": "code",
   "execution_count": 28,
   "metadata": {
    "id": "O3myeG7zqdJ9"
   },
   "outputs": [],
   "source": [
    "# Función para remover elementos de HTML de un texto \n",
    "def remove_html_tags(text):\n",
    "    html_pattern = re.compile('<.*?>')\n",
    "    clean_text = re.sub(html_pattern, '', text)\n",
    "    return clean_text"
   ]
  },
  {
   "cell_type": "code",
   "execution_count": 29,
   "metadata": {
    "colab": {
     "base_uri": "https://localhost:8080/",
     "height": 1000
    },
    "id": "Tm6_bKUmt6Cr",
    "outputId": "f19c60e1-5a05-4684-eb2b-72a14e619999"
   },
   "outputs": [],
   "source": [
    "# Removiendo elementos de HTML de la descripción de los hoteles\n",
    "dataframe['Description'] = dataframe['Description'].apply(remove_html_tags)"
   ]
  },
  {
   "cell_type": "code",
   "execution_count": 30,
   "metadata": {
    "scrolled": true
   },
   "outputs": [
    {
     "data": {
      "text/html": [
       "<div>\n",
       "<style scoped>\n",
       "    .dataframe tbody tr th:only-of-type {\n",
       "        vertical-align: middle;\n",
       "    }\n",
       "\n",
       "    .dataframe tbody tr th {\n",
       "        vertical-align: top;\n",
       "    }\n",
       "\n",
       "    .dataframe thead th {\n",
       "        text-align: right;\n",
       "    }\n",
       "</style>\n",
       "<table border=\"1\" class=\"dataframe\">\n",
       "  <thead>\n",
       "    <tr style=\"text-align: right;\">\n",
       "      <th></th>\n",
       "      <th>HotelCode</th>\n",
       "      <th>HotelName</th>\n",
       "      <th>Description</th>\n",
       "      <th>Address</th>\n",
       "      <th>Pincode</th>\n",
       "      <th>CountryCode</th>\n",
       "      <th>PhoneNumber</th>\n",
       "      <th>CityName</th>\n",
       "      <th>Longitude</th>\n",
       "      <th>Latitude</th>\n",
       "      <th>HotelRating</th>\n",
       "      <th>DescLength</th>\n",
       "      <th>DescType</th>\n",
       "    </tr>\n",
       "  </thead>\n",
       "  <tbody>\n",
       "    <tr>\n",
       "      <th>count</th>\n",
       "      <td>1093095</td>\n",
       "      <td>1093095</td>\n",
       "      <td>1093095</td>\n",
       "      <td>1093095</td>\n",
       "      <td>1093095</td>\n",
       "      <td>1093095</td>\n",
       "      <td>1093095</td>\n",
       "      <td>1093095</td>\n",
       "      <td>1.066303e+06</td>\n",
       "      <td>1.066296e+06</td>\n",
       "      <td>1.093052e+06</td>\n",
       "      <td>1.093095e+06</td>\n",
       "      <td>1093095</td>\n",
       "    </tr>\n",
       "    <tr>\n",
       "      <th>unique</th>\n",
       "      <td>1093095</td>\n",
       "      <td>994885</td>\n",
       "      <td>1025512</td>\n",
       "      <td>1060951</td>\n",
       "      <td>178491</td>\n",
       "      <td>237</td>\n",
       "      <td>612681</td>\n",
       "      <td>100184</td>\n",
       "      <td>NaN</td>\n",
       "      <td>NaN</td>\n",
       "      <td>NaN</td>\n",
       "      <td>NaN</td>\n",
       "      <td>1</td>\n",
       "    </tr>\n",
       "    <tr>\n",
       "      <th>top</th>\n",
       "      <td>1688289</td>\n",
       "      <td>quality inn</td>\n",
       "      <td>Disclaimer notification: Amenities are subject...</td>\n",
       "      <td>510 gulf shore drive, , destin, 32541, usa</td>\n",
       "      <td></td>\n",
       "      <td>US</td>\n",
       "      <td>N/A</td>\n",
       "      <td>Rome</td>\n",
       "      <td>NaN</td>\n",
       "      <td>NaN</td>\n",
       "      <td>NaN</td>\n",
       "      <td>NaN</td>\n",
       "      <td>str</td>\n",
       "    </tr>\n",
       "    <tr>\n",
       "      <th>freq</th>\n",
       "      <td>1</td>\n",
       "      <td>373</td>\n",
       "      <td>62806</td>\n",
       "      <td>94</td>\n",
       "      <td>40804</td>\n",
       "      <td>117794</td>\n",
       "      <td>350874</td>\n",
       "      <td>7937</td>\n",
       "      <td>NaN</td>\n",
       "      <td>NaN</td>\n",
       "      <td>NaN</td>\n",
       "      <td>NaN</td>\n",
       "      <td>1093095</td>\n",
       "    </tr>\n",
       "    <tr>\n",
       "      <th>mean</th>\n",
       "      <td>NaN</td>\n",
       "      <td>NaN</td>\n",
       "      <td>NaN</td>\n",
       "      <td>NaN</td>\n",
       "      <td>NaN</td>\n",
       "      <td>NaN</td>\n",
       "      <td>NaN</td>\n",
       "      <td>NaN</td>\n",
       "      <td>3.140530e+02</td>\n",
       "      <td>-2.020943e+02</td>\n",
       "      <td>1.965489e+00</td>\n",
       "      <td>1.356845e+03</td>\n",
       "      <td>NaN</td>\n",
       "    </tr>\n",
       "    <tr>\n",
       "      <th>std</th>\n",
       "      <td>NaN</td>\n",
       "      <td>NaN</td>\n",
       "      <td>NaN</td>\n",
       "      <td>NaN</td>\n",
       "      <td>NaN</td>\n",
       "      <td>NaN</td>\n",
       "      <td>NaN</td>\n",
       "      <td>NaN</td>\n",
       "      <td>3.054447e+05</td>\n",
       "      <td>2.401704e+05</td>\n",
       "      <td>1.527185e+00</td>\n",
       "      <td>5.874179e+02</td>\n",
       "      <td>NaN</td>\n",
       "    </tr>\n",
       "    <tr>\n",
       "      <th>min</th>\n",
       "      <td>NaN</td>\n",
       "      <td>NaN</td>\n",
       "      <td>NaN</td>\n",
       "      <td>NaN</td>\n",
       "      <td>NaN</td>\n",
       "      <td>NaN</td>\n",
       "      <td>NaN</td>\n",
       "      <td>NaN</td>\n",
       "      <td>-1.800000e+02</td>\n",
       "      <td>-2.480038e+08</td>\n",
       "      <td>0.000000e+00</td>\n",
       "      <td>0.000000e+00</td>\n",
       "      <td>NaN</td>\n",
       "    </tr>\n",
       "    <tr>\n",
       "      <th>25%</th>\n",
       "      <td>NaN</td>\n",
       "      <td>NaN</td>\n",
       "      <td>NaN</td>\n",
       "      <td>NaN</td>\n",
       "      <td>NaN</td>\n",
       "      <td>NaN</td>\n",
       "      <td>NaN</td>\n",
       "      <td>NaN</td>\n",
       "      <td>-3.599182e+00</td>\n",
       "      <td>2.197788e+01</td>\n",
       "      <td>0.000000e+00</td>\n",
       "      <td>9.770000e+02</td>\n",
       "      <td>NaN</td>\n",
       "    </tr>\n",
       "    <tr>\n",
       "      <th>50%</th>\n",
       "      <td>NaN</td>\n",
       "      <td>NaN</td>\n",
       "      <td>NaN</td>\n",
       "      <td>NaN</td>\n",
       "      <td>NaN</td>\n",
       "      <td>NaN</td>\n",
       "      <td>NaN</td>\n",
       "      <td>NaN</td>\n",
       "      <td>1.246621e+01</td>\n",
       "      <td>3.904455e+01</td>\n",
       "      <td>2.000000e+00</td>\n",
       "      <td>1.383000e+03</td>\n",
       "      <td>NaN</td>\n",
       "    </tr>\n",
       "    <tr>\n",
       "      <th>75%</th>\n",
       "      <td>NaN</td>\n",
       "      <td>NaN</td>\n",
       "      <td>NaN</td>\n",
       "      <td>NaN</td>\n",
       "      <td>NaN</td>\n",
       "      <td>NaN</td>\n",
       "      <td>NaN</td>\n",
       "      <td>NaN</td>\n",
       "      <td>4.487324e+01</td>\n",
       "      <td>4.581208e+01</td>\n",
       "      <td>3.000000e+00</td>\n",
       "      <td>1.750000e+03</td>\n",
       "      <td>NaN</td>\n",
       "    </tr>\n",
       "    <tr>\n",
       "      <th>max</th>\n",
       "      <td>NaN</td>\n",
       "      <td>NaN</td>\n",
       "      <td>NaN</td>\n",
       "      <td>NaN</td>\n",
       "      <td>NaN</td>\n",
       "      <td>NaN</td>\n",
       "      <td>NaN</td>\n",
       "      <td>NaN</td>\n",
       "      <td>3.154082e+08</td>\n",
       "      <td>1.597954e+02</td>\n",
       "      <td>5.000000e+00</td>\n",
       "      <td>1.959800e+04</td>\n",
       "      <td>NaN</td>\n",
       "    </tr>\n",
       "  </tbody>\n",
       "</table>\n",
       "</div>"
      ],
      "text/plain": [
       "       HotelCode    HotelName  \\\n",
       "count    1093095      1093095   \n",
       "unique   1093095       994885   \n",
       "top      1688289  quality inn   \n",
       "freq           1          373   \n",
       "mean         NaN          NaN   \n",
       "std          NaN          NaN   \n",
       "min          NaN          NaN   \n",
       "25%          NaN          NaN   \n",
       "50%          NaN          NaN   \n",
       "75%          NaN          NaN   \n",
       "max          NaN          NaN   \n",
       "\n",
       "                                              Description  \\\n",
       "count                                             1093095   \n",
       "unique                                            1025512   \n",
       "top     Disclaimer notification: Amenities are subject...   \n",
       "freq                                                62806   \n",
       "mean                                                  NaN   \n",
       "std                                                   NaN   \n",
       "min                                                   NaN   \n",
       "25%                                                   NaN   \n",
       "50%                                                   NaN   \n",
       "75%                                                   NaN   \n",
       "max                                                   NaN   \n",
       "\n",
       "                                           Address  Pincode CountryCode  \\\n",
       "count                                      1093095  1093095     1093095   \n",
       "unique                                     1060951   178491         237   \n",
       "top     510 gulf shore drive, , destin, 32541, usa                   US   \n",
       "freq                                            94    40804      117794   \n",
       "mean                                           NaN      NaN         NaN   \n",
       "std                                            NaN      NaN         NaN   \n",
       "min                                            NaN      NaN         NaN   \n",
       "25%                                            NaN      NaN         NaN   \n",
       "50%                                            NaN      NaN         NaN   \n",
       "75%                                            NaN      NaN         NaN   \n",
       "max                                            NaN      NaN         NaN   \n",
       "\n",
       "       PhoneNumber CityName     Longitude      Latitude   HotelRating  \\\n",
       "count      1093095  1093095  1.066303e+06  1.066296e+06  1.093052e+06   \n",
       "unique      612681   100184           NaN           NaN           NaN   \n",
       "top            N/A     Rome           NaN           NaN           NaN   \n",
       "freq        350874     7937           NaN           NaN           NaN   \n",
       "mean           NaN      NaN  3.140530e+02 -2.020943e+02  1.965489e+00   \n",
       "std            NaN      NaN  3.054447e+05  2.401704e+05  1.527185e+00   \n",
       "min            NaN      NaN -1.800000e+02 -2.480038e+08  0.000000e+00   \n",
       "25%            NaN      NaN -3.599182e+00  2.197788e+01  0.000000e+00   \n",
       "50%            NaN      NaN  1.246621e+01  3.904455e+01  2.000000e+00   \n",
       "75%            NaN      NaN  4.487324e+01  4.581208e+01  3.000000e+00   \n",
       "max            NaN      NaN  3.154082e+08  1.597954e+02  5.000000e+00   \n",
       "\n",
       "          DescLength DescType  \n",
       "count   1.093095e+06  1093095  \n",
       "unique           NaN        1  \n",
       "top              NaN      str  \n",
       "freq             NaN  1093095  \n",
       "mean    1.356845e+03      NaN  \n",
       "std     5.874179e+02      NaN  \n",
       "min     0.000000e+00      NaN  \n",
       "25%     9.770000e+02      NaN  \n",
       "50%     1.383000e+03      NaN  \n",
       "75%     1.750000e+03      NaN  \n",
       "max     1.959800e+04      NaN  "
      ]
     },
     "execution_count": 30,
     "metadata": {},
     "output_type": "execute_result"
    }
   ],
   "source": [
    "dataframe.describe(include='all')"
   ]
  },
  {
   "cell_type": "code",
   "execution_count": 31,
   "metadata": {},
   "outputs": [
    {
     "name": "stdout",
     "output_type": "stream",
     "text": [
      "<class 'pandas.core.frame.DataFrame'>\n",
      "RangeIndex: 1093095 entries, 0 to 1093094\n",
      "Data columns (total 13 columns):\n",
      " #   Column       Non-Null Count    Dtype  \n",
      "---  ------       --------------    -----  \n",
      " 0   HotelCode    1093095 non-null  object \n",
      " 1   HotelName    1093095 non-null  object \n",
      " 2   Description  1093095 non-null  object \n",
      " 3   Address      1093095 non-null  object \n",
      " 4   Pincode      1093095 non-null  object \n",
      " 5   CountryCode  1093095 non-null  object \n",
      " 6   PhoneNumber  1093095 non-null  object \n",
      " 7   CityName     1093095 non-null  object \n",
      " 8   Longitude    1066303 non-null  float64\n",
      " 9   Latitude     1066296 non-null  float64\n",
      " 10  HotelRating  1093052 non-null  float64\n",
      " 11  DescLength   1093095 non-null  int64  \n",
      " 12  DescType     1093095 non-null  object \n",
      "dtypes: float64(3), int64(1), object(9)\n",
      "memory usage: 108.4+ MB\n"
     ]
    }
   ],
   "source": [
    "dataframe.info(verbose=True)"
   ]
  },
  {
   "cell_type": "markdown",
   "metadata": {},
   "source": [
    "### **Limpieza de Datos Incorrectos**"
   ]
  },
  {
   "cell_type": "code",
   "execution_count": 32,
   "metadata": {
    "id": "9f3da96c-003d-433c-9f3e-d98516d99517"
   },
   "outputs": [],
   "source": [
    "# Removiendo registros con descripciones de menos de 121 caracteres\n",
    "dataframe = dataframe.loc[dataframe['DescLength']>121]"
   ]
  },
  {
   "cell_type": "code",
   "execution_count": 33,
   "metadata": {},
   "outputs": [
    {
     "name": "stdout",
     "output_type": "stream",
     "text": [
      "<class 'pandas.core.frame.DataFrame'>\n",
      "Index: 1030184 entries, 0 to 1093094\n",
      "Data columns (total 13 columns):\n",
      " #   Column       Non-Null Count    Dtype  \n",
      "---  ------       --------------    -----  \n",
      " 0   HotelCode    1030184 non-null  object \n",
      " 1   HotelName    1030184 non-null  object \n",
      " 2   Description  1030184 non-null  object \n",
      " 3   Address      1030184 non-null  object \n",
      " 4   Pincode      1030184 non-null  object \n",
      " 5   CountryCode  1030184 non-null  object \n",
      " 6   PhoneNumber  1030184 non-null  object \n",
      " 7   CityName     1030184 non-null  object \n",
      " 8   Longitude    1003707 non-null  float64\n",
      " 9   Latitude     1003701 non-null  float64\n",
      " 10  HotelRating  1030142 non-null  float64\n",
      " 11  DescLength   1030184 non-null  int64  \n",
      " 12  DescType     1030184 non-null  object \n",
      "dtypes: float64(3), int64(1), object(9)\n",
      "memory usage: 110.0+ MB\n"
     ]
    }
   ],
   "source": [
    "dataframe.info(verbose=True)"
   ]
  },
  {
   "cell_type": "markdown",
   "metadata": {},
   "source": [
    "### **Limpieza de Datos Faltantes**"
   ]
  },
  {
   "cell_type": "code",
   "execution_count": 34,
   "metadata": {
    "colab": {
     "base_uri": "https://localhost:8080/"
    },
    "id": "2ZcC4Kl-Dq3r",
    "outputId": "611fda02-68cf-44a8-fb86-630360a1cc51"
   },
   "outputs": [
    {
     "data": {
      "text/plain": [
       "HotelCode          0\n",
       "HotelName          0\n",
       "Description        0\n",
       "Address            0\n",
       "Pincode            0\n",
       "CountryCode        0\n",
       "PhoneNumber        0\n",
       "CityName           0\n",
       "Longitude      26477\n",
       "Latitude       26483\n",
       "HotelRating       42\n",
       "DescLength         0\n",
       "DescType           0\n",
       "dtype: int64"
      ]
     },
     "execution_count": 34,
     "metadata": {},
     "output_type": "execute_result"
    }
   ],
   "source": [
    "# Determinando columnas con valores ausentes\n",
    "dataframe.isnull().sum()"
   ]
  },
  {
   "cell_type": "code",
   "execution_count": 35,
   "metadata": {},
   "outputs": [],
   "source": [
    "# Eliminado registros con datos faltantes\n",
    "dataframe = dataframe.dropna()"
   ]
  },
  {
   "cell_type": "code",
   "execution_count": 36,
   "metadata": {},
   "outputs": [
    {
     "name": "stdout",
     "output_type": "stream",
     "text": [
      "<class 'pandas.core.frame.DataFrame'>\n",
      "Index: 1003665 entries, 0 to 1093094\n",
      "Data columns (total 13 columns):\n",
      " #   Column       Non-Null Count    Dtype  \n",
      "---  ------       --------------    -----  \n",
      " 0   HotelCode    1003665 non-null  object \n",
      " 1   HotelName    1003665 non-null  object \n",
      " 2   Description  1003665 non-null  object \n",
      " 3   Address      1003665 non-null  object \n",
      " 4   Pincode      1003665 non-null  object \n",
      " 5   CountryCode  1003665 non-null  object \n",
      " 6   PhoneNumber  1003665 non-null  object \n",
      " 7   CityName     1003665 non-null  object \n",
      " 8   Longitude    1003665 non-null  float64\n",
      " 9   Latitude     1003665 non-null  float64\n",
      " 10  HotelRating  1003665 non-null  float64\n",
      " 11  DescLength   1003665 non-null  int64  \n",
      " 12  DescType     1003665 non-null  object \n",
      "dtypes: float64(3), int64(1), object(9)\n",
      "memory usage: 107.2+ MB\n"
     ]
    }
   ],
   "source": [
    "dataframe.info(verbose=True)"
   ]
  },
  {
   "cell_type": "code",
   "execution_count": 37,
   "metadata": {
    "colab": {
     "base_uri": "https://localhost:8080/"
    },
    "id": "2ZcC4Kl-Dq3r",
    "outputId": "611fda02-68cf-44a8-fb86-630360a1cc51"
   },
   "outputs": [
    {
     "data": {
      "text/plain": [
       "HotelCode      0\n",
       "HotelName      0\n",
       "Description    0\n",
       "Address        0\n",
       "Pincode        0\n",
       "CountryCode    0\n",
       "PhoneNumber    0\n",
       "CityName       0\n",
       "Longitude      0\n",
       "Latitude       0\n",
       "HotelRating    0\n",
       "DescLength     0\n",
       "DescType       0\n",
       "dtype: int64"
      ]
     },
     "execution_count": 37,
     "metadata": {},
     "output_type": "execute_result"
    }
   ],
   "source": [
    "# Verificando que no hay columnas con valores ausentes\n",
    "dataframe.isnull().sum()"
   ]
  },
  {
   "cell_type": "markdown",
   "metadata": {
    "id": "26caca39-8923-4c4a-a99e-c178ff2ec5ae"
   },
   "source": [
    "\n",
    "Después de arreglar los datos incorrectos, remover registros con descripciones incorrectas y eliminado datos faltantes se obtuvo una nueva cuenta de registros de **1,003,665**, o una reducción del **8.2%** en la cantidad de registros.\n",
    "\n"
   ]
  },
  {
   "cell_type": "markdown",
   "metadata": {
    "id": "OrRSedU0qqt1"
   },
   "source": [
    "## **Análisis de la Distribución de los Datos**"
   ]
  },
  {
   "cell_type": "markdown",
   "metadata": {
    "id": "1edb4f24-2e63-41b5-8a6b-7e8a5bfbbf3a"
   },
   "source": [
    "Dado que se redujo el número de registros es importante verificar que la distribución de los datos no se vio afectada severamente."
   ]
  },
  {
   "cell_type": "code",
   "execution_count": 38,
   "metadata": {},
   "outputs": [],
   "source": [
    "# Creando una tabla de pivoteo para verificar la distribución de hoteles por país\n",
    "pivot_table = pd.pivot_table(data=dataframe,index=['CountryCode'],values=['HotelRating'],aggfunc='count')"
   ]
  },
  {
   "cell_type": "code",
   "execution_count": 39,
   "metadata": {
    "colab": {
     "base_uri": "https://localhost:8080/",
     "height": 506
    },
    "id": "9b3af563-ff46-4fbe-a654-592abd9def54",
    "outputId": "6e4df498-2363-4409-81f3-ec9debed3a20",
    "scrolled": true
   },
   "outputs": [
    {
     "data": {
      "text/plain": [
       "<Axes: xlabel='CountryCode'>"
      ]
     },
     "execution_count": 39,
     "metadata": {},
     "output_type": "execute_result"
    },
    {
     "data": {
      "image/png": "[encoded data removed]",
      "text/plain": [
       "<Figure size 1500x1500 with 1 Axes>"
      ]
     },
     "metadata": {},
     "output_type": "display_data"
    }
   ],
   "source": [
    "# Desplegando una gráfica de barra de la tabla de pivoteo\n",
    "pivot_table.plot(kind='bar',figsize=(15,15))"
   ]
  },
  {
   "cell_type": "code",
   "execution_count": 40,
   "metadata": {},
   "outputs": [
    {
     "data": {
      "text/plain": [
       "<Axes: xlabel='CountryCode'>"
      ]
     },
     "execution_count": 40,
     "metadata": {},
     "output_type": "execute_result"
    },
    {
     "data": {
      "image/png": "[encoded data removed]",
      "text/plain": [
       "<Figure size 1500x1500 with 1 Axes>"
      ]
     },
     "metadata": {},
     "output_type": "display_data"
    }
   ],
   "source": [
    "pivot_table.loc[pivot_table['HotelRating']>40000].plot(kind='line',figsize=(15,15))"
   ]
  },
  {
   "cell_type": "code",
   "execution_count": 41,
   "metadata": {
    "id": "26c6e29e-6df0-4d38-8182-8868199fe0d8"
   },
   "outputs": [],
   "source": [
    "# Creando un conjunto de datos para analisis de la distribucion de los datos\n",
    "dataframe_analysis_dist = dataframe.drop(['HotelCode','HotelName','Description','Address','Longitude','Latitude', 'CityName'], axis=1)\n"
   ]
  },
  {
   "cell_type": "code",
   "execution_count": 42,
   "metadata": {
    "colab": {
     "base_uri": "https://localhost:8080/",
     "height": 488
    },
    "id": "7c4b92aa-c15c-435c-81cc-113f36b4c463",
    "outputId": "08f36d9b-009f-4a38-f5e3-5dec454cea08"
   },
   "outputs": [
    {
     "data": {
      "text/plain": [
       "array([[<Axes: title={'center': 'HotelRating'}>,\n",
       "        <Axes: title={'center': 'DescLength'}>]], dtype=object)"
      ]
     },
     "execution_count": 42,
     "metadata": {},
     "output_type": "execute_result"
    },
    {
     "data": {
      "image/png": "[encoded data removed]",
      "text/plain": [
       "<Figure size 640x480 with 2 Axes>"
      ]
     },
     "metadata": {},
     "output_type": "display_data"
    }
   ],
   "source": [
    "# Desplegando los histogramas de nivel de estrellas y el tamaño de la descripción\n",
    "dataframe_analysis_dist.hist(bins=20)"
   ]
  },
  {
   "cell_type": "code",
   "execution_count": 43,
   "metadata": {
    "id": "90f8822a-045a-433b-9f19-5761741b3e65"
   },
   "outputs": [],
   "source": [
    "dataframe_analysis = dataframe.loc[dataframe['DescLength']>5000]"
   ]
  },
  {
   "cell_type": "code",
   "execution_count": 44,
   "metadata": {},
   "outputs": [],
   "source": [
    "# Creando una tabla de pivoteo para verificar la distribución de hoteles por país\n",
    "pivot_table = pd.pivot_table(data=dataframe,index=['CountryCode'],values=['HotelRating'],aggfunc='count')"
   ]
  },
  {
   "cell_type": "code",
   "execution_count": 45,
   "metadata": {
    "colab": {
     "base_uri": "https://localhost:8080/"
    },
    "id": "9780da36-8a06-4cc2-8557-133a7fb37f7d",
    "outputId": "154c8a28-4a0b-4bff-b12a-13b928315c63"
   },
   "outputs": [
    {
     "name": "stdout",
     "output_type": "stream",
     "text": [
      "<class 'pandas.core.frame.DataFrame'>\n",
      "Index: 30 entries, 22455 to 1085492\n",
      "Data columns (total 13 columns):\n",
      " #   Column       Non-Null Count  Dtype  \n",
      "---  ------       --------------  -----  \n",
      " 0   HotelCode    30 non-null     object \n",
      " 1   HotelName    30 non-null     object \n",
      " 2   Description  30 non-null     object \n",
      " 3   Address      30 non-null     object \n",
      " 4   Pincode      30 non-null     object \n",
      " 5   CountryCode  30 non-null     object \n",
      " 6   PhoneNumber  30 non-null     object \n",
      " 7   CityName     30 non-null     object \n",
      " 8   Longitude    30 non-null     float64\n",
      " 9   Latitude     30 non-null     float64\n",
      " 10  HotelRating  30 non-null     float64\n",
      " 11  DescLength   30 non-null     int64  \n",
      " 12  DescType     30 non-null     object \n",
      "dtypes: float64(3), int64(1), object(9)\n",
      "memory usage: 3.3+ KB\n"
     ]
    }
   ],
   "source": [
    "dataframe_analysis.info(verbose=True)"
   ]
  },
  {
   "cell_type": "markdown",
   "metadata": {
    "id": "26caca39-8923-4c4a-a99e-c178ff2ec5ae"
   },
   "source": [
    "\n",
    "Las gráficas anteriores no muestran un impacto significativo en relación a la distribución de los datos observada en el análisis exploratorio."
   ]
  },
  {
   "cell_type": "markdown",
   "metadata": {
    "id": "b68fb8b7-959c-4eab-82d8-ac622c8071ff"
   },
   "source": [
    "## **Generación de Archivos de Datos para AWS Bedrock**\n"
   ]
  },
  {
   "cell_type": "markdown",
   "metadata": {
    "id": "_6oLU1ff3twF"
   },
   "source": [
    "\n",
    "Para crear la base de conocimiento, o knowledge base, usando un tamaño de pedazo a la medida, o custom chunk size, es necesario generar dos archivos por cada hotel en conjunto de datos. Un archivo tipo texto contiene la descripción del hotel y el otro archivo contiene los metadatos para el hotel (AWS, s.f.)"
   ]
  },
  {
   "cell_type": "code",
   "execution_count": 52,
   "metadata": {},
   "outputs": [],
   "source": [
    "subi = 0\n",
    "for row in dataframe.itertuples():\n",
    "    hotel_code = row.HotelCode\n",
    "    hotel_desc = row.Description\n",
    "\n",
    "    file_name_base = hotel_code + '-' + uuid.uuid1().hex\n",
    "    file_name_desc = DATA_SOURCE + '/' + file_name_base + '.txt'\n",
    "    file_name_meta = file_name_desc + '.metadata.json'\n",
    "\n",
    "    metadata = {\n",
    "        'HotelCode' : hotel_code,\n",
    "        'HotelName' : row.HotelName,\n",
    "        'CityName' : row.CityName,\n",
    "        'CountryCode': row.CountryCode,\n",
    "        'HotelRating': row.HotelRating\n",
    "    }\n",
    "    \n",
    "    json_object = json.dumps(metadata, indent=2)\n",
    "    \n",
    "    with open(file_name_desc, \"w\") as textfile:\n",
    "        textfile.write(hotel_desc)\n",
    "    \n",
    "    with open(file_name_meta, \"w\") as textfile:\n",
    "        textfile.write(json_object)\n",
    "\n",
    "    # Esto se puede quitar para generar todos los archivos\n",
    "    subi += 1\n",
    "    if subi > 10:\n",
    "        break;\n"
   ]
  },
  {
   "cell_type": "code",
   "execution_count": null,
   "metadata": {},
   "outputs": [],
   "source": []
  },
  {
   "cell_type": "markdown",
   "metadata": {
    "id": "b68fb8b7-959c-4eab-82d8-ac622c8071ff"
   },
   "source": [
    "## **Conclusiones**\n"
   ]
  },
  {
   "cell_type": "markdown",
   "metadata": {
    "id": "_6oLU1ff3twF"
   },
   "source": [
    "\n",
    "‌El objetivo de la base de conocimiento en *Retrieval Augmented Generation*, o *RAG*, es proveer una fuente de información para proveer contexto adicional al modelo generativo, o *LLM* para que pueda generar una mejor respuesta. La calidad de la respuesta dependerá del modelo LLM usado y de la calidad del contenido en la base de conocimiento.\n",
    "\n",
    "En AWS Bedrock una base de conocimiento se construye usando archivos de texto conteniendo la información de contexto y sus respectivos archivos de metadatos asociados (AWS, s.f.).\n",
    "\n",
    "Para este proyecto ya se contaba con una base de datos de hoteles que contiene una descripción del hotel que puede incluir amenidades del hotel, guías para check-in y check-out, y/o una lista de atracciones y sitios de interés cercanos. La base de datos también incluye otra información del hotel como el nombre del hotel, la ciudad y el país donde se localiza y el nivel de estrellas.\n",
    "\n",
    "Crear el archivo con la descripción del hotel con su archivo asociado con metadatos es por lo tanto la única actividad de la etapa de ingeniería de características. \n"
   ]
  },
  {
   "cell_type": "markdown",
   "metadata": {
    "id": "c8c2c4ae-24a2-40a1-a4c1-44792313fbff"
   },
   "source": [
    "## **Referencias**\n",
    "\n",
    "* AWS. (s.f.). Set up a data source for your knowledge base - Amazon Bedrock. docs.aws.amazon.com. Recuperado 7 de mayo, 2024, de https://docs.aws.amazon.com/bedrock/latest/userguide/knowledge-base-ds.html\n",
    "\n",
    "* ISO. (s.f.) ISO 3166 — Country Codes. Internation Standards Organization. Recuperado 3 de mayo, 2024 de https://www.iso.org/iso-3166-country-codes.html\n",
    "\n"
   ]
  },
  {
   "cell_type": "code",
   "execution_count": null,
   "metadata": {},
   "outputs": [],
   "source": []
  }
 ],
 "metadata": {
  "colab": {
   "authorship_tag": "ABX9TyN7RsC+bWpa5Yqc1sfHsoAr",
   "include_colab_link": true,
   "provenance": []
  },
  "kernelspec": {
   "display_name": "Python 3 (ipykernel)",
   "language": "python",
   "name": "python3"
  },
  "language_info": {
   "codemirror_mode": {
    "name": "ipython",
    "version": 3
   },
   "file_extension": ".py",
   "mimetype": "text/x-python",
   "name": "python",
   "nbconvert_exporter": "python",
   "pygments_lexer": "ipython3",
   "version": "3.10.13"
  }
 },
 "nbformat": 4,
 "nbformat_minor": 4
}
