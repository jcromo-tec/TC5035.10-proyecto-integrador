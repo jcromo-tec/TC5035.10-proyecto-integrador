{
  "cells": [
    {
      "cell_type": "markdown",
      "metadata": {
        "id": "view-in-github",
        "colab_type": "text"
      },
      "source": [
        "<a href=\"https://colab.research.google.com/github/jcromo-tec/TC5035.10-proyecto-integrador-equipo-37/blob/main/semana-04-avance-02/Avance2_Equipo37_JH.ipynb\" target=\"_parent\"><img src=\"https://colab.research.google.com/assets/colab-badge.svg\" alt=\"Open In Colab\"/></a>"
      ]
    },
    {
      "cell_type": "markdown",
      "metadata": {
        "id": "HMQEY1ttU_w-"
      },
      "source": [
        "![logo-tec-de-monterrey-.png](data:image/png;base64,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)"
      ]
    },
    {
      "cell_type": "markdown",
      "metadata": {
        "id": "b3d0b781-0da5-4c6a-a76a-c6c0837bae05"
      },
      "source": [
        "## Proyecto Integrador\n",
        "## Smart Travel Assistant: Optimizando la Experiencia de Viaje con IA"
      ]
    },
    {
      "cell_type": "markdown",
      "metadata": {
        "id": "18dd3d13-d70f-4c28-894b-159fb9f0f7f6"
      },
      "source": [
        "### Equipo 37\n",
        "##### A00759664 - Joel Orlando Hernández Ramos\n",
        "##### A01793486 - Juan Carlos Alvarado Carricarte\n",
        "##### A00260430 - Juan Carlos Romo Cárdenas\n"
      ]
    },
    {
      "cell_type": "markdown",
      "metadata": {
        "id": "wiPf8lTteLm1"
      },
      "source": [
        "## **Descripción del Proyecto**"
      ]
    },
    {
      "cell_type": "markdown",
      "metadata": {
        "id": "XqZeUJCEefQ3"
      },
      "source": [
        "Este proyecto se propone desarrollar un asistente de inteligencia artificial integrado en una plataforma de traveltech, que facilita la elección personalizada de hoteles y destinos para los usuarios. Utilizando la función \"knowledge base\" de Amazon Bedrock, el sistema integrará una extensa base de datos con información detallada sobre más de 2 millones de hoteles. Para este efecto  \n",
        "\n",
        "El objetivo principal de este proyecto es transformar la experiencia de planificación de viajes, haciendo que sea más intuitiva, personalizada y respaldada por datos. Las metas específicas incluyen mejorar la satisfacción del cliente mediante recomendaciones precisas y personalizadas, reducir el tiempo necesario para planificar un viaje y aumentar la eficiencia del proceso de selección de destinos y hoteles.\n",
        "\n",
        "El asistente empleará modelos avanzados de sistemas de recomendación, potenciados por un modelo de lenguaje de aprendizaje profundo (LLM), para sugerir itinerarios personalizados y ofrecer asistencia general en la planificación de viajes. Las recomendaciones incluirán referencias detalladas a los hoteles disponibles en nuestra base de datos, asegurando que los usuarios reciban opciones que no solo se ajustan a sus preferencias personales, sino que también maximizan la calidad y la relevancia de la información proporcionada."
      ]
    },
    {
      "cell_type": "markdown",
      "metadata": {
        "id": "b8af6127-cc07-4a20-8fea-57ed0d56a355"
      },
      "source": [
        "## **Cargando Conjunto de Datos Limpios**"
      ]
    },
    {
      "cell_type": "markdown",
      "metadata": {
        "id": "t7Nt9XBsXjsy"
      },
      "source": [
        "En el Avance 1, se llevó acabo una limpieza y análisis exploratorio de los datos. En este sentido, la base de datos resultante fue exportada en formato .csv. Dicho archivo será utilizado en el Avance 2 para comenzar con la ingeniería de datos."
      ]
    },
    {
      "cell_type": "code",
      "execution_count": null,
      "metadata": {
        "id": "7f538ba7-a747-42b5-9481-38084383bf8f"
      },
      "outputs": [],
      "source": [
        "# Importando librerias requeridas\n",
        "import pandas as pd\n",
        "import numpy as np\n",
        "import pandas as pd\n",
        "import os\n",
        "import json\n",
        "from google.colab import drive\n",
        "\n"
      ]
    },
    {
      "cell_type": "code",
      "execution_count": null,
      "metadata": {
        "colab": {
          "base_uri": "https://localhost:8080/"
        },
        "id": "4ea4WoKmMxZp",
        "outputId": "2e747903-008b-44e6-f7c1-394c6db30de9"
      },
      "outputs": [
        {
          "name": "stdout",
          "output_type": "stream",
          "text": [
            "Drive already mounted at /content/drive; to attempt to forcibly remount, call drive.mount(\"/content/drive\", force_remount=True).\n"
          ]
        }
      ],
      "source": [
        "drive.mount('/content/drive')"
      ]
    },
    {
      "cell_type": "code",
      "execution_count": null,
      "metadata": {
        "id": "4-W8Z6tvM102"
      },
      "outputs": [],
      "source": [
        "dataframe_analysis = pd.read_csv('/content/drive/My Drive/Colab Notebooks/Proyecto Integrador/SEMANA 04/df_clean.csv')"
      ]
    },
    {
      "cell_type": "code",
      "execution_count": null,
      "metadata": {
        "colab": {
          "base_uri": "https://localhost:8080/",
          "height": 206
        },
        "id": "zLxjgCOMNqhn",
        "outputId": "7c069717-829a-4d77-d0e8-84787389d956"
      },
      "outputs": [
        {
          "data": {
            "application/vnd.google.colaboratory.intrinsic+json": {
              "type": "dataframe",
              "variable_name": "dataframe_analysis"
            },
            "text/html": [
              "\n",
              "  <div id=\"df-0a21b8bf-c48f-43a4-83ad-ed6d34e72baa\" class=\"colab-df-container\">\n",
              "    <div>\n",
              "<style scoped>\n",
              "    .dataframe tbody tr th:only-of-type {\n",
              "        vertical-align: middle;\n",
              "    }\n",
              "\n",
              "    .dataframe tbody tr th {\n",
              "        vertical-align: top;\n",
              "    }\n",
              "\n",
              "    .dataframe thead th {\n",
              "        text-align: right;\n",
              "    }\n",
              "</style>\n",
              "<table border=\"1\" class=\"dataframe\">\n",
              "  <thead>\n",
              "    <tr style=\"text-align: right;\">\n",
              "      <th></th>\n",
              "      <th>HotelCode</th>\n",
              "      <th>HotelName</th>\n",
              "      <th>CountryCode</th>\n",
              "      <th>Longitude</th>\n",
              "      <th>Latitude</th>\n",
              "      <th>HotelRating</th>\n",
              "      <th>DescLength</th>\n",
              "      <th>Description</th>\n",
              "      <th>CityName</th>\n",
              "    </tr>\n",
              "  </thead>\n",
              "  <tbody>\n",
              "    <tr>\n",
              "      <th>0</th>\n",
              "      <td>1688289</td>\n",
              "      <td>villa alun</td>\n",
              "      <td>101.0</td>\n",
              "      <td>115.148258</td>\n",
              "      <td>-8.672673</td>\n",
              "      <td>4.0</td>\n",
              "      <td>2325</td>\n",
              "      <td>HeadLine : In Seminyak (Batubelig)Location : W...</td>\n",
              "      <td>Seminyak</td>\n",
              "    </tr>\n",
              "    <tr>\n",
              "      <th>1</th>\n",
              "      <td>1863020</td>\n",
              "      <td>house of ahasna</td>\n",
              "      <td>130.0</td>\n",
              "      <td>79.864820</td>\n",
              "      <td>7.182650</td>\n",
              "      <td>3.0</td>\n",
              "      <td>732</td>\n",
              "      <td>Located in Katunayaka, House Of Ahasna feature...</td>\n",
              "      <td>Katunayaka</td>\n",
              "    </tr>\n",
              "    <tr>\n",
              "      <th>2</th>\n",
              "      <td>5414820</td>\n",
              "      <td>casa vacanze margherita</td>\n",
              "      <td>110.0</td>\n",
              "      <td>9.680900</td>\n",
              "      <td>40.360940</td>\n",
              "      <td>0.0</td>\n",
              "      <td>898</td>\n",
              "      <td>Casa Vacanze Margherita is a detached holiday ...</td>\n",
              "      <td>Orosei</td>\n",
              "    </tr>\n",
              "    <tr>\n",
              "      <th>3</th>\n",
              "      <td>5758326</td>\n",
              "      <td>casa bethel</td>\n",
              "      <td>91.0</td>\n",
              "      <td>-90.379270</td>\n",
              "      <td>15.469350</td>\n",
              "      <td>0.0</td>\n",
              "      <td>480</td>\n",
              "      <td>Located in Cobán, in a building dating from 20...</td>\n",
              "      <td>Coban</td>\n",
              "    </tr>\n",
              "    <tr>\n",
              "      <th>4</th>\n",
              "      <td>1116957</td>\n",
              "      <td>pension abc</td>\n",
              "      <td>57.0</td>\n",
              "      <td>13.365430</td>\n",
              "      <td>52.499470</td>\n",
              "      <td>3.0</td>\n",
              "      <td>1662</td>\n",
              "      <td>This quietly located guest house in Berlin off...</td>\n",
              "      <td>Berlin</td>\n",
              "    </tr>\n",
              "  </tbody>\n",
              "</table>\n",
              "</div>\n",
              "    <div class=\"colab-df-buttons\">\n",
              "\n",
              "  <div class=\"colab-df-container\">\n",
              "    <button class=\"colab-df-convert\" onclick=\"convertToInteractive('df-0a21b8bf-c48f-43a4-83ad-ed6d34e72baa')\"\n",
              "            title=\"Convert this dataframe to an interactive table.\"\n",
              "            style=\"display:none;\">\n",
              "\n",
              "  <svg xmlns=\"http://www.w3.org/2000/svg\" height=\"24px\" viewBox=\"0 -960 960 960\">\n",
              "    <path d=\"M120-120v-720h720v720H120Zm60-500h600v-160H180v160Zm220 220h160v-160H400v160Zm0 220h160v-160H400v160ZM180-400h160v-160H180v160Zm440 0h160v-160H620v160ZM180-180h160v-160H180v160Zm440 0h160v-160H620v160Z\"/>\n",
              "  </svg>\n",
              "    </button>\n",
              "\n",
              "  <style>\n",
              "    .colab-df-container {\n",
              "      display:flex;\n",
              "      gap: 12px;\n",
              "    }\n",
              "\n",
              "    .colab-df-convert {\n",
              "      background-color: #E8F0FE;\n",
              "      border: none;\n",
              "      border-radius: 50%;\n",
              "      cursor: pointer;\n",
              "      display: none;\n",
              "      fill: #1967D2;\n",
              "      height: 32px;\n",
              "      padding: 0 0 0 0;\n",
              "      width: 32px;\n",
              "    }\n",
              "\n",
              "    .colab-df-convert:hover {\n",
              "      background-color: #E2EBFA;\n",
              "      box-shadow: 0px 1px 2px rgba(60, 64, 67, 0.3), 0px 1px 3px 1px rgba(60, 64, 67, 0.15);\n",
              "      fill: #174EA6;\n",
              "    }\n",
              "\n",
              "    .colab-df-buttons div {\n",
              "      margin-bottom: 4px;\n",
              "    }\n",
              "\n",
              "    [theme=dark] .colab-df-convert {\n",
              "      background-color: #3B4455;\n",
              "      fill: #D2E3FC;\n",
              "    }\n",
              "\n",
              "    [theme=dark] .colab-df-convert:hover {\n",
              "      background-color: #434B5C;\n",
              "      box-shadow: 0px 1px 3px 1px rgba(0, 0, 0, 0.15);\n",
              "      filter: drop-shadow(0px 1px 2px rgba(0, 0, 0, 0.3));\n",
              "      fill: #FFFFFF;\n",
              "    }\n",
              "  </style>\n",
              "\n",
              "    <script>\n",
              "      const buttonEl =\n",
              "        document.querySelector('#df-0a21b8bf-c48f-43a4-83ad-ed6d34e72baa button.colab-df-convert');\n",
              "      buttonEl.style.display =\n",
              "        google.colab.kernel.accessAllowed ? 'block' : 'none';\n",
              "\n",
              "      async function convertToInteractive(key) {\n",
              "        const element = document.querySelector('#df-0a21b8bf-c48f-43a4-83ad-ed6d34e72baa');\n",
              "        const dataTable =\n",
              "          await google.colab.kernel.invokeFunction('convertToInteractive',\n",
              "                                                    [key], {});\n",
              "        if (!dataTable) return;\n",
              "\n",
              "        const docLinkHtml = 'Like what you see? Visit the ' +\n",
              "          '<a target=\"_blank\" href=https://colab.research.google.com/notebooks/data_table.ipynb>data table notebook</a>'\n",
              "          + ' to learn more about interactive tables.';\n",
              "        element.innerHTML = '';\n",
              "        dataTable['output_type'] = 'display_data';\n",
              "        await google.colab.output.renderOutput(dataTable, element);\n",
              "        const docLink = document.createElement('div');\n",
              "        docLink.innerHTML = docLinkHtml;\n",
              "        element.appendChild(docLink);\n",
              "      }\n",
              "    </script>\n",
              "  </div>\n",
              "\n",
              "\n",
              "<div id=\"df-4fa5fa37-2f0c-45ee-9ed8-5e168d28a6e3\">\n",
              "  <button class=\"colab-df-quickchart\" onclick=\"quickchart('df-4fa5fa37-2f0c-45ee-9ed8-5e168d28a6e3')\"\n",
              "            title=\"Suggest charts\"\n",
              "            style=\"display:none;\">\n",
              "\n",
              "<svg xmlns=\"http://www.w3.org/2000/svg\" height=\"24px\"viewBox=\"0 0 24 24\"\n",
              "     width=\"24px\">\n",
              "    <g>\n",
              "        <path d=\"M19 3H5c-1.1 0-2 .9-2 2v14c0 1.1.9 2 2 2h14c1.1 0 2-.9 2-2V5c0-1.1-.9-2-2-2zM9 17H7v-7h2v7zm4 0h-2V7h2v10zm4 0h-2v-4h2v4z\"/>\n",
              "    </g>\n",
              "</svg>\n",
              "  </button>\n",
              "\n",
              "<style>\n",
              "  .colab-df-quickchart {\n",
              "      --bg-color: #E8F0FE;\n",
              "      --fill-color: #1967D2;\n",
              "      --hover-bg-color: #E2EBFA;\n",
              "      --hover-fill-color: #174EA6;\n",
              "      --disabled-fill-color: #AAA;\n",
              "      --disabled-bg-color: #DDD;\n",
              "  }\n",
              "\n",
              "  [theme=dark] .colab-df-quickchart {\n",
              "      --bg-color: #3B4455;\n",
              "      --fill-color: #D2E3FC;\n",
              "      --hover-bg-color: #434B5C;\n",
              "      --hover-fill-color: #FFFFFF;\n",
              "      --disabled-bg-color: #3B4455;\n",
              "      --disabled-fill-color: #666;\n",
              "  }\n",
              "\n",
              "  .colab-df-quickchart {\n",
              "    background-color: var(--bg-color);\n",
              "    border: none;\n",
              "    border-radius: 50%;\n",
              "    cursor: pointer;\n",
              "    display: none;\n",
              "    fill: var(--fill-color);\n",
              "    height: 32px;\n",
              "    padding: 0;\n",
              "    width: 32px;\n",
              "  }\n",
              "\n",
              "  .colab-df-quickchart:hover {\n",
              "    background-color: var(--hover-bg-color);\n",
              "    box-shadow: 0 1px 2px rgba(60, 64, 67, 0.3), 0 1px 3px 1px rgba(60, 64, 67, 0.15);\n",
              "    fill: var(--button-hover-fill-color);\n",
              "  }\n",
              "\n",
              "  .colab-df-quickchart-complete:disabled,\n",
              "  .colab-df-quickchart-complete:disabled:hover {\n",
              "    background-color: var(--disabled-bg-color);\n",
              "    fill: var(--disabled-fill-color);\n",
              "    box-shadow: none;\n",
              "  }\n",
              "\n",
              "  .colab-df-spinner {\n",
              "    border: 2px solid var(--fill-color);\n",
              "    border-color: transparent;\n",
              "    border-bottom-color: var(--fill-color);\n",
              "    animation:\n",
              "      spin 1s steps(1) infinite;\n",
              "  }\n",
              "\n",
              "  @keyframes spin {\n",
              "    0% {\n",
              "      border-color: transparent;\n",
              "      border-bottom-color: var(--fill-color);\n",
              "      border-left-color: var(--fill-color);\n",
              "    }\n",
              "    20% {\n",
              "      border-color: transparent;\n",
              "      border-left-color: var(--fill-color);\n",
              "      border-top-color: var(--fill-color);\n",
              "    }\n",
              "    30% {\n",
              "      border-color: transparent;\n",
              "      border-left-color: var(--fill-color);\n",
              "      border-top-color: var(--fill-color);\n",
              "      border-right-color: var(--fill-color);\n",
              "    }\n",
              "    40% {\n",
              "      border-color: transparent;\n",
              "      border-right-color: var(--fill-color);\n",
              "      border-top-color: var(--fill-color);\n",
              "    }\n",
              "    60% {\n",
              "      border-color: transparent;\n",
              "      border-right-color: var(--fill-color);\n",
              "    }\n",
              "    80% {\n",
              "      border-color: transparent;\n",
              "      border-right-color: var(--fill-color);\n",
              "      border-bottom-color: var(--fill-color);\n",
              "    }\n",
              "    90% {\n",
              "      border-color: transparent;\n",
              "      border-bottom-color: var(--fill-color);\n",
              "    }\n",
              "  }\n",
              "</style>\n",
              "\n",
              "  <script>\n",
              "    async function quickchart(key) {\n",
              "      const quickchartButtonEl =\n",
              "        document.querySelector('#' + key + ' button');\n",
              "      quickchartButtonEl.disabled = true;  // To prevent multiple clicks.\n",
              "      quickchartButtonEl.classList.add('colab-df-spinner');\n",
              "      try {\n",
              "        const charts = await google.colab.kernel.invokeFunction(\n",
              "            'suggestCharts', [key], {});\n",
              "      } catch (error) {\n",
              "        console.error('Error during call to suggestCharts:', error);\n",
              "      }\n",
              "      quickchartButtonEl.classList.remove('colab-df-spinner');\n",
              "      quickchartButtonEl.classList.add('colab-df-quickchart-complete');\n",
              "    }\n",
              "    (() => {\n",
              "      let quickchartButtonEl =\n",
              "        document.querySelector('#df-4fa5fa37-2f0c-45ee-9ed8-5e168d28a6e3 button');\n",
              "      quickchartButtonEl.style.display =\n",
              "        google.colab.kernel.accessAllowed ? 'block' : 'none';\n",
              "    })();\n",
              "  </script>\n",
              "</div>\n",
              "\n",
              "    </div>\n",
              "  </div>\n"
            ],
            "text/plain": [
              "  HotelCode                HotelName  CountryCode   Longitude   Latitude  \\\n",
              "0   1688289               villa alun        101.0  115.148258  -8.672673   \n",
              "1   1863020          house of ahasna        130.0   79.864820   7.182650   \n",
              "2   5414820  casa vacanze margherita        110.0    9.680900  40.360940   \n",
              "3   5758326              casa bethel         91.0  -90.379270  15.469350   \n",
              "4   1116957              pension abc         57.0   13.365430  52.499470   \n",
              "\n",
              "   HotelRating  DescLength                                        Description  \\\n",
              "0          4.0        2325  HeadLine : In Seminyak (Batubelig)Location : W...   \n",
              "1          3.0         732  Located in Katunayaka, House Of Ahasna feature...   \n",
              "2          0.0         898  Casa Vacanze Margherita is a detached holiday ...   \n",
              "3          0.0         480  Located in Cobán, in a building dating from 20...   \n",
              "4          3.0        1662  This quietly located guest house in Berlin off...   \n",
              "\n",
              "     CityName  \n",
              "0    Seminyak  \n",
              "1  Katunayaka  \n",
              "2      Orosei  \n",
              "3       Coban  \n",
              "4      Berlin  "
            ]
          },
          "execution_count": 4,
          "metadata": {},
          "output_type": "execute_result"
        }
      ],
      "source": [
        "dataframe_analysis.head()"
      ]
    },
    {
      "cell_type": "code",
      "execution_count": null,
      "metadata": {
        "colab": {
          "base_uri": "https://localhost:8080/"
        },
        "id": "TDJVMazBYYjx",
        "outputId": "5dc19082-c395-44ae-f82a-8b1e46f644fc"
      },
      "outputs": [
        {
          "data": {
            "text/plain": [
              "(1066257, 9)"
            ]
          },
          "execution_count": 5,
          "metadata": {},
          "output_type": "execute_result"
        }
      ],
      "source": [
        "#Corroboramos el tamaño de nuestro DataFrame para tenerlo como referencia.\n",
        "dataframe_analysis.shape"
      ]
    },
    {
      "cell_type": "markdown",
      "metadata": {
        "id": "AZPS1fw-gaD1"
      },
      "source": [
        "## **Ingenería de Datos**\n",
        "\n",
        "\n",
        "\n",
        "La ingeniería de datos es una proceso de la ciencia de datos dedicado al diseño, desarrollo y mantienenimiento de los sistemas que procesan grandes volúmenes de datos. El objetivo es asegurar que sean útiles y accesibles para análisis, reportes, y aplicaciones de inteligencia artificial. Esta especialidad juega un papel fundamental en el tratamiento de grandes volúmenes de datos, garantizando que sean gestionados, almacenados y transformados de manera efectiva y eficiente. En el caso particular de este proyecto, y cómo ya se menciono anteriormente,  la primera tarea de recopilación y limpieza de datos, que implica la eliminación de incoherencias, duplicados, o información irrelevante de la base de datos de hoteles ya se llevó acabo.\n",
        "\n",
        "En este Avance 2, se llevará a cabo la transformación de estos datos limpios en una estructura que sea apta para su uso en aplicaciones analíticas y de recomendación, a través de procesos conocidos como transformación y carga (ETL). Este paso es crucial porque transforma los datos crudos en un formato que es más adecuado para el análisis y para alimentar algoritmos de machine learning. En el caso específico de este proyecto, se menciona la creación de dos tipos de archivos por cada hotel: uno conteniendo la descripción del hotel y otro sus metadatos relevantes. Esta estructuración facilita el empleo de técnicas como RAG (Retriever-Answer Generator) en el sistema de recomendación, permitiendo que el algoritmo recupere y utilice la información de manera más eficiente.\n",
        "\n",
        "La implementación de estos procesos no solo asegura la utilidad de los datos para los propósitos inmediatos del proyecto, sino que también mejora la eficiencia del sistema. Por ejemplo, mediante la optimización de la base de datos y la automatización de los flujos de trabajo de datos, se puede reducir significativamente el tiempo necesario para procesar consultas y generar recomendaciones. Esto, a su vez, mejora la experiencia del usuario al proporcionar respuestas rápidas y personalizadas."
      ]
    },
    {
      "cell_type": "code",
      "execution_count": null,
      "metadata": {
        "id": "7Dy_LsoUijeW"
      },
      "outputs": [],
      "source": [
        "# Asegurarse de que los directorios para guardar los archivos existan\n",
        "output_dir = '/content/drive/My Drive/Colab Notebooks/Proyecto Integrador/SEMANA 04/Output/'\n",
        "os.makedirs(output_dir + 'descripciones', exist_ok=True)\n",
        "os.makedirs(output_dir + 'metadatos', exist_ok=True)"
      ]
    },
    {
      "cell_type": "code",
      "execution_count": null,
      "metadata": {
        "id": "RRIeOTt7iwaK"
      },
      "outputs": [],
      "source": [
        "# Procesar cada fila en el DataFrame\n",
        "for index, row in dataframe_analysis.iterrows():\n",
        "    # Identificamos la columna que contiene el código único de cada hotel\n",
        "    base_filename = f\"hotel_{row['HotelCode']}\"\n",
        "\n",
        "    #Separamos las descripciones\n",
        "    descripcion_path = f'{output_dir}descripciones/{base_filename}.txt'\n",
        "    with open(descripcion_path, 'w') as file:\n",
        "        file.write(row['Description'])\n",
        "\n",
        "    #Se crea los archivos de metadatos\n",
        "    metadata_path = f'{output_dir}metadatos/{base_filename}.json'\n",
        "    metadata = {\n",
        "        'hotel_id': row['HotelCode'],\n",
        "        'nombre': row['HotelName'],\n",
        "        'ciudad': row['CityName'],\n",
        "        'código_país': row['CountryCode'],\n",
        "        'rating': row['HotelRating'],\n",
        "    }\n",
        "    with open(metadata_path, 'w') as file:\n",
        "        json.dump(metadata, file)\n",
        "\n",
        "print(\"La Totalidad de los metadatos se creó exitosamente\")"
      ]
    },
    {
      "cell_type": "markdown",
      "metadata": {
        "id": "QJo9RHFWrx_d"
      },
      "source": [
        "Una vez creado un archivo de metadatos y otro de texto con las descripciones, es necesario hacer un proceso de generación de embeddings para cada descripción. Estos embeddings son representaciones vectoriales de las descripciones de texto que permitirán al sistema RAG (Retriever-Answer Generator) recuperar eficientemente la información relevante.\n",
        "\n",
        "En este caso en específico se optó por trabajar con los modelos transformadores pre-entrenados  de Huggin Face, empresa lider en modelos de NLP."
      ]
    },
    {
      "cell_type": "code",
      "execution_count": null,
      "metadata": {
        "colab": {
          "base_uri": "https://localhost:8080/"
        },
        "id": "FYoK1ShQuJ0f",
        "outputId": "662a4222-08a8-4478-bbdb-c268d229ffb4"
      },
      "outputs": [
        {
          "name": "stdout",
          "output_type": "stream",
          "text": [
            "Requirement already satisfied: transformers in /usr/local/lib/python3.10/dist-packages (4.40.2)\n",
            "Requirement already satisfied: sentence-transformers in /usr/local/lib/python3.10/dist-packages (2.7.0)\n",
            "Requirement already satisfied: filelock in /usr/local/lib/python3.10/dist-packages (from transformers) (3.14.0)\n",
            "Requirement already satisfied: huggingface-hub<1.0,>=0.19.3 in /usr/local/lib/python3.10/dist-packages (from transformers) (0.20.3)\n",
            "Requirement already satisfied: numpy>=1.17 in /usr/local/lib/python3.10/dist-packages (from transformers) (1.25.2)\n",
            "Requirement already satisfied: packaging>=20.0 in /usr/local/lib/python3.10/dist-packages (from transformers) (24.0)\n",
            "Requirement already satisfied: pyyaml>=5.1 in /usr/local/lib/python3.10/dist-packages (from transformers) (6.0.1)\n",
            "Requirement already satisfied: regex!=2019.12.17 in /usr/local/lib/python3.10/dist-packages (from transformers) (2023.12.25)\n",
            "Requirement already satisfied: requests in /usr/local/lib/python3.10/dist-packages (from transformers) (2.31.0)\n",
            "Requirement already satisfied: tokenizers<0.20,>=0.19 in /usr/local/lib/python3.10/dist-packages (from transformers) (0.19.1)\n",
            "Requirement already satisfied: safetensors>=0.4.1 in /usr/local/lib/python3.10/dist-packages (from transformers) (0.4.3)\n",
            "Requirement already satisfied: tqdm>=4.27 in /usr/local/lib/python3.10/dist-packages (from transformers) (4.66.4)\n",
            "Requirement already satisfied: torch>=1.11.0 in /usr/local/lib/python3.10/dist-packages (from sentence-transformers) (2.2.1+cu121)\n",
            "Requirement already satisfied: scikit-learn in /usr/local/lib/python3.10/dist-packages (from sentence-transformers) (1.2.2)\n",
            "Requirement already satisfied: scipy in /usr/local/lib/python3.10/dist-packages (from sentence-transformers) (1.11.4)\n",
            "Requirement already satisfied: Pillow in /usr/local/lib/python3.10/dist-packages (from sentence-transformers) (9.4.0)\n",
            "Requirement already satisfied: fsspec>=2023.5.0 in /usr/local/lib/python3.10/dist-packages (from huggingface-hub<1.0,>=0.19.3->transformers) (2023.6.0)\n",
            "Requirement already satisfied: typing-extensions>=3.7.4.3 in /usr/local/lib/python3.10/dist-packages (from huggingface-hub<1.0,>=0.19.3->transformers) (4.11.0)\n",
            "Requirement already satisfied: sympy in /usr/local/lib/python3.10/dist-packages (from torch>=1.11.0->sentence-transformers) (1.12)\n",
            "Requirement already satisfied: networkx in /usr/local/lib/python3.10/dist-packages (from torch>=1.11.0->sentence-transformers) (3.3)\n",
            "Requirement already satisfied: jinja2 in /usr/local/lib/python3.10/dist-packages (from torch>=1.11.0->sentence-transformers) (3.1.4)\n",
            "Requirement already satisfied: nvidia-cuda-nvrtc-cu12==12.1.105 in /usr/local/lib/python3.10/dist-packages (from torch>=1.11.0->sentence-transformers) (12.1.105)\n",
            "Requirement already satisfied: nvidia-cuda-runtime-cu12==12.1.105 in /usr/local/lib/python3.10/dist-packages (from torch>=1.11.0->sentence-transformers) (12.1.105)\n",
            "Requirement already satisfied: nvidia-cuda-cupti-cu12==12.1.105 in /usr/local/lib/python3.10/dist-packages (from torch>=1.11.0->sentence-transformers) (12.1.105)\n",
            "Requirement already satisfied: nvidia-cudnn-cu12==8.9.2.26 in /usr/local/lib/python3.10/dist-packages (from torch>=1.11.0->sentence-transformers) (8.9.2.26)\n",
            "Requirement already satisfied: nvidia-cublas-cu12==12.1.3.1 in /usr/local/lib/python3.10/dist-packages (from torch>=1.11.0->sentence-transformers) (12.1.3.1)\n",
            "Requirement already satisfied: nvidia-cufft-cu12==11.0.2.54 in /usr/local/lib/python3.10/dist-packages (from torch>=1.11.0->sentence-transformers) (11.0.2.54)\n",
            "Requirement already satisfied: nvidia-curand-cu12==10.3.2.106 in /usr/local/lib/python3.10/dist-packages (from torch>=1.11.0->sentence-transformers) (10.3.2.106)\n",
            "Requirement already satisfied: nvidia-cusolver-cu12==11.4.5.107 in /usr/local/lib/python3.10/dist-packages (from torch>=1.11.0->sentence-transformers) (11.4.5.107)\n",
            "Requirement already satisfied: nvidia-cusparse-cu12==12.1.0.106 in /usr/local/lib/python3.10/dist-packages (from torch>=1.11.0->sentence-transformers) (12.1.0.106)\n",
            "Requirement already satisfied: nvidia-nccl-cu12==2.19.3 in /usr/local/lib/python3.10/dist-packages (from torch>=1.11.0->sentence-transformers) (2.19.3)\n",
            "Requirement already satisfied: nvidia-nvtx-cu12==12.1.105 in /usr/local/lib/python3.10/dist-packages (from torch>=1.11.0->sentence-transformers) (12.1.105)\n",
            "Requirement already satisfied: triton==2.2.0 in /usr/local/lib/python3.10/dist-packages (from torch>=1.11.0->sentence-transformers) (2.2.0)\n",
            "Requirement already satisfied: nvidia-nvjitlink-cu12 in /usr/local/lib/python3.10/dist-packages (from nvidia-cusolver-cu12==11.4.5.107->torch>=1.11.0->sentence-transformers) (12.4.127)\n",
            "Requirement already satisfied: charset-normalizer<4,>=2 in /usr/local/lib/python3.10/dist-packages (from requests->transformers) (3.3.2)\n",
            "Requirement already satisfied: idna<4,>=2.5 in /usr/local/lib/python3.10/dist-packages (from requests->transformers) (3.7)\n",
            "Requirement already satisfied: urllib3<3,>=1.21.1 in /usr/local/lib/python3.10/dist-packages (from requests->transformers) (2.0.7)\n",
            "Requirement already satisfied: certifi>=2017.4.17 in /usr/local/lib/python3.10/dist-packages (from requests->transformers) (2024.2.2)\n",
            "Requirement already satisfied: joblib>=1.1.1 in /usr/local/lib/python3.10/dist-packages (from scikit-learn->sentence-transformers) (1.4.2)\n",
            "Requirement already satisfied: threadpoolctl>=2.0.0 in /usr/local/lib/python3.10/dist-packages (from scikit-learn->sentence-transformers) (3.5.0)\n",
            "Requirement already satisfied: MarkupSafe>=2.0 in /usr/local/lib/python3.10/dist-packages (from jinja2->torch>=1.11.0->sentence-transformers) (2.1.5)\n",
            "Requirement already satisfied: mpmath>=0.19 in /usr/local/lib/python3.10/dist-packages (from sympy->torch>=1.11.0->sentence-transformers) (1.3.0)\n"
          ]
        }
      ],
      "source": [
        "!pip install transformers sentence-transformers\n",
        "from sentence_transformers import SentenceTransformer"
      ]
    },
    {
      "cell_type": "markdown",
      "metadata": {
        "id": "6r628Tclvzfj"
      },
      "source": [
        "Cómo se puede observar Hugging Face tiene un método diseñado específicamente para el propósito de generar embeddings de texto. En este caso es importante remarcar que se optó por utilizar especificamente el modelo 'all-MiniLM-L6-v2' por las siguientes razones:\n",
        "\n",
        "1. **Eficiencia:** El modelo MiniLM se centra en ser pequeño y rápido sin sacrificar demasiado la precisión. Tiene menos parámetros comparado con modelos más grandes como BERT o RoBERTa, lo que lo hace más rápido en tiempo de inferencia y menos demandante en términos de recursos computacionales. Esto es especialmente útil cuando se trabaja en entornos con recursos limitados o cuando se necesitan respuestas en tiempo real.\n",
        "2. **Calidad de los Embeddings:** A pesar de su tamaño reducido, MiniLM ha sido entrenado y optimizado para mantener una alta calidad en los embeddings que genera. Utiliza técnicas de destilación de conocimiento, donde un modelo más grande y más potente enseña al modelo más pequeño (MiniLM) a replicar su comportamiento. Esto permite que MiniLM alcance una calidad de representación cercana a la de modelos más grandes.\n",
        "3. **Buen Balance entre Rendimiento y Recursos:** Proporciona un excelente equilibrio entre consumo de recursos y calidad de resultados, permitiendo desplegar un sistema potente incluso en infraestructuras limitadas.\n",
        "\n",
        "Además es importante mencinonar que este transformer ya incluye dentro de su pipeline la tokenización del texto. Cuando se pasa un texto por método .encode() del modelo, internamente realiza varios pasos entre ellos:\n",
        "\n",
        "* **Tokenización:** El texto es dividido en tokens según el tokenizador específico del modelo. Este paso convierte el texto en un formato que el modelo puede entender, generalmente transformándolo en una secuencia de IDs de tokens.\n",
        "* **Embedding de Tokens:** Cada token es convertido en un vector en un espacio de alta dimensionalidad. Esto se hace utilizando la matriz de embedding del modelo.\n",
        "\n",
        "**Adicional a esto también es importante recalcar que durante el Acance 1 se hicieron procesos de limpieza a esta columna en específico. Por ejemplo, se descartaron entradas que no tuvieran una descripción relevante (mayor a 121 caractérest). Además se eliminaron los tags de HTML por medio de Regex.**\n",
        "\n"
      ]
    },
    {
      "cell_type": "code",
      "execution_count": null,
      "metadata": {
        "id": "SkFAxLdpuBHF"
      },
      "outputs": [],
      "source": [
        "# Directorio donde se encuentran las descripciones\n",
        "descripcion_dir = '/content/drive/My Drive/Colab Notebooks/Proyecto Integrador/SEMANA 04/Output/descripciones'\n"
      ]
    },
    {
      "cell_type": "code",
      "execution_count": null,
      "metadata": {
        "colab": {
          "background_save": true,
          "base_uri": "https://localhost:8080/"
        },
        "id": "fewlDWgKrxmJ",
        "outputId": "f8e4fb54-8e51-4108-e6c1-567d4571f86b"
      },
      "outputs": [
        {
          "name": "stderr",
          "output_type": "stream",
          "text": [
            "/usr/local/lib/python3.10/dist-packages/huggingface_hub/utils/_token.py:88: UserWarning: \n",
            "The secret `HF_TOKEN` does not exist in your Colab secrets.\n",
            "To authenticate with the Hugging Face Hub, create a token in your settings tab (https://huggingface.co/settings/tokens), set it as secret in your Google Colab and restart your session.\n",
            "You will be able to reuse this secret in all of your notebooks.\n",
            "Please note that authentication is recommended but still optional to access public models or datasets.\n",
            "  warnings.warn(\n"
          ]
        }
      ],
      "source": [
        "# Cargando el modelo de sentence transformers\n",
        "model = SentenceTransformer('all-MiniLM-L6-v2')\n",
        "\n",
        "embeddings = {}\n",
        "\n",
        "\n",
        "for filename in os.listdir(descripcion_dir):\n",
        "    if filename.endswith(\".txt\"):\n",
        "        file_path = os.path.join(descripcion_dir, filename)\n",
        "        with open(file_path, 'r') as file:\n",
        "            description_text = file.read()\n",
        "            # Generamos el embedding\n",
        "            embedding = model.encode(description_text, convert_to_tensor=True)\n",
        "            # Se almacena en el diccionario\n",
        "            embeddings[filename] = embedding.numpy()  # Convertir a numpy array para almacenamiento\n",
        "\n",
        "np.save('/content/drive/My Drive/Colab Notebooks/Proyecto Integrador/SEMANA 04/Output/embeddings.npy', embeddings)"
      ]
    },
    {
      "cell_type": "markdown",
      "metadata": {
        "id": "b68fb8b7-959c-4eab-82d8-ac622c8071ff"
      },
      "source": [
        "## **Conclusiones**\n"
      ]
    },
    {
      "cell_type": "markdown",
      "metadata": {
        "id": "_6oLU1ff3twF"
      },
      "source": [
        "\n"
      ]
    },
    {
      "cell_type": "markdown",
      "metadata": {
        "id": "c8c2c4ae-24a2-40a1-a4c1-44792313fbff"
      },
      "source": [
        "## **Referencias**\n"
      ]
    }
  ],
  "metadata": {
    "colab": {
      "provenance": [],
      "authorship_tag": "ABX9TyNwgfE4HI5+g17ZFBGo+aZ5",
      "include_colab_link": true
    },
    "kernelspec": {
      "display_name": "Python 3",
      "name": "python3"
    },
    "language_info": {
      "name": "python"
    }
  },
  "nbformat": 4,
  "nbformat_minor": 0
}