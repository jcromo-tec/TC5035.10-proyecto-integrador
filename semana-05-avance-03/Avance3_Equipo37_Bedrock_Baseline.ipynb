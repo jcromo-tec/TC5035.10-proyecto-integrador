{
 "cells": [
  {
   "cell_type": "markdown",
   "metadata": {
    "id": "HMQEY1ttU_w-"
   },
   "source": [
    "![logo-tec-de-monterrey-.png](data:image/png;base64,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)"
   ]
  },
  {
   "cell_type": "markdown",
   "metadata": {
    "id": "b3d0b781-0da5-4c6a-a76a-c6c0837bae05"
   },
   "source": [
    "## Proyecto Integrador\n",
    "## Smart Travel Assistant: Optimizando la Experiencia de Viaje con IA\n",
    "## Avance 3"
   ]
  },
  {
   "cell_type": "markdown",
   "metadata": {
    "id": "18dd3d13-d70f-4c28-894b-159fb9f0f7f6"
   },
   "source": [
    "### Equipo 37\n",
    "##### A00759664 - Joel Orlando Hernández Ramos\n",
    "##### A01793486 - Juan Carlos Alvarado Carricarte\n",
    "##### A00260430 - Juan Carlos Romo Cárdenas\n"
   ]
  },
  {
   "cell_type": "markdown",
   "metadata": {
    "id": "wiPf8lTteLm1"
   },
   "source": [
    "## **Descripción del Proyecto**"
   ]
  },
  {
   "cell_type": "markdown",
   "metadata": {
    "id": "XqZeUJCEefQ3"
   },
   "source": [
    "Este proyecto se propone desarrollar un asistente de inteligencia artificial integrado en una plataforma de traveltech, que facilita la elección personalizada de hoteles y destinos para los usuarios. Utilizando la función \"knowledge base\" de Amazon Bedrock, el sistema integrará una extensa base de datos con información detallada sobre más de 2 millones de hoteles. Para este efecto  \n",
    "\n",
    "El objetivo principal de este proyecto es transformar la experiencia de planificación de viajes, haciendo que sea más intuitiva, personalizada y respaldada por datos. Las metas específicas incluyen mejorar la satisfacción del cliente mediante recomendaciones precisas y personalizadas, reducir el tiempo necesario para planificar un viaje y aumentar la eficiencia del proceso de selección de destinos y hoteles.\n",
    "\n",
    "El asistente empleará modelos avanzados de sistemas de recomendación, potenciados por un modelo de lenguaje de aprendizaje profundo (LLM), para sugerir itinerarios personalizados y ofrecer asistencia general en la planificación de viajes. Las recomendaciones incluirán referencias detalladas a los hoteles disponibles en nuestra base de datos, asegurando que los usuarios reciban opciones que no solo se ajustan a sus preferencias personales, sino que también maximizan la calidad y la relevancia de la información proporcionada."
   ]
  },
  {
   "cell_type": "markdown",
   "metadata": {
    "id": "b8af6127-cc07-4a20-8fea-57ed0d56a355"
   },
   "source": [
    "## **Cargando Conjunto de Datos**"
   ]
  },
  {
   "cell_type": "code",
   "execution_count": 1,
   "metadata": {
    "id": "7f538ba7-a747-42b5-9481-38084383bf8f"
   },
   "outputs": [],
   "source": [
    "# Importando librerias requeridas\n",
    "import re\n",
    "import json\n",
    "import uuid\n",
    "import io\n",
    "import logging\n",
    "import pyarrow.parquet as pq\n",
    "import pandas as pd\n",
    "import numpy as np\n",
    "import boto3\n"
   ]
  },
  {
   "cell_type": "code",
   "execution_count": 2,
   "metadata": {},
   "outputs": [],
   "source": [
    "# Creado manejador de bitácora\n",
    "logger = logging.getLogger(__name__)\n",
    "logging.basicConfig(\n",
    "    filename='../logs/Avance3_Equipo37_Bedrock_Baseline.log',\n",
    "    level=logging.INFO,\n",
    "    format='%(asctime)s %(levelname)-8s %(message)s',\n",
    "    datefmt='%Y-%m-%d %H:%M:%S'\n",
    ")"
   ]
  },
  {
   "cell_type": "code",
   "execution_count": 3,
   "metadata": {},
   "outputs": [],
   "source": [
    "DATA_SET = 's3://volindo-dataset/hotel-clean-data-set/hotel-data-set.snappy.parquet'\n",
    "LOCAL_SET = '../local-data/hotel-data-set.snappy.parquet'\n",
    "DATA_SOURCE = 'hotel-data-source'\n",
    "AWS_KBID = 'S90Y9VRVCZ'\n"
   ]
  },
  {
   "cell_type": "code",
   "execution_count": 4,
   "metadata": {
    "id": "0d6d5eee-596e-4bb8-a3c9-919ce176fe7b"
   },
   "outputs": [],
   "source": [
    "# Creando sesion para AWS Bedrock. Credenciales y configuracion se obtienen de ~/.aws\n",
    "bedrock_agent_runtime = boto3.client(\n",
    "    \"bedrock-agent-runtime\"\n",
    ")"
   ]
  },
  {
   "cell_type": "code",
   "execution_count": 5,
   "metadata": {},
   "outputs": [],
   "source": [
    "def retrieve_and_generate(input, kbid, runtime):\n",
    "    return runtime.retrieve_and_generate(\n",
    "        input = {\n",
    "          'text': input  \n",
    "        },\n",
    "        retrieveAndGenerateConfiguration = {\n",
    "            'type': 'KNOWLEDGE_BASE',\n",
    "            'knowledgeBaseConfiguration': {\n",
    "                'knowledgeBaseId': kbid,\n",
    "                'modelArn': 'arn:aws:bedrock:us-east-1::foundation-model/amazon.titan-text-premier-v1:0'\n",
    "                }\n",
    "        }\n",
    "    )"
   ]
  },
  {
   "cell_type": "code",
   "execution_count": 6,
   "metadata": {},
   "outputs": [],
   "source": [
    "def display_response(response):\n",
    "    # desplegando respuestas\n",
    "    for citation in response['citations']:\n",
    "        print(citation['generatedResponsePart']['textResponsePart']['text'])\n",
    "        print('Referencias:')\n",
    "        for reference in citation['retrievedReferences']:\n",
    "            print(f\"\\nPais: {reference['metadata']['Country']}, Continente:{reference['metadata']['Continent']}, URI:{reference['metadata']['x-amz-bedrock-kb-source-uri']}\")\n",
    "            print(f\"<< {reference['content']['text']} >>\")\n"
   ]
  },
  {
   "cell_type": "code",
   "execution_count": 7,
   "metadata": {
    "id": "0d6d5eee-596e-4bb8-a3c9-919ce176fe7b",
    "scrolled": true
   },
   "outputs": [
    {
     "name": "stdout",
     "output_type": "stream",
     "text": [
      "Pilanesberg National Park is a national park in South Africa that is home to a variety of wildlife, including the \"Big Five\" (lion, leopard, rhinoceros, elephant, and buffalo). The park offers a range of accommodation options to suit different budgets and preferences. Here are some of the accommodation options near Pilanesberg National Park:\n",
      "\n",
      "1. Bakubung Bush Lodge: This luxury lodge is located on the outskirts of the park and offers spacious rooms, a swimming pool, a spa, and a restaurant.\n",
      "Referencias:\n",
      "\n",
      "Pais: South Africa, Continente:Africa, URI:s3://clean-hotel-data/hotel-data-set-ZA.xlsx\n",
      "<< The park entrance fee is ZAR 140 per guest, per day for travel dates from now until December 31, 2023.&nbsp;Disclaimer notification: Amenities are subject to availability and may be chargeable as per the hotel policy.\tstand 2 black rhino game reserve pilanesberg, pilanesberg 7130, pilanesberg, 7130, south africa\t7130\tZA\t27-0664795639\tPilanesberg\t26.978668\t-25.163587\t5 \t1358828\tsea otters lodge\tSituated by its own private area on Kini Bay’s beach, this lodge boasts picturesque sea views and soundproofed rooms with satellite TV.  Elegant decorations and a balcony overlooking the lush gardens are featured in all rooms. Each has free limited WiFi access.  Breakfast is served daily as an optional extra to overnight guests and dinners can be arranged from Monday to Thursday on advance request. Sea Otters Lodge’s traditional braai facilities can be enjoyed on the sun terrace. A refreshing drink can be sampled in a relaxing atmosphere at the honesty bar.  Guests can explore the surrounding area while hiking or horse riding. A car rental service is also provided. Guests are required to show a photo identification and credit card upon check-in. Please note that all Special Requests are subject to availability and additional charges may apply. Please inform Sea Otters Lodge in advance of your expected arrival time. You can use the Special Requests box when booking, or contact the property directly with the contact details provided in your confirmation. Payment before arrival via bank transfer is required. The property will contact you after you book to provide instructions. >>\n",
      "2. Kwa Maritane Bush Lodge: This lodge is located within the park and offers a range of accommodation options, including rooms, suites, and villas. The lodge also has a swimming pool, a spa, and a restaurant.\n",
      "Referencias:\n",
      "\n",
      "Pais: South Africa, Continente:Africa, URI:s3://clean-hotel-data/hotel-data-set-ZA.xlsx\n",
      "<< The park entrance fee is ZAR 140 per guest, per day for travel dates from now until December 31, 2023.&nbsp;Disclaimer notification: Amenities are subject to availability and may be chargeable as per the hotel policy.\tstand 2 black rhino game reserve pilanesberg, pilanesberg 7130, pilanesberg, 7130, south africa\t7130\tZA\t27-0664795639\tPilanesberg\t26.978668\t-25.163587\t5 \t1358828\tsea otters lodge\tSituated by its own private area on Kini Bay’s beach, this lodge boasts picturesque sea views and soundproofed rooms with satellite TV.  Elegant decorations and a balcony overlooking the lush gardens are featured in all rooms. Each has free limited WiFi access.  Breakfast is served daily as an optional extra to overnight guests and dinners can be arranged from Monday to Thursday on advance request. Sea Otters Lodge’s traditional braai facilities can be enjoyed on the sun terrace. A refreshing drink can be sampled in a relaxing atmosphere at the honesty bar.  Guests can explore the surrounding area while hiking or horse riding. A car rental service is also provided. Guests are required to show a photo identification and credit card upon check-in. Please note that all Special Requests are subject to availability and additional charges may apply. Please inform Sea Otters Lodge in advance of your expected arrival time. You can use the Special Requests box when booking, or contact the property directly with the contact details provided in your confirmation. Payment before arrival via bank transfer is required. The property will contact you after you book to provide instructions. >>\n",
      "3. The Kingdom Resort: This resort is located near the park and offers a range of accommodation options, including chalets, villas, and apartments. The resort also has a swimming pool, a restaurant, and a bar.\n",
      "Referencias:\n",
      "\n",
      "Pais: South Africa, Continente:Africa, URI:s3://clean-hotel-data/hotel-data-set-ZA.xlsx\n",
      "<< The park entrance fee is ZAR 140 per guest, per day for travel dates from now until December 31, 2023.&nbsp;Disclaimer notification: Amenities are subject to availability and may be chargeable as per the hotel policy.\tstand 2 black rhino game reserve pilanesberg, pilanesberg 7130, pilanesberg, 7130, south africa\t7130\tZA\t27-0664795639\tPilanesberg\t26.978668\t-25.163587\t5 \t1358828\tsea otters lodge\tSituated by its own private area on Kini Bay’s beach, this lodge boasts picturesque sea views and soundproofed rooms with satellite TV.  Elegant decorations and a balcony overlooking the lush gardens are featured in all rooms. Each has free limited WiFi access.  Breakfast is served daily as an optional extra to overnight guests and dinners can be arranged from Monday to Thursday on advance request. Sea Otters Lodge’s traditional braai facilities can be enjoyed on the sun terrace. A refreshing drink can be sampled in a relaxing atmosphere at the honesty bar.  Guests can explore the surrounding area while hiking or horse riding. A car rental service is also provided. Guests are required to show a photo identification and credit card upon check-in. Please note that all Special Requests are subject to availability and additional charges may apply. Please inform Sea Otters Lodge in advance of your expected arrival time. You can use the Special Requests box when booking, or contact the property directly with the contact details provided in your confirmation. Payment before arrival via bank transfer is required. The property will contact you after you book to provide instructions. >>\n",
      "4. Black Rhino Game Lodge: This lodge is located within the Black Rhino Game Reserve, which is part of the Pilanesberg National Park. The lodge offers luxurious rooms, a swimming pool, a spa, and a restaurant.\n",
      "Referencias:\n",
      "\n",
      "Pais: South Africa, Continente:Africa, URI:s3://clean-hotel-data/hotel-data-set-ZA.xlsx\n",
      "<< The park entrance fee is ZAR 140 per guest, per day for travel dates from now until December 31, 2023.&nbsp;Disclaimer notification: Amenities are subject to availability and may be chargeable as per the hotel policy.\tstand 2 black rhino game reserve pilanesberg, pilanesberg 7130, pilanesberg, 7130, south africa\t7130\tZA\t27-0664795639\tPilanesberg\t26.978668\t-25.163587\t5 \t1358828\tsea otters lodge\tSituated by its own private area on Kini Bay’s beach, this lodge boasts picturesque sea views and soundproofed rooms with satellite TV.  Elegant decorations and a balcony overlooking the lush gardens are featured in all rooms. Each has free limited WiFi access.  Breakfast is served daily as an optional extra to overnight guests and dinners can be arranged from Monday to Thursday on advance request. Sea Otters Lodge’s traditional braai facilities can be enjoyed on the sun terrace. A refreshing drink can be sampled in a relaxing atmosphere at the honesty bar.  Guests can explore the surrounding area while hiking or horse riding. A car rental service is also provided. Guests are required to show a photo identification and credit card upon check-in. Please note that all Special Requests are subject to availability and additional charges may apply. Please inform Sea Otters Lodge in advance of your expected arrival time. You can use the Special Requests box when booking, or contact the property directly with the contact details provided in your confirmation. Payment before arrival via bank transfer is required. The property will contact you after you book to provide instructions. >>\n",
      "5. Tshukudu Bush Lodge: This lodge is located within the park and offers a range of accommodation options, including chalets and villas. The lodge also has a swimming pool, a restaurant, and a bar.\n",
      "Referencias:\n",
      "\n",
      "Pais: South Africa, Continente:Africa, URI:s3://clean-hotel-data/hotel-data-set-ZA.xlsx\n",
      "<< The park entrance fee is ZAR 140 per guest, per day for travel dates from now until December 31, 2023.&nbsp;Disclaimer notification: Amenities are subject to availability and may be chargeable as per the hotel policy.\tstand 2 black rhino game reserve pilanesberg, pilanesberg 7130, pilanesberg, 7130, south africa\t7130\tZA\t27-0664795639\tPilanesberg\t26.978668\t-25.163587\t5 \t1358828\tsea otters lodge\tSituated by its own private area on Kini Bay’s beach, this lodge boasts picturesque sea views and soundproofed rooms with satellite TV.  Elegant decorations and a balcony overlooking the lush gardens are featured in all rooms. Each has free limited WiFi access.  Breakfast is served daily as an optional extra to overnight guests and dinners can be arranged from Monday to Thursday on advance request. Sea Otters Lodge’s traditional braai facilities can be enjoyed on the sun terrace. A refreshing drink can be sampled in a relaxing atmosphere at the honesty bar.  Guests can explore the surrounding area while hiking or horse riding. A car rental service is also provided. Guests are required to show a photo identification and credit card upon check-in. Please note that all Special Requests are subject to availability and additional charges may apply. Please inform Sea Otters Lodge in advance of your expected arrival time. You can use the Special Requests box when booking, or contact the property directly with the contact details provided in your confirmation. Payment before arrival via bank transfer is required. The property will contact you after you book to provide instructions. >>\n",
      "6. Bakgatla Resort: This resort is located near the park and offers a range of accommodation options, including chalets, caravan sites, and camping sites. The resort also has a swimming pool, a restaurant, and a bar.\n",
      "Referencias:\n",
      "\n",
      "Pais: South Africa, Continente:Africa, URI:s3://clean-hotel-data/hotel-data-set-ZA.xlsx\n",
      "<< The park entrance fee is ZAR 140 per guest, per day for travel dates from now until December 31, 2023.&nbsp;Disclaimer notification: Amenities are subject to availability and may be chargeable as per the hotel policy.\tstand 2 black rhino game reserve pilanesberg, pilanesberg 7130, pilanesberg, 7130, south africa\t7130\tZA\t27-0664795639\tPilanesberg\t26.978668\t-25.163587\t5 \t1358828\tsea otters lodge\tSituated by its own private area on Kini Bay’s beach, this lodge boasts picturesque sea views and soundproofed rooms with satellite TV.  Elegant decorations and a balcony overlooking the lush gardens are featured in all rooms. Each has free limited WiFi access.  Breakfast is served daily as an optional extra to overnight guests and dinners can be arranged from Monday to Thursday on advance request. Sea Otters Lodge’s traditional braai facilities can be enjoyed on the sun terrace. A refreshing drink can be sampled in a relaxing atmosphere at the honesty bar.  Guests can explore the surrounding area while hiking or horse riding. A car rental service is also provided. Guests are required to show a photo identification and credit card upon check-in. Please note that all Special Requests are subject to availability and additional charges may apply. Please inform Sea Otters Lodge in advance of your expected arrival time. You can use the Special Requests box when booking, or contact the property directly with the contact details provided in your confirmation. Payment before arrival via bank transfer is required. The property will contact you after you book to provide instructions. >>\n",
      "7. Pilanesberg Centre: This is a budget-friendly option located within the park. It offers basic accommodation, including dormitory-style rooms and camping sites. The center also has a restaurant and a shop.\n",
      "Referencias:\n",
      "\n",
      "Pais: South Africa, Continente:Africa, URI:s3://clean-hotel-data/hotel-data-set-ZA.xlsx\n",
      "<< The park entrance fee is ZAR 140 per guest, per day for travel dates from now until December 31, 2023.&nbsp;Disclaimer notification: Amenities are subject to availability and may be chargeable as per the hotel policy.\tstand 2 black rhino game reserve pilanesberg, pilanesberg 7130, pilanesberg, 7130, south africa\t7130\tZA\t27-0664795639\tPilanesberg\t26.978668\t-25.163587\t5 \t1358828\tsea otters lodge\tSituated by its own private area on Kini Bay’s beach, this lodge boasts picturesque sea views and soundproofed rooms with satellite TV.  Elegant decorations and a balcony overlooking the lush gardens are featured in all rooms. Each has free limited WiFi access.  Breakfast is served daily as an optional extra to overnight guests and dinners can be arranged from Monday to Thursday on advance request. Sea Otters Lodge’s traditional braai facilities can be enjoyed on the sun terrace. A refreshing drink can be sampled in a relaxing atmosphere at the honesty bar.  Guests can explore the surrounding area while hiking or horse riding. A car rental service is also provided. Guests are required to show a photo identification and credit card upon check-in. Please note that all Special Requests are subject to availability and additional charges may apply. Please inform Sea Otters Lodge in advance of your expected arrival time. You can use the Special Requests box when booking, or contact the property directly with the contact details provided in your confirmation. Payment before arrival via bank transfer is required. The property will contact you after you book to provide instructions. >>\n",
      "It is recommended to book accommodation in advance, especially during peak season, to avoid disappointment.\n",
      "Referencias:\n",
      "\n",
      "Pais: South Africa, Continente:Africa, URI:s3://clean-hotel-data/hotel-data-set-ZA.xlsx\n",
      "<< Contact the property in advance to make arrangements.&nbsp;Disclaimer notification: Amenities are subject to availability and may be chargeable as per the hotel policy.\t3/19 black rhino game reserve r565, pilanesberg game reservepilanesberg national parkpilanesberg, pilanesberg, 0366, south africa\t0366\tZA\t+27712791110\tPilanesberg\t26.982003\t-25.168261\t4 \t1612427\tnewlands cottages\tHeadLine : Near University of Cape TownLocation : With a stay at Newlands Cottages in Cape Town, you ll be a 2-minute drive from University of Cape Town and 7 minutes from Kirstenbosch National Botanical Gardens.  This 4-star cottage is 7.3 mi (11.8 km) from Victoria and Alfred Waterfront and 8.2 mi (13.2 km) from Table Mountain.Rooms : Treat yourself to a stay in one of the 4 individually decorated guestrooms, featuring fireplaces and private pools. Rooms have private furnished patios. Kitchens are outfitted with full-sized refrigerators/freezers, stovetops, and microwaves. Complimentary wired and wireless Internet access keeps you connected, and satellite programming provides entertainment.CheckIn Instructions : Extra-person charges may apply and vary depending on property policy. Government-issued photo identification and a credit card, debit card, or cash deposit are required at check-in for incidental charges. Special requests are subject to availability upon check-in and may incur additional charges. Special requests cannot be guaranteed. >>\n",
      "\n",
      "Pais: South Africa, Continente:Africa, URI:s3://clean-hotel-data/hotel-data-set-ZA.xlsx\n",
      "<< The park entrance fee is ZAR 140 per guest, per day for travel dates from now until December 31, 2023.&nbsp;Disclaimer notification: Amenities are subject to availability and may be chargeable as per the hotel policy.\tstand 2 black rhino game reserve pilanesberg, pilanesberg 7130, pilanesberg, 7130, south africa\t7130\tZA\t27-0664795639\tPilanesberg\t26.978668\t-25.163587\t5 \t1358828\tsea otters lodge\tSituated by its own private area on Kini Bay’s beach, this lodge boasts picturesque sea views and soundproofed rooms with satellite TV.  Elegant decorations and a balcony overlooking the lush gardens are featured in all rooms. Each has free limited WiFi access.  Breakfast is served daily as an optional extra to overnight guests and dinners can be arranged from Monday to Thursday on advance request. Sea Otters Lodge’s traditional braai facilities can be enjoyed on the sun terrace. A refreshing drink can be sampled in a relaxing atmosphere at the honesty bar.  Guests can explore the surrounding area while hiking or horse riding. A car rental service is also provided. Guests are required to show a photo identification and credit card upon check-in. Please note that all Special Requests are subject to availability and additional charges may apply. Please inform Sea Otters Lodge in advance of your expected arrival time. You can use the Special Requests box when booking, or contact the property directly with the contact details provided in your confirmation. Payment before arrival via bank transfer is required. The property will contact you after you book to provide instructions. >>\n"
     ]
    }
   ],
   "source": [
    "input = '''Can you suggest accomodation near pilanesberg national park in south africa?'''\n",
    "\n",
    "response = retrieve_and_generate(input, AWS_KBID, bedrock_agent_runtime)\n",
    "\n",
    "display_response(response)"
   ]
  },
  {
   "cell_type": "code",
   "execution_count": 8,
   "metadata": {
    "id": "0d6d5eee-596e-4bb8-a3c9-919ce176fe7b",
    "scrolled": true
   },
   "outputs": [
    {
     "name": "stdout",
     "output_type": "stream",
     "text": [
      "Pilanesberg National Park in the North West Province of South Africa offers various accommodations, including Newlands Cottages, Mountain Cabin, Sea Otters Lodge, Vredenhof 7 Adults Only, and Nkorho Bush Lodge\n",
      "Referencias:\n",
      "\n",
      "Pais: South Africa, Continente:Africa, URI:s3://clean-hotel-data/hotel-data-set-ZA.xlsx\n",
      "<< Contact the property in advance to make arrangements.&nbsp;Disclaimer notification: Amenities are subject to availability and may be chargeable as per the hotel policy.\t3/19 black rhino game reserve r565, pilanesberg game reservepilanesberg national parkpilanesberg, pilanesberg, 0366, south africa\t0366\tZA\t+27712791110\tPilanesberg\t26.982003\t-25.168261\t4 \t1612427\tnewlands cottages\tHeadLine : Near University of Cape TownLocation : With a stay at Newlands Cottages in Cape Town, you ll be a 2-minute drive from University of Cape Town and 7 minutes from Kirstenbosch National Botanical Gardens.  This 4-star cottage is 7.3 mi (11.8 km) from Victoria and Alfred Waterfront and 8.2 mi (13.2 km) from Table Mountain.Rooms : Treat yourself to a stay in one of the 4 individually decorated guestrooms, featuring fireplaces and private pools. Rooms have private furnished patios. Kitchens are outfitted with full-sized refrigerators/freezers, stovetops, and microwaves. Complimentary wired and wireless Internet access keeps you connected, and satellite programming provides entertainment.CheckIn Instructions : Extra-person charges may apply and vary depending on property policy. Government-issued photo identification and a credit card, debit card, or cash deposit are required at check-in for incidental charges. Special requests are subject to availability upon check-in and may incur additional charges. Special requests cannot be guaranteed. >>\n",
      "\n",
      "Pais: South Africa, Continente:Africa, URI:s3://clean-hotel-data/hotel-data-set-ZA.xlsx\n",
      "<< &nbsp;Disclaimer notification: Amenities are subject to availability and may be chargeable as per the hotel policy.\tpilanesberg national park, rustenburg, pilanesberg national park, 0316, south africa\t0316\tZA\t27-14-5525100\tPilanesberg National Park\t27.145368\t-25.33576\t4 \t5453133\tmountain cabin\tHeadLine : In a rural locationLocation : Located in Wolseley, this cabin is in a rural location, within a 15-minute drive of Cape Floral Region Protected Areas and De Oude Church.  This 4-star cabin is 9.7 mi (15.6 km) from Earthquake Museum And Tourism Bureau and 10.2 mi (16.4 km) from Tulbagh Local Nature Reserve.Rooms : Make yourself comfortable in this air-conditioned cabin, featuring a kitchen with a refrigerator and an oven. There s a private balcony or patio. A flat-screen television with digital programming provides entertainment, while complimentary wireless Internet access keeps you connected. >>\n",
      "\n",
      "Pais: South Africa, Continente:Africa, URI:s3://clean-hotel-data/hotel-data-set-ZA.xlsx\n",
      "<< The park entrance fee is ZAR 140 per guest, per day for travel dates from now until December 31, 2023.&nbsp;Disclaimer notification: Amenities are subject to availability and may be chargeable as per the hotel policy.\tstand 2 black rhino game reserve pilanesberg, pilanesberg 7130, pilanesberg, 7130, south africa\t7130\tZA\t27-0664795639\tPilanesberg\t26.978668\t-25.163587\t5 \t1358828\tsea otters lodge\tSituated by its own private area on Kini Bay’s beach, this lodge boasts picturesque sea views and soundproofed rooms with satellite TV.  Elegant decorations and a balcony overlooking the lush gardens are featured in all rooms. Each has free limited WiFi access.  Breakfast is served daily as an optional extra to overnight guests and dinners can be arranged from Monday to Thursday on advance request. Sea Otters Lodge’s traditional braai facilities can be enjoyed on the sun terrace. A refreshing drink can be sampled in a relaxing atmosphere at the honesty bar.  Guests can explore the surrounding area while hiking or horse riding. A car rental service is also provided. Guests are required to show a photo identification and credit card upon check-in. Please note that all Special Requests are subject to availability and additional charges may apply. Please inform Sea Otters Lodge in advance of your expected arrival time. You can use the Special Requests box when booking, or contact the property directly with the contact details provided in your confirmation. Payment before arrival via bank transfer is required. The property will contact you after you book to provide instructions. >>\n",
      "\n",
      "Pais: South Africa, Continente:Africa, URI:s3://clean-hotel-data/hotel-data-set-ZA.xlsx\n",
      "<< Children age 12 and older are permitted on game drives, and are charged the adult rate per game drive. Guests driving to the property should contact this property in advance.&nbsp;Disclaimer notification: Amenities are subject to availability and may be chargeable as per the hotel policy.\tr565 black rhino game reserve, black rhino game reservepilanesberg 7130pilanesberg national park, pilanesberg national park, 2128, south africa\t2128\tZA\t+27 83 2975020\tPilanesberg National Park\t26.972807\t-25.166387\t4 \t5477648\tvredenhof 7 adults only\tHeadLine : In Cape Town (Sea Point Promenade)Location : With a stay at this apartment in Cape Town (Sea Point Promenade), you ll be steps from Green Point Lighthouse and Green Point Park.  This 4-star apartment is 2.6 mi (4.2 km) from Cape Town Cruise Terminal and 4 mi (6.4 km) from Camps Bay Beach.Rooms : Make yourself comfortable in this apartment, featuring a kitchenette with a refrigerator and an oven. Complimentary wireless Internet access is available to keep you connected. Conveniences include a desk and a separate sitting area, and housekeeping is provided weekly.CheckIn Instructions :   Extra-person charges may apply and vary depending on property policyGovernment-issued photo identification and a credit card may be required at check-in for incidental chargesSpecial requests are subject to availability upon check-in and may incur additional charges; special requests cannot be guaranteedThis property accepts credit cards; cash is not accepted  Special Instructions : There is no front desk at this property. >>\n",
      "\n",
      "Pais: South Africa, Continente:Africa, URI:s3://clean-hotel-data/hotel-data-set-ZA.xlsx\n",
      "<< Special requests cannot be guaranteed.   &nbsp;Disclaimer notification: Amenities are subject to availability and may be chargeable as per the hotel policy.\t5 koning street, paarlwestern cape, paarl, 7646, south africa\t7646\tZA\t27-84-4004525\tPaarl\t18.963669\t-33.712524\t4 \t1776808\tel palma guest house\tSituated in Amanzimtoti, El Palma Guest House provides accommodation with free WiFi.  Each unit has a kitchenette, air conditioning, a flat-screen TV and a private bathroom with free toiletries. Some units feature a balcony and/or patio.  A continental breakfast can be enjoyed at the property.  The bed and breakfast offers a barbecue. El Palma Guest House offers a business centre for guest use.  There is a terrace at this property and guests can go cycling nearby.  Arbour Crossing Shopping Centre is 7 km from the accommodation, while KwaMnyandu Shopping Centre is 16 km from the property. The nearest airport is King Shaka International Airport, 64 km from El Palma Guest House.&nbsp;Disclaimer notification: Amenities are subject to availability and may be chargeable as per the hotel policy.\t301 kingsway street, amanzimtoti 4126, durban, 4126, south africa\t4126\tZA\t27319034727\tDurban\t30.8782\t-30.06432\t4 \t1246061\tnkorho bush lodge\tHeadLine : In a national parkLocation : With a stay at Nkorho Bush Lodge in Bushbuckridge, you ll be in a national park, just steps from Sabi Sands Game Reserve and a 2-minute drive from Djuma Game Reserve. >>\n"
     ]
    }
   ],
   "source": [
    "input = '''Can you suggest accomodation near pilanesberg national park in the north west province in south africa?'''\n",
    "\n",
    "response = retrieve_and_generate(input, AWS_KBID, bedrock_agent_runtime)\n",
    "\n",
    "display_response(response)"
   ]
  },
  {
   "cell_type": "code",
   "execution_count": 9,
   "metadata": {},
   "outputs": [
    {
     "name": "stdout",
     "output_type": "stream",
     "text": [
      "I could not find an exact answer to the question, however, I was able to find information that may be relevant.\n",
      "\n",
      "The Pilanesberg National Park is a national park in North West Province, South Africa. It is located in the crater of a long-extinct volcano and is one of the largest volcanic complexes of its type in the world.\n",
      "Referencias:\n",
      "\n",
      "Pais: South Africa, Continente:Africa, URI:s3://clean-hotel-data/hotel-data-set-ZA.xlsx\n",
      "<< Gaborone Game Reserve is 38 km from Buffalo Ridge Safari Lodge, while Gaborone Golf Course is 39 km from the property. The nearest airport is Sir Seretse Khama International, 52 km from the accommodation, and the property offers a paid airport shuttle service.&nbsp;Disclaimer notification: Amenities are subject to availability and may be chargeable as per the hotel policy.\tmadikwe game reserve, , madikwe game reserve, 2840, south africa\t2840\tZA\t+27112346500\tMadikwe Game Reserve\t26.20305\t-24.76688\t5 \t1246266\tkhandizwe river lodge\tLocated on the banks of the Crocodile River with views of the adjoining Kruger National Park, this 5-star self-catering villa features a private outdoor swimming pool and a patio with BBQ facilities.  The four-bedroom villa comes with a fully-equipped kitchen and an open-plan dining and lounge area with satellite TV. Each of the 4 bedrooms is air-conditioned and has its en-suite bathroom with a bathrobe, hairdryer and free toiletries. Other amenities include a washing machine and free WiFi.  Guests have exclusive use of the villa, landscaped gardens and swimming pool. There are various terraces and entertainment areas, from which guests have the opportunity to view the game, including elephant, hippos, crocodiles and buffalo.  There are a number of restaurants nearby, as well as a well-stocked supermarket. >>\n"
     ]
    }
   ],
   "source": [
    "input = '''What attractions are close to Black Rhino Game Lodge, north west province in south africa?'''\n",
    "\n",
    "response = retrieve_and_generate(input, AWS_KBID, bedrock_agent_runtime)\n",
    "\n",
    "display_response(response)"
   ]
  },
  {
   "cell_type": "code",
   "execution_count": 10,
   "metadata": {},
   "outputs": [
    {
     "name": "stdout",
     "output_type": "stream",
     "text": [
      "Here are some accommodations in Cape Town, Western Cape Province, South Africa:\n",
      "- The Westin Cape Town\n",
      "Referencias:\n",
      "\n",
      "Pais: South Africa, Continente:Africa, URI:s3://clean-hotel-data/hotel-data-set-ZA.xlsx\n",
      "<< Quench your thirst with your favorite drink at the bar/lounge. A complimentary continental breakfast is included.Business, Other Amenities Featured amenities include express check-in, dry cleaning/laundry services, and multilingual staff. Free self parking is available onsite.&nbsp;Disclaimer notification: Amenities are subject to availability and may be chargeable as per the hotel policy.\t25 disa road, cape town 7441, cape town, 7441, south africa\t7441\tZA\t(27) 215565273\tCape Town\t18.48636\t-33.81999\t4 \t1013840\tthe westin cape town\tHeadLine : Connected to the convention centerRooms : Make yourself at home in one of the air-conditioned rooms featuring minibars. Your room comes with a pillowtop bed. Complimentary wireless Internet access keeps you connected, and satellite programming is available for your entertainment. >>\n",
      "- The Oracle\n",
      "Referencias:\n",
      "\n",
      "Pais: South Africa, Continente:Africa, URI:s3://clean-hotel-data/hotel-data-set-ZA.xlsx\n",
      "<< &nbsp;Disclaimer notification: Amenities are subject to availability and may be chargeable as per the hotel policy.\t41 2nd avenue parktown north partown north, parktown northjohannesburg 2193, randburg, 2193, south africa\t2193\tZA\t27-60-9770470\tRandburg\t28.03138\t-26.14091\t4 \t1456338\tthe oracle\tProperty Location With a stay at The Oracle in Cape Town (Camps Bay), you''ll be convenient to Theatre on the Bay and Table Mountain. This 5-star villa is within close proximity of Camps Bay Beach and Maiden''s Cove.Rooms Make yourself at home in of the guestrooms featuring fireplaces and flat-screen televisions. Rooms have private balconies. Private kitchens make it easy to prepare your meals. Satellite television is provided for your entertainment.Rec, Spa, Premium Amenities Don’t miss out on recreational opportunities including an outdoor pool and a spa tub. Additional features include concierge services and barbecue grills.&nbsp;Disclaimer notification: Amenities are subject to availability and may be chargeable as per the hotel policy.\t15 houghton road, cape town 8040, cape town, 8040, south africa\t8040\tZA\t0027 214 286440\tCape Town\t18.377040863\t-33.960079193\t5 \t1611198\tamafu forest lodge\tHeadLine : In the mountainsLocation : With a stay at Amafu Forest Lodge in Hoedspruit, you ll be in the mountains, and 12.1 mi (19.4 km) from Blyderivierspoort Hiking Trail and 13.5 mi (21.7 km) from Greater Kruger National Park. >>\n",
      "- Amafu Forest Lodge\n",
      "Referencias:\n",
      "\n",
      "Pais: South Africa, Continente:Africa, URI:s3://clean-hotel-data/hotel-data-set-ZA.xlsx\n",
      "<< &nbsp;Disclaimer notification: Amenities are subject to availability and may be chargeable as per the hotel policy.\t41 2nd avenue parktown north partown north, parktown northjohannesburg 2193, randburg, 2193, south africa\t2193\tZA\t27-60-9770470\tRandburg\t28.03138\t-26.14091\t4 \t1456338\tthe oracle\tProperty Location With a stay at The Oracle in Cape Town (Camps Bay), you''ll be convenient to Theatre on the Bay and Table Mountain. This 5-star villa is within close proximity of Camps Bay Beach and Maiden''s Cove.Rooms Make yourself at home in of the guestrooms featuring fireplaces and flat-screen televisions. Rooms have private balconies. Private kitchens make it easy to prepare your meals. Satellite television is provided for your entertainment.Rec, Spa, Premium Amenities Don’t miss out on recreational opportunities including an outdoor pool and a spa tub. Additional features include concierge services and barbecue grills.&nbsp;Disclaimer notification: Amenities are subject to availability and may be chargeable as per the hotel policy.\t15 houghton road, cape town 8040, cape town, 8040, south africa\t8040\tZA\t0027 214 286440\tCape Town\t18.377040863\t-33.960079193\t5 \t1611198\tamafu forest lodge\tHeadLine : In the mountainsLocation : With a stay at Amafu Forest Lodge in Hoedspruit, you ll be in the mountains, and 12.1 mi (19.4 km) from Blyderivierspoort Hiking Trail and 13.5 mi (21.7 km) from Greater Kruger National Park. >>\n",
      "- Wescamp Villa\n",
      "Referencias:\n",
      "\n",
      "Pais: South Africa, Continente:Africa, URI:s3://clean-hotel-data/hotel-data-set-ZA.xlsx\n",
      "<< Conveniences include separate sitting areas and coffee/tea makers, and housekeeping is provided on a limited basis.Rec, Spa, Premium Amenities Take advantage of recreation opportunities such as an outdoor pool, or other amenities including wireless Internet access (surcharge) and concierge services. Additional features include babysitting/childcare (surcharge) and barbecue grills.Business, Other Amenities Featured amenities include a 24-hour front desk, laundry facilities, and an elevator (lift).&nbsp;Disclaimer notification: Amenities are subject to availability and may be chargeable as per the hotel policy.\t43 central drive, cape town 8040, cape town, 8040, south africa\t8040\tZA\t0027 21 4286440\tCape Town\t18.38004\t-33.95437\t5 \t1251182\twescamp villa\tHeadLine : In Cape Town (Camps Bay)Location : Located in Cape Town (Camps Bay), this villa is within a 5-minute drive of Camps Bay Beach and Clifton Bay Beach.  This 4-star villa is 1.2 mi (1.9 km) from Table Mountain National Park and 1.9 mi (3.1 km) from Lions Head.Rooms : Make yourself comfortable in this air-conditioned villa, which features a fireplace and a private pool. A kitchen is outfitted with a refrigerator, an oven, and a stovetop. Complimentary wireless Internet access keeps you connected, and a Smart television is provided for your entertainment. >>\n",
      "- Cotswold House\n",
      "Referencias:\n",
      "\n",
      "Pais: South Africa, Continente:Africa, URI:s3://clean-hotel-data/hotel-data-set-ZA.xlsx\n",
      "<< &nbsp;Disclaimer notification: Amenities are subject to availability and may be chargeable as per the hotel policy.\t14 wright street, camphersdrift6529 georgewestern cape, george, 6529, south africa\t6529\tZA\t27-44-8743804\tGeorge\t22.45973\t-33.94922\t4 \t1064518\thotel roosje van de kaap\tThis guesthouse is located in the town of Swellendam. Rooms feature antique furnishings and views of the Langeberg Mountains or the gardens. Free Wi-fi is available in all rooms.  The bright, spacious rooms at Roosje van de Kaap are individually decorated and include wooden beamed ceilings. Room service is also available.  Guests can relax by the outdoor pool or enjoy a walk through the garden. Free private parking is available on the property as well.  Roosje van de Kaap’s restaurant is decorated with paintings and serves traditional South African and Cape Malay dishes with a French influence.  It is just over 4 km from the Bontebok National Park and 115 km from Worcester. Marloth Nature Reserve is 2.5 km away.&nbsp;Disclaimer notification: Amenities are subject to availability and may be chargeable as per the hotel policy.\t5 drostdy street, swellendam 6740, swellendam, 6740, south africa\t6740\tZA\t27285143001\tSwellendam\t20.45198\t-34.01967\t4 \t1330658\tcotswold house\tHeadLine : In Cape Town (Milnerton)Location : With a stay at Cotswold House in Cape Town (Milnerton), you ll be a 4-minute drive from Milnerton Beach and 7 minutes from Canal Walk Shopping Centre. >>\n",
      "- Hoopoe House\n",
      "Referencias:\n",
      "\n",
      "Pais: South Africa, Continente:Africa, URI:s3://clean-hotel-data/hotel-data-set-ZA.xlsx\n",
      "<< The host will greet guests on arrival.&nbsp;Disclaimer notification: Amenities are subject to availability and may be chargeable as per the hotel policy.\touteniqua street, 0181 pretoriawaterkloof park, pretoria, 0184, south africa\t0184\tZA\t27-82-5506050\tPretoria\t28.264005\t-25.792395\t4 \t1554278\thoopoe house\tProperty Location With a stay at Hoopoe House in Cape Town (Camps Bay), you''ll be convenient to Theatre on the Bay and Table Mountain. This 4.5-star villa is within close proximity of Camps Bay Beach and Maiden''s Cove.Rooms Make yourself at home in one of the air-conditioned rooms featuring fireplaces and private pools. Rooms have private furnished patios. Kitchens are outfitted with refrigerators, stovetops, and microwaves. Flat-screen televisions are provided for your entertainment.Rec, Spa, Premium Amenities Take advantage of recreation opportunities such as an outdoor pool or take in the view from a terrace and a garden. Additional amenities include concierge services and barbecue grills.Business, Other Amenities Free self parking is available onsite.&nbsp;Disclaimer notification: Amenities are subject to availability and may be chargeable as per the hotel policy.\t16 hoopoe avenue, camps baycape town 8040western cape, cape town, 8040, south africa\t8040\tZA\t0027 21 4286440\tCape Town\t18.38146\t-33.9671\t4 \t6093742\t25 on chrisoliet\tHeadLine : Near MontecasinoLocation : With a stay at 25 On Chrisoliet in Randburg, you ll be within a 5-minute drive of Montecasino and Fourways Mall. >>\n",
      "- 25 On Chrisoliet\n",
      "Referencias:\n",
      "\n",
      "Pais: South Africa, Continente:Africa, URI:s3://clean-hotel-data/hotel-data-set-ZA.xlsx\n",
      "<< The host will greet guests on arrival.&nbsp;Disclaimer notification: Amenities are subject to availability and may be chargeable as per the hotel policy.\touteniqua street, 0181 pretoriawaterkloof park, pretoria, 0184, south africa\t0184\tZA\t27-82-5506050\tPretoria\t28.264005\t-25.792395\t4 \t1554278\thoopoe house\tProperty Location With a stay at Hoopoe House in Cape Town (Camps Bay), you''ll be convenient to Theatre on the Bay and Table Mountain. This 4.5-star villa is within close proximity of Camps Bay Beach and Maiden''s Cove.Rooms Make yourself at home in one of the air-conditioned rooms featuring fireplaces and private pools. Rooms have private furnished patios. Kitchens are outfitted with refrigerators, stovetops, and microwaves. Flat-screen televisions are provided for your entertainment.Rec, Spa, Premium Amenities Take advantage of recreation opportunities such as an outdoor pool or take in the view from a terrace and a garden. Additional amenities include concierge services and barbecue grills.Business, Other Amenities Free self parking is available onsite.&nbsp;Disclaimer notification: Amenities are subject to availability and may be chargeable as per the hotel policy.\t16 hoopoe avenue, camps baycape town 8040western cape, cape town, 8040, south africa\t8040\tZA\t0027 21 4286440\tCape Town\t18.38146\t-33.9671\t4 \t6093742\t25 on chrisoliet\tHeadLine : Near MontecasinoLocation : With a stay at 25 On Chrisoliet in Randburg, you ll be within a 5-minute drive of Montecasino and Fourways Mall. >>\n"
     ]
    }
   ],
   "source": [
    "input = '''Can you suggest accommodation in cape town, western cape province in south africa?'''\n",
    "\n",
    "response = retrieve_and_generate(input, AWS_KBID, bedrock_agent_runtime)\n",
    "\n",
    "display_response(response)"
   ]
  },
  {
   "cell_type": "code",
   "execution_count": 11,
   "metadata": {},
   "outputs": [
    {
     "name": "stdout",
     "output_type": "stream",
     "text": [
      "Here are some accommodations in Cape Town, Western Cape Province in South Africa, with a minimum rating of 4:\n",
      "- Wescamp Villa\n",
      "Referencias:\n",
      "\n",
      "Pais: South Africa, Continente:Africa, URI:s3://clean-hotel-data/hotel-data-set-ZA.xlsx\n",
      "<< Conveniences include separate sitting areas and coffee/tea makers, and housekeeping is provided on a limited basis.Rec, Spa, Premium Amenities Take advantage of recreation opportunities such as an outdoor pool, or other amenities including wireless Internet access (surcharge) and concierge services. Additional features include babysitting/childcare (surcharge) and barbecue grills.Business, Other Amenities Featured amenities include a 24-hour front desk, laundry facilities, and an elevator (lift).&nbsp;Disclaimer notification: Amenities are subject to availability and may be chargeable as per the hotel policy.\t43 central drive, cape town 8040, cape town, 8040, south africa\t8040\tZA\t0027 21 4286440\tCape Town\t18.38004\t-33.95437\t5 \t1251182\twescamp villa\tHeadLine : In Cape Town (Camps Bay)Location : Located in Cape Town (Camps Bay), this villa is within a 5-minute drive of Camps Bay Beach and Clifton Bay Beach.  This 4-star villa is 1.2 mi (1.9 km) from Table Mountain National Park and 1.9 mi (3.1 km) from Lions Head.Rooms : Make yourself comfortable in this air-conditioned villa, which features a fireplace and a private pool. A kitchen is outfitted with a refrigerator, an oven, and a stovetop. Complimentary wireless Internet access keeps you connected, and a Smart television is provided for your entertainment. >>\n",
      "- Four on C Luxury Suites by Totalstay\n",
      "Referencias:\n",
      "\n",
      "Pais: South Africa, Continente:Africa, URI:s3://clean-hotel-data/hotel-data-set-ZA.xlsx\n",
      "<< &nbsp;Disclaimer notification: Amenities are subject to availability and may be chargeable as per the hotel policy.\t13 totnes ave, , cape town, 8001, south africa\t8001\tZA\t27-0214386440\tCape Town\t18.377742\t-33.963165\t4 \t5457141\tfour on c luxury suites by totalstay\tHeadLine : In Cape Town (Sea Point)Location : A stay at Four on C Luxury Suites places you in the heart of Cape Town, steps from Sea Point Swimming Pool and Sea Point Promenade.  This 4-star apartment is 2.3 mi (3.6 km) from Camps Bay Beach and 3.2 mi (5.2 km) from Cape Town Cruise Terminal.Rooms : Make yourself at home in one of the 2 air-conditioned rooms featuring fireplaces and flat-screen televisions. Rooms have private furnished balconies. Kitchens are outfitted with full-sized refrigerators/freezers, ovens, and stovetops. Satellite television is provided for your entertainment. >>\n",
      "- Amafu Forest Lodge\n",
      "Referencias:\n",
      "\n",
      "Pais: South Africa, Continente:Africa, URI:s3://clean-hotel-data/hotel-data-set-ZA.xlsx\n",
      "<< &nbsp;Disclaimer notification: Amenities are subject to availability and may be chargeable as per the hotel policy.\t41 2nd avenue parktown north partown north, parktown northjohannesburg 2193, randburg, 2193, south africa\t2193\tZA\t27-60-9770470\tRandburg\t28.03138\t-26.14091\t4 \t1456338\tthe oracle\tProperty Location With a stay at The Oracle in Cape Town (Camps Bay), you''ll be convenient to Theatre on the Bay and Table Mountain. This 5-star villa is within close proximity of Camps Bay Beach and Maiden''s Cove.Rooms Make yourself at home in of the guestrooms featuring fireplaces and flat-screen televisions. Rooms have private balconies. Private kitchens make it easy to prepare your meals. Satellite television is provided for your entertainment.Rec, Spa, Premium Amenities Don’t miss out on recreational opportunities including an outdoor pool and a spa tub. Additional features include concierge services and barbecue grills.&nbsp;Disclaimer notification: Amenities are subject to availability and may be chargeable as per the hotel policy.\t15 houghton road, cape town 8040, cape town, 8040, south africa\t8040\tZA\t0027 214 286440\tCape Town\t18.377040863\t-33.960079193\t5 \t1611198\tamafu forest lodge\tHeadLine : In the mountainsLocation : With a stay at Amafu Forest Lodge in Hoedspruit, you ll be in the mountains, and 12.1 mi (19.4 km) from Blyderivierspoort Hiking Trail and 13.5 mi (21.7 km) from Greater Kruger National Park. >>\n",
      "- Cape Standard Guest House\n",
      "Referencias:\n",
      "\n",
      "Pais: South Africa, Continente:Africa, URI:s3://clean-hotel-data/hotel-data-set-ZA.xlsx\n",
      "<< &nbsp;Disclaimer notification: Amenities are subject to availability and may be chargeable as per the hotel policy.\tloader street,de waterkant, , cape town, 8005, south africa\t8005\tZA\t27-82 413 2299\tCape Town\t18.415413\t-33.913831\t4 \t1348594\tcape standard guest house\tHeadLine : In Cape Town (Green Point)Location : In the heart of Cape Town, Cape Standard Guest House is within a 5-minute drive of Cape Town Stadium and Greenmarket Square.  This 4-star guesthouse is 1.6 mi (2.6 km) from Two Oceans Aquarium and 1.8 mi (3 km) from Cape Town International Convention Centre.Rooms : Make yourself at home in one of the 9 air-conditioned rooms featuring minibars. Your room comes with a Select Comfort bed. Complimentary wireless Internet access keeps you connected, and satellite programming is available for your entertainment. Private bathrooms with showers feature complimentary toiletries and hair dryers.Dining : Take advantage of the guesthouse s room service (during limited hours). Quench your thirst with your favorite drink at the bar/lounge. >>\n"
     ]
    }
   ],
   "source": [
    "input = '''Can you suggest accommodation in cape town, western cape province in south africa, minimum rating of 4?'''\n",
    "\n",
    "response = retrieve_and_generate(input, AWS_KBID, bedrock_agent_runtime)\n",
    "\n",
    "display_response(response)"
   ]
  },
  {
   "cell_type": "code",
   "execution_count": 12,
   "metadata": {},
   "outputs": [
    {
     "name": "stdout",
     "output_type": "stream",
     "text": [
      "I could not find an exact answer to the question, but I did find some information that may be relevant. Here are some accommodation options in Hoedspruit, Limpopo Province, South Africa:\n",
      "- Lemon Tree B&B: This bed and breakfast is located in Kloof and offers outdoor pool, tennis court, and free Wi-Fi\n",
      "Referencias:\n",
      "\n",
      "Pais: South Africa, Continente:Africa, URI:s3://clean-hotel-data/hotel-data-set-ZA.xlsx\n",
      "<< Deposit is payable by bank transfer or credit card and is due within 48 hours of booking the reservation.&nbsp;Disclaimer notification: Amenities are subject to availability and may be chargeable as per the hotel policy.\t374 kierrie klapper street hoedspruit wildlife estate, hoedspruit wildlife estatepo box 1622hoedspruit 1380, hoedspruit, 1380, south africa\t1380\tZA\t27615235041\tHoedspruit\t30.968502\t-24.353032\t4 \t1775141\tlemon tree b&b\tOffering outdoor pool and a tennis court, Lemon Tree B&B is located in Kloof. Free Wi-Fi access is available in all areas.  Featuring a a garden view, rooms here will provide you with a flat-screen TV, a balcony and a minibar. There is also an electric kettle. Featuring a bath or shower, private bathrooms also come with a hairdryer and towels.  At Lemon Tree B&B you will find a garden and a terrace. The property offers free private parking on site.  The bed and breakfast is 1 km from Kloof Maytime shopping centre and King Shaka International Airport is 35 km away. An airport shuttle is available upon request. Payment before arrival via bank transfer is required. The property will contact you after you book to provide instructions. This property will not accommodate hen, stag or similar parties. >>\n",
      "- Sloane Square 7: This apartment is centrally located in Cape Town and offers a kitchen with full-sized refrigerator/freezer and an oven\n",
      "Referencias:\n",
      "\n",
      "Pais: South Africa, Continente:Africa, URI:s3://clean-hotel-data/hotel-data-set-ZA.xlsx\n",
      "<< Quench your thirst with your favorite drink at the bar/lounge. Buffet breakfasts are served on weekdays from 7:00 AM to 9:00 AM for a fee.CheckIn Instructions :   Extra-person charges may apply and vary depending on property policyGovernment-issued photo identification and a credit card, debit card, or cash deposit may be required at check-in for incidental chargesSpecial requests are subject to availability upon check-in and may incur additional charges; special requests cannot be guaranteedSafety features at this property include a fire extinguisher, a smoke detector, a security system, and a first aid kit  Special Instructions : This property offers transfers from the airport (surcharges may apply). Guests must contact the property with arrival details before travel, using the contact information on the booking confirmation.&nbsp;Disclaimer notification: Amenities are subject to availability and may be chargeable as per the hotel policy.\tr531, hoedspruit 1380limpopo, hoedspruit, 1380, south africa\t1380\tZA\t27724801334\tHoedspruit\t30.818841\t-24.401403\t4 \t5320605\tsloane square 7\tHeadLine : Near Kloof StreetLocation : With a stay at this apartment, you ll be centrally located in Cape Town, a 5-minute drive from Castle of Good Hope and 9 minutes from Victoria and Alfred Waterfront.  This 4-star apartment is 0.7 mi (1.2 km) from Kloof Street and 3.3 mi (5.3 km) from Table Mountain.Rooms : Make yourself comfortable in this apartment, featuring a kitchen with a full-sized refrigerator/freezer and an oven. >>\n",
      "- Valley Bushveld Country Lodge: This bed & breakfast is located in Addo and offers river view, family restaurant, and bar/lounge\n",
      "Referencias:\n",
      "\n",
      "Pais: South Africa, Continente:Africa, URI:s3://clean-hotel-data/hotel-data-set-ZA.xlsx\n",
      "<< Guests must contact the property in advance for check-in instructions. Front desk staff will greet guests on arrival.&nbsp;Disclaimer notification: Amenities are subject to availability and may be chargeable as per the hotel policy.\tr40 kapama private game reserve kruger national park area, kruger national parkhoedspruit 1380limpopo, hoedspruit, 1380, south africa\t1380\tZA\t+27123680600\tHoedspruit\t31.083813\t-24.455422\t5 \t1053117\tvalley bushveld country lodge\tHeadLine : On a riverLocation : With a stay at Valley Bushveld Country Lodge in Addo, you ll be 20.8 mi (33.5 km) from Addo Elephant National Park and 27.7 mi (44.6 km) from Nelson Mandela Bay Stadium.  This 4-star bed & breakfast is 30.1 mi (48.4 km) from Port Elizabeth City Hall and 31.5 mi (50.7 km) from King s Beach.Rooms : Make yourself at home in one of the 6 air-conditioned rooms featuring plasma televisions. Your Select Comfort bed comes with premium bedding. Rooms have private patios. Private bathrooms with showers feature complimentary toiletries and hair dryers.Dining : Satisfy your appetite at the bed & breakfast s family restaurant, where you can enjoy drinks at the bar/lounge, take in the garden view, or dine alfresco. >>\n",
      "- ITC Hospitality Group Icon Building: This apartment is located in Cape Town City Centre and offers Tempur-Pedic bed, Smart television, and complimentary wireless Internet access\n",
      "Referencias:\n",
      "\n",
      "Pais: South Africa, Continente:Africa, URI:s3://clean-hotel-data/hotel-data-set-ZA.xlsx\n",
      "<< &nbsp;Disclaimer notification: Amenities are subject to availability and may be chargeable as per the hotel policy.\tr40 kapama private game reserve national kruger park area, kapama private game reservehoedspruit 1380limpopo, hoedspruit, 1380, south africa\t1380\tZA\t27-12-3680600\tHoedspruit\t31.051059\t-24.466662\t5 \t5141923\titc hospitality group icon building\tHeadLine : In Cape Town (Cape Town City Centre)Location : A stay at this apartment places you in the heart of Cape Town, steps from Long Street and Bree Street.  This 4-star apartment is 0.2 mi (0.4 km) from Cape Town International Convention Centre and 0.3 mi (0.5 km) from Greenmarket Square.Rooms : Make yourself comfortable in this individually decorated apartment, featuring a kitchen with a full-sized refrigerator/freezer and an oven. The apartment has a Tempur-Pedic bed. A 40-inch Smart television with satellite programming provides entertainment, while complimentary wireless Internet access keeps you connected. >>\n",
      "- Hunter's Country House: This country house is located in Plettenberg Bay and offers beachfront, Cape Floral Region Protected Areas, and private furnished patios\n",
      "Referencias:\n",
      "\n",
      "Pais: South Africa, Continente:Africa, URI:s3://clean-hotel-data/hotel-data-set-ZA.xlsx\n",
      "<< Special Instructions : There is no front desk at this property. To make arrangements for check-in please contact the property at least 48 hours before arrival using the information on the booking confirmation. If you are planning to arrive after 7 PM please contact the property in advance using the information on the booking confirmation. Guests will receive an email 2 weeks before arrival with check-in instructions. The host will greet guests on arrival.&nbsp;Disclaimer notification: Amenities are subject to availability and may be chargeable as per the hotel policy.\tzandspruit, 1380 hoedspruitlimpopo, hoedspruit, 1380, south africa\t1380\tZA\t32-477290769\tHoedspruit\t30.925594\t-24.372005\t4 \t1159051\thunter's country house\tHeadLine : Near Harkerville Saturday Village MarketLocation : With a stay at Hunter s Country House in Plettenberg Bay, you ll be near the beach, just steps from Cape Floral Region Protected Areas and a 4-minute drive from Harkerville Saturday Village Market.  This 5-star country house is 3.1 mi (5.1 km) from Knysna Ziplines and 4.5 mi (7.2 km) from Garden Route National Park.Rooms : Make yourself at home in one of the 19 guestrooms featuring minibars and DVD players. Your Select Comfort bed comes with premium bedding. Rooms have private furnished patios. Flat-screen televisions with satellite programming provide entertainment, while complimentary wireless Internet access keeps you connected. >>\n"
     ]
    }
   ],
   "source": [
    "input = '''Can you suggest accommodation in Hoedspruit, limpopo province in south africa?'''\n",
    "\n",
    "response = retrieve_and_generate(input, AWS_KBID, bedrock_agent_runtime)\n",
    "\n",
    "display_response(response)"
   ]
  },
  {
   "cell_type": "code",
   "execution_count": 13,
   "metadata": {},
   "outputs": [
    {
     "name": "stdout",
     "output_type": "stream",
     "text": [
      "Here are 5 places to stay in Monterrey, Nuevo Leon in Mexico:\n",
      "- Hotel Parque Central\n",
      "Referencias:\n",
      "\n",
      "Pais: Mexico, Continente:Americas, URI:s3://clean-hotel-data/hotel-data-set-MX.xlsx\n",
      "<< The hotel has a bar and a restaurant. Other facilities include a business centre, a fitness centre as well as laundry and dry cleaning services.  Hotel Parque Central is 10 minutes’ drive from Cintermex Exhibition Centre and the Santa Lucia river walk. Monterrey International Airport is 35 minutes’ drive from the hotel. Food & beverage services at this property may be limited or unavailable due to Coronavirus (COVID-19). Due to Coronavirus (COVID-19), this property has reduced reception and service operating hours. In accordance with government guidelines to minimise transmission of the Coronavirus (COVID-19), this property may request additional documentation from guests to validate identity, travel itinerary and other relevant information, during dates where such guidelines exist.&nbsp;Disclaimer notification: Amenities are subject to availability and may be chargeable as per the hotel policy.\tavenida pino suarez sur 323, esquina washington64000 monterreynuevo león, monterrey, 64000, mexico\t64000\tMX\t+528181507100\tMonterrey\t-100.31924\t25.67466\t4 \t1408625\thotel el rancho\tJust a 5-minute drive from central Navojoa, Hotel El Rancho offers an outdoor pool and extensive gardens with a children’s playground. Each air-conditioned room has cable TV and free Wi-Fi.  Rooms at El Rancho feature simple, rustic-style décor and include a safe. All rooms have a private bathroom with a shower.  El Rancho’s restaurant opens from 07:00 until 14:30, serving international cuisine. You can also find bars and restaurants in the centre of Navojoa. >>\n",
      "- NH Monterrey La Fe\n",
      "Referencias:\n",
      "\n",
      "Pais: Mexico, Continente:Americas, URI:s3://clean-hotel-data/hotel-data-set-MX.xlsx\n",
      "<< Complimentary wireless Internet access keeps you connected, and LED televisions are provided for your entertainment. Conveniences include separate sitting areas and microwaves, and housekeeping is provided once per stay.Dining : Grab a bite from the grocery/convenience store, or stay in and take advantage of the condo resort s room service (during limited hours).CheckIn Instructions : Extra-person charges may apply and vary depending on property policy. Government-issued photo identification and a credit card, debit card, or cash deposit are required at check-in for incidental charges. Special requests are subject to availability upon check-in and may incur additional charges. Special requests cannot be guaranteed.   Please note that cultural norms and guest policies may differ by country and by property. The policies listed are provided by the property. &nbsp;Disclaimer notification: Amenities are subject to availability and may be chargeable as per the hotel policy.\tblvd lazaro cardenas 1501 colonia el medano, el medano23450 cabo san lucasbaja california sur, cabo san lucas, 23450, mexico\t23450\tMX\t52-6241259355\tCabo San Lucas\t-109.910664\t22.88656\t4 \t1632335\tnh monterrey la fe\tHeadLine : Near Paseo La FeLocation : With a stay at NH Monterrey La Fe, you ll be centrally located in San Nicolas de los Garza, within a 10-minute drive of Fundidora Park and Paseo La Fe. >>\n",
      "\n",
      "Pais: Mexico, Continente:Americas, URI:s3://clean-hotel-data/hotel-data-set-MX.xlsx\n",
      "<< &nbsp;Disclaimer notification: Amenities are subject to availability and may be chargeable as per the hotel policy.\tblvd lazaro cardenas 1501 colonia el medano, el medano23450 cabo san lucasbaja california sur, cabo san lucas, 23450, mexico\t23450\tMX\t52-6241259355\tCabo San Lucas\t-109.910664\t22.88656\t4 \t1632335\tnh monterrey la fe\tHeadLine : Near Paseo La FeLocation : With a stay at NH Monterrey La Fe, you ll be centrally located in San Nicolas de los Garza, within a 10-minute drive of Fundidora Park and Paseo La Fe.  This 4-star hotel is 4.7 mi (7.6 km) from Estadio BBVA Bancomer and 7.5 mi (12.1 km) from Macroplaza.Rooms : Make yourself at home in one of the 152 air-conditioned rooms featuring minibars and flat-screen televisions. Complimentary wireless Internet access keeps you connected, and satellite programming is available for your entertainment. Private bathrooms with showers feature rainfall showerheads and complimentary toiletries. Conveniences include phones, as well as safes and desks.Dining : Satisfy your appetite for lunch or dinner at NH Monterrey La Fe Restau, a restaurant which specializes in Mexican cuisine, or stay in and take advantage of the 24-hour room service. Quench your thirst with your favorite drink at the bar/lounge. >>\n",
      "- Galeria Plaza Monterrey\n",
      "Referencias:\n",
      "\n",
      "Pais: Mexico, Continente:Americas, URI:s3://clean-hotel-data/hotel-data-set-MX.xlsx\n",
      "<< Popular points of interest near Galeria Plaza Monterrey include MARCO Museum Monterrey, Macroplaza and Pabellon M. The nearest airport is Monterrey International, 33 km from the accommodation, and the property offers a paid airport shuttle service.&nbsp;Disclaimer notification: Amenities are subject to availability and may be chargeable as per the hotel policy.\t411 avenida constitución edificio, monterrey centro,, 64000 monterrey, mexico, monterrey, 64000, mexico\t64000\tMX\tN/A\tMonterrey\t-100.32286\t25.66608\t5 \t1404200\thotel hacienda sánchez\tFeaturing an outdoor swimming pool, Hacienda Sánchez is situated 1.5 km north of the historic centre of Valladolid. It offers colonial-style accommodation set in beautiful gardens. Free Wi-fi and parking are available.  Hotel Hacienda Sánchez features simple air-conditioned rooms equipped with cable TV, as well as one-bedroom villas accommodating up to 4 people.  The hotel serves a continental and American breakfast, both at an additional cost.  Hacienda Sánchez is close to several Mayan ruins, including Chichén-Itzá 55 km to the west, and Ek Balam, 25 km north. The Yucatán city of Izamal is just over 1 hours’ drive away. Chichén-Itzá International Airport can be reach in 30 minutes by car. In response to Coronavirus (COVID-19), additional safety and sanitation measures are in effect at this property. >>\n",
      "- Hotel Hacienda Sánchez\n",
      "Referencias:\n",
      "\n",
      "Pais: Mexico, Continente:Americas, URI:s3://clean-hotel-data/hotel-data-set-MX.xlsx\n",
      "<< Popular points of interest near Galeria Plaza Monterrey include MARCO Museum Monterrey, Macroplaza and Pabellon M. The nearest airport is Monterrey International, 33 km from the accommodation, and the property offers a paid airport shuttle service.&nbsp;Disclaimer notification: Amenities are subject to availability and may be chargeable as per the hotel policy.\t411 avenida constitución edificio, monterrey centro,, 64000 monterrey, mexico, monterrey, 64000, mexico\t64000\tMX\tN/A\tMonterrey\t-100.32286\t25.66608\t5 \t1404200\thotel hacienda sánchez\tFeaturing an outdoor swimming pool, Hacienda Sánchez is situated 1.5 km north of the historic centre of Valladolid. It offers colonial-style accommodation set in beautiful gardens. Free Wi-fi and parking are available.  Hotel Hacienda Sánchez features simple air-conditioned rooms equipped with cable TV, as well as one-bedroom villas accommodating up to 4 people.  The hotel serves a continental and American breakfast, both at an additional cost.  Hacienda Sánchez is close to several Mayan ruins, including Chichén-Itzá 55 km to the west, and Ek Balam, 25 km north. The Yucatán city of Izamal is just over 1 hours’ drive away. Chichén-Itzá International Airport can be reach in 30 minutes by car. In response to Coronavirus (COVID-19), additional safety and sanitation measures are in effect at this property. >>\n",
      "- Conrad San Luis Potosi\n",
      "Referencias:\n",
      "\n",
      "Pais: Mexico, Continente:Americas, URI:s3://clean-hotel-data/hotel-data-set-MX.xlsx\n",
      "<< Due to Coronavirus (COVID-19), this property adheres to strict physical distancing measures. Due to Coronavirus (COVID-19), wearing a face mask is mandatory in all indoor common areas.&nbsp;Disclaimer notification: Amenities are subject to availability and may be chargeable as per the hotel policy.\tcalle carlos salazar 2420, colonia obrera fierro64590 monterreynuevo leon, monterrey, 64590, mexico\t64590\tMX\tN/A\tMonterrey\t-100.29069\t25.6797\t4 \t1524537\tconrad san luis potosi\tHeadLine : Near La Loma Sport CenterLocation : When you stay at Hyatt Regency San Luis Potosi in San Luis Potosi, you ll be near the airport, within a 5-minute drive of Arenia Casino and La Loma Sport Center.  This 4.5-star hotel is 3.7 mi (6 km) from Tangamanga Park I and 1.2 mi (1.9 km) from San Luis Square.Rooms : Make yourself at home in one of the 134 individually decorated guestrooms, featuring refrigerators and iPod docking stations. Wired and wireless Internet access is complimentary, while 42-inch Smart televisions with cable programming provide entertainment. Bathrooms feature bathtubs or showers with rainfall showerheads and hair dryers. Conveniences include phones, as well as laptop-compatible safes and desks.Dining : Enjoy a meal at the restaurant, or stay in and take advantage of the hotel s 24-hour room service. Relax with a refreshing drink from the poolside bar or one of the 2 bars/lounges. >>\n",
      "Note that the availability and amenities of these hotels may be affected by the COVID-19 pandemic. It is recommended to check the latest information directly with the hotels or trusted travel websites.\n",
      "Referencias:\n",
      "\n",
      "Pais: Mexico, Continente:Americas, URI:s3://clean-hotel-data/hotel-data-set-MX.xlsx\n",
      "<< The hotel has a bar and a restaurant. Other facilities include a business centre, a fitness centre as well as laundry and dry cleaning services.  Hotel Parque Central is 10 minutes’ drive from Cintermex Exhibition Centre and the Santa Lucia river walk. Monterrey International Airport is 35 minutes’ drive from the hotel. Food & beverage services at this property may be limited or unavailable due to Coronavirus (COVID-19). Due to Coronavirus (COVID-19), this property has reduced reception and service operating hours. In accordance with government guidelines to minimise transmission of the Coronavirus (COVID-19), this property may request additional documentation from guests to validate identity, travel itinerary and other relevant information, during dates where such guidelines exist.&nbsp;Disclaimer notification: Amenities are subject to availability and may be chargeable as per the hotel policy.\tavenida pino suarez sur 323, esquina washington64000 monterreynuevo león, monterrey, 64000, mexico\t64000\tMX\t+528181507100\tMonterrey\t-100.31924\t25.67466\t4 \t1408625\thotel el rancho\tJust a 5-minute drive from central Navojoa, Hotel El Rancho offers an outdoor pool and extensive gardens with a children’s playground. Each air-conditioned room has cable TV and free Wi-Fi.  Rooms at El Rancho feature simple, rustic-style décor and include a safe. All rooms have a private bathroom with a shower.  El Rancho’s restaurant opens from 07:00 until 14:30, serving international cuisine. You can also find bars and restaurants in the centre of Navojoa. >>\n"
     ]
    }
   ],
   "source": [
    "input = '''Can you suggest 5 places to stay in Monterrey, Nuevo Leon in Mexico?'''\n",
    "\n",
    "response = retrieve_and_generate(input, AWS_KBID, bedrock_agent_runtime)\n",
    "\n",
    "display_response(response)"
   ]
  },
  {
   "cell_type": "code",
   "execution_count": 14,
   "metadata": {},
   "outputs": [
    {
     "name": "stdout",
     "output_type": "stream",
     "text": [
      "I could not find an exact answer to the question, but I was able to find 3 places to stay in Monterrey, Nuevo Leon in Mexico, close to Tec de Monterrey:\n",
      "- Hotel Hacienda Sánchez\n",
      "Referencias:\n",
      "\n",
      "Pais: Mexico, Continente:Americas, URI:s3://clean-hotel-data/hotel-data-set-MX.xlsx\n",
      "<< Popular points of interest near Galeria Plaza Monterrey include MARCO Museum Monterrey, Macroplaza and Pabellon M. The nearest airport is Monterrey International, 33 km from the accommodation, and the property offers a paid airport shuttle service.&nbsp;Disclaimer notification: Amenities are subject to availability and may be chargeable as per the hotel policy.\t411 avenida constitución edificio, monterrey centro,, 64000 monterrey, mexico, monterrey, 64000, mexico\t64000\tMX\tN/A\tMonterrey\t-100.32286\t25.66608\t5 \t1404200\thotel hacienda sánchez\tFeaturing an outdoor swimming pool, Hacienda Sánchez is situated 1.5 km north of the historic centre of Valladolid. It offers colonial-style accommodation set in beautiful gardens. Free Wi-fi and parking are available.  Hotel Hacienda Sánchez features simple air-conditioned rooms equipped with cable TV, as well as one-bedroom villas accommodating up to 4 people.  The hotel serves a continental and American breakfast, both at an additional cost.  Hacienda Sánchez is close to several Mayan ruins, including Chichén-Itzá 55 km to the west, and Ek Balam, 25 km north. The Yucatán city of Izamal is just over 1 hours’ drive away. Chichén-Itzá International Airport can be reach in 30 minutes by car. In response to Coronavirus (COVID-19), additional safety and sanitation measures are in effect at this property. >>\n",
      "- Hotel Parque Central\n",
      "Referencias:\n",
      "\n",
      "Pais: Mexico, Continente:Americas, URI:s3://clean-hotel-data/hotel-data-set-MX.xlsx\n",
      "<< The hotel has a bar and a restaurant. Other facilities include a business centre, a fitness centre as well as laundry and dry cleaning services.  Hotel Parque Central is 10 minutes’ drive from Cintermex Exhibition Centre and the Santa Lucia river walk. Monterrey International Airport is 35 minutes’ drive from the hotel. Food & beverage services at this property may be limited or unavailable due to Coronavirus (COVID-19). Due to Coronavirus (COVID-19), this property has reduced reception and service operating hours. In accordance with government guidelines to minimise transmission of the Coronavirus (COVID-19), this property may request additional documentation from guests to validate identity, travel itinerary and other relevant information, during dates where such guidelines exist.&nbsp;Disclaimer notification: Amenities are subject to availability and may be chargeable as per the hotel policy.\tavenida pino suarez sur 323, esquina washington64000 monterreynuevo león, monterrey, 64000, mexico\t64000\tMX\t+528181507100\tMonterrey\t-100.31924\t25.67466\t4 \t1408625\thotel el rancho\tJust a 5-minute drive from central Navojoa, Hotel El Rancho offers an outdoor pool and extensive gardens with a children’s playground. Each air-conditioned room has cable TV and free Wi-Fi.  Rooms at El Rancho feature simple, rustic-style décor and include a safe. All rooms have a private bathroom with a shower.  El Rancho’s restaurant opens from 07:00 until 14:30, serving international cuisine. You can also find bars and restaurants in the centre of Navojoa. >>\n",
      "- Holiday Inn Monterrey Centro\n",
      "Referencias:\n",
      "\n",
      "Pais: Mexico, Continente:Americas, URI:s3://clean-hotel-data/hotel-data-set-MX.xlsx\n",
      "<< &nbsp;Disclaimer notification: Amenities are subject to availability and may be chargeable as per the hotel policy.\t. 23410 cabo san lucas, 23455 cabo san lucasbaja california sur, cabo san lucas, 23410, mexico\t23410\tMX\t52-624-1634600\tCabo San Lucas\t-109.899153\t22.899789\t4 \t1679571\tholiday inn monterrey centro\tThe modern hotel comprises a total of 393 spacious rooms (of which 65 are singles, two are suites, and two are disability-friendly rooms), spread across two buildings. The air-conditioned complex features a fire safety system, a lobby area with a reception desk manned around the clock, a bar, a restaurants, conference rooms, and secure parking. Also available is a tobacconist, a taxi service, a car hire service, and a 24-hour medical emergency service. Guests may also take advantage of the hotel&#039;s business center with photocopier, fax, printer, and PC, and there is a public Internet connection for all. Moreover, there is room and laundry service, a dry-cleaning service, child supervision, and the hotel is partially disability-friendly.The Holiday Inn Monterrey Centro is a Tourist hotel. Located in City Center area. Shopping is within walking distance and the nightlife/restaurants are located in the hotel. >>\n"
     ]
    }
   ],
   "source": [
    "input = '''Can you suggest 5 places to stay in Monterrey, Nuevo Leon in Mexico, close to Tec de Monterrey?'''\n",
    "\n",
    "response = retrieve_and_generate(input, AWS_KBID, bedrock_agent_runtime)\n",
    "\n",
    "display_response(response)"
   ]
  },
  {
   "cell_type": "markdown",
   "metadata": {
    "id": "b68fb8b7-959c-4eab-82d8-ac622c8071ff"
   },
   "source": [
    "## **Conclusiones**\n"
   ]
  },
  {
   "cell_type": "markdown",
   "metadata": {
    "id": "_6oLU1ff3twF"
   },
   "source": [
    "\n",
    "‌El objetivo de la base de conocimiento en *Retrieval Augmented Generation*, o *RAG*, es proveer una fuente de información para proveer contexto adicional al modelo generativo, o *LLM* para que pueda generar una mejor respuesta. La calidad de la respuesta dependerá del modelo LLM usado y de la calidad del contenido en la base de conocimiento.\n",
    "\n",
    "En AWS Bedrock una base de conocimiento se construye usando archivos de texto conteniendo la información de contexto y sus respectivos archivos de metadatos asociados (AWS, s.f.).\n",
    "\n",
    "Para este proyecto ya se contaba con una base de datos de hoteles que contiene una descripción del hotel que puede incluir amenidades del hotel, guías para check-in y check-out, y/o una lista de atracciones y sitios de interés cercanos. La base de datos también incluye otra información del hotel como el nombre del hotel, la ciudad y el país donde se localiza y el nivel de estrellas.\n",
    "\n",
    "Crear el archivo con la descripción del hotel con su archivo asociado con metadatos es por lo tanto la única actividad de la etapa de ingeniería de características. \n"
   ]
  },
  {
   "cell_type": "markdown",
   "metadata": {
    "id": "c8c2c4ae-24a2-40a1-a4c1-44792313fbff"
   },
   "source": [
    "## **Referencias**\n",
    "\n",
    "* Monigatti, L. (2023, 6 de diciembre). A Guide on 12 Tuning Strategies for Production-Ready RAG Applications. Medium. https://towardsdatascience.com/a-guide-on-12-tuning-strategies-for-production-ready-rag-applications-7ca646833439\n",
    "\n",
    "* AWS. (s.f.). Set up a data source for your knowledge base - Amazon Bedrock. docs.aws.amazon.com. Recuperado 7 de mayo, 2024, de https://docs.aws.amazon.com/bedrock/latest/userguide/knowledge-base-ds.html\n",
    "\n",
    "* ISO. (s.f.) ISO 3166 — Country Codes. Internation Standards Organization. Recuperado 3 de mayo, 2024 de https://www.iso.org/iso-3166-country-codes.html\n",
    "\n"
   ]
  },
  {
   "cell_type": "code",
   "execution_count": null,
   "metadata": {},
   "outputs": [],
   "source": []
  }
 ],
 "metadata": {
  "colab": {
   "authorship_tag": "ABX9TyN7RsC+bWpa5Yqc1sfHsoAr",
   "include_colab_link": true,
   "provenance": []
  },
  "kernelspec": {
   "display_name": "Python 3 (ipykernel)",
   "language": "python",
   "name": "python3"
  },
  "language_info": {
   "codemirror_mode": {
    "name": "ipython",
    "version": 3
   },
   "file_extension": ".py",
   "mimetype": "text/x-python",
   "name": "python",
   "nbconvert_exporter": "python",
   "pygments_lexer": "ipython3",
   "version": "3.10.13"
  }
 },
 "nbformat": 4,
 "nbformat_minor": 4
}
