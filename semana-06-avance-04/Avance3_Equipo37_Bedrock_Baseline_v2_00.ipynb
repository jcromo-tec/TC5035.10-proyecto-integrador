{
 "cells": [
  {
   "cell_type": "markdown",
   "metadata": {
    "id": "HMQEY1ttU_w-"
   },
   "source": [
    "![logo-tec-de-monterrey-.png](data:image/png;base64,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)"
   ]
  },
  {
   "cell_type": "markdown",
   "metadata": {
    "id": "b3d0b781-0da5-4c6a-a76a-c6c0837bae05"
   },
   "source": [
    "## Proyecto Integrador\n",
    "## Smart Travel Assistant: Optimizando la Experiencia de Viaje con IA\n",
    "## Avance 3"
   ]
  },
  {
   "cell_type": "markdown",
   "metadata": {
    "id": "18dd3d13-d70f-4c28-894b-159fb9f0f7f6"
   },
   "source": [
    "### Equipo 37\n",
    "##### A00759664 - Joel Orlando Hernández Ramos\n",
    "##### A01793486 - Juan Carlos Alvarado Carricarte\n",
    "##### A00260430 - Juan Carlos Romo Cárdenas\n"
   ]
  },
  {
   "cell_type": "markdown",
   "metadata": {
    "id": "wiPf8lTteLm1"
   },
   "source": [
    "## **Descripción del Proyecto**"
   ]
  },
  {
   "cell_type": "markdown",
   "metadata": {
    "id": "XqZeUJCEefQ3"
   },
   "source": [
    "Este proyecto se propone desarrollar un asistente de inteligencia artificial integrado en una plataforma de traveltech, que facilita la elección personalizada de hoteles y destinos para los usuarios. Utilizando la función \"knowledge base\" de Amazon Bedrock, el sistema integrará una extensa base de datos con información detallada sobre más de 2 millones de hoteles. Para este efecto  \n",
    "\n",
    "El objetivo principal de este proyecto es transformar la experiencia de planificación de viajes, haciendo que sea más intuitiva, personalizada y respaldada por datos. Las metas específicas incluyen mejorar la satisfacción del cliente mediante recomendaciones precisas y personalizadas, reducir el tiempo necesario para planificar un viaje y aumentar la eficiencia del proceso de selección de destinos y hoteles.\n",
    "\n",
    "El asistente empleará modelos avanzados de sistemas de recomendación, potenciados por un modelo de lenguaje de aprendizaje profundo (LLM), para sugerir itinerarios personalizados y ofrecer asistencia general en la planificación de viajes. Las recomendaciones incluirán referencias detalladas a los hoteles disponibles en nuestra base de datos, asegurando que los usuarios reciban opciones que no solo se ajustan a sus preferencias personales, sino que también maximizan la calidad y la relevancia de la información proporcionada."
   ]
  },
  {
   "cell_type": "markdown",
   "metadata": {},
   "source": [
    "## **Configuración la Base de Conocimiento y el Modelo Fundacional**"
   ]
  },
  {
   "cell_type": "markdown",
   "metadata": {},
   "source": [
    "<img src=\"./Proyecto Integrador - RAG con Bedrock-Smart Travel Assistant KB v2.00.drawio.png\" alt=\"RAG Bedrock KB V1.00\" />"
   ]
  },
  {
   "cell_type": "markdown",
   "metadata": {},
   "source": [
    "Para crear el modelo de referencia para este proyecto se creo una base de datos de conocimientos en **AWS Bedrock**. El proceso es el siguiente:\n",
    "1. Crear la base de conocimientos, o **Knowledge Base**. Para este proyecto la base de conocimiento se llama *Volindo-hotels* y se usa una base de datos de vectores de **Pinecone**\n",
    "> * La fuente de conocimiento incluye más de 160 mil pares de archivos de texto y JSON con los datos de más de 145,000 hoteles. Cada par de archivos representa un hotel.\n",
    "2. Cargar los datos en un Bucket de S3, llamado *hotel-clean-data*\n",
    "3. Asociar el Bucket de S3 como una fuente de información para la base de conocimiento\n",
    "4. Sincronizar (cargar) los datos de la fuente de información\n",
    "\n",
    "Una vez cargado la base de conocimiento se puede probar usando la consola de AWS Bedrock o a través de APIs, tal y como se hará a continuación."
   ]
  },
  {
   "cell_type": "markdown",
   "metadata": {},
   "source": [
    "## **Probando la Base de Conocimiento y el Modelo Fundacional**"
   ]
  },
  {
   "cell_type": "markdown",
   "metadata": {
    "id": "b8af6127-cc07-4a20-8fea-57ed0d56a355"
   },
   "source": [
    "### **Preparando el Ambiente de Ejecución**\n",
    "\n",
    "Es necesario importar las librerías necesarias para iniciar una sesión de AWS y para registrar una bitácora de ejecución."
   ]
  },
  {
   "cell_type": "code",
   "execution_count": 1,
   "metadata": {
    "id": "7f538ba7-a747-42b5-9481-38084383bf8f"
   },
   "outputs": [],
   "source": [
    "# Importando librerias requeridas\n",
    "import time\n",
    "import re\n",
    "import json\n",
    "import uuid\n",
    "import io\n",
    "import logging\n",
    "import pyarrow.parquet as pq\n",
    "import pandas as pd\n",
    "import numpy as np\n",
    "import boto3\n"
   ]
  },
  {
   "cell_type": "code",
   "execution_count": 2,
   "metadata": {},
   "outputs": [],
   "source": [
    "# Creado manejador de bitácora\n",
    "logger = logging.getLogger(__name__)\n",
    "# logging.basicConfig(\n",
    "#    filename='../logs/Avance3_Equipo37_Bedrock_Baseline.log',\n",
    "#    level=logging.INFO,\n",
    "#    format='%(asctime)s %(levelname)-8s %(message)s',\n",
    "#    datefmt='%Y-%m-%d %H:%M:%S'\n",
    "#)"
   ]
  },
  {
   "cell_type": "code",
   "execution_count": 3,
   "metadata": {},
   "outputs": [],
   "source": [
    "# Configurando constantes para la ejecución. AWS_KBID contiene el identificador de la base de conocimientos de AWS Bedrock\n",
    "LOCAL_SET = '../local-responses'\n",
    "AWS_KBID = 'DT9APRDIVV'\n"
   ]
  },
  {
   "cell_type": "markdown",
   "metadata": {
    "id": "b8af6127-cc07-4a20-8fea-57ed0d56a355"
   },
   "source": [
    "### **Evaluando la Base de Conocimiento y el Modelo Fundacional**\n",
    "\n",
    "AWS Bedrock provee tres tipos de mecanismos para evaluar el desempeño de los modelos fundacionales:\n",
    "* Evaluación automatizada\n",
    "* Evaluación por un equipo de humanos\n",
    "* Evaluación por un servicio de evaluación de AWS\n",
    "\n",
    "La evaluación automatizada permite hacer evaluaciones de la precisión del modelo, la toxicidad de las respuestas y la robustes de las respuestas. Desafortunadamente AWS solo ofrece este servicio para solo uno de los modelos de Amazon y no cubre la evaluación de la base de conocimiento y de las respuestas generadas en combinación con el modelo fundacional de Titan Text Premier.\n",
    "\n",
    "Durante estas pruebas se hará una evaluación cualitativa de las repuestas. Para este efecto cada participante del equipo proveerá una calificación de la respuesta indicando si la respuesta es o no correcta, si es precisa o imprecisa y si está o no basada en los hechos de referencia. La calificación se evalúa en una escala del 1 al 5 como sigue (Grech, 2024):\n",
    "\n",
    "1. La respuesta es completamente incorrecta, imprecisa y/o no basada en los hechos\n",
    "2. La respuesta es en su mayoría incorrecta, imprecisa y/o no basada en los hechos\n",
    "3. La respuesta es de alguna manera correcta, precisa y/o basada en los hechos\n",
    "4. La respuesta es en su mayoría correcta, precisa y/o basada en los hechos\n",
    "5. La respuesta es completamente correcta, precisa y/o basada en los hechos\n"
   ]
  },
  {
   "cell_type": "markdown",
   "metadata": {
    "id": "b8af6127-cc07-4a20-8fea-57ed0d56a355"
   },
   "source": [
    "### **Creando Sesión de AWS Bedrock**"
   ]
  },
  {
   "cell_type": "code",
   "execution_count": 4,
   "metadata": {
    "id": "0d6d5eee-596e-4bb8-a3c9-919ce176fe7b"
   },
   "outputs": [],
   "source": [
    "# Creando sesion para AWS Bedrock. Credenciales y configuracion se obtienen de ~/.aws\n",
    "bedrock_agent_runtime = boto3.client(\n",
    "    \"bedrock-agent-runtime\"\n",
    ")"
   ]
  },
  {
   "cell_type": "markdown",
   "metadata": {
    "id": "b8af6127-cc07-4a20-8fea-57ed0d56a355"
   },
   "source": [
    "### **Creando Función para Solictar Respuestas de AWS Bedrock y para Desplegarlas**"
   ]
  },
  {
   "cell_type": "code",
   "execution_count": 5,
   "metadata": {},
   "outputs": [],
   "source": [
    "# Creando función para buscar información en la base de conocimiento y generar una respuesta usando el modelo fundacional\n",
    "# Titan Text Premier de AWS Bedrock. La función también calcula el tiempo de ejecución\n",
    "def retrieve_and_generate(input, kbid, runtime):\n",
    "    start_time = time.time()\n",
    "    response = runtime.retrieve_and_generate(\n",
    "        input = {\n",
    "          'text': input  \n",
    "        },\n",
    "        retrieveAndGenerateConfiguration = {\n",
    "            'type': 'KNOWLEDGE_BASE',\n",
    "            'knowledgeBaseConfiguration': {\n",
    "                'knowledgeBaseId': kbid,\n",
    "                'modelArn': 'arn:aws:bedrock:us-east-1::foundation-model/amazon.titan-text-premier-v1:0'\n",
    "                }\n",
    "        }\n",
    "    )\n",
    "    elapsed_time = time.time() - start_time\n",
    "    return elapsed_time, response\n",
    "    "
   ]
  },
  {
   "cell_type": "code",
   "execution_count": 6,
   "metadata": {},
   "outputs": [],
   "source": [
    "# Creando función desplegar la respuesta recibida de AWS. La respuesta incluye diferentes valores como la respuesta completa,\n",
    "# la respuesta en partes, o citas, con referencias y los metadatos de cada referencia\n",
    "def display_response(response, elapsed_time):\n",
    "    # desplegando respuestas\n",
    "    print(f\"Respuesta despues de {elapsed_time:.4f} segundos:\\n{response['output']['text']}\")\n",
    "    for citation in response['citations']:\n",
    "        print(f\"\\nCita:\\n{citation['generatedResponsePart']['textResponsePart']['text']}\")\n",
    "        print('Referencias:')\n",
    "        for reference in citation['retrievedReferences']:\n",
    "            print(f\"\\nNombre del hotel: {reference['metadata']['Name']}, Ciudad: {reference['metadata']['City']}, Direccion: {reference['metadata']['Address']}\")\n",
    "            print(f\"\\nPais: {reference['metadata']['Country']}, Continente:{reference['metadata']['Continent']}, URI:{reference['metadata']['x-amz-bedrock-kb-source-uri']}\")\n",
    "            print(f\"<< {reference['content']['text']} >>\")\n"
   ]
  },
  {
   "cell_type": "markdown",
   "metadata": {},
   "source": [
    "### **Ejecutando la Evaluación**"
   ]
  },
  {
   "cell_type": "markdown",
   "metadata": {},
   "source": [
    "**Obteniendo Respuestas de la Base Conocimiento y el Modelo Fundacional**"
   ]
  },
  {
   "cell_type": "code",
   "execution_count": 7,
   "metadata": {
    "id": "0d6d5eee-596e-4bb8-a3c9-919ce176fe7b",
    "scrolled": true
   },
   "outputs": [
    {
     "name": "stdout",
     "output_type": "stream",
     "text": [
      "Respuesta despues de 5.2205 segundos:\n",
      "I could not find an exact answer to the question, but I did find some information that may be relevant.\n",
      "\n",
      "The Pilanesberg National Park is about 70 km away from the property. The hotel is situated at the heart of the Waterberg in a wildlife reserve in the Limpopo province. The hotel is located 130 km from Nylstroom and around 150 km from Mabula Lodge and Kwafubesi Toll Plaza. Sandton and Johannesburg International Airport lie 260 km/ a 3-hour drive away. Pretoria lies approximately 210 km from the hotel, whilst Sun City is 330 km away. \n",
      "\n",
      "I hope this information helps.\n",
      "\n",
      "Cita:\n",
      "I could not find an exact answer to the question, but I did find some information that may be relevant.\n",
      "\n",
      "The Pilanesberg National Park is about 70 km away from the property\n",
      "Referencias:\n",
      "\n",
      "Nombre del hotel: woodridge palms boutique hotel, Ciudad: Millvale, Direccion: woodstock steenbokfontein, 1245 millvale, millvale, 1245, south africa\n",
      "\n",
      "Pais: South Africa, Continente:Africa, URI:s3://chunked-hotel-data/1437002-6d78f9a8189611ef9eac16ffcf11486b.txt\n",
      "<< An array of activities can be enjoyed on site or in the surroundings, including cycling, horse riding and fishing. The Pilanesberg Nationalpark is about 70 km away. Payment before arrival via bank transfer is required. The property will contact you after you book to provide instructions.\n",
      "In response to Coronavirus (COVID-19), additional safety and sanitation measures are in effect at this property.\n",
      "Food & beverage services at this property may be limited or unavailable due to Coronavirus (COVID-19).\n",
      "In accordance with government guidelines to minimise transmission of the Coronavirus (COVID-19), this property can only accept bookings from essential workers/permitted travellers, during dates where such guidelines exist. Reasonable evidence must be provided on arrival. If it isnt provided, your booking will be cancelled on arrival.\n",
      "Due to Coronavirus (COVID-19), this property is taking steps to help protect the safety of guests and staff. Certain services and amenities may be reduced or unavailable as a result.\n",
      "In accordance with government guidelines to minimise transmission of the Coronavirus (COVID-19), this property may request additional documentation from guests to validate identity, travel itinerary and other relevant information, during dates where such guidelines exist. Disclaimer notification: Amenities are subject to availability and may be chargeable as per the hotel policy. >>\n",
      "\n",
      "Cita:\n",
      "The hotel is situated at the heart of the Waterberg in a wildlife reserve in the Limpopo province\n",
      "Referencias:\n",
      "\n",
      "Nombre del hotel: shidzidzi and nungubane private game lodge, Ciudad: Vaalwater, Direccion: waterberg nature conservancy, waterbergvaalwater 0530, vaalwater, 530, south africa\n",
      "\n",
      "Pais: South Africa, Continente:Africa, URI:s3://chunked-hotel-data/1129025-d410acd6188911ef9eac16ffcf11486b.txt\n",
      "<< HotelDescription#The hotel is situated at the heart of the Waterberg in a wildlife reserve in the Limpopo province. Shidzidzi and Nungubane are only 3 km from the hotel. The hotel is located 130 km from Nylstroom and around 150 km from Mabula Lodge and Kwafubesi Toll Plaza. Sandton and Johannesburg International Airport lie 260 km/ a 3-hour drive away. Pretoria lies approximately 210 km from the hotel, whilst Sun City is 330 km away.\n",
      "\n",
      "The hotel accommodates a total of 20 guests in intimate elegance. Surrounded by 35,000 hectares of African bush land, guests here may enjoy fabulous views of the Big Five. This hotel comprises a total of 10 luxury chalets (5 per chalet), 4 king-size chalets (2 per chalet) and 6 double chalets (3 per chalet). Additionally on offer here are a lounge, a curio shop, a private helicopter and six fixed wing charters.\n",
      "\n",
      "All rooms afford a view of the Waterberg and each chalet comes with a private veranda/roof terrace. The rooms comprise an en suite bathroom with hairdryer, an additional outdoor shower, ceiling fans as well as tea and coffee making facilities.\n",
      "\n",
      "There is a swimming pool available for use in the outdoor complex. Each camp features water holes, where guests are able to view the thirsty wildlife.\n",
      "\n",
      "It is possible to dine in the bush. >>\n",
      "\n",
      "Cita:\n",
      "The hotel is located 130 km from Nylstroom and around 150 km from Mabula Lodge and Kwafubesi Toll Plaza\n",
      "Referencias:\n",
      "\n",
      "Nombre del hotel: shidzidzi and nungubane private game lodge, Ciudad: Vaalwater, Direccion: waterberg nature conservancy, waterbergvaalwater 0530, vaalwater, 530, south africa\n",
      "\n",
      "Pais: South Africa, Continente:Africa, URI:s3://chunked-hotel-data/1129025-d410acd6188911ef9eac16ffcf11486b.txt\n",
      "<< HotelDescription#The hotel is situated at the heart of the Waterberg in a wildlife reserve in the Limpopo province. Shidzidzi and Nungubane are only 3 km from the hotel. The hotel is located 130 km from Nylstroom and around 150 km from Mabula Lodge and Kwafubesi Toll Plaza. Sandton and Johannesburg International Airport lie 260 km/ a 3-hour drive away. Pretoria lies approximately 210 km from the hotel, whilst Sun City is 330 km away.\n",
      "\n",
      "The hotel accommodates a total of 20 guests in intimate elegance. Surrounded by 35,000 hectares of African bush land, guests here may enjoy fabulous views of the Big Five. This hotel comprises a total of 10 luxury chalets (5 per chalet), 4 king-size chalets (2 per chalet) and 6 double chalets (3 per chalet). Additionally on offer here are a lounge, a curio shop, a private helicopter and six fixed wing charters.\n",
      "\n",
      "All rooms afford a view of the Waterberg and each chalet comes with a private veranda/roof terrace. The rooms comprise an en suite bathroom with hairdryer, an additional outdoor shower, ceiling fans as well as tea and coffee making facilities.\n",
      "\n",
      "There is a swimming pool available for use in the outdoor complex. Each camp features water holes, where guests are able to view the thirsty wildlife.\n",
      "\n",
      "It is possible to dine in the bush. >>\n",
      "\n",
      "Cita:\n",
      "Sandton and Johannesburg International Airport lie 260 km/ a 3-hour drive away\n",
      "Referencias:\n",
      "\n",
      "Nombre del hotel: shidzidzi and nungubane private game lodge, Ciudad: Vaalwater, Direccion: waterberg nature conservancy, waterbergvaalwater 0530, vaalwater, 530, south africa\n",
      "\n",
      "Pais: South Africa, Continente:Africa, URI:s3://chunked-hotel-data/1129025-d410acd6188911ef9eac16ffcf11486b.txt\n",
      "<< HotelDescription#The hotel is situated at the heart of the Waterberg in a wildlife reserve in the Limpopo province. Shidzidzi and Nungubane are only 3 km from the hotel. The hotel is located 130 km from Nylstroom and around 150 km from Mabula Lodge and Kwafubesi Toll Plaza. Sandton and Johannesburg International Airport lie 260 km/ a 3-hour drive away. Pretoria lies approximately 210 km from the hotel, whilst Sun City is 330 km away.\n",
      "\n",
      "The hotel accommodates a total of 20 guests in intimate elegance. Surrounded by 35,000 hectares of African bush land, guests here may enjoy fabulous views of the Big Five. This hotel comprises a total of 10 luxury chalets (5 per chalet), 4 king-size chalets (2 per chalet) and 6 double chalets (3 per chalet). Additionally on offer here are a lounge, a curio shop, a private helicopter and six fixed wing charters.\n",
      "\n",
      "All rooms afford a view of the Waterberg and each chalet comes with a private veranda/roof terrace. The rooms comprise an en suite bathroom with hairdryer, an additional outdoor shower, ceiling fans as well as tea and coffee making facilities.\n",
      "\n",
      "There is a swimming pool available for use in the outdoor complex. Each camp features water holes, where guests are able to view the thirsty wildlife.\n",
      "\n",
      "It is possible to dine in the bush. >>\n",
      "\n",
      "Cita:\n",
      "Pretoria lies approximately 210 km from the hotel, whilst Sun City is 330 km away\n",
      "Referencias:\n",
      "\n",
      "Nombre del hotel: shidzidzi and nungubane private game lodge, Ciudad: Vaalwater, Direccion: waterberg nature conservancy, waterbergvaalwater 0530, vaalwater, 530, south africa\n",
      "\n",
      "Pais: South Africa, Continente:Africa, URI:s3://chunked-hotel-data/1129025-d410acd6188911ef9eac16ffcf11486b.txt\n",
      "<< HotelDescription#The hotel is situated at the heart of the Waterberg in a wildlife reserve in the Limpopo province. Shidzidzi and Nungubane are only 3 km from the hotel. The hotel is located 130 km from Nylstroom and around 150 km from Mabula Lodge and Kwafubesi Toll Plaza. Sandton and Johannesburg International Airport lie 260 km/ a 3-hour drive away. Pretoria lies approximately 210 km from the hotel, whilst Sun City is 330 km away.\n",
      "\n",
      "The hotel accommodates a total of 20 guests in intimate elegance. Surrounded by 35,000 hectares of African bush land, guests here may enjoy fabulous views of the Big Five. This hotel comprises a total of 10 luxury chalets (5 per chalet), 4 king-size chalets (2 per chalet) and 6 double chalets (3 per chalet). Additionally on offer here are a lounge, a curio shop, a private helicopter and six fixed wing charters.\n",
      "\n",
      "All rooms afford a view of the Waterberg and each chalet comes with a private veranda/roof terrace. The rooms comprise an en suite bathroom with hairdryer, an additional outdoor shower, ceiling fans as well as tea and coffee making facilities.\n",
      "\n",
      "There is a swimming pool available for use in the outdoor complex. Each camp features water holes, where guests are able to view the thirsty wildlife.\n",
      "\n",
      "It is possible to dine in the bush. >>\n",
      "\n",
      "Cita:\n",
      "I hope this information helps.\n",
      "Referencias:\n",
      "\n",
      "Nombre del hotel: woodridge palms boutique hotel, Ciudad: Millvale, Direccion: woodstock steenbokfontein, 1245 millvale, millvale, 1245, south africa\n",
      "\n",
      "Pais: South Africa, Continente:Africa, URI:s3://chunked-hotel-data/1437002-6d78f9a8189611ef9eac16ffcf11486b.txt\n",
      "<< An array of activities can be enjoyed on site or in the surroundings, including cycling, horse riding and fishing. The Pilanesberg Nationalpark is about 70 km away. Payment before arrival via bank transfer is required. The property will contact you after you book to provide instructions.\n",
      "In response to Coronavirus (COVID-19), additional safety and sanitation measures are in effect at this property.\n",
      "Food & beverage services at this property may be limited or unavailable due to Coronavirus (COVID-19).\n",
      "In accordance with government guidelines to minimise transmission of the Coronavirus (COVID-19), this property can only accept bookings from essential workers/permitted travellers, during dates where such guidelines exist. Reasonable evidence must be provided on arrival. If it isnt provided, your booking will be cancelled on arrival.\n",
      "Due to Coronavirus (COVID-19), this property is taking steps to help protect the safety of guests and staff. Certain services and amenities may be reduced or unavailable as a result.\n",
      "In accordance with government guidelines to minimise transmission of the Coronavirus (COVID-19), this property may request additional documentation from guests to validate identity, travel itinerary and other relevant information, during dates where such guidelines exist. Disclaimer notification: Amenities are subject to availability and may be chargeable as per the hotel policy. >>\n"
     ]
    }
   ],
   "source": [
    "input = '''Can you suggest accomodation near pilanesberg national park in south africa?'''\n",
    "\n",
    "elapsed_time, response = retrieve_and_generate(input, AWS_KBID, bedrock_agent_runtime)\n",
    "display_response(response, elapsed_time)"
   ]
  },
  {
   "cell_type": "markdown",
   "metadata": {},
   "source": [
    "**Respuesta de Copilot Edge**\n",
    "\n",
    "Certainly! When visiting Pilanesberg National Park in South Africa, you have several accommodation options to choose from. Here are some recommendations:\n",
    "\n",
    "Bakubung Bush Lodge: Located within the park, this lodge offers elegantly decorated rooms with free Wi-Fi and a variety of massages. Prices start at R5100 per person sharing1.\n",
    "Black Rhino Game Lodge: Another excellent choice within the park, offering a unique safari experience.\n",
    "Kwa Maritane Bush Lodge: Situated in the Pilanesberg Game Reserve, this lodge provides comfortable accommodations.\n",
    "Tshukudu Bush Lodge: Known for its luxury and exclusivity, Tshukudu offers an unforgettable stay.\n",
    "Ivory Tree Game Lodge: A great option for wildlife enthusiasts, with comfortable rooms and beautiful surroundings.\n",
    "Additionally, Pilanesberg National Park itself has various accommodation options, including resorts, safari tents, bush lodges, chalets, and self-catering choices. Families, budget travelers, and discerning guests will find something suitable for their preferences and budget. Whether you prefer rustic safari tents or luxurious five-star lodges, the abundant wildlife in this malaria-free park remains the main attraction"
   ]
  },
  {
   "cell_type": "markdown",
   "metadata": {},
   "source": [
    "**Evaluación**\n",
    "\n",
    "| Participante | Calificación |\n",
    "| :- | -: |\n",
    "| JO Hernández | 1 |\n",
    "| JC Alvarado | 1 |\n",
    "| JC Romo | 1 |"
   ]
  },
  {
   "cell_type": "markdown",
   "metadata": {},
   "source": [
    "**Obteniendo Respuestas de la Base Conocimiento y el Modelo Fundacional**"
   ]
  },
  {
   "cell_type": "code",
   "execution_count": 8,
   "metadata": {
    "id": "0d6d5eee-596e-4bb8-a3c9-919ce176fe7b",
    "scrolled": true
   },
   "outputs": [
    {
     "name": "stdout",
     "output_type": "stream",
     "text": [
      "Respuesta despues de 2.0540 segundos:\n",
      "I could not find an exact answer to the question, but I found that there is a hotel in Limpopo province, which is near the North West Province.\n",
      "\n",
      "Cita:\n",
      "I could not find an exact answer to the question, but I found that there is a hotel in Limpopo province, which is near the North West Province\n",
      "Referencias:\n",
      "\n",
      "Nombre del hotel: shidzidzi and nungubane private game lodge, Ciudad: Vaalwater, Direccion: waterberg nature conservancy, waterbergvaalwater 0530, vaalwater, 530, south africa\n",
      "\n",
      "Pais: South Africa, Continente:Africa, URI:s3://chunked-hotel-data/1129025-d410acd6188911ef9eac16ffcf11486b.txt\n",
      "<< HotelDescription#The hotel is situated at the heart of the Waterberg in a wildlife reserve in the Limpopo province. Shidzidzi and Nungubane are only 3 km from the hotel. The hotel is located 130 km from Nylstroom and around 150 km from Mabula Lodge and Kwafubesi Toll Plaza. Sandton and Johannesburg International Airport lie 260 km/ a 3-hour drive away. Pretoria lies approximately 210 km from the hotel, whilst Sun City is 330 km away.\n",
      "\n",
      "The hotel accommodates a total of 20 guests in intimate elegance. Surrounded by 35,000 hectares of African bush land, guests here may enjoy fabulous views of the Big Five. This hotel comprises a total of 10 luxury chalets (5 per chalet), 4 king-size chalets (2 per chalet) and 6 double chalets (3 per chalet). Additionally on offer here are a lounge, a curio shop, a private helicopter and six fixed wing charters.\n",
      "\n",
      "All rooms afford a view of the Waterberg and each chalet comes with a private veranda/roof terrace. The rooms comprise an en suite bathroom with hairdryer, an additional outdoor shower, ceiling fans as well as tea and coffee making facilities.\n",
      "\n",
      "There is a swimming pool available for use in the outdoor complex. Each camp features water holes, where guests are able to view the thirsty wildlife.\n",
      "\n",
      "It is possible to dine in the bush. >>\n"
     ]
    }
   ],
   "source": [
    "input = '''Can you suggest accomodation near pilanesberg national park in the north west province in south africa?'''\n",
    "\n",
    "elapsed_time, response = retrieve_and_generate(input, AWS_KBID, bedrock_agent_runtime)\n",
    "display_response(response, elapsed_time)"
   ]
  },
  {
   "cell_type": "markdown",
   "metadata": {},
   "source": [
    "**Respuesta de Copilot Edge**\n",
    "\n",
    "Certainly! When visiting Pilanesberg National Park in South Africa, you have several accommodation options to choose from. Here are some recommendations:\n",
    "\n",
    "Bakubung Bush Lodge: Located within the park, this lodge offers elegantly decorated rooms with free Wi-Fi and a variety of massages. Prices start at R5100 per person sharing1.\n",
    "Black Rhino Game Lodge: Another excellent choice within the park, offering a unique safari experience.\n",
    "Kwa Maritane Bush Lodge: Situated in the Pilanesberg Game Reserve, this lodge provides comfortable accommodations.\n",
    "Tshukudu Bush Lodge: Known for its luxury and exclusivity, Tshukudu offers an unforgettable stay.\n",
    "Ivory Tree Game Lodge: A great option for wildlife enthusiasts, with comfortable rooms and beautiful surroundings.\n",
    "Additionally, Pilanesberg National Park itself has various accommodation options, including resorts, safari tents, bush lodges, chalets, and self-catering choices. Families, budget travelers, and discerning guests will find something suitable for their preferences and budget. Whether you prefer rustic safari tents or luxurious five-star lodges, the abundant wildlife in this malaria-free park remains the main attraction"
   ]
  },
  {
   "cell_type": "markdown",
   "metadata": {},
   "source": [
    "**Evaluación**\n",
    "\n",
    "| Participante | Calificación |\n",
    "| :- | -: |\n",
    "| JO Hernández | 1 |\n",
    "| JC Alvarado | 1 |\n",
    "| JC Romo | 1 |"
   ]
  },
  {
   "cell_type": "markdown",
   "metadata": {},
   "source": [
    "**Obteniendo Respuestas de la Base Conocimiento y el Modelo Fundacional**"
   ]
  },
  {
   "cell_type": "code",
   "execution_count": 9,
   "metadata": {
    "scrolled": true
   },
   "outputs": [
    {
     "name": "stdout",
     "output_type": "stream",
     "text": [
      "Respuesta despues de 3.1411 segundos:\n",
      "When you stay at Black Rhino Game Lodge in Pilanesberg National Park, you'll be in a national park and 13 minutes by foot from Pilanesberg National Park. This 4-star lodge is 22.1 mi (35.6 km) from Sun City Casino and 22.5 mi (36.1 km) from The Valley of Waves.\n",
      "\n",
      "Cita:\n",
      "When you stay at Black Rhino Game Lodge in Pilanesberg National Park, you'll be in a national park and 13 minutes by foot from Pilanesberg National Park. This 4-star lodge is 22.1 mi (35.6 km) from Sun City Casino and 22.5 mi (36.1 km) from The Valley of Waves.\n",
      "Referencias:\n",
      "\n",
      "Nombre del hotel: black rhino game lodge, Ciudad: Pilanesberg National Park, Direccion: r565 black rhino game reserve, black rhino game reservepilanesberg 7130pilanesberg national park, pilanesberg national park, 2128, south africa\n",
      "\n",
      "Pais: South Africa, Continente:Africa, URI:s3://chunked-hotel-data/1167213-3bacf31e188911ef9eac16ffcf11486b.txt\n",
      "<< HeadLine : In a national parkLocation : When you stay at Black Rhino Game Lodge in Pilanesberg National Park, you ll be in a national park and 13 minutes by foot from Pilanesberg National Park.  This 4-star lodge is 22.1 mi (35.6 km) from Sun City Casino and 22.5 mi (36.1 km) from The Valley of Waves.Rooms : Make yourself at home in one of the 22 individually decorated guestrooms, featuring minibars and flat-screen televisions. Rooms have private furnished patios. Complimentary wireless Internet access keeps you connected, and satellite programming is available for your entertainment. Private bathrooms with separate bathtubs and showers feature complimentary toiletries and hair dryers.Dining : Enjoy a meal at the restaurant or snacks in the lodge s coffee shop/cafe. Wrap up your day with a drink at the bar/lounge. A complimentary self-serve breakfast is served daily from 7:00 AM to 9:00 AM.CheckIn Instructions :   Extra-person charges may apply and vary depending on property policyGovernment-issued photo identification and a credit card or cash deposit may be required at check-in for incidental chargesSpecial requests are subject to availability upon check-in and may incur additional charges; special requests cannot be guaranteedThis property accepts credit cards; cash is not acceptedPlease note that cultural norms and guest policies may differ by country and by property; the policies listed are provided by the property  Special Instructions : The front desk is open daily from 7:00 AM - 10:00 PM. This property doesn t offer after-hours check-in. Front desk staff will greet guests on arrival. For more details, please contact the property using the information on the booking confirmation.  This property does not permit children under 5 years old on game drives. Children ages 6-11 are permitted on game drives at management discretion. Children age 12 and older are permitted on game drives, and are charged the adult rate per game drive. Guests driving to the property should contact this property in advance. Disclaimer notification: Amenities are subject to availability and may be chargeable as per the hotel policy. >>\n"
     ]
    }
   ],
   "source": [
    "input = '''What attractions are close to Black Rhino Game Lodge, north west province in south africa?'''\n",
    "\n",
    "elapsed_time, response = retrieve_and_generate(input, AWS_KBID, bedrock_agent_runtime)\n",
    "display_response(response, elapsed_time)"
   ]
  },
  {
   "cell_type": "markdown",
   "metadata": {},
   "source": [
    "**Respuesta de Copilot Edge**\n",
    "\n",
    "The Black Rhino Game Lodge is nestled in the west side of the malaria-free Pilanesberg National Park in the North West Province of South Africa. Here are some attractions near the lodge:\n",
    "\n",
    "Pilanesberg National Park: The park itself is a must-visit, covering an area of 55,000 hectares. It’s home to the Big Five (elephant, buffalo, leopard, lion, and rhinoceros), as well as other wildlife like wild dogs, hippos, and various bird species12.\n",
    "Sun City: Only 33 km away from the lodge, Sun City is a popular entertainment hotspot. You can explore its casinos, golf courses, water parks, and cultural attractions1.\n",
    "Tambuti Lodge: Located in the northwestern side of Pilanesberg National Park, Tambuti Lodge offers spacious and luxurious accommodation surrounded by the trees of the old Tamboti forest. It’s an excellent option for visitors seeking a unique safari experience3.\n",
    "Kgorogoro Lodge (Morokolo Safari Lodge): Situated on the northern slopes of the Pilanesberg mountains, Kgorogoro Lodge boasts rich varieties of African wildlife, fauna, and flora. You can book either the 4 Suite Lodge or the Executive Suite for a memorable stay4.\n",
    "Remember that the Black Rhino Game Reserve and the greater Pilanesberg National Park are only about 2.5 hours’ drive from Johannesburg, Pretoria, and the OR Tambo International Airport, making it easily accessible for travelers1. Enjoy your bushveld adventure! raction"
   ]
  },
  {
   "cell_type": "markdown",
   "metadata": {},
   "source": [
    "**Evaluación**\n",
    "\n",
    "| Participante | Calificación |\n",
    "| :- | -: |\n",
    "| JO Hernández | 5 |\n",
    "| JC Alvarado | 5 |\n",
    "| JC Romo | 5 |"
   ]
  },
  {
   "cell_type": "markdown",
   "metadata": {},
   "source": [
    "**Obteniendo Respuestas de la Base Conocimiento y el Modelo Fundacional**"
   ]
  },
  {
   "cell_type": "code",
   "execution_count": 10,
   "metadata": {},
   "outputs": [
    {
     "name": "stdout",
     "output_type": "stream",
     "text": [
      "Respuesta despues de 1.5594 segundos:\n",
      "You can try Cape Village Lodge in Cape Town, Western Cape Province in South Africa.\n",
      "\n",
      "Cita:\n",
      "You can try Cape Village Lodge in Cape Town, Western Cape Province in South Africa\n",
      "Referencias:\n",
      "\n",
      "Nombre del hotel: cape village lodge, Ciudad: Durbanville, Direccion: 19 mills street, valmary park, valmary parkdurbanville 7550western cape, durbanville, 7550, south africa\n",
      "\n",
      "Pais: South Africa, Continente:Africa, URI:s3://chunked-hotel-data/1775684-1ae4cc2a188811ef9eac16ffcf11486b.txt\n",
      "<< HeadLine : In Cape Town (Welgemoed)Location : With a stay at Cape Village Lodge in Cape Town (Welgemoed), you ll be within a 5-minute drive of Durbanville Golf Club and Nitida Cellars.  This 4-star guesthouse is 2.8 mi (4.5 km) from Tyger Valley Shopping Centre and 3 mi (4.8 km) from Willowbridge Shopping Centre.Rooms : Make yourself at home in one of the 4 guestrooms featuring minibars and Smart televisions. Rooms have private patios. Complimentary wireless Internet access keeps you connected, and satellite programming is available for your entertainment. Bathrooms have complimentary toiletries and hair dryers.Dining : Continental breakfasts are served on weekdays from 7:30 AM to 9:30 AM and on weekends from 8:00 AM to 10:00 AM for a fee.CheckIn Instructions :   Extra-person charges may apply and vary depending on property policyGovernment-issued photo identification and a credit card, debit card, or cash deposit may be required at check-in for incidental chargesSpecial requests are subject to availability upon check-in and may incur additional charges; special requests cannot be guaranteedThis property accepts credit cards; cash is not accepted  Special Instructions : The front desk is open daily from 7 AM - 4 PM. To make arrangements for check-in please contact the property at least 24 hours before arrival using the information on the booking confirmation. If you are planning to arrive after 6 PM please contact the property in advance using the information on the booking confirmation. Guests must contact the property in advance for check-in instructions. Front desk staff will greet guests on arrival. Disclaimer notification: Amenities are subject to availability and may be chargeable as per the hotel policy. >>\n"
     ]
    }
   ],
   "source": [
    "input = '''Can you suggest accommodation in cape town, western cape province in south africa?'''\n",
    "\n",
    "elapsed_time, response = retrieve_and_generate(input, AWS_KBID, bedrock_agent_runtime)\n",
    "display_response(response, elapsed_time)"
   ]
  },
  {
   "cell_type": "markdown",
   "metadata": {},
   "source": [
    "**Respuesta de Copilot Edge**\n",
    "\n",
    "Certainly! Cape Town, in the Western Cape Province of South Africa, offers a variety of accommodation options. Here are a few recommendations:\n",
    "\n",
    "The Glen Boutique Hotel & Spa: A 5-star stay in Sea Point, Cape Town. Enjoy luxurious rooms with modern furniture, private bathrooms, and stunning views of the mountains or the Atlantic Ocean. The hotel features a spa, pool, and complimentary breakfast buffet1.\n",
    "Radisson Blu Hotel Waterfront: Another 5-star option with breathtaking views of Table Mountain or the ocean. The hotel offers free Wi-Fi, a private marina, and water sports activities. It’s close to the V&A Waterfront and the CBD2.\n",
    "Airbnb: Consider checking out Airbnb for unique vacation rentals, apartments, and townhouses in Cape Town. You can find places with ocean views, private pools, and stylish interiors34.\n",
    "Remember to explore the Sea Point promenade, nearby beaches, and iconic attractions during your stay. Enjoy your trip!raction"
   ]
  },
  {
   "cell_type": "markdown",
   "metadata": {},
   "source": [
    "**Evaluación**\n",
    "\n",
    "| Participante | Calificación |\n",
    "| :- | -: |\n",
    "| JO Hernández | 3 |\n",
    "| JC Alvarado | 3 |\n",
    "| JC Romo | 4 |"
   ]
  },
  {
   "cell_type": "markdown",
   "metadata": {},
   "source": [
    "**Obteniendo Respuestas de la Base Conocimiento y el Modelo Fundacional**"
   ]
  },
  {
   "cell_type": "code",
   "execution_count": 7,
   "metadata": {},
   "outputs": [
    {
     "name": "stdout",
     "output_type": "stream",
     "text": [
      "Respuesta despues de 3.1523 segundos:\n",
      "Here are some accommodations in Cape Town, Western Cape Province, South Africa, with a minimum rating of 4:\n",
      "- Cape Village Lodge - This apartment - This vacation home\n",
      "\n",
      "Cita:\n",
      "Here are some accommodations in Cape Town, Western Cape Province, South Africa, with a minimum rating of 4:\n",
      "- Cape Village Lodge\n",
      "Referencias:\n",
      "\n",
      "Nombre del hotel: cape village lodge, Ciudad: Durbanville, Direccion: 19 mills street, valmary park, valmary parkdurbanville 7550western cape, durbanville, 7550, south africa\n",
      "\n",
      "Pais: South Africa, Continente:Africa, URI:s3://chunked-hotel-data/1775684-1ae4cc2a188811ef9eac16ffcf11486b.txt\n",
      "<< HeadLine : In Cape Town (Welgemoed)Location : With a stay at Cape Village Lodge in Cape Town (Welgemoed), you ll be within a 5-minute drive of Durbanville Golf Club and Nitida Cellars.  This 4-star guesthouse is 2.8 mi (4.5 km) from Tyger Valley Shopping Centre and 3 mi (4.8 km) from Willowbridge Shopping Centre.Rooms : Make yourself at home in one of the 4 guestrooms featuring minibars and Smart televisions. Rooms have private patios. Complimentary wireless Internet access keeps you connected, and satellite programming is available for your entertainment. Bathrooms have complimentary toiletries and hair dryers.Dining : Continental breakfasts are served on weekdays from 7:30 AM to 9:30 AM and on weekends from 8:00 AM to 10:00 AM for a fee.CheckIn Instructions :   Extra-person charges may apply and vary depending on property policyGovernment-issued photo identification and a credit card, debit card, or cash deposit may be required at check-in for incidental chargesSpecial requests are subject to availability upon check-in and may incur additional charges; special requests cannot be guaranteedThis property accepts credit cards; cash is not accepted  Special Instructions : The front desk is open daily from 7 AM - 4 PM. To make arrangements for check-in please contact the property at least 24 hours before arrival using the information on the booking confirmation. If you are planning to arrive after 6 PM please contact the property in advance using the information on the booking confirmation. Guests must contact the property in advance for check-in instructions. Front desk staff will greet guests on arrival. Disclaimer notification: Amenities are subject to availability and may be chargeable as per the hotel policy. >>\n",
      "\n",
      "Cita:\n",
      "- This apartment\n",
      "Referencias:\n",
      "\n",
      "Nombre del hotel: 3 canterbury square, Ciudad: Cape Town, Direccion: vogelgezang street 3 canterbury square zonnebloem, , cape town, 7925, south africa\n",
      "\n",
      "Pais: South Africa, Continente:Africa, URI:s3://chunked-hotel-data/5201303-cc727780189211ef9eac16ffcf11486b.txt\n",
      "<< HeadLine : In Cape Town (Cape Town City Centre)Location : With a stay at this apartment in Cape Town (Cape Town City Centre), you ll be steps from District 6 and 3 minutes by foot from Cape Peninsula University of Technology.  This 4-star apartment is 2.9 mi (4.7 km) from Cape Town Cruise Terminal and 5.3 mi (8.5 km) from Camps Bay Beach.Rooms : Make yourself comfortable in this air-conditioned apartment, featuring a kitchen with a full-sized refrigerator/freezer and an oven. There s a private patio. A flat-screen television with satellite programming provides entertainment, while complimentary wireless Internet access keeps you connected. Conveniences include a safe and a separate sitting area, and housekeeping is provided on request.CheckIn Instructions :   Extra-person charges may apply and vary depending on property policyGovernment-issued photo identification and a credit card, debit card, or cash deposit may be required at check-in for incidental chargesSpecial requests are subject to availability upon check-in and may incur additional charges; special requests cannot be guaranteedThis property accepts credit cards; cash is not accepted  Special Instructions : There is no front desk at this property. Disclaimer notification: Amenities are subject to availability and may be chargeable as per the hotel policy. >>\n",
      "\n",
      "Cita:\n",
      "- This vacation home\n",
      "Referencias:\n",
      "\n",
      "Nombre del hotel: at kommetjie way, Ciudad: Kommetjie, Direccion: 85 wireless road kommetjie, , kommetjie, 7975, south africa\n",
      "\n",
      "Pais: South Africa, Continente:Africa, URI:s3://chunked-hotel-data/5329626-d4e3ef6e189e11ef9eac16ffcf11486b.txt\n",
      "<< HeadLine : In Cape Town (Cape Peninsula)Location : With a stay at this vacation home in Cape Town (Cape Peninsula), you ll be steps from Long Beach and Table Mountain National Park.  This 4-star vacation home is 0.1 mi (0.1 km) from Noordhoek Beach and 0.4 mi (0.6 km) from Cape Floral Region Protected Areas.Rooms : Make yourself comfortable in your vacation home, featuring a refrigerator and a DVD player. Complimentary wireless Internet access is available to keep you connected.CheckIn Instructions :   Extra-person charges may apply and vary depending on property policyGovernment-issued photo identification and a credit card, debit card, or cash deposit may be required at check-in for incidental chargesSpecial requests are subject to availability upon check-in and may incur additional charges; special requests cannot be guaranteedBe prepared: check the latest COVID-19 travel requirements and measures in place for this destination before you travel.  Special Instructions :  Disclaimer notification: Amenities are subject to availability and may be chargeable as per the hotel policy. >>\n"
     ]
    }
   ],
   "source": [
    "input = '''Can you suggest accommodation in cape town, western cape province in south africa, minimum rating of 4?'''\n",
    "\n",
    "elapsed_time, response = retrieve_and_generate(input, AWS_KBID, bedrock_agent_runtime)\n",
    "display_response(response, elapsed_time)"
   ]
  },
  {
   "cell_type": "markdown",
   "metadata": {},
   "source": [
    "**Respuesta de Copilot Edge**\n",
    "\n",
    "Certainly! Cape Town, in the Western Cape Province of South Africa, offers a variety of 4-star accommodation options. Here are some recommendations:\n",
    "\n",
    "Home Suite Hotels Station House: Located in Sea Point, this hotel provides an outdoor swimming pool, free private parking, a fitness center, and a terrace. Guests can also enjoy a bar12.\n",
    "Home Suite Hotels Sea Point: Set in Cape Town, near Three Anchor Bay Beach, this hotel features an outdoor swimming pool, shared lounge, and terrace. Some units even have a balcony with city views12.\n",
    "O’ Two Hotel: Situated in Mouille Point, this hotel offers free bikes, an outdoor swimming pool, fitness center, and a terrace. It’s close to Mouille Point Beach and Three Anchor Bay Beach12.\n",
    "Romney Park Luxury Apartments: Located in Green Point, this 5-star aparthotel offers spacious apartments with kitchen facilities, en-suite bathrooms, and outdoor balconies with panoramic views12.\n",
    "Remember to explore the nearby attractions and enjoy your stay in beautiful Cape Town!raction"
   ]
  },
  {
   "cell_type": "markdown",
   "metadata": {},
   "source": [
    "**Evaluación**\n",
    "\n",
    "| Participante | Calificación |\n",
    "| :- | -: |\n",
    "| JO Hernández | 3 |\n",
    "| JC Alvarado | 3 |\n",
    "| JC Romo | 4 |"
   ]
  },
  {
   "cell_type": "markdown",
   "metadata": {},
   "source": [
    "**Obteniendo Respuestas de la Base Conocimiento y el Modelo Fundacional**"
   ]
  },
  {
   "cell_type": "code",
   "execution_count": 12,
   "metadata": {},
   "outputs": [
    {
     "name": "stdout",
     "output_type": "stream",
     "text": [
      "Respuesta despues de 2.1519 segundos:\n",
      "I could not find an exact answer to the question, but I did find a 4-star lodge in Hoedspruit.\n",
      "\n",
      "Cita:\n",
      "I could not find an exact answer to the question, but I did find a 4-star lodge in Hoedspruit\n",
      "Referencias:\n",
      "\n",
      "Nombre del hotel: twiga travel, Ciudad: Hoedspruit, Direccion: 542 ghwarrie road hoedspruit wildlife estate, hoedspruit wildlife estatehoedspruit 1380, hoedspruit, 1380, south africa\n",
      "\n",
      "Pais: South Africa, Continente:Africa, URI:s3://chunked-hotel-data/1822395-01beff68188d11ef9eac16ffcf11486b.txt\n",
      "<< HeadLine : In HoedspruitLocation : With a stay at Twiga Travel in Hoedspruit, you ll be 13.2 mi (21.2 km) from Jessica the Hippo and 15.1 mi (24.2 km) from Hoedspruit Endangered Species Centre.  This 4-star lodge is 22.1 mi (35.6 km) from Moholoholo Wildlife Rehabilitation Centre.Rooms : Make yourself at home in one of the 5 individually decorated guestrooms, featuring refrigerators and microwaves. Your memory foam bed comes with premium bedding. Complimentary wireless Internet access is available to keep you connected. Bathrooms feature bathtubs or showers with rainfall showerheads and complimentary toiletries.CheckIn Instructions :   Extra-person charges may apply and vary depending on property policyGovernment-issued photo identification and a credit card, debit card, or cash deposit may be required at check-in for incidental chargesSpecial requests are subject to availability upon check-in and may incur additional charges; special requests cannot be guaranteedThis property accepts credit cards; cash is not acceptedOnsite parties or group events are strictly prohibited  Special Instructions : There is no front desk at this property. If you are planning to arrive after 8:00 PM please contact the property in advance using the information on the booking confirmation. The host will greet guests on arrival. Disclaimer notification: Amenities are subject to availability and may be chargeable as per the hotel policy. >>\n"
     ]
    }
   ],
   "source": [
    "input = '''Can you suggest accommodation in Hoedspruit, limpopo province in south africa?'''\n",
    "\n",
    "elapsed_time, response = retrieve_and_generate(input, AWS_KBID, bedrock_agent_runtime)\n",
    "display_response(response, elapsed_time)"
   ]
  },
  {
   "cell_type": "markdown",
   "metadata": {},
   "source": [
    "**Respuesta de Copilot Edge**\n",
    "\n",
    "Certainly! Hoedspruit, located in the Limpopo Province of South Africa, offers a variety of accommodation options. Here are some recommendations:\n",
    "\n",
    "The Hoedspruit Hotel: This cozy hotel brings the best of Hoedspruit to your doorstep. Enjoy comfortable rooms with flat-screen TVs, air conditioning, and refrigerators. Free parking is available, and it’s conveniently located near popular art galleries and restaurants1.\n",
    "Sunbirds Oasis Lodge: A tranquil stay in Hoedspruit. Explore the surrounding wildlife and enjoy the peaceful atmosphere2.\n",
    "Airbnb: Consider checking out Airbnb for unique vacation rentals, self-catering houses, and lodges in Hoedspruit. You can find options with stunning views, private pools, and close proximity to nature reserves3.\n",
    "Remember to explore the nearby Blyde River Canyon, Kruger National Park, and other natural wonders during your stay.raction"
   ]
  },
  {
   "cell_type": "markdown",
   "metadata": {},
   "source": [
    "**Evaluación**\n",
    "\n",
    "| Participante | Calificación |\n",
    "| :- | -: |\n",
    "| JO Hernández | 1 |\n",
    "| JC Alvarado | 1 |\n",
    "| JC Romo | 1 |"
   ]
  },
  {
   "cell_type": "markdown",
   "metadata": {},
   "source": [
    "**Obteniendo Respuestas de la Base Conocimiento y el Modelo Fundacional**"
   ]
  },
  {
   "cell_type": "code",
   "execution_count": 13,
   "metadata": {
    "scrolled": false
   },
   "outputs": [
    {
     "name": "stdout",
     "output_type": "stream",
     "text": [
      "Respuesta despues de 3.5354 segundos:\n",
      "Here are 5 places to stay in Monterrey, Nuevo Leon in Mexico:\n",
      "1. Auténtico Monterrey 2. Hotel 5 Inn 3. Mex Suites Casa Azúl B&B 4. Hotel Real Inn Nuevo Morelos 5. City Express Monterrey Aeropuerto\n",
      "\n",
      "Cita:\n",
      "Here are 5 places to stay in Monterrey, Nuevo Leon in Mexico:\n",
      "1. Auténtico Monterrey\n",
      "Referencias:\n",
      "\n",
      "Nombre del hotel: auténtico monterrey, Ciudad: San Pedro Garza Garcia, Direccion: avenida manuel gómez morín 285 col valle del campestre, , san pedro garza garcia, 66265, mexico\n",
      "\n",
      "Pais: Mexico, Continente:Americas, URI:s3://chunked-hotel-data/5380060-a1d99eb4188c11ef9eac16ffcf11486b.txt\n",
      "<< HeadLine : Near Paseo San PedroLocation : With a stay at Auténtico Monterrey in San Pedro Garza García, you ll be connected to a shopping center, within a 10-minute drive of Fundidora Park and Paseo San Pedro.  This 4-star hotel is 4.2 mi (6.8 km) from Macroplaza and 8.7 mi (14 km) from Estadio BBVA Bancomer.Rooms : Stay in one of 33 guestrooms featuring plasma televisions. Complimentary wireless Internet access is available to keep you connected. Private bathrooms have complimentary toiletries and hair dryers. Conveniences include safes and desks, and housekeeping is provided daily.Dining : Enjoy a meal at Reys Café, or stay in and take advantage of the hotel s room service (during limited hours). Relax with your favorite drink at the bar/lounge or the poolside bar. A complimentary continental breakfast is served daily.CheckIn Instructions :   Extra-person charges may apply and vary depending on property policyGovernment-issued photo identification and a credit card may be required at check-in for incidental chargesSpecial requests are subject to availability upon check-in and may incur additional charges; special requests cannot be guaranteedThis property accepts credit cards, debit cards, and cashSafety features at this property include a fire extinguisher and a smoke detector  Special Instructions : To make arrangements for check-in please contact the property at least 48 hours before arrival using the information on the booking confirmation. Guests must contact the property in advance for check-in instructions. Front desk staff will greet guests on arrival. Disclaimer notification: Amenities are subject to availability and may be chargeable as per the hotel policy. >>\n",
      "\n",
      "Cita:\n",
      "2. Hotel 5 Inn\n",
      "Referencias:\n",
      "\n",
      "Nombre del hotel: hotel 5 inn, Ciudad: Silao, Direccion: carretera leon-silao km 158+300, 36270 silaoguanajuato, silao, 36270, mexico\n",
      "\n",
      "Pais: Mexico, Continente:Americas, URI:s3://chunked-hotel-data/1406740-4242a8a6189611ef9eac16ffcf11486b.txt\n",
      "<< Hotel 5 Inn is strategically located 2.5 km from Guanajuato International Airport and 10 minutes’ drive from Silao Town Centre. It features free Wi-Fi and a furnished terrace with swimming pool.\n",
      "\n",
      "The accommodations offer modern décor with tiled floors, air conditioning, coffee maker and flat-screen cable TV. The bathrooms are private and come with hairdryer, free toiletries and shower.\n",
      "\n",
      "This property also features a gym and business centre, children’s playground and services like car rental, and laundry. The on-site restaurant serves international cuisine.\n",
      "\n",
      "Hotel Inn 5 is 25 km from Cerro del Cubilete Nature Reserve and 25 minutes’ drive from Guanajuato Capital City. Leon Town Centre is a 30-minute drive away. Disclaimer notification: Amenities are subject to availability and may be chargeable as per the hotel policy. >>\n",
      "\n",
      "Cita:\n",
      "3. Mex Suites Casa Azúl B&B\n",
      "Referencias:\n",
      "\n",
      "Nombre del hotel: mex suites casa azúl b&b, Ciudad: Benito Juarez, Direccion: nattier no 21 col insurgentes mixcoac, 03430 mexiko-stadtciudad de mexico, benito juarez, 03730, mexico\n",
      "\n",
      "Pais: Mexico, Continente:Americas, URI:s3://chunked-hotel-data/1640962-e53c6d50188f11ef9eac16ffcf11486b.txt\n",
      "<< Mexico City is not only downtown. You have to move South, West, North, Center and also Downtown. Our property is located properly to visit all this interest points in 15 mins by public or private transportation. Booking on downtown is the most noisy, dangerous and polluted area in Mexico City. Be smart and lodge in a proper site Mex Suites Casa Azúl B&B is a quaint colonial-style bed and breakfast located in the Napoles neighbourhood of Mexico City. It offers free WiFi and à la carte breakfast. This property is located just 700 metres away from the nearest metro station.\n",
      "\n",
      "Each room here includes a flat-screen TV, a patio and a minibar. They also include a small seating area and a private bathroom with a shower and toilet.\n",
      "\n",
      "At Mex Suites Casa Azúl you will find a terrace and a shared lounge, while a wide variety of restaurants can be found on Insurgents Avenue, a 5-minute walk away. >>\n",
      "\n",
      "Cita:\n",
      "4. Hotel Real Inn Nuevo Morelos\n",
      "Referencias:\n",
      "\n",
      "Nombre del hotel: hotel real inn nuevo morelos, Ciudad: San Francisco, Direccion: carretera transistmica km 118 col. nuevo morelos, , san francisco, 96960, mexico\n",
      "\n",
      "Pais: Mexico, Continente:Americas, URI:s3://chunked-hotel-data/6061766-ea9baacc189911ef9eac16ffcf11486b.txt\n",
      "<< Hotel Real Inn Nuevo Morelos is located in nuevo Morelos, and features a garden, a bar and a terrace. Among the facilities of this property are a restaurant, a 24-hour front desk and room service, along with free WiFi. Guests can enjoy garden views.\n",
      "\n",
      "Featuring a private bathroom with a bath or shower and a hairdryer, rooms at the hotel also offer pool view. At Hotel Real Inn Nuevo Morelos each room includes air conditioning and a flat-screen TV.\n",
      "\n",
      "An American breakfast is available daily at the accommodation.\n",
      "\n",
      "The nearest airport is Minatitlán/Coatzacoalcos National Airport, 106 km from Hotel Real Inn Nuevo Morelos. Disclaimer notification: Amenities are subject to availability and may be chargeable as per the hotel policy. >>\n",
      "\n",
      "Cita:\n",
      "5. City Express Monterrey Aeropuerto\n",
      "Referencias:\n",
      "\n",
      "Nombre del hotel: mision ciudad victoria, Ciudad: Ciudad Victoria, Direccion: carretera nac. km. 227 s/n col. las brisas, ciudad victoria, ciudad victoria, 87180, mexico\n",
      "\n",
      "Pais: Mexico, Continente:Americas, URI:s3://chunked-hotel-data/1326002-1655d33c188011ef9eac16ffcf11486b.txt\n",
      "<< This centrally located city hotel is ideal for guests wanting to visit the breathtaking places in the area, such as the El Cielo biosphere reserve, as well as other nearby attractions in other regions of the state, such as the many forests and lagoons, or the La Pesca Soto beach marina, a popular destination on the Tamaulipecos coast. Monterrey is around 3.5 hours away by car from the family-friendly eco hotel.\n",
      "\n",
      "The air-conditioned business hotel offers 144 rooms in total and facilities include 24-hour reception and check-out services, wireless Internet access, and 7 rooms and open-air spaces for meetings and events. Guests may wine and dine in the café, bar and restaurant and a children's playground is provided for younger guests. A cloakroom, newspaper stand, room service, a laundry service and a car park complete the facilities on offer to guests at this conference hotel.\n",
      "\n",
      "The hotel has comfortable guest rooms featuring a 29-inch flat-screen cable TV, individually regulated air conditioning and heating, wireless Internet access and a telephone with free local calls, a work desk and an electronic safe. An en suite bathroom with shower, a double or king-size bed, a radio and tea and coffee making facilities also feature in all rooms as standard.\n",
      "\n",
      "There is a swimming pool on the premises with a separate children's swimming area and a poolside snack bar. >>\n"
     ]
    }
   ],
   "source": [
    "input = '''Can you suggest 5 places to stay in Monterrey, Nuevo Leon in Mexico?'''\n",
    "\n",
    "elapsed_time, response = retrieve_and_generate(input, AWS_KBID, bedrock_agent_runtime)\n",
    "display_response(response, elapsed_time)"
   ]
  },
  {
   "cell_type": "markdown",
   "metadata": {},
   "source": [
    "**Respuesta de Copilot Edge**\n",
    "\n",
    "Certainly! If you’re planning a trip to Monterrey, Nuevo León, here are five great places to stay:\n",
    "\n",
    "Safi Royal Luxury Metropolitan: Located in San Pedro Garza Garcia, this 5-star hotel offers an outdoor pool, free parking, and a fitness center. Enjoy panoramic views and excellent service12.\n",
    "Best Western PREMIER Monterrey Aeropuerto: Just a 5-minute drive from Monterrey International Airport, this hotel features an outdoor pool, a gym, and air-conditioned rooms with free Wi-Fi13.\n",
    "Galeria Plaza Monterrey: Conveniently situated in the center of Monterrey, this 5-star hotel offers city views, an outdoor pool, and free WiFi. Don’t miss the restaurant and bar13.\n",
    "Holiday Inn & Suites - Monterrey Apodaca Zona Airport: Located in Apodaca, this 5-star IHG hotel provides an outdoor pool, free private parking, and a fitness center. Perfect for travelers near the airport13.\n",
    "Fiesta Americana Monterrey Pabellón M.: Situated in Monterrey Centro, this hotel offers an outdoor pool and stunning city views. The on-site restaurant and bar on the 16th floor provide a memorable experience12.\n",
    "Enjoy your stay in vibrant Monterrey!raction"
   ]
  },
  {
   "cell_type": "markdown",
   "metadata": {},
   "source": [
    "**Evaluación**\n",
    "\n",
    "| Participante | Calificación |\n",
    "| :- | -: |\n",
    "| JO Hernández | 2 |\n",
    "| JC Alvarado | 2 |\n",
    "| JC Romo | 2 |"
   ]
  },
  {
   "cell_type": "markdown",
   "metadata": {},
   "source": [
    "**Obteniendo Respuestas de la Base Conocimiento y el Modelo Fundacional**"
   ]
  },
  {
   "cell_type": "code",
   "execution_count": 14,
   "metadata": {},
   "outputs": [
    {
     "name": "stdout",
     "output_type": "stream",
     "text": [
      "Respuesta despues de 3.2673 segundos:\n",
      "Here are 5 places to stay in Monterrey, Nuevo Leon in Mexico, close to Tec de Monterrey:\n",
      "1. Auténtico Monterrey 2. Hyatt Place Monterrey Valle 3. NH Monterrey La Fe 4. Mex Hoteles 5. Hotel Fundador\n",
      "\n",
      "Cita:\n",
      "Here are 5 places to stay in Monterrey, Nuevo Leon in Mexico, close to Tec de Monterrey:\n",
      "1. Auténtico Monterrey\n",
      "Referencias:\n",
      "\n",
      "Nombre del hotel: auténtico monterrey, Ciudad: San Pedro Garza Garcia, Direccion: avenida manuel gómez morín 285 col valle del campestre, , san pedro garza garcia, 66265, mexico\n",
      "\n",
      "Pais: Mexico, Continente:Americas, URI:s3://chunked-hotel-data/5380060-a1d99eb4188c11ef9eac16ffcf11486b.txt\n",
      "<< HeadLine : Near Paseo San PedroLocation : With a stay at Auténtico Monterrey in San Pedro Garza García, you ll be connected to a shopping center, within a 10-minute drive of Fundidora Park and Paseo San Pedro.  This 4-star hotel is 4.2 mi (6.8 km) from Macroplaza and 8.7 mi (14 km) from Estadio BBVA Bancomer.Rooms : Stay in one of 33 guestrooms featuring plasma televisions. Complimentary wireless Internet access is available to keep you connected. Private bathrooms have complimentary toiletries and hair dryers. Conveniences include safes and desks, and housekeeping is provided daily.Dining : Enjoy a meal at Reys Café, or stay in and take advantage of the hotel s room service (during limited hours). Relax with your favorite drink at the bar/lounge or the poolside bar. A complimentary continental breakfast is served daily.CheckIn Instructions :   Extra-person charges may apply and vary depending on property policyGovernment-issued photo identification and a credit card may be required at check-in for incidental chargesSpecial requests are subject to availability upon check-in and may incur additional charges; special requests cannot be guaranteedThis property accepts credit cards, debit cards, and cashSafety features at this property include a fire extinguisher and a smoke detector  Special Instructions : To make arrangements for check-in please contact the property at least 48 hours before arrival using the information on the booking confirmation. Guests must contact the property in advance for check-in instructions. Front desk staff will greet guests on arrival. Disclaimer notification: Amenities are subject to availability and may be chargeable as per the hotel policy. >>\n",
      "\n",
      "Cita:\n",
      "2. Hyatt Place Monterrey Valle\n",
      "Referencias:\n",
      "\n",
      "Nombre del hotel: hyatt place monterrey valle, Ciudad: Monterrey, Direccion: av lazaro cardenas no. 2264  valle oriente  san pedro garza garcia, , monterrey, 66278, mexico\n",
      "\n",
      "Pais: Mexico, Continente:Americas, URI:s3://chunked-hotel-data/5015655-c849f232189211ef9eac16ffcf11486b.txt\n",
      "<< Hyatt Place Monterrey Valle has an outdoor swimming pool, fitness centre, a terrace and restaurant in Monterrey. Each accommodation at the 4-star hotel has city views, and guests can enjoy access to a bar and to water sports facilities. The accommodation features room service, a 24-hour front desk and organising tours for guests.\n",
      "\n",
      "All rooms at the hotel come with air conditioning, a seating area, a flat-screen TV with satellite channels, a safety deposit box and a private bathroom with a shower, free toiletries and a hairdryer. At Hyatt Place Monterrey Valle the rooms are fitted with bed linen and towels.\n",
      "\n",
      "The accommodation offers a continental or American breakfast.\n",
      "\n",
      "There is an in-house snack bar and guests can also make use of the business area.\n",
      "\n",
      "ITESM Campus Monterrey (Monterrey Tech) is 4.7 km from Hyatt Place Monterrey Valle, while Estadio Tecnológico is 5.4 km from the property. The nearest airport is Monterrey International, 35 km from the hotel, and the property offers a paid airport shuttle service. In the event of an early departure, the property will charge you the full amount for your stay.\n",
      "In response to Coronavirus (COVID-19), additional safety and sanitation measures are in effect at this property.\n",
      "Due to Coronavirus (COVID-19), wearing a face mask is mandatory in all indoor common areas. Disclaimer notification: Amenities are subject to availability and may be chargeable as per the hotel policy. >>\n",
      "\n",
      "Cita:\n",
      "3. NH Monterrey La Fe\n",
      "Referencias:\n",
      "\n",
      "Nombre del hotel: nh monterrey la fe, Ciudad: Monterrey, Direccion: av. miguel alema n 200 col. talaverna 200 200, col. talaverna66470 monterrey, monterrey, 64470, mexico\n",
      "\n",
      "Pais: Mexico, Continente:Americas, URI:s3://chunked-hotel-data/1632335-a24763a2187f11ef9eac16ffcf11486b.txt\n",
      "<< HeadLine : Near Paseo La FeLocation : With a stay at NH Monterrey La Fe, you ll be centrally located in San Nicolas de los Garza, within a 10-minute drive of Fundidora Park and Paseo La Fe.  This 4-star hotel is 4.7 mi (7.6 km) from Estadio BBVA Bancomer and 7.5 mi (12.1 km) from Macroplaza.Rooms : Make yourself at home in one of the 152 air-conditioned rooms featuring minibars and flat-screen televisions. Complimentary wireless Internet access keeps you connected, and satellite programming is available for your entertainment. Private bathrooms with showers feature rainfall showerheads and complimentary toiletries. Conveniences include phones, as well as safes and desks.Dining : Satisfy your appetite for lunch or dinner at NH Monterrey La Fe Restau, a restaurant which specializes in Mexican cuisine, or stay in and take advantage of the 24-hour room service. Quench your thirst with your favorite drink at the bar/lounge. Buffet breakfasts are served on weekdays from 7:00 AM to 11:00 AM and on weekends from 6:00 AM to noon for a fee.CheckIn Instructions :   Extra-person charges may apply and vary depending on property policyGovernment-issued photo identification and a credit card, debit card, or cash deposit may be required at check-in for incidental chargesSpecial requests are subject to availability upon check-in and may incur additional charges; special requests cannot be guaranteedThis property accepts credit cards and cashThis property reserves the right to pre-authorize the guest s credit card prior to arrival.Please note that cultural norms and guest policies may differ by country and by property; the policies listed are provided by the property     Guests planning to check in with a pet must provide the pet s health certificate at check-in.  Special Instructions : This property offers transfers from the airport (surcharges may apply). Guests must contact the property with arrival details before travel, using the contact information on the booking confirmation. Front desk staff will greet guests on arrival. Disclaimer notification: Amenities are subject to availability and may be chargeable as per the hotel policy. >>\n",
      "\n",
      "Cita:\n",
      "4. Mex Hoteles\n",
      "Referencias:\n",
      "\n",
      "Nombre del hotel: mex hoteles, Ciudad: Cancun, Direccion: avenida carlos j nader, lote 28, smz 05, mz 11, an, , cancun, 77500, mexico\n",
      "\n",
      "Pais: Mexico, Continente:Americas, URI:s3://chunked-hotel-data/6194225-f42088bc189711ef9eac16ffcf11486b.txt\n",
      "<< Attractively located in the Downtown Cancun district of Cancún, Mex Hoteles is situated 2.6 km from Playa Las Perlas, 1.3 km from Cancun Government Palace and 1.7 km from Cancun Bus Station. With a fitness centre, the 4-star hotel has air-conditioned rooms with free WiFi, each with a private bathroom.\n",
      "All rooms in the hotel are fitted with a flat-screen TV and a hairdryer.\n",
      "\n",
      "Mex Hoteles offers an outdoor pool.\n",
      "\n",
      "Beto Avila Stadium is 2.6 km from the accommodation, while Coco Bongo is 11 km from the property. The nearest airport is Cancún International Airport, 15 km from Mex Hoteles. In response to Coronavirus (COVID-19), additional safety and sanitation measures are in effect at this property. Disclaimer notification: Amenities are subject to availability and may be chargeable as per the hotel policy. >>\n",
      "\n",
      "Cita:\n",
      "5. Hotel Fundador\n",
      "Referencias:\n",
      "\n",
      "Nombre del hotel: mision ciudad victoria, Ciudad: Ciudad Victoria, Direccion: carretera nac. km. 227 s/n col. las brisas, ciudad victoria, ciudad victoria, 87180, mexico\n",
      "\n",
      "Pais: Mexico, Continente:Americas, URI:s3://chunked-hotel-data/1326002-1655d33c188011ef9eac16ffcf11486b.txt\n",
      "<< This centrally located city hotel is ideal for guests wanting to visit the breathtaking places in the area, such as the El Cielo biosphere reserve, as well as other nearby attractions in other regions of the state, such as the many forests and lagoons, or the La Pesca Soto beach marina, a popular destination on the Tamaulipecos coast. Monterrey is around 3.5 hours away by car from the family-friendly eco hotel.\n",
      "\n",
      "The air-conditioned business hotel offers 144 rooms in total and facilities include 24-hour reception and check-out services, wireless Internet access, and 7 rooms and open-air spaces for meetings and events. Guests may wine and dine in the café, bar and restaurant and a children's playground is provided for younger guests. A cloakroom, newspaper stand, room service, a laundry service and a car park complete the facilities on offer to guests at this conference hotel.\n",
      "\n",
      "The hotel has comfortable guest rooms featuring a 29-inch flat-screen cable TV, individually regulated air conditioning and heating, wireless Internet access and a telephone with free local calls, a work desk and an electronic safe. An en suite bathroom with shower, a double or king-size bed, a radio and tea and coffee making facilities also feature in all rooms as standard.\n",
      "\n",
      "There is a swimming pool on the premises with a separate children's swimming area and a poolside snack bar. >>\n"
     ]
    }
   ],
   "source": [
    "input = '''Can you suggest 5 places to stay in Monterrey, Nuevo Leon in Mexico, close to Tec de Monterrey?'''\n",
    "\n",
    "elapsed_time, response = retrieve_and_generate(input, AWS_KBID, bedrock_agent_runtime)\n",
    "display_response(response, elapsed_time)"
   ]
  },
  {
   "cell_type": "markdown",
   "metadata": {},
   "source": [
    "**Respuesta de Copilot Edge**\n",
    "\n",
    "Certainly! If you’re looking for accommodations near Tec de Monterrey, here are five options to consider:\n",
    "\n",
    "Safi Royal Luxury Metropolitan: Located in San Pedro Garza Garcia, this 5-star hotel offers an outdoor swimming pool, free private parking, a fitness center, and a restaurant. Enjoy a comfortable stay with excellent amenities1.\n",
    "Best Western PREMIER Monterrey Aeropuerto: Just a 5-minute drive from Monterrey International Airport, this hotel features an outdoor pool, a gym, and air-conditioned rooms with free Wi-Fi1.\n",
    "Galeria Plaza Monterrey: Attractively set in the center of Monterrey, this 5-star hotel offers air-conditioned rooms, an outdoor swimming pool, free Wi-Fi, and a fitness center. Enjoy city views and convenient amenities1.\n",
    "Holiday Inn & Suites - Monterrey Apodaca Zona Airport: Situated in Apodaca, this 5-star IHG hotel provides an outdoor pool, free private parking, and a fitness center. Perfect for travelers near the airport1.\n",
    "Fiesta Americana Monterrey Pabellón M.: Offering an outdoor pool and city views, this hotel is located in Monterrey Centro. Enjoy panoramic vistas from the on-site restaurant and bar on the 16th floor1.\n",
    "These options provide a range of amenities and convenient locations for your stay in vibrant Monterrey!raction"
   ]
  },
  {
   "cell_type": "markdown",
   "metadata": {},
   "source": [
    "**Evaluación**\n",
    "\n",
    "| Participante | Calificación |\n",
    "| :- | -: |\n",
    "| JO Hernández | 3 |\n",
    "| JC Alvarado | 3 |\n",
    "| JC Romo | 3 |"
   ]
  },
  {
   "cell_type": "markdown",
   "metadata": {},
   "source": [
    "**Obteniendo Respuestas de la Base Conocimiento y el Modelo Fundacional**"
   ]
  },
  {
   "cell_type": "code",
   "execution_count": 15,
   "metadata": {},
   "outputs": [
    {
     "name": "stdout",
     "output_type": "stream",
     "text": [
      "Respuesta despues de 2.4311 segundos:\n",
      "I could not find an exact answer to the question, but I found some hotels in Mexico City that have spas:\n",
      "- Hotel Carrizal Spa - Hotel Rancho Gran Relax - Spa Holistico Real Hotel\n",
      "\n",
      "Cita:\n",
      "I could not find an exact answer to the question, but I found some hotels in Mexico City that have spas:\n",
      "- Hotel Carrizal Spa\n",
      "Referencias:\n",
      "\n",
      "Nombre del hotel: hotel carrizal spa, Ciudad: Jalcomulco, Direccion: domicilio conocido congregación agua caliente., congregacion agua caliente91647 apazapan, jalcomulco, 91647, mexico\n",
      "\n",
      "Pais: Mexico, Continente:Americas, URI:s3://chunked-hotel-data/1132076-8131a88c189611ef9eac16ffcf11486b.txt\n",
      "<< The hotel is a 45-minute drive from the beautiful town of Coatepec. You can drive to Veracruz in around an hour. Please inform Hotel Carrizal Spa in advance of your expected arrival time. You can use the Special Requests box when booking, or contact the property directly with the contact details provided in your confirmation.\n",
      "Payment before arrival via bank transfer is required. The property will contact you after you book to provide instructions.\n",
      "In response to Coronavirus (COVID-19), additional safety and sanitation measures are in effect at this property.\n",
      "Due to Coronavirus (COVID-19), this property is taking steps to help protect the safety of guests and staff. Certain services and amenities may be reduced or unavailable as a result.\n",
      "Due to Coronavirus (COVID-19), this property has reduced reception and service operating hours.\n",
      "Due to Coronavirus (COVID-19), this property adheres to strict physical distancing measures.\n",
      "Due to Coronavirus (COVID-19), please ensure that you are only booking this property following the local government guidelines of the destination, including but not limited to the purpose of travel, and maximum allowed group size.\n",
      "Due to Coronavirus (COVID-19), wearing a face mask is mandatory in all indoor common areas.\n",
      "It is not possible to stay at this property for Coronavirus (COVID-19) quarantine purposes. Disclaimer notification: Amenities are subject to availability and may be chargeable as per the hotel policy. >>\n",
      "\n",
      "Cita:\n",
      "- Hotel Rancho Gran Relax\n",
      "Referencias:\n",
      "\n",
      "Nombre del hotel: hotel rancho gran relax, Ciudad: Teotihuacan, Direccion: carretera mexico-tulancingo km,79, teotihuacan, teotihuacan, 43601, mexico\n",
      "\n",
      "Pais: Mexico, Continente:Americas, URI:s3://chunked-hotel-data/1489571-fcbb8ab4189511ef9eac16ffcf11486b.txt\n",
      "<< The luxurious hacienda-style Hotel Rancho Gran Relax is conveniently situated on a vast piece of land just a 20-minute drive away from the town of Tulancingo with its archaeological site and shopping venues. Teotihuacan with its world-famous pyramids can be reached within a 30-minute drive, while the metropolis of Mexico City with its countless attractions can be reached within 45 minutes by car.\n",
      "The rural hotel offers charming country-style rooms with wrought-iron furnishings. Features include complimentary wireless internet access, air-conditioning and TV. The hotel offers an excellent spa area and a business centre as well as a multitude of possibilities for events, such as karting, a car race track, Gotcha or a shooting range. The on-site restaurant serves delicious Mexican and international cuisine. This hotel is a perfect choice for all types of events and incentives near Mexico City. Disclaimer notification: Amenities are subject to availability and may be chargeable as per the hotel policy. >>\n",
      "\n",
      "Cita:\n",
      "- Spa Holistico Real Hotel\n",
      "Referencias:\n",
      "\n",
      "Nombre del hotel: spa holistico real hotel, Ciudad: Mineral del Monte, Direccion: camino real omitlan barrio escobar, 42130 mineral del monte, mineral del monte, 42130, mexico\n",
      "\n",
      "Pais: Mexico, Continente:Americas, URI:s3://chunked-hotel-data/1419959-227e0652188f11ef9eac16ffcf11486b.txt\n",
      "<< This spa hotel is located 1.5 km from Mineral del Monte Town Centre and 800 metres from Mina de Acosta Museum. It features spa treatments, a garden and free breakfast.\n",
      "\n",
      "The rustic-style rooms offer king-size beds and terraces. The bathrooms are private and come with a shower.\n",
      "\n",
      "Guests at Spa Holistico Real Hotel will enjoy Mexican-style food at the on-site restaurant and the bar serves national and international drinks.\n",
      "\n",
      "Spa Holistico Real Hotel is 18 km from Huasca de Ocampo Magical Village and 25 minutes’ drive from the Prismas Basálticos rock formations and San Antonio Waterfalls.\n",
      "\n",
      "The hotel can help to arrange activities in the surrounding area, including hot air ballooning, zip-lining and hiking.\n",
      "\n",
      "Pachuca City is 20 minutes’ drive away and Mexico City International Airport is a 90-minute drive away. Free parking is available on site. Payment before arrival via bank transfer is required. The property will contact you after you book to provide instructions.\n",
      "Spa Holistico Real Hotel offers a New Year´s dinner on December 31st including live music and fireworks. Please contact the property for availability and rates.\n",
      "\n",
      "Please note that the location of this property has a very low temperature, guests are advised to bring a jacket.\n",
      "\n",
      "The first load of firewood is free, while an additional cost will be charged for any extra. Disclaimer notification: Amenities are subject to availability and may be chargeable as per the hotel policy. >>\n"
     ]
    }
   ],
   "source": [
    "input = '''I want to stay with my wife for a romantic weekend in Mexico City. We want to have a nice massage within the hotel.'''\n",
    "\n",
    "elapsed_time, response = retrieve_and_generate(input, AWS_KBID, bedrock_agent_runtime)\n",
    "display_response(response, elapsed_time)"
   ]
  },
  {
   "cell_type": "markdown",
   "metadata": {},
   "source": [
    "**Respuesta de ChatGpt**\n",
    "\n",
    "Mexico City offers many luxurious hotels perfect for a romantic weekend. Here are a few options that include massage services within the hotel:\n",
    "\n",
    "1. Las Alcobas, a Luxury Collection Hotel\n",
    "Located in the upscale Polanco district, Las Alcobas offers elegant rooms and a serene spa. The hotel features a full-service spa with a variety of massage treatments, ensuring a relaxing experience for you and your wife.\n",
    "\n",
    "2. The St. Regis Mexico City\n",
    "This hotel is known for its luxurious amenities and exceptional service. The Remède Spa offers a range of treatments, including massages, facials, and body treatments. The hotel’s central location also provides easy access to many of the city’s attractions.\n",
    "\n",
    "3. Four Seasons Hotel Mexico City\n",
    "Situated on the Paseo de la Reforma, this hotel combines luxury with comfort. The spa offers a variety of massage treatments, and you can also enjoy the beautiful garden courtyard and the rooftop pool.\n",
    "\n",
    "4. Hotel Marquis Reforma\n",
    "This elegant hotel on Paseo de la Reforma features the Spa Marquis, offering an extensive menu of massages and wellness treatments. It’s a perfect place to unwind and enjoy a romantic weekend.\n",
    "\n",
    "5. JW Marriott Hotel Mexico City\n",
    "Located in the Polanco district, this hotel offers a luxurious stay with an on-site spa that provides various massage treatments. The hotel’s prime location also means you’re close to excellent dining and shopping options.\n",
    "\n",
    "These hotels will provide a romantic and relaxing environment for your weekend getaway."
   ]
  },
  {
   "cell_type": "markdown",
   "metadata": {},
   "source": [
    "**Evaluación**\n",
    "\n",
    "| Participante | Calificación |\n",
    "| :- | -: |\n",
    "| JO Hernández | 2 |\n",
    "| JC Alvarado | 2 |\n",
    "| JC Romo | 3 |"
   ]
  },
  {
   "cell_type": "markdown",
   "metadata": {},
   "source": [
    "**Obteniendo Respuestas de la Base Conocimiento y el Modelo Fundacional**"
   ]
  },
  {
   "cell_type": "code",
   "execution_count": 16,
   "metadata": {},
   "outputs": [
    {
     "name": "stdout",
     "output_type": "stream",
     "text": [
      "Respuesta despues de 2.4293 segundos:\n",
      "I found 3 hotels in Cancun that have their own golf course:\n",
      "- Villa du Golf à Cancun - Pok-ta-Pok Cancun's hotel - Caracol Vacation Club\n",
      "\n",
      "Cita:\n",
      "I found 3 hotels in Cancun that have their own golf course:\n",
      "- Villa du Golf à Cancun\n",
      "Referencias:\n",
      "\n",
      "Nombre del hotel: la villa du golf à cancun, Ciudad: Cancun, Direccion: km 7.5 zona hotelera calle quetzal 32 1, km 7.5boulevard kukulkanzona hotelera, cancun, 77500, mexico\n",
      "\n",
      "Pais: Mexico, Continente:Americas, URI:s3://chunked-hotel-data/1464982-872f16ac188c11ef9eac16ffcf11486b.txt\n",
      "<< The Villa du Golf à Cancun is a boutique hotel that offers to stay at home.\n",
      "\n",
      "With outdoor pool and free parking. All rooms have different styles, free wifi service, air conditioning, private bathroom.\n",
      "\n",
      "The Villa du Golf à Cancun is located in the hotel zone near the Chedraui Selecto supermarket, the entrance to the public beach Caracol, the nightclub area (Coco Bongo, Mandala), the international convention center (Cancun ICC), as well as many restaurants.\n",
      "\n",
      "The nearest bus stop is 200 metres away.\n",
      "\n",
      "The airport is located 25 km from the villa. Airport shuttle service is available for a fee and upon request.\n",
      "\n",
      "In the villa you can enjoy a home made breakfast cooked at the moment, and a coexistence with the other guests and owners of the villa. This property will not accommodate hen, stag or similar parties.\n",
      "In response to Coronavirus (COVID-19), additional safety and sanitation measures are in effect at this property.\n",
      "Please inform La Villa du Golf à Cancun Hotel Boutique in advance of your expected arrival time. You can use the Special Requests box when booking, or contact the property directly with the contact details provided in your confirmation.\n",
      "A shuttle service to and from the airport is available upon request (with additional charge).\n",
      "\n",
      "Payment must be made upon check-in. Cash payments have 5% off in Mexican Pesos and 3% off in US dollar and Euro. >>\n",
      "\n",
      "Cita:\n",
      "- Pok-ta-Pok Cancun's hotel\n",
      "Referencias:\n",
      "\n",
      "Nombre del hotel: ocean club suites, Ciudad: Cancun, Direccion: pok ta pok l 2, cancun, cancun, 77500, mexico\n",
      "\n",
      "Pais: Mexico, Continente:Americas, URI:s3://chunked-hotel-data/1311739-ee4ef554189711ef9eac16ffcf11486b.txt\n",
      "<< The hotel is located in the exclusive Golf Course of Pok-ta-Pok in Cancun's hotel zone, 25 minutes from the International Airport and 15 minutes from downtown. It is surrounded by green lush gardens and at a short distance from restaurants, shopping malls and entertainment centers thus becoming an ideal place for families who want to have fun and relax.\n",
      "\n",
      "The modern hotel features 39 suites and is located in the exclusive Golf Course of Pok-ta-Pok in Cancun's hotel zone.The services include a bar-restaurant, free shuttle to and from the beach, tennis and squash courts, golf course, swimming pool, game room, Beach Club, wedding facilities, meeting rooms, shops, daily activities for children and adults and beautiful gardens. In addition you can find a travel agency, a car rental, concierge, doctor, laundry, babysitter and room service.\n",
      "\n",
      "Al suites of this hotel are equipped with golf course view balconies, living room, dining room and small kitchen. They also have 2 double beds, 1 sofa bed, AC, ceiling fan, satellite TV, telephone, data port, safe deposit box, coffee maker, microwave oven, blender and toaster. Non smoking rooms upon availability. \n",
      "\n",
      "You can also enjoy the Beach Club, the swimming pool and the gardens for a stroll. You can practice in the Golf Course and the tennis court and have fun with the daily activities for children and adults. >>\n",
      "\n",
      "Cita:\n",
      "- Caracol Vacation Club\n",
      "Referencias:\n",
      "\n",
      "Nombre del hotel: caracol bay cancun - all inclusive, Ciudad: Cancun, Direccion: blvd. kukulcan km 16.5 bis hotel zone, , cancun, 77500, mexico\n",
      "\n",
      "Pais: Mexico, Continente:Americas, URI:s3://chunked-hotel-data/6177920-d166128c187f11ef9eac16ffcf11486b.txt\n",
      "<< HeadLine : In Cancun (Zona Hotelera)Location : With a stay at Caracol Vacation Club by Go Travel Club in Cancun (Zona Hotelera), you ll be within a 5-minute drive of La Isla Shopping Mall and Maya Cancun Museum.  This 4-star hotel is 2.1 mi (3.4 km) from Delfines Beach and 14.8 mi (23.9 km) from Moon Palace Golf Club.Rooms : Make yourself at home in one of the 143 individually decorated guestrooms, featuring free minibar items and flat-screen televisions. Rooms have private balconies or patios. Cable television is provided for your entertainment. Bathrooms feature showers, complimentary toiletries, and hair dryers.Dining : This hotel is all inclusive. Rates include meals and beverages at onsite dining establishments. Charges may be applied for dining at some restaurants, special dinners and dishes, some beverages, and other amenities. Grab a bite to eat at one of the hotel s 5 restaurants, or stay in and take advantage of the 24-hour room service. Snacks are also available at the coffee shop/cafe. When you are in need of a refreshing drink, visit the poolside bar or one of 5 bars/lounges, or 2 beach bars. CheckIn Instructions :   Extra-person charges may apply and vary depending on property policyGovernment-issued photo identification and a credit card may be required at check-in for incidental chargesSpecial requests are subject to availability upon check-in and may incur additional charges; special requests cannot be guaranteedSafety features at this property include a smoke detectorBe prepared: check the latest COVID-19 travel requirements and measures in place for this destination before you travel.  Special Instructions : This property offers transfers from the airport. Guests must contact the property with arrival details before travel, using the contact information on the booking confirmation. This property doesn t offer after-hours check-in. To make arrangements for check-in please contact the property at least 72 hours before arrival using the information on the booking confirmation. Guests will receive an email 2 weeks before arrival with check-in instructions. Front desk staff will greet guests on arrival. Disclaimer notification: Amenities are subject to availability and may be chargeable as per the hotel policy. >>\n"
     ]
    }
   ],
   "source": [
    "input = '''I want to do a a golf weekend with my friends in Cancun. What hotels do you recommend that have their own golf course?'''\n",
    "\n",
    "elapsed_time, response = retrieve_and_generate(input, AWS_KBID, bedrock_agent_runtime)\n",
    "display_response(response, elapsed_time)"
   ]
  },
  {
   "cell_type": "markdown",
   "metadata": {},
   "source": [
    "**Respuesta de ChatGpt**\n",
    "\n",
    "Cancun offers several excellent hotels with their own golf courses, perfect for a golf weekend. Here are some top recommendations:\n",
    "\n",
    "1. Moon Palace Cancun\n",
    "Description: Moon Palace Cancun features a 27-hole Jack Nicklaus Signature golf course. The resort offers luxurious accommodations, multiple dining options, and a range of activities.\n",
    "Facilities: Golf academy, pro shop, golf packages, spa, and fine dining.\n",
    "2. Iberostar Cancun\n",
    "Description: Iberostar Cancun boasts an 18-hole championship golf course designed by Isao Aoki. The resort offers beautiful beachfront views, a variety of restaurants, and numerous amenities.\n",
    "Facilities: Clubhouse, golf shop, spa, multiple swimming pools, and entertainment options.\n",
    "3. The Ritz-Carlton, Cancun\n",
    "Description: The Ritz-Carlton, Cancun, while not having its own golf course, offers access to several nearby courses, including the Iberostar Cancun Golf Club and El Camaleon Mayakoba Golf Club.\n",
    "Facilities: Luxurious accommodations, fine dining, spa services, and concierge service to arrange golfing activities.\n",
    "4. Dreams Vista Cancun Golf & Spa Resort\n",
    "Description: This resort features a Greg Norman-designed golf course at Playa Mujeres Golf Club. The all-inclusive resort provides a range of activities and luxurious accommodations.\n",
    "Facilities: Golf packages, pro shop, spa, multiple dining options, and rooftop pool.\n",
    "5. Secrets Playa Mujeres Golf & Spa Resort\n",
    "Description: An adults-only resort with access to the 18-hole Playa Mujeres Golf Club, designed by Greg Norman. The resort offers all-inclusive luxury, perfect for a golf weekend.\n",
    "Facilities: Golf packages, pro shop, multiple restaurants, bars, spa, and beachfront access.\n",
    "Tips for Booking\n",
    "Early Reservations: Golf courses can get booked up quickly, so make sure to reserve tee times in advance.\n",
    "Packages: Look for golf packages that include accommodations, meals, and golf rounds to get the best value.\n",
    "Group Discounts: If you are traveling with a group, inquire about group rates or special deals.\n",
    "Would you like more information on any of these hotels or assistance with booking?"
   ]
  },
  {
   "cell_type": "markdown",
   "metadata": {},
   "source": [
    "**Evaluación**\n",
    "\n",
    "| Participante | Calificación |\n",
    "| :- | -: |\n",
    "| JO Hernández | 3 |\n",
    "| JC Alvarado | 3 |\n",
    "| JC Romo | 2 |"
   ]
  },
  {
   "cell_type": "markdown",
   "metadata": {},
   "source": [
    "**Obteniendo Respuestas de la Base Conocimiento y el Modelo Fundacional**"
   ]
  },
  {
   "cell_type": "code",
   "execution_count": 17,
   "metadata": {},
   "outputs": [
    {
     "name": "stdout",
     "output_type": "stream",
     "text": [
      "Respuesta despues de 2.4317 segundos:\n",
      "Here are some hotels near Ueno Park in Tokyo:\n",
      "- Mitsui Garden Hotel Ueno Tokyo - Park Hotel Tokyo - Candeo Hotels Uenokoen\n",
      "\n",
      "Cita:\n",
      "Here are some hotels near Ueno Park in Tokyo:\n",
      "- Mitsui Garden Hotel Ueno Tokyo\n",
      "Referencias:\n",
      "\n",
      "Nombre del hotel: mitsui garden hotel ueno, Ciudad: Tokyo, Direccion: 3 19 7 higashi ueno taito ku, taito-kutokyo 110-0015, tokyo, 110-0015, japan\n",
      "\n",
      "Pais: Japan, Continente:Asia, URI:s3://chunked-hotel-data/1031102-4f6eb656189f11ef9eac16ffcf11486b.txt\n",
      "<< HeadLine : Near Ueno ParkLocation : With a stay at Mitsui Garden Hotel Ueno Tokyo, you ll be centrally located in Tokyo, within a 5-minute drive of Tokyo Dome and Tokyo Skytree.  This 4-star hotel is 0.3 mi (0.5 km) from Ueno Park and 5.2 mi (8.4 km) from Tokyo Tower.Rooms : Make yourself at home in one of the 242 guestrooms featuring refrigerators and flat-screen televisions. Your bed comes with down comforters and premium bedding. Complimentary wired and wireless Internet access keeps you connected, and digital programming provides entertainment. Private bathrooms with shower/tub combinations feature complimentary toiletries and bidets.Dining : Enjoy a satisfying meal at BOSCO iL CHIANTI serving guests of Mitsui Garden Hotel Ueno Tokyo. Buffet breakfasts are available daily from 7:00 AM to 10:00 AM for a fee.CheckIn Instructions :   Extra-person charges may apply and vary depending on property policyGovernment-issued photo identification and a credit card, debit card, or cash deposit may be required at check-in for incidental chargesSpecial requests are subject to availability upon check-in and may incur additional charges; special requests cannot be guaranteedThis property accepts credit cards and cash  Special Instructions : Front desk staff will greet guests on arrival. For more details, please contact the property using the information on the booking confirmation. Disclaimer notification: Amenities are subject to availability and may be chargeable as per the hotel policy. >>\n",
      "\n",
      "Cita:\n",
      "- Park Hotel Tokyo\n",
      "Referencias:\n",
      "\n",
      "Nombre del hotel: park hotel tokyo, Ciudad: Tokyo, Direccion: 1 7 1 higashishimbashi shiodome media tower, 1-7-1 higashi shimbashiminato-ku105-7227 tokyo, tokyo, 105-7227, japan\n",
      "\n",
      "Pais: Japan, Continente:Asia, URI:s3://chunked-hotel-data/1312333-6858ea04188311ef9eac16ffcf11486b.txt\n",
      "<< HeadLine : In Tokyo (Minato)Location : Centrally located in Tokyo, Park Hotel Tokyo is within a 15-minute walk of Ginza Six and Ginza Graphic Gallery.  This 4-star hotel is 1.5 mi (2.4 km) from Tokyo Tower and 1.7 mi (2.8 km) from Tokyo Imperial Palace.Rooms : Make yourself at home in one of the 270 guestrooms featuring refrigerators and flat-screen televisions. Complimentary wireless Internet access keeps you connected, and satellite programming is available for your entertainment. Bathrooms with shower/tub combinations feature deep soaking bathtubs and designer toiletries. Conveniences include phones, as well as safes and desks.Dining : Enjoy Japanese cuisine at Hanasanshou, one of the hotel s 3 restaurants, or stay in and take advantage of the room service (during limited hours). Snacks are also available at the coffee shop/cafe. Wrap up your day with a drink at the bar/lounge. Full breakfasts are available daily from 7 AM to 10:30 AM for a fee.CheckIn Instructions :   Extra-person charges may apply and vary depending on property policyGovernment-issued photo identification and a credit card, debit card, or cash deposit may be required at check-in for incidental chargesSpecial requests are subject to availability upon check-in and may incur additional charges; special requests cannot be guaranteedThis property accepts credit cards and cashThis property uses eco-friendly cleaning productsSafety features at this property include a smoke detector and window guardsPlease note that cultural norms and guest policies may differ by country and by property; the policies listed are provided by the property  Special Instructions : Front desk staff will greet guests on arrival.  A scheduled power outage will take place from January 5, 2024 at 11 PM to January 6, 2024 at 5 AM. Disclaimer notification: Amenities are subject to availability and may be chargeable as per the hotel policy. >>\n",
      "\n",
      "Cita:\n",
      "- Candeo Hotels Uenokoen\n",
      "Referencias:\n",
      "\n",
      "Nombre del hotel: candeo ueno park, Ciudad: Tokyo, Direccion: 1-2-13 negishi, taito-ku110-0003 tokyo, tokyo, 110-0003, japan\n",
      "\n",
      "Pais: Japan, Continente:Asia, URI:s3://chunked-hotel-data/1020628-7153abde188911ef9eac16ffcf11486b.txt\n",
      "<< HeadLine : In Tokyo (Taito)Location : With a stay at Candeo Hotels Uenokoen, you ll be centrally located in Tokyo, within a 5-minute drive of Tokyo Skytree and Ueno Park.  This 4-star hotel is 3 mi (4.8 km) from Tokyo Dome and 6.4 mi (10.3 km) from Tokyo Tower.Rooms : Make yourself at home in one of the 268 guestrooms featuring refrigerators and LCD televisions. Complimentary wired and wireless Internet access keeps you connected, and digital programming provides entertainment. Private bathrooms with shower/tub combinations feature complimentary toiletries and bidets. Conveniences include blackout drapes/curtains, housekeeping is provided on request, and irons/ironing boards can be requested.Dining : At Candeo Hotels Uenokoen, enjoy a satisfying meal at the restaurant. Buffet breakfasts are available daily from 7 AM to 9:30 AM for a fee.CheckIn Instructions :   Extra-person charges may apply and vary depending on property policyGovernment-issued photo identification and a credit card, debit card, or cash deposit may be required at check-in for incidental chargesSpecial requests are subject to availability upon check-in and may incur additional charges; special requests cannot be guaranteedThis property accepts credit cards; cash is not accepted  Special Instructions : If you are planning to arrive after midnight please contact the property in advance using the information on the booking confirmation. Front desk staff will greet guests on arrival. Disclaimer notification: Amenities are subject to availability and may be chargeable as per the hotel policy. >>\n"
     ]
    }
   ],
   "source": [
    "input = '''Can you recommend hotels near Ueno Park in Tokyo?'''\n",
    "\n",
    "elapsed_time, response = retrieve_and_generate(input, AWS_KBID, bedrock_agent_runtime)\n",
    "display_response(response, elapsed_time)"
   ]
  },
  {
   "cell_type": "markdown",
   "metadata": {},
   "source": [
    "**Respuesta de ChatGpt**\n",
    "\n",
    "Here are some recommended hotels near Ueno Park in Tokyo:\n",
    "\n",
    "1. Hotel Graphy Nezu: This hotel is located about a 15-minute walk from Ueno Park and offers residential-style accommodations with a fully-equipped, shared kitchen. It is well-rated for its good facilities and friendly staff.\n",
    "\n",
    "2. APA Hotel Ueno Ekimae: Situated in the heart of Tokyo, this hotel provides convenient access to local markets and restaurants. It's known for its good value and includes free WiFi throughout the property.\n",
    "\n",
    "3. Tosei Hotel Cocone Ueno Okachimachi: This hotel scores highly for cleanliness and value for money. It is located very close to Ueno Park and offers 3-star accommodations.\n",
    "\n",
    "4. Hop Inn Tokyo Ueno: Located a short walk from Ueno Station, this hotel is noted for its cleanliness and new hotel vibes. It offers air-conditioned rooms and free WiFi, making it a comfortable choice for visitors.\n",
    "\n",
    "All of these options offer good accessibility to Ueno Park and its surrounding attractions, providing a range of amenities to suit various preferences and budgets."
   ]
  },
  {
   "cell_type": "markdown",
   "metadata": {},
   "source": [
    "**Evaluación**\n",
    "\n",
    "| Participante | Calificación |\n",
    "| :- | -: |\n",
    "| JO Hernández | 3 |\n",
    "| JC Alvarado | 3 |\n",
    "| JC Romo | 4 |"
   ]
  },
  {
   "cell_type": "markdown",
   "metadata": {},
   "source": [
    "**Obteniendo Respuestas de la Base Conocimiento y el Modelo Fundacional**"
   ]
  },
  {
   "cell_type": "code",
   "execution_count": 18,
   "metadata": {},
   "outputs": [
    {
     "name": "stdout",
     "output_type": "stream",
     "text": [
      "Respuesta despues de 3.1248 segundos:\n",
      "Here are some hotels in Hakone Japan that offer traditional Japanese Ryokans:\n",
      "- Hakone Tokinoshizuku - Gyokutei Ryokan - Hakone Yuyado Zen - Shiunso Ryokan - GORA HANAOUGI-SOUNKAKU\n",
      "\n",
      "Cita:\n",
      "Here are some hotels in Hakone Japan that offer traditional Japanese Ryokans:\n",
      "- Hakone Tokinoshizuku\n",
      "Referencias:\n",
      "\n",
      "Nombre del hotel: hakone tokinoshizuku, Ciudad: Hakone, Direccion: 416 miyanoshita, ashigarashimo-gunhakone 250-0404kanagawa prefecture, hakone, 250-0404, japan\n",
      "\n",
      "Pais: Japan, Continente:Asia, URI:s3://chunked-hotel-data/1796379-9d12dd62188e11ef9eac16ffcf11486b.txt\n",
      "<< Situated in Hakone, Hakone Tokinoshizuku provides 5-star accommodation with private balconies. Among the facilities of this property are a restaurant, a 24-hour front desk and a lift, along with free WiFi. Free private parking is available and the ryokan also features a shuttle service for guests who want to explore the surrounding area.\n",
      "\n",
      "The ryokan will provide guests with air-conditioned rooms offering a desk, a kettle, a fridge, a minibar, a safety deposit box, a flat-screen TV, a terrace and a private bathroom with a bath. The rooms in Hakone Tokinoshizuku are fitted with bathrobes and a CD player.\n",
      "\n",
      "Guests at the accommodation can enjoy a Full English/Irish breakfast.\n",
      "\n",
      "Hakone Tokinoshizuku offers 5-star accommodation with a hot spring bath, spa facilities and open-air bath. >>\n",
      "\n",
      "Cita:\n",
      "- Gyokutei Ryokan\n",
      "Referencias:\n",
      "\n",
      "Nombre del hotel: gyokutei, Ciudad: Hakone, Direccion: 501 yumoto hakonemachi, ashigarashimo-gunhakone 250-0311kanagawa, hakone, 250-0311, japan\n",
      "\n",
      "Pais: Japan, Continente:Asia, URI:s3://chunked-hotel-data/1609544-7d471de2188211ef9eac16ffcf11486b.txt\n",
      "<< Situated atop a hill in Hakone, Gyokutei offers an authentic Japanese accommodation with an indoor hot spring bath. Hakoneyumoto Train Station is a leisurely 8-minute walk from the ryokan.\n",
      "\n",
      "All rooms feature tatami (woven-straw) flooring and traditional futon bedding. Each are equipped with a flat-screen TV, a refrigerator and a private bathroom with a bath, shower and free toiletries. Extras include slippers, a hair dryer and yukata robes.\n",
      "\n",
      "Luggage storage space, a massage service and a garden are all on offer at Gyokutei Ryokan.\n",
      "\n",
      "For dinner, traditional kaiseki (multi-course) meals are served in guest rooms.\n",
      "\n",
      "Hakone Open-air Museum is 50-minute train ride away on the Hakone Tozan Line, while Hakone Gora Park is 55-minute train ride from the property. Lake Ashi is a 30-minute drive away. Guests with tattoos may not be permitted to use the property’s public bathing areas or other facilities where the tattoos might be visible to other guests.\n",
      "Please note that the property only serves Japanese-style meals, which are mainly sea food. Vegetarian meals cannot be prepared.\n",
      "\n",
      "In order to prepare special amenities for men and women, guests are kindly requested to indicate the gender of each guest staying in the room in the Special Requests box when booking. Disclaimer notification: Amenities are subject to availability and may be chargeable as per the hotel policy. >>\n",
      "\n",
      "Cita:\n",
      "- Hakone Yuyado Zen\n",
      "Referencias:\n",
      "\n",
      "Nombre del hotel: zen, Ciudad: Hakone, Direccion: 1245-96 sengokuhara, hakone 250-0631kanagawa, hakone, 250-0631, japan\n",
      "\n",
      "Pais: Japan, Continente:Asia, URI:s3://chunked-hotel-data/1810064-cabb3e3e189e11ef9eac16ffcf11486b.txt\n",
      "<< Hakone Yuyado Zen in Hakone provides adults-only accommodation with a garden, a bar and a shared lounge. Providing a restaurant, the property also has an open-air bath, as well as a hot spring bath and a spa facilities. There is a sun terrace and guests can make use of free WiFi and free private parking.\n",
      "\n",
      "The ryokan will provide guests with air-conditioned rooms offering a desk, a coffee machine, a fridge, a safety deposit box, a flat-screen TV and a private bathroom with a bidet. Every room has a kettle, while certain rooms here will provide you with a balcony and others also provide guests with mountain views. At Hakone Yuyado Zen all rooms have bed linen and towels.\n",
      "\n",
      "An Asian breakfast is available daily at the accommodation.\n",
      "\n",
      "Hakone Yuyado Zen offers 4-star accommodation with a wellness packages.\n",
      "\n",
      "Hakone-Yumoto Station is 16 km from the ryokan, while Shuzen-ji Temple is 42 km away. The nearest airport is Oshima Airport, 85 km from Hakone Yuyado Zen. Guests are required to show a photo identification and credit card upon check-in. Please note that all Special Requests are subject to availability and additional charges may apply. Disclaimer notification: Amenities are subject to availability and may be chargeable as per the hotel policy. >>\n",
      "\n",
      "Cita:\n",
      "- Shiunso Ryokan\n",
      "Referencias:\n",
      "\n",
      "Nombre del hotel: shiunso, Ciudad: Hakone, Direccion: 92 tonosawa, ashigarashimo-gunhakone 250-0315kanagawa prefecture, hakone, 250-0315, japan\n",
      "\n",
      "Pais: Japan, Continente:Asia, URI:s3://chunked-hotel-data/1382180-bea992e2189111ef9eac16ffcf11486b.txt\n",
      "<< Next to Hayakawa River and overlooking bamboo hills, Hakone’s Shiunso Ryokan offers luxurious Japanese accommodation with natural hot-spring baths. Traditional multi-course meals and rooms with private open-air baths are featured. Free WiFi is available.\n",
      "\n",
      "All rooms at Ryokan Shiunso have tatami (woven-straw) floors, futon beds and an en suite bathroom. Guests can make a fresh cup of tea and watch a DVD or simply listen to the whispering river.\n",
      "\n",
      "In addition to the hotel’s 3 public hot-spring baths, private-use baths can be reserved for a fee. Those wanting a break from the peaceful atmosphere can sing karaoke in the lounge.\n",
      "\n",
      "Multi-course meals featuring Japanese specialities are served in guests’ rooms. Fresh seasonal seafood are prepared and acquired by the head chef who goes to the Tsukiji Fish Market on a daily basis. Meals are served on dishware made from bamboo acquired on site. The hotel can prepare a Western breakfast or special meals upon advance request. >>\n",
      "\n",
      "Cita:\n",
      "- GORA HANAOUGI-SOUNKAKU\n",
      "Referencias:\n",
      "\n",
      "Nombre del hotel: gora hanaogi sounkaku, Ciudad: Hakone, Direccion: 1300 gora hakone machi, ashigarashimo-gunhakone 250-0408kanagawa prefecture, hakone, 250-0408, japan\n",
      "\n",
      "Pais: Japan, Continente:Asia, URI:s3://chunked-hotel-data/1370368-e63731c6188b11ef9eac16ffcf11486b.txt\n",
      "<< HeadLine : Near Hakone Kowakien YunessunLocation : With a stay at GORA HANAOUGI-SOUNKAKU in Hakone (Gora), you ll be within a 5-minute drive of Hakone Ropeway and Hakone Kowakien Yunessun.  This 4.5-star ryokan is 1.3 mi (2 km) from Hakone Ropeway and 2.2 mi (3.5 km) from Hakone Open Air Museum.Rooms : Make yourself at home in one of the 24 air-conditioned rooms featuring refrigerators and flat-screen televisions. Complimentary wireless Internet access is available to keep you connected. Bathrooms with separate bathtubs and showers feature deep soaking bathtubs and complimentary toiletries. Conveniences include safes and minibars, and housekeeping is provided daily.Dining : A complimentary local cuisine breakfast is served daily from 8 AM to 9 AM.CheckIn Instructions : Extra-person charges may apply and vary depending on property policy. Government-issued photo identification and a credit card, debit card, or cash deposit are required at check-in for incidental charges. Special requests are subject to availability upon check-in and may incur additional charges. Special requests cannot be guaranteed.   Please note that cultural norms and guest policies may differ by country and by property. The policies listed are provided by the property.  Requests for dietary restrictions or food allergies cannot be accommodated. For more details, please contact the office using the information on the reservation confirmation received after booking. Disclaimer notification: Amenities are subject to availability and may be chargeable as per the hotel policy. >>\n"
     ]
    }
   ],
   "source": [
    "input = '''Can you recommend hotels in Hakone Japan? Ideally I am looking for traditional japanese ryokans.'''\n",
    "\n",
    "elapsed_time, response = retrieve_and_generate(input, AWS_KBID, bedrock_agent_runtime)\n",
    "display_response(response, elapsed_time)"
   ]
  },
  {
   "cell_type": "markdown",
   "metadata": {},
   "source": [
    "**Respuesta de ChatGpt**\n",
    "\n",
    "For traditional Japanese ryokans in Hakone, Japan, you might consider the following options:\n",
    "\n",
    "1. Gora Kadan: This luxurious ryokan offers traditional Japanese accommodations with modern amenities, including hot spring baths and gourmet kaiseki meals.\n",
    "\n",
    "2. Hakone Ginyu: Situated in the scenic Hakone area, Hakone Ginyu provides elegant ryokan-style rooms with private outdoor hot spring baths and panoramic views of the surrounding mountains.\n",
    "\n",
    "3. Yamano Hotel: Yamano Hotel offers authentic Japanese hospitality in a tranquil setting. Guests can enjoy traditional tatami mat rooms, communal hot spring baths, and delicious multi-course meals.\n",
    "\n",
    "4. Gora Hanaougi: Nestled in the heart of Hakone, Gora Hanaougi features spacious ryokan accommodations, soothing hot spring baths, and impeccable service.\n",
    "\n",
    "5. Hakone Yutowa: This ryokan combines traditional Japanese design with modern comforts, offering guests a relaxing retreat with hot spring baths, gourmet dining, and serene natural surroundings.\n",
    "\n",
    "These are just a few options to consider for experiencing traditional Japanese hospitality in Hakone. Be sure to check availability and make reservations in advance, especially during peak travel seasons."
   ]
  },
  {
   "cell_type": "markdown",
   "metadata": {},
   "source": [
    "**Evaluación**\n",
    "\n",
    "| Participante | Calificación |\n",
    "| :- | -: |\n",
    "| JO Hernández | 4 |\n",
    "| JC Alvarado | 4 |\n",
    "| JC Romo | 4 |"
   ]
  },
  {
   "cell_type": "markdown",
   "metadata": {},
   "source": [
    "**Obteniendo Respuestas de la Base Conocimiento y el Modelo Fundacional**"
   ]
  },
  {
   "cell_type": "code",
   "execution_count": 19,
   "metadata": {},
   "outputs": [
    {
     "name": "stdout",
     "output_type": "stream",
     "text": [
      "Respuesta despues de 2.0201 segundos:\n",
      "I could not find an exact answer to the question, but I found that Quinta La Huerta is a hotel in Tlalpujahua de Rayón.\n",
      "\n",
      "Cita:\n",
      "I could not find an exact answer to the question, but I found that Quinta La Huerta is a hotel in Tlalpujahua de Rayón\n",
      "Referencias:\n",
      "\n",
      "Nombre del hotel: quinta la huerta, Ciudad: Tlalpujahua De Rayon, Direccion: dolores # 19 col. centro, colonia centrotlalpujahua, tlalpujahua de rayon, 61060, mexico\n",
      "\n",
      "Pais: Mexico, Continente:Americas, URI:s3://chunked-hotel-data/1634216-dd42a3ee188f11ef9eac16ffcf11486b.txt\n",
      "<< Located in Tlalpujahua de Rayón, 18 km from Tepetongo Water Park, Quinta La Huerta provides accommodation with a fitness centre, free private parking, a garden and a shared lounge. This 4-star hotel offers a restaurant. The hotel features an indoor pool, a 24-hour front desk and free WiFi.\n",
      "\n",
      "At the hotel, every room is equipped with a wardrobe, a flat-screen TV, a private bathroom, bed linen and towels.\n",
      "\n",
      "The nearest airport is General Francisco J. Mujica International Airport, 107 km from Quinta La Huerta. Payment before arrival via bank transfer is required. The property will contact you after you book to provide instructions.\n",
      "Due to Coronavirus (COVID-19), this property is taking steps to help protect the safety of guests and staff. Certain services and amenities may be reduced or unavailable as a result.\n",
      "Food & beverage services at this property may be limited or unavailable due to Coronavirus (COVID-19).\n",
      "In response to Coronavirus (COVID-19), additional safety and sanitation measures are in effect at this property.\n",
      "Due to Coronavirus (COVID-19), this property has reduced reception and service operating hours.\n",
      "Spa and gym facilities at this property are unavailable due to Coronavirus (COVID-19).\n",
      "Due to Coronavirus (COVID-19), wearing a face mask is mandatory in all indoor common areas.\n",
      "A reservation that does not have a deposit prior to arrival, will have until 3 pm to check in or else the reservation will be canceled. >>\n"
     ]
    }
   ],
   "source": [
    "input = '''Can you recommend hotels in Chihuauha City that are located near Periferico de la Juventud?'''\n",
    "\n",
    "elapsed_time, response = retrieve_and_generate(input, AWS_KBID, bedrock_agent_runtime)\n",
    "display_response(response, elapsed_time)"
   ]
  },
  {
   "cell_type": "markdown",
   "metadata": {},
   "source": [
    "**Respuesta de ChatGpt**\n",
    "\n",
    "I don't have direct access to real-time data or external sources like hotel databases. However, I can suggest a general approach to finding hotels near Periférico de la Juventud in Chihuahua City:\n",
    "\n",
    "Online Hotel Booking Platforms: Websites like Booking.com, Expedia, or TripAdvisor allow you to search for hotels based on specific locations. You can enter \"Periférico de la Juventud\" as the location and see the hotels available nearby.\n",
    "\n",
    "Google Maps: You can use Google Maps to search for hotels near Periférico de la Juventud. Simply type \"hotels near Periférico de la Juventud, Chihuahua City\" into the search bar, and Google Maps will display a list of hotels in that area along with their ratings and reviews.\n",
    "\n",
    "Local Directories: Check local business directories or tourism websites for information on hotels near Periférico de la Juventud. They may have listings and contact details for hotels in the area.\n",
    "\n",
    "Contact Hotels Directly: Once you have a list of potential hotels, you can contact them directly to inquire about their location relative to Periférico de la Juventud and any other details you need to know.\n",
    "\n",
    "By using these methods, you should be able to find hotels in Chihuahua City that are located near Periférico de la Juventud."
   ]
  },
  {
   "cell_type": "markdown",
   "metadata": {},
   "source": [
    "**Evaluación**\n",
    "\n",
    "| Participante | Calificación |\n",
    "| :- | -: |\n",
    "| JO Hernández | 1 |\n",
    "| JC Alvarado | 1 |\n",
    "| JC Romo | 1 |"
   ]
  },
  {
   "cell_type": "markdown",
   "metadata": {
    "id": "b68fb8b7-959c-4eab-82d8-ac622c8071ff"
   },
   "source": [
    "## **Conclusiones**\n"
   ]
  },
  {
   "cell_type": "markdown",
   "metadata": {
    "id": "_6oLU1ff3twF"
   },
   "source": [
    "El análisis de la evaluación se encuentra en el archivo ***Proyecto-Integrador-Evaluacion-Avance4.xlsx*** en el mismo repositorio de esta libreta.\n",
    "\n",
    "La presentación de los nuevos modelos y la selección del mejor modelo se encuentran en el archivo ***Avance4 Smart Travel Assistant-Reporte de Progreso-02.pptx*** en el mismo repositorio de esta libreta."
   ]
  },
  {
   "cell_type": "markdown",
   "metadata": {
    "id": "c8c2c4ae-24a2-40a1-a4c1-44792313fbff"
   },
   "source": [
    "## **Referencias**\n",
    "\n",
    "* Monigatti, L. (2023, 6 de diciembre). A Guide on 12 Tuning Strategies for Production-Ready RAG Applications. Medium. https://towardsdatascience.com/a-guide-on-12-tuning-strategies-for-production-ready-rag-applications-7ca646833439\n",
    "\n",
    "* AWS. (s.f.). Set up a data source for your knowledge base - Amazon Bedrock. docs.aws.amazon.com. Recuperado 7 de mayo, 2024, de https://docs.aws.amazon.com/bedrock/latest/userguide/knowledge-base-ds.html\n",
    "\n",
    "* AWS. (s.f.). Getting started with model evaluations - Amazon Bedrock. docs.aws.amazon.com. Recuperado 15 de mayo, 2024, de https://docs.aws.amazon.com/bedrock/latest/userguide/model-evaluation-type.html\n",
    "\n",
    "* AWS. (2023, 28 de noviembre). Knowledge Bases now delivers fully managed RAG experience in Amazon Bedrock - Amazon Web Services.  Amazon Web Services. https://aws.amazon.com/es/blogs/aws/knowledge-bases-now-delivers-fully-managed-rag-experience-in-amazon-bedrock/\n",
    "\n",
    "* Monigatti, L. (2023, 15 de deciembre). Evaluating RAG Applications with RAGAs. Medium. https://towardsdatascience.com/evaluating-rag-applications-with-ragas-81d67b0ee31a\n",
    "\n",
    "* Grech, C. (2024, 16 de febrero). Evaluating RAG Performance: A Comprehensive Guide. Medium. https://christiangrech.medium.com/evaluating-rag-performance-a-comprehensive-guide-b1d8f903b7ad\n"
   ]
  },
  {
   "cell_type": "code",
   "execution_count": null,
   "metadata": {},
   "outputs": [],
   "source": []
  }
 ],
 "metadata": {
  "colab": {
   "authorship_tag": "ABX9TyN7RsC+bWpa5Yqc1sfHsoAr",
   "include_colab_link": true,
   "provenance": []
  },
  "kernelspec": {
   "display_name": "conda_python3",
   "language": "python",
   "name": "conda_python3"
  },
  "language_info": {
   "codemirror_mode": {
    "name": "ipython",
    "version": 3
   },
   "file_extension": ".py",
   "mimetype": "text/x-python",
   "name": "python",
   "nbconvert_exporter": "python",
   "pygments_lexer": "ipython3",
   "version": "3.10.14"
  }
 },
 "nbformat": 4,
 "nbformat_minor": 4
}
