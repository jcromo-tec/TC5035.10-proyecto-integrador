{
 "cells": [
  {
   "cell_type": "markdown",
   "metadata": {
    "id": "HMQEY1ttU_w-"
   },
   "source": [
    "![logo-tec-de-monterrey-.png](data:image/png;base64,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)"
   ]
  },
  {
   "cell_type": "markdown",
   "metadata": {
    "id": "b3d0b781-0da5-4c6a-a76a-c6c0837bae05"
   },
   "source": [
    "## Proyecto Integrador\n",
    "## Smart Travel Assistant: Optimizando la Experiencia de Viaje con IA\n",
    "## Avance 4"
   ]
  },
  {
   "cell_type": "markdown",
   "metadata": {
    "id": "18dd3d13-d70f-4c28-894b-159fb9f0f7f6"
   },
   "source": [
    "### Equipo 37\n",
    "##### A00759664 - Joel Orlando Hernández Ramos\n",
    "##### A01793486 - Juan Carlos Alvarado Carricarte\n",
    "##### A00260430 - Juan Carlos Romo Cárdenas\n"
   ]
  },
  {
   "cell_type": "markdown",
   "metadata": {
    "id": "wiPf8lTteLm1"
   },
   "source": [
    "## **Descripción del Proyecto**"
   ]
  },
  {
   "cell_type": "markdown",
   "metadata": {
    "id": "XqZeUJCEefQ3"
   },
   "source": [
    "Este proyecto se propone desarrollar un asistente de inteligencia artificial integrado en una plataforma de traveltech, que facilita la elección personalizada de hoteles y destinos para los usuarios. Utilizando la función \"knowledge base\" de Amazon Bedrock, el sistema integrará una extensa base de datos con información detallada sobre más de 2 millones de hoteles. Para este efecto  \n",
    "\n",
    "El objetivo principal de este proyecto es transformar la experiencia de planificación de viajes, haciendo que sea más intuitiva, personalizada y respaldada por datos. Las metas específicas incluyen mejorar la satisfacción del cliente mediante recomendaciones precisas y personalizadas, reducir el tiempo necesario para planificar un viaje y aumentar la eficiencia del proceso de selección de destinos y hoteles.\n",
    "\n",
    "El asistente empleará modelos avanzados de sistemas de recomendación, potenciados por un modelo de lenguaje de aprendizaje profundo (LLM), para sugerir itinerarios personalizados y ofrecer asistencia general en la planificación de viajes. Las recomendaciones incluirán referencias detalladas a los hoteles disponibles en nuestra base de datos, asegurando que los usuarios reciban opciones que no solo se ajustan a sus preferencias personales, sino que también maximizan la calidad y la relevancia de la información proporcionada."
   ]
  },
  {
   "cell_type": "markdown",
   "metadata": {},
   "source": [
    "## **Configuración la Base de Conocimiento y el Modelo Fundacional**"
   ]
  },
  {
   "cell_type": "markdown",
   "metadata": {},
   "source": [
    "<img src=\"./Proyecto Integrador - RAG con Bedrock-Smart Travel Assistant KB v1.00 con LangChain.drawio.png\" alt=\"RAG Bedrock KB V1.00\" />"
   ]
  },
  {
   "cell_type": "markdown",
   "metadata": {},
   "source": [
    "Para crear el modelo de referencia para este proyecto se creo una base de datos de conocimientos en **AWS Bedrock**. El proceso es el siguiente:\n",
    "1. Crear la base de conocimientos, o **Knowledge Base**. Para este proyecto la base de conocimiento se llama *Volindo-hotels* y se usa una base de datos de vectores de **Pinecone**\n",
    "> * La fuente de conocimiento incluye 246 pares de archivos de MS Excel y JSON con los datos de más de 145,000 hoteles. Cada par de archivos representa un país.\n",
    "2. Cargar los datos en un Bucket de S3, llamado *hotel-clean-data*\n",
    "3. Asociar el Bucket de S3 como una fuente de información para la base de conocimiento\n",
    "4. Sincronizar (cargar) los datos de la fuente de información\n",
    "\n",
    "Una vez cargado la base de conocimiento se puede probar usando la consola de AWS Bedrock o a través de APIs, tal y como se hará a continuación."
   ]
  },
  {
   "cell_type": "markdown",
   "metadata": {},
   "source": [
    "## **Probando la Base de Conocimiento y el Modelo Fundacional**"
   ]
  },
  {
   "cell_type": "markdown",
   "metadata": {
    "id": "b8af6127-cc07-4a20-8fea-57ed0d56a355"
   },
   "source": [
    "### **Preparando el Ambiente de Ejecución**\n",
    "\n",
    "Es necesario importar las librerías necesarias para iniciar una sesión de AWS y para registrar una bitácora de ejecución."
   ]
  },
  {
   "cell_type": "code",
   "execution_count": 7,
   "metadata": {},
   "outputs": [
    {
     "name": "stdout",
     "output_type": "stream",
     "text": [
      "Requirement already satisfied: langchain in /home/ec2-user/anaconda3/envs/python3/lib/python3.10/site-packages (0.2.1)\n",
      "Requirement already satisfied: PyYAML>=5.3 in /home/ec2-user/anaconda3/envs/python3/lib/python3.10/site-packages (from langchain) (6.0.1)\n",
      "Requirement already satisfied: SQLAlchemy<3,>=1.4 in /home/ec2-user/anaconda3/envs/python3/lib/python3.10/site-packages (from langchain) (2.0.29)\n",
      "Requirement already satisfied: aiohttp<4.0.0,>=3.8.3 in /home/ec2-user/anaconda3/envs/python3/lib/python3.10/site-packages (from langchain) (3.9.3)\n",
      "Requirement already satisfied: async-timeout<5.0.0,>=4.0.0 in /home/ec2-user/anaconda3/envs/python3/lib/python3.10/site-packages (from langchain) (4.0.3)\n",
      "Requirement already satisfied: langchain-core<0.3.0,>=0.2.0 in /home/ec2-user/anaconda3/envs/python3/lib/python3.10/site-packages (from langchain) (0.2.1)\n",
      "Requirement already satisfied: langchain-text-splitters<0.3.0,>=0.2.0 in /home/ec2-user/anaconda3/envs/python3/lib/python3.10/site-packages (from langchain) (0.2.0)\n",
      "Requirement already satisfied: langsmith<0.2.0,>=0.1.17 in /home/ec2-user/anaconda3/envs/python3/lib/python3.10/site-packages (from langchain) (0.1.63)\n",
      "Requirement already satisfied: numpy<2,>=1 in /home/ec2-user/anaconda3/envs/python3/lib/python3.10/site-packages (from langchain) (1.22.4)\n",
      "Requirement already satisfied: pydantic<3,>=1 in /home/ec2-user/anaconda3/envs/python3/lib/python3.10/site-packages (from langchain) (2.7.1)\n",
      "Requirement already satisfied: requests<3,>=2 in /home/ec2-user/anaconda3/envs/python3/lib/python3.10/site-packages (from langchain) (2.31.0)\n",
      "Requirement already satisfied: tenacity<9.0.0,>=8.1.0 in /home/ec2-user/anaconda3/envs/python3/lib/python3.10/site-packages (from langchain) (8.2.3)\n",
      "Requirement already satisfied: aiosignal>=1.1.2 in /home/ec2-user/anaconda3/envs/python3/lib/python3.10/site-packages (from aiohttp<4.0.0,>=3.8.3->langchain) (1.3.1)\n",
      "Requirement already satisfied: attrs>=17.3.0 in /home/ec2-user/anaconda3/envs/python3/lib/python3.10/site-packages (from aiohttp<4.0.0,>=3.8.3->langchain) (23.2.0)\n",
      "Requirement already satisfied: frozenlist>=1.1.1 in /home/ec2-user/anaconda3/envs/python3/lib/python3.10/site-packages (from aiohttp<4.0.0,>=3.8.3->langchain) (1.4.1)\n",
      "Requirement already satisfied: multidict<7.0,>=4.5 in /home/ec2-user/anaconda3/envs/python3/lib/python3.10/site-packages (from aiohttp<4.0.0,>=3.8.3->langchain) (6.0.5)\n",
      "Requirement already satisfied: yarl<2.0,>=1.0 in /home/ec2-user/anaconda3/envs/python3/lib/python3.10/site-packages (from aiohttp<4.0.0,>=3.8.3->langchain) (1.9.4)\n",
      "Requirement already satisfied: jsonpatch<2.0,>=1.33 in /home/ec2-user/anaconda3/envs/python3/lib/python3.10/site-packages (from langchain-core<0.3.0,>=0.2.0->langchain) (1.33)\n",
      "Requirement already satisfied: packaging<24.0,>=23.2 in /home/ec2-user/anaconda3/envs/python3/lib/python3.10/site-packages (from langchain-core<0.3.0,>=0.2.0->langchain) (23.2)\n",
      "Requirement already satisfied: orjson<4.0.0,>=3.9.14 in /home/ec2-user/anaconda3/envs/python3/lib/python3.10/site-packages (from langsmith<0.2.0,>=0.1.17->langchain) (3.10.3)\n",
      "Requirement already satisfied: annotated-types>=0.4.0 in /home/ec2-user/anaconda3/envs/python3/lib/python3.10/site-packages (from pydantic<3,>=1->langchain) (0.7.0)\n",
      "Requirement already satisfied: pydantic-core==2.18.2 in /home/ec2-user/anaconda3/envs/python3/lib/python3.10/site-packages (from pydantic<3,>=1->langchain) (2.18.2)\n",
      "Requirement already satisfied: typing-extensions>=4.6.1 in /home/ec2-user/anaconda3/envs/python3/lib/python3.10/site-packages (from pydantic<3,>=1->langchain) (4.10.0)\n",
      "Requirement already satisfied: charset-normalizer<4,>=2 in /home/ec2-user/anaconda3/envs/python3/lib/python3.10/site-packages (from requests<3,>=2->langchain) (3.3.2)\n",
      "Requirement already satisfied: idna<4,>=2.5 in /home/ec2-user/anaconda3/envs/python3/lib/python3.10/site-packages (from requests<3,>=2->langchain) (3.6)\n",
      "Requirement already satisfied: urllib3<3,>=1.21.1 in /home/ec2-user/anaconda3/envs/python3/lib/python3.10/site-packages (from requests<3,>=2->langchain) (2.2.1)\n",
      "Requirement already satisfied: certifi>=2017.4.17 in /home/ec2-user/anaconda3/envs/python3/lib/python3.10/site-packages (from requests<3,>=2->langchain) (2024.2.2)\n",
      "Requirement already satisfied: greenlet!=0.4.17 in /home/ec2-user/anaconda3/envs/python3/lib/python3.10/site-packages (from SQLAlchemy<3,>=1.4->langchain) (3.0.3)\n",
      "Requirement already satisfied: jsonpointer>=1.9 in /home/ec2-user/anaconda3/envs/python3/lib/python3.10/site-packages (from jsonpatch<2.0,>=1.33->langchain-core<0.3.0,>=0.2.0->langchain) (2.4)\n"
     ]
    }
   ],
   "source": [
    "!pip install langchain"
   ]
  },
  {
   "cell_type": "code",
   "execution_count": 8,
   "metadata": {},
   "outputs": [
    {
     "name": "stdout",
     "output_type": "stream",
     "text": [
      "Requirement already satisfied: langchain-community in /home/ec2-user/anaconda3/envs/python3/lib/python3.10/site-packages (0.2.1)\n",
      "Requirement already satisfied: PyYAML>=5.3 in /home/ec2-user/anaconda3/envs/python3/lib/python3.10/site-packages (from langchain-community) (6.0.1)\n",
      "Requirement already satisfied: SQLAlchemy<3,>=1.4 in /home/ec2-user/anaconda3/envs/python3/lib/python3.10/site-packages (from langchain-community) (2.0.29)\n",
      "Requirement already satisfied: aiohttp<4.0.0,>=3.8.3 in /home/ec2-user/anaconda3/envs/python3/lib/python3.10/site-packages (from langchain-community) (3.9.3)\n",
      "Requirement already satisfied: dataclasses-json<0.7,>=0.5.7 in /home/ec2-user/anaconda3/envs/python3/lib/python3.10/site-packages (from langchain-community) (0.6.6)\n",
      "Requirement already satisfied: langchain<0.3.0,>=0.2.0 in /home/ec2-user/anaconda3/envs/python3/lib/python3.10/site-packages (from langchain-community) (0.2.1)\n",
      "Requirement already satisfied: langchain-core<0.3.0,>=0.2.0 in /home/ec2-user/anaconda3/envs/python3/lib/python3.10/site-packages (from langchain-community) (0.2.1)\n",
      "Requirement already satisfied: langsmith<0.2.0,>=0.1.0 in /home/ec2-user/anaconda3/envs/python3/lib/python3.10/site-packages (from langchain-community) (0.1.63)\n",
      "Requirement already satisfied: numpy<2,>=1 in /home/ec2-user/anaconda3/envs/python3/lib/python3.10/site-packages (from langchain-community) (1.22.4)\n",
      "Requirement already satisfied: requests<3,>=2 in /home/ec2-user/anaconda3/envs/python3/lib/python3.10/site-packages (from langchain-community) (2.31.0)\n",
      "Requirement already satisfied: tenacity<9.0.0,>=8.1.0 in /home/ec2-user/anaconda3/envs/python3/lib/python3.10/site-packages (from langchain-community) (8.2.3)\n",
      "Requirement already satisfied: aiosignal>=1.1.2 in /home/ec2-user/anaconda3/envs/python3/lib/python3.10/site-packages (from aiohttp<4.0.0,>=3.8.3->langchain-community) (1.3.1)\n",
      "Requirement already satisfied: attrs>=17.3.0 in /home/ec2-user/anaconda3/envs/python3/lib/python3.10/site-packages (from aiohttp<4.0.0,>=3.8.3->langchain-community) (23.2.0)\n",
      "Requirement already satisfied: frozenlist>=1.1.1 in /home/ec2-user/anaconda3/envs/python3/lib/python3.10/site-packages (from aiohttp<4.0.0,>=3.8.3->langchain-community) (1.4.1)\n",
      "Requirement already satisfied: multidict<7.0,>=4.5 in /home/ec2-user/anaconda3/envs/python3/lib/python3.10/site-packages (from aiohttp<4.0.0,>=3.8.3->langchain-community) (6.0.5)\n",
      "Requirement already satisfied: yarl<2.0,>=1.0 in /home/ec2-user/anaconda3/envs/python3/lib/python3.10/site-packages (from aiohttp<4.0.0,>=3.8.3->langchain-community) (1.9.4)\n",
      "Requirement already satisfied: async-timeout<5.0,>=4.0 in /home/ec2-user/anaconda3/envs/python3/lib/python3.10/site-packages (from aiohttp<4.0.0,>=3.8.3->langchain-community) (4.0.3)\n",
      "Requirement already satisfied: marshmallow<4.0.0,>=3.18.0 in /home/ec2-user/anaconda3/envs/python3/lib/python3.10/site-packages (from dataclasses-json<0.7,>=0.5.7->langchain-community) (3.21.2)\n",
      "Requirement already satisfied: typing-inspect<1,>=0.4.0 in /home/ec2-user/anaconda3/envs/python3/lib/python3.10/site-packages (from dataclasses-json<0.7,>=0.5.7->langchain-community) (0.9.0)\n",
      "Requirement already satisfied: langchain-text-splitters<0.3.0,>=0.2.0 in /home/ec2-user/anaconda3/envs/python3/lib/python3.10/site-packages (from langchain<0.3.0,>=0.2.0->langchain-community) (0.2.0)\n",
      "Requirement already satisfied: pydantic<3,>=1 in /home/ec2-user/anaconda3/envs/python3/lib/python3.10/site-packages (from langchain<0.3.0,>=0.2.0->langchain-community) (2.7.1)\n",
      "Requirement already satisfied: jsonpatch<2.0,>=1.33 in /home/ec2-user/anaconda3/envs/python3/lib/python3.10/site-packages (from langchain-core<0.3.0,>=0.2.0->langchain-community) (1.33)\n",
      "Requirement already satisfied: packaging<24.0,>=23.2 in /home/ec2-user/anaconda3/envs/python3/lib/python3.10/site-packages (from langchain-core<0.3.0,>=0.2.0->langchain-community) (23.2)\n",
      "Requirement already satisfied: orjson<4.0.0,>=3.9.14 in /home/ec2-user/anaconda3/envs/python3/lib/python3.10/site-packages (from langsmith<0.2.0,>=0.1.0->langchain-community) (3.10.3)\n",
      "Requirement already satisfied: charset-normalizer<4,>=2 in /home/ec2-user/anaconda3/envs/python3/lib/python3.10/site-packages (from requests<3,>=2->langchain-community) (3.3.2)\n",
      "Requirement already satisfied: idna<4,>=2.5 in /home/ec2-user/anaconda3/envs/python3/lib/python3.10/site-packages (from requests<3,>=2->langchain-community) (3.6)\n",
      "Requirement already satisfied: urllib3<3,>=1.21.1 in /home/ec2-user/anaconda3/envs/python3/lib/python3.10/site-packages (from requests<3,>=2->langchain-community) (2.2.1)\n",
      "Requirement already satisfied: certifi>=2017.4.17 in /home/ec2-user/anaconda3/envs/python3/lib/python3.10/site-packages (from requests<3,>=2->langchain-community) (2024.2.2)\n",
      "Requirement already satisfied: typing-extensions>=4.6.0 in /home/ec2-user/anaconda3/envs/python3/lib/python3.10/site-packages (from SQLAlchemy<3,>=1.4->langchain-community) (4.10.0)\n",
      "Requirement already satisfied: greenlet!=0.4.17 in /home/ec2-user/anaconda3/envs/python3/lib/python3.10/site-packages (from SQLAlchemy<3,>=1.4->langchain-community) (3.0.3)\n",
      "Requirement already satisfied: jsonpointer>=1.9 in /home/ec2-user/anaconda3/envs/python3/lib/python3.10/site-packages (from jsonpatch<2.0,>=1.33->langchain-core<0.3.0,>=0.2.0->langchain-community) (2.4)\n",
      "Requirement already satisfied: annotated-types>=0.4.0 in /home/ec2-user/anaconda3/envs/python3/lib/python3.10/site-packages (from pydantic<3,>=1->langchain<0.3.0,>=0.2.0->langchain-community) (0.7.0)\n",
      "Requirement already satisfied: pydantic-core==2.18.2 in /home/ec2-user/anaconda3/envs/python3/lib/python3.10/site-packages (from pydantic<3,>=1->langchain<0.3.0,>=0.2.0->langchain-community) (2.18.2)\n",
      "Requirement already satisfied: mypy-extensions>=0.3.0 in /home/ec2-user/anaconda3/envs/python3/lib/python3.10/site-packages (from typing-inspect<1,>=0.4.0->dataclasses-json<0.7,>=0.5.7->langchain-community) (1.0.0)\n"
     ]
    }
   ],
   "source": [
    "!pip install langchain-community"
   ]
  },
  {
   "cell_type": "code",
   "execution_count": 9,
   "metadata": {},
   "outputs": [
    {
     "name": "stdout",
     "output_type": "stream",
     "text": [
      "Requirement already satisfied: langchain-text-splitters in /home/ec2-user/anaconda3/envs/python3/lib/python3.10/site-packages (0.2.0)\n",
      "Requirement already satisfied: langchain-core<0.3.0,>=0.2.0 in /home/ec2-user/anaconda3/envs/python3/lib/python3.10/site-packages (from langchain-text-splitters) (0.2.1)\n",
      "Requirement already satisfied: PyYAML>=5.3 in /home/ec2-user/anaconda3/envs/python3/lib/python3.10/site-packages (from langchain-core<0.3.0,>=0.2.0->langchain-text-splitters) (6.0.1)\n",
      "Requirement already satisfied: jsonpatch<2.0,>=1.33 in /home/ec2-user/anaconda3/envs/python3/lib/python3.10/site-packages (from langchain-core<0.3.0,>=0.2.0->langchain-text-splitters) (1.33)\n",
      "Requirement already satisfied: langsmith<0.2.0,>=0.1.0 in /home/ec2-user/anaconda3/envs/python3/lib/python3.10/site-packages (from langchain-core<0.3.0,>=0.2.0->langchain-text-splitters) (0.1.63)\n",
      "Requirement already satisfied: packaging<24.0,>=23.2 in /home/ec2-user/anaconda3/envs/python3/lib/python3.10/site-packages (from langchain-core<0.3.0,>=0.2.0->langchain-text-splitters) (23.2)\n",
      "Requirement already satisfied: pydantic<3,>=1 in /home/ec2-user/anaconda3/envs/python3/lib/python3.10/site-packages (from langchain-core<0.3.0,>=0.2.0->langchain-text-splitters) (2.7.1)\n",
      "Requirement already satisfied: tenacity<9.0.0,>=8.1.0 in /home/ec2-user/anaconda3/envs/python3/lib/python3.10/site-packages (from langchain-core<0.3.0,>=0.2.0->langchain-text-splitters) (8.2.3)\n",
      "Requirement already satisfied: jsonpointer>=1.9 in /home/ec2-user/anaconda3/envs/python3/lib/python3.10/site-packages (from jsonpatch<2.0,>=1.33->langchain-core<0.3.0,>=0.2.0->langchain-text-splitters) (2.4)\n",
      "Requirement already satisfied: orjson<4.0.0,>=3.9.14 in /home/ec2-user/anaconda3/envs/python3/lib/python3.10/site-packages (from langsmith<0.2.0,>=0.1.0->langchain-core<0.3.0,>=0.2.0->langchain-text-splitters) (3.10.3)\n",
      "Requirement already satisfied: requests<3,>=2 in /home/ec2-user/anaconda3/envs/python3/lib/python3.10/site-packages (from langsmith<0.2.0,>=0.1.0->langchain-core<0.3.0,>=0.2.0->langchain-text-splitters) (2.31.0)\n",
      "Requirement already satisfied: annotated-types>=0.4.0 in /home/ec2-user/anaconda3/envs/python3/lib/python3.10/site-packages (from pydantic<3,>=1->langchain-core<0.3.0,>=0.2.0->langchain-text-splitters) (0.7.0)\n",
      "Requirement already satisfied: pydantic-core==2.18.2 in /home/ec2-user/anaconda3/envs/python3/lib/python3.10/site-packages (from pydantic<3,>=1->langchain-core<0.3.0,>=0.2.0->langchain-text-splitters) (2.18.2)\n",
      "Requirement already satisfied: typing-extensions>=4.6.1 in /home/ec2-user/anaconda3/envs/python3/lib/python3.10/site-packages (from pydantic<3,>=1->langchain-core<0.3.0,>=0.2.0->langchain-text-splitters) (4.10.0)\n",
      "Requirement already satisfied: charset-normalizer<4,>=2 in /home/ec2-user/anaconda3/envs/python3/lib/python3.10/site-packages (from requests<3,>=2->langsmith<0.2.0,>=0.1.0->langchain-core<0.3.0,>=0.2.0->langchain-text-splitters) (3.3.2)\n",
      "Requirement already satisfied: idna<4,>=2.5 in /home/ec2-user/anaconda3/envs/python3/lib/python3.10/site-packages (from requests<3,>=2->langsmith<0.2.0,>=0.1.0->langchain-core<0.3.0,>=0.2.0->langchain-text-splitters) (3.6)\n",
      "Requirement already satisfied: urllib3<3,>=1.21.1 in /home/ec2-user/anaconda3/envs/python3/lib/python3.10/site-packages (from requests<3,>=2->langsmith<0.2.0,>=0.1.0->langchain-core<0.3.0,>=0.2.0->langchain-text-splitters) (2.2.1)\n",
      "Requirement already satisfied: certifi>=2017.4.17 in /home/ec2-user/anaconda3/envs/python3/lib/python3.10/site-packages (from requests<3,>=2->langsmith<0.2.0,>=0.1.0->langchain-core<0.3.0,>=0.2.0->langchain-text-splitters) (2024.2.2)\n"
     ]
    }
   ],
   "source": [
    "!pip install langchain-text-splitters"
   ]
  },
  {
   "cell_type": "code",
   "execution_count": 10,
   "metadata": {},
   "outputs": [
    {
     "name": "stdout",
     "output_type": "stream",
     "text": [
      "Requirement already satisfied: langchain-aws in /home/ec2-user/anaconda3/envs/python3/lib/python3.10/site-packages (0.1.6)\n",
      "Requirement already satisfied: boto3<1.35.0,>=1.34.51 in /home/ec2-user/anaconda3/envs/python3/lib/python3.10/site-packages (from langchain-aws) (1.34.101)\n",
      "Requirement already satisfied: langchain-core<0.3,>=0.1.45 in /home/ec2-user/anaconda3/envs/python3/lib/python3.10/site-packages (from langchain-aws) (0.2.1)\n",
      "Requirement already satisfied: numpy<2,>=1 in /home/ec2-user/anaconda3/envs/python3/lib/python3.10/site-packages (from langchain-aws) (1.22.4)\n",
      "Requirement already satisfied: botocore<1.35.0,>=1.34.101 in /home/ec2-user/anaconda3/envs/python3/lib/python3.10/site-packages (from boto3<1.35.0,>=1.34.51->langchain-aws) (1.34.101)\n",
      "Requirement already satisfied: jmespath<2.0.0,>=0.7.1 in /home/ec2-user/anaconda3/envs/python3/lib/python3.10/site-packages (from boto3<1.35.0,>=1.34.51->langchain-aws) (1.0.1)\n",
      "Requirement already satisfied: s3transfer<0.11.0,>=0.10.0 in /home/ec2-user/anaconda3/envs/python3/lib/python3.10/site-packages (from boto3<1.35.0,>=1.34.51->langchain-aws) (0.10.1)\n",
      "Requirement already satisfied: PyYAML>=5.3 in /home/ec2-user/anaconda3/envs/python3/lib/python3.10/site-packages (from langchain-core<0.3,>=0.1.45->langchain-aws) (6.0.1)\n",
      "Requirement already satisfied: jsonpatch<2.0,>=1.33 in /home/ec2-user/anaconda3/envs/python3/lib/python3.10/site-packages (from langchain-core<0.3,>=0.1.45->langchain-aws) (1.33)\n",
      "Requirement already satisfied: langsmith<0.2.0,>=0.1.0 in /home/ec2-user/anaconda3/envs/python3/lib/python3.10/site-packages (from langchain-core<0.3,>=0.1.45->langchain-aws) (0.1.63)\n",
      "Requirement already satisfied: packaging<24.0,>=23.2 in /home/ec2-user/anaconda3/envs/python3/lib/python3.10/site-packages (from langchain-core<0.3,>=0.1.45->langchain-aws) (23.2)\n",
      "Requirement already satisfied: pydantic<3,>=1 in /home/ec2-user/anaconda3/envs/python3/lib/python3.10/site-packages (from langchain-core<0.3,>=0.1.45->langchain-aws) (2.7.1)\n",
      "Requirement already satisfied: tenacity<9.0.0,>=8.1.0 in /home/ec2-user/anaconda3/envs/python3/lib/python3.10/site-packages (from langchain-core<0.3,>=0.1.45->langchain-aws) (8.2.3)\n",
      "Requirement already satisfied: python-dateutil<3.0.0,>=2.1 in /home/ec2-user/anaconda3/envs/python3/lib/python3.10/site-packages (from botocore<1.35.0,>=1.34.101->boto3<1.35.0,>=1.34.51->langchain-aws) (2.9.0)\n",
      "Requirement already satisfied: urllib3!=2.2.0,<3,>=1.25.4 in /home/ec2-user/anaconda3/envs/python3/lib/python3.10/site-packages (from botocore<1.35.0,>=1.34.101->boto3<1.35.0,>=1.34.51->langchain-aws) (2.2.1)\n",
      "Requirement already satisfied: jsonpointer>=1.9 in /home/ec2-user/anaconda3/envs/python3/lib/python3.10/site-packages (from jsonpatch<2.0,>=1.33->langchain-core<0.3,>=0.1.45->langchain-aws) (2.4)\n",
      "Requirement already satisfied: orjson<4.0.0,>=3.9.14 in /home/ec2-user/anaconda3/envs/python3/lib/python3.10/site-packages (from langsmith<0.2.0,>=0.1.0->langchain-core<0.3,>=0.1.45->langchain-aws) (3.10.3)\n",
      "Requirement already satisfied: requests<3,>=2 in /home/ec2-user/anaconda3/envs/python3/lib/python3.10/site-packages (from langsmith<0.2.0,>=0.1.0->langchain-core<0.3,>=0.1.45->langchain-aws) (2.31.0)\n",
      "Requirement already satisfied: annotated-types>=0.4.0 in /home/ec2-user/anaconda3/envs/python3/lib/python3.10/site-packages (from pydantic<3,>=1->langchain-core<0.3,>=0.1.45->langchain-aws) (0.7.0)\n",
      "Requirement already satisfied: pydantic-core==2.18.2 in /home/ec2-user/anaconda3/envs/python3/lib/python3.10/site-packages (from pydantic<3,>=1->langchain-core<0.3,>=0.1.45->langchain-aws) (2.18.2)\n",
      "Requirement already satisfied: typing-extensions>=4.6.1 in /home/ec2-user/anaconda3/envs/python3/lib/python3.10/site-packages (from pydantic<3,>=1->langchain-core<0.3,>=0.1.45->langchain-aws) (4.10.0)\n",
      "Requirement already satisfied: six>=1.5 in /home/ec2-user/anaconda3/envs/python3/lib/python3.10/site-packages (from python-dateutil<3.0.0,>=2.1->botocore<1.35.0,>=1.34.101->boto3<1.35.0,>=1.34.51->langchain-aws) (1.16.0)\n",
      "Requirement already satisfied: charset-normalizer<4,>=2 in /home/ec2-user/anaconda3/envs/python3/lib/python3.10/site-packages (from requests<3,>=2->langsmith<0.2.0,>=0.1.0->langchain-core<0.3,>=0.1.45->langchain-aws) (3.3.2)\n",
      "Requirement already satisfied: idna<4,>=2.5 in /home/ec2-user/anaconda3/envs/python3/lib/python3.10/site-packages (from requests<3,>=2->langsmith<0.2.0,>=0.1.0->langchain-core<0.3,>=0.1.45->langchain-aws) (3.6)\n",
      "Requirement already satisfied: certifi>=2017.4.17 in /home/ec2-user/anaconda3/envs/python3/lib/python3.10/site-packages (from requests<3,>=2->langsmith<0.2.0,>=0.1.0->langchain-core<0.3,>=0.1.45->langchain-aws) (2024.2.2)\n"
     ]
    }
   ],
   "source": [
    "!pip install langchain-aws"
   ]
  },
  {
   "cell_type": "code",
   "execution_count": 11,
   "metadata": {
    "id": "7f538ba7-a747-42b5-9481-38084383bf8f"
   },
   "outputs": [],
   "source": [
    "# Importando librerias requeridas\n",
    "import time\n",
    "import re\n",
    "import json\n",
    "import uuid\n",
    "import io\n",
    "import logging\n",
    "import pyarrow.parquet as pq\n",
    "import pandas as pd\n",
    "import numpy as np\n",
    "import boto3\n",
    "\n",
    "from langchain_community.retrievers import AmazonKnowledgeBasesRetriever\n",
    "from langchain.chains import create_retrieval_chain\n",
    "from langchain.chains.combine_documents import create_stuff_documents_chain\n",
    "from langchain_core.prompts import ChatPromptTemplate\n",
    "from langchain_aws import BedrockLLM\n"
   ]
  },
  {
   "cell_type": "code",
   "execution_count": 12,
   "metadata": {},
   "outputs": [],
   "source": [
    "# Creado manejador de bitácora\n",
    "logger = logging.getLogger(__name__)\n",
    "#logging.basicConfig(\n",
    "#    filename='../logs/Avance4_Equipo37_Bedrock_Alternative.log',\n",
    "#    level=logging.INFO,\n",
    "#    format='%(asctime)s %(levelname)-8s %(message)s',\n",
    "#    datefmt='%Y-%m-%d %H:%M:%S'\n",
    "#)"
   ]
  },
  {
   "cell_type": "code",
   "execution_count": 13,
   "metadata": {},
   "outputs": [],
   "source": [
    "# Configurando constantes para la ejecución. AWS_KBID contiene el identificador de la base de conocimientos de AWS Bedrock\n",
    "LOCAL_SET = '../local-responses'\n",
    "AWS_KBID = '5XNHOMTE5G'\n"
   ]
  },
  {
   "cell_type": "markdown",
   "metadata": {
    "id": "b8af6127-cc07-4a20-8fea-57ed0d56a355"
   },
   "source": [
    "### **Evaluando la Base de Conocimiento y el Modelo Fundacional**\n",
    "\n",
    "AWS Bedrock provee tres tipos de mecanismos para evaluar el desempeño de los modelos fundacionales:\n",
    "* Evaluación automatizada\n",
    "* Evaluación por un equipo de humanos\n",
    "* Evaluación por un servicio de evaluación de AWS\n",
    "\n",
    "La evaluación automatizada permite hacer evaluaciones de la precisión del modelo, la toxicidad de las respuestas y la robustes de las respuestas.\n",
    "Desafortunadamente AWS solo ofrece este servicio para solo uno de los modelos de Amazon y no cubre la evaluación de la base de conocimiento y de las respuestas generadas en combinación con el modelo fundacional de Titan Text Premier.\n",
    "\n",
    "Dada esta limitación el equipo decidió establecer un proceso de evaluación por un equipo de personas. Cada miembro:\n",
    "* creó varias preguntas relacionadas a hoteles y lugares\n",
    "* alimentó las preguntas a la base de conocimiento y el modelo fundacional y a Copilot Edge\n",
    "* preparó un análisis comparativo de las respuestas recibidas.\n"
   ]
  },
  {
   "cell_type": "markdown",
   "metadata": {
    "id": "b8af6127-cc07-4a20-8fea-57ed0d56a355"
   },
   "source": [
    "### **Creando Agente para Recuperar Informacion de Contexto**"
   ]
  },
  {
   "cell_type": "code",
   "execution_count": 14,
   "metadata": {
    "id": "0d6d5eee-596e-4bb8-a3c9-919ce176fe7b"
   },
   "outputs": [],
   "source": [
    "# Creando sesion para AWS Bedrock. Credenciales y configuracion se obtienen de ~/.aws\n",
    "retriever = AmazonKnowledgeBasesRetriever(\n",
    "    knowledge_base_id=AWS_KBID,\n",
    "    retrieval_config={'vectorSearchConfiguration': {'numberOfResults': 5}},\n",
    ")"
   ]
  },
  {
   "cell_type": "markdown",
   "metadata": {
    "id": "b8af6127-cc07-4a20-8fea-57ed0d56a355"
   },
   "source": [
    "### **Creando Agente para Questionar el Modelo Fundacional**"
   ]
  },
  {
   "cell_type": "code",
   "execution_count": 15,
   "metadata": {},
   "outputs": [],
   "source": [
    "model_kwargs_premier = {'temperature': 0, 'topP': 0.7, 'maxTokenCount': 3000}\n",
    "llm = BedrockLLM(model_id='amazon.titan-text-premier-v1:0', model_kwargs=model_kwargs_premier)"
   ]
  },
  {
   "cell_type": "markdown",
   "metadata": {
    "id": "b8af6127-cc07-4a20-8fea-57ed0d56a355"
   },
   "source": [
    "### **Creando Función para Solictar Respuestas de AWS Bedrock y para Desplegarlas**"
   ]
  },
  {
   "cell_type": "code",
   "execution_count": 16,
   "metadata": {},
   "outputs": [],
   "source": [
    "# Creando función para buscar información en la base de conocimiento y generar una respuesta usando el modelo fundacional\n",
    "# Titan Text Premier de AWS Bedrock. La función también calcula el tiempo de ejecución\n",
    "def retrieve_and_generate(query, retriever, llm):\n",
    "    start_time = time.time()\n",
    "    system_prompt = (\n",
    "        \"You are a friendly and helpful travel assistant.\"\n",
    "        \"Use the given context to answer the question.\"\n",
    "        \"Select options in the same city or near by.\"\n",
    "        \"Provide two or three options if possible.\"\n",
    "        \"Use the name provided in the context.\"\n",
    "        \"If you don't know the answer, say you don't know. \"\n",
    "        \"Use three sentence maximum and keep the answer concise. \"\n",
    "        \"Context: {context}\"\n",
    "    )\n",
    "    prompt = ChatPromptTemplate.from_messages(\n",
    "        [\n",
    "            (\"system\", system_prompt),\n",
    "            (\"human\", \"{input}\"),\n",
    "        ]\n",
    "    )\n",
    "    question_answer_chain = create_stuff_documents_chain(llm, prompt)\n",
    "    chain = create_retrieval_chain(retriever, question_answer_chain)\n",
    "    \n",
    "    response = chain.invoke({\"input\": query})\n",
    "    elapsed_time = time.time() - start_time\n",
    "    return elapsed_time, response\n"
   ]
  },
  {
   "cell_type": "code",
   "execution_count": 17,
   "metadata": {},
   "outputs": [],
   "source": [
    "# Creando función desplegar la respuesta recibida de AWS. La respuesta incluye diferentes valores como la respuesta completa,\n",
    "# la respuesta en partes, o citas, con referencias y los metadatos de cada referencia\n",
    "def display_response(response, elapsed_time):\n",
    "    # desplegando respuestas\n",
    "    print(f\"Respuesta despues de {elapsed_time:.4f} segundos:\\n{response['answer']}\")\n",
    "    for context in response['context']:\n",
    "        print(f\"\\nContexto:\\n{context.page_content}\")\n",
    "        print(f\"\\nCalificacion:{context.metadata['score']:.6f}\")\n",
    "        print(f\"\\nPais: {context.metadata['source_metadata']['Country']}, Continente:{context.metadata['source_metadata']['Continent']}, URI:{context.metadata['source_metadata']['x-amz-bedrock-kb-source-uri']}\")\n"
   ]
  },
  {
   "cell_type": "markdown",
   "metadata": {},
   "source": [
    "### **Ejecutando la Evaluación**"
   ]
  },
  {
   "cell_type": "markdown",
   "metadata": {},
   "source": [
    "**Obteniendo Respuestas de la Base Conocimiento y el Modelo Fundacional**"
   ]
  },
  {
   "cell_type": "code",
   "execution_count": 18,
   "metadata": {
    "id": "0d6d5eee-596e-4bb8-a3c9-919ce176fe7b",
    "scrolled": true
   },
   "outputs": [
    {
     "name": "stdout",
     "output_type": "stream",
     "text": [
      "Respuesta despues de 11.7819 segundos:\n",
      "Here are some options for accommodation near Pilanesberg National Park in South Africa:\n",
      "1. Newlands Cottages - This 4-star cottage is located in Cape Town, a 2-minute drive from the University of Cape Town and 7 minutes from Kirstenbosch National Botanical Gardens. It offers individually decorated guestrooms with fireplaces and private pools, as well as kitchens with full-sized refrigerators/freezers, stovetops, and microwaves.\n",
      "2. Sea Otters Lodge - This lodge is situated by its own private area on Kini Bay's beach and boasts picturesque sea views and soundproofed rooms with satellite TV. It offers free limited WiFi access, a traditional braai (barbecue) facility, and an honesty bar. Guests can explore the surrounding area while hiking or horse riding, or rent a car to explore further afield.\n",
      "3. Mountain Cabin - This 4-star cabin is located in Wolseley and is in a rural location, within a 15-minute drive of Cape Floral Region Protected Areas and De Oude Church. It features a kitchen with a refrigerator and an oven, as well as a private balcony or patio. Guests can enjoy digital programming on the flat-screen television and stay connected with complimentary wireless Internet access.\n",
      "4. Vredenhof 7 Adults Only - This apartment is located in Cape Town's Sea Point Promenade and is steps away from Green Point Lighthouse and Green Point Park. It offers a kitchenette with a refrigerator and an oven, as well as complimentary wireless Internet access. The apartment is 2.6 mi (4.2 km) from Cape Town Cruise Terminal and 4 mi (6.4 km) from Camps Bay Beach.\n",
      "5. El Palma Guest House - This bed and breakfast is located in Amanzimtoti and offers accommodation with free WiFi. Each unit has a kitchenette, air conditioning, a flat-screen TV, and a private bathroom with free toiletries. Guests can enjoy a continental breakfast, use the business centre, and relax on the terrace. The nearest airport is King Shaka International Airport, 64 km from the property.\n",
      "\n",
      "Please note that the availability and pricing of these accommodations may vary, so it's best to check with each property directly for the most up-to-date information.\n",
      "\n",
      "Contexto:\n",
      "Contact the property in advance to make arrangements.&nbsp;Disclaimer notification: Amenities are subject to availability and may be chargeable as per the hotel policy.\t3/19 black rhino game reserve r565, pilanesberg game reservepilanesberg national parkpilanesberg, pilanesberg, 0366, south africa\t0366\tZA\t+27712791110\tPilanesberg\t26.982003\t-25.168261\t4 \t1612427\tnewlands cottages\tHeadLine : Near University of Cape TownLocation : With a stay at Newlands Cottages in Cape Town, you ll be a 2-minute drive from University of Cape Town and 7 minutes from Kirstenbosch National Botanical Gardens.  This 4-star cottage is 7.3 mi (11.8 km) from Victoria and Alfred Waterfront and 8.2 mi (13.2 km) from Table Mountain.Rooms : Treat yourself to a stay in one of the 4 individually decorated guestrooms, featuring fireplaces and private pools. Rooms have private furnished patios. Kitchens are outfitted with full-sized refrigerators/freezers, stovetops, and microwaves. Complimentary wired and wireless Internet access keeps you connected, and satellite programming provides entertainment.CheckIn Instructions : Extra-person charges may apply and vary depending on property policy. Government-issued photo identification and a credit card, debit card, or cash deposit are required at check-in for incidental charges. Special requests are subject to availability upon check-in and may incur additional charges. Special requests cannot be guaranteed.\n",
      "\n",
      "Calificacion:0.708071\n",
      "\n",
      "Pais: South Africa, Continente:Africa, URI:s3://clean-hotel-data/hotel-data-set-ZA.xlsx\n",
      "\n",
      "Contexto:\n",
      "The park entrance fee is ZAR 140 per guest, per day for travel dates from now until December 31, 2023.&nbsp;Disclaimer notification: Amenities are subject to availability and may be chargeable as per the hotel policy.\tstand 2 black rhino game reserve pilanesberg, pilanesberg 7130, pilanesberg, 7130, south africa\t7130\tZA\t27-0664795639\tPilanesberg\t26.978668\t-25.163587\t5 \t1358828\tsea otters lodge\tSituated by its own private area on Kini Bay’s beach, this lodge boasts picturesque sea views and soundproofed rooms with satellite TV.  Elegant decorations and a balcony overlooking the lush gardens are featured in all rooms. Each has free limited WiFi access.  Breakfast is served daily as an optional extra to overnight guests and dinners can be arranged from Monday to Thursday on advance request. Sea Otters Lodge’s traditional braai facilities can be enjoyed on the sun terrace. A refreshing drink can be sampled in a relaxing atmosphere at the honesty bar.  Guests can explore the surrounding area while hiking or horse riding. A car rental service is also provided. Guests are required to show a photo identification and credit card upon check-in. Please note that all Special Requests are subject to availability and additional charges may apply. Please inform Sea Otters Lodge in advance of your expected arrival time. You can use the Special Requests box when booking, or contact the property directly with the contact details provided in your confirmation. Payment before arrival via bank transfer is required. The property will contact you after you book to provide instructions.\n",
      "\n",
      "Calificacion:0.691840\n",
      "\n",
      "Pais: South Africa, Continente:Africa, URI:s3://clean-hotel-data/hotel-data-set-ZA.xlsx\n",
      "\n",
      "Contexto:\n",
      "&nbsp;Disclaimer notification: Amenities are subject to availability and may be chargeable as per the hotel policy.\tpilanesberg national park, rustenburg, pilanesberg national park, 0316, south africa\t0316\tZA\t27-14-5525100\tPilanesberg National Park\t27.145368\t-25.33576\t4 \t5453133\tmountain cabin\tHeadLine : In a rural locationLocation : Located in Wolseley, this cabin is in a rural location, within a 15-minute drive of Cape Floral Region Protected Areas and De Oude Church.  This 4-star cabin is 9.7 mi (15.6 km) from Earthquake Museum And Tourism Bureau and 10.2 mi (16.4 km) from Tulbagh Local Nature Reserve.Rooms : Make yourself comfortable in this air-conditioned cabin, featuring a kitchen with a refrigerator and an oven. There s a private balcony or patio. A flat-screen television with digital programming provides entertainment, while complimentary wireless Internet access keeps you connected.\n",
      "\n",
      "Calificacion:0.688513\n",
      "\n",
      "Pais: South Africa, Continente:Africa, URI:s3://clean-hotel-data/hotel-data-set-ZA.xlsx\n",
      "\n",
      "Contexto:\n",
      "Children age 12 and older are permitted on game drives, and are charged the adult rate per game drive. Guests driving to the property should contact this property in advance.&nbsp;Disclaimer notification: Amenities are subject to availability and may be chargeable as per the hotel policy.\tr565 black rhino game reserve, black rhino game reservepilanesberg 7130pilanesberg national park, pilanesberg national park, 2128, south africa\t2128\tZA\t+27 83 2975020\tPilanesberg National Park\t26.972807\t-25.166387\t4 \t5477648\tvredenhof 7 adults only\tHeadLine : In Cape Town (Sea Point Promenade)Location : With a stay at this apartment in Cape Town (Sea Point Promenade), you ll be steps from Green Point Lighthouse and Green Point Park.  This 4-star apartment is 2.6 mi (4.2 km) from Cape Town Cruise Terminal and 4 mi (6.4 km) from Camps Bay Beach.Rooms : Make yourself comfortable in this apartment, featuring a kitchenette with a refrigerator and an oven. Complimentary wireless Internet access is available to keep you connected. Conveniences include a desk and a separate sitting area, and housekeeping is provided weekly.CheckIn Instructions :   Extra-person charges may apply and vary depending on property policyGovernment-issued photo identification and a credit card may be required at check-in for incidental chargesSpecial requests are subject to availability upon check-in and may incur additional charges; special requests cannot be guaranteedThis property accepts credit cards; cash is not accepted  Special Instructions : There is no front desk at this property.\n",
      "\n",
      "Calificacion:0.675007\n",
      "\n",
      "Pais: South Africa, Continente:Africa, URI:s3://clean-hotel-data/hotel-data-set-ZA.xlsx\n",
      "\n",
      "Contexto:\n",
      "Special requests cannot be guaranteed.   &nbsp;Disclaimer notification: Amenities are subject to availability and may be chargeable as per the hotel policy.\t5 koning street, paarlwestern cape, paarl, 7646, south africa\t7646\tZA\t27-84-4004525\tPaarl\t18.963669\t-33.712524\t4 \t1776808\tel palma guest house\tSituated in Amanzimtoti, El Palma Guest House provides accommodation with free WiFi.  Each unit has a kitchenette, air conditioning, a flat-screen TV and a private bathroom with free toiletries. Some units feature a balcony and/or patio.  A continental breakfast can be enjoyed at the property.  The bed and breakfast offers a barbecue. El Palma Guest House offers a business centre for guest use.  There is a terrace at this property and guests can go cycling nearby.  Arbour Crossing Shopping Centre is 7 km from the accommodation, while KwaMnyandu Shopping Centre is 16 km from the property. The nearest airport is King Shaka International Airport, 64 km from El Palma Guest House.&nbsp;Disclaimer notification: Amenities are subject to availability and may be chargeable as per the hotel policy.\t301 kingsway street, amanzimtoti 4126, durban, 4126, south africa\t4126\tZA\t27319034727\tDurban\t30.8782\t-30.06432\t4 \t1246061\tnkorho bush lodge\tHeadLine : In a national parkLocation : With a stay at Nkorho Bush Lodge in Bushbuckridge, you ll be in a national park, just steps from Sabi Sands Game Reserve and a 2-minute drive from Djuma Game Reserve.\n",
      "\n",
      "Calificacion:0.659830\n",
      "\n",
      "Pais: South Africa, Continente:Africa, URI:s3://clean-hotel-data/hotel-data-set-ZA.xlsx\n"
     ]
    }
   ],
   "source": [
    "input = '''Can you suggest accomodation near pilanesberg national park in south africa?'''\n",
    "\n",
    "elapsed_time, response = retrieve_and_generate(input, retriever, llm)\n",
    "display_response(response, elapsed_time)"
   ]
  },
  {
   "cell_type": "markdown",
   "metadata": {},
   "source": [
    "**Respuesta de Copilot Edge**\n",
    "\n",
    "Certainly! When visiting Pilanesberg National Park in South Africa, you have several accommodation options to choose from. Here are some recommendations:\n",
    "\n",
    "Bakubung Bush Lodge: Located within the park, this lodge offers elegantly decorated rooms with free Wi-Fi and a variety of massages. Prices start at R5100 per person sharing1.\n",
    "Black Rhino Game Lodge: Another excellent choice within the park, offering a unique safari experience.\n",
    "Kwa Maritane Bush Lodge: Situated in the Pilanesberg Game Reserve, this lodge provides comfortable accommodations.\n",
    "Tshukudu Bush Lodge: Known for its luxury and exclusivity, Tshukudu offers an unforgettable stay.\n",
    "Ivory Tree Game Lodge: A great option for wildlife enthusiasts, with comfortable rooms and beautiful surroundings.\n",
    "Additionally, Pilanesberg National Park itself has various accommodation options, including resorts, safari tents, bush lodges, chalets, and self-catering choices. Families, budget travelers, and discerning guests will find something suitable for their preferences and budget. Whether you prefer rustic safari tents or luxurious five-star lodges, the abundant wildlife in this malaria-free park remains the main attraction"
   ]
  },
  {
   "cell_type": "markdown",
   "metadata": {},
   "source": [
    "**Análisis**\n",
    "\n",
    "La repuesta obtenida del modelo y la base de conocimiento es bastante completo y preciso y probablemente una de las mejores respuestas proporcionadas.\n",
    "Los lugares sugeridos están ubicados en la vecindad del parque nacional de Pilanesberg y son bien conocidos.\n",
    "\n",
    "Las descripciones proporcionada por Copilot Edge concuerda con la presentada por el modelo y la base de conocimiento.\n"
   ]
  },
  {
   "cell_type": "markdown",
   "metadata": {},
   "source": [
    "**Obteniendo Respuestas de la Base Conocimiento y el Modelo Fundacional**"
   ]
  },
  {
   "cell_type": "code",
   "execution_count": 19,
   "metadata": {
    "id": "0d6d5eee-596e-4bb8-a3c9-919ce176fe7b",
    "scrolled": true
   },
   "outputs": [
    {
     "name": "stdout",
     "output_type": "stream",
     "text": [
      "Respuesta despues de 6.6579 segundos:\n",
      "Here are some options for accommodation near Pilanesberg National Park in the North West Province of South Africa:\n",
      "\n",
      "1. Black Rhino Game Lodge: This lodge is located within the Pilanesberg National Park and offers luxurious accommodations, game drives, and other activities.\n",
      "\n",
      "2. Bakubung Bush Lodge: This lodge is also located within the Pilanesberg National Park and offers a range of accommodations, from standard rooms to luxury suites. It also has a spa, swimming pool, and restaurant.\n",
      "\n",
      "3. Tshukudu Bush Lodge: This lodge is located on the outskirts of the Pilanesberg National Park and offers a more intimate and exclusive experience. It has just four chalets, each with its own private deck and plunge pool.\n",
      "\n",
      "4. Kwa Maritane Bush Lodge: This lodge is located on the outskirts of the Pilanesberg National Park and offers a range of accommodations, from standard rooms to luxury suites. It also has a spa, swimming pool, and restaurant.\n",
      "\n",
      "5. The Kingdom Resort: This resort is located just outside the Pilanesberg National Park and offers a range of accommodations, from self-catering apartments to luxury villas. It also has a swimming pool, restaurant, and bar.\n",
      "\n",
      "Contexto:\n",
      "Contact the property in advance to make arrangements.&nbsp;Disclaimer notification: Amenities are subject to availability and may be chargeable as per the hotel policy.\t3/19 black rhino game reserve r565, pilanesberg game reservepilanesberg national parkpilanesberg, pilanesberg, 0366, south africa\t0366\tZA\t+27712791110\tPilanesberg\t26.982003\t-25.168261\t4 \t1612427\tnewlands cottages\tHeadLine : Near University of Cape TownLocation : With a stay at Newlands Cottages in Cape Town, you ll be a 2-minute drive from University of Cape Town and 7 minutes from Kirstenbosch National Botanical Gardens.  This 4-star cottage is 7.3 mi (11.8 km) from Victoria and Alfred Waterfront and 8.2 mi (13.2 km) from Table Mountain.Rooms : Treat yourself to a stay in one of the 4 individually decorated guestrooms, featuring fireplaces and private pools. Rooms have private furnished patios. Kitchens are outfitted with full-sized refrigerators/freezers, stovetops, and microwaves. Complimentary wired and wireless Internet access keeps you connected, and satellite programming provides entertainment.CheckIn Instructions : Extra-person charges may apply and vary depending on property policy. Government-issued photo identification and a credit card, debit card, or cash deposit are required at check-in for incidental charges. Special requests are subject to availability upon check-in and may incur additional charges. Special requests cannot be guaranteed.\n",
      "\n",
      "Calificacion:0.716230\n",
      "\n",
      "Pais: South Africa, Continente:Africa, URI:s3://clean-hotel-data/hotel-data-set-ZA.xlsx\n",
      "\n",
      "Contexto:\n",
      "&nbsp;Disclaimer notification: Amenities are subject to availability and may be chargeable as per the hotel policy.\tpilanesberg national park, rustenburg, pilanesberg national park, 0316, south africa\t0316\tZA\t27-14-5525100\tPilanesberg National Park\t27.145368\t-25.33576\t4 \t5453133\tmountain cabin\tHeadLine : In a rural locationLocation : Located in Wolseley, this cabin is in a rural location, within a 15-minute drive of Cape Floral Region Protected Areas and De Oude Church.  This 4-star cabin is 9.7 mi (15.6 km) from Earthquake Museum And Tourism Bureau and 10.2 mi (16.4 km) from Tulbagh Local Nature Reserve.Rooms : Make yourself comfortable in this air-conditioned cabin, featuring a kitchen with a refrigerator and an oven. There s a private balcony or patio. A flat-screen television with digital programming provides entertainment, while complimentary wireless Internet access keeps you connected.\n",
      "\n",
      "Calificacion:0.687688\n",
      "\n",
      "Pais: South Africa, Continente:Africa, URI:s3://clean-hotel-data/hotel-data-set-ZA.xlsx\n",
      "\n",
      "Contexto:\n",
      "The park entrance fee is ZAR 140 per guest, per day for travel dates from now until December 31, 2023.&nbsp;Disclaimer notification: Amenities are subject to availability and may be chargeable as per the hotel policy.\tstand 2 black rhino game reserve pilanesberg, pilanesberg 7130, pilanesberg, 7130, south africa\t7130\tZA\t27-0664795639\tPilanesberg\t26.978668\t-25.163587\t5 \t1358828\tsea otters lodge\tSituated by its own private area on Kini Bay’s beach, this lodge boasts picturesque sea views and soundproofed rooms with satellite TV.  Elegant decorations and a balcony overlooking the lush gardens are featured in all rooms. Each has free limited WiFi access.  Breakfast is served daily as an optional extra to overnight guests and dinners can be arranged from Monday to Thursday on advance request. Sea Otters Lodge’s traditional braai facilities can be enjoyed on the sun terrace. A refreshing drink can be sampled in a relaxing atmosphere at the honesty bar.  Guests can explore the surrounding area while hiking or horse riding. A car rental service is also provided. Guests are required to show a photo identification and credit card upon check-in. Please note that all Special Requests are subject to availability and additional charges may apply. Please inform Sea Otters Lodge in advance of your expected arrival time. You can use the Special Requests box when booking, or contact the property directly with the contact details provided in your confirmation. Payment before arrival via bank transfer is required. The property will contact you after you book to provide instructions.\n",
      "\n",
      "Calificacion:0.675588\n",
      "\n",
      "Pais: South Africa, Continente:Africa, URI:s3://clean-hotel-data/hotel-data-set-ZA.xlsx\n",
      "\n",
      "Contexto:\n",
      "Children age 12 and older are permitted on game drives, and are charged the adult rate per game drive. Guests driving to the property should contact this property in advance.&nbsp;Disclaimer notification: Amenities are subject to availability and may be chargeable as per the hotel policy.\tr565 black rhino game reserve, black rhino game reservepilanesberg 7130pilanesberg national park, pilanesberg national park, 2128, south africa\t2128\tZA\t+27 83 2975020\tPilanesberg National Park\t26.972807\t-25.166387\t4 \t5477648\tvredenhof 7 adults only\tHeadLine : In Cape Town (Sea Point Promenade)Location : With a stay at this apartment in Cape Town (Sea Point Promenade), you ll be steps from Green Point Lighthouse and Green Point Park.  This 4-star apartment is 2.6 mi (4.2 km) from Cape Town Cruise Terminal and 4 mi (6.4 km) from Camps Bay Beach.Rooms : Make yourself comfortable in this apartment, featuring a kitchenette with a refrigerator and an oven. Complimentary wireless Internet access is available to keep you connected. Conveniences include a desk and a separate sitting area, and housekeeping is provided weekly.CheckIn Instructions :   Extra-person charges may apply and vary depending on property policyGovernment-issued photo identification and a credit card may be required at check-in for incidental chargesSpecial requests are subject to availability upon check-in and may incur additional charges; special requests cannot be guaranteedThis property accepts credit cards; cash is not accepted  Special Instructions : There is no front desk at this property.\n",
      "\n",
      "Calificacion:0.657358\n",
      "\n",
      "Pais: South Africa, Continente:Africa, URI:s3://clean-hotel-data/hotel-data-set-ZA.xlsx\n",
      "\n",
      "Contexto:\n",
      "Special requests cannot be guaranteed.   &nbsp;Disclaimer notification: Amenities are subject to availability and may be chargeable as per the hotel policy.\t5 koning street, paarlwestern cape, paarl, 7646, south africa\t7646\tZA\t27-84-4004525\tPaarl\t18.963669\t-33.712524\t4 \t1776808\tel palma guest house\tSituated in Amanzimtoti, El Palma Guest House provides accommodation with free WiFi.  Each unit has a kitchenette, air conditioning, a flat-screen TV and a private bathroom with free toiletries. Some units feature a balcony and/or patio.  A continental breakfast can be enjoyed at the property.  The bed and breakfast offers a barbecue. El Palma Guest House offers a business centre for guest use.  There is a terrace at this property and guests can go cycling nearby.  Arbour Crossing Shopping Centre is 7 km from the accommodation, while KwaMnyandu Shopping Centre is 16 km from the property. The nearest airport is King Shaka International Airport, 64 km from El Palma Guest House.&nbsp;Disclaimer notification: Amenities are subject to availability and may be chargeable as per the hotel policy.\t301 kingsway street, amanzimtoti 4126, durban, 4126, south africa\t4126\tZA\t27319034727\tDurban\t30.8782\t-30.06432\t4 \t1246061\tnkorho bush lodge\tHeadLine : In a national parkLocation : With a stay at Nkorho Bush Lodge in Bushbuckridge, you ll be in a national park, just steps from Sabi Sands Game Reserve and a 2-minute drive from Djuma Game Reserve.\n",
      "\n",
      "Calificacion:0.656617\n",
      "\n",
      "Pais: South Africa, Continente:Africa, URI:s3://clean-hotel-data/hotel-data-set-ZA.xlsx\n"
     ]
    }
   ],
   "source": [
    "input = '''Can you suggest accomodation near pilanesberg national park in the north west province in south africa?'''\n",
    "\n",
    "elapsed_time, response = retrieve_and_generate(input, retriever, llm)\n",
    "display_response(response, elapsed_time)"
   ]
  },
  {
   "cell_type": "markdown",
   "metadata": {},
   "source": [
    "**Respuesta de Copilot Edge**\n",
    "\n",
    "Certainly! When visiting Pilanesberg National Park in South Africa, you have several accommodation options to choose from. Here are some recommendations:\n",
    "\n",
    "Bakubung Bush Lodge: Located within the park, this lodge offers elegantly decorated rooms with free Wi-Fi and a variety of massages. Prices start at R5100 per person sharing1.\n",
    "Black Rhino Game Lodge: Another excellent choice within the park, offering a unique safari experience.\n",
    "Kwa Maritane Bush Lodge: Situated in the Pilanesberg Game Reserve, this lodge provides comfortable accommodations.\n",
    "Tshukudu Bush Lodge: Known for its luxury and exclusivity, Tshukudu offers an unforgettable stay.\n",
    "Ivory Tree Game Lodge: A great option for wildlife enthusiasts, with comfortable rooms and beautiful surroundings.\n",
    "Additionally, Pilanesberg National Park itself has various accommodation options, including resorts, safari tents, bush lodges, chalets, and self-catering choices. Families, budget travelers, and discerning guests will find something suitable for their preferences and budget. Whether you prefer rustic safari tents or luxurious five-star lodges, the abundant wildlife in this malaria-free park remains the main attraction"
   ]
  },
  {
   "cell_type": "markdown",
   "metadata": {},
   "source": [
    "**Análisis**\n",
    "\n",
    "El agregar una pieza adicional de información, en la forma del nombre de la provincia donde se localiza el parque, no le permitió al modelo y la base de conocimiento presentar una respuesta valida. Las opciones de hospedaje presentadas, si bien están en Sudáfrica, se localizan en otras provincias y algunos casos la recomendación incluye opciones en el otro lado del país.\n",
    "\n",
    "Analizando las citas y referencias presentadas se puede observar que el texto incluye el nombre del parque, pero el resto de la descripción pertenece a otro hotel en otra provincia. Esto parece indicar que habrá que hacer ajustes al tamaño del pedazo usado para crear los vectores.\n"
   ]
  },
  {
   "cell_type": "markdown",
   "metadata": {},
   "source": [
    "**Obteniendo Respuestas de la Base Conocimiento y el Modelo Fundacional**"
   ]
  },
  {
   "cell_type": "code",
   "execution_count": 20,
   "metadata": {
    "scrolled": true
   },
   "outputs": [
    {
     "name": "stdout",
     "output_type": "stream",
     "text": [
      "Respuesta despues de 1.4195 segundos:\n",
      "I don't know.\n",
      "\n",
      "Contexto:\n",
      "The host will greet guests on arrival.&nbsp;Disclaimer notification: Amenities are subject to availability and may be chargeable as per the hotel policy.\tesplanade road century city, , cape town, 7400, south africa\t7400\tZA\t27-86-1112842\tCape Town\t18.510996\t-33.890837\t4 \t1227974\trhino ridge safari lodge\tHeadLine : In a national parkLocation : With a stay at Rhino Ridge Safari Lodge in Hlabisa, you ll be 1.6 mi (2.7 km) from Hluhluwe–Imfolozi Park and 23.5 mi (37.8 km) from Centenary Centre.  This 4-star lodge is 27.4 mi (44.1 km) from Zululand Rhino Reserve and 29.7 mi (47.8 km) from Manyoni Private Game Reserve.Rooms : Make yourself at home in one of the 16 air-conditioned rooms featuring minibars. Conveniences include safes and coffee/tea makers, and housekeeping is provided daily.Dining : At Rhino Ridge Safari Lodge, enjoy a satisfying meal at the restaurant. Wrap up your day with a drink at the bar/lounge.\n",
      "\n",
      "Calificacion:0.739385\n",
      "\n",
      "Pais: South Africa, Continente:Africa, URI:s3://clean-hotel-data/hotel-data-set-ZA.xlsx\n",
      "\n",
      "Contexto:\n",
      "Special requests cannot be guaranteed.   &nbsp;Disclaimer notification: Amenities are subject to availability and may be chargeable as per the hotel policy.\t49 boekenhout street, nelspruit 1200, nelspruit, 1200, south africa\t1200\tZA\t27-13-7412527\tNelspruit\t30.96106\t-25.475395\t4 \t1267551\telephant plains game lodge\tHeadLine : In a national parkLocation : Located in Sabi Sands Game Reserve, Elephant Plains Game Lodge is in a national park, within a 15-minute drive of Greater Kruger National Park and Londolozi Game Reserve.  This 4-star lodge is 26.6 mi (42.8 km) from Kruger National Park and 4.9 mi (7.9 km) from Djuma Game Reserve.Rooms : Make yourself at home in one of the 12 air-conditioned rooms featuring minibars. Rooms have private balconies or patios. Wireless Internet access (surcharge) keeps you connected, and satellite programming is available for your entertainment. Bathrooms have separate bathtubs and showers and complimentary toiletries.Dining : At Elephant Plains Game Lodge, enjoy a satisfying meal at the restaurant. Quench your thirst with your favorite drink at the bar/lounge.\n",
      "\n",
      "Calificacion:0.713341\n",
      "\n",
      "Pais: South Africa, Continente:Africa, URI:s3://clean-hotel-data/hotel-data-set-ZA.xlsx\n",
      "\n",
      "Contexto:\n",
      "Deposit is payable by credit card and is due at the time of booking the reservation for guests paying the hotel directly.&nbsp;Disclaimer notification: Amenities are subject to availability and may be chargeable as per the hotel policy.\tfarm 440 brakfontein eastern cape off old loerie road, po box 14thornhill 6375, loerie, 6375, south africa\t6375\tZA\t27-082-4368552\tLoerie\t25.054668\t-33.901016\t4 \t1347042\trhino walking safaris\tHeadLine : In SkukuzaLocation : With a stay at Rhino Walking Safaris in Skukuza, you ll be 22.4 mi (36 km) from Kruger National Park and 14.9 mi (23.9 km) from AM Spa Kruger.  This 4-star tentalow is 18.7 mi (30.1 km) from Silolweni Lake and 19.5 mi (31.4 km) from Skukuza Golf Course.Rooms : Make yourself at home in one of the 4 guestrooms. Rooms have private balconies or patios. Bathrooms have showers and complimentary toiletries. Conveniences include desks and separate sitting areas, and housekeeping is provided daily.Dining : This tentalow is all inclusive. Rates include meals and beverages at onsite dining establishments. Charges may be applied for dining at some restaurants, special dinners and dishes, some beverages, and other amenities. At Rhino Walking Safaris, enjoy a satisfying meal at the restaurant. Wrap up your day with a drink at the bar/lounge. A complimentary full breakfast is served daily from 10 AM to noon.\n",
      "\n",
      "Calificacion:0.700014\n",
      "\n",
      "Pais: South Africa, Continente:Africa, URI:s3://clean-hotel-data/hotel-data-set-ZA.xlsx\n",
      "\n",
      "Contexto:\n",
      "Gaborone Game Reserve is 38 km from Buffalo Ridge Safari Lodge, while Gaborone Golf Course is 39 km from the property. The nearest airport is Sir Seretse Khama International, 52 km from the accommodation, and the property offers a paid airport shuttle service.&nbsp;Disclaimer notification: Amenities are subject to availability and may be chargeable as per the hotel policy.\tmadikwe game reserve, , madikwe game reserve, 2840, south africa\t2840\tZA\t+27112346500\tMadikwe Game Reserve\t26.20305\t-24.76688\t5 \t1246266\tkhandizwe river lodge\tLocated on the banks of the Crocodile River with views of the adjoining Kruger National Park, this 5-star self-catering villa features a private outdoor swimming pool and a patio with BBQ facilities.  The four-bedroom villa comes with a fully-equipped kitchen and an open-plan dining and lounge area with satellite TV. Each of the 4 bedrooms is air-conditioned and has its en-suite bathroom with a bathrobe, hairdryer and free toiletries. Other amenities include a washing machine and free WiFi.  Guests have exclusive use of the villa, landscaped gardens and swimming pool. There are various terraces and entertainment areas, from which guests have the opportunity to view the game, including elephant, hippos, crocodiles and buffalo.  There are a number of restaurants nearby, as well as a well-stocked supermarket.\n",
      "\n",
      "Calificacion:0.689210\n",
      "\n",
      "Pais: South Africa, Continente:Africa, URI:s3://clean-hotel-data/hotel-data-set-ZA.xlsx\n",
      "\n",
      "Contexto:\n",
      "Special requests are subject to availability upon check-in and may incur additional charges. Special requests cannot be guaranteed.   &nbsp;Disclaimer notification: Amenities are subject to availability and may be chargeable as per the hotel policy.\t135 umhlanga rocks drive, durban north 4051, durban, 4051, south africa\t4051\tZA\t+27 82 8214201\tDurban\t31.037276\t-29.771888\t4 \t1332925\tezulwini game lodges\tHeadLine : On a riverLocation : Located in Balule Game Reserve, Ezulwini Game Lodges is on a river and within the region of Nyani Cultural Village and Three Rondavels.  This 5-star lodge is within the region of Blyde River Canyon.Rooms : Make yourself at home in one of the 15 air-conditioned rooms featuring minibars. Your bed comes with premium bedding, and all rooms are furnished with sofa beds. Rooms have private furnished balconies or patios. Private bathrooms have complimentary toiletries and hair dryers.Dining : Grab a bite at Mondsweni & Inyati, a poolside restaurant which features a bar/lounge and a garden view. Wrap up your day with a drink at the poolside bar.\n",
      "\n",
      "Calificacion:0.688227\n",
      "\n",
      "Pais: South Africa, Continente:Africa, URI:s3://clean-hotel-data/hotel-data-set-ZA.xlsx\n"
     ]
    }
   ],
   "source": [
    "input = '''What attractions are close to Black Rhino Game Lodge, north west province in south africa?'''\n",
    "\n",
    "elapsed_time, response = retrieve_and_generate(input, retriever, llm)\n",
    "display_response(response, elapsed_time)"
   ]
  },
  {
   "cell_type": "markdown",
   "metadata": {},
   "source": [
    "**Respuesta de Copilot Edge**\n",
    "\n",
    "The Black Rhino Game Lodge is nestled in the west side of the malaria-free Pilanesberg National Park in the North West Province of South Africa. Here are some attractions near the lodge:\n",
    "\n",
    "Pilanesberg National Park: The park itself is a must-visit, covering an area of 55,000 hectares. It’s home to the Big Five (elephant, buffalo, leopard, lion, and rhinoceros), as well as other wildlife like wild dogs, hippos, and various bird species12.\n",
    "Sun City: Only 33 km away from the lodge, Sun City is a popular entertainment hotspot. You can explore its casinos, golf courses, water parks, and cultural attractions1.\n",
    "Tambuti Lodge: Located in the northwestern side of Pilanesberg National Park, Tambuti Lodge offers spacious and luxurious accommodation surrounded by the trees of the old Tamboti forest. It’s an excellent option for visitors seeking a unique safari experience3.\n",
    "Kgorogoro Lodge (Morokolo Safari Lodge): Situated on the northern slopes of the Pilanesberg mountains, Kgorogoro Lodge boasts rich varieties of African wildlife, fauna, and flora. You can book either the 4 Suite Lodge or the Executive Suite for a memorable stay4.\n",
    "Remember that the Black Rhino Game Reserve and the greater Pilanesberg National Park are only about 2.5 hours’ drive from Johannesburg, Pretoria, and the OR Tambo International Airport, making it easily accessible for travelers1. Enjoy your bushveld adventure! raction"
   ]
  },
  {
   "cell_type": "markdown",
   "metadata": {},
   "source": [
    "**Análisis**\n",
    "\n",
    "Una respuesta sencilla, aunque con merito, ya que el parque nacional es la atracción principal y la más extensa en la región. La única diferencia con respecto a la respuesta de Copilot Edge es que esta última incluye Sun City, otro conjunto de hoteles muy cercanos al parque que tiene un parque acuático."
   ]
  },
  {
   "cell_type": "markdown",
   "metadata": {},
   "source": [
    "**Obteniendo Respuestas de la Base Conocimiento y el Modelo Fundacional**"
   ]
  },
  {
   "cell_type": "code",
   "execution_count": 21,
   "metadata": {},
   "outputs": [
    {
     "name": "stdout",
     "output_type": "stream",
     "text": [
      "Respuesta despues de 8.4324 segundos:\n",
      "Here are some options for accommodation in Cape Town, Western Cape Province in South Africa:\n",
      "\n",
      "1. The Westin Cape Town - a 4-star hotel located in the city center, connected to the convention center.\n",
      "2. The Oracle - a 5-star villa in Camps Bay, close to the beach and Table Mountain.\n",
      "3. Amafu Forest Lodge - a 5-star lodge in Hoedspruit, located in the mountains and near Blyderivierspoort Hiking Trail and Greater Kruger National Park.\n",
      "4. Wescamp Villa - a 4-star villa in Camps Bay, with a private pool and views of the ocean and mountains.\n",
      "5. Hotel Roosje van de Kaap - a 4-star guesthouse in Swellendam, with antique furnishings and a restaurant serving traditional South African and Cape Malay dishes.\n",
      "6. Cotswold House - a 4-star guesthouse in Cape Town, located in Milnerton and close to the beach and shopping centers.\n",
      "7. Hoopoe House - a 4.5-star villa in Camps Bay, with private pools and views of the ocean and mountains.\n",
      "8. 25 On Chrisoliet - a 4-star villa in Randburg, near Montecasino and shopping centers.\n",
      "\n",
      "These are just a few options, and there are many more accommodations available in Cape Town and the Western Cape Province. Let me know if you have any specific preferences or requirements, and I can provide more tailored recommendations.\n",
      "\n",
      "Contexto:\n",
      "Quench your thirst with your favorite drink at the bar/lounge. A complimentary continental breakfast is included.Business, Other Amenities Featured amenities include express check-in, dry cleaning/laundry services, and multilingual staff. Free self parking is available onsite.&nbsp;Disclaimer notification: Amenities are subject to availability and may be chargeable as per the hotel policy.\t25 disa road, cape town 7441, cape town, 7441, south africa\t7441\tZA\t(27) 215565273\tCape Town\t18.48636\t-33.81999\t4 \t1013840\tthe westin cape town\tHeadLine : Connected to the convention centerRooms : Make yourself at home in one of the air-conditioned rooms featuring minibars. Your room comes with a pillowtop bed. Complimentary wireless Internet access keeps you connected, and satellite programming is available for your entertainment.\n",
      "\n",
      "Calificacion:0.730453\n",
      "\n",
      "Pais: South Africa, Continente:Africa, URI:s3://clean-hotel-data/hotel-data-set-ZA.xlsx\n",
      "\n",
      "Contexto:\n",
      "&nbsp;Disclaimer notification: Amenities are subject to availability and may be chargeable as per the hotel policy.\t41 2nd avenue parktown north partown north, parktown northjohannesburg 2193, randburg, 2193, south africa\t2193\tZA\t27-60-9770470\tRandburg\t28.03138\t-26.14091\t4 \t1456338\tthe oracle\tProperty Location With a stay at The Oracle in Cape Town (Camps Bay), you''ll be convenient to Theatre on the Bay and Table Mountain. This 5-star villa is within close proximity of Camps Bay Beach and Maiden''s Cove.Rooms Make yourself at home in of the guestrooms featuring fireplaces and flat-screen televisions. Rooms have private balconies. Private kitchens make it easy to prepare your meals. Satellite television is provided for your entertainment.Rec, Spa, Premium Amenities Don’t miss out on recreational opportunities including an outdoor pool and a spa tub. Additional features include concierge services and barbecue grills.&nbsp;Disclaimer notification: Amenities are subject to availability and may be chargeable as per the hotel policy.\t15 houghton road, cape town 8040, cape town, 8040, south africa\t8040\tZA\t0027 214 286440\tCape Town\t18.377040863\t-33.960079193\t5 \t1611198\tamafu forest lodge\tHeadLine : In the mountainsLocation : With a stay at Amafu Forest Lodge in Hoedspruit, you ll be in the mountains, and 12.1 mi (19.4 km) from Blyderivierspoort Hiking Trail and 13.5 mi (21.7 km) from Greater Kruger National Park.\n",
      "\n",
      "Calificacion:0.721408\n",
      "\n",
      "Pais: South Africa, Continente:Africa, URI:s3://clean-hotel-data/hotel-data-set-ZA.xlsx\n",
      "\n",
      "Contexto:\n",
      "Conveniences include separate sitting areas and coffee/tea makers, and housekeeping is provided on a limited basis.Rec, Spa, Premium Amenities Take advantage of recreation opportunities such as an outdoor pool, or other amenities including wireless Internet access (surcharge) and concierge services. Additional features include babysitting/childcare (surcharge) and barbecue grills.Business, Other Amenities Featured amenities include a 24-hour front desk, laundry facilities, and an elevator (lift).&nbsp;Disclaimer notification: Amenities are subject to availability and may be chargeable as per the hotel policy.\t43 central drive, cape town 8040, cape town, 8040, south africa\t8040\tZA\t0027 21 4286440\tCape Town\t18.38004\t-33.95437\t5 \t1251182\twescamp villa\tHeadLine : In Cape Town (Camps Bay)Location : Located in Cape Town (Camps Bay), this villa is within a 5-minute drive of Camps Bay Beach and Clifton Bay Beach.  This 4-star villa is 1.2 mi (1.9 km) from Table Mountain National Park and 1.9 mi (3.1 km) from Lions Head.Rooms : Make yourself comfortable in this air-conditioned villa, which features a fireplace and a private pool. A kitchen is outfitted with a refrigerator, an oven, and a stovetop. Complimentary wireless Internet access keeps you connected, and a Smart television is provided for your entertainment.\n",
      "\n",
      "Calificacion:0.712611\n",
      "\n",
      "Pais: South Africa, Continente:Africa, URI:s3://clean-hotel-data/hotel-data-set-ZA.xlsx\n",
      "\n",
      "Contexto:\n",
      "&nbsp;Disclaimer notification: Amenities are subject to availability and may be chargeable as per the hotel policy.\t14 wright street, camphersdrift6529 georgewestern cape, george, 6529, south africa\t6529\tZA\t27-44-8743804\tGeorge\t22.45973\t-33.94922\t4 \t1064518\thotel roosje van de kaap\tThis guesthouse is located in the town of Swellendam. Rooms feature antique furnishings and views of the Langeberg Mountains or the gardens. Free Wi-fi is available in all rooms.  The bright, spacious rooms at Roosje van de Kaap are individually decorated and include wooden beamed ceilings. Room service is also available.  Guests can relax by the outdoor pool or enjoy a walk through the garden. Free private parking is available on the property as well.  Roosje van de Kaap’s restaurant is decorated with paintings and serves traditional South African and Cape Malay dishes with a French influence.  It is just over 4 km from the Bontebok National Park and 115 km from Worcester. Marloth Nature Reserve is 2.5 km away.&nbsp;Disclaimer notification: Amenities are subject to availability and may be chargeable as per the hotel policy.\t5 drostdy street, swellendam 6740, swellendam, 6740, south africa\t6740\tZA\t27285143001\tSwellendam\t20.45198\t-34.01967\t4 \t1330658\tcotswold house\tHeadLine : In Cape Town (Milnerton)Location : With a stay at Cotswold House in Cape Town (Milnerton), you ll be a 4-minute drive from Milnerton Beach and 7 minutes from Canal Walk Shopping Centre.\n",
      "\n",
      "Calificacion:0.710725\n",
      "\n",
      "Pais: South Africa, Continente:Africa, URI:s3://clean-hotel-data/hotel-data-set-ZA.xlsx\n",
      "\n",
      "Contexto:\n",
      "The host will greet guests on arrival.&nbsp;Disclaimer notification: Amenities are subject to availability and may be chargeable as per the hotel policy.\touteniqua street, 0181 pretoriawaterkloof park, pretoria, 0184, south africa\t0184\tZA\t27-82-5506050\tPretoria\t28.264005\t-25.792395\t4 \t1554278\thoopoe house\tProperty Location With a stay at Hoopoe House in Cape Town (Camps Bay), you''ll be convenient to Theatre on the Bay and Table Mountain. This 4.5-star villa is within close proximity of Camps Bay Beach and Maiden''s Cove.Rooms Make yourself at home in one of the air-conditioned rooms featuring fireplaces and private pools. Rooms have private furnished patios. Kitchens are outfitted with refrigerators, stovetops, and microwaves. Flat-screen televisions are provided for your entertainment.Rec, Spa, Premium Amenities Take advantage of recreation opportunities such as an outdoor pool or take in the view from a terrace and a garden. Additional amenities include concierge services and barbecue grills.Business, Other Amenities Free self parking is available onsite.&nbsp;Disclaimer notification: Amenities are subject to availability and may be chargeable as per the hotel policy.\t16 hoopoe avenue, camps baycape town 8040western cape, cape town, 8040, south africa\t8040\tZA\t0027 21 4286440\tCape Town\t18.38146\t-33.9671\t4 \t6093742\t25 on chrisoliet\tHeadLine : Near MontecasinoLocation : With a stay at 25 On Chrisoliet in Randburg, you ll be within a 5-minute drive of Montecasino and Fourways Mall.\n",
      "\n",
      "Calificacion:0.707478\n",
      "\n",
      "Pais: South Africa, Continente:Africa, URI:s3://clean-hotel-data/hotel-data-set-ZA.xlsx\n"
     ]
    }
   ],
   "source": [
    "input = '''Can you suggest accommodation in cape town, western cape province in south africa?'''\n",
    "\n",
    "elapsed_time, response = retrieve_and_generate(input, retriever, llm)\n",
    "display_response(response, elapsed_time)"
   ]
  },
  {
   "cell_type": "markdown",
   "metadata": {},
   "source": [
    "**Respuesta de Copilot Edge**\n",
    "\n",
    "Certainly! Cape Town, in the Western Cape Province of South Africa, offers a variety of accommodation options. Here are a few recommendations:\n",
    "\n",
    "The Glen Boutique Hotel & Spa: A 5-star stay in Sea Point, Cape Town. Enjoy luxurious rooms with modern furniture, private bathrooms, and stunning views of the mountains or the Atlantic Ocean. The hotel features a spa, pool, and complimentary breakfast buffet1.\n",
    "Radisson Blu Hotel Waterfront: Another 5-star option with breathtaking views of Table Mountain or the ocean. The hotel offers free Wi-Fi, a private marina, and water sports activities. It’s close to the V&A Waterfront and the CBD2.\n",
    "Airbnb: Consider checking out Airbnb for unique vacation rentals, apartments, and townhouses in Cape Town. You can find places with ocean views, private pools, and stylish interiors34.\n",
    "Remember to explore the Sea Point promenade, nearby beaches, and iconic attractions during your stay. Enjoy your trip!raction"
   ]
  },
  {
   "cell_type": "markdown",
   "metadata": {},
   "source": [
    "**Análisis**\n",
    "\n",
    "La respuesta proporcionada por el modelo y la base de conocimiento es parcialmente correcta ya que incluye tres hoteles localizados en la Ciudad del Cabo, tal y como se solicitó. Como en el caso anterior, las citas relacionadas con los hoteles incorrectos dejan ver que comparten porciones de una descripción parcial de un hotel en la Ciudad del Cabo, sin nombre con los detalles del hotel en Johannesburgo. Este es una indicación que hay que refinar el contenido de los archivos o cambiar el tamaño del pedazo o *chunk size*."
   ]
  },
  {
   "cell_type": "markdown",
   "metadata": {},
   "source": [
    "**Obteniendo Respuestas de la Base Conocimiento y el Modelo Fundacional**"
   ]
  },
  {
   "cell_type": "code",
   "execution_count": 22,
   "metadata": {},
   "outputs": [
    {
     "name": "stdout",
     "output_type": "stream",
     "text": [
      "Respuesta despues de 8.1436 segundos:\n",
      "Here are some options for accommodation in cape town, western cape province in south africa, with a minimum rating of 4:\n",
      "\n",
      "1. Wescamp Villa - 4-star villa, located in Cape Town (Camps Bay), features separate sitting areas, coffee/tea makers, outdoor pool, wireless Internet access (surcharge), concierge services, babysitting/childcare (surcharge), and barbecue grills.\n",
      "\n",
      "2. Four on C Luxury Suites by TotalStay - 4-star apartment, located in Cape Town (Sea Point), offers fireplaces, flat-screen televisions, furnished balconies, full-sized refrigerators/freezers, ovens, stovetops, and satellite television.\n",
      "\n",
      "3. The Oracle - 5-star villa, located in Cape Town (Camps Bay), provides fireplaces, flat-screen televisions, private balconies, private kitchens, an outdoor pool, a spa tub, and barbecue grills.\n",
      "\n",
      "4. Amafu Forest Lodge - 4.5-star villa, located in Hoedspruit, features a private pool, a flat-screen TV, a private furnished balcony, a kitchen with a full-sized refrigerator/freezer, an oven, and a stovetop, complimentary wireless Internet access, and satellite programming.\n",
      "\n",
      "5. Cape Standard Guest House - 4-star guesthouse, located in Cape Town (Green Point), offers air-conditioned rooms with minibars, Select Comfort beds, complimentary wireless Internet access, satellite programming, private bathrooms with showers, and complimentary toiletries.\n",
      "\n",
      "Contexto:\n",
      "Conveniences include separate sitting areas and coffee/tea makers, and housekeeping is provided on a limited basis.Rec, Spa, Premium Amenities Take advantage of recreation opportunities such as an outdoor pool, or other amenities including wireless Internet access (surcharge) and concierge services. Additional features include babysitting/childcare (surcharge) and barbecue grills.Business, Other Amenities Featured amenities include a 24-hour front desk, laundry facilities, and an elevator (lift).&nbsp;Disclaimer notification: Amenities are subject to availability and may be chargeable as per the hotel policy.\t43 central drive, cape town 8040, cape town, 8040, south africa\t8040\tZA\t0027 21 4286440\tCape Town\t18.38004\t-33.95437\t5 \t1251182\twescamp villa\tHeadLine : In Cape Town (Camps Bay)Location : Located in Cape Town (Camps Bay), this villa is within a 5-minute drive of Camps Bay Beach and Clifton Bay Beach.  This 4-star villa is 1.2 mi (1.9 km) from Table Mountain National Park and 1.9 mi (3.1 km) from Lions Head.Rooms : Make yourself comfortable in this air-conditioned villa, which features a fireplace and a private pool. A kitchen is outfitted with a refrigerator, an oven, and a stovetop. Complimentary wireless Internet access keeps you connected, and a Smart television is provided for your entertainment.\n",
      "\n",
      "Calificacion:0.704956\n",
      "\n",
      "Pais: South Africa, Continente:Africa, URI:s3://clean-hotel-data/hotel-data-set-ZA.xlsx\n",
      "\n",
      "Contexto:\n",
      "&nbsp;Disclaimer notification: Amenities are subject to availability and may be chargeable as per the hotel policy.\t13 totnes ave, , cape town, 8001, south africa\t8001\tZA\t27-0214386440\tCape Town\t18.377742\t-33.963165\t4 \t5457141\tfour on c luxury suites by totalstay\tHeadLine : In Cape Town (Sea Point)Location : A stay at Four on C Luxury Suites places you in the heart of Cape Town, steps from Sea Point Swimming Pool and Sea Point Promenade.  This 4-star apartment is 2.3 mi (3.6 km) from Camps Bay Beach and 3.2 mi (5.2 km) from Cape Town Cruise Terminal.Rooms : Make yourself at home in one of the 2 air-conditioned rooms featuring fireplaces and flat-screen televisions. Rooms have private furnished balconies. Kitchens are outfitted with full-sized refrigerators/freezers, ovens, and stovetops. Satellite television is provided for your entertainment.\n",
      "\n",
      "Calificacion:0.699068\n",
      "\n",
      "Pais: South Africa, Continente:Africa, URI:s3://clean-hotel-data/hotel-data-set-ZA.xlsx\n",
      "\n",
      "Contexto:\n",
      "&nbsp;Disclaimer notification: Amenities are subject to availability and may be chargeable as per the hotel policy.\t41 2nd avenue parktown north partown north, parktown northjohannesburg 2193, randburg, 2193, south africa\t2193\tZA\t27-60-9770470\tRandburg\t28.03138\t-26.14091\t4 \t1456338\tthe oracle\tProperty Location With a stay at The Oracle in Cape Town (Camps Bay), you''ll be convenient to Theatre on the Bay and Table Mountain. This 5-star villa is within close proximity of Camps Bay Beach and Maiden''s Cove.Rooms Make yourself at home in of the guestrooms featuring fireplaces and flat-screen televisions. Rooms have private balconies. Private kitchens make it easy to prepare your meals. Satellite television is provided for your entertainment.Rec, Spa, Premium Amenities Don’t miss out on recreational opportunities including an outdoor pool and a spa tub. Additional features include concierge services and barbecue grills.&nbsp;Disclaimer notification: Amenities are subject to availability and may be chargeable as per the hotel policy.\t15 houghton road, cape town 8040, cape town, 8040, south africa\t8040\tZA\t0027 214 286440\tCape Town\t18.377040863\t-33.960079193\t5 \t1611198\tamafu forest lodge\tHeadLine : In the mountainsLocation : With a stay at Amafu Forest Lodge in Hoedspruit, you ll be in the mountains, and 12.1 mi (19.4 km) from Blyderivierspoort Hiking Trail and 13.5 mi (21.7 km) from Greater Kruger National Park.\n",
      "\n",
      "Calificacion:0.697141\n",
      "\n",
      "Pais: South Africa, Continente:Africa, URI:s3://clean-hotel-data/hotel-data-set-ZA.xlsx\n",
      "\n",
      "Contexto:\n",
      "This 4.5-star villa is 3.3 mi (5.3 km) from Table Mountain and 5.8 mi (9.4 km) from Victoria and Alfred Waterfront.Rooms : Make yourself comfortable in this villa, which features a private pool and a flat-screen TV. There s a private furnished balcony. A kitchen is outfitted with a full-sized refrigerator/freezer, an oven, and a stovetop. Complimentary wireless Internet access keeps you connected, and satellite programming is available for your entertainment. A private bathroom with a separate bathtub and shower features a deep soaking tub.CheckIn Instructions : Extra-person charges may apply and vary depending on property policy. Government-issued photo identification and a credit card, debit card, or cash deposit are required at check-in for incidental charges. Special requests are subject to availability upon check-in and may incur additional charges. Special requests cannot be guaranteed.   &nbsp;Disclaimer notification: Amenities are subject to availability and may be chargeable as per the hotel policy.\t13 totnes ave, , cape town, 8001, south africa\t8001\tZA\t27-0214386440\tCape Town\t18.377742\t-33.963165\t4 \t5457141\tfour on c luxury suites by totalstay\tHeadLine : In Cape Town (Sea Point)Location : A stay at Four on C Luxury Suites places you in the heart of Cape Town, steps from Sea Point Swimming Pool and Sea Point Promenade.\n",
      "\n",
      "Calificacion:0.692748\n",
      "\n",
      "Pais: South Africa, Continente:Africa, URI:s3://clean-hotel-data/hotel-data-set-ZA.xlsx\n",
      "\n",
      "Contexto:\n",
      "&nbsp;Disclaimer notification: Amenities are subject to availability and may be chargeable as per the hotel policy.\tloader street,de waterkant, , cape town, 8005, south africa\t8005\tZA\t27-82 413 2299\tCape Town\t18.415413\t-33.913831\t4 \t1348594\tcape standard guest house\tHeadLine : In Cape Town (Green Point)Location : In the heart of Cape Town, Cape Standard Guest House is within a 5-minute drive of Cape Town Stadium and Greenmarket Square.  This 4-star guesthouse is 1.6 mi (2.6 km) from Two Oceans Aquarium and 1.8 mi (3 km) from Cape Town International Convention Centre.Rooms : Make yourself at home in one of the 9 air-conditioned rooms featuring minibars. Your room comes with a Select Comfort bed. Complimentary wireless Internet access keeps you connected, and satellite programming is available for your entertainment. Private bathrooms with showers feature complimentary toiletries and hair dryers.Dining : Take advantage of the guesthouse s room service (during limited hours). Quench your thirst with your favorite drink at the bar/lounge.\n",
      "\n",
      "Calificacion:0.684576\n",
      "\n",
      "Pais: South Africa, Continente:Africa, URI:s3://clean-hotel-data/hotel-data-set-ZA.xlsx\n"
     ]
    }
   ],
   "source": [
    "input = '''Can you suggest accommodation in cape town, western cape province in south africa, minimum rating of 4?'''\n",
    "\n",
    "elapsed_time, response = retrieve_and_generate(input, retriever, llm)\n",
    "display_response(response, elapsed_time)"
   ]
  },
  {
   "cell_type": "markdown",
   "metadata": {},
   "source": [
    "**Respuesta de Copilot Edge**\n",
    "\n",
    "Certainly! Cape Town, in the Western Cape Province of South Africa, offers a variety of 4-star accommodation options. Here are some recommendations:\n",
    "\n",
    "Home Suite Hotels Station House: Located in Sea Point, this hotel provides an outdoor swimming pool, free private parking, a fitness center, and a terrace. Guests can also enjoy a bar12.\n",
    "Home Suite Hotels Sea Point: Set in Cape Town, near Three Anchor Bay Beach, this hotel features an outdoor swimming pool, shared lounge, and terrace. Some units even have a balcony with city views12.\n",
    "O’ Two Hotel: Situated in Mouille Point, this hotel offers free bikes, an outdoor swimming pool, fitness center, and a terrace. It’s close to Mouille Point Beach and Three Anchor Bay Beach12.\n",
    "Romney Park Luxury Apartments: Located in Green Point, this 5-star aparthotel offers spacious apartments with kitchen facilities, en-suite bathrooms, and outdoor balconies with panoramic views12.\n",
    "Remember to explore the nearby attractions and enjoy your stay in beautiful Cape Town!raction"
   ]
  },
  {
   "cell_type": "markdown",
   "metadata": {},
   "source": [
    "**Análisis**\n",
    "\n",
    "Como en el caso anterior, la respuesta proporcionada por el modelo y la base de conocimiento es parcialmente correcta ya que incluye tres hoteles localizados en la Ciudad del Cabo, tal y como se solicitó. Como en el caso anterior, las citas relacionadas con los hoteles incorrectos dejan ver que comparten porciones de una descripción parcial de un hotel en la Ciudad del Cabo, sin nombre con los detalles del hotel en Johannesburgo. Este es una indicación que hay que refinar el contenido de los archivos o cambiar el tamaño del pedazo o *chunk size*."
   ]
  },
  {
   "cell_type": "markdown",
   "metadata": {},
   "source": [
    "**Obteniendo Respuestas de la Base Conocimiento y el Modelo Fundacional**"
   ]
  },
  {
   "cell_type": "code",
   "execution_count": 23,
   "metadata": {},
   "outputs": [
    {
     "name": "stdout",
     "output_type": "stream",
     "text": [
      "Respuesta despues de 9.2779 segundos:\n",
      "Here are some options for accommodation in Hoedspruit, Limpopo Province, South Africa:\n",
      "\n",
      "1. Lemon Tree B&B - This bed and breakfast is located in Kloof and offers an outdoor pool, tennis court, and free Wi-Fi. It is 1 km from Kloof Maytime shopping centre and 35 km from King Shaka International Airport.\n",
      "\n",
      "2. Sloane Square 7 - This apartment is centrally located in Cape Town and offers a kitchen with a full-sized refrigerator/freezer and an oven. It is 0.7 mi (1.2 km) from Kloof Street and 3.3 mi (5.3 km) from Table Mountain.\n",
      "\n",
      "3. Valley Bushveld Country Lodge - This bed and breakfast is located in Addo and offers a family restaurant, bar/lounge, and garden view. It is 20.8 mi (33.5 km) from Addo Elephant National Park and 27.7 mi (44.6 km) from Nelson Mandela Bay Stadium.\n",
      "\n",
      "4. ITC Hospitality Group Icon Building - This apartment is located in Cape Town City Centre and offers a kitchen with a full-sized refrigerator/freezer and an oven. It is steps from Long Street and Bree Street and 0.2 mi (0.4 km) from Cape Town International Convention Centre.\n",
      "\n",
      "5. Hunter's Country House - This 5-star country house is located in Plettenberg Bay and offers a private furnished patio, flat-screen television with satellite programming, and complimentary wireless Internet access. It is near the beach and 3.1 mi (5.1 km) from Knysna Ziplines and 4.5 mi (7.2 km) from Garden Route National Park.\n",
      "\n",
      "Contexto:\n",
      "Deposit is payable by bank transfer or credit card and is due within 48 hours of booking the reservation.&nbsp;Disclaimer notification: Amenities are subject to availability and may be chargeable as per the hotel policy.\t374 kierrie klapper street hoedspruit wildlife estate, hoedspruit wildlife estatepo box 1622hoedspruit 1380, hoedspruit, 1380, south africa\t1380\tZA\t27615235041\tHoedspruit\t30.968502\t-24.353032\t4 \t1775141\tlemon tree b&b\tOffering outdoor pool and a tennis court, Lemon Tree B&B is located in Kloof. Free Wi-Fi access is available in all areas.  Featuring a a garden view, rooms here will provide you with a flat-screen TV, a balcony and a minibar. There is also an electric kettle. Featuring a bath or shower, private bathrooms also come with a hairdryer and towels.  At Lemon Tree B&B you will find a garden and a terrace. The property offers free private parking on site.  The bed and breakfast is 1 km from Kloof Maytime shopping centre and King Shaka International Airport is 35 km away. An airport shuttle is available upon request. Payment before arrival via bank transfer is required. The property will contact you after you book to provide instructions. This property will not accommodate hen, stag or similar parties.\n",
      "\n",
      "Calificacion:0.740474\n",
      "\n",
      "Pais: South Africa, Continente:Africa, URI:s3://clean-hotel-data/hotel-data-set-ZA.xlsx\n",
      "\n",
      "Contexto:\n",
      "Quench your thirst with your favorite drink at the bar/lounge. Buffet breakfasts are served on weekdays from 7:00 AM to 9:00 AM for a fee.CheckIn Instructions :   Extra-person charges may apply and vary depending on property policyGovernment-issued photo identification and a credit card, debit card, or cash deposit may be required at check-in for incidental chargesSpecial requests are subject to availability upon check-in and may incur additional charges; special requests cannot be guaranteedSafety features at this property include a fire extinguisher, a smoke detector, a security system, and a first aid kit  Special Instructions : This property offers transfers from the airport (surcharges may apply). Guests must contact the property with arrival details before travel, using the contact information on the booking confirmation.&nbsp;Disclaimer notification: Amenities are subject to availability and may be chargeable as per the hotel policy.\tr531, hoedspruit 1380limpopo, hoedspruit, 1380, south africa\t1380\tZA\t27724801334\tHoedspruit\t30.818841\t-24.401403\t4 \t5320605\tsloane square 7\tHeadLine : Near Kloof StreetLocation : With a stay at this apartment, you ll be centrally located in Cape Town, a 5-minute drive from Castle of Good Hope and 9 minutes from Victoria and Alfred Waterfront.  This 4-star apartment is 0.7 mi (1.2 km) from Kloof Street and 3.3 mi (5.3 km) from Table Mountain.Rooms : Make yourself comfortable in this apartment, featuring a kitchen with a full-sized refrigerator/freezer and an oven.\n",
      "\n",
      "Calificacion:0.727871\n",
      "\n",
      "Pais: South Africa, Continente:Africa, URI:s3://clean-hotel-data/hotel-data-set-ZA.xlsx\n",
      "\n",
      "Contexto:\n",
      "Guests must contact the property in advance for check-in instructions. Front desk staff will greet guests on arrival.&nbsp;Disclaimer notification: Amenities are subject to availability and may be chargeable as per the hotel policy.\tr40 kapama private game reserve kruger national park area, kruger national parkhoedspruit 1380limpopo, hoedspruit, 1380, south africa\t1380\tZA\t+27123680600\tHoedspruit\t31.083813\t-24.455422\t5 \t1053117\tvalley bushveld country lodge\tHeadLine : On a riverLocation : With a stay at Valley Bushveld Country Lodge in Addo, you ll be 20.8 mi (33.5 km) from Addo Elephant National Park and 27.7 mi (44.6 km) from Nelson Mandela Bay Stadium.  This 4-star bed & breakfast is 30.1 mi (48.4 km) from Port Elizabeth City Hall and 31.5 mi (50.7 km) from King s Beach.Rooms : Make yourself at home in one of the 6 air-conditioned rooms featuring plasma televisions. Your Select Comfort bed comes with premium bedding. Rooms have private patios. Private bathrooms with showers feature complimentary toiletries and hair dryers.Dining : Satisfy your appetite at the bed & breakfast s family restaurant, where you can enjoy drinks at the bar/lounge, take in the garden view, or dine alfresco.\n",
      "\n",
      "Calificacion:0.723699\n",
      "\n",
      "Pais: South Africa, Continente:Africa, URI:s3://clean-hotel-data/hotel-data-set-ZA.xlsx\n",
      "\n",
      "Contexto:\n",
      "&nbsp;Disclaimer notification: Amenities are subject to availability and may be chargeable as per the hotel policy.\tr40 kapama private game reserve national kruger park area, kapama private game reservehoedspruit 1380limpopo, hoedspruit, 1380, south africa\t1380\tZA\t27-12-3680600\tHoedspruit\t31.051059\t-24.466662\t5 \t5141923\titc hospitality group icon building\tHeadLine : In Cape Town (Cape Town City Centre)Location : A stay at this apartment places you in the heart of Cape Town, steps from Long Street and Bree Street.  This 4-star apartment is 0.2 mi (0.4 km) from Cape Town International Convention Centre and 0.3 mi (0.5 km) from Greenmarket Square.Rooms : Make yourself comfortable in this individually decorated apartment, featuring a kitchen with a full-sized refrigerator/freezer and an oven. The apartment has a Tempur-Pedic bed. A 40-inch Smart television with satellite programming provides entertainment, while complimentary wireless Internet access keeps you connected.\n",
      "\n",
      "Calificacion:0.723018\n",
      "\n",
      "Pais: South Africa, Continente:Africa, URI:s3://clean-hotel-data/hotel-data-set-ZA.xlsx\n",
      "\n",
      "Contexto:\n",
      "Special Instructions : There is no front desk at this property. To make arrangements for check-in please contact the property at least 48 hours before arrival using the information on the booking confirmation. If you are planning to arrive after 7 PM please contact the property in advance using the information on the booking confirmation. Guests will receive an email 2 weeks before arrival with check-in instructions. The host will greet guests on arrival.&nbsp;Disclaimer notification: Amenities are subject to availability and may be chargeable as per the hotel policy.\tzandspruit, 1380 hoedspruitlimpopo, hoedspruit, 1380, south africa\t1380\tZA\t32-477290769\tHoedspruit\t30.925594\t-24.372005\t4 \t1159051\thunter's country house\tHeadLine : Near Harkerville Saturday Village MarketLocation : With a stay at Hunter s Country House in Plettenberg Bay, you ll be near the beach, just steps from Cape Floral Region Protected Areas and a 4-minute drive from Harkerville Saturday Village Market.  This 5-star country house is 3.1 mi (5.1 km) from Knysna Ziplines and 4.5 mi (7.2 km) from Garden Route National Park.Rooms : Make yourself at home in one of the 19 guestrooms featuring minibars and DVD players. Your Select Comfort bed comes with premium bedding. Rooms have private furnished patios. Flat-screen televisions with satellite programming provide entertainment, while complimentary wireless Internet access keeps you connected.\n",
      "\n",
      "Calificacion:0.720323\n",
      "\n",
      "Pais: South Africa, Continente:Africa, URI:s3://clean-hotel-data/hotel-data-set-ZA.xlsx\n"
     ]
    }
   ],
   "source": [
    "input = '''Can you suggest accommodation in Hoedspruit, limpopo province in south africa?'''\n",
    "\n",
    "elapsed_time, response = retrieve_and_generate(input, retriever, llm)\n",
    "display_response(response, elapsed_time)"
   ]
  },
  {
   "cell_type": "markdown",
   "metadata": {},
   "source": [
    "**Respuesta de Copilot Edge**\n",
    "\n",
    "Certainly! Hoedspruit, located in the Limpopo Province of South Africa, offers a variety of accommodation options. Here are some recommendations:\n",
    "\n",
    "The Hoedspruit Hotel: This cozy hotel brings the best of Hoedspruit to your doorstep. Enjoy comfortable rooms with flat-screen TVs, air conditioning, and refrigerators. Free parking is available, and it’s conveniently located near popular art galleries and restaurants1.\n",
    "Sunbirds Oasis Lodge: A tranquil stay in Hoedspruit. Explore the surrounding wildlife and enjoy the peaceful atmosphere2.\n",
    "Airbnb: Consider checking out Airbnb for unique vacation rentals, self-catering houses, and lodges in Hoedspruit. You can find options with stunning views, private pools, and close proximity to nature reserves3.\n",
    "Remember to explore the nearby Blyde River Canyon, Kruger National Park, and other natural wonders during your stay.raction"
   ]
  },
  {
   "cell_type": "markdown",
   "metadata": {},
   "source": [
    "**Análisis**\n",
    "\n",
    "La respuesta proporcionada por el modelo y la base de conocimiento es incorrecta ya que ninguno de los hoteles está localizado cerca de Hoedspruit. Como en el caso anterior, las citas relacionadas con los hoteles incorrectos dejan ver que comparten porciones de una descripción parcial de un hotel en la Hoedspruit, sin nombre con los detalles del hotel en otro lugar. Este es una indicación que hay que refinar el contenido de los archivos o cambiar el tamaño del pedazo o *chunk size*.\n"
   ]
  },
  {
   "cell_type": "markdown",
   "metadata": {},
   "source": [
    "**Obteniendo Respuestas de la Base Conocimiento y el Modelo Fundacional**"
   ]
  },
  {
   "cell_type": "code",
   "execution_count": 24,
   "metadata": {},
   "outputs": [
    {
     "name": "stdout",
     "output_type": "stream",
     "text": [
      "Respuesta despues de 2.4259 segundos:\n",
      "Sure! Here are 5 places to stay in Monterrey, Nuevo Leon in Mexico:\n",
      "1. Hotel Parque Central\n",
      "2. Hotel El Rancho\n",
      "3. Conrad San Luis Potosi\n",
      "4. NH Monterrey La Fe\n",
      "5. Hotel Hacienda Sánchez\n",
      "\n",
      "Contexto:\n",
      "The hotel has a bar and a restaurant. Other facilities include a business centre, a fitness centre as well as laundry and dry cleaning services.  Hotel Parque Central is 10 minutes’ drive from Cintermex Exhibition Centre and the Santa Lucia river walk. Monterrey International Airport is 35 minutes’ drive from the hotel. Food & beverage services at this property may be limited or unavailable due to Coronavirus (COVID-19). Due to Coronavirus (COVID-19), this property has reduced reception and service operating hours. In accordance with government guidelines to minimise transmission of the Coronavirus (COVID-19), this property may request additional documentation from guests to validate identity, travel itinerary and other relevant information, during dates where such guidelines exist.&nbsp;Disclaimer notification: Amenities are subject to availability and may be chargeable as per the hotel policy.\tavenida pino suarez sur 323, esquina washington64000 monterreynuevo león, monterrey, 64000, mexico\t64000\tMX\t+528181507100\tMonterrey\t-100.31924\t25.67466\t4 \t1408625\thotel el rancho\tJust a 5-minute drive from central Navojoa, Hotel El Rancho offers an outdoor pool and extensive gardens with a children’s playground. Each air-conditioned room has cable TV and free Wi-Fi.  Rooms at El Rancho feature simple, rustic-style décor and include a safe. All rooms have a private bathroom with a shower.  El Rancho’s restaurant opens from 07:00 until 14:30, serving international cuisine. You can also find bars and restaurants in the centre of Navojoa.\n",
      "\n",
      "Calificacion:0.616352\n",
      "\n",
      "Pais: Mexico, Continente:Americas, URI:s3://clean-hotel-data/hotel-data-set-MX.xlsx\n",
      "\n",
      "Contexto:\n",
      "Due to Coronavirus (COVID-19), this property adheres to strict physical distancing measures. Due to Coronavirus (COVID-19), wearing a face mask is mandatory in all indoor common areas.&nbsp;Disclaimer notification: Amenities are subject to availability and may be chargeable as per the hotel policy.\tcalle carlos salazar 2420, colonia obrera fierro64590 monterreynuevo leon, monterrey, 64590, mexico\t64590\tMX\tN/A\tMonterrey\t-100.29069\t25.6797\t4 \t1524537\tconrad san luis potosi\tHeadLine : Near La Loma Sport CenterLocation : When you stay at Hyatt Regency San Luis Potosi in San Luis Potosi, you ll be near the airport, within a 5-minute drive of Arenia Casino and La Loma Sport Center.  This 4.5-star hotel is 3.7 mi (6 km) from Tangamanga Park I and 1.2 mi (1.9 km) from San Luis Square.Rooms : Make yourself at home in one of the 134 individually decorated guestrooms, featuring refrigerators and iPod docking stations. Wired and wireless Internet access is complimentary, while 42-inch Smart televisions with cable programming provide entertainment. Bathrooms feature bathtubs or showers with rainfall showerheads and hair dryers. Conveniences include phones, as well as laptop-compatible safes and desks.Dining : Enjoy a meal at the restaurant, or stay in and take advantage of the hotel s 24-hour room service. Relax with a refreshing drink from the poolside bar or one of the 2 bars/lounges.\n",
      "\n",
      "Calificacion:0.611079\n",
      "\n",
      "Pais: Mexico, Continente:Americas, URI:s3://clean-hotel-data/hotel-data-set-MX.xlsx\n",
      "\n",
      "Contexto:\n",
      "Complimentary wireless Internet access keeps you connected, and LED televisions are provided for your entertainment. Conveniences include separate sitting areas and microwaves, and housekeeping is provided once per stay.Dining : Grab a bite from the grocery/convenience store, or stay in and take advantage of the condo resort s room service (during limited hours).CheckIn Instructions : Extra-person charges may apply and vary depending on property policy. Government-issued photo identification and a credit card, debit card, or cash deposit are required at check-in for incidental charges. Special requests are subject to availability upon check-in and may incur additional charges. Special requests cannot be guaranteed.   Please note that cultural norms and guest policies may differ by country and by property. The policies listed are provided by the property. &nbsp;Disclaimer notification: Amenities are subject to availability and may be chargeable as per the hotel policy.\tblvd lazaro cardenas 1501 colonia el medano, el medano23450 cabo san lucasbaja california sur, cabo san lucas, 23450, mexico\t23450\tMX\t52-6241259355\tCabo San Lucas\t-109.910664\t22.88656\t4 \t1632335\tnh monterrey la fe\tHeadLine : Near Paseo La FeLocation : With a stay at NH Monterrey La Fe, you ll be centrally located in San Nicolas de los Garza, within a 10-minute drive of Fundidora Park and Paseo La Fe.\n",
      "\n",
      "Calificacion:0.609782\n",
      "\n",
      "Pais: Mexico, Continente:Americas, URI:s3://clean-hotel-data/hotel-data-set-MX.xlsx\n",
      "\n",
      "Contexto:\n",
      "&nbsp;Disclaimer notification: Amenities are subject to availability and may be chargeable as per the hotel policy.\tblvd lazaro cardenas 1501 colonia el medano, el medano23450 cabo san lucasbaja california sur, cabo san lucas, 23450, mexico\t23450\tMX\t52-6241259355\tCabo San Lucas\t-109.910664\t22.88656\t4 \t1632335\tnh monterrey la fe\tHeadLine : Near Paseo La FeLocation : With a stay at NH Monterrey La Fe, you ll be centrally located in San Nicolas de los Garza, within a 10-minute drive of Fundidora Park and Paseo La Fe.  This 4-star hotel is 4.7 mi (7.6 km) from Estadio BBVA Bancomer and 7.5 mi (12.1 km) from Macroplaza.Rooms : Make yourself at home in one of the 152 air-conditioned rooms featuring minibars and flat-screen televisions. Complimentary wireless Internet access keeps you connected, and satellite programming is available for your entertainment. Private bathrooms with showers feature rainfall showerheads and complimentary toiletries. Conveniences include phones, as well as safes and desks.Dining : Satisfy your appetite for lunch or dinner at NH Monterrey La Fe Restau, a restaurant which specializes in Mexican cuisine, or stay in and take advantage of the 24-hour room service. Quench your thirst with your favorite drink at the bar/lounge.\n",
      "\n",
      "Calificacion:0.605257\n",
      "\n",
      "Pais: Mexico, Continente:Americas, URI:s3://clean-hotel-data/hotel-data-set-MX.xlsx\n",
      "\n",
      "Contexto:\n",
      "Popular points of interest near Galeria Plaza Monterrey include MARCO Museum Monterrey, Macroplaza and Pabellon M. The nearest airport is Monterrey International, 33 km from the accommodation, and the property offers a paid airport shuttle service.&nbsp;Disclaimer notification: Amenities are subject to availability and may be chargeable as per the hotel policy.\t411 avenida constitución edificio, monterrey centro,, 64000 monterrey, mexico, monterrey, 64000, mexico\t64000\tMX\tN/A\tMonterrey\t-100.32286\t25.66608\t5 \t1404200\thotel hacienda sánchez\tFeaturing an outdoor swimming pool, Hacienda Sánchez is situated 1.5 km north of the historic centre of Valladolid. It offers colonial-style accommodation set in beautiful gardens. Free Wi-fi and parking are available.  Hotel Hacienda Sánchez features simple air-conditioned rooms equipped with cable TV, as well as one-bedroom villas accommodating up to 4 people.  The hotel serves a continental and American breakfast, both at an additional cost.  Hacienda Sánchez is close to several Mayan ruins, including Chichén-Itzá 55 km to the west, and Ek Balam, 25 km north. The Yucatán city of Izamal is just over 1 hours’ drive away. Chichén-Itzá International Airport can be reach in 30 minutes by car. In response to Coronavirus (COVID-19), additional safety and sanitation measures are in effect at this property.\n",
      "\n",
      "Calificacion:0.601579\n",
      "\n",
      "Pais: Mexico, Continente:Americas, URI:s3://clean-hotel-data/hotel-data-set-MX.xlsx\n"
     ]
    }
   ],
   "source": [
    "input = '''Can you suggest 5 places to stay in Monterrey, Nuevo Leon in Mexico?'''\n",
    "\n",
    "elapsed_time, response = retrieve_and_generate(input, retriever, llm)\n",
    "display_response(response, elapsed_time)"
   ]
  },
  {
   "cell_type": "markdown",
   "metadata": {},
   "source": [
    "**Respuesta de Copilot Edge**\n",
    "\n",
    "Certainly! If you’re planning a trip to Monterrey, Nuevo León, here are five great places to stay:\n",
    "\n",
    "Safi Royal Luxury Metropolitan: Located in San Pedro Garza Garcia, this 5-star hotel offers an outdoor pool, free parking, and a fitness center. Enjoy panoramic views and excellent service12.\n",
    "Best Western PREMIER Monterrey Aeropuerto: Just a 5-minute drive from Monterrey International Airport, this hotel features an outdoor pool, a gym, and air-conditioned rooms with free Wi-Fi13.\n",
    "Galeria Plaza Monterrey: Conveniently situated in the center of Monterrey, this 5-star hotel offers city views, an outdoor pool, and free WiFi. Don’t miss the restaurant and bar13.\n",
    "Holiday Inn & Suites - Monterrey Apodaca Zona Airport: Located in Apodaca, this 5-star IHG hotel provides an outdoor pool, free private parking, and a fitness center. Perfect for travelers near the airport13.\n",
    "Fiesta Americana Monterrey Pabellón M.: Situated in Monterrey Centro, this hotel offers an outdoor pool and stunning city views. The on-site restaurant and bar on the 16th floor provide a memorable experience12.\n",
    "Enjoy your stay in vibrant Monterrey!raction"
   ]
  },
  {
   "cell_type": "markdown",
   "metadata": {},
   "source": [
    "**Análisis**\n",
    "\n",
    "La respuesta proporcionada incluye tres hoteles de Monterrey y hoteles en otros lugares. Como en los cases anterior, las citas relacionadas con los hoteles incorrectos dejan ver que comparten porciones de una descripción parcial de un hotel sin nombre con los detalles del hotel en Monterrey. Este es una indicación que hay que refinar el contenido de los archivos o cambiar el tamaño del pedazo o *chunk size*.\n"
   ]
  },
  {
   "cell_type": "markdown",
   "metadata": {},
   "source": [
    "**Obteniendo Respuestas de la Base Conocimiento y el Modelo Fundacional**"
   ]
  },
  {
   "cell_type": "code",
   "execution_count": 25,
   "metadata": {},
   "outputs": [
    {
     "name": "stdout",
     "output_type": "stream",
     "text": [
      "Respuesta despues de 3.7394 segundos:\n",
      "1. NH Monterrey La Fe - 1.5 km away from Tec de Monterrey.\n",
      "2. Hotel El Rancho - 2.5 km away from Tec de Monterrey.\n",
      "3. Hotel Parque Central - 3.5 km away from Tec de Monterrey.\n",
      "4. Conrad San Luis Potosi - 4.5 km away from Tec de Monterrey.\n",
      "5. Holiday Inn Monterrey Centro - 5 km away from Tec de Monterrey.\n",
      "\n",
      "Contexto:\n",
      "Popular points of interest near Galeria Plaza Monterrey include MARCO Museum Monterrey, Macroplaza and Pabellon M. The nearest airport is Monterrey International, 33 km from the accommodation, and the property offers a paid airport shuttle service.&nbsp;Disclaimer notification: Amenities are subject to availability and may be chargeable as per the hotel policy.\t411 avenida constitución edificio, monterrey centro,, 64000 monterrey, mexico, monterrey, 64000, mexico\t64000\tMX\tN/A\tMonterrey\t-100.32286\t25.66608\t5 \t1404200\thotel hacienda sánchez\tFeaturing an outdoor swimming pool, Hacienda Sánchez is situated 1.5 km north of the historic centre of Valladolid. It offers colonial-style accommodation set in beautiful gardens. Free Wi-fi and parking are available.  Hotel Hacienda Sánchez features simple air-conditioned rooms equipped with cable TV, as well as one-bedroom villas accommodating up to 4 people.  The hotel serves a continental and American breakfast, both at an additional cost.  Hacienda Sánchez is close to several Mayan ruins, including Chichén-Itzá 55 km to the west, and Ek Balam, 25 km north. The Yucatán city of Izamal is just over 1 hours’ drive away. Chichén-Itzá International Airport can be reach in 30 minutes by car. In response to Coronavirus (COVID-19), additional safety and sanitation measures are in effect at this property.\n",
      "\n",
      "Calificacion:0.644970\n",
      "\n",
      "Pais: Mexico, Continente:Americas, URI:s3://clean-hotel-data/hotel-data-set-MX.xlsx\n",
      "\n",
      "Contexto:\n",
      "The hotel has a bar and a restaurant. Other facilities include a business centre, a fitness centre as well as laundry and dry cleaning services.  Hotel Parque Central is 10 minutes’ drive from Cintermex Exhibition Centre and the Santa Lucia river walk. Monterrey International Airport is 35 minutes’ drive from the hotel. Food & beverage services at this property may be limited or unavailable due to Coronavirus (COVID-19). Due to Coronavirus (COVID-19), this property has reduced reception and service operating hours. In accordance with government guidelines to minimise transmission of the Coronavirus (COVID-19), this property may request additional documentation from guests to validate identity, travel itinerary and other relevant information, during dates where such guidelines exist.&nbsp;Disclaimer notification: Amenities are subject to availability and may be chargeable as per the hotel policy.\tavenida pino suarez sur 323, esquina washington64000 monterreynuevo león, monterrey, 64000, mexico\t64000\tMX\t+528181507100\tMonterrey\t-100.31924\t25.67466\t4 \t1408625\thotel el rancho\tJust a 5-minute drive from central Navojoa, Hotel El Rancho offers an outdoor pool and extensive gardens with a children’s playground. Each air-conditioned room has cable TV and free Wi-Fi.  Rooms at El Rancho feature simple, rustic-style décor and include a safe. All rooms have a private bathroom with a shower.  El Rancho’s restaurant opens from 07:00 until 14:30, serving international cuisine. You can also find bars and restaurants in the centre of Navojoa.\n",
      "\n",
      "Calificacion:0.641258\n",
      "\n",
      "Pais: Mexico, Continente:Americas, URI:s3://clean-hotel-data/hotel-data-set-MX.xlsx\n",
      "\n",
      "Contexto:\n",
      "&nbsp;Disclaimer notification: Amenities are subject to availability and may be chargeable as per the hotel policy.\t. 23410 cabo san lucas, 23455 cabo san lucasbaja california sur, cabo san lucas, 23410, mexico\t23410\tMX\t52-624-1634600\tCabo San Lucas\t-109.899153\t22.899789\t4 \t1679571\tholiday inn monterrey centro\tThe modern hotel comprises a total of 393 spacious rooms (of which 65 are singles, two are suites, and two are disability-friendly rooms), spread across two buildings. The air-conditioned complex features a fire safety system, a lobby area with a reception desk manned around the clock, a bar, a restaurants, conference rooms, and secure parking. Also available is a tobacconist, a taxi service, a car hire service, and a 24-hour medical emergency service. Guests may also take advantage of the hotel&#039;s business center with photocopier, fax, printer, and PC, and there is a public Internet connection for all. Moreover, there is room and laundry service, a dry-cleaning service, child supervision, and the hotel is partially disability-friendly.The Holiday Inn Monterrey Centro is a Tourist hotel. Located in City Center area. Shopping is within walking distance and the nightlife/restaurants are located in the hotel.\n",
      "\n",
      "Calificacion:0.625709\n",
      "\n",
      "Pais: Mexico, Continente:Americas, URI:s3://clean-hotel-data/hotel-data-set-MX.xlsx\n",
      "\n",
      "Contexto:\n",
      "Due to Coronavirus (COVID-19), this property adheres to strict physical distancing measures. Due to Coronavirus (COVID-19), wearing a face mask is mandatory in all indoor common areas.&nbsp;Disclaimer notification: Amenities are subject to availability and may be chargeable as per the hotel policy.\tcalle carlos salazar 2420, colonia obrera fierro64590 monterreynuevo leon, monterrey, 64590, mexico\t64590\tMX\tN/A\tMonterrey\t-100.29069\t25.6797\t4 \t1524537\tconrad san luis potosi\tHeadLine : Near La Loma Sport CenterLocation : When you stay at Hyatt Regency San Luis Potosi in San Luis Potosi, you ll be near the airport, within a 5-minute drive of Arenia Casino and La Loma Sport Center.  This 4.5-star hotel is 3.7 mi (6 km) from Tangamanga Park I and 1.2 mi (1.9 km) from San Luis Square.Rooms : Make yourself at home in one of the 134 individually decorated guestrooms, featuring refrigerators and iPod docking stations. Wired and wireless Internet access is complimentary, while 42-inch Smart televisions with cable programming provide entertainment. Bathrooms feature bathtubs or showers with rainfall showerheads and hair dryers. Conveniences include phones, as well as laptop-compatible safes and desks.Dining : Enjoy a meal at the restaurant, or stay in and take advantage of the hotel s 24-hour room service. Relax with a refreshing drink from the poolside bar or one of the 2 bars/lounges.\n",
      "\n",
      "Calificacion:0.624968\n",
      "\n",
      "Pais: Mexico, Continente:Americas, URI:s3://clean-hotel-data/hotel-data-set-MX.xlsx\n",
      "\n",
      "Contexto:\n",
      "&nbsp;Disclaimer notification: Amenities are subject to availability and may be chargeable as per the hotel policy.\tblvd lazaro cardenas 1501 colonia el medano, el medano23450 cabo san lucasbaja california sur, cabo san lucas, 23450, mexico\t23450\tMX\t52-6241259355\tCabo San Lucas\t-109.910664\t22.88656\t4 \t1632335\tnh monterrey la fe\tHeadLine : Near Paseo La FeLocation : With a stay at NH Monterrey La Fe, you ll be centrally located in San Nicolas de los Garza, within a 10-minute drive of Fundidora Park and Paseo La Fe.  This 4-star hotel is 4.7 mi (7.6 km) from Estadio BBVA Bancomer and 7.5 mi (12.1 km) from Macroplaza.Rooms : Make yourself at home in one of the 152 air-conditioned rooms featuring minibars and flat-screen televisions. Complimentary wireless Internet access keeps you connected, and satellite programming is available for your entertainment. Private bathrooms with showers feature rainfall showerheads and complimentary toiletries. Conveniences include phones, as well as safes and desks.Dining : Satisfy your appetite for lunch or dinner at NH Monterrey La Fe Restau, a restaurant which specializes in Mexican cuisine, or stay in and take advantage of the 24-hour room service. Quench your thirst with your favorite drink at the bar/lounge.\n",
      "\n",
      "Calificacion:0.623686\n",
      "\n",
      "Pais: Mexico, Continente:Americas, URI:s3://clean-hotel-data/hotel-data-set-MX.xlsx\n"
     ]
    }
   ],
   "source": [
    "input = '''Can you suggest 5 places to stay in Monterrey, Nuevo Leon in Mexico, close to Tec de Monterrey?'''\n",
    "\n",
    "elapsed_time, response = retrieve_and_generate(input, retriever, llm)\n",
    "display_response(response, elapsed_time)"
   ]
  },
  {
   "cell_type": "markdown",
   "metadata": {},
   "source": [
    "**Respuesta de Copilot Edge**\n",
    "\n",
    "Certainly! If you’re looking for accommodations near Tec de Monterrey, here are five options to consider:\n",
    "\n",
    "Safi Royal Luxury Metropolitan: Located in San Pedro Garza Garcia, this 5-star hotel offers an outdoor swimming pool, free private parking, a fitness center, and a restaurant. Enjoy a comfortable stay with excellent amenities1.\n",
    "Best Western PREMIER Monterrey Aeropuerto: Just a 5-minute drive from Monterrey International Airport, this hotel features an outdoor pool, a gym, and air-conditioned rooms with free Wi-Fi1.\n",
    "Galeria Plaza Monterrey: Attractively set in the center of Monterrey, this 5-star hotel offers air-conditioned rooms, an outdoor swimming pool, free Wi-Fi, and a fitness center. Enjoy city views and convenient amenities1.\n",
    "Holiday Inn & Suites - Monterrey Apodaca Zona Airport: Situated in Apodaca, this 5-star IHG hotel provides an outdoor pool, free private parking, and a fitness center. Perfect for travelers near the airport1.\n",
    "Fiesta Americana Monterrey Pabellón M.: Offering an outdoor pool and city views, this hotel is located in Monterrey Centro. Enjoy panoramic vistas from the on-site restaurant and bar on the 16th floor1.\n",
    "These options provide a range of amenities and convenient locations for your stay in vibrant Monterrey!raction"
   ]
  },
  {
   "cell_type": "markdown",
   "metadata": {},
   "source": [
    "**Análisis**\n",
    "\n",
    "La respuesta recibida es consistente con la anterior pero se puede ver también que Copilot Edge tampoco pudo proveer hoteles cercanos al Tec de Monterrey, en Monterrey.\n"
   ]
  },
  {
   "cell_type": "markdown",
   "metadata": {},
   "source": [
    "**Obteniendo Respuestas de la Base Conocimiento y el Modelo Fundacional**"
   ]
  },
  {
   "cell_type": "code",
   "execution_count": 26,
   "metadata": {},
   "outputs": [
    {
     "name": "stdout",
     "output_type": "stream",
     "text": [
      "Respuesta despues de 2.6919 segundos:\n",
      "I would recommend the Hotel Rancho Gran Relax. It is a luxurious hacienda-style hotel with a spa area and a business center. It is located near Mexico City and offers a multitude of possibilities for events, such as karting, a car race track, Gotcha or a shooting range. The on-site restaurant serves delicious Mexican and international cuisine.\n",
      "\n",
      "Contexto:\n",
      "Front desk staff will greet guests on arrival.&nbsp;Disclaimer notification: Amenities are subject to availability and may be chargeable as per the hotel policy.\t24av. 16 de septiembre barrio de mexicanos, centro históricosan cristóbal de las casaschiapas, san cristobal de las casas, 29200, mexico\t29200\tMX\t52-967-6747784\tSan Cristobal De Las Casas\t-92.63877\t16.739124\t4 \t1489571\thotel rancho gran relax\tThe luxurious hacienda-style Hotel Rancho Gran Relax is conveniently situated on a vast piece of land just a 20-minute drive away from the town of Tulancingo with its archaeological site and shopping venues. Teotihuacan with its world-famous pyramids can be reached within a 30-minute drive, while the metropolis of Mexico City with its countless attractions can be reached within 45 minutes by car. The rural hotel offers charming country-style rooms with wrought-iron furnishings. Features include complimentary wireless internet access, air-conditioning and TV. The hotel offers an excellent spa area and a business centre as well as a multitude of possibilities for events, such as karting, a car race track, Gotcha or a shooting range. The on-site restaurant serves delicious Mexican and international cuisine. This hotel is a perfect choice for all types of events and incentives near Mexico City.\n",
      "\n",
      "Calificacion:0.520364\n",
      "\n",
      "Pais: Mexico, Continente:Americas, URI:s3://clean-hotel-data/hotel-data-set-MX.xlsx\n",
      "\n",
      "Contexto:\n",
      "Envision the stay surrounded by natural beauty at this hotel. Lush gardens and exotic flowers and foliage create a gorgeous landscape, whch can be viewed from the balcony. Spacious, modern rooms give guests space to breathe and allow them to step into a world of relaxation. The hotel provides a service for every need and a variety of fun activities for everyone. It can provide babysitters, transportation, and any service needed to make guests stay a happy and fun experience.  The rooms feature 2 double beds and a sofa bed, remote controlled cable TV, telephone, A/C, alarm clock, fan, full size mirror, shower, shaving mirror, hair dryer, and bathroom amenities.  Guests can choose from a variety of activities designed to delight and entertain, no matter where their interests lie.  The hotel offers a variety of elegant dining experiences for guests. Whether indoors or outdoors, dine surrounded by the beauty of Mexico and enjoy the excellent service found. Enjoy breakfast, lunch or dinner in a casual, polished setting with family and friends.\n",
      "\n",
      "Calificacion:0.519937\n",
      "\n",
      "Pais: Mexico, Continente:Americas, URI:s3://clean-hotel-data/hotel-data-set-MX.xlsx\n",
      "\n",
      "Contexto:\n",
      "Wrap up your day with a drink at the poolside bar. Full breakfasts are available daily from 8 AM to noon for a fee.CheckIn Instructions :   Extra-person charges may apply and vary depending on property policyGovernment-issued photo identification and a credit card, debit card, or cash deposit may be required at check-in for incidental chargesSpecial requests are subject to availability upon check-in and may incur additional charges; special requests cannot be guaranteedSafety features at this property include a fire extinguisher, a smoke detector, and a first aid kitBe prepared: check the latest COVID-19 travel requirements and measures in place for this destination before you travel.  Special Instructions : This property offers transfers from the airport (surcharges may apply). Guests must contact the property with arrival details before travel, using the contact information on the booking confirmation. To make arrangements for check-in please contact the property at least 48 hours before arrival using the information on the booking confirmation. Guests must contact the property in advance for check-in instructions. Front desk staff will greet guests on arrival.&nbsp;Disclaimer notification: Amenities are subject to availability and may be chargeable as per the hotel policy.\tcamino escénico a playa la ropa s n playa la ropa, 40880 zihuatanejo, ixtapa-zihuatanejo, 40880, mexico\t40880\tMX\t52-755-5557000\tIxtapa-Zihuatanejo\t-101.549751\t17.633951\t4 \t1130255\tdoña juana cecilia plaza jalisco\tThis city hotel is located on Jalisco Square, only three streets from the Universidad Autónoma of Tamaulipas.\n",
      "\n",
      "Calificacion:0.515444\n",
      "\n",
      "Pais: Mexico, Continente:Americas, URI:s3://clean-hotel-data/hotel-data-set-MX.xlsx\n",
      "\n",
      "Contexto:\n",
      "Front desk staff will greet guests on arrival.&nbsp;Disclaimer notification: Amenities are subject to availability and may be chargeable as per the hotel policy.\tcalle 4 sur col. la veleta, colonia  la veleta77780 tulumquintana roo, tulum, 77780, mexico\t77780\tMX\t52-984-2282756\tTulum\t-87.469997\t20.200851\t4 \t1290976\tel dorado maroma a spa resort by karisma\tLocated in Maroma Beach and offering the renowned Gourmet Inclusive Experience by Karisma, El Dorado Maroma is a resort featuring 2 beachfront locations plus a beachfront wedding chapel. The full-service spa offers massages, facials, special body treatments and a beauty salon with an extra charge.  The suites and rooms feature views of the lush tropical gardens, and are decorated with a contemporary Caribbean style. All feature air conditioning, ceiling fans, satellite TV, a minibar stock with beer, soft drinks, water and juices and a coffee maker. The bathroom is equipped with vanity mirrors, hairdryer, and a shower.  The Gourmet Inclusive Experience offers different restaurants boasting a fusion of Mexican and Caribbean cuisine, typical dishes from the Orient at the restaurant, Italian cuisine, and a gourmet restaurant presenting an open-kitchen concept with burgers, tacos, fish, brochettes, BBQ and typical Spanish paella. There are several swim-up bars, a classic lounge bar and 24-hour room service.  Cancun International Airport can be reached in a 60-minute drive. Upon check-in photo identification and credit card is required.\n",
      "\n",
      "Calificacion:0.507683\n",
      "\n",
      "Pais: Mexico, Continente:Americas, URI:s3://clean-hotel-data/hotel-data-set-MX.xlsx\n",
      "\n",
      "Contexto:\n",
      "Guests must show proof of child age at check-in. In the event the child s age differs from that in the booking reservation, the hotel may charge the difference in rate. Guests who book a Honeymoon rate plan must present a valid marriage certificate issued less than 1 year prior to travel to receive the promotional benefits. The hotel reserves the right to amend the rate if valid proof is not provided.&nbsp;Disclaimer notification: Amenities are subject to availability and may be chargeable as per the hotel policy.\tfraccionamiento playacar bahia del espiritu santo esquina abraira de arriva, esquina abraira de arriva77710 playa del carmen, playa del carmen, 77710, mexico\t77710\tMX\t52-984-8734960\tPlaya Del Carmen\t-87.076892\t20.620471\t4 \t1411315\tcasa jasave hotel\tCasa Jasave Hotel is located in Tequisquiapan, just a few steps away from the town centre. Free WiFi access and free private parking are available.  Each room here will provide you with a cable TV, bed linen and a private bathroom  that comes with free toiletries. Laundry facilities are also available.  At Casa Jasave Hotel you will find a 24-hour front desk and an elevator. Netflix access is included in every room.  You will be able to find a variety of restaurants within a 10-minute drive, while Querétaro International Airport is just 45 minutes away by car. In response to Coronavirus (COVID-19), additional safety and sanitation measures are in effect at this property.\n",
      "\n",
      "Calificacion:0.504636\n",
      "\n",
      "Pais: Mexico, Continente:Americas, URI:s3://clean-hotel-data/hotel-data-set-MX.xlsx\n"
     ]
    }
   ],
   "source": [
    "input = '''I want to stay with my wife for a romantic weekend in Mexico City. We want to have a nice massage within the hotel.'''\n",
    "\n",
    "elapsed_time, response = retrieve_and_generate(input, retriever, llm)\n",
    "display_response(response, elapsed_time)"
   ]
  },
  {
   "cell_type": "markdown",
   "metadata": {},
   "source": [
    "**Respuesta de ChatGpt**\n",
    "\n",
    "Mexico City offers many luxurious hotels perfect for a romantic weekend. Here are a few options that include massage services within the hotel:\n",
    "\n",
    "1. Las Alcobas, a Luxury Collection Hotel\n",
    "Located in the upscale Polanco district, Las Alcobas offers elegant rooms and a serene spa. The hotel features a full-service spa with a variety of massage treatments, ensuring a relaxing experience for you and your wife.\n",
    "\n",
    "2. The St. Regis Mexico City\n",
    "This hotel is known for its luxurious amenities and exceptional service. The Remède Spa offers a range of treatments, including massages, facials, and body treatments. The hotel’s central location also provides easy access to many of the city’s attractions.\n",
    "\n",
    "3. Four Seasons Hotel Mexico City\n",
    "Situated on the Paseo de la Reforma, this hotel combines luxury with comfort. The spa offers a variety of massage treatments, and you can also enjoy the beautiful garden courtyard and the rooftop pool.\n",
    "\n",
    "4. Hotel Marquis Reforma\n",
    "This elegant hotel on Paseo de la Reforma features the Spa Marquis, offering an extensive menu of massages and wellness treatments. It’s a perfect place to unwind and enjoy a romantic weekend.\n",
    "\n",
    "5. JW Marriott Hotel Mexico City\n",
    "Located in the Polanco district, this hotel offers a luxurious stay with an on-site spa that provides various massage treatments. The hotel’s prime location also means you’re close to excellent dining and shopping options.\n",
    "\n",
    "These hotels will provide a romantic and relaxing environment for your weekend getaway."
   ]
  },
  {
   "cell_type": "markdown",
   "metadata": {},
   "source": [
    "**Análisis**\n",
    "\n",
    "La respuesta de nuestro modelo no es acertada en cuanto a la ciudad requerida. Esto se puede deber a que estamos complementando al modelo con una parte del total de nuestros registros de hoteles. Aun así debemos de cuidar de que en la respuesta tenga mayor peso el destino el cual usuario está buscando.\n",
    "Por otro lado la respuesta fue acertada en cuanto a las amenidades que se buscaban en el hotel, en este caso uns spa.\n",
    "\n",
    "El resultado comparativo con chatgpt fue más acertado en cuanto a que los hoteles sugeridos si se encuentran en la ciudad destino."
   ]
  },
  {
   "cell_type": "markdown",
   "metadata": {},
   "source": [
    "**Obteniendo Respuestas de la Base Conocimiento y el Modelo Fundacional**"
   ]
  },
  {
   "cell_type": "code",
   "execution_count": 27,
   "metadata": {},
   "outputs": [
    {
     "name": "stdout",
     "output_type": "stream",
     "text": [
      "Respuesta despues de 1.7394 segundos:\n",
      "I recommend the Dreams Vista Cancun Golf & Spa Resort - All Inclusive, the Dreams Playa Mujeres Golf & Spa Resort All Inclusive and the Ocean Club Suites.\n",
      "\n",
      "Contexto:\n",
      "All rooms have different styles, free wifi service, air conditioning, private bathroom.  The Villa du Golf à Cancun is located in the hotel zone near the Chedraui Selecto supermarket, the entrance to the public beach Caracol, the nightclub area (Coco Bongo, Mandala), the international convention center (Cancun ICC), as well as many restaurants.  The nearest bus stop is 200 metres away.  The airport is located 25 km from the villa. Airport shuttle service is available for a fee and upon request.  In the villa you can enjoy a home made breakfast cooked at the moment, and a coexistence with the other guests and owners of the villa. This property will not accommodate hen, stag or similar parties. In response to Coronavirus (COVID-19), additional safety and sanitation measures are in effect at this property. Please inform La Villa du Golf à Cancun Hotel Boutique in advance of your expected arrival time. You can use the Special Requests box when booking, or contact the property directly with the contact details provided in your confirmation. A shuttle service to and from the airport is available upon request (with additional charge).  Payment must be made upon check-in. Cash payments have 5% off in Mexican Pesos and 3% off in US dollar and Euro.  Late check-in is available and all requests for late arrival are subject to confirmation by the property.\n",
      "\n",
      "Calificacion:0.631167\n",
      "\n",
      "Pais: Mexico, Continente:Americas, URI:s3://clean-hotel-data/hotel-data-set-MX.xlsx\n",
      "\n",
      "Contexto:\n",
      "Huatulco International Airport is a 50-minute drive away.&nbsp;Disclaimer notification: Amenities are subject to availability and may be chargeable as per the hotel policy.\tcamino a playa mermejita, 70946 mazunte, san pedro pochutla, 70946, mexico\t70946\tMX\t+5219585876232\tSan Pedro Pochutla\t-96.55974\t15.66339\t4 \t1450100\tdreams playa mujeres golf & spa resort all inclusive\tPerfectly situated in the exclusive gated community of Playa Mujeres, within a world-famous golf course, rests the stunning AAA Four Diamond Dreams Playa Mujeres Golf & Spa Resort.  This all-suite resort boasts 502 graciously appointed and luxuriously equipped suites, surrounded by secluded white sand beaches and the turquoise Caribbean Sea.  Three levels of swimming pools spanning over 65,000 square feet, including two infinity pools with breathtaking ocean views, six hot tubs, a children’s pool, a water park for little ones, a water park for all ages.  Located just 10 minutes from downtown Cancun and 35 minutes from Cancun International Airport, this luxurious resort provides an ideal vacation setting for couples and couples with children.  At Dreams Playa Mujeres Golf & Spa Resort, guests will enjoy the benefits of Unlimited Luxury®, where everything is included and no wristband — unlimited premium drinks at any of our 13 bars and lounges, gourmet à la carte dining, room service, daily refreshed mini-bar, pool and beach wait Service.\n",
      "\n",
      "Calificacion:0.607350\n",
      "\n",
      "Pais: Mexico, Continente:Americas, URI:s3://clean-hotel-data/hotel-data-set-MX.xlsx\n",
      "\n",
      "Contexto:\n",
      "&nbsp;Disclaimer notification: Amenities are subject to availability and may be chargeable as per the hotel policy.\t7 poniente 105, colonia centro histórico72000 puebla, puebla, 72000, mexico\t72000\tMX\t52-222-2290909\tPuebla\t-98.200873\t19.042594\t4 \t1723283\tdreams vista golf and spa resort\tHeadLine : Near Extreme AdventureLocation : Located in Cancun, Dreams Vista Cancun Golf & Spa Resort - All Inclusive is by the ocean, within a 10-minute drive of Puerto Cancun Golf Course and El Meco Archaeological Site.  This 4.5-star resort is 3.1 mi (5 km) from Puerto Cancun Marina Town Center and 3.4 mi (5.5 km) from Plaza Las Americas.Rooms : Make yourself at home in one of the 416 air-conditioned rooms featuring minibars and Smart televisions. Your bed comes with down comforters and premium bedding. Rooms have private furnished balconies or patios. 48-inch flat-screen televisions with cable programming provide entertainment, while wireless Internet access (surcharge) keeps you connected. Private bathrooms with showers feature complimentary toiletries and hair dryers.Dining : This resort is all inclusive. Rates include meals and beverages at onsite dining establishments. Charges may be applied for dining at some restaurants, special dinners and dishes, some beverages, and other amenities. Grab a bite to eat at one of the resort s 8 restaurants, or stay in and take advantage of the 24-hour room service. Snacks are also available at the coffee shop/cafe.\n",
      "\n",
      "Calificacion:0.595476\n",
      "\n",
      "Pais: Mexico, Continente:Americas, URI:s3://clean-hotel-data/hotel-data-set-MX.xlsx\n",
      "\n",
      "Contexto:\n",
      "Appropriate efforts are made to provide advance notice to the registered guest before entering an occupied guestroom.Front desk staff will greet guests on arrival.&nbsp;Disclaimer notification: Amenities are subject to availability and may be chargeable as per the hotel policy.\tcarretera barra de navidad km. 3.5 zona hotelera sur, zona hotelera sur48390 puerto vallartajalisco, puerto vallarta, 48390, mexico\t48390\tMX\t52-322-2265000\tPuerto Vallarta\t-105.2435\t20.58356\t5 \t1140853\thotel emporio cancun\tHeadLine : In Cancun (Zona Hotelera)Location : With a stay at Emporio Cancun Optional All Inclusive in Cancun (Zona Hotelera), you ll be within a 10-minute drive of La Isla Shopping Mall and Maya Museum of Cancun.  This 4-star resort is 12.4 mi (20 km) from Moon Palace Golf Club and 0.4 mi (0.6 km) from Iberostar Cancun Golf Course.Rooms : Make yourself at home in one of the 450 air-conditioned guestrooms. Wireless Internet access (surcharge) keeps you connected, and cable programming is available for your entertainment. Bathrooms have hair dryers and toothbrushes and toothpaste. Conveniences include phones, as well as safes and coffee/tea makers.Dining : All-inclusive rates are available at this resort. Meals and beverages at onsite dining establishments are included in all-inclusive rates. Charges may be applied for dining at some restaurants, special dinners and dishes, some beverages, and other amenities.\n",
      "\n",
      "Calificacion:0.594369\n",
      "\n",
      "Pais: Mexico, Continente:Americas, URI:s3://clean-hotel-data/hotel-data-set-MX.xlsx\n",
      "\n",
      "Contexto:\n",
      "&nbsp;Disclaimer notification: Amenities are subject to availability and may be chargeable as per the hotel policy.\tmanzana 4 lote 3 sector l, bahias de huatulco oax, bahias de huatulco oax, 70987, mexico\t70987\tMX\tN/A\tBahias De Huatulco Oax\t-96.2302\t15.8056\t4 \t1311739\tocean club suites\tThe hotel is located in the exclusive Golf Course of Pok-ta-Pok in Cancun's hotel zone, 25 minutes from the International Airport and 15 minutes from downtown. It is surrounded by green lush gardens and at a short distance from restaurants, shopping malls and entertainment centers thus becoming an ideal place for families who want to have fun and relax.  The modern hotel features 39 suites and is located in the exclusive Golf Course of Pok-ta-Pok in Cancun's hotel zone.The services include a bar-restaurant, free shuttle to and from the beach, tennis and squash courts, golf course, swimming pool, game room, Beach Club, wedding facilities, meeting rooms, shops, daily activities for children and adults and beautiful gardens. In addition you can find a travel agency, a car rental, concierge, doctor, laundry, babysitter and room service.  Al suites of this hotel are equipped with golf course view balconies, living room, dining room and small kitchen. They also have 2 double beds, 1 sofa bed, AC, ceiling fan, satellite TV, telephone, data port, safe deposit box, coffee maker, microwave oven, blender and toaster.\n",
      "\n",
      "Calificacion:0.593416\n",
      "\n",
      "Pais: Mexico, Continente:Americas, URI:s3://clean-hotel-data/hotel-data-set-MX.xlsx\n"
     ]
    }
   ],
   "source": [
    "input = '''I want to do a a golf weekend with my friends in Cancun. What hotels do you recommend that have their own golf course?'''\n",
    "\n",
    "elapsed_time, response = retrieve_and_generate(input, retriever, llm)\n",
    "display_response(response, elapsed_time)"
   ]
  },
  {
   "cell_type": "markdown",
   "metadata": {},
   "source": [
    "**Respuesta de ChatGpt**\n",
    "\n",
    "Cancun offers several excellent hotels with their own golf courses, perfect for a golf weekend. Here are some top recommendations:\n",
    "\n",
    "1. Moon Palace Cancun\n",
    "Description: Moon Palace Cancun features a 27-hole Jack Nicklaus Signature golf course. The resort offers luxurious accommodations, multiple dining options, and a range of activities.\n",
    "Facilities: Golf academy, pro shop, golf packages, spa, and fine dining.\n",
    "2. Iberostar Cancun\n",
    "Description: Iberostar Cancun boasts an 18-hole championship golf course designed by Isao Aoki. The resort offers beautiful beachfront views, a variety of restaurants, and numerous amenities.\n",
    "Facilities: Clubhouse, golf shop, spa, multiple swimming pools, and entertainment options.\n",
    "3. The Ritz-Carlton, Cancun\n",
    "Description: The Ritz-Carlton, Cancun, while not having its own golf course, offers access to several nearby courses, including the Iberostar Cancun Golf Club and El Camaleon Mayakoba Golf Club.\n",
    "Facilities: Luxurious accommodations, fine dining, spa services, and concierge service to arrange golfing activities.\n",
    "4. Dreams Vista Cancun Golf & Spa Resort\n",
    "Description: This resort features a Greg Norman-designed golf course at Playa Mujeres Golf Club. The all-inclusive resort provides a range of activities and luxurious accommodations.\n",
    "Facilities: Golf packages, pro shop, spa, multiple dining options, and rooftop pool.\n",
    "5. Secrets Playa Mujeres Golf & Spa Resort\n",
    "Description: An adults-only resort with access to the 18-hole Playa Mujeres Golf Club, designed by Greg Norman. The resort offers all-inclusive luxury, perfect for a golf weekend.\n",
    "Facilities: Golf packages, pro shop, multiple restaurants, bars, spa, and beachfront access.\n",
    "Tips for Booking\n",
    "Early Reservations: Golf courses can get booked up quickly, so make sure to reserve tee times in advance.\n",
    "Packages: Look for golf packages that include accommodations, meals, and golf rounds to get the best value.\n",
    "Group Discounts: If you are traveling with a group, inquire about group rates or special deals.\n",
    "Would you like more information on any of these hotels or assistance with booking?"
   ]
  },
  {
   "cell_type": "markdown",
   "metadata": {},
   "source": [
    "**Análisis**\n",
    "\n",
    "Esta respuesta fue mucho más acertada que la anterior en cuanto a que la selección de hoteles concuerda con la ciudad o área requerida. También recomienda hoteles con las amenidades requeridas, en este caso golf.\n",
    "\n",
    "Un aspecto a mejorar en cuanto a la respuesta de chatgpt es la legibilidad. Al hacer una lista de hoteles en tu respuesta se muestra de mejor manera los resultados.\n"
   ]
  },
  {
   "cell_type": "markdown",
   "metadata": {},
   "source": [
    "**Obteniendo Respuestas de la Base Conocimiento y el Modelo Fundacional**"
   ]
  },
  {
   "cell_type": "code",
   "execution_count": 28,
   "metadata": {},
   "outputs": [
    {
     "name": "stdout",
     "output_type": "stream",
     "text": [
      "Respuesta despues de 5.6546 segundos:\n",
      "Sure! Here are some hotels near Ueno Park in Tokyo:\n",
      "1. Mitsui Garden Hotel Ueno Tokyo - This 4-star hotel is just a 5-minute drive from Tokyo Dome and Tokyo Skytree, and it's only 0.3 mi (0.5 km) from Ueno Park.\n",
      "2. MONday Apart Premium Ueno Okachimachi - This 4-star aparthotel is located in Tokyo's Ueno district, just 0.5 mi (0.8 km) from Ueno Park.\n",
      "3. Park Hotel Tokyo - This 4-star hotel is located in Tokyo's Minato district, about 1.5 mi (2.4 km) from Tokyo Tower and 1.7 mi (2.8 km) from Tokyo Imperial Palace. While it's not as close to Ueno Park as the other two options, it's still a great choice for travelers who want to be centrally located in Tokyo.\n",
      "\n",
      "Contexto:\n",
      "Due to Coronavirus (COVID-19), this property has reduced reception and service operating hours. Guests under the age of 18 can only check in with a parent or official guardian.&nbsp;Disclaimer notification: Amenities are subject to availability and may be chargeable as per the hotel policy.\t3 chome-4-7 nishishinjuku, shinjuku city, tokyo 160-0023, japan, tokyo, 160-0023, japan\t160-0023\tJP\t+81 3-6258-1111\tTokyo\t139.69233\t35.68594\t5 \t1020628\tcandeo ueno park\tHeadLine : In Tokyo (Taito)Location : With a stay at Candeo Hotels Uenokoen, you ll be centrally located in Tokyo, within a 5-minute drive of Tokyo Skytree and Ueno Park.  This 4-star hotel is 3 mi (4.8 km) from Tokyo Dome and 6.4 mi (10.3 km) from Tokyo Tower.Rooms : Make yourself at home in one of the 268 guestrooms featuring refrigerators and LCD televisions. Complimentary wired and wireless Internet access keeps you connected, and digital programming provides entertainment. Private bathrooms with shower/tub combinations feature complimentary toiletries and bidets. Conveniences include blackout drapes/curtains, housekeeping is provided on request, and irons/ironing boards can be requested.Dining : At Candeo Hotels Uenokoen, enjoy a satisfying meal at the restaurant.\n",
      "\n",
      "Calificacion:0.697949\n",
      "\n",
      "Pais: Japan, Continente:Asia, URI:s3://clean-hotel-data/hotel-data-set-JP.xlsx\n",
      "\n",
      "Contexto:\n",
      "Quench your thirst with your favorite drink at the bar/lounge.CheckIn Instructions :   Extra-person charges may apply and vary depending on property policyGovernment-issued photo identification and a credit card, debit card, or cash deposit may be required at check-in for incidental chargesSpecial requests are subject to availability upon check-in and may incur additional charges; special requests cannot be guaranteedThis property accepts credit cards  Special Instructions : This property offers transfers from the train station. Guests must contact the property with arrival details before travel, using the contact information on the booking confirmation. The front desk is open daily from 6 AM - 11 PM. Front desk staff will greet guests on arrival.&nbsp;Disclaimer notification: Amenities are subject to availability and may be chargeable as per the hotel policy.\t4847 furumi oh aza shinano cho kamiminochi gun kamiminochi-gun, kamiminochi-gunshinanomachi 389-1302nagano prefecture, shinano, 389-1302, japan\t389-1302\tJP\t+81 26 2582111\tShinano\t138.234776\t36.833977\t4 \t1031102\tmitsui garden hotel ueno\tHeadLine : Near Ueno ParkLocation : With a stay at Mitsui Garden Hotel Ueno Tokyo, you ll be centrally located in Tokyo, within a 5-minute drive of Tokyo Dome and Tokyo Skytree.  This 4-star hotel is 0.3 mi (0.5 km) from Ueno Park and 5.2 mi (8.4 km) from Tokyo Tower.Rooms : Make yourself at home in one of the 242 guestrooms featuring refrigerators and flat-screen televisions.\n",
      "\n",
      "Calificacion:0.697239\n",
      "\n",
      "Pais: Japan, Continente:Asia, URI:s3://clean-hotel-data/hotel-data-set-JP.xlsx\n",
      "\n",
      "Contexto:\n",
      "&nbsp;Disclaimer notification: Amenities are subject to availability and may be chargeable as per the hotel policy.\t1 19 30 nishiki naka ku, naka-kunagoya 460-8608, nagoya, 460-8608, japan\t460-8608\tJP\t81-52-2317711\tNagoya\t136.895431\t35.169219\t4 \t1312333\tpark hotel tokyo\tHeadLine : In Tokyo (Minato)Location : Centrally located in Tokyo, Park Hotel Tokyo is within a 15-minute walk of Ginza Six and Ginza Graphic Gallery.  This 4-star hotel is 1.5 mi (2.4 km) from Tokyo Tower and 1.7 mi (2.8 km) from Tokyo Imperial Palace.Rooms : Make yourself at home in one of the 270 guestrooms featuring refrigerators and flat-screen televisions. Complimentary wireless Internet access keeps you connected, and satellite programming is available for your entertainment. Bathrooms with shower/tub combinations feature deep soaking bathtubs and designer toiletries. Conveniences include phones, as well as safes and desks.Dining : Enjoy Japanese cuisine at Hanasanshou, one of the hotel s 3 restaurants, or stay in and take advantage of the room service (during limited hours). Snacks are also available at the coffee shop/cafe. Wrap up your day with a drink at the bar/lounge.\n",
      "\n",
      "Calificacion:0.671373\n",
      "\n",
      "Pais: Japan, Continente:Asia, URI:s3://clean-hotel-data/hotel-data-set-JP.xlsx\n",
      "\n",
      "Contexto:\n",
      "This 4-star hotel is 0.3 mi (0.5 km) from Ueno Park and 5.2 mi (8.4 km) from Tokyo Tower.Rooms : Make yourself at home in one of the 242 guestrooms featuring refrigerators and flat-screen televisions. Your bed comes with down comforters and premium bedding. Complimentary wired and wireless Internet access keeps you connected, and digital programming provides entertainment. Private bathrooms with shower/tub combinations feature complimentary toiletries and bidets.Dining : Enjoy a satisfying meal at BOSCO iL CHIANTI serving guests of Mitsui Garden Hotel Ueno Tokyo. Buffet breakfasts are available daily from 7:00 AM to 10:00 AM for a fee.CheckIn Instructions :   Extra-person charges may apply and vary depending on property policyGovernment-issued photo identification and a credit card, debit card, or cash deposit may be required at check-in for incidental chargesSpecial requests are subject to availability upon check-in and may incur additional charges; special requests cannot be guaranteedThis property accepts credit cards and cash  Special Instructions : Front desk staff will greet guests on arrival. For more details, please contact the property using the information on the booking confirmation.\n",
      "\n",
      "Calificacion:0.663504\n",
      "\n",
      "Pais: Japan, Continente:Asia, URI:s3://clean-hotel-data/hotel-data-set-JP.xlsx\n",
      "\n",
      "Contexto:\n",
      "Dinner fees apply for additional guests.&nbsp;Disclaimer notification: Amenities are subject to availability and may be chargeable as per the hotel policy.\t7 20 nakamachi naka ku, naka-kuhiroshima-shihiroshima 730-0037, hiroshima, 730-0000, japan\t730-0000\tJP\t81-82-2411111\tHiroshima\t132.45691\t34.39002\t4 \t5010443\tmonday apart premium ueno okachimachi\tHeadLine : In Tokyo (Ueno)Location : With a stay at MONday Apart Premium Ueno Okachimachi in Tokyo (Ueno), you ll be within a 5-minute drive of Tokyo Dome and Tokyo Skytree.  This 4-star aparthotel is 0.5 mi (0.8 km) from Ueno Park and 4 mi (6.4 km) from Tokyo Tower.Rooms : Make yourself at home in one of the 50 guestrooms, featuring kitchenettes with refrigerators and stovetops. Flat-screen televisions with cable programming provide entertainment, while complimentary wireless Internet access keeps you connected. Conveniences include safes and desks, and housekeeping is provided weekly.CheckIn Instructions :   Extra-person charges may apply and vary depending on property policyGovernment-issued photo identification and a credit card, debit card, or cash deposit may be required at check-in for incidental chargesSpecial requests are subject to availability upon check-in and may incur additional charges; special requests cannot be guaranteedThis property accepts credit cards and cashPlease note that cultural norms and guest policies may differ by country and by property; the policies listed are provided by the property  Special Instructions : Front desk staff will greet guests on arrival.\n",
      "\n",
      "Calificacion:0.651330\n",
      "\n",
      "Pais: Japan, Continente:Asia, URI:s3://clean-hotel-data/hotel-data-set-JP.xlsx\n"
     ]
    }
   ],
   "source": [
    "input = '''Can you recommend hotels near Ueno Park in Tokyo?'''\n",
    "\n",
    "elapsed_time, response = retrieve_and_generate(input, retriever, llm)\n",
    "display_response(response, elapsed_time)"
   ]
  },
  {
   "cell_type": "markdown",
   "metadata": {},
   "source": [
    "**Respuesta de ChatGpt**\n",
    "\n",
    "Here are some recommended hotels near Ueno Park in Tokyo:\n",
    "\n",
    "1. Hotel Graphy Nezu: This hotel is located about a 15-minute walk from Ueno Park and offers residential-style accommodations with a fully-equipped, shared kitchen. It is well-rated for its good facilities and friendly staff.\n",
    "\n",
    "2. APA Hotel Ueno Ekimae: Situated in the heart of Tokyo, this hotel provides convenient access to local markets and restaurants. It's known for its good value and includes free WiFi throughout the property.\n",
    "\n",
    "3. Tosei Hotel Cocone Ueno Okachimachi: This hotel scores highly for cleanliness and value for money. It is located very close to Ueno Park and offers 3-star accommodations.\n",
    "\n",
    "4. Hop Inn Tokyo Ueno: Located a short walk from Ueno Station, this hotel is noted for its cleanliness and new hotel vibes. It offers air-conditioned rooms and free WiFi, making it a comfortable choice for visitors.\n",
    "\n",
    "All of these options offer good accessibility to Ueno Park and its surrounding attractions, providing a range of amenities to suit various preferences and budgets."
   ]
  },
  {
   "cell_type": "markdown",
   "metadata": {},
   "source": [
    "**Análisis**\n",
    "\n",
    "Se puede observar que la respuesta obtenida por nuestro modelo baseline esta parcialmente correcta. Tres de los cuatro hoteles que se obtienen están en la zona de Taito dentro de Tokio. No obstante, es importante darse cuenta que aparentemente nuestro modelo le está dando mucho peso a la a que la palabra Park o Ueno aparezca en el nombre del hotel, pues todos los resultados arrojados cumplen con esta observación. Esto causa errores como en el tercer resultado que arrojó un resultado cuyo nombre del Hotel (Park Hotel Tokyo) incluye la palabra Park, aunque realmente el hotel esta en una zona de Tokio totalmente distinta."
   ]
  },
  {
   "cell_type": "markdown",
   "metadata": {},
   "source": [
    "**Obteniendo Respuestas de la Base Conocimiento y el Modelo Fundacional**"
   ]
  },
  {
   "cell_type": "code",
   "execution_count": 29,
   "metadata": {},
   "outputs": [
    {
     "name": "stdout",
     "output_type": "stream",
     "text": [
      "Respuesta despues de 2.1007 segundos:\n",
      "Here are some hotels in Hakone Japan that are traditional Japanese ryokans:\n",
      "- Hakone Tokinoshizuku\n",
      "- Yamatoya Honten\n",
      "- Hakone Ryori Yado Kyuan\n",
      "- Hakone Pax Yoshino\n",
      "\n",
      "Contexto:\n",
      "&nbsp;Disclaimer notification: Amenities are subject to availability and may be chargeable as per the hotel policy.\t1 4 1 mita meguro ku, meguro-kutokyo 153-8580, tokyo, 153-8580, japan\t153-8580\tJP\t+81354237000\tTokyo\t139.71494\t35.64179\t5 \t1796379\thakone tokinoshizuku\tSituated in Hakone, Hakone Tokinoshizuku provides 5-star accommodation with private balconies. Among the facilities of this property are a restaurant, a 24-hour front desk and a lift, along with free WiFi. Free private parking is available and the ryokan also features a shuttle service for guests who want to explore the surrounding area.  The ryokan will provide guests with air-conditioned rooms offering a desk, a kettle, a fridge, a minibar, a safety deposit box, a flat-screen TV, a terrace and a private bathroom with a bath. The rooms in Hakone Tokinoshizuku are fitted with bathrobes and a CD player.  Guests at the accommodation can enjoy a Full English/Irish breakfast.  Hakone Tokinoshizuku offers 5-star accommodation with a hot spring bath, spa facilities and open-air bath.  Hakone-Yumoto Station is 7.2 km from the ryokan, while Shuzen-ji Temple is 48 km from the property. The nearest airport is Oshima Airport, 85 km from Hakone Tokinoshizuku. In response to Coronavirus (COVID-19), additional safety and sanitation measures are in effect at this property.\n",
      "\n",
      "Calificacion:0.701852\n",
      "\n",
      "Pais: Japan, Continente:Asia, URI:s3://clean-hotel-data/hotel-data-set-JP.xlsx\n",
      "\n",
      "Contexto:\n",
      "Please inform barhotel Hakone Kazan in advance of your expected arrival time. You can use the Special Requests box when booking, or contact the property directly with the contact details provided in your confirmation.&nbsp;Disclaimer notification: Amenities are subject to availability and may be chargeable as per the hotel policy.\t507-4 kowakudani, hakone-machi 250-0406, hakone, 250-0406, japan\t250-0406\tJP\t+81460820111\tHakone\t139.04861\t35.23499\t4 \t1121472\tyamatoya honten\tHeadLine : In Matsuyama (Dogo Hot Spring)Location : A stay at Yamatoya Honten places you in the heart of Matsuyama, steps from Dogo Onsen and Dogo Giyaman Glass Museum.  This 4-star ryokan is 0.2 mi (0.3 km) from Enmanji and 0.2 mi (0.3 km) from Yu Shrine.Rooms : Make yourself at home in one of the 91 air-conditioned rooms featuring refrigerators and flat-screen televisions. Complimentary wireless Internet access keeps you connected, and satellite programming is available for your entertainment. Bathrooms feature separate bathtubs and showers, complimentary toiletries, and bidets. Conveniences include safes and complimentary newspapers, and housekeeping is provided daily.Dining : Enjoy a meal at the restaurant or snacks in the coffee shop/cafe. The ryokan also offers room service (during limited hours).\n",
      "\n",
      "Calificacion:0.681474\n",
      "\n",
      "Pais: Japan, Continente:Asia, URI:s3://clean-hotel-data/hotel-data-set-JP.xlsx\n",
      "\n",
      "Contexto:\n",
      "This 4-star ryokan is 5.5 mi (8.8 km) from Hakone Gora Park and 5.7 mi (9.2 km) from Hakone Kowakien Yunessun.Rooms : Make yourself at home in one of the 15 guestrooms featuring refrigerators and minibars. Rooms have private furnished balconies. 55-inch LCD televisions with digital programming provide entertainment, while complimentary wireless Internet access keeps you connected. Private bathrooms with separate bathtubs and showers feature spring water baths and complimentary toiletries.Dining : Grab dinner at private dining, a restaurant that specializes in Japanese cuisine. Dining is also available at the coffee shop/cafe, and room service (during limited hours) is provided. Wrap up your day with a drink at the bar/lounge.\n",
      "\n",
      "Calificacion:0.674991\n",
      "\n",
      "Pais: Japan, Continente:Asia, URI:s3://clean-hotel-data/hotel-data-set-JP.xlsx\n",
      "\n",
      "Contexto:\n",
      "Customers may be requested by the property to provide documentation of recent travel history (such as showing passport immigration stamps) or complete a health declaration.&nbsp;Disclaimer notification: Amenities are subject to availability and may be chargeable as per the hotel policy.\t2 1 2 uchi kanda chiyoda ku, chiyoda-kutokyo 101-0047, tokyo, 101 0047, japan\t101 0047\tJP\t81332543131\tTokyo\t139.767002\t35.689242\t4 \t5157460\tkamogawa grand hotel\tA resort hotel with a tropical ambience.All guest rooms have a beautiful view of the Pacific.Kaiseki course meals feature seafood.Our room staff treat all guests with the utmost courtesy.Outdoor rotemburo hot spring bath, â€�Amamino Yuâ€�.Western-style rooms and restaurant renovated in 2007&nbsp;Disclaimer notification: Amenities are subject to availability and may be chargeable as per the hotel policy.\t820 hiroba, chiba, chiba, 2960044, japan\t2960044\tJP\tN/A\tChiba\t140.112999\t35.111356\t4 \t1503920\thakone ryori yado kyuan\tHeadLine : Near Hakone Kowakien YunessunLocation : When you stay at Hakone Ryori Yado Kyuan in Hakone, you ll be in the mountains, a 1-minute drive from Hakone Kowakien Yunessun and 9 minutes from Lake Ashi.  This 4-star guesthouse is 12.1 mi (19.4 km) from Gotemba Premium Outlets and 1.1 mi (1.8 km) from Hakone Open Air Museum.Rooms : Make yourself at home in one of the 10 individually decorated guestrooms, featuring refrigerators and espresso makers.\n",
      "\n",
      "Calificacion:0.666720\n",
      "\n",
      "Pais: Japan, Continente:Asia, URI:s3://clean-hotel-data/hotel-data-set-JP.xlsx\n",
      "\n",
      "Contexto:\n",
      "Dinner fees apply for additional guests.&nbsp;Disclaimer notification: Amenities are subject to availability and may be chargeable as per the hotel policy.\t1 1 1 kanayama naka ku naka-ku, naka-kunagoya 4600023aichi, nagoya, 460-0023, japan\t460-0023\tJP\t81-52-6834111\tNagoya\t136.89984\t35.142475\t4 \t1382179\thakone pax yoshino\tHeadLine : In Hakone (Yumoto)Location : Located in Hakone (Yumoto), Hakone Pax Yoshino is within a 15-minute drive of Odawara Castle and Hakone Open Air Museum.  This 4-star ryokan is 7.6 mi (12.3 km) from Lake Ashi and 10.2 mi (16.4 km) from Hakone Shrine.Rooms : Make yourself at home in one of the 76 air-conditioned rooms featuring refrigerators and flat-screen televisions. Private bathrooms have complimentary toiletries and hair dryers. Conveniences include safes and electric kettles, and housekeeping is provided daily.Dining : Enjoy a satisfying meal at Dining Ichii serving guests of Hakone Pax Yoshino. Wrap up your day with a drink at the bar/lounge.\n",
      "\n",
      "Calificacion:0.660333\n",
      "\n",
      "Pais: Japan, Continente:Asia, URI:s3://clean-hotel-data/hotel-data-set-JP.xlsx\n"
     ]
    }
   ],
   "source": [
    "input = '''Can you recommend hotels in Hakone Japan? Ideally I am looking for traditional japanese ryokans.'''\n",
    "\n",
    "elapsed_time, response = retrieve_and_generate(input, retriever, llm)\n",
    "display_response(response, elapsed_time)"
   ]
  },
  {
   "cell_type": "markdown",
   "metadata": {},
   "source": [
    "**Respuesta de ChatGpt**\n",
    "\n",
    "For traditional Japanese ryokans in Hakone, Japan, you might consider the following options:\n",
    "\n",
    "1. Gora Kadan: This luxurious ryokan offers traditional Japanese accommodations with modern amenities, including hot spring baths and gourmet kaiseki meals.\n",
    "\n",
    "2. Hakone Ginyu: Situated in the scenic Hakone area, Hakone Ginyu provides elegant ryokan-style rooms with private outdoor hot spring baths and panoramic views of the surrounding mountains.\n",
    "\n",
    "3. Yamano Hotel: Yamano Hotel offers authentic Japanese hospitality in a tranquil setting. Guests can enjoy traditional tatami mat rooms, communal hot spring baths, and delicious multi-course meals.\n",
    "\n",
    "4. Gora Hanaougi: Nestled in the heart of Hakone, Gora Hanaougi features spacious ryokan accommodations, soothing hot spring baths, and impeccable service.\n",
    "\n",
    "5. Hakone Yutowa: This ryokan combines traditional Japanese design with modern comforts, offering guests a relaxing retreat with hot spring baths, gourmet dining, and serene natural surroundings.\n",
    "\n",
    "These are just a few options to consider for experiencing traditional Japanese hospitality in Hakone. Be sure to check availability and make reservations in advance, especially during peak travel seasons."
   ]
  },
  {
   "cell_type": "markdown",
   "metadata": {},
   "source": [
    "**Análisis**\n",
    "\n",
    "Las respuestas obtenidas por nuestro modelo son correctas. Al leer la descripción de los hoteles podemos corroborar que se está recomendando al usuario un hotel tradicional japonés situado en la ciudad de Hakone, Japón. Al ser un ryokan, se espera que el hotel tenga amenidades como aguas termales, y esta característica si es mencionada en todos los hoteles recomendados por el sistema.\n"
   ]
  },
  {
   "cell_type": "markdown",
   "metadata": {},
   "source": [
    "**Obteniendo Respuestas de la Base Conocimiento y el Modelo Fundacional**"
   ]
  },
  {
   "cell_type": "code",
   "execution_count": 30,
   "metadata": {},
   "outputs": [
    {
     "name": "stdout",
     "output_type": "stream",
     "text": [
      "Respuesta despues de 1.3222 segundos:\n",
      "I don't know.\n",
      "\n",
      "Contexto:\n",
      "Juarez is closed due to renovations. Av. Independencia is a good alternative.  Extra child or adult is charged MXN 157.58 per person per night when using existing beds.&nbsp;Disclaimer notification: Amenities are subject to availability and may be chargeable as per the hotel policy.\tavenida juarez 88, entre ignacio zaragoza y plutarco elias calles77000 chetumalquintana roo, chetumal, 77000, mexico\t77000\tMX\t983 285 3279\tChetumal\t-88.29821\t18.49852\t4 \t1849175\thilton guadalajara midtown\tHeadLine : In Guadalajara (Providencia)Location : With a stay at Hilton Guadalajara Midtown in Guadalajara (Providencia), you ll be within a 5-minute drive of La Minerva and University of Guadalajara Assembly Hall.  This 4.5-star hotel is 3 mi (4.8 km) from Guadalajara Cathedral and 3.1 mi (5 km) from Basilica de Zapopan.Rooms : Make yourself at home in one of the 225 air-conditioned rooms featuring minibars and LCD televisions. Wireless Internet access (surcharge) keeps you connected, and cable programming is available for your entertainment. Private bathrooms with showers feature complimentary toiletries and hair dryers. Conveniences include phones, as well as laptop-compatible safes and desks.Dining : Satisfy your appetite for lunch, dinner, or brunch at Härth Kitchen Bar Market, a restaurant which specializes in international cuisine, or stay in and take advantage of the 24-hour room service. Relax with a refreshing drink from the poolside bar or one of the 2 bars/lounges.\n",
      "\n",
      "Calificacion:0.658473\n",
      "\n",
      "Pais: Mexico, Continente:Americas, URI:s3://clean-hotel-data/hotel-data-set-MX.xlsx\n",
      "\n",
      "Contexto:\n",
      "You can also enjoy drinks and snacks in the 3 Elementos café.  You can rent fishing equipment from the hotel, and staff can provide local area information. Free private parking is available on site, and the historic centre of Chignahuapan is a 3-minute drive away. This property does not accept American Express.&nbsp;Disclaimer notification: Amenities are subject to availability and may be chargeable as per the hotel policy.\tprolongacion guillermo prieto colonia teoconchila, colonia teoconchila73300 chignahuapan, chignahuapan, 73300, mexico\t73300\tMX\t01 797 971 1892\tChignahuapan\t-98.02348\t19.84139\t4 \t1325975\tmexico city marriott reforma hotel\tHeadLine : Near The Angel of Independence MonumentLocation : With a stay at Mexico City Marriott Reforma Hotel, you ll be centrally located in Mexico City, just a 4-minute walk from Paseo de la Reforma and 5 minutes by foot from The Angel of Independence Monument.  This 4.5-star hotel is 5.5 mi (8.8 km) from Basilica of Our Lady of Guadalupe and 7 mi (11.3 km) from Autódromo Hermanos Rodríguez.Rooms : Make yourself at home in one of the 322 guestrooms featuring minibars and LED televisions. Your room comes with a pillowtop bed. Wireless Internet access (surcharge) keeps you connected, and cable programming is available for your entertainment.\n",
      "\n",
      "Calificacion:0.645268\n",
      "\n",
      "Pais: Mexico, Continente:Americas, URI:s3://clean-hotel-data/hotel-data-set-MX.xlsx\n",
      "\n",
      "Contexto:\n",
      "Additional amenities include complimentary wireless Internet access and concierge services.Dining Breakfast is available for a fee.Business, Other Amenities The front desk is staffed during limited hours.&nbsp;Disclaimer notification: Amenities are subject to availability and may be chargeable as per the hotel policy.\tkm 3.5 carretera punta mita, la cruz de huanacaxtleméxiconayarit, la cruz de huanacaxtle, 63732, mexico\t63732\tMX\t+522955585\tLa Cruz de Huanacaxtle\t-105.38334656\t20.753019333\t4 \t1355868\tcamino real pachuca\tHeadLine : Near David Ben Gurion ParkLocation : When you a stay at Camino Real Pachuca in Pachuca, you ll be connected to the convention center, within a 5-minute walk of David Ben Gurion Park and International Soccer Hall of Fame.  This 4-star hotel is 0.4 mi (0.6 km) from Mundo Futbol Interactive Center and 0.4 mi (0.7 km) from Galerias Pachuca Mall.Rooms : Make yourself at home in one of the 106 air-conditioned rooms featuring flat-screen televisions. Complimentary wireless Internet access keeps you connected, and satellite programming is available for your entertainment. Private bathrooms with shower/tub combinations feature rainfall showerheads and complimentary toiletries. Conveniences include laptop-compatible safes and desks, as well as phones with free local calls.Dining : Satisfy your appetite for lunch or dinner at Bistro, a restaurant which specializes in Mediterranean cuisine, or stay in and take advantage of the 24-hour room service. Mingle with other guests at the complimentary reception, held daily.\n",
      "\n",
      "Calificacion:0.631771\n",
      "\n",
      "Pais: Mexico, Continente:Americas, URI:s3://clean-hotel-data/hotel-data-set-MX.xlsx\n",
      "\n",
      "Contexto:\n",
      "Appropriate efforts are made to provide advance notice to the registered guest before entering an occupied guestroom.Front desk staff will greet guests on arrival.&nbsp;Disclaimer notification: Amenities are subject to availability and may be chargeable as per the hotel policy.\tprol. vasco de quiroga #4001 santa fe cuajimalpa, santa fe cuajimalpa05348 mexico city, mexico city, 05348, mexico\t05348\tMX\t52-55-52821234\tMexico City\t-99.28165\t19.36037\t4 \t1551145\thotel keyri\tSituated in Santa Cruz Huatulco, 2.1 km from La Entrega Beach, Hotel Keyri provides rooms with air conditioning. All rooms boast a TV with satellite channels and a private bathroom. The accommodation features an indoor pool, free WiFi throughout the property and a 24-hour front desk.  Downtown Huatulco/Crucecita is 1.1 km from the hotel, while Huatulco National Park is 6 km from the property. The nearest airport is Huatulco International Airport, 14 km from Hotel Keyri.&nbsp;Disclaimer notification: Amenities are subject to availability and may be chargeable as per the hotel policy.\tblvd. chahué mz. 1 lt. 22, lt. 22huatulco, santa maria huatulco, 70989, mexico\t70989\tMX\tN/A\tSanta Maria Huatulco\t-96.13063\t15.7632\t4 \t1427999\thotel joalicia\tOffering a restaurant and an extensive garden, Hotel Joalicia is located in front of Acayucan central park. It features Free WiFi access is available in all areas.  Each room here will provide you with air conditioning and city views.\n",
      "\n",
      "Calificacion:0.630863\n",
      "\n",
      "Pais: Mexico, Continente:Americas, URI:s3://clean-hotel-data/hotel-data-set-MX.xlsx\n",
      "\n",
      "Contexto:\n",
      "Special requests are subject to availability upon check-in and may incur additional charges. Special requests cannot be guaranteed.   &nbsp;Disclaimer notification: Amenities are subject to availability and may be chargeable as per the hotel policy.\tav. 10 & aviacion street, , playa del carmen, 77710, mexico\t77710\tMX\t52-984-8032991\tPlaya Del Carmen\t-87.078136\t20.620697\t4 \t1425657\thoteles villa de cortez\tLocated in Huauchinango, Puebla, Hoteles Villa de Cortez offers its guests fre WiFi access and a restaurant with bar on site.  Each colonial-style is decorated with a Mexican touch and features a Talavera sink, full bathroom with shower and free toiletries, plus cable TV. A fan and ironing appliances are also provided.  Hoteles Villa de Cortez is located in the town centre, and guests will able explore the various restaurants and dining options available in the area.  At Hoteles Villa de Cortez you will find a 24-hour front desk and a bar. Other facilities offered at the property include a tour desk and luggage storage. The property offers free parking.&nbsp;Disclaimer notification: Amenities are subject to availability and may be chargeable as per the hotel policy.\thidalgo3c. colonia centro, colonia centro73160 huauchinangopuebla mexico, huauchinango, 73160, mexico\t73160\tMX\t+527767626230\tHuauchinango\t-98.05162\t20.17516\t4 \t5007269\twatal tulum hotel\tHeadLine : Near Playa ParaisoLocation : Located in Tulum, Watal Tulum Hotel is within a 15-minute drive of Tulum Mayan Ruins and Tulum Beach.\n",
      "\n",
      "Calificacion:0.630472\n",
      "\n",
      "Pais: Mexico, Continente:Americas, URI:s3://clean-hotel-data/hotel-data-set-MX.xlsx\n"
     ]
    }
   ],
   "source": [
    "input = '''Can you recommend hotels in Chihuauha City that are located near Periferico de la Juventud?'''\n",
    "\n",
    "elapsed_time, response = retrieve_and_generate(input, retriever, llm)\n",
    "display_response(response, elapsed_time)"
   ]
  },
  {
   "cell_type": "markdown",
   "metadata": {},
   "source": [
    "**Respuesta de ChatGpt**\n",
    "\n",
    "I don't have direct access to real-time data or external sources like hotel databases. However, I can suggest a general approach to finding hotels near Periférico de la Juventud in Chihuahua City:\n",
    "\n",
    "Online Hotel Booking Platforms: Websites like Booking.com, Expedia, or TripAdvisor allow you to search for hotels based on specific locations. You can enter \"Periférico de la Juventud\" as the location and see the hotels available nearby.\n",
    "\n",
    "Google Maps: You can use Google Maps to search for hotels near Periférico de la Juventud. Simply type \"hotels near Periférico de la Juventud, Chihuahua City\" into the search bar, and Google Maps will display a list of hotels in that area along with their ratings and reviews.\n",
    "\n",
    "Local Directories: Check local business directories or tourism websites for information on hotels near Periférico de la Juventud. They may have listings and contact details for hotels in the area.\n",
    "\n",
    "Contact Hotels Directly: Once you have a list of potential hotels, you can contact them directly to inquire about their location relative to Periférico de la Juventud and any other details you need to know.\n",
    "\n",
    "By using these methods, you should be able to find hotels in Chihuahua City that are located near Periférico de la Juventud."
   ]
  },
  {
   "cell_type": "markdown",
   "metadata": {},
   "source": [
    "**Análisis**\n",
    "\n",
    "Nuestro sistema falla al no encontrar una respuesta específica para la pregunta y también al no manejar la falta de información de manera correnda. Esto por que se anima a dar recomendación que según él esta relacionada en cercanía al Periferico de la Juventud en Chihuahua, pero termina haciendo una recomendación de un hotel en Puebla. "
   ]
  },
  {
   "cell_type": "markdown",
   "metadata": {
    "id": "b68fb8b7-959c-4eab-82d8-ac622c8071ff"
   },
   "source": [
    "## **Conclusiones**\n"
   ]
  },
  {
   "cell_type": "markdown",
   "metadata": {
    "id": "_6oLU1ff3twF"
   },
   "source": [
    "El objetivo de la base de conocimiento en *Retrieval Augmented Generation*, o *RAG*, es proveer una fuente de información para proveer contexto adicional al modelo generativo, o *LLM* para que pueda generar una mejor respuesta. La calidad de la respuesta dependerá del modelo LLM usado y de la calidad del contenido en la base de conocimiento (Monigatti, 2023).\n",
    "\n",
    "Por un lado, y basados en los resultados obtenidos, es claro que la solucion basada en una base de conocimiento y un modelo fundacional de AWS Bedrock produce resultados prometedores, pero aún hay ajustes por hacer. Dados los hallazgos hechos durante el análisis de las respuestas un ajuste del tamaño del pedazo o *chunk size* es requerido. También es necesario hacer cambios a los textos ya que cierta información, como la dirección, no figuró en las respuestas, lo que implica más ingeniería de características para generar más metadatos.\n",
    "Por otro lado, es lamentable no tener mecanismos automatizados para evaluar el desempeño del modelo. Para solventar esta limitación se tendrán que desarrollar alternativas que permitan calcular algunas métricas de desempeño, probablemente usando alguna técnica o librería como RAGAS (Monigatti, 2023) o una forma de sistema RAG adversario para comparar (Grech, 2024).\n"
   ]
  },
  {
   "cell_type": "markdown",
   "metadata": {
    "id": "c8c2c4ae-24a2-40a1-a4c1-44792313fbff"
   },
   "source": [
    "## **Referencias**\n",
    "\n",
    "* Monigatti, L. (2023, 6 de diciembre). A Guide on 12 Tuning Strategies for Production-Ready RAG Applications. Medium. https://towardsdatascience.com/a-guide-on-12-tuning-strategies-for-production-ready-rag-applications-7ca646833439\n",
    "\n",
    "* AWS. (s.f.). Set up a data source for your knowledge base - Amazon Bedrock. docs.aws.amazon.com. Recuperado 7 de mayo, 2024, de https://docs.aws.amazon.com/bedrock/latest/userguide/knowledge-base-ds.html\n",
    "\n",
    "* AWS. (s.f.). Getting started with model evaluations - Amazon Bedrock. docs.aws.amazon.com. Recuperado 15 de mayo, 2024, de https://docs.aws.amazon.com/bedrock/latest/userguide/model-evaluation-type.html\n",
    "\n",
    "* AWS. (2023, 28 de noviembre). Knowledge Bases now delivers fully managed RAG experience in Amazon Bedrock - Amazon Web Services.  Amazon Web Services. https://aws.amazon.com/es/blogs/aws/knowledge-bases-now-delivers-fully-managed-rag-experience-in-amazon-bedrock/\n",
    "\n",
    "* Monigatti, L. (2023, 15 de deciembre). Evaluating RAG Applications with RAGAs. Medium. https://towardsdatascience.com/evaluating-rag-applications-with-ragas-81d67b0ee31a\n",
    "\n",
    "* Grech, C. (2024, 16 de febrero). Evaluating RAG Performance: A Comprehensive Guide. Medium. https://christiangrech.medium.com/evaluating-rag-performance-a-comprehensive-guide-b1d8f903b7ad\n",
    "\n",
    "* AWS (s.f.). Amazon Titan Text models - Amazon Bedrock. docs.aws.amazon.com. Recuperado 20 de mayo 26, 2024, de https://docs.aws.amazon.com/bedrock/latest/userguide/model-parameters-titan-text.html\n",
    "\n",
    "* LangChain. (s.f.). Bedrock (Knowledge Bases). python.langchain.com. Recuperado 20 de mayo 26, 2024, de https://python.langchain.com/v0.1/docs/integrations/retrievers/bedrock/\n",
    "\n",
    "* LangChain. (s.f.). ChatBedrock. python.langchain.com. Recuperado 20 de mayo 26, 2024, de https://python.langchain.com/v0.1/docs/integrations/chat/bedrock/\n",
    "\n",
    "* LangChain. (s.f.). langchain.chains.retrieval_qa.base.RetrievalQA LangChain 0.1.12. api.python.langchain.com. https://api.python.langchain.com/en/latest/chains/langchain.chains.retrieval_qa.base.RetrievalQA.html\n",
    "\n"
   ]
  },
  {
   "cell_type": "code",
   "execution_count": null,
   "metadata": {},
   "outputs": [],
   "source": []
  }
 ],
 "metadata": {
  "colab": {
   "authorship_tag": "ABX9TyN7RsC+bWpa5Yqc1sfHsoAr",
   "include_colab_link": true,
   "provenance": []
  },
  "kernelspec": {
   "display_name": "conda_python3",
   "language": "python",
   "name": "conda_python3"
  },
  "language_info": {
   "codemirror_mode": {
    "name": "ipython",
    "version": 3
   },
   "file_extension": ".py",
   "mimetype": "text/x-python",
   "name": "python",
   "nbconvert_exporter": "python",
   "pygments_lexer": "ipython3",
   "version": "3.10.14"
  }
 },
 "nbformat": 4,
 "nbformat_minor": 4
}
