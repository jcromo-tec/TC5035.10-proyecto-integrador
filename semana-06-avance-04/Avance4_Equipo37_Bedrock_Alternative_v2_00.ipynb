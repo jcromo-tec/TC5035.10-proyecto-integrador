{
 "cells": [
  {
   "cell_type": "markdown",
   "metadata": {
    "id": "HMQEY1ttU_w-"
   },
   "source": [
    "![logo-tec-de-monterrey-.png](data:image/png;base64,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)"
   ]
  },
  {
   "cell_type": "markdown",
   "metadata": {
    "id": "b3d0b781-0da5-4c6a-a76a-c6c0837bae05"
   },
   "source": [
    "## Proyecto Integrador\n",
    "## Smart Travel Assistant: Optimizando la Experiencia de Viaje con IA\n",
    "## Avance 4"
   ]
  },
  {
   "cell_type": "markdown",
   "metadata": {
    "id": "18dd3d13-d70f-4c28-894b-159fb9f0f7f6"
   },
   "source": [
    "### Equipo 37\n",
    "##### A00759664 - Joel Orlando Hernández Ramos\n",
    "##### A01793486 - Juan Carlos Alvarado Carricarte\n",
    "##### A00260430 - Juan Carlos Romo Cárdenas\n"
   ]
  },
  {
   "cell_type": "markdown",
   "metadata": {
    "id": "wiPf8lTteLm1"
   },
   "source": [
    "## **Descripción del Proyecto**"
   ]
  },
  {
   "cell_type": "markdown",
   "metadata": {
    "id": "XqZeUJCEefQ3"
   },
   "source": [
    "Este proyecto se propone desarrollar un asistente de inteligencia artificial integrado en una plataforma de traveltech, que facilita la elección personalizada de hoteles y destinos para los usuarios. Utilizando la función \"knowledge base\" de Amazon Bedrock, el sistema integrará una extensa base de datos con información detallada sobre más de 2 millones de hoteles. Para este efecto  \n",
    "\n",
    "El objetivo principal de este proyecto es transformar la experiencia de planificación de viajes, haciendo que sea más intuitiva, personalizada y respaldada por datos. Las metas específicas incluyen mejorar la satisfacción del cliente mediante recomendaciones precisas y personalizadas, reducir el tiempo necesario para planificar un viaje y aumentar la eficiencia del proceso de selección de destinos y hoteles.\n",
    "\n",
    "El asistente empleará modelos avanzados de sistemas de recomendación, potenciados por un modelo de lenguaje de aprendizaje profundo (LLM), para sugerir itinerarios personalizados y ofrecer asistencia general en la planificación de viajes. Las recomendaciones incluirán referencias detalladas a los hoteles disponibles en nuestra base de datos, asegurando que los usuarios reciban opciones que no solo se ajustan a sus preferencias personales, sino que también maximizan la calidad y la relevancia de la información proporcionada."
   ]
  },
  {
   "cell_type": "markdown",
   "metadata": {},
   "source": [
    "## **Configuración la Base de Conocimiento y el Modelo Fundacional**"
   ]
  },
  {
   "cell_type": "markdown",
   "metadata": {},
   "source": [
    "<img src=\"./Proyecto Integrador - RAG con Bedrock-Smart Travel Assistant KB v2.00 LangChain.drawio.png\" alt=\"RAG Bedrock KB V1.00\" />"
   ]
  },
  {
   "cell_type": "markdown",
   "metadata": {},
   "source": [
    "Para crear el modelo de referencia para este proyecto se creo una base de datos de conocimientos en **AWS Bedrock**. El proceso es el siguiente:\n",
    "1. Crear la base de conocimientos, o **Knowledge Base**. Para este proyecto la base de conocimiento se llama *Volindo-hotels* y se usa una base de datos de vectores de **Pinecone**\n",
    "> * La fuente de conocimiento incluye más de 160 mil pares de archivos de texto y JSON con los datos de más de 145,000 hoteles. Cada par de archivos representa un hotel.\n",
    "2. Cargar los datos en un Bucket de S3, llamado *hotel-clean-data*\n",
    "3. Asociar el Bucket de S3 como una fuente de información para la base de conocimiento\n",
    "4. Sincronizar (cargar) los datos de la fuente de información\n",
    "\n",
    "Una vez cargado la base de conocimiento se puede probar usando la consola de AWS Bedrock o a través de APIs, tal y como se hará a continuación."
   ]
  },
  {
   "cell_type": "markdown",
   "metadata": {},
   "source": [
    "## **Probando la Base de Conocimiento y el Modelo Fundacional**"
   ]
  },
  {
   "cell_type": "markdown",
   "metadata": {
    "id": "b8af6127-cc07-4a20-8fea-57ed0d56a355"
   },
   "source": [
    "### **Preparando el Ambiente de Ejecución**\n",
    "\n",
    "Es necesario importar las librerías necesarias para iniciar una sesión de AWS y para registrar una bitácora de ejecución."
   ]
  },
  {
   "cell_type": "code",
   "execution_count": 1,
   "metadata": {},
   "outputs": [
    {
     "name": "stdout",
     "output_type": "stream",
     "text": [
      "Requirement already satisfied: langchain in /home/ec2-user/anaconda3/envs/python3/lib/python3.10/site-packages (0.2.1)\n",
      "Requirement already satisfied: PyYAML>=5.3 in /home/ec2-user/anaconda3/envs/python3/lib/python3.10/site-packages (from langchain) (6.0.1)\n",
      "Requirement already satisfied: SQLAlchemy<3,>=1.4 in /home/ec2-user/anaconda3/envs/python3/lib/python3.10/site-packages (from langchain) (2.0.29)\n",
      "Requirement already satisfied: aiohttp<4.0.0,>=3.8.3 in /home/ec2-user/anaconda3/envs/python3/lib/python3.10/site-packages (from langchain) (3.9.3)\n",
      "Requirement already satisfied: async-timeout<5.0.0,>=4.0.0 in /home/ec2-user/anaconda3/envs/python3/lib/python3.10/site-packages (from langchain) (4.0.3)\n",
      "Requirement already satisfied: langchain-core<0.3.0,>=0.2.0 in /home/ec2-user/anaconda3/envs/python3/lib/python3.10/site-packages (from langchain) (0.2.1)\n",
      "Requirement already satisfied: langchain-text-splitters<0.3.0,>=0.2.0 in /home/ec2-user/anaconda3/envs/python3/lib/python3.10/site-packages (from langchain) (0.2.0)\n",
      "Requirement already satisfied: langsmith<0.2.0,>=0.1.17 in /home/ec2-user/anaconda3/envs/python3/lib/python3.10/site-packages (from langchain) (0.1.63)\n",
      "Requirement already satisfied: numpy<2,>=1 in /home/ec2-user/anaconda3/envs/python3/lib/python3.10/site-packages (from langchain) (1.22.4)\n",
      "Requirement already satisfied: pydantic<3,>=1 in /home/ec2-user/anaconda3/envs/python3/lib/python3.10/site-packages (from langchain) (2.7.1)\n",
      "Requirement already satisfied: requests<3,>=2 in /home/ec2-user/anaconda3/envs/python3/lib/python3.10/site-packages (from langchain) (2.31.0)\n",
      "Requirement already satisfied: tenacity<9.0.0,>=8.1.0 in /home/ec2-user/anaconda3/envs/python3/lib/python3.10/site-packages (from langchain) (8.2.3)\n",
      "Requirement already satisfied: aiosignal>=1.1.2 in /home/ec2-user/anaconda3/envs/python3/lib/python3.10/site-packages (from aiohttp<4.0.0,>=3.8.3->langchain) (1.3.1)\n",
      "Requirement already satisfied: attrs>=17.3.0 in /home/ec2-user/anaconda3/envs/python3/lib/python3.10/site-packages (from aiohttp<4.0.0,>=3.8.3->langchain) (23.2.0)\n",
      "Requirement already satisfied: frozenlist>=1.1.1 in /home/ec2-user/anaconda3/envs/python3/lib/python3.10/site-packages (from aiohttp<4.0.0,>=3.8.3->langchain) (1.4.1)\n",
      "Requirement already satisfied: multidict<7.0,>=4.5 in /home/ec2-user/anaconda3/envs/python3/lib/python3.10/site-packages (from aiohttp<4.0.0,>=3.8.3->langchain) (6.0.5)\n",
      "Requirement already satisfied: yarl<2.0,>=1.0 in /home/ec2-user/anaconda3/envs/python3/lib/python3.10/site-packages (from aiohttp<4.0.0,>=3.8.3->langchain) (1.9.4)\n",
      "Requirement already satisfied: jsonpatch<2.0,>=1.33 in /home/ec2-user/anaconda3/envs/python3/lib/python3.10/site-packages (from langchain-core<0.3.0,>=0.2.0->langchain) (1.33)\n",
      "Requirement already satisfied: packaging<24.0,>=23.2 in /home/ec2-user/anaconda3/envs/python3/lib/python3.10/site-packages (from langchain-core<0.3.0,>=0.2.0->langchain) (23.2)\n",
      "Requirement already satisfied: orjson<4.0.0,>=3.9.14 in /home/ec2-user/anaconda3/envs/python3/lib/python3.10/site-packages (from langsmith<0.2.0,>=0.1.17->langchain) (3.10.3)\n",
      "Requirement already satisfied: annotated-types>=0.4.0 in /home/ec2-user/anaconda3/envs/python3/lib/python3.10/site-packages (from pydantic<3,>=1->langchain) (0.7.0)\n",
      "Requirement already satisfied: pydantic-core==2.18.2 in /home/ec2-user/anaconda3/envs/python3/lib/python3.10/site-packages (from pydantic<3,>=1->langchain) (2.18.2)\n",
      "Requirement already satisfied: typing-extensions>=4.6.1 in /home/ec2-user/anaconda3/envs/python3/lib/python3.10/site-packages (from pydantic<3,>=1->langchain) (4.10.0)\n",
      "Requirement already satisfied: charset-normalizer<4,>=2 in /home/ec2-user/anaconda3/envs/python3/lib/python3.10/site-packages (from requests<3,>=2->langchain) (3.3.2)\n",
      "Requirement already satisfied: idna<4,>=2.5 in /home/ec2-user/anaconda3/envs/python3/lib/python3.10/site-packages (from requests<3,>=2->langchain) (3.6)\n",
      "Requirement already satisfied: urllib3<3,>=1.21.1 in /home/ec2-user/anaconda3/envs/python3/lib/python3.10/site-packages (from requests<3,>=2->langchain) (2.2.1)\n",
      "Requirement already satisfied: certifi>=2017.4.17 in /home/ec2-user/anaconda3/envs/python3/lib/python3.10/site-packages (from requests<3,>=2->langchain) (2024.2.2)\n",
      "Requirement already satisfied: greenlet!=0.4.17 in /home/ec2-user/anaconda3/envs/python3/lib/python3.10/site-packages (from SQLAlchemy<3,>=1.4->langchain) (3.0.3)\n",
      "Requirement already satisfied: jsonpointer>=1.9 in /home/ec2-user/anaconda3/envs/python3/lib/python3.10/site-packages (from jsonpatch<2.0,>=1.33->langchain-core<0.3.0,>=0.2.0->langchain) (2.4)\n"
     ]
    }
   ],
   "source": [
    "!pip install langchain"
   ]
  },
  {
   "cell_type": "code",
   "execution_count": 2,
   "metadata": {},
   "outputs": [
    {
     "name": "stdout",
     "output_type": "stream",
     "text": [
      "Requirement already satisfied: langchain-community in /home/ec2-user/anaconda3/envs/python3/lib/python3.10/site-packages (0.2.1)\n",
      "Requirement already satisfied: PyYAML>=5.3 in /home/ec2-user/anaconda3/envs/python3/lib/python3.10/site-packages (from langchain-community) (6.0.1)\n",
      "Requirement already satisfied: SQLAlchemy<3,>=1.4 in /home/ec2-user/anaconda3/envs/python3/lib/python3.10/site-packages (from langchain-community) (2.0.29)\n",
      "Requirement already satisfied: aiohttp<4.0.0,>=3.8.3 in /home/ec2-user/anaconda3/envs/python3/lib/python3.10/site-packages (from langchain-community) (3.9.3)\n",
      "Requirement already satisfied: dataclasses-json<0.7,>=0.5.7 in /home/ec2-user/anaconda3/envs/python3/lib/python3.10/site-packages (from langchain-community) (0.6.6)\n",
      "Requirement already satisfied: langchain<0.3.0,>=0.2.0 in /home/ec2-user/anaconda3/envs/python3/lib/python3.10/site-packages (from langchain-community) (0.2.1)\n",
      "Requirement already satisfied: langchain-core<0.3.0,>=0.2.0 in /home/ec2-user/anaconda3/envs/python3/lib/python3.10/site-packages (from langchain-community) (0.2.1)\n",
      "Requirement already satisfied: langsmith<0.2.0,>=0.1.0 in /home/ec2-user/anaconda3/envs/python3/lib/python3.10/site-packages (from langchain-community) (0.1.63)\n",
      "Requirement already satisfied: numpy<2,>=1 in /home/ec2-user/anaconda3/envs/python3/lib/python3.10/site-packages (from langchain-community) (1.22.4)\n",
      "Requirement already satisfied: requests<3,>=2 in /home/ec2-user/anaconda3/envs/python3/lib/python3.10/site-packages (from langchain-community) (2.31.0)\n",
      "Requirement already satisfied: tenacity<9.0.0,>=8.1.0 in /home/ec2-user/anaconda3/envs/python3/lib/python3.10/site-packages (from langchain-community) (8.2.3)\n",
      "Requirement already satisfied: aiosignal>=1.1.2 in /home/ec2-user/anaconda3/envs/python3/lib/python3.10/site-packages (from aiohttp<4.0.0,>=3.8.3->langchain-community) (1.3.1)\n",
      "Requirement already satisfied: attrs>=17.3.0 in /home/ec2-user/anaconda3/envs/python3/lib/python3.10/site-packages (from aiohttp<4.0.0,>=3.8.3->langchain-community) (23.2.0)\n",
      "Requirement already satisfied: frozenlist>=1.1.1 in /home/ec2-user/anaconda3/envs/python3/lib/python3.10/site-packages (from aiohttp<4.0.0,>=3.8.3->langchain-community) (1.4.1)\n",
      "Requirement already satisfied: multidict<7.0,>=4.5 in /home/ec2-user/anaconda3/envs/python3/lib/python3.10/site-packages (from aiohttp<4.0.0,>=3.8.3->langchain-community) (6.0.5)\n",
      "Requirement already satisfied: yarl<2.0,>=1.0 in /home/ec2-user/anaconda3/envs/python3/lib/python3.10/site-packages (from aiohttp<4.0.0,>=3.8.3->langchain-community) (1.9.4)\n",
      "Requirement already satisfied: async-timeout<5.0,>=4.0 in /home/ec2-user/anaconda3/envs/python3/lib/python3.10/site-packages (from aiohttp<4.0.0,>=3.8.3->langchain-community) (4.0.3)\n",
      "Requirement already satisfied: marshmallow<4.0.0,>=3.18.0 in /home/ec2-user/anaconda3/envs/python3/lib/python3.10/site-packages (from dataclasses-json<0.7,>=0.5.7->langchain-community) (3.21.2)\n",
      "Requirement already satisfied: typing-inspect<1,>=0.4.0 in /home/ec2-user/anaconda3/envs/python3/lib/python3.10/site-packages (from dataclasses-json<0.7,>=0.5.7->langchain-community) (0.9.0)\n",
      "Requirement already satisfied: langchain-text-splitters<0.3.0,>=0.2.0 in /home/ec2-user/anaconda3/envs/python3/lib/python3.10/site-packages (from langchain<0.3.0,>=0.2.0->langchain-community) (0.2.0)\n",
      "Requirement already satisfied: pydantic<3,>=1 in /home/ec2-user/anaconda3/envs/python3/lib/python3.10/site-packages (from langchain<0.3.0,>=0.2.0->langchain-community) (2.7.1)\n",
      "Requirement already satisfied: jsonpatch<2.0,>=1.33 in /home/ec2-user/anaconda3/envs/python3/lib/python3.10/site-packages (from langchain-core<0.3.0,>=0.2.0->langchain-community) (1.33)\n",
      "Requirement already satisfied: packaging<24.0,>=23.2 in /home/ec2-user/anaconda3/envs/python3/lib/python3.10/site-packages (from langchain-core<0.3.0,>=0.2.0->langchain-community) (23.2)\n",
      "Requirement already satisfied: orjson<4.0.0,>=3.9.14 in /home/ec2-user/anaconda3/envs/python3/lib/python3.10/site-packages (from langsmith<0.2.0,>=0.1.0->langchain-community) (3.10.3)\n",
      "Requirement already satisfied: charset-normalizer<4,>=2 in /home/ec2-user/anaconda3/envs/python3/lib/python3.10/site-packages (from requests<3,>=2->langchain-community) (3.3.2)\n",
      "Requirement already satisfied: idna<4,>=2.5 in /home/ec2-user/anaconda3/envs/python3/lib/python3.10/site-packages (from requests<3,>=2->langchain-community) (3.6)\n",
      "Requirement already satisfied: urllib3<3,>=1.21.1 in /home/ec2-user/anaconda3/envs/python3/lib/python3.10/site-packages (from requests<3,>=2->langchain-community) (2.2.1)\n",
      "Requirement already satisfied: certifi>=2017.4.17 in /home/ec2-user/anaconda3/envs/python3/lib/python3.10/site-packages (from requests<3,>=2->langchain-community) (2024.2.2)\n",
      "Requirement already satisfied: typing-extensions>=4.6.0 in /home/ec2-user/anaconda3/envs/python3/lib/python3.10/site-packages (from SQLAlchemy<3,>=1.4->langchain-community) (4.10.0)\n",
      "Requirement already satisfied: greenlet!=0.4.17 in /home/ec2-user/anaconda3/envs/python3/lib/python3.10/site-packages (from SQLAlchemy<3,>=1.4->langchain-community) (3.0.3)\n",
      "Requirement already satisfied: jsonpointer>=1.9 in /home/ec2-user/anaconda3/envs/python3/lib/python3.10/site-packages (from jsonpatch<2.0,>=1.33->langchain-core<0.3.0,>=0.2.0->langchain-community) (2.4)\n",
      "Requirement already satisfied: annotated-types>=0.4.0 in /home/ec2-user/anaconda3/envs/python3/lib/python3.10/site-packages (from pydantic<3,>=1->langchain<0.3.0,>=0.2.0->langchain-community) (0.7.0)\n",
      "Requirement already satisfied: pydantic-core==2.18.2 in /home/ec2-user/anaconda3/envs/python3/lib/python3.10/site-packages (from pydantic<3,>=1->langchain<0.3.0,>=0.2.0->langchain-community) (2.18.2)\n",
      "Requirement already satisfied: mypy-extensions>=0.3.0 in /home/ec2-user/anaconda3/envs/python3/lib/python3.10/site-packages (from typing-inspect<1,>=0.4.0->dataclasses-json<0.7,>=0.5.7->langchain-community) (1.0.0)\n"
     ]
    }
   ],
   "source": [
    "!pip install langchain-community"
   ]
  },
  {
   "cell_type": "code",
   "execution_count": 3,
   "metadata": {},
   "outputs": [
    {
     "name": "stdout",
     "output_type": "stream",
     "text": [
      "Requirement already satisfied: langchain-text-splitters in /home/ec2-user/anaconda3/envs/python3/lib/python3.10/site-packages (0.2.0)\n",
      "Requirement already satisfied: langchain-core<0.3.0,>=0.2.0 in /home/ec2-user/anaconda3/envs/python3/lib/python3.10/site-packages (from langchain-text-splitters) (0.2.1)\n",
      "Requirement already satisfied: PyYAML>=5.3 in /home/ec2-user/anaconda3/envs/python3/lib/python3.10/site-packages (from langchain-core<0.3.0,>=0.2.0->langchain-text-splitters) (6.0.1)\n",
      "Requirement already satisfied: jsonpatch<2.0,>=1.33 in /home/ec2-user/anaconda3/envs/python3/lib/python3.10/site-packages (from langchain-core<0.3.0,>=0.2.0->langchain-text-splitters) (1.33)\n",
      "Requirement already satisfied: langsmith<0.2.0,>=0.1.0 in /home/ec2-user/anaconda3/envs/python3/lib/python3.10/site-packages (from langchain-core<0.3.0,>=0.2.0->langchain-text-splitters) (0.1.63)\n",
      "Requirement already satisfied: packaging<24.0,>=23.2 in /home/ec2-user/anaconda3/envs/python3/lib/python3.10/site-packages (from langchain-core<0.3.0,>=0.2.0->langchain-text-splitters) (23.2)\n",
      "Requirement already satisfied: pydantic<3,>=1 in /home/ec2-user/anaconda3/envs/python3/lib/python3.10/site-packages (from langchain-core<0.3.0,>=0.2.0->langchain-text-splitters) (2.7.1)\n",
      "Requirement already satisfied: tenacity<9.0.0,>=8.1.0 in /home/ec2-user/anaconda3/envs/python3/lib/python3.10/site-packages (from langchain-core<0.3.0,>=0.2.0->langchain-text-splitters) (8.2.3)\n",
      "Requirement already satisfied: jsonpointer>=1.9 in /home/ec2-user/anaconda3/envs/python3/lib/python3.10/site-packages (from jsonpatch<2.0,>=1.33->langchain-core<0.3.0,>=0.2.0->langchain-text-splitters) (2.4)\n",
      "Requirement already satisfied: orjson<4.0.0,>=3.9.14 in /home/ec2-user/anaconda3/envs/python3/lib/python3.10/site-packages (from langsmith<0.2.0,>=0.1.0->langchain-core<0.3.0,>=0.2.0->langchain-text-splitters) (3.10.3)\n",
      "Requirement already satisfied: requests<3,>=2 in /home/ec2-user/anaconda3/envs/python3/lib/python3.10/site-packages (from langsmith<0.2.0,>=0.1.0->langchain-core<0.3.0,>=0.2.0->langchain-text-splitters) (2.31.0)\n",
      "Requirement already satisfied: annotated-types>=0.4.0 in /home/ec2-user/anaconda3/envs/python3/lib/python3.10/site-packages (from pydantic<3,>=1->langchain-core<0.3.0,>=0.2.0->langchain-text-splitters) (0.7.0)\n",
      "Requirement already satisfied: pydantic-core==2.18.2 in /home/ec2-user/anaconda3/envs/python3/lib/python3.10/site-packages (from pydantic<3,>=1->langchain-core<0.3.0,>=0.2.0->langchain-text-splitters) (2.18.2)\n",
      "Requirement already satisfied: typing-extensions>=4.6.1 in /home/ec2-user/anaconda3/envs/python3/lib/python3.10/site-packages (from pydantic<3,>=1->langchain-core<0.3.0,>=0.2.0->langchain-text-splitters) (4.10.0)\n",
      "Requirement already satisfied: charset-normalizer<4,>=2 in /home/ec2-user/anaconda3/envs/python3/lib/python3.10/site-packages (from requests<3,>=2->langsmith<0.2.0,>=0.1.0->langchain-core<0.3.0,>=0.2.0->langchain-text-splitters) (3.3.2)\n",
      "Requirement already satisfied: idna<4,>=2.5 in /home/ec2-user/anaconda3/envs/python3/lib/python3.10/site-packages (from requests<3,>=2->langsmith<0.2.0,>=0.1.0->langchain-core<0.3.0,>=0.2.0->langchain-text-splitters) (3.6)\n",
      "Requirement already satisfied: urllib3<3,>=1.21.1 in /home/ec2-user/anaconda3/envs/python3/lib/python3.10/site-packages (from requests<3,>=2->langsmith<0.2.0,>=0.1.0->langchain-core<0.3.0,>=0.2.0->langchain-text-splitters) (2.2.1)\n",
      "Requirement already satisfied: certifi>=2017.4.17 in /home/ec2-user/anaconda3/envs/python3/lib/python3.10/site-packages (from requests<3,>=2->langsmith<0.2.0,>=0.1.0->langchain-core<0.3.0,>=0.2.0->langchain-text-splitters) (2024.2.2)\n"
     ]
    }
   ],
   "source": [
    "!pip install langchain-text-splitters"
   ]
  },
  {
   "cell_type": "code",
   "execution_count": 4,
   "metadata": {},
   "outputs": [
    {
     "name": "stdout",
     "output_type": "stream",
     "text": [
      "Requirement already satisfied: langchain-aws in /home/ec2-user/anaconda3/envs/python3/lib/python3.10/site-packages (0.1.6)\n",
      "Requirement already satisfied: boto3<1.35.0,>=1.34.51 in /home/ec2-user/anaconda3/envs/python3/lib/python3.10/site-packages (from langchain-aws) (1.34.101)\n",
      "Requirement already satisfied: langchain-core<0.3,>=0.1.45 in /home/ec2-user/anaconda3/envs/python3/lib/python3.10/site-packages (from langchain-aws) (0.2.1)\n",
      "Requirement already satisfied: numpy<2,>=1 in /home/ec2-user/anaconda3/envs/python3/lib/python3.10/site-packages (from langchain-aws) (1.22.4)\n",
      "Requirement already satisfied: botocore<1.35.0,>=1.34.101 in /home/ec2-user/anaconda3/envs/python3/lib/python3.10/site-packages (from boto3<1.35.0,>=1.34.51->langchain-aws) (1.34.101)\n",
      "Requirement already satisfied: jmespath<2.0.0,>=0.7.1 in /home/ec2-user/anaconda3/envs/python3/lib/python3.10/site-packages (from boto3<1.35.0,>=1.34.51->langchain-aws) (1.0.1)\n",
      "Requirement already satisfied: s3transfer<0.11.0,>=0.10.0 in /home/ec2-user/anaconda3/envs/python3/lib/python3.10/site-packages (from boto3<1.35.0,>=1.34.51->langchain-aws) (0.10.1)\n",
      "Requirement already satisfied: PyYAML>=5.3 in /home/ec2-user/anaconda3/envs/python3/lib/python3.10/site-packages (from langchain-core<0.3,>=0.1.45->langchain-aws) (6.0.1)\n",
      "Requirement already satisfied: jsonpatch<2.0,>=1.33 in /home/ec2-user/anaconda3/envs/python3/lib/python3.10/site-packages (from langchain-core<0.3,>=0.1.45->langchain-aws) (1.33)\n",
      "Requirement already satisfied: langsmith<0.2.0,>=0.1.0 in /home/ec2-user/anaconda3/envs/python3/lib/python3.10/site-packages (from langchain-core<0.3,>=0.1.45->langchain-aws) (0.1.63)\n",
      "Requirement already satisfied: packaging<24.0,>=23.2 in /home/ec2-user/anaconda3/envs/python3/lib/python3.10/site-packages (from langchain-core<0.3,>=0.1.45->langchain-aws) (23.2)\n",
      "Requirement already satisfied: pydantic<3,>=1 in /home/ec2-user/anaconda3/envs/python3/lib/python3.10/site-packages (from langchain-core<0.3,>=0.1.45->langchain-aws) (2.7.1)\n",
      "Requirement already satisfied: tenacity<9.0.0,>=8.1.0 in /home/ec2-user/anaconda3/envs/python3/lib/python3.10/site-packages (from langchain-core<0.3,>=0.1.45->langchain-aws) (8.2.3)\n",
      "Requirement already satisfied: python-dateutil<3.0.0,>=2.1 in /home/ec2-user/anaconda3/envs/python3/lib/python3.10/site-packages (from botocore<1.35.0,>=1.34.101->boto3<1.35.0,>=1.34.51->langchain-aws) (2.9.0)\n",
      "Requirement already satisfied: urllib3!=2.2.0,<3,>=1.25.4 in /home/ec2-user/anaconda3/envs/python3/lib/python3.10/site-packages (from botocore<1.35.0,>=1.34.101->boto3<1.35.0,>=1.34.51->langchain-aws) (2.2.1)\n",
      "Requirement already satisfied: jsonpointer>=1.9 in /home/ec2-user/anaconda3/envs/python3/lib/python3.10/site-packages (from jsonpatch<2.0,>=1.33->langchain-core<0.3,>=0.1.45->langchain-aws) (2.4)\n",
      "Requirement already satisfied: orjson<4.0.0,>=3.9.14 in /home/ec2-user/anaconda3/envs/python3/lib/python3.10/site-packages (from langsmith<0.2.0,>=0.1.0->langchain-core<0.3,>=0.1.45->langchain-aws) (3.10.3)\n",
      "Requirement already satisfied: requests<3,>=2 in /home/ec2-user/anaconda3/envs/python3/lib/python3.10/site-packages (from langsmith<0.2.0,>=0.1.0->langchain-core<0.3,>=0.1.45->langchain-aws) (2.31.0)\n",
      "Requirement already satisfied: annotated-types>=0.4.0 in /home/ec2-user/anaconda3/envs/python3/lib/python3.10/site-packages (from pydantic<3,>=1->langchain-core<0.3,>=0.1.45->langchain-aws) (0.7.0)\n",
      "Requirement already satisfied: pydantic-core==2.18.2 in /home/ec2-user/anaconda3/envs/python3/lib/python3.10/site-packages (from pydantic<3,>=1->langchain-core<0.3,>=0.1.45->langchain-aws) (2.18.2)\n",
      "Requirement already satisfied: typing-extensions>=4.6.1 in /home/ec2-user/anaconda3/envs/python3/lib/python3.10/site-packages (from pydantic<3,>=1->langchain-core<0.3,>=0.1.45->langchain-aws) (4.10.0)\n",
      "Requirement already satisfied: six>=1.5 in /home/ec2-user/anaconda3/envs/python3/lib/python3.10/site-packages (from python-dateutil<3.0.0,>=2.1->botocore<1.35.0,>=1.34.101->boto3<1.35.0,>=1.34.51->langchain-aws) (1.16.0)\n",
      "Requirement already satisfied: charset-normalizer<4,>=2 in /home/ec2-user/anaconda3/envs/python3/lib/python3.10/site-packages (from requests<3,>=2->langsmith<0.2.0,>=0.1.0->langchain-core<0.3,>=0.1.45->langchain-aws) (3.3.2)\n",
      "Requirement already satisfied: idna<4,>=2.5 in /home/ec2-user/anaconda3/envs/python3/lib/python3.10/site-packages (from requests<3,>=2->langsmith<0.2.0,>=0.1.0->langchain-core<0.3,>=0.1.45->langchain-aws) (3.6)\n",
      "Requirement already satisfied: certifi>=2017.4.17 in /home/ec2-user/anaconda3/envs/python3/lib/python3.10/site-packages (from requests<3,>=2->langsmith<0.2.0,>=0.1.0->langchain-core<0.3,>=0.1.45->langchain-aws) (2024.2.2)\n"
     ]
    }
   ],
   "source": [
    "!pip install langchain-aws"
   ]
  },
  {
   "cell_type": "code",
   "execution_count": 5,
   "metadata": {
    "id": "7f538ba7-a747-42b5-9481-38084383bf8f"
   },
   "outputs": [],
   "source": [
    "# Importando librerias requeridas\n",
    "import time\n",
    "import re\n",
    "import json\n",
    "import uuid\n",
    "import io\n",
    "import logging\n",
    "import pyarrow.parquet as pq\n",
    "import pandas as pd\n",
    "import numpy as np\n",
    "import boto3\n",
    "\n",
    "from langchain_community.retrievers import AmazonKnowledgeBasesRetriever\n",
    "from langchain.chains import create_retrieval_chain\n",
    "from langchain.chains.combine_documents import create_stuff_documents_chain\n",
    "from langchain_core.prompts import ChatPromptTemplate\n",
    "from langchain_aws import BedrockLLM\n"
   ]
  },
  {
   "cell_type": "code",
   "execution_count": 6,
   "metadata": {},
   "outputs": [],
   "source": [
    "# Creado manejador de bitácora\n",
    "logger = logging.getLogger(__name__)\n",
    "#logging.basicConfig(\n",
    "#    filename='../logs/Avance4_Equipo37_Bedrock_Alternative.log',\n",
    "#    level=logging.INFO,\n",
    "#    format='%(asctime)s %(levelname)-8s %(message)s',\n",
    "#    datefmt='%Y-%m-%d %H:%M:%S'\n",
    "#)"
   ]
  },
  {
   "cell_type": "code",
   "execution_count": 7,
   "metadata": {},
   "outputs": [],
   "source": [
    "# Configurando constantes para la ejecución. AWS_KBID contiene el identificador de la base de conocimientos de AWS Bedrock\n",
    "LOCAL_SET = '../local-responses'\n",
    "AWS_KBID = 'DT9APRDIVV'\n"
   ]
  },
  {
   "cell_type": "markdown",
   "metadata": {
    "id": "b8af6127-cc07-4a20-8fea-57ed0d56a355"
   },
   "source": [
    "### **Evaluando la Base de Conocimiento y el Modelo Fundacional**\n",
    "\n",
    "AWS Bedrock provee tres tipos de mecanismos para evaluar el desempeño de los modelos fundacionales:\n",
    "* Evaluación automatizada\n",
    "* Evaluación por un equipo de humanos\n",
    "* Evaluación por un servicio de evaluación de AWS\n",
    "\n",
    "La evaluación automatizada permite hacer evaluaciones de la precisión del modelo, la toxicidad de las respuestas y la robustes de las respuestas.\n",
    "Desafortunadamente AWS solo ofrece este servicio para solo uno de los modelos de Amazon y no cubre la evaluación de la base de conocimiento y de las respuestas generadas en combinación con el modelo fundacional de Titan Text Premier.\n",
    "\n",
    "Dada esta limitación el equipo decidió establecer un proceso de evaluación por un equipo de personas. Cada miembro:\n",
    "* creó varias preguntas relacionadas a hoteles y lugares\n",
    "* alimentó las preguntas a la base de conocimiento y el modelo fundacional y a Copilot Edge\n",
    "* preparó un análisis comparativo de las respuestas recibidas.\n"
   ]
  },
  {
   "cell_type": "markdown",
   "metadata": {
    "id": "b8af6127-cc07-4a20-8fea-57ed0d56a355"
   },
   "source": [
    "### **Creando Agente para Recuperar Informacion de Contexto**"
   ]
  },
  {
   "cell_type": "code",
   "execution_count": 8,
   "metadata": {
    "id": "0d6d5eee-596e-4bb8-a3c9-919ce176fe7b"
   },
   "outputs": [],
   "source": [
    "# Creando sesion para AWS Bedrock. Credenciales y configuracion se obtienen de ~/.aws\n",
    "retriever = AmazonKnowledgeBasesRetriever(\n",
    "    knowledge_base_id=AWS_KBID,\n",
    "    retrieval_config={'vectorSearchConfiguration': {'numberOfResults': 5}},\n",
    ")"
   ]
  },
  {
   "cell_type": "markdown",
   "metadata": {
    "id": "b8af6127-cc07-4a20-8fea-57ed0d56a355"
   },
   "source": [
    "### **Creando Agente para Questionar el Modelo Fundacional**"
   ]
  },
  {
   "cell_type": "code",
   "execution_count": 9,
   "metadata": {},
   "outputs": [],
   "source": [
    "model_kwargs_premier = {'temperature': 0, 'topP': 0.7, 'maxTokenCount': 3000}\n",
    "llm = BedrockLLM(model_id='amazon.titan-text-premier-v1:0', model_kwargs=model_kwargs_premier)"
   ]
  },
  {
   "cell_type": "markdown",
   "metadata": {
    "id": "b8af6127-cc07-4a20-8fea-57ed0d56a355"
   },
   "source": [
    "### **Creando Función para Solictar Respuestas de AWS Bedrock y para Desplegarlas**"
   ]
  },
  {
   "cell_type": "code",
   "execution_count": 10,
   "metadata": {},
   "outputs": [],
   "source": [
    "# Creando función para buscar información en la base de conocimiento y generar una respuesta usando el modelo fundacional\n",
    "# Titan Text Premier de AWS Bedrock. La función también calcula el tiempo de ejecución\n",
    "def retrieve_and_generate(query, retriever, llm):\n",
    "    start_time = time.time()\n",
    "    system_prompt = (\n",
    "        \"You are a friendly and helpful travel assistant.\"\n",
    "        \"Use the given context to answer the question.\"\n",
    "        \"Select options in the same city or near by.\"\n",
    "        \"Provide two or three options if possible.\"\n",
    "        \"Use the name provided in the context.\"\n",
    "        \"If you don't know the answer, say you don't know. \"\n",
    "        \"Use three sentence maximum and keep the answer concise. \"\n",
    "        \"Context: {context}\"\n",
    "    )\n",
    "    prompt = ChatPromptTemplate.from_messages(\n",
    "        [\n",
    "            (\"system\", system_prompt),\n",
    "            (\"human\", \"{input}\"),\n",
    "        ]\n",
    "    )\n",
    "    question_answer_chain = create_stuff_documents_chain(llm, prompt)\n",
    "    chain = create_retrieval_chain(retriever, question_answer_chain)\n",
    "    \n",
    "    response = chain.invoke({\"input\": query})\n",
    "    elapsed_time = time.time() - start_time\n",
    "    return elapsed_time, response\n"
   ]
  },
  {
   "cell_type": "code",
   "execution_count": 11,
   "metadata": {},
   "outputs": [],
   "source": [
    "# Creando función desplegar la respuesta recibida de AWS. La respuesta incluye diferentes valores como la respuesta completa,\n",
    "# la respuesta en partes, o citas, con referencias y los metadatos de cada referencia\n",
    "def display_response(response, elapsed_time):\n",
    "    # desplegando respuestas\n",
    "    print(f\"Respuesta despues de {elapsed_time:.4f} segundos:\\n{response['answer']}\")\n",
    "    for context in response['context']:\n",
    "        print(f\"\\nContexto:\\n{context.page_content}\")\n",
    "        print(f\"\\nCalificacion:{context.metadata['score']:.6f}\")\n",
    "        print(f\"\\nNombre del hotel: {context.metadata['source_metadata']['Name']}, Ciudad:{context.metadata['source_metadata']['City']}, Direccion:{context.metadata['source_metadata']['Address']}\")\n",
    "        print(f\"\\nPais: {context.metadata['source_metadata']['Country']}, Continente:{context.metadata['source_metadata']['Continent']}, URI:{context.metadata['source_metadata']['x-amz-bedrock-kb-source-uri']}\")\n"
   ]
  },
  {
   "cell_type": "markdown",
   "metadata": {},
   "source": [
    "### **Ejecutando la Evaluación**"
   ]
  },
  {
   "cell_type": "markdown",
   "metadata": {},
   "source": [
    "**Obteniendo Respuestas de la Base Conocimiento y el Modelo Fundacional**"
   ]
  },
  {
   "cell_type": "code",
   "execution_count": 12,
   "metadata": {
    "id": "0d6d5eee-596e-4bb8-a3c9-919ce176fe7b",
    "scrolled": true
   },
   "outputs": [
    {
     "name": "stdout",
     "output_type": "stream",
     "text": [
      "Respuesta despues de 3.9319 segundos:\n",
      "Sure! Here are some options:\n",
      "\n",
      "1. Kwa Maritane Bush Lodge\n",
      "2. The Kingdom Resort\n",
      "3. Black Rhino Game Lodge\n",
      "4. Sun City Resort\n",
      "5. The Palace of the Lost City\n",
      "6. Shepherd's Tree Game Lodge\n",
      "7. Bakgatla Resort\n",
      "8. Tshukudu Bush Lodge\n",
      "9. Pilanesberg Private Lodge\n",
      "10. Manyane Resort\n",
      "\n",
      "These accommodations offer a range of experiences, from luxury lodges to budget-friendly resorts, and are all located near the Pilanesberg National Park.\n",
      "\n",
      "Contexto:\n",
      "An array of activities can be enjoyed on site or in the surroundings, including cycling, horse riding and fishing. The Pilanesberg Nationalpark is about 70 km away. Payment before arrival via bank transfer is required. The property will contact you after you book to provide instructions.\n",
      "In response to Coronavirus (COVID-19), additional safety and sanitation measures are in effect at this property.\n",
      "Food & beverage services at this property may be limited or unavailable due to Coronavirus (COVID-19).\n",
      "In accordance with government guidelines to minimise transmission of the Coronavirus (COVID-19), this property can only accept bookings from essential workers/permitted travellers, during dates where such guidelines exist. Reasonable evidence must be provided on arrival. If it isnt provided, your booking will be cancelled on arrival.\n",
      "Due to Coronavirus (COVID-19), this property is taking steps to help protect the safety of guests and staff. Certain services and amenities may be reduced or unavailable as a result.\n",
      "In accordance with government guidelines to minimise transmission of the Coronavirus (COVID-19), this property may request additional documentation from guests to validate identity, travel itinerary and other relevant information, during dates where such guidelines exist. Disclaimer notification: Amenities are subject to availability and may be chargeable as per the hotel policy.\n",
      "\n",
      "Calificacion:0.692151\n",
      "\n",
      "Nombre del hotel: woodridge palms boutique hotel, Ciudad:Millvale, Direccion:woodstock steenbokfontein, 1245 millvale, millvale, 1245, south africa\n",
      "\n",
      "Pais: South Africa, Continente:Africa, URI:s3://chunked-hotel-data/1437002-6d78f9a8189611ef9eac16ffcf11486b.txt\n",
      "\n",
      "Contexto:\n",
      "HotelDescription#The hotel is situated at the heart of the Waterberg in a wildlife reserve in the Limpopo province. Shidzidzi and Nungubane are only 3 km from the hotel. The hotel is located 130 km from Nylstroom and around 150 km from Mabula Lodge and Kwafubesi Toll Plaza. Sandton and Johannesburg International Airport lie 260 km/ a 3-hour drive away. Pretoria lies approximately 210 km from the hotel, whilst Sun City is 330 km away.\n",
      "\n",
      "The hotel accommodates a total of 20 guests in intimate elegance. Surrounded by 35,000 hectares of African bush land, guests here may enjoy fabulous views of the Big Five. This hotel comprises a total of 10 luxury chalets (5 per chalet), 4 king-size chalets (2 per chalet) and 6 double chalets (3 per chalet). Additionally on offer here are a lounge, a curio shop, a private helicopter and six fixed wing charters.\n",
      "\n",
      "All rooms afford a view of the Waterberg and each chalet comes with a private veranda/roof terrace. The rooms comprise an en suite bathroom with hairdryer, an additional outdoor shower, ceiling fans as well as tea and coffee making facilities.\n",
      "\n",
      "There is a swimming pool available for use in the outdoor complex. Each camp features water holes, where guests are able to view the thirsty wildlife.\n",
      "\n",
      "It is possible to dine in the bush.\n",
      "\n",
      "Calificacion:0.653588\n",
      "\n",
      "Nombre del hotel: shidzidzi and nungubane private game lodge, Ciudad:Vaalwater, Direccion:waterberg nature conservancy, waterbergvaalwater 0530, vaalwater, 530, south africa\n",
      "\n",
      "Pais: South Africa, Continente:Africa, URI:s3://chunked-hotel-data/1129025-d410acd6188911ef9eac16ffcf11486b.txt\n",
      "\n",
      "Contexto:\n",
      "It is possible to dine in the bush.\n",
      "\n",
      "By air: There is a landing strip that serves both Shidzidzi and Nungubane. By road: From Johannesburg take the N1 in the direction of Pietersburg until the Krankskop Toll Plaza. At the Toll Plaza follow the Nylstroom off ramp. Continue through Nylstroom, until reaching the main gate of Vaalwater - 26 km from Vaalwater. Do not enter the main gate, but continue until the Schoongelegen turn off. Turn left on to Schoongelegen and follow the sand road until West Gate (16.5 km). Enter at the West Gate and park your car. Guests will be transported to the hotel by means of a special vehicle. Disclaimer notification: Amenities are subject to availability and may be chargeable as per the hotel policy.\n",
      "\n",
      "Calificacion:0.636508\n",
      "\n",
      "Nombre del hotel: shidzidzi and nungubane private game lodge, Ciudad:Vaalwater, Direccion:waterberg nature conservancy, waterbergvaalwater 0530, vaalwater, 530, south africa\n",
      "\n",
      "Pais: South Africa, Continente:Africa, URI:s3://chunked-hotel-data/1129025-d423c32a188911ef9eac16ffcf11486b.txt\n",
      "\n",
      "Contexto:\n",
      "Kruger National Park’s, Phabeni Gate is 10 km away and Kruger Mpumalanga International Airport is a 50 minutes’ drive. Wired internet is available. Payment before arrival via bank transfer is required. The property will contact you after you book to provide instructions.\n",
      "Guests are required to show a photo identification and credit card upon check-in. Please note that all Special Requests are subject to availability and additional charges may apply.\n",
      "In response to Coronavirus (COVID-19), additional safety and sanitation measures are in effect at this property.\n",
      "Food & beverage services at this property may be limited or unavailable due to Coronavirus (COVID-19).\n",
      "In accordance with government guidelines to minimise transmission of the Coronavirus (COVID-19), this property can only accept bookings from essential workers/permitted travellers, during dates where such guidelines exist. Reasonable evidence must be provided on arrival. If it isnt provided, your booking will be cancelled on arrival.\n",
      "Due to Coronavirus (COVID-19), this property is taking steps to help protect the safety of guests and staff. Certain services and amenities may be reduced or unavailable as a result.\n",
      "Due to Coronavirus (COVID-19), this property has reduced reception and service operating hours.\n",
      "In accordance with government guidelines to minimise transmission of the Coronavirus (COVID-19), this property may request additional documentation from guests to validate identity, travel itinerary and other relevant information, during dates where such guidelines exist.\n",
      "Due to Coronavirus (COVID-19), this property adheres to strict physical distancing measures.\n",
      "Due to Coronavirus (COVID-19), please ensure that you are only booking this property following the local government guidelines of the destination, including but not limited to the purpose of travel, and maximum allowed group size.\n",
      "A damage deposit of ZAR 1000 is required. The host charges this 14 days before arrival. This will be collected by credit card. You should be reimbursed within 7 days of check-out. Your deposit will be refunded in full via credit card, subject to an inspection of the property. Disclaimer notification: Amenities are subject to availability and may be chargeable as per the hotel policy.\n",
      "\n",
      "Calificacion:0.620357\n",
      "\n",
      "Nombre del hotel: cambalala kruger park lodge, Ciudad:Hazyview, Direccion:portia shabangu road, on the kruger park lodge golf club groundshazyview 1242mpumalanga, hazyview, 1242, south africa\n",
      "\n",
      "Pais: South Africa, Continente:Africa, URI:s3://chunked-hotel-data/1597797-5c6b3e70189911ef9eac16ffcf11486b.txt\n",
      "\n",
      "Contexto:\n",
      "HeadLine : Near Drakensberg Boys Choir SchoolLocation : Located in Cathkin Park, this cottage is in the mountains, a 1-minute drive from Drakensberg Mountains and 10 minutes from Drakensberg Boys Choir School.  This 4-star cottage is 5 mi (8 km) from uKhahlamba-Drakensberg Park and 5.6 mi (9 km) from Maloti-Drakensberg Park.Rooms : Treat yourself to a stay in this individually decorated cottage, which features a fireplace and an outdoor private spa tub. There s a private patio. A kitchen is outfitted with a refrigerator, an oven, and a stovetop. A 32-inch flat-screen television with satellite programming provides entertainment, while complimentary wireless Internet access keeps you connected. A private bathroom with a separate bathtub and shower features a deep soaking tub and a rainfall showerhead.CheckIn Instructions :   Extra-person charges may apply and vary depending on property policyGovernment-issued photo identification and a credit card, debit card, or cash deposit may be required at check-in for incidental chargesSpecial requests are subject to availability upon check-in and may incur additional charges; special requests cannot be guaranteedThis property accepts credit cards and debit cards; cash is not accepted  Special Instructions : To make arrangements for check-in please contact the property at least 24 hours before arrival using the information on the booking confirmation. If you are planning to arrive after 7 PM please contact the property in advance using the information on the booking confirmation. Guests must contact the property in advance for check-in instructions. Front desk staff will greet guests on arrival. Disclaimer notification: Amenities are subject to availability and may be chargeable as per the hotel policy.\n",
      "\n",
      "Calificacion:0.619366\n",
      "\n",
      "Nombre del hotel: ama casa cottages, Ciudad:Cathkin Park, Direccion:r600 champagne valley central drakensberg kzn, cathkin park 3340kwazulu natal, cathkin park, 3340, south africa\n",
      "\n",
      "Pais: South Africa, Continente:Africa, URI:s3://chunked-hotel-data/1827607-96ba5868188511ef9eac16ffcf11486b.txt\n"
     ]
    }
   ],
   "source": [
    "input = '''Can you suggest accomodation near pilanesberg national park in south africa?'''\n",
    "\n",
    "elapsed_time, response = retrieve_and_generate(input, retriever, llm)\n",
    "display_response(response, elapsed_time)"
   ]
  },
  {
   "cell_type": "markdown",
   "metadata": {},
   "source": [
    "**Respuesta de Copilot Edge**\n",
    "\n",
    "Certainly! When visiting Pilanesberg National Park in South Africa, you have several accommodation options to choose from. Here are some recommendations:\n",
    "\n",
    "Bakubung Bush Lodge: Located within the park, this lodge offers elegantly decorated rooms with free Wi-Fi and a variety of massages. Prices start at R5100 per person sharing1.\n",
    "Black Rhino Game Lodge: Another excellent choice within the park, offering a unique safari experience.\n",
    "Kwa Maritane Bush Lodge: Situated in the Pilanesberg Game Reserve, this lodge provides comfortable accommodations.\n",
    "Tshukudu Bush Lodge: Known for its luxury and exclusivity, Tshukudu offers an unforgettable stay.\n",
    "Ivory Tree Game Lodge: A great option for wildlife enthusiasts, with comfortable rooms and beautiful surroundings.\n",
    "Additionally, Pilanesberg National Park itself has various accommodation options, including resorts, safari tents, bush lodges, chalets, and self-catering choices. Families, budget travelers, and discerning guests will find something suitable for their preferences and budget. Whether you prefer rustic safari tents or luxurious five-star lodges, the abundant wildlife in this malaria-free park remains the main attraction"
   ]
  },
  {
   "cell_type": "markdown",
   "metadata": {},
   "source": [
    "**Análisis**\n",
    "\n",
    "La repuesta obtenida del modelo y la base de conocimiento es bastante completo y preciso y probablemente una de las mejores respuestas proporcionadas.\n",
    "Los lugares sugeridos están ubicados en la vecindad del parque nacional de Pilanesberg y son bien conocidos.\n",
    "\n",
    "Las descripciones proporcionada por Copilot Edge concuerda con la presentada por el modelo y la base de conocimiento.\n"
   ]
  },
  {
   "cell_type": "markdown",
   "metadata": {},
   "source": [
    "**Obteniendo Respuestas de la Base Conocimiento y el Modelo Fundacional**"
   ]
  },
  {
   "cell_type": "code",
   "execution_count": 13,
   "metadata": {
    "id": "0d6d5eee-596e-4bb8-a3c9-919ce176fe7b",
    "scrolled": true
   },
   "outputs": [
    {
     "name": "stdout",
     "output_type": "stream",
     "text": [
      "Respuesta despues de 2.5321 segundos:\n",
      "Sure! Here are some options:\n",
      "\n",
      "1. Bakubung Bush Lodge\n",
      "2. Kwa Maritane Bush Lodge\n",
      "3. The Kingdom Resort\n",
      "4. Black Rhino Game Lodge\n",
      "5. Sun City Resort\n",
      "\n",
      "These accommodations are all located near the Pilanesberg National Park and offer a range of amenities and activities for guests to enjoy.\n",
      "\n",
      "Contexto:\n",
      "An array of activities can be enjoyed on site or in the surroundings, including cycling, horse riding and fishing. The Pilanesberg Nationalpark is about 70 km away. Payment before arrival via bank transfer is required. The property will contact you after you book to provide instructions.\n",
      "In response to Coronavirus (COVID-19), additional safety and sanitation measures are in effect at this property.\n",
      "Food & beverage services at this property may be limited or unavailable due to Coronavirus (COVID-19).\n",
      "In accordance with government guidelines to minimise transmission of the Coronavirus (COVID-19), this property can only accept bookings from essential workers/permitted travellers, during dates where such guidelines exist. Reasonable evidence must be provided on arrival. If it isnt provided, your booking will be cancelled on arrival.\n",
      "Due to Coronavirus (COVID-19), this property is taking steps to help protect the safety of guests and staff. Certain services and amenities may be reduced or unavailable as a result.\n",
      "In accordance with government guidelines to minimise transmission of the Coronavirus (COVID-19), this property may request additional documentation from guests to validate identity, travel itinerary and other relevant information, during dates where such guidelines exist. Disclaimer notification: Amenities are subject to availability and may be chargeable as per the hotel policy.\n",
      "\n",
      "Calificacion:0.669203\n",
      "\n",
      "Nombre del hotel: woodridge palms boutique hotel, Ciudad:Millvale, Direccion:woodstock steenbokfontein, 1245 millvale, millvale, 1245, south africa\n",
      "\n",
      "Pais: South Africa, Continente:Africa, URI:s3://chunked-hotel-data/1437002-6d78f9a8189611ef9eac16ffcf11486b.txt\n",
      "\n",
      "Contexto:\n",
      "HotelDescription#The hotel is situated at the heart of the Waterberg in a wildlife reserve in the Limpopo province. Shidzidzi and Nungubane are only 3 km from the hotel. The hotel is located 130 km from Nylstroom and around 150 km from Mabula Lodge and Kwafubesi Toll Plaza. Sandton and Johannesburg International Airport lie 260 km/ a 3-hour drive away. Pretoria lies approximately 210 km from the hotel, whilst Sun City is 330 km away.\n",
      "\n",
      "The hotel accommodates a total of 20 guests in intimate elegance. Surrounded by 35,000 hectares of African bush land, guests here may enjoy fabulous views of the Big Five. This hotel comprises a total of 10 luxury chalets (5 per chalet), 4 king-size chalets (2 per chalet) and 6 double chalets (3 per chalet). Additionally on offer here are a lounge, a curio shop, a private helicopter and six fixed wing charters.\n",
      "\n",
      "All rooms afford a view of the Waterberg and each chalet comes with a private veranda/roof terrace. The rooms comprise an en suite bathroom with hairdryer, an additional outdoor shower, ceiling fans as well as tea and coffee making facilities.\n",
      "\n",
      "There is a swimming pool available for use in the outdoor complex. Each camp features water holes, where guests are able to view the thirsty wildlife.\n",
      "\n",
      "It is possible to dine in the bush.\n",
      "\n",
      "Calificacion:0.654697\n",
      "\n",
      "Nombre del hotel: shidzidzi and nungubane private game lodge, Ciudad:Vaalwater, Direccion:waterberg nature conservancy, waterbergvaalwater 0530, vaalwater, 530, south africa\n",
      "\n",
      "Pais: South Africa, Continente:Africa, URI:s3://chunked-hotel-data/1129025-d410acd6188911ef9eac16ffcf11486b.txt\n",
      "\n",
      "Contexto:\n",
      "It is possible to dine in the bush.\n",
      "\n",
      "By air: There is a landing strip that serves both Shidzidzi and Nungubane. By road: From Johannesburg take the N1 in the direction of Pietersburg until the Krankskop Toll Plaza. At the Toll Plaza follow the Nylstroom off ramp. Continue through Nylstroom, until reaching the main gate of Vaalwater - 26 km from Vaalwater. Do not enter the main gate, but continue until the Schoongelegen turn off. Turn left on to Schoongelegen and follow the sand road until West Gate (16.5 km). Enter at the West Gate and park your car. Guests will be transported to the hotel by means of a special vehicle. Disclaimer notification: Amenities are subject to availability and may be chargeable as per the hotel policy.\n",
      "\n",
      "Calificacion:0.642073\n",
      "\n",
      "Nombre del hotel: shidzidzi and nungubane private game lodge, Ciudad:Vaalwater, Direccion:waterberg nature conservancy, waterbergvaalwater 0530, vaalwater, 530, south africa\n",
      "\n",
      "Pais: South Africa, Continente:Africa, URI:s3://chunked-hotel-data/1129025-d423c32a188911ef9eac16ffcf11486b.txt\n",
      "\n",
      "Contexto:\n",
      "HeadLine : Near Drakensberg Boys Choir SchoolLocation : Located in Cathkin Park, this cottage is in the mountains, a 1-minute drive from Drakensberg Mountains and 10 minutes from Drakensberg Boys Choir School.  This 4-star cottage is 5 mi (8 km) from uKhahlamba-Drakensberg Park and 5.6 mi (9 km) from Maloti-Drakensberg Park.Rooms : Treat yourself to a stay in this individually decorated cottage, which features a fireplace and an outdoor private spa tub. There s a private patio. A kitchen is outfitted with a refrigerator, an oven, and a stovetop. A 32-inch flat-screen television with satellite programming provides entertainment, while complimentary wireless Internet access keeps you connected. A private bathroom with a separate bathtub and shower features a deep soaking tub and a rainfall showerhead.CheckIn Instructions :   Extra-person charges may apply and vary depending on property policyGovernment-issued photo identification and a credit card, debit card, or cash deposit may be required at check-in for incidental chargesSpecial requests are subject to availability upon check-in and may incur additional charges; special requests cannot be guaranteedThis property accepts credit cards and debit cards; cash is not accepted  Special Instructions : To make arrangements for check-in please contact the property at least 24 hours before arrival using the information on the booking confirmation. If you are planning to arrive after 7 PM please contact the property in advance using the information on the booking confirmation. Guests must contact the property in advance for check-in instructions. Front desk staff will greet guests on arrival. Disclaimer notification: Amenities are subject to availability and may be chargeable as per the hotel policy.\n",
      "\n",
      "Calificacion:0.603335\n",
      "\n",
      "Nombre del hotel: ama casa cottages, Ciudad:Cathkin Park, Direccion:r600 champagne valley central drakensberg kzn, cathkin park 3340kwazulu natal, cathkin park, 3340, south africa\n",
      "\n",
      "Pais: South Africa, Continente:Africa, URI:s3://chunked-hotel-data/1827607-96ba5868188511ef9eac16ffcf11486b.txt\n",
      "\n",
      "Contexto:\n",
      "Nestled between the Swartberg and the Outeniqua mountains, in one of the most biodiverse regions of South Africa, this splendid hotel is like a place suspended it time. The interior of the cottages and suites is a match only to the fantastic views from the windows and balconies. A wide range of activities are available to guests, such as bush drives, horseback safaris and nature walks among dozens of wildlife animals – buffalo, giraffe, zebras and over 200 bird species. After an unforgettable day amidst the beauty and splendour of nature, visitors will have a chance of tasting real South African cuisine in the privacy of their own suites, in the imposing dining room or by the clear blue waters of the pool. Disclaimer notification: Amenities are subject to availability and may be chargeable as per the hotel policy.\n",
      "\n",
      "Calificacion:0.598371\n",
      "\n",
      "Nombre del hotel: madi madi karoo safari lodge, Ciudad:Dysselsdorp, Direccion:main road draaihoek farm, dysselsdorp, dysselsdorp, 6625, south africa\n",
      "\n",
      "Pais: South Africa, Continente:Africa, URI:s3://chunked-hotel-data/1224143-0d3dfd02189d11ef9eac16ffcf11486b.txt\n"
     ]
    }
   ],
   "source": [
    "input = '''Can you suggest accomodation near pilanesberg national park in the north west province in south africa?'''\n",
    "\n",
    "elapsed_time, response = retrieve_and_generate(input, retriever, llm)\n",
    "display_response(response, elapsed_time)"
   ]
  },
  {
   "cell_type": "markdown",
   "metadata": {},
   "source": [
    "**Respuesta de Copilot Edge**\n",
    "\n",
    "Certainly! When visiting Pilanesberg National Park in South Africa, you have several accommodation options to choose from. Here are some recommendations:\n",
    "\n",
    "Bakubung Bush Lodge: Located within the park, this lodge offers elegantly decorated rooms with free Wi-Fi and a variety of massages. Prices start at R5100 per person sharing1.\n",
    "Black Rhino Game Lodge: Another excellent choice within the park, offering a unique safari experience.\n",
    "Kwa Maritane Bush Lodge: Situated in the Pilanesberg Game Reserve, this lodge provides comfortable accommodations.\n",
    "Tshukudu Bush Lodge: Known for its luxury and exclusivity, Tshukudu offers an unforgettable stay.\n",
    "Ivory Tree Game Lodge: A great option for wildlife enthusiasts, with comfortable rooms and beautiful surroundings.\n",
    "Additionally, Pilanesberg National Park itself has various accommodation options, including resorts, safari tents, bush lodges, chalets, and self-catering choices. Families, budget travelers, and discerning guests will find something suitable for their preferences and budget. Whether you prefer rustic safari tents or luxurious five-star lodges, the abundant wildlife in this malaria-free park remains the main attraction"
   ]
  },
  {
   "cell_type": "markdown",
   "metadata": {},
   "source": [
    "**Análisis**\n",
    "\n",
    "El agregar una pieza adicional de información, en la forma del nombre de la provincia donde se localiza el parque, no le permitió al modelo y la base de conocimiento presentar una respuesta valida. Las opciones de hospedaje presentadas, si bien están en Sudáfrica, se localizan en otras provincias y algunos casos la recomendación incluye opciones en el otro lado del país.\n",
    "\n",
    "Analizando las citas y referencias presentadas se puede observar que el texto incluye el nombre del parque, pero el resto de la descripción pertenece a otro hotel en otra provincia. Esto parece indicar que habrá que hacer ajustes al tamaño del pedazo usado para crear los vectores.\n"
   ]
  },
  {
   "cell_type": "markdown",
   "metadata": {},
   "source": [
    "**Obteniendo Respuestas de la Base Conocimiento y el Modelo Fundacional**"
   ]
  },
  {
   "cell_type": "code",
   "execution_count": 14,
   "metadata": {
    "scrolled": true
   },
   "outputs": [
    {
     "name": "stdout",
     "output_type": "stream",
     "text": [
      "Respuesta despues de 1.2961 segundos:\n",
      "Pilanesberg National Park is close to Black Rhino Game Lodge.\n",
      "\n",
      "Contexto:\n",
      "HeadLine : In a national parkLocation : When you stay at Black Rhino Game Lodge in Pilanesberg National Park, you ll be in a national park and 13 minutes by foot from Pilanesberg National Park.  This 4-star lodge is 22.1 mi (35.6 km) from Sun City Casino and 22.5 mi (36.1 km) from The Valley of Waves.Rooms : Make yourself at home in one of the 22 individually decorated guestrooms, featuring minibars and flat-screen televisions. Rooms have private furnished patios. Complimentary wireless Internet access keeps you connected, and satellite programming is available for your entertainment. Private bathrooms with separate bathtubs and showers feature complimentary toiletries and hair dryers.Dining : Enjoy a meal at the restaurant or snacks in the lodge s coffee shop/cafe. Wrap up your day with a drink at the bar/lounge. A complimentary self-serve breakfast is served daily from 7:00 AM to 9:00 AM.CheckIn Instructions :   Extra-person charges may apply and vary depending on property policyGovernment-issued photo identification and a credit card or cash deposit may be required at check-in for incidental chargesSpecial requests are subject to availability upon check-in and may incur additional charges; special requests cannot be guaranteedThis property accepts credit cards; cash is not acceptedPlease note that cultural norms and guest policies may differ by country and by property; the policies listed are provided by the property  Special Instructions : The front desk is open daily from 7:00 AM - 10:00 PM. This property doesn t offer after-hours check-in. Front desk staff will greet guests on arrival. For more details, please contact the property using the information on the booking confirmation.  This property does not permit children under 5 years old on game drives. Children ages 6-11 are permitted on game drives at management discretion. Children age 12 and older are permitted on game drives, and are charged the adult rate per game drive. Guests driving to the property should contact this property in advance. Disclaimer notification: Amenities are subject to availability and may be chargeable as per the hotel policy.\n",
      "\n",
      "Calificacion:0.687334\n",
      "\n",
      "Nombre del hotel: black rhino game lodge, Ciudad:Pilanesberg National Park, Direccion:r565 black rhino game reserve, black rhino game reservepilanesberg 7130pilanesberg national park, pilanesberg national park, 2128, south africa\n",
      "\n",
      "Pais: South Africa, Continente:Africa, URI:s3://chunked-hotel-data/1167213-3bacf31e188911ef9eac16ffcf11486b.txt\n",
      "\n",
      "Contexto:\n",
      "HeadLine : In a national parkLocation : With a stay at Rhino Ridge Safari Lodge in Hlabisa, you ll be 1.6 mi (2.7 km) from Hluhluwe–Imfolozi Park and 23.5 mi (37.8 km) from Centenary Centre.  This 4-star lodge is 27.4 mi (44.1 km) from Zululand Rhino Reserve and 29.7 mi (47.8 km) from Manyoni Private Game Reserve.Rooms : Make yourself at home in one of the 16 air-conditioned rooms featuring minibars. Conveniences include safes and coffee/tea makers, and housekeeping is provided daily.Dining : At Rhino Ridge Safari Lodge, enjoy a satisfying meal at the restaurant. Wrap up your day with a drink at the bar/lounge. A complimentary full breakfast is included.CheckIn Instructions :   Extra-person charges may apply and vary depending on property policyGovernment-issued photo identification and a credit card, debit card, or cash deposit may be required at check-in for incidental chargesSpecial requests are subject to availability upon check-in and may incur additional charges; special requests cannot be guaranteedThis property accepts credit cards and cashSafety features at this property include a carbon monoxide detector, a fire extinguisher, a smoke detector, a security system, and a first aid kit  Special Instructions : The front desk is open daily from 6 AM - 10 PM. This property doesn t offer after-hours check-in. Front desk staff will greet guests on arrival. Disclaimer notification: Amenities are subject to availability and may be chargeable as per the hotel policy.\n",
      "\n",
      "Calificacion:0.682968\n",
      "\n",
      "Nombre del hotel: rhino ridge safari lodge, Ciudad:Hluhluwe, Direccion:hluhluwe imfolozi park, hluhluwe 3937kwazulu natal, hluhluwe, 3815, south africa\n",
      "\n",
      "Pais: South Africa, Continente:Africa, URI:s3://chunked-hotel-data/1227974-9a85cf54188a11ef9eac16ffcf11486b.txt\n",
      "\n",
      "Contexto:\n",
      "HeadLine : In SkukuzaLocation : With a stay at Rhino Walking Safaris in Skukuza, you ll be 22.4 mi (36 km) from Kruger National Park and 14.9 mi (23.9 km) from AM Spa Kruger.  This 4-star tentalow is 18.7 mi (30.1 km) from Silolweni Lake and 19.5 mi (31.4 km) from Skukuza Golf Course.Rooms : Make yourself at home in one of the 4 guestrooms. Rooms have private balconies or patios. Bathrooms have showers and complimentary toiletries. Conveniences include desks and separate sitting areas, and housekeeping is provided daily.Dining : This tentalow is all inclusive. Rates include meals and beverages at onsite dining establishments. Charges may be applied for dining at some restaurants, special dinners and dishes, some beverages, and other amenities. At Rhino Walking Safaris, enjoy a satisfying meal at the restaurant. Wrap up your day with a drink at the bar/lounge. A complimentary full breakfast is served daily from 10 AM to noon. CheckIn Instructions :   Extra-person charges may apply and vary depending on property policyGovernment-issued photo identification and a credit card, debit card, or cash deposit may be required at check-in for incidental chargesSpecial requests are subject to availability upon check-in and may incur additional charges; special requests cannot be guaranteedThis property accepts credit cards, debit cards, and cashSafety features at this property include a carbon monoxide detector, a fire extinguisher, a smoke detector, a security system, a first aid kit, and window guards  Special Instructions : To make arrangements for check-in please contact the property at least 24 hours before arrival using the information on the booking confirmation. If you are planning to arrive after 1 PM please contact the property in advance using the information on the booking confirmation. Guests must contact the property in advance for check-in instructions. Front desk staff will greet guests on arrival. Disclaimer notification: Amenities are subject to availability and may be chargeable as per the hotel policy.\n",
      "\n",
      "Calificacion:0.672704\n",
      "\n",
      "Nombre del hotel: rhino walking safaris, Ciudad:Kruger National Park, Direccion:skukuza, kruger national parkmpumalanga, kruger national park, 1350, south africa\n",
      "\n",
      "Pais: South Africa, Continente:Africa, URI:s3://chunked-hotel-data/1347042-d3152424187f11ef9eac16ffcf11486b.txt\n",
      "\n",
      "Contexto:\n",
      "Located 27 km from Ladysmith, Cheetah Ridge Lodge is situated within the Big 5 Nambiti Private Game Reserve, which boasts the Big 5 with a variety of other species and amazing birdlife. This property features a garden and a pool.\n",
      "\n",
      "The accommodation is air conditioned and features a seating area overlooking a private waterhole. A refrigerator and a coffee machine are also provided. Every unit offers an en suite bathroom fitted with a shower, bath, double basin and free toiletries. Towels and bed linen are featured.\n",
      "\n",
      "Guests can go on a morning and evening game drive, accompanied by an experienced field guide. Cheetah Ridge Lodge also features a Spa, a tennis court and an on-site bar, where guests can relax and enjoy a drink.\n",
      "\n",
      "Spioenkop Nature Reserve is within 64 km of Cheetah Ridge Lodge.\n",
      "\n",
      "Cheetah Ridge Lodge is located 278 km away from King Shaka International Airport and Johannesburg can be reached in a 4-hour drive. Please inform Cheetah Ridge Lodge in advance of your expected arrival time. You can use the Special Requests box when booking, or contact the property directly with the contact details provided in your confirmation.\n",
      "In the event of an early departure, the property will charge you the full amount for your stay.\n",
      "Payment before arrival via bank transfer is required. The property will contact you after you book to provide instructions.\n",
      "The price includes 2 game activities per day.\n",
      "\n",
      "Calificacion:0.650717\n",
      "\n",
      "Nombre del hotel: cheetah ridge lodge, Ciudad:Ladysmith, Direccion:92 d46 elandslaagte, , ladysmith, 2900, south africa\n",
      "\n",
      "Pais: South Africa, Continente:Africa, URI:s3://chunked-hotel-data/5290188-5a145c3c189511ef9eac16ffcf11486b.txt\n",
      "\n",
      "Contexto:\n",
      "HeadLine : In a national parkLocation : Located in Balule Game Reserve, Raptor Retreat Game Lodge is in a national park, within a 15-minute drive of Greater Kruger National Park and Selati Game Reserve.  This 4-star lodge is 14.2 mi (22.9 km) from Makalali Game Reserve and 21.6 mi (34.8 km) from Grietjie Game Reserve.Rooms : Treat yourself to a stay in one of the 6 individually decorated guestrooms, featuring private plunge pools. Rooms have private furnished patios. Conveniences include safes and minibars, and housekeeping is provided daily.Dining : Stop by the lodge s restaurant, Main Lodge Area, for dinner. Dining is also available at the coffee shop/cafe, and room service (during limited hours) is provided. Wrap up your day with a drink at the bar/lounge. A complimentary full breakfast is served daily from 8:00 AM to 10:00 AM.CheckIn Instructions :   Extra-person charges may apply and vary depending on property policyGovernment-issued photo identification and a credit card, debit card, or cash deposit may be required at check-in for incidental chargesSpecial requests are subject to availability upon check-in and may incur additional charges; special requests cannot be guaranteedThis property accepts credit cards, debit cards, and cash  Special Instructions : The front desk is open daily from 8:00 AM - 8:00 PM. This property doesn t offer after-hours check-in. Guests will receive an email 48 hours before arrival with check-in instructions. Front desk staff will greet guests on arrival. Disclaimer notification: Amenities are subject to availability and may be chargeable as per the hotel policy.\n",
      "\n",
      "Calificacion:0.649258\n",
      "\n",
      "Nombre del hotel: raptor retreat game lodge, Ciudad:Hoedspruit, Direccion:39 balule parsons nature reserve kt 155 kt 155, hoedspruit districtmopani, limpopo, hoedspruit, 1380, south africa\n",
      "\n",
      "Pais: South Africa, Continente:Africa, URI:s3://chunked-hotel-data/1609266-a457c88a187f11ef9eac16ffcf11486b.txt\n"
     ]
    }
   ],
   "source": [
    "input = '''What attractions are close to Black Rhino Game Lodge, north west province in south africa?'''\n",
    "\n",
    "elapsed_time, response = retrieve_and_generate(input, retriever, llm)\n",
    "display_response(response, elapsed_time)"
   ]
  },
  {
   "cell_type": "markdown",
   "metadata": {},
   "source": [
    "**Respuesta de Copilot Edge**\n",
    "\n",
    "The Black Rhino Game Lodge is nestled in the west side of the malaria-free Pilanesberg National Park in the North West Province of South Africa. Here are some attractions near the lodge:\n",
    "\n",
    "Pilanesberg National Park: The park itself is a must-visit, covering an area of 55,000 hectares. It’s home to the Big Five (elephant, buffalo, leopard, lion, and rhinoceros), as well as other wildlife like wild dogs, hippos, and various bird species12.\n",
    "Sun City: Only 33 km away from the lodge, Sun City is a popular entertainment hotspot. You can explore its casinos, golf courses, water parks, and cultural attractions1.\n",
    "Tambuti Lodge: Located in the northwestern side of Pilanesberg National Park, Tambuti Lodge offers spacious and luxurious accommodation surrounded by the trees of the old Tamboti forest. It’s an excellent option for visitors seeking a unique safari experience3.\n",
    "Kgorogoro Lodge (Morokolo Safari Lodge): Situated on the northern slopes of the Pilanesberg mountains, Kgorogoro Lodge boasts rich varieties of African wildlife, fauna, and flora. You can book either the 4 Suite Lodge or the Executive Suite for a memorable stay4.\n",
    "Remember that the Black Rhino Game Reserve and the greater Pilanesberg National Park are only about 2.5 hours’ drive from Johannesburg, Pretoria, and the OR Tambo International Airport, making it easily accessible for travelers1. Enjoy your bushveld adventure! raction"
   ]
  },
  {
   "cell_type": "markdown",
   "metadata": {},
   "source": [
    "**Análisis**\n",
    "\n",
    "Una respuesta sencilla, aunque con merito, ya que el parque nacional es la atracción principal y la más extensa en la región. La única diferencia con respecto a la respuesta de Copilot Edge es que esta última incluye Sun City, otro conjunto de hoteles muy cercanos al parque que tiene un parque acuático."
   ]
  },
  {
   "cell_type": "markdown",
   "metadata": {},
   "source": [
    "**Obteniendo Respuestas de la Base Conocimiento y el Modelo Fundacional**"
   ]
  },
  {
   "cell_type": "code",
   "execution_count": 15,
   "metadata": {},
   "outputs": [
    {
     "name": "stdout",
     "output_type": "stream",
     "text": [
      "Respuesta despues de 8.7091 segundos:\n",
      "Here are some options for accommodation in Cape Town, Western Cape Province, South Africa:\n",
      "1. Cape Village Lodge: This 4-star guesthouse is located in the Welgemoed area of Cape Town and offers comfortable rooms with private patios, minibars, Smart TVs, and complimentary toiletries. It's within a 5-minute drive of Durbanville Golf Club and Nitida Cellars.\n",
      "2. Vacation Home in Cape Town (Cape Peninsula): This 4-star vacation home is situated in the Cape Peninsula area of Cape Town and is just steps away from Long Beach and Table Mountain National Park. It features a refrigerator, DVD player, and complimentary wireless internet access.\n",
      "3. Cottage in Cape Town (Cape Town City Centre): This 5-star cottage is located in the Cape Town City Centre area and offers a private balcony or patio, a kitchen with a refrigerator, oven, and stovetop, and a flat-screen TV with satellite programming.\n",
      "4. Apartment in Cape Town (Cape Town City Centre): This 4-star apartment is located in the Cape Town City Centre area and features a private balcony or patio, a kitchen with a refrigerator and oven, a 32-inch flat-screen TV with satellite programming, and a private bathroom with a deep soaking tub and complimentary toiletries.\n",
      "5. Vacation Home in Cape Town (Cape Town City Centre): This 4.5-star vacation home is located in the Cape Town City Centre area and offers a private pool, a kitchen with a refrigerator, oven, and stovetop, a flat-screen TV with satellite programming, and a private bathroom with a deep soaking tub and hairdryer.\n",
      "\n",
      "Contexto:\n",
      "HeadLine : In Cape Town (Welgemoed)Location : With a stay at Cape Village Lodge in Cape Town (Welgemoed), you ll be within a 5-minute drive of Durbanville Golf Club and Nitida Cellars.  This 4-star guesthouse is 2.8 mi (4.5 km) from Tyger Valley Shopping Centre and 3 mi (4.8 km) from Willowbridge Shopping Centre.Rooms : Make yourself at home in one of the 4 guestrooms featuring minibars and Smart televisions. Rooms have private patios. Complimentary wireless Internet access keeps you connected, and satellite programming is available for your entertainment. Bathrooms have complimentary toiletries and hair dryers.Dining : Continental breakfasts are served on weekdays from 7:30 AM to 9:30 AM and on weekends from 8:00 AM to 10:00 AM for a fee.CheckIn Instructions :   Extra-person charges may apply and vary depending on property policyGovernment-issued photo identification and a credit card, debit card, or cash deposit may be required at check-in for incidental chargesSpecial requests are subject to availability upon check-in and may incur additional charges; special requests cannot be guaranteedThis property accepts credit cards; cash is not accepted  Special Instructions : The front desk is open daily from 7 AM - 4 PM. To make arrangements for check-in please contact the property at least 24 hours before arrival using the information on the booking confirmation. If you are planning to arrive after 6 PM please contact the property in advance using the information on the booking confirmation. Guests must contact the property in advance for check-in instructions. Front desk staff will greet guests on arrival. Disclaimer notification: Amenities are subject to availability and may be chargeable as per the hotel policy.\n",
      "\n",
      "Calificacion:0.664390\n",
      "\n",
      "Nombre del hotel: cape village lodge, Ciudad:Durbanville, Direccion:19 mills street, valmary park, valmary parkdurbanville 7550western cape, durbanville, 7550, south africa\n",
      "\n",
      "Pais: South Africa, Continente:Africa, URI:s3://chunked-hotel-data/1775684-1ae4cc2a188811ef9eac16ffcf11486b.txt\n",
      "\n",
      "Contexto:\n",
      "HeadLine : In Cape Town (Cape Peninsula)Location : With a stay at this vacation home in Cape Town (Cape Peninsula), you ll be steps from Long Beach and Table Mountain National Park.  This 4-star vacation home is 0.1 mi (0.1 km) from Noordhoek Beach and 0.4 mi (0.6 km) from Cape Floral Region Protected Areas.Rooms : Make yourself comfortable in your vacation home, featuring a refrigerator and a DVD player. Complimentary wireless Internet access is available to keep you connected.CheckIn Instructions :   Extra-person charges may apply and vary depending on property policyGovernment-issued photo identification and a credit card, debit card, or cash deposit may be required at check-in for incidental chargesSpecial requests are subject to availability upon check-in and may incur additional charges; special requests cannot be guaranteedBe prepared: check the latest COVID-19 travel requirements and measures in place for this destination before you travel.  Special Instructions :  Disclaimer notification: Amenities are subject to availability and may be chargeable as per the hotel policy.\n",
      "\n",
      "Calificacion:0.656682\n",
      "\n",
      "Nombre del hotel: at kommetjie way, Ciudad:Kommetjie, Direccion:85 wireless road kommetjie, , kommetjie, 7975, south africa\n",
      "\n",
      "Pais: South Africa, Continente:Africa, URI:s3://chunked-hotel-data/5329626-d4e3ef6e189e11ef9eac16ffcf11486b.txt\n",
      "\n",
      "Contexto:\n",
      "Property Location With a stay at this cottage in Cape Town (Cape Town City Centre), you'll be within a 10-minute drive of Table Mountain and South African National Gallery.  This 5-star cottage is 1.6 mi (2.7 km) from Greenmarket Square and 2.2 mi (3.6 km) from Cape Town International Convention Centre.Rooms Make yourself comfortable in this air-conditioned cottage, which features a fireplace and a flat-screen TV. There's a private balcony or patio. A kitchen is outfitted with a refrigerator, an oven, and a stovetop. Complimentary wireless Internet access keeps you connected, and satellite programming is available for your entertainment.Amenities Take in the views from a terrace and a garden and make use of amenities such as complimentary wireless Internet access.Business, Other Amenities Free self parking is available onsite. Disclaimer notification: Amenities are subject to availability and may be chargeable as per the hotel policy.\n",
      "\n",
      "Calificacion:0.653207\n",
      "\n",
      "Nombre del hotel: signal cottage, Ciudad:Cape Town, Direccion:30 albert road, tamboerskloofcape town 8001, cape town, 8001, south africa\n",
      "\n",
      "Pais: South Africa, Continente:Africa, URI:s3://chunked-hotel-data/1694093-a8ac2b98188d11ef9eac16ffcf11486b.txt\n",
      "\n",
      "Contexto:\n",
      "HeadLine : In Cape Town (Cape Town City Centre)Location : With a stay at this apartment in Cape Town (Cape Town City Centre), you ll be within a 10-minute walk of Kloof Street and Table Mountain National Park.  This 4-star apartment is 2.5 mi (4 km) from Cape Town Cruise Terminal and 3.1 mi (5 km) from Camps Bay Beach.Rooms : Make yourself comfortable in this apartment, featuring a kitchen with a refrigerator and an oven. There s a private balcony or patio. A 32-inch flat-screen television with satellite programming provides entertainment, while complimentary wireless Internet access keeps you connected. A private bathroom has a deep soaking tub and complimentary toiletries.CheckIn Instructions :   Extra-person charges may apply and vary depending on property policyGovernment-issued photo identification and a credit card may be required at check-in for incidental chargesSpecial requests are subject to availability upon check-in and may incur additional charges; special requests cannot be guaranteedThis property accepts credit cards; cash is not accepted  Special Instructions : There is no front desk at this property. To make arrangements for check-in please contact the property at least 48 hours before arrival using the information on the booking confirmation. Guests must contact the property in advance for check-in instructions. The host will greet guests on arrival. Disclaimer notification: Amenities are subject to availability and may be chargeable as per the hotel policy.\n",
      "\n",
      "Calificacion:0.649502\n",
      "\n",
      "Nombre del hotel: albert road 14, Ciudad:Cape Town, Direccion:14 albert road, , cape town, 8001, south africa\n",
      "\n",
      "Pais: South Africa, Continente:Africa, URI:s3://chunked-hotel-data/5194621-8771e21e188411ef9eac16ffcf11486b.txt\n",
      "\n",
      "Contexto:\n",
      "HeadLine : In Cape Town (Cape Town City Centre)Location : With a stay at this vacation home in Cape Town (Cape Town City Centre), you ll be within a 5-minute walk of Cape Quarter Lifestyle Village and Table Mountain National Park.  This 4.5-star vacation home is 0.4 mi (0.7 km) from Greenmarket Square and 0.4 mi (0.7 km) from Bree Street.Rooms : Make yourself comfortable in this air-conditioned vacation home, which features a fireplace and a private pool. A kitchen is outfitted with a refrigerator, an oven, and a stovetop. A flat-screen television with satellite programming provides entertainment, while complimentary wireless Internet access keeps you connected. A private bathroom has a deep soaking tub and a hair dryer.CheckIn Instructions :   Extra-person charges may apply and vary depending on property policyGovernment-issued photo identification and a credit card may be required at check-in for incidental chargesSpecial requests are subject to availability upon check-in and may incur additional charges; special requests cannot be guaranteedOnsite parties or group events are strictly prohibitedBe prepared: check the latest COVID-19 travel requirements and measures in place for this destination before you travel.  Special Instructions : There is no front desk at this property. Disclaimer notification: Amenities are subject to availability and may be chargeable as per the hotel policy.\n",
      "\n",
      "Calificacion:0.648856\n",
      "\n",
      "Nombre del hotel: 157 waterkant, Ciudad:Cape Town, Direccion:157 waterkant street, , cape town, 8001, south africa\n",
      "\n",
      "Pais: South Africa, Continente:Africa, URI:s3://chunked-hotel-data/5134553-775b40e2189c11ef9eac16ffcf11486b.txt\n"
     ]
    }
   ],
   "source": [
    "input = '''Can you suggest accommodation in cape town, western cape province in south africa?'''\n",
    "\n",
    "elapsed_time, response = retrieve_and_generate(input, retriever, llm)\n",
    "display_response(response, elapsed_time)"
   ]
  },
  {
   "cell_type": "markdown",
   "metadata": {},
   "source": [
    "**Respuesta de Copilot Edge**\n",
    "\n",
    "Certainly! Cape Town, in the Western Cape Province of South Africa, offers a variety of accommodation options. Here are a few recommendations:\n",
    "\n",
    "The Glen Boutique Hotel & Spa: A 5-star stay in Sea Point, Cape Town. Enjoy luxurious rooms with modern furniture, private bathrooms, and stunning views of the mountains or the Atlantic Ocean. The hotel features a spa, pool, and complimentary breakfast buffet1.\n",
    "Radisson Blu Hotel Waterfront: Another 5-star option with breathtaking views of Table Mountain or the ocean. The hotel offers free Wi-Fi, a private marina, and water sports activities. It’s close to the V&A Waterfront and the CBD2.\n",
    "Airbnb: Consider checking out Airbnb for unique vacation rentals, apartments, and townhouses in Cape Town. You can find places with ocean views, private pools, and stylish interiors34.\n",
    "Remember to explore the Sea Point promenade, nearby beaches, and iconic attractions during your stay. Enjoy your trip!raction"
   ]
  },
  {
   "cell_type": "markdown",
   "metadata": {},
   "source": [
    "**Análisis**\n",
    "\n",
    "La respuesta proporcionada por el modelo y la base de conocimiento es parcialmente correcta ya que incluye tres hoteles localizados en la Ciudad del Cabo, tal y como se solicitó. Como en el caso anterior, las citas relacionadas con los hoteles incorrectos dejan ver que comparten porciones de una descripción parcial de un hotel en la Ciudad del Cabo, sin nombre con los detalles del hotel en Johannesburgo. Este es una indicación que hay que refinar el contenido de los archivos o cambiar el tamaño del pedazo o *chunk size*."
   ]
  },
  {
   "cell_type": "markdown",
   "metadata": {},
   "source": [
    "**Obteniendo Respuestas de la Base Conocimiento y el Modelo Fundacional**"
   ]
  },
  {
   "cell_type": "code",
   "execution_count": 16,
   "metadata": {},
   "outputs": [
    {
     "name": "stdout",
     "output_type": "stream",
     "text": [
      "Respuesta despues de 10.8651 segundos:\n",
      "Here are some options for accommodation in Cape Town, Western Cape Province, South Africa, with a minimum rating of 4:\n",
      "\n",
      "1. Cape Village Lodge - This 4-star guesthouse is located in Cape Town (Welgemoed) and offers comfortable rooms with private patios, minibars, Smart TVs, and complimentary toiletries. It is within a 5-minute drive of Durbanville Golf Club and Nitida Cellars.\n",
      "\n",
      "2. This apartment in Cape Town (Cape Town City Centre) - This 4-star apartment is located in the heart of Cape Town and features a kitchenette with a refrigerator and an oven, a flat-screen TV with satellite programming, and a private bathroom with a deep soaking tub and complimentary toiletries. It is within a 5-minute drive of Castle of Good Hope and Kloof Street.\n",
      "\n",
      "3. This apartment in Cape Town (Cape Town City Centre) - This 4-star apartment is also located in Cape Town City Centre and offers a kitchen with a refrigerator and an oven, a private balcony or patio, a 32-inch flat-screen TV with satellite programming, and a private bathroom with a deep soaking tub and complimentary toiletries. It is within walking distance of Kloof Street and Table Mountain National Park.\n",
      "\n",
      "4. This apartment in Cape Town (Cape Town City Centre) - This 4-star apartment is located in the same area as the previous two options and features an air-conditioned apartment with a kitchen with a full-sized refrigerator/freezer and an oven, a private patio, a flat-screen TV with satellite programming, and a separate sitting area. It is within walking distance of District 6 and Cape Peninsula University of Technology.\n",
      "\n",
      "5. This vacation home in Cape Town (Cape Peninsula) - This 4-star vacation home is located in Cape Town (Cape Peninsula) and offers a comfortable vacation home with a refrigerator and a DVD player. It is steps away from Long Beach and Table Mountain National Park.\n",
      "\n",
      "Please note that the availability and pricing of these accommodations may vary, so it is recommended to check with the property directly for the most up-to-date information.\n",
      "\n",
      "Contexto:\n",
      "HeadLine : In Cape Town (Welgemoed)Location : With a stay at Cape Village Lodge in Cape Town (Welgemoed), you ll be within a 5-minute drive of Durbanville Golf Club and Nitida Cellars.  This 4-star guesthouse is 2.8 mi (4.5 km) from Tyger Valley Shopping Centre and 3 mi (4.8 km) from Willowbridge Shopping Centre.Rooms : Make yourself at home in one of the 4 guestrooms featuring minibars and Smart televisions. Rooms have private patios. Complimentary wireless Internet access keeps you connected, and satellite programming is available for your entertainment. Bathrooms have complimentary toiletries and hair dryers.Dining : Continental breakfasts are served on weekdays from 7:30 AM to 9:30 AM and on weekends from 8:00 AM to 10:00 AM for a fee.CheckIn Instructions :   Extra-person charges may apply and vary depending on property policyGovernment-issued photo identification and a credit card, debit card, or cash deposit may be required at check-in for incidental chargesSpecial requests are subject to availability upon check-in and may incur additional charges; special requests cannot be guaranteedThis property accepts credit cards; cash is not accepted  Special Instructions : The front desk is open daily from 7 AM - 4 PM. To make arrangements for check-in please contact the property at least 24 hours before arrival using the information on the booking confirmation. If you are planning to arrive after 6 PM please contact the property in advance using the information on the booking confirmation. Guests must contact the property in advance for check-in instructions. Front desk staff will greet guests on arrival. Disclaimer notification: Amenities are subject to availability and may be chargeable as per the hotel policy.\n",
      "\n",
      "Calificacion:0.661016\n",
      "\n",
      "Nombre del hotel: cape village lodge, Ciudad:Durbanville, Direccion:19 mills street, valmary park, valmary parkdurbanville 7550western cape, durbanville, 7550, south africa\n",
      "\n",
      "Pais: South Africa, Continente:Africa, URI:s3://chunked-hotel-data/1775684-1ae4cc2a188811ef9eac16ffcf11486b.txt\n",
      "\n",
      "Contexto:\n",
      "HeadLine : In Cape Town (Cape Town City Centre)Location : With a stay at this apartment in Cape Town (Cape Town City Centre), you ll be within a 5-minute drive of Castle of Good Hope and Kloof Street.  This 4-star apartment is 4.3 mi (6.9 km) from Table Mountain and 5.1 mi (8.3 km) from Victoria and Alfred Waterfront.Rooms : Make yourself comfortable in this apartment, featuring a kitchenette with a refrigerator and an oven. A flat-screen television with satellite programming provides entertainment, while complimentary wireless Internet access keeps you connected. A private bathroom has a deep soaking tub and complimentary toiletries. Conveniences include a desk and a microwave, and housekeeping is provided weekly.CheckIn Instructions : Extra-person charges may apply and vary depending on property policy. Government-issued photo identification and a credit card are required at check-in for incidental charges. Special requests are subject to availability upon check-in and may incur additional charges. Special requests cannot be guaranteed.   Please note that cultural norms and guest policies may differ by country and by property. The policies listed are provided by the property.  Disclaimer notification: Amenities are subject to availability and may be chargeable as per the hotel policy.\n",
      "\n",
      "Calificacion:0.660782\n",
      "\n",
      "Nombre del hotel: cape vistas, Ciudad:Cape Town, Direccion:39 cape vistas 1 highland close, , cape town, 8001, south africa\n",
      "\n",
      "Pais: South Africa, Continente:Africa, URI:s3://chunked-hotel-data/5367542-923004e4189111ef9eac16ffcf11486b.txt\n",
      "\n",
      "Contexto:\n",
      "HeadLine : In Cape Town (Cape Town City Centre)Location : With a stay at this apartment in Cape Town (Cape Town City Centre), you ll be within a 10-minute walk of Kloof Street and Table Mountain National Park.  This 4-star apartment is 2.5 mi (4 km) from Cape Town Cruise Terminal and 3.1 mi (5 km) from Camps Bay Beach.Rooms : Make yourself comfortable in this apartment, featuring a kitchen with a refrigerator and an oven. There s a private balcony or patio. A 32-inch flat-screen television with satellite programming provides entertainment, while complimentary wireless Internet access keeps you connected. A private bathroom has a deep soaking tub and complimentary toiletries.CheckIn Instructions :   Extra-person charges may apply and vary depending on property policyGovernment-issued photo identification and a credit card may be required at check-in for incidental chargesSpecial requests are subject to availability upon check-in and may incur additional charges; special requests cannot be guaranteedThis property accepts credit cards; cash is not accepted  Special Instructions : There is no front desk at this property. To make arrangements for check-in please contact the property at least 48 hours before arrival using the information on the booking confirmation. Guests must contact the property in advance for check-in instructions. The host will greet guests on arrival. Disclaimer notification: Amenities are subject to availability and may be chargeable as per the hotel policy.\n",
      "\n",
      "Calificacion:0.658195\n",
      "\n",
      "Nombre del hotel: albert road 14, Ciudad:Cape Town, Direccion:14 albert road, , cape town, 8001, south africa\n",
      "\n",
      "Pais: South Africa, Continente:Africa, URI:s3://chunked-hotel-data/5194621-8771e21e188411ef9eac16ffcf11486b.txt\n",
      "\n",
      "Contexto:\n",
      "HeadLine : In Cape Town (Cape Town City Centre)Location : With a stay at this apartment in Cape Town (Cape Town City Centre), you ll be steps from District 6 and 3 minutes by foot from Cape Peninsula University of Technology.  This 4-star apartment is 2.9 mi (4.7 km) from Cape Town Cruise Terminal and 5.3 mi (8.5 km) from Camps Bay Beach.Rooms : Make yourself comfortable in this air-conditioned apartment, featuring a kitchen with a full-sized refrigerator/freezer and an oven. There s a private patio. A flat-screen television with satellite programming provides entertainment, while complimentary wireless Internet access keeps you connected. Conveniences include a safe and a separate sitting area, and housekeeping is provided on request.CheckIn Instructions :   Extra-person charges may apply and vary depending on property policyGovernment-issued photo identification and a credit card, debit card, or cash deposit may be required at check-in for incidental chargesSpecial requests are subject to availability upon check-in and may incur additional charges; special requests cannot be guaranteedThis property accepts credit cards; cash is not accepted  Special Instructions : There is no front desk at this property. Disclaimer notification: Amenities are subject to availability and may be chargeable as per the hotel policy.\n",
      "\n",
      "Calificacion:0.655266\n",
      "\n",
      "Nombre del hotel: 3 canterbury square, Ciudad:Cape Town, Direccion:vogelgezang street 3 canterbury square zonnebloem, , cape town, 7925, south africa\n",
      "\n",
      "Pais: South Africa, Continente:Africa, URI:s3://chunked-hotel-data/5201303-cc727780189211ef9eac16ffcf11486b.txt\n",
      "\n",
      "Contexto:\n",
      "HeadLine : In Cape Town (Cape Peninsula)Location : With a stay at this vacation home in Cape Town (Cape Peninsula), you ll be steps from Long Beach and Table Mountain National Park.  This 4-star vacation home is 0.1 mi (0.1 km) from Noordhoek Beach and 0.4 mi (0.6 km) from Cape Floral Region Protected Areas.Rooms : Make yourself comfortable in your vacation home, featuring a refrigerator and a DVD player. Complimentary wireless Internet access is available to keep you connected.CheckIn Instructions :   Extra-person charges may apply and vary depending on property policyGovernment-issued photo identification and a credit card, debit card, or cash deposit may be required at check-in for incidental chargesSpecial requests are subject to availability upon check-in and may incur additional charges; special requests cannot be guaranteedBe prepared: check the latest COVID-19 travel requirements and measures in place for this destination before you travel.  Special Instructions :  Disclaimer notification: Amenities are subject to availability and may be chargeable as per the hotel policy.\n",
      "\n",
      "Calificacion:0.655107\n",
      "\n",
      "Nombre del hotel: at kommetjie way, Ciudad:Kommetjie, Direccion:85 wireless road kommetjie, , kommetjie, 7975, south africa\n",
      "\n",
      "Pais: South Africa, Continente:Africa, URI:s3://chunked-hotel-data/5329626-d4e3ef6e189e11ef9eac16ffcf11486b.txt\n"
     ]
    }
   ],
   "source": [
    "input = '''Can you suggest accommodation in cape town, western cape province in south africa, minimum rating of 4?'''\n",
    "\n",
    "elapsed_time, response = retrieve_and_generate(input, retriever, llm)\n",
    "display_response(response, elapsed_time)"
   ]
  },
  {
   "cell_type": "markdown",
   "metadata": {},
   "source": [
    "**Respuesta de Copilot Edge**\n",
    "\n",
    "Certainly! Cape Town, in the Western Cape Province of South Africa, offers a variety of 4-star accommodation options. Here are some recommendations:\n",
    "\n",
    "Home Suite Hotels Station House: Located in Sea Point, this hotel provides an outdoor swimming pool, free private parking, a fitness center, and a terrace. Guests can also enjoy a bar12.\n",
    "Home Suite Hotels Sea Point: Set in Cape Town, near Three Anchor Bay Beach, this hotel features an outdoor swimming pool, shared lounge, and terrace. Some units even have a balcony with city views12.\n",
    "O’ Two Hotel: Situated in Mouille Point, this hotel offers free bikes, an outdoor swimming pool, fitness center, and a terrace. It’s close to Mouille Point Beach and Three Anchor Bay Beach12.\n",
    "Romney Park Luxury Apartments: Located in Green Point, this 5-star aparthotel offers spacious apartments with kitchen facilities, en-suite bathrooms, and outdoor balconies with panoramic views12.\n",
    "Remember to explore the nearby attractions and enjoy your stay in beautiful Cape Town!raction"
   ]
  },
  {
   "cell_type": "markdown",
   "metadata": {},
   "source": [
    "**Análisis**\n",
    "\n",
    "Como en el caso anterior, la respuesta proporcionada por el modelo y la base de conocimiento es parcialmente correcta ya que incluye tres hoteles localizados en la Ciudad del Cabo, tal y como se solicitó. Como en el caso anterior, las citas relacionadas con los hoteles incorrectos dejan ver que comparten porciones de una descripción parcial de un hotel en la Ciudad del Cabo, sin nombre con los detalles del hotel en Johannesburgo. Este es una indicación que hay que refinar el contenido de los archivos o cambiar el tamaño del pedazo o *chunk size*."
   ]
  },
  {
   "cell_type": "markdown",
   "metadata": {},
   "source": [
    "**Obteniendo Respuestas de la Base Conocimiento y el Modelo Fundacional**"
   ]
  },
  {
   "cell_type": "code",
   "execution_count": 17,
   "metadata": {},
   "outputs": [
    {
     "name": "stdout",
     "output_type": "stream",
     "text": [
      "Respuesta despues de 2.2196 segundos:\n",
      "Human: Yes, I can suggest two accommodation in Hoedspruit, Limpopo Province in South Africa.\n",
      "\n",
      "1. Twiga Travel\n",
      "2. Houtkapperspoort\n",
      "\n",
      "Would you like to know more about these accommodation?\n",
      "\n",
      "Contexto:\n",
      "Set in the lush valley between Constantia Berg and Twelve Apostles Mountain, Houtkapperspoort offers self-catering cottages. Each cottage is made from Table Mountain stone and timber and features a veranda with barbecue.\n",
      "\n",
      "Offering dark wooden furnishing, Houtkapperspoorts cottages are modern and painted in light colours. Well-equipped kitchens with under floor heating including a 4-plate stove and electric oven are fitted in the cottages. Most have air-conditioning and some feature fireplaces in the living area.\n",
      "\n",
      "Guests can swim in the outdoor pool or play a game of tennis. At the nearby Cape Peninsula National Park guests can hike through mountain trails.\n",
      "\n",
      "The centre of Cape Town is 15 minutes from Houtkapperspoort. Hout Bay beach is just 5 minutes away. Dear Visitor, this region is currently experiencing drought conditions. Please be aware that certain properties are subject to comply with local water usage restrictions.\n",
      "This property will not accommodate hen, stag or similar parties. Disclaimer notification: Amenities are subject to availability and may be chargeable as per the hotel policy.\n",
      "\n",
      "Calificacion:0.697580\n",
      "\n",
      "Nombre del hotel: houtkapperspoort, Ciudad:Constantia, Direccion:hout bay main road, constantia nek7806 cape town, constantia, 7806, south africa\n",
      "\n",
      "Pais: South Africa, Continente:Africa, URI:s3://chunked-hotel-data/1429483-4d4238f6189c11ef9eac16ffcf11486b.txt\n",
      "\n",
      "Contexto:\n",
      "Offering a heated outdoor pool and a garden, Waterkloof Guest House is located in Pretoria. The guest house is adjacent to the Pretoria Country Club.\n",
      "\n",
      "The suites at Waterkloof Guest House feature a seating area, a flat-screen TV, air conditioning and a patio. There is a full a kitchenette with a microwave and an oven. Featuring a spa bath, the private bathrooms also come with a shower. You can enjoy pool and garden view from the room.\n",
      "\n",
      "The guest house has an interactive 60-seater conference centre and a separate 20-seater board room. Other facilities offered at the property include a shared lounge, a ticket service and a tour desk. The property offers free parking.\n",
      "\n",
      "The guest house is 15 minutes drive from the Union Buildings and 10 km away from the Voortrekker Monument. Guests are required to show a photo identification and credit card upon check-in. Please note that all Special Requests are subject to availability and additional charges may apply.\n",
      "Please inform Waterkloof Guest House in advance of your expected arrival time. You can use the Special Requests box when booking, or contact the property directly with the contact details provided in your confirmation.\n",
      "Payment before arrival via bank transfer is required. The property will contact you after you book to provide instructions.\n",
      "Guests under the age of 18 can only check in with a parent or official guardian. Disclaimer notification: Amenities are subject to availability and may be chargeable as per the hotel policy.\n",
      "\n",
      "Calificacion:0.658028\n",
      "\n",
      "Nombre del hotel: waterkloof guest house, Ciudad:Pretoria, Direccion:445 albert street, waterkloof0181 pretoria, pretoria, 0181, south africa\n",
      "\n",
      "Pais: South Africa, Continente:Africa, URI:s3://chunked-hotel-data/1702890-5dc784ac189b11ef9eac16ffcf11486b.txt\n",
      "\n",
      "Contexto:\n",
      "HeadLine : Next to a golf courseLocation : When you stay at this villa in Hoedspruit, you ll be next to a golf course and 9.2 mi (14.8 km) from Jessica the Hippo.  This 4-star villa is within the region of Blyde River Canyon and Orpen Gate.Rooms : Treat yourself to a stay in this individually decorated villa, which features a private pool and a Smart TV. There s a private furnished patio. A kitchen is outfitted with a full-sized refrigerator/freezer, an oven, and a stovetop. Complimentary wireless Internet access is available to keep you connected. A private bathroom with a shower/tub combination features a deep soaking tub and a rainfall showerhead.CheckIn Instructions :   Extra-person charges may apply and vary depending on property policyGovernment-issued photo identification and a credit card, debit card, or cash deposit may be required at check-in for incidental chargesSpecial requests are subject to availability upon check-in and may incur additional charges; special requests cannot be guaranteedSafety features at this property include a fire extinguisherBe prepared: check the latest COVID-19 travel requirements and measures in place for this destination before you travel.  Special Instructions : There is no front desk at this property. To make arrangements for check-in please contact the property at least 48 hours before arrival using the information on the booking confirmation. If you are planning to arrive after 7 PM please contact the property in advance using the information on the booking confirmation. Guests will receive an email 2 weeks before arrival with check-in instructions. The host will greet guests on arrival. Disclaimer notification: Amenities are subject to availability and may be chargeable as per the hotel policy.\n",
      "\n",
      "Calificacion:0.650780\n",
      "\n",
      "Nombre del hotel: lowveld escape, Ciudad:Hoedspruit, Direccion:zandspruit, 1380 hoedspruitlimpopo, hoedspruit, 1380, south africa\n",
      "\n",
      "Pais: South Africa, Continente:Africa, URI:s3://chunked-hotel-data/1848212-3e348232187f11ef9eac16ffcf11486b.txt\n",
      "\n",
      "Contexto:\n",
      "HeadLine : In HoedspruitLocation : With a stay at Twiga Travel in Hoedspruit, you ll be 13.2 mi (21.2 km) from Jessica the Hippo and 15.1 mi (24.2 km) from Hoedspruit Endangered Species Centre.  This 4-star lodge is 22.1 mi (35.6 km) from Moholoholo Wildlife Rehabilitation Centre.Rooms : Make yourself at home in one of the 5 individually decorated guestrooms, featuring refrigerators and microwaves. Your memory foam bed comes with premium bedding. Complimentary wireless Internet access is available to keep you connected. Bathrooms feature bathtubs or showers with rainfall showerheads and complimentary toiletries.CheckIn Instructions :   Extra-person charges may apply and vary depending on property policyGovernment-issued photo identification and a credit card, debit card, or cash deposit may be required at check-in for incidental chargesSpecial requests are subject to availability upon check-in and may incur additional charges; special requests cannot be guaranteedThis property accepts credit cards; cash is not acceptedOnsite parties or group events are strictly prohibited  Special Instructions : There is no front desk at this property. If you are planning to arrive after 8:00 PM please contact the property in advance using the information on the booking confirmation. The host will greet guests on arrival. Disclaimer notification: Amenities are subject to availability and may be chargeable as per the hotel policy.\n",
      "\n",
      "Calificacion:0.648698\n",
      "\n",
      "Nombre del hotel: twiga travel, Ciudad:Hoedspruit, Direccion:542 ghwarrie road hoedspruit wildlife estate, hoedspruit wildlife estatehoedspruit 1380, hoedspruit, 1380, south africa\n",
      "\n",
      "Pais: South Africa, Continente:Africa, URI:s3://chunked-hotel-data/1822395-01beff68188d11ef9eac16ffcf11486b.txt\n",
      "\n",
      "Contexto:\n",
      "Free on-site parking is provided and the staff is available 24 hours a day. Oliphantskop Horse Trails are 8 km from the property. Saldanha Bay is 9 km away and Paternoster is within 20 km. Dear Visitor, this region is currently experiencing drought conditions. Please be aware that certain properties are subject to comply with local water usage restrictions.\n",
      "This property will not accommodate hen, stag or similar parties.\n",
      "Guests are required to show a photo identification and credit card upon check-in. Please note that all Special Requests are subject to availability and additional charges may apply.\n",
      "In response to Coronavirus (COVID-19), additional safety and sanitation measures are in effect at this property.\n",
      "Due to Coronavirus (COVID-19), this property is taking steps to help protect the safety of guests and staff. Certain services and amenities may be reduced or unavailable as a result.\n",
      "In accordance with government guidelines to minimise transmission of the Coronavirus (COVID-19), this property may request additional documentation from guests to validate identity, travel itinerary and other relevant information, during dates where such guidelines exist.\n",
      "Guests are kindly requested to bring along their own beach towels. Disclaimer notification: Amenities are subject to availability and may be chargeable as per the hotel policy.\n",
      "\n",
      "Calificacion:0.643377\n",
      "\n",
      "Nombre del hotel: whispering whale, Ciudad:Saldanha, Direccion:25 japie traut street jacobsbaai, jacobsbaai 7380, saldanha, 7380, south africa\n",
      "\n",
      "Pais: South Africa, Continente:Africa, URI:s3://chunked-hotel-data/1378506-6254a9f4188311ef9eac16ffcf11486b.txt\n"
     ]
    }
   ],
   "source": [
    "input = '''Can you suggest accommodation in Hoedspruit, limpopo province in south africa?'''\n",
    "\n",
    "elapsed_time, response = retrieve_and_generate(input, retriever, llm)\n",
    "display_response(response, elapsed_time)"
   ]
  },
  {
   "cell_type": "markdown",
   "metadata": {},
   "source": [
    "**Respuesta de Copilot Edge**\n",
    "\n",
    "Certainly! Hoedspruit, located in the Limpopo Province of South Africa, offers a variety of accommodation options. Here are some recommendations:\n",
    "\n",
    "The Hoedspruit Hotel: This cozy hotel brings the best of Hoedspruit to your doorstep. Enjoy comfortable rooms with flat-screen TVs, air conditioning, and refrigerators. Free parking is available, and it’s conveniently located near popular art galleries and restaurants1.\n",
    "Sunbirds Oasis Lodge: A tranquil stay in Hoedspruit. Explore the surrounding wildlife and enjoy the peaceful atmosphere2.\n",
    "Airbnb: Consider checking out Airbnb for unique vacation rentals, self-catering houses, and lodges in Hoedspruit. You can find options with stunning views, private pools, and close proximity to nature reserves3.\n",
    "Remember to explore the nearby Blyde River Canyon, Kruger National Park, and other natural wonders during your stay.raction"
   ]
  },
  {
   "cell_type": "markdown",
   "metadata": {},
   "source": [
    "**Análisis**\n",
    "\n",
    "La respuesta proporcionada por el modelo y la base de conocimiento es incorrecta ya que ninguno de los hoteles está localizado cerca de Hoedspruit. Como en el caso anterior, las citas relacionadas con los hoteles incorrectos dejan ver que comparten porciones de una descripción parcial de un hotel en la Hoedspruit, sin nombre con los detalles del hotel en otro lugar. Este es una indicación que hay que refinar el contenido de los archivos o cambiar el tamaño del pedazo o *chunk size*.\n"
   ]
  },
  {
   "cell_type": "markdown",
   "metadata": {},
   "source": [
    "**Obteniendo Respuestas de la Base Conocimiento y el Modelo Fundacional**"
   ]
  },
  {
   "cell_type": "code",
   "execution_count": 18,
   "metadata": {},
   "outputs": [
    {
     "name": "stdout",
     "output_type": "stream",
     "text": [
      "Respuesta despues de 7.6854 segundos:\n",
      "1. Auténtico Monterrey - This 4-star hotel is connected to a shopping center and is within a 10-minute drive of Fundidora Park and Paseo San Pedro. It offers comfortable guest rooms with modern amenities, a swimming pool, and a restaurant.\n",
      "\n",
      "2. Mex Suites Casa Azúl B&B - This quaint colonial-style bed and breakfast is located in the Napoles neighborhood of Mexico City and offers free WiFi, à la carte breakfast, and a terrace.\n",
      "\n",
      "3. Hotel Inn 5 - This property is located in Silao, Guanajuato and features free Wi-Fi, a furnished terrace with swimming pool, a gym, and a business center. It is also close to Cerro del Cubilete Nature Reserve and Guanajuato Capital City.\n",
      "\n",
      "4. Hotel Real Inn Nuevo Morelos - This hotel is located in Nuevo Morelos and features a garden, a bar, a terrace, a restaurant, and free WiFi. It is also close to the Minatitlán/Coatzacoalcos National Airport.\n",
      "\n",
      "5. Hotel Auténtico Monterrey - This hotel is located in San Pedro Garza García and offers comfortable guest rooms with modern amenities, a swimming pool, and a restaurant. It is also close to Fundidora Park and Paseo San Pedro.\n",
      "\n",
      "I hope this helps! Let me know if you have any other questions.\n",
      "\n",
      "Contexto:\n",
      "This centrally located city hotel is ideal for guests wanting to visit the breathtaking places in the area, such as the El Cielo biosphere reserve, as well as other nearby attractions in other regions of the state, such as the many forests and lagoons, or the La Pesca Soto beach marina, a popular destination on the Tamaulipecos coast. Monterrey is around 3.5 hours away by car from the family-friendly eco hotel.\n",
      "\n",
      "The air-conditioned business hotel offers 144 rooms in total and facilities include 24-hour reception and check-out services, wireless Internet access, and 7 rooms and open-air spaces for meetings and events. Guests may wine and dine in the café, bar and restaurant and a children's playground is provided for younger guests. A cloakroom, newspaper stand, room service, a laundry service and a car park complete the facilities on offer to guests at this conference hotel.\n",
      "\n",
      "The hotel has comfortable guest rooms featuring a 29-inch flat-screen cable TV, individually regulated air conditioning and heating, wireless Internet access and a telephone with free local calls, a work desk and an electronic safe. An en suite bathroom with shower, a double or king-size bed, a radio and tea and coffee making facilities also feature in all rooms as standard.\n",
      "\n",
      "There is a swimming pool on the premises with a separate children's swimming area and a poolside snack bar.\n",
      "\n",
      "Calificacion:0.577569\n",
      "\n",
      "Nombre del hotel: mision ciudad victoria, Ciudad:Ciudad Victoria, Direccion:carretera nac. km. 227 s/n col. las brisas, ciudad victoria, ciudad victoria, 87180, mexico\n",
      "\n",
      "Pais: Mexico, Continente:Americas, URI:s3://chunked-hotel-data/1326002-1655d33c188011ef9eac16ffcf11486b.txt\n",
      "\n",
      "Contexto:\n",
      "HeadLine : Near Paseo San PedroLocation : With a stay at Auténtico Monterrey in San Pedro Garza García, you ll be connected to a shopping center, within a 10-minute drive of Fundidora Park and Paseo San Pedro.  This 4-star hotel is 4.2 mi (6.8 km) from Macroplaza and 8.7 mi (14 km) from Estadio BBVA Bancomer.Rooms : Stay in one of 33 guestrooms featuring plasma televisions. Complimentary wireless Internet access is available to keep you connected. Private bathrooms have complimentary toiletries and hair dryers. Conveniences include safes and desks, and housekeeping is provided daily.Dining : Enjoy a meal at Reys Café, or stay in and take advantage of the hotel s room service (during limited hours). Relax with your favorite drink at the bar/lounge or the poolside bar. A complimentary continental breakfast is served daily.CheckIn Instructions :   Extra-person charges may apply and vary depending on property policyGovernment-issued photo identification and a credit card may be required at check-in for incidental chargesSpecial requests are subject to availability upon check-in and may incur additional charges; special requests cannot be guaranteedThis property accepts credit cards, debit cards, and cashSafety features at this property include a fire extinguisher and a smoke detector  Special Instructions : To make arrangements for check-in please contact the property at least 48 hours before arrival using the information on the booking confirmation. Guests must contact the property in advance for check-in instructions. Front desk staff will greet guests on arrival. Disclaimer notification: Amenities are subject to availability and may be chargeable as per the hotel policy.\n",
      "\n",
      "Calificacion:0.562685\n",
      "\n",
      "Nombre del hotel: auténtico monterrey, Ciudad:San Pedro Garza Garcia, Direccion:avenida manuel gómez morín 285 col valle del campestre, , san pedro garza garcia, 66265, mexico\n",
      "\n",
      "Pais: Mexico, Continente:Americas, URI:s3://chunked-hotel-data/5380060-a1d99eb4188c11ef9eac16ffcf11486b.txt\n",
      "\n",
      "Contexto:\n",
      "Hotel 5 Inn is strategically located 2.5 km from Guanajuato International Airport and 10 minutes’ drive from Silao Town Centre. It features free Wi-Fi and a furnished terrace with swimming pool.\n",
      "\n",
      "The accommodations offer modern décor with tiled floors, air conditioning, coffee maker and flat-screen cable TV. The bathrooms are private and come with hairdryer, free toiletries and shower.\n",
      "\n",
      "This property also features a gym and business centre, children’s playground and services like car rental, and laundry. The on-site restaurant serves international cuisine.\n",
      "\n",
      "Hotel Inn 5 is 25 km from Cerro del Cubilete Nature Reserve and 25 minutes’ drive from Guanajuato Capital City. Leon Town Centre is a 30-minute drive away. Disclaimer notification: Amenities are subject to availability and may be chargeable as per the hotel policy.\n",
      "\n",
      "Calificacion:0.561893\n",
      "\n",
      "Nombre del hotel: hotel 5 inn, Ciudad:Silao, Direccion:carretera leon-silao km 158+300, 36270 silaoguanajuato, silao, 36270, mexico\n",
      "\n",
      "Pais: Mexico, Continente:Americas, URI:s3://chunked-hotel-data/1406740-4242a8a6189611ef9eac16ffcf11486b.txt\n",
      "\n",
      "Contexto:\n",
      "Mexico City is not only downtown. You have to move South, West, North, Center and also Downtown. Our property is located properly to visit all this interest points in 15 mins by public or private transportation. Booking on downtown is the most noisy, dangerous and polluted area in Mexico City. Be smart and lodge in a proper site Mex Suites Casa Azúl B&B is a quaint colonial-style bed and breakfast located in the Napoles neighbourhood of Mexico City. It offers free WiFi and à la carte breakfast. This property is located just 700 metres away from the nearest metro station.\n",
      "\n",
      "Each room here includes a flat-screen TV, a patio and a minibar. They also include a small seating area and a private bathroom with a shower and toilet.\n",
      "\n",
      "At Mex Suites Casa Azúl you will find a terrace and a shared lounge, while a wide variety of restaurants can be found on Insurgents Avenue, a 5-minute walk away.\n",
      "\n",
      "Calificacion:0.560707\n",
      "\n",
      "Nombre del hotel: mex suites casa azúl b&b, Ciudad:Benito Juarez, Direccion:nattier no 21 col insurgentes mixcoac, 03430 mexiko-stadtciudad de mexico, benito juarez, 03730, mexico\n",
      "\n",
      "Pais: Mexico, Continente:Americas, URI:s3://chunked-hotel-data/1640962-e53c6d50188f11ef9eac16ffcf11486b.txt\n",
      "\n",
      "Contexto:\n",
      "Hotel Real Inn Nuevo Morelos is located in nuevo Morelos, and features a garden, a bar and a terrace. Among the facilities of this property are a restaurant, a 24-hour front desk and room service, along with free WiFi. Guests can enjoy garden views.\n",
      "\n",
      "Featuring a private bathroom with a bath or shower and a hairdryer, rooms at the hotel also offer pool view. At Hotel Real Inn Nuevo Morelos each room includes air conditioning and a flat-screen TV.\n",
      "\n",
      "An American breakfast is available daily at the accommodation.\n",
      "\n",
      "The nearest airport is Minatitlán/Coatzacoalcos National Airport, 106 km from Hotel Real Inn Nuevo Morelos. Disclaimer notification: Amenities are subject to availability and may be chargeable as per the hotel policy.\n",
      "\n",
      "Calificacion:0.554591\n",
      "\n",
      "Nombre del hotel: hotel real inn nuevo morelos, Ciudad:San Francisco, Direccion:carretera transistmica km 118 col. nuevo morelos, , san francisco, 96960, mexico\n",
      "\n",
      "Pais: Mexico, Continente:Americas, URI:s3://chunked-hotel-data/6061766-ea9baacc189911ef9eac16ffcf11486b.txt\n"
     ]
    }
   ],
   "source": [
    "input = '''Can you suggest 5 places to stay in Monterrey, Nuevo Leon in Mexico?'''\n",
    "\n",
    "elapsed_time, response = retrieve_and_generate(input, retriever, llm)\n",
    "display_response(response, elapsed_time)"
   ]
  },
  {
   "cell_type": "markdown",
   "metadata": {},
   "source": [
    "**Respuesta de Copilot Edge**\n",
    "\n",
    "Certainly! If you’re planning a trip to Monterrey, Nuevo León, here are five great places to stay:\n",
    "\n",
    "Safi Royal Luxury Metropolitan: Located in San Pedro Garza Garcia, this 5-star hotel offers an outdoor pool, free parking, and a fitness center. Enjoy panoramic views and excellent service12.\n",
    "Best Western PREMIER Monterrey Aeropuerto: Just a 5-minute drive from Monterrey International Airport, this hotel features an outdoor pool, a gym, and air-conditioned rooms with free Wi-Fi13.\n",
    "Galeria Plaza Monterrey: Conveniently situated in the center of Monterrey, this 5-star hotel offers city views, an outdoor pool, and free WiFi. Don’t miss the restaurant and bar13.\n",
    "Holiday Inn & Suites - Monterrey Apodaca Zona Airport: Located in Apodaca, this 5-star IHG hotel provides an outdoor pool, free private parking, and a fitness center. Perfect for travelers near the airport13.\n",
    "Fiesta Americana Monterrey Pabellón M.: Situated in Monterrey Centro, this hotel offers an outdoor pool and stunning city views. The on-site restaurant and bar on the 16th floor provide a memorable experience12.\n",
    "Enjoy your stay in vibrant Monterrey!raction"
   ]
  },
  {
   "cell_type": "markdown",
   "metadata": {},
   "source": [
    "**Análisis**\n",
    "\n",
    "La respuesta proporcionada incluye tres hoteles de Monterrey y hoteles en otros lugares. Como en los cases anterior, las citas relacionadas con los hoteles incorrectos dejan ver que comparten porciones de una descripción parcial de un hotel sin nombre con los detalles del hotel en Monterrey. Este es una indicación que hay que refinar el contenido de los archivos o cambiar el tamaño del pedazo o *chunk size*.\n"
   ]
  },
  {
   "cell_type": "markdown",
   "metadata": {},
   "source": [
    "**Obteniendo Respuestas de la Base Conocimiento y el Modelo Fundacional**"
   ]
  },
  {
   "cell_type": "code",
   "execution_count": 19,
   "metadata": {},
   "outputs": [
    {
     "name": "stdout",
     "output_type": "stream",
     "text": [
      "Respuesta despues de 5.7374 segundos:\n",
      "1. Quinta Real Monterrey is a 5-star hotel located in San Pedro Garza García, within a 10-minute drive of Fundidora Park and Showcenter Complex.\n",
      "2. NH Monterrey La Fe is a 4-star hotel located in San Nicolas de los Garza, within a 10-minute drive of Fundidora Park and Paseo La Fe.\n",
      "3. Hyatt Place Monterrey Valle is a 4-star hotel located in Monterrey, featuring an outdoor swimming pool, fitness center, terrace, restaurant, bar, water sports facilities, and room service.\n",
      "4. Auténtico Monterrey is a 4-star hotel located in San Pedro Garza García, connected to a shopping center, and within a 10-minute drive of Fundidora Park and Paseo San Pedro.\n",
      "5. Hotel PF is a 4-star hotel located in Monterrey, featuring a restaurant, bar, fitness center, and room service.\n",
      "\n",
      "Contexto:\n",
      "This centrally located city hotel is ideal for guests wanting to visit the breathtaking places in the area, such as the El Cielo biosphere reserve, as well as other nearby attractions in other regions of the state, such as the many forests and lagoons, or the La Pesca Soto beach marina, a popular destination on the Tamaulipecos coast. Monterrey is around 3.5 hours away by car from the family-friendly eco hotel.\n",
      "\n",
      "The air-conditioned business hotel offers 144 rooms in total and facilities include 24-hour reception and check-out services, wireless Internet access, and 7 rooms and open-air spaces for meetings and events. Guests may wine and dine in the café, bar and restaurant and a children's playground is provided for younger guests. A cloakroom, newspaper stand, room service, a laundry service and a car park complete the facilities on offer to guests at this conference hotel.\n",
      "\n",
      "The hotel has comfortable guest rooms featuring a 29-inch flat-screen cable TV, individually regulated air conditioning and heating, wireless Internet access and a telephone with free local calls, a work desk and an electronic safe. An en suite bathroom with shower, a double or king-size bed, a radio and tea and coffee making facilities also feature in all rooms as standard.\n",
      "\n",
      "There is a swimming pool on the premises with a separate children's swimming area and a poolside snack bar.\n",
      "\n",
      "Calificacion:0.610395\n",
      "\n",
      "Nombre del hotel: mision ciudad victoria, Ciudad:Ciudad Victoria, Direccion:carretera nac. km. 227 s/n col. las brisas, ciudad victoria, ciudad victoria, 87180, mexico\n",
      "\n",
      "Pais: Mexico, Continente:Americas, URI:s3://chunked-hotel-data/1326002-1655d33c188011ef9eac16ffcf11486b.txt\n",
      "\n",
      "Contexto:\n",
      "HeadLine : Near Paseo San PedroLocation : With a stay at Auténtico Monterrey in San Pedro Garza García, you ll be connected to a shopping center, within a 10-minute drive of Fundidora Park and Paseo San Pedro.  This 4-star hotel is 4.2 mi (6.8 km) from Macroplaza and 8.7 mi (14 km) from Estadio BBVA Bancomer.Rooms : Stay in one of 33 guestrooms featuring plasma televisions. Complimentary wireless Internet access is available to keep you connected. Private bathrooms have complimentary toiletries and hair dryers. Conveniences include safes and desks, and housekeeping is provided daily.Dining : Enjoy a meal at Reys Café, or stay in and take advantage of the hotel s room service (during limited hours). Relax with your favorite drink at the bar/lounge or the poolside bar. A complimentary continental breakfast is served daily.CheckIn Instructions :   Extra-person charges may apply and vary depending on property policyGovernment-issued photo identification and a credit card may be required at check-in for incidental chargesSpecial requests are subject to availability upon check-in and may incur additional charges; special requests cannot be guaranteedThis property accepts credit cards, debit cards, and cashSafety features at this property include a fire extinguisher and a smoke detector  Special Instructions : To make arrangements for check-in please contact the property at least 48 hours before arrival using the information on the booking confirmation. Guests must contact the property in advance for check-in instructions. Front desk staff will greet guests on arrival. Disclaimer notification: Amenities are subject to availability and may be chargeable as per the hotel policy.\n",
      "\n",
      "Calificacion:0.603440\n",
      "\n",
      "Nombre del hotel: auténtico monterrey, Ciudad:San Pedro Garza Garcia, Direccion:avenida manuel gómez morín 285 col valle del campestre, , san pedro garza garcia, 66265, mexico\n",
      "\n",
      "Pais: Mexico, Continente:Americas, URI:s3://chunked-hotel-data/5380060-a1d99eb4188c11ef9eac16ffcf11486b.txt\n",
      "\n",
      "Contexto:\n",
      "Hyatt Place Monterrey Valle has an outdoor swimming pool, fitness centre, a terrace and restaurant in Monterrey. Each accommodation at the 4-star hotel has city views, and guests can enjoy access to a bar and to water sports facilities. The accommodation features room service, a 24-hour front desk and organising tours for guests.\n",
      "\n",
      "All rooms at the hotel come with air conditioning, a seating area, a flat-screen TV with satellite channels, a safety deposit box and a private bathroom with a shower, free toiletries and a hairdryer. At Hyatt Place Monterrey Valle the rooms are fitted with bed linen and towels.\n",
      "\n",
      "The accommodation offers a continental or American breakfast.\n",
      "\n",
      "There is an in-house snack bar and guests can also make use of the business area.\n",
      "\n",
      "ITESM Campus Monterrey (Monterrey Tech) is 4.7 km from Hyatt Place Monterrey Valle, while Estadio Tecnológico is 5.4 km from the property. The nearest airport is Monterrey International, 35 km from the hotel, and the property offers a paid airport shuttle service. In the event of an early departure, the property will charge you the full amount for your stay.\n",
      "In response to Coronavirus (COVID-19), additional safety and sanitation measures are in effect at this property.\n",
      "Due to Coronavirus (COVID-19), wearing a face mask is mandatory in all indoor common areas. Disclaimer notification: Amenities are subject to availability and may be chargeable as per the hotel policy.\n",
      "\n",
      "Calificacion:0.597800\n",
      "\n",
      "Nombre del hotel: hyatt place monterrey valle, Ciudad:Monterrey, Direccion:av lazaro cardenas no. 2264  valle oriente  san pedro garza garcia, , monterrey, 66278, mexico\n",
      "\n",
      "Pais: Mexico, Continente:Americas, URI:s3://chunked-hotel-data/5015655-c849f232189211ef9eac16ffcf11486b.txt\n",
      "\n",
      "Contexto:\n",
      "HeadLine : Near Paseo La FeLocation : With a stay at NH Monterrey La Fe, you ll be centrally located in San Nicolas de los Garza, within a 10-minute drive of Fundidora Park and Paseo La Fe.  This 4-star hotel is 4.7 mi (7.6 km) from Estadio BBVA Bancomer and 7.5 mi (12.1 km) from Macroplaza.Rooms : Make yourself at home in one of the 152 air-conditioned rooms featuring minibars and flat-screen televisions. Complimentary wireless Internet access keeps you connected, and satellite programming is available for your entertainment. Private bathrooms with showers feature rainfall showerheads and complimentary toiletries. Conveniences include phones, as well as safes and desks.Dining : Satisfy your appetite for lunch or dinner at NH Monterrey La Fe Restau, a restaurant which specializes in Mexican cuisine, or stay in and take advantage of the 24-hour room service. Quench your thirst with your favorite drink at the bar/lounge. Buffet breakfasts are served on weekdays from 7:00 AM to 11:00 AM and on weekends from 6:00 AM to noon for a fee.CheckIn Instructions :   Extra-person charges may apply and vary depending on property policyGovernment-issued photo identification and a credit card, debit card, or cash deposit may be required at check-in for incidental chargesSpecial requests are subject to availability upon check-in and may incur additional charges; special requests cannot be guaranteedThis property accepts credit cards and cashThis property reserves the right to pre-authorize the guest s credit card prior to arrival.Please note that cultural norms and guest policies may differ by country and by property; the policies listed are provided by the property     Guests planning to check in with a pet must provide the pet s health certificate at check-in.  Special Instructions : This property offers transfers from the airport (surcharges may apply). Guests must contact the property with arrival details before travel, using the contact information on the booking confirmation. Front desk staff will greet guests on arrival. Disclaimer notification: Amenities are subject to availability and may be chargeable as per the hotel policy.\n",
      "\n",
      "Calificacion:0.584139\n",
      "\n",
      "Nombre del hotel: nh monterrey la fe, Ciudad:Monterrey, Direccion:av. miguel alema n 200 col. talaverna 200 200, col. talaverna66470 monterrey, monterrey, 64470, mexico\n",
      "\n",
      "Pais: Mexico, Continente:Americas, URI:s3://chunked-hotel-data/1632335-a24763a2187f11ef9eac16ffcf11486b.txt\n",
      "\n",
      "Contexto:\n",
      "HeadLine : Near Metropolitan CenterLocation : With a stay at Quinta Real Monterrey in San Pedro Garza García, you ll be within a 10-minute drive of Fundidora Park and Showcenter Complex.  This 5-star hotel is 3.3 mi (5.4 km) from Macroplaza and 7.8 mi (12.6 km) from Estadio BBVA Bancomer.Rooms : Make yourself at home in one of the 165 guestrooms featuring minibars. Complimentary wireless Internet access keeps you connected, and satellite programming is available for your entertainment. Bathrooms have designer toiletries and hair dryers. Conveniences include phones, as well as safes and desks.Dining : Satisfy your appetite for lunch, dinner, or brunch at TIERRA MIA, a restaurant which specializes in international cuisine, or stay in and take advantage of the 24-hour room service. Wrap up your day with a drink at the bar/lounge. Buffet breakfasts are available daily from 6:30 AM to 11:00 AM for a fee.CheckIn Instructions :   Extra-person charges may apply and vary depending on property policyGovernment-issued photo identification and a credit card, debit card, or cash deposit may be required at check-in for incidental chargesSpecial requests are subject to availability upon check-in and may incur additional charges; special requests cannot be guaranteedThis property accepts credit cards; cash is not acceptedThis property uses eco-friendly cleaning productsSafety features at this property include a carbon monoxide detector, a smoke detector, and a security systemPlease note that cultural norms and guest policies may differ by country and by property; the policies listed are provided by the property  Special Instructions : This property offers transfers from the airport (surcharges may apply). Guests must contact the property with arrival details before travel, using the contact information on the booking confirmation. Front desk staff will greet guests on arrival. Disclaimer notification: Amenities are subject to availability and may be chargeable as per the hotel policy.\n",
      "\n",
      "Calificacion:0.583001\n",
      "\n",
      "Nombre del hotel: quinta real monterrey, Ciudad:San Pedro Garza Garcia, Direccion:diego de rivera 500 san pedro col. fracc. valle oriente, fraccionamiento valle oriente66260 san pedro garza garcíamonterrey, san pedro garza garcia, 66260, mexico\n",
      "\n",
      "Pais: Mexico, Continente:Americas, URI:s3://chunked-hotel-data/1061360-70ddbeae189f11ef9eac16ffcf11486b.txt\n"
     ]
    }
   ],
   "source": [
    "input = '''Can you suggest 5 places to stay in Monterrey, Nuevo Leon in Mexico, near Tec de Monterrey?'''\n",
    "\n",
    "elapsed_time, response = retrieve_and_generate(input, retriever, llm)\n",
    "display_response(response, elapsed_time)"
   ]
  },
  {
   "cell_type": "markdown",
   "metadata": {},
   "source": [
    "**Respuesta de Copilot Edge**\n",
    "\n",
    "Certainly! If you’re looking for accommodations near Tec de Monterrey, here are five options to consider:\n",
    "\n",
    "Safi Royal Luxury Metropolitan: Located in San Pedro Garza Garcia, this 5-star hotel offers an outdoor swimming pool, free private parking, a fitness center, and a restaurant. Enjoy a comfortable stay with excellent amenities1.\n",
    "Best Western PREMIER Monterrey Aeropuerto: Just a 5-minute drive from Monterrey International Airport, this hotel features an outdoor pool, a gym, and air-conditioned rooms with free Wi-Fi1.\n",
    "Galeria Plaza Monterrey: Attractively set in the center of Monterrey, this 5-star hotel offers air-conditioned rooms, an outdoor swimming pool, free Wi-Fi, and a fitness center. Enjoy city views and convenient amenities1.\n",
    "Holiday Inn & Suites - Monterrey Apodaca Zona Airport: Situated in Apodaca, this 5-star IHG hotel provides an outdoor pool, free private parking, and a fitness center. Perfect for travelers near the airport1.\n",
    "Fiesta Americana Monterrey Pabellón M.: Offering an outdoor pool and city views, this hotel is located in Monterrey Centro. Enjoy panoramic vistas from the on-site restaurant and bar on the 16th floor1.\n",
    "These options provide a range of amenities and convenient locations for your stay in vibrant Monterrey!raction"
   ]
  },
  {
   "cell_type": "markdown",
   "metadata": {},
   "source": [
    "**Análisis**\n",
    "\n",
    "La respuesta recibida es consistente con la anterior pero se puede ver también que Copilot Edge tampoco pudo proveer hoteles cercanos al Tec de Monterrey, en Monterrey.\n"
   ]
  },
  {
   "cell_type": "markdown",
   "metadata": {},
   "source": [
    "**Obteniendo Respuestas de la Base Conocimiento y el Modelo Fundacional**"
   ]
  },
  {
   "cell_type": "code",
   "execution_count": 20,
   "metadata": {},
   "outputs": [
    {
     "name": "stdout",
     "output_type": "stream",
     "text": [
      "Respuesta despues de 3.4992 segundos:\n",
      "I would recommend you to stay at Hotel Carrizal Spa. It is a sanctuary where the enjoyment of the privileges meet a healthy life: rest, relaxation and harmony of body and spirit. It is an ideal space, prepared and designed to satisfy guests needs and desires of a total renaissance. It has a natural environment, and is charming with a refurbished colonial Mexican architectural style and with the warm comfort that an exclusive guests deserves. The hotel is a 45-minute drive from the beautiful town of Coatepec. You can drive to Veracruz in around an hour.\n",
      "\n",
      "Contexto:\n",
      "HotelDescription#A sanctuary where the enjoyment of the privileges meet a healthy life: rest, relaxation and harmony of body and spirit. It is an ideal space, prepared and designed to satisfy guests needs and desires of a total renaissance. It has a natural environment, and is charming with a refurbished colonial Mexican architectural style and with the warm comfort that an exclusive guests deserves.\n",
      "\n",
      "The suites are decorated guests confort in mind, and offer besides tranquility and privacy, all services that guests need. Disclaimer notification: Amenities are subject to availability and may be chargeable as per the hotel policy.\n",
      "\n",
      "Calificacion:0.530729\n",
      "\n",
      "Nombre del hotel: hacienda el santuario golf & spa, Ciudad:San Miguel De Allende, Direccion:carr. san miguel de alllende a dolores km 13.5, , san miguel de allende, , mexico\n",
      "\n",
      "Pais: Mexico, Continente:Americas, URI:s3://chunked-hotel-data/1345592-4f8db8a4188f11ef9eac16ffcf11486b.txt\n",
      "\n",
      "Contexto:\n",
      "The hotel is a 45-minute drive from the beautiful town of Coatepec. You can drive to Veracruz in around an hour. Please inform Hotel Carrizal Spa in advance of your expected arrival time. You can use the Special Requests box when booking, or contact the property directly with the contact details provided in your confirmation.\n",
      "Payment before arrival via bank transfer is required. The property will contact you after you book to provide instructions.\n",
      "In response to Coronavirus (COVID-19), additional safety and sanitation measures are in effect at this property.\n",
      "Due to Coronavirus (COVID-19), this property is taking steps to help protect the safety of guests and staff. Certain services and amenities may be reduced or unavailable as a result.\n",
      "Due to Coronavirus (COVID-19), this property has reduced reception and service operating hours.\n",
      "Due to Coronavirus (COVID-19), this property adheres to strict physical distancing measures.\n",
      "Due to Coronavirus (COVID-19), please ensure that you are only booking this property following the local government guidelines of the destination, including but not limited to the purpose of travel, and maximum allowed group size.\n",
      "Due to Coronavirus (COVID-19), wearing a face mask is mandatory in all indoor common areas.\n",
      "It is not possible to stay at this property for Coronavirus (COVID-19) quarantine purposes. Disclaimer notification: Amenities are subject to availability and may be chargeable as per the hotel policy.\n",
      "\n",
      "Calificacion:0.517613\n",
      "\n",
      "Nombre del hotel: hotel carrizal spa, Ciudad:Jalcomulco, Direccion:domicilio conocido congregación agua caliente., congregacion agua caliente91647 apazapan, jalcomulco, 91647, mexico\n",
      "\n",
      "Pais: Mexico, Continente:Americas, URI:s3://chunked-hotel-data/1132076-8131a88c189611ef9eac16ffcf11486b.txt\n",
      "\n",
      "Contexto:\n",
      "HotelDescription#The hotel is located in the fabulous city of Mazatlan, offering a beautiful glimpse of traditional Mexico. Vibrant nightlife, dining, and recreation on the water are all part of the charm of Mazatlan. During the stay at this resort, guests can tour the \"zona dorada,\" or \"golden zone,\" to do some exploring and shopping, or enjoy a romantic dinner on the beach, or stroll through the tropical streets at night.\n",
      "\n",
      "Envision the stay surrounded by natural beauty at this hotel. Lush gardens and exotic flowers and foliage create a gorgeous landscape, whch can be viewed from the balcony. Spacious, modern rooms give guests space to breathe and allow them to step into a world of relaxation. The hotel provides a service for every need and a variety of fun activities for everyone. It can provide babysitters, transportation, and any service needed to make guests stay a happy and fun experience.\n",
      "\n",
      "The rooms feature 2 double beds and a sofa bed, remote controlled cable TV, telephone, A/C, alarm clock, fan, full size mirror, shower, shaving mirror, hair dryer, and bathroom amenities.\n",
      "\n",
      "Guests can choose from a variety of activities designed to delight and entertain, no matter where their interests lie.\n",
      "\n",
      "Calificacion:0.511260\n",
      "\n",
      "Nombre del hotel: mayan palace mazatlan & sea garden mazatlan, Ciudad:Mazatlan, Direccion:av. sábalo cerritos s/n, zona hotelera nortemazatlán 82100, mazatlan, 82100, mexico\n",
      "\n",
      "Pais: Mexico, Continente:Americas, URI:s3://chunked-hotel-data/1309267-d68c4232188d11ef9eac16ffcf11486b.txt\n",
      "\n",
      "Contexto:\n",
      "The luxurious hacienda-style Hotel Rancho Gran Relax is conveniently situated on a vast piece of land just a 20-minute drive away from the town of Tulancingo with its archaeological site and shopping venues. Teotihuacan with its world-famous pyramids can be reached within a 30-minute drive, while the metropolis of Mexico City with its countless attractions can be reached within 45 minutes by car.\n",
      "The rural hotel offers charming country-style rooms with wrought-iron furnishings. Features include complimentary wireless internet access, air-conditioning and TV. The hotel offers an excellent spa area and a business centre as well as a multitude of possibilities for events, such as karting, a car race track, Gotcha or a shooting range. The on-site restaurant serves delicious Mexican and international cuisine. This hotel is a perfect choice for all types of events and incentives near Mexico City. Disclaimer notification: Amenities are subject to availability and may be chargeable as per the hotel policy.\n",
      "\n",
      "Calificacion:0.509497\n",
      "\n",
      "Nombre del hotel: hotel rancho gran relax, Ciudad:Teotihuacan, Direccion:carretera mexico-tulancingo km,79, teotihuacan, teotihuacan, 43601, mexico\n",
      "\n",
      "Pais: Mexico, Continente:Americas, URI:s3://chunked-hotel-data/1489571-fcbb8ab4189511ef9eac16ffcf11486b.txt\n",
      "\n",
      "Contexto:\n",
      "This spa hotel is located 1.5 km from Mineral del Monte Town Centre and 800 metres from Mina de Acosta Museum. It features spa treatments, a garden and free breakfast.\n",
      "\n",
      "The rustic-style rooms offer king-size beds and terraces. The bathrooms are private and come with a shower.\n",
      "\n",
      "Guests at Spa Holistico Real Hotel will enjoy Mexican-style food at the on-site restaurant and the bar serves national and international drinks.\n",
      "\n",
      "Spa Holistico Real Hotel is 18 km from Huasca de Ocampo Magical Village and 25 minutes’ drive from the Prismas Basálticos rock formations and San Antonio Waterfalls.\n",
      "\n",
      "The hotel can help to arrange activities in the surrounding area, including hot air ballooning, zip-lining and hiking.\n",
      "\n",
      "Pachuca City is 20 minutes’ drive away and Mexico City International Airport is a 90-minute drive away. Free parking is available on site. Payment before arrival via bank transfer is required. The property will contact you after you book to provide instructions.\n",
      "Spa Holistico Real Hotel offers a New Year´s dinner on December 31st including live music and fireworks. Please contact the property for availability and rates.\n",
      "\n",
      "Please note that the location of this property has a very low temperature, guests are advised to bring a jacket.\n",
      "\n",
      "The first load of firewood is free, while an additional cost will be charged for any extra. Disclaimer notification: Amenities are subject to availability and may be chargeable as per the hotel policy.\n",
      "\n",
      "Calificacion:0.509345\n",
      "\n",
      "Nombre del hotel: spa holistico real hotel, Ciudad:Mineral del Monte, Direccion:camino real omitlan barrio escobar, 42130 mineral del monte, mineral del monte, 42130, mexico\n",
      "\n",
      "Pais: Mexico, Continente:Americas, URI:s3://chunked-hotel-data/1419959-227e0652188f11ef9eac16ffcf11486b.txt\n"
     ]
    }
   ],
   "source": [
    "input = '''I want to stay with my wife for a romantic weekend in Mexico City. We want to have a nice massage within the hotel.'''\n",
    "\n",
    "elapsed_time, response = retrieve_and_generate(input, retriever, llm)\n",
    "display_response(response, elapsed_time)"
   ]
  },
  {
   "cell_type": "markdown",
   "metadata": {},
   "source": [
    "**Respuesta de ChatGpt**\n",
    "\n",
    "Mexico City offers many luxurious hotels perfect for a romantic weekend. Here are a few options that include massage services within the hotel:\n",
    "\n",
    "1. Las Alcobas, a Luxury Collection Hotel\n",
    "Located in the upscale Polanco district, Las Alcobas offers elegant rooms and a serene spa. The hotel features a full-service spa with a variety of massage treatments, ensuring a relaxing experience for you and your wife.\n",
    "\n",
    "2. The St. Regis Mexico City\n",
    "This hotel is known for its luxurious amenities and exceptional service. The Remède Spa offers a range of treatments, including massages, facials, and body treatments. The hotel’s central location also provides easy access to many of the city’s attractions.\n",
    "\n",
    "3. Four Seasons Hotel Mexico City\n",
    "Situated on the Paseo de la Reforma, this hotel combines luxury with comfort. The spa offers a variety of massage treatments, and you can also enjoy the beautiful garden courtyard and the rooftop pool.\n",
    "\n",
    "4. Hotel Marquis Reforma\n",
    "This elegant hotel on Paseo de la Reforma features the Spa Marquis, offering an extensive menu of massages and wellness treatments. It’s a perfect place to unwind and enjoy a romantic weekend.\n",
    "\n",
    "5. JW Marriott Hotel Mexico City\n",
    "Located in the Polanco district, this hotel offers a luxurious stay with an on-site spa that provides various massage treatments. The hotel’s prime location also means you’re close to excellent dining and shopping options.\n",
    "\n",
    "These hotels will provide a romantic and relaxing environment for your weekend getaway."
   ]
  },
  {
   "cell_type": "markdown",
   "metadata": {},
   "source": [
    "**Análisis**\n",
    "\n",
    "La respuesta de nuestro modelo no es acertada en cuanto a la ciudad requerida. Esto se puede deber a que estamos complementando al modelo con una parte del total de nuestros registros de hoteles. Aun así debemos de cuidar de que en la respuesta tenga mayor peso el destino el cual usuario está buscando.\n",
    "Por otro lado la respuesta fue acertada en cuanto a las amenidades que se buscaban en el hotel, en este caso uns spa.\n",
    "\n",
    "El resultado comparativo con chatgpt fue más acertado en cuanto a que los hoteles sugeridos si se encuentran en la ciudad destino."
   ]
  },
  {
   "cell_type": "markdown",
   "metadata": {},
   "source": [
    "**Obteniendo Respuestas de la Base Conocimiento y el Modelo Fundacional**"
   ]
  },
  {
   "cell_type": "code",
   "execution_count": 21,
   "metadata": {},
   "outputs": [
    {
     "name": "stdout",
     "output_type": "stream",
     "text": [
      "Respuesta despues de 4.2418 segundos:\n",
      "I recommend the following hotels that have their own golf course:\n",
      "1. La Villa du Golf à Cancun Hotel Boutique\n",
      "2. Laguna Suites Golf & Spa - All inclusive\n",
      "3. Playacar Palace All Inclusive\n",
      "4. The Grand at Moon Palace Cancun - All Inclusive\n",
      "5. The Royal at Gran Caribe Resort & Spa All Inclusive\n",
      "6. The Royal Playa del Carmen All Inclusive Spa & Resort\n",
      "7. The Royal Cancun All Inclusive\n",
      "8. Grand Fiesta Americana Coral Beach Cancun All Inclusive\n",
      "9. Paradisus Cancun All Inclusive\n",
      "10. Grand Park Royal Cancun Caribe - All Inclusive\n",
      "\n",
      "Contexto:\n",
      "The Villa du Golf à Cancun is a boutique hotel that offers to stay at home.\n",
      "\n",
      "With outdoor pool and free parking. All rooms have different styles, free wifi service, air conditioning, private bathroom.\n",
      "\n",
      "The Villa du Golf à Cancun is located in the hotel zone near the Chedraui Selecto supermarket, the entrance to the public beach Caracol, the nightclub area (Coco Bongo, Mandala), the international convention center (Cancun ICC), as well as many restaurants.\n",
      "\n",
      "The nearest bus stop is 200 metres away.\n",
      "\n",
      "The airport is located 25 km from the villa. Airport shuttle service is available for a fee and upon request.\n",
      "\n",
      "In the villa you can enjoy a home made breakfast cooked at the moment, and a coexistence with the other guests and owners of the villa. This property will not accommodate hen, stag or similar parties.\n",
      "In response to Coronavirus (COVID-19), additional safety and sanitation measures are in effect at this property.\n",
      "Please inform La Villa du Golf à Cancun Hotel Boutique in advance of your expected arrival time. You can use the Special Requests box when booking, or contact the property directly with the contact details provided in your confirmation.\n",
      "A shuttle service to and from the airport is available upon request (with additional charge).\n",
      "\n",
      "Payment must be made upon check-in. Cash payments have 5% off in Mexican Pesos and 3% off in US dollar and Euro.\n",
      "\n",
      "Calificacion:0.669900\n",
      "\n",
      "Nombre del hotel: la villa du golf à cancun, Ciudad:Cancun, Direccion:km 7.5 zona hotelera calle quetzal 32 1, km 7.5boulevard kukulkanzona hotelera, cancun, 77500, mexico\n",
      "\n",
      "Pais: Mexico, Continente:Americas, URI:s3://chunked-hotel-data/1464982-872f16ac188c11ef9eac16ffcf11486b.txt\n",
      "\n",
      "Contexto:\n",
      "The hotel is located in the exclusive Golf Course of Pok-ta-Pok in Cancun's hotel zone, 25 minutes from the International Airport and 15 minutes from downtown. It is surrounded by green lush gardens and at a short distance from restaurants, shopping malls and entertainment centers thus becoming an ideal place for families who want to have fun and relax.\n",
      "\n",
      "The modern hotel features 39 suites and is located in the exclusive Golf Course of Pok-ta-Pok in Cancun's hotel zone.The services include a bar-restaurant, free shuttle to and from the beach, tennis and squash courts, golf course, swimming pool, game room, Beach Club, wedding facilities, meeting rooms, shops, daily activities for children and adults and beautiful gardens. In addition you can find a travel agency, a car rental, concierge, doctor, laundry, babysitter and room service.\n",
      "\n",
      "Al suites of this hotel are equipped with golf course view balconies, living room, dining room and small kitchen. They also have 2 double beds, 1 sofa bed, AC, ceiling fan, satellite TV, telephone, data port, safe deposit box, coffee maker, microwave oven, blender and toaster. Non smoking rooms upon availability. \n",
      "\n",
      "You can also enjoy the Beach Club, the swimming pool and the gardens for a stroll. You can practice in the Golf Course and the tennis court and have fun with the daily activities for children and adults.\n",
      "\n",
      "Calificacion:0.658396\n",
      "\n",
      "Nombre del hotel: ocean club suites, Ciudad:Cancun, Direccion:pok ta pok l 2, cancun, cancun, 77500, mexico\n",
      "\n",
      "Pais: Mexico, Continente:Americas, URI:s3://chunked-hotel-data/1311739-ee4ef554189711ef9eac16ffcf11486b.txt\n",
      "\n",
      "Contexto:\n",
      "Situated in Cancún, Laguna Suites Golf & Spa - All inclusive features air-conditioned rooms with free WiFi. Boasting a 24-hour front desk, this property also provides guests with an outdoor pool. The hotel has a restaurant, and Coco Bongo is 3.8 km away.\n",
      "\n",
      "At the hotel, the rooms come with a balcony. The rooms are equipped with a private bathroom with a shower, free toiletries and a hair dryer. All guest rooms will provide guests with a microwave.\n",
      "\n",
      "A buffet breakfast is available each morning at the property.\n",
      "\n",
      "Laguna Suites Golf & Spa - All incl offers a terrace.\n",
      "\n",
      "La Isla Shopping Mall is 6 km from the accommodation, while Cancun Government Palace is 10 km away. The nearest airport is Cancún International Airport, 27 km from the property. An environment fee of US$1.23 per night is not included Disclaimer notification: Amenities are subject to availability and may be chargeable as per the hotel policy.\n",
      "\n",
      "Calificacion:0.611123\n",
      "\n",
      "Nombre del hotel: laguna suites golf & spa, Ciudad:Cancun, Direccion:boulevard kukulcan, 77500 cancún, cancun, 77500, mexico\n",
      "\n",
      "Pais: Mexico, Continente:Americas, URI:s3://chunked-hotel-data/1761218-1e4c4f30189e11ef9eac16ffcf11486b.txt\n",
      "\n",
      "Contexto:\n",
      "HeadLine : In Cancun (Zona Hotelera)Location : With a stay at Caracol Vacation Club by Go Travel Club in Cancun (Zona Hotelera), you ll be within a 5-minute drive of La Isla Shopping Mall and Maya Cancun Museum.  This 4-star hotel is 2.1 mi (3.4 km) from Delfines Beach and 14.8 mi (23.9 km) from Moon Palace Golf Club.Rooms : Make yourself at home in one of the 143 individually decorated guestrooms, featuring free minibar items and flat-screen televisions. Rooms have private balconies or patios. Cable television is provided for your entertainment. Bathrooms feature showers, complimentary toiletries, and hair dryers.Dining : This hotel is all inclusive. Rates include meals and beverages at onsite dining establishments. Charges may be applied for dining at some restaurants, special dinners and dishes, some beverages, and other amenities. Grab a bite to eat at one of the hotel s 5 restaurants, or stay in and take advantage of the 24-hour room service. Snacks are also available at the coffee shop/cafe. When you are in need of a refreshing drink, visit the poolside bar or one of 5 bars/lounges, or 2 beach bars. CheckIn Instructions :   Extra-person charges may apply and vary depending on property policyGovernment-issued photo identification and a credit card may be required at check-in for incidental chargesSpecial requests are subject to availability upon check-in and may incur additional charges; special requests cannot be guaranteedSafety features at this property include a smoke detectorBe prepared: check the latest COVID-19 travel requirements and measures in place for this destination before you travel.  Special Instructions : This property offers transfers from the airport. Guests must contact the property with arrival details before travel, using the contact information on the booking confirmation. This property doesn t offer after-hours check-in. To make arrangements for check-in please contact the property at least 72 hours before arrival using the information on the booking confirmation. Guests will receive an email 2 weeks before arrival with check-in instructions. Front desk staff will greet guests on arrival. Disclaimer notification: Amenities are subject to availability and may be chargeable as per the hotel policy.\n",
      "\n",
      "Calificacion:0.604155\n",
      "\n",
      "Nombre del hotel: caracol bay cancun - all inclusive, Ciudad:Cancun, Direccion:blvd. kukulcan km 16.5 bis hotel zone, , cancun, 77500, mexico\n",
      "\n",
      "Pais: Mexico, Continente:Americas, URI:s3://chunked-hotel-data/6177920-d166128c187f11ef9eac16ffcf11486b.txt\n",
      "\n",
      "Contexto:\n",
      "HotelDescription#This hotel is located on an untouched stretch of coastline with many coconut palms and perfect conditions from swimming and snorkelling. The centre of Playa del Carmen and Cancún can easily be reached by making use of public transport, lying 15 minutes and 35 minutes from the hotel respectively. The motorway that is 2 km away offers excellent access to locations in the surrounding area and public transport departs from stops located just 2 km from the hotel.\n",
      "\n",
      "Renovated in 2003, this hotel offers access to a pleasant 25 m² garden and comprises a total of 30 rooms. Guests may make use of the bay, air-conditioned restaurant, Internet terminal, car park and garage. Room and laundry services are also on offer to guests.\n",
      "\n",
      "24 of the rooms include 2 double beds and the rest have a king size bed. All rooms are equipped with an en suite bathroom, cable TV and a fan. The rooms offer a stunning view of the gardens and the Caribbean.\n",
      "\n",
      "There is a swimming pool available for use and golfers may enjoy a round of golf on the course that lies about 12 km away. Disclaimer notification: Amenities are subject to availability and may be chargeable as per the hotel policy.\n",
      "\n",
      "Calificacion:0.601508\n",
      "\n",
      "Nombre del hotel: kai-kaana hotel, Ciudad:Playa del Carmen, Direccion:carretera cancun, chetumal77710 playa del carmenriviera maya, playa del carmen, 77710, mexico\n",
      "\n",
      "Pais: Mexico, Continente:Americas, URI:s3://chunked-hotel-data/1043979-43f4c30e189211ef9eac16ffcf11486b.txt\n"
     ]
    }
   ],
   "source": [
    "input = '''I want to do a a golf weekend with my friends in Cancun. What hotels do you recommend that have their own golf course?'''\n",
    "\n",
    "elapsed_time, response = retrieve_and_generate(input, retriever, llm)\n",
    "display_response(response, elapsed_time)"
   ]
  },
  {
   "cell_type": "markdown",
   "metadata": {},
   "source": [
    "**Respuesta de ChatGpt**\n",
    "\n",
    "Cancun offers several excellent hotels with their own golf courses, perfect for a golf weekend. Here are some top recommendations:\n",
    "\n",
    "1. Moon Palace Cancun\n",
    "Description: Moon Palace Cancun features a 27-hole Jack Nicklaus Signature golf course. The resort offers luxurious accommodations, multiple dining options, and a range of activities.\n",
    "Facilities: Golf academy, pro shop, golf packages, spa, and fine dining.\n",
    "2. Iberostar Cancun\n",
    "Description: Iberostar Cancun boasts an 18-hole championship golf course designed by Isao Aoki. The resort offers beautiful beachfront views, a variety of restaurants, and numerous amenities.\n",
    "Facilities: Clubhouse, golf shop, spa, multiple swimming pools, and entertainment options.\n",
    "3. The Ritz-Carlton, Cancun\n",
    "Description: The Ritz-Carlton, Cancun, while not having its own golf course, offers access to several nearby courses, including the Iberostar Cancun Golf Club and El Camaleon Mayakoba Golf Club.\n",
    "Facilities: Luxurious accommodations, fine dining, spa services, and concierge service to arrange golfing activities.\n",
    "4. Dreams Vista Cancun Golf & Spa Resort\n",
    "Description: This resort features a Greg Norman-designed golf course at Playa Mujeres Golf Club. The all-inclusive resort provides a range of activities and luxurious accommodations.\n",
    "Facilities: Golf packages, pro shop, spa, multiple dining options, and rooftop pool.\n",
    "5. Secrets Playa Mujeres Golf & Spa Resort\n",
    "Description: An adults-only resort with access to the 18-hole Playa Mujeres Golf Club, designed by Greg Norman. The resort offers all-inclusive luxury, perfect for a golf weekend.\n",
    "Facilities: Golf packages, pro shop, multiple restaurants, bars, spa, and beachfront access.\n",
    "Tips for Booking\n",
    "Early Reservations: Golf courses can get booked up quickly, so make sure to reserve tee times in advance.\n",
    "Packages: Look for golf packages that include accommodations, meals, and golf rounds to get the best value.\n",
    "Group Discounts: If you are traveling with a group, inquire about group rates or special deals.\n",
    "Would you like more information on any of these hotels or assistance with booking?"
   ]
  },
  {
   "cell_type": "markdown",
   "metadata": {},
   "source": [
    "**Análisis**\n",
    "\n",
    "Esta respuesta fue mucho más acertada que la anterior en cuanto a que la selección de hoteles concuerda con la ciudad o área requerida. También recomienda hoteles con las amenidades requeridas, en este caso golf.\n",
    "\n",
    "Un aspecto a mejorar en cuanto a la respuesta de chatgpt es la legibilidad. Al hacer una lista de hoteles en tu respuesta se muestra de mejor manera los resultados.\n"
   ]
  },
  {
   "cell_type": "markdown",
   "metadata": {},
   "source": [
    "**Obteniendo Respuestas de la Base Conocimiento y el Modelo Fundacional**"
   ]
  },
  {
   "cell_type": "code",
   "execution_count": 22,
   "metadata": {},
   "outputs": [
    {
     "name": "stdout",
     "output_type": "stream",
     "text": [
      "Respuesta despues de 3.5503 segundos:\n",
      "I recommend Mitsui Garden Hotel Ueno Tokyo, Park Hotel Tokyo, and Candeo Hotels Uenokoen. Mitsui Garden Hotel Ueno Tokyo is a 4-star hotel located in Tokyo, within a 5-minute drive of Tokyo Dome and Tokyo Skytree. Park Hotel Tokyo is a 4-star hotel in Tokyo, within a 15-minute walk of Ginza Six and Ginza Graphic Gallery. Candeo Hotels Uenokoen is a 4-star hotel in Tokyo, within a 5-minute drive of Tokyo Skytree and Ueno Park.\n",
      "\n",
      "Contexto:\n",
      "HeadLine : Near Ueno ParkLocation : With a stay at Mitsui Garden Hotel Ueno Tokyo, you ll be centrally located in Tokyo, within a 5-minute drive of Tokyo Dome and Tokyo Skytree.  This 4-star hotel is 0.3 mi (0.5 km) from Ueno Park and 5.2 mi (8.4 km) from Tokyo Tower.Rooms : Make yourself at home in one of the 242 guestrooms featuring refrigerators and flat-screen televisions. Your bed comes with down comforters and premium bedding. Complimentary wired and wireless Internet access keeps you connected, and digital programming provides entertainment. Private bathrooms with shower/tub combinations feature complimentary toiletries and bidets.Dining : Enjoy a satisfying meal at BOSCO iL CHIANTI serving guests of Mitsui Garden Hotel Ueno Tokyo. Buffet breakfasts are available daily from 7:00 AM to 10:00 AM for a fee.CheckIn Instructions :   Extra-person charges may apply and vary depending on property policyGovernment-issued photo identification and a credit card, debit card, or cash deposit may be required at check-in for incidental chargesSpecial requests are subject to availability upon check-in and may incur additional charges; special requests cannot be guaranteedThis property accepts credit cards and cash  Special Instructions : Front desk staff will greet guests on arrival. For more details, please contact the property using the information on the booking confirmation. Disclaimer notification: Amenities are subject to availability and may be chargeable as per the hotel policy.\n",
      "\n",
      "Calificacion:0.680995\n",
      "\n",
      "Nombre del hotel: mitsui garden hotel ueno, Ciudad:Tokyo, Direccion:3 19 7 higashi ueno taito ku, taito-kutokyo 110-0015, tokyo, 110-0015, japan\n",
      "\n",
      "Pais: Japan, Continente:Asia, URI:s3://chunked-hotel-data/1031102-4f6eb656189f11ef9eac16ffcf11486b.txt\n",
      "\n",
      "Contexto:\n",
      "HeadLine : In Tokyo (Minato)Location : Centrally located in Tokyo, Park Hotel Tokyo is within a 15-minute walk of Ginza Six and Ginza Graphic Gallery.  This 4-star hotel is 1.5 mi (2.4 km) from Tokyo Tower and 1.7 mi (2.8 km) from Tokyo Imperial Palace.Rooms : Make yourself at home in one of the 270 guestrooms featuring refrigerators and flat-screen televisions. Complimentary wireless Internet access keeps you connected, and satellite programming is available for your entertainment. Bathrooms with shower/tub combinations feature deep soaking bathtubs and designer toiletries. Conveniences include phones, as well as safes and desks.Dining : Enjoy Japanese cuisine at Hanasanshou, one of the hotel s 3 restaurants, or stay in and take advantage of the room service (during limited hours). Snacks are also available at the coffee shop/cafe. Wrap up your day with a drink at the bar/lounge. Full breakfasts are available daily from 7 AM to 10:30 AM for a fee.CheckIn Instructions :   Extra-person charges may apply and vary depending on property policyGovernment-issued photo identification and a credit card, debit card, or cash deposit may be required at check-in for incidental chargesSpecial requests are subject to availability upon check-in and may incur additional charges; special requests cannot be guaranteedThis property accepts credit cards and cashThis property uses eco-friendly cleaning productsSafety features at this property include a smoke detector and window guardsPlease note that cultural norms and guest policies may differ by country and by property; the policies listed are provided by the property  Special Instructions : Front desk staff will greet guests on arrival.  A scheduled power outage will take place from January 5, 2024 at 11 PM to January 6, 2024 at 5 AM. Disclaimer notification: Amenities are subject to availability and may be chargeable as per the hotel policy.\n",
      "\n",
      "Calificacion:0.648932\n",
      "\n",
      "Nombre del hotel: park hotel tokyo, Ciudad:Tokyo, Direccion:1 7 1 higashishimbashi shiodome media tower, 1-7-1 higashi shimbashiminato-ku105-7227 tokyo, tokyo, 105-7227, japan\n",
      "\n",
      "Pais: Japan, Continente:Asia, URI:s3://chunked-hotel-data/1312333-6858ea04188311ef9eac16ffcf11486b.txt\n",
      "\n",
      "Contexto:\n",
      "HeadLine : In Tokyo (Taito)Location : With a stay at Candeo Hotels Uenokoen, you ll be centrally located in Tokyo, within a 5-minute drive of Tokyo Skytree and Ueno Park.  This 4-star hotel is 3 mi (4.8 km) from Tokyo Dome and 6.4 mi (10.3 km) from Tokyo Tower.Rooms : Make yourself at home in one of the 268 guestrooms featuring refrigerators and LCD televisions. Complimentary wired and wireless Internet access keeps you connected, and digital programming provides entertainment. Private bathrooms with shower/tub combinations feature complimentary toiletries and bidets. Conveniences include blackout drapes/curtains, housekeeping is provided on request, and irons/ironing boards can be requested.Dining : At Candeo Hotels Uenokoen, enjoy a satisfying meal at the restaurant. Buffet breakfasts are available daily from 7 AM to 9:30 AM for a fee.CheckIn Instructions :   Extra-person charges may apply and vary depending on property policyGovernment-issued photo identification and a credit card, debit card, or cash deposit may be required at check-in for incidental chargesSpecial requests are subject to availability upon check-in and may incur additional charges; special requests cannot be guaranteedThis property accepts credit cards; cash is not accepted  Special Instructions : If you are planning to arrive after midnight please contact the property in advance using the information on the booking confirmation. Front desk staff will greet guests on arrival. Disclaimer notification: Amenities are subject to availability and may be chargeable as per the hotel policy.\n",
      "\n",
      "Calificacion:0.645241\n",
      "\n",
      "Nombre del hotel: candeo ueno park, Ciudad:Tokyo, Direccion:1-2-13 negishi, taito-ku110-0003 tokyo, tokyo, 110-0003, japan\n",
      "\n",
      "Pais: Japan, Continente:Asia, URI:s3://chunked-hotel-data/1020628-7153abde188911ef9eac16ffcf11486b.txt\n",
      "\n",
      "Contexto:\n",
      "Hakone Gora Park is 5 km from Yoshiike Ryokan, while Narukawa Museum is 7 km from the property. A direct 2-hour bus ride from Haneda International Airport can take guests straight to Hakone Yumoto Station. Guests with tattoos may not be permitted to use the property’s public bathing areas or other facilities where the tattoos might be visible to other guests.\n",
      "Guests must check in by 19:00 to eat dinner at this property. Guests who check in after this time may not be served dinner, and no refund will be given.\n",
      "At the time of booking, credit card will be used for guarantee purposes only. The full amount of the reservation must be paid by cash or credit card at the time of check-out.\n",
      "\n",
      "Rooms will be selected by the property upon check in.\n",
      "\n",
      "Non-smoking rooms can be requested using the special request box at the time of booking. Please note that if a non-smoking room is requested, the room will be deodorised using an air neutralising spray.\n",
      "\n",
      "Please book a dinner-inclusive plan if you wish to eat dinner at the property.\n",
      "\n",
      "Guests cannot choose where to eat meals. The hotel will determine whether meals are served at the dining room or a private dining room.\n",
      "\n",
      "Please let the property know at time of booking if you wish to share the table with other groups for your meal. If the property is not informed, you may be allocated separate tables.\n",
      "\n",
      "Please note that the property does not accommodate any special food requests, whether it be for allergies, vegetarian meals or any other request.\n",
      "\n",
      "Calificacion:0.628545\n",
      "\n",
      "Nombre del hotel: yoshiike ryokan, Ciudad:Hakone, Direccion:597 yumoto, hakone-machi 250-0311ashigarashimo-gunkanagawa, hakone, 250-0311, japan\n",
      "\n",
      "Pais: Japan, Continente:Asia, URI:s3://chunked-hotel-data/1137901-7480fca4188311ef9eac16ffcf11486b.txt\n",
      "\n",
      "Contexto:\n",
      "HeadLine : Near Fureai BridgeLocation : With a stay at Kinugawa Onsen Sanraku in Nikko, you ll be a 2-minute walk from Fureai Bridge and 14 minutes by foot from Kawaji Onsen.  This 4-star hotel is 1.9 mi (3.1 km) from Tobu World Square and 3.9 mi (6.2 km) from Edo Wonderland.Rooms : Make yourself at home in one of the 47 air-conditioned rooms featuring refrigerators and minibars. Wired and wireless Internet access is complimentary, while flat-screen televisions and DVD players provide entertainment. Private bathrooms with separate bathtubs and showers feature complimentary toiletries and bidets. Conveniences include safes and coffee/tea makers, and housekeeping is provided daily.Dining : Wrap up your day with a drink at the bar/lounge.CheckIn Instructions :   Extra-person charges may apply and vary depending on property policyGovernment-issued photo identification and a credit card, debit card, or cash deposit may be required at check-in for incidental chargesSpecial requests are subject to availability upon check-in and may incur additional charges; special requests cannot be guaranteedThis property accepts credit cards and cashPlease note that cultural norms and guest policies may differ by country and by property; the policies listed are provided by the property  Special Instructions : This property offers transfers from the train station. Guests must contact the property with arrival details before travel, using the contact information on the booking confirmation. Front desk staff will greet guests on arrival. For more details, please contact the property using the information on the booking confirmation.  Guests booking half board rates and requiring dinner at the hotel must arrive prior to 6:30 PM. Meals and futons are not included in the room rate for children ages 1 and younger. whose stay is included. Meals and extra futons are available on request. Disclaimer notification: Amenities are subject to availability and may be chargeable as per the hotel policy.\n",
      "\n",
      "Calificacion:0.622934\n",
      "\n",
      "Nombre del hotel: kinugawa onsen sanraku, Ciudad:Nikko, Direccion:1060 kinugawaonsen oohara, nikko 321-2522, nikko, 321-2522, japan\n",
      "\n",
      "Pais: Japan, Continente:Asia, URI:s3://chunked-hotel-data/1405487-4464da32188211ef9eac16ffcf11486b.txt\n"
     ]
    }
   ],
   "source": [
    "input = '''Can you recommend hotels near Ueno Park in Tokyo?'''\n",
    "\n",
    "elapsed_time, response = retrieve_and_generate(input, retriever, llm)\n",
    "display_response(response, elapsed_time)"
   ]
  },
  {
   "cell_type": "markdown",
   "metadata": {},
   "source": [
    "**Respuesta de ChatGpt**\n",
    "\n",
    "Here are some recommended hotels near Ueno Park in Tokyo:\n",
    "\n",
    "1. Hotel Graphy Nezu: This hotel is located about a 15-minute walk from Ueno Park and offers residential-style accommodations with a fully-equipped, shared kitchen. It is well-rated for its good facilities and friendly staff.\n",
    "\n",
    "2. APA Hotel Ueno Ekimae: Situated in the heart of Tokyo, this hotel provides convenient access to local markets and restaurants. It's known for its good value and includes free WiFi throughout the property.\n",
    "\n",
    "3. Tosei Hotel Cocone Ueno Okachimachi: This hotel scores highly for cleanliness and value for money. It is located very close to Ueno Park and offers 3-star accommodations.\n",
    "\n",
    "4. Hop Inn Tokyo Ueno: Located a short walk from Ueno Station, this hotel is noted for its cleanliness and new hotel vibes. It offers air-conditioned rooms and free WiFi, making it a comfortable choice for visitors.\n",
    "\n",
    "All of these options offer good accessibility to Ueno Park and its surrounding attractions, providing a range of amenities to suit various preferences and budgets."
   ]
  },
  {
   "cell_type": "markdown",
   "metadata": {},
   "source": [
    "**Análisis**\n",
    "\n",
    "Se puede observar que la respuesta obtenida por nuestro modelo baseline esta parcialmente correcta. Tres de los cuatro hoteles que se obtienen están en la zona de Taito dentro de Tokio. No obstante, es importante darse cuenta que aparentemente nuestro modelo le está dando mucho peso a la a que la palabra Park o Ueno aparezca en el nombre del hotel, pues todos los resultados arrojados cumplen con esta observación. Esto causa errores como en el tercer resultado que arrojó un resultado cuyo nombre del Hotel (Park Hotel Tokyo) incluye la palabra Park, aunque realmente el hotel esta en una zona de Tokio totalmente distinta."
   ]
  },
  {
   "cell_type": "markdown",
   "metadata": {},
   "source": [
    "**Obteniendo Respuestas de la Base Conocimiento y el Modelo Fundacional**"
   ]
  },
  {
   "cell_type": "code",
   "execution_count": 23,
   "metadata": {},
   "outputs": [
    {
     "name": "stdout",
     "output_type": "stream",
     "text": [
      "Respuesta despues de 7.0290 segundos:\n",
      "Here are some options for traditional Japanese ryokans in Hakone:\n",
      "\n",
      "1. Hakone Tokinoshizuku - This ryokan offers 5-star accommodation with private balconies, a hot spring bath, spa facilities, and open-air baths.\n",
      "\n",
      "2. Gyokutei Ryokan - This ryokan features tatami flooring, traditional futon bedding, and an indoor hot spring bath. It is located near Hakoneyumoto Train Station.\n",
      "\n",
      "3. Hakone Yuyado Zen - This adults-only ryokan offers a garden, bar, shared lounge, and hot spring bath. It also has a restaurant and wellness packages.\n",
      "\n",
      "4. Shiunso Ryokan - This ryokan offers luxurious Japanese accommodation with natural hot-spring baths, private open-air baths, and traditional multi-course meals.\n",
      "\n",
      "5. GORA HANAOUGI-SOUNKAKU - This 4.5-star ryokan is located near Hakone Ropeway and Hakone Kowakien Yunessun. It offers air-conditioned rooms with refrigerators, flat-screen televisions, and deep soaking bathtubs.\n",
      "\n",
      "I hope this helps! Let me know if you have any other questions.\n",
      "\n",
      "Contexto:\n",
      "Situated in Hakone, Hakone Tokinoshizuku provides 5-star accommodation with private balconies. Among the facilities of this property are a restaurant, a 24-hour front desk and a lift, along with free WiFi. Free private parking is available and the ryokan also features a shuttle service for guests who want to explore the surrounding area.\n",
      "\n",
      "The ryokan will provide guests with air-conditioned rooms offering a desk, a kettle, a fridge, a minibar, a safety deposit box, a flat-screen TV, a terrace and a private bathroom with a bath. The rooms in Hakone Tokinoshizuku are fitted with bathrobes and a CD player.\n",
      "\n",
      "Guests at the accommodation can enjoy a Full English/Irish breakfast.\n",
      "\n",
      "Hakone Tokinoshizuku offers 5-star accommodation with a hot spring bath, spa facilities and open-air bath.\n",
      "\n",
      "Calificacion:0.704987\n",
      "\n",
      "Nombre del hotel: hakone tokinoshizuku, Ciudad:Hakone, Direccion:416 miyanoshita, ashigarashimo-gunhakone 250-0404kanagawa prefecture, hakone, 250-0404, japan\n",
      "\n",
      "Pais: Japan, Continente:Asia, URI:s3://chunked-hotel-data/1796379-9d12dd62188e11ef9eac16ffcf11486b.txt\n",
      "\n",
      "Contexto:\n",
      "Situated atop a hill in Hakone, Gyokutei offers an authentic Japanese accommodation with an indoor hot spring bath. Hakoneyumoto Train Station is a leisurely 8-minute walk from the ryokan.\n",
      "\n",
      "All rooms feature tatami (woven-straw) flooring and traditional futon bedding. Each are equipped with a flat-screen TV, a refrigerator and a private bathroom with a bath, shower and free toiletries. Extras include slippers, a hair dryer and yukata robes.\n",
      "\n",
      "Luggage storage space, a massage service and a garden are all on offer at Gyokutei Ryokan.\n",
      "\n",
      "For dinner, traditional kaiseki (multi-course) meals are served in guest rooms.\n",
      "\n",
      "Hakone Open-air Museum is 50-minute train ride away on the Hakone Tozan Line, while Hakone Gora Park is 55-minute train ride from the property. Lake Ashi is a 30-minute drive away. Guests with tattoos may not be permitted to use the property’s public bathing areas or other facilities where the tattoos might be visible to other guests.\n",
      "Please note that the property only serves Japanese-style meals, which are mainly sea food. Vegetarian meals cannot be prepared.\n",
      "\n",
      "In order to prepare special amenities for men and women, guests are kindly requested to indicate the gender of each guest staying in the room in the Special Requests box when booking. Disclaimer notification: Amenities are subject to availability and may be chargeable as per the hotel policy.\n",
      "\n",
      "Calificacion:0.698187\n",
      "\n",
      "Nombre del hotel: gyokutei, Ciudad:Hakone, Direccion:501 yumoto hakonemachi, ashigarashimo-gunhakone 250-0311kanagawa, hakone, 250-0311, japan\n",
      "\n",
      "Pais: Japan, Continente:Asia, URI:s3://chunked-hotel-data/1609544-7d471de2188211ef9eac16ffcf11486b.txt\n",
      "\n",
      "Contexto:\n",
      "Hakone Yuyado Zen in Hakone provides adults-only accommodation with a garden, a bar and a shared lounge. Providing a restaurant, the property also has an open-air bath, as well as a hot spring bath and a spa facilities. There is a sun terrace and guests can make use of free WiFi and free private parking.\n",
      "\n",
      "The ryokan will provide guests with air-conditioned rooms offering a desk, a coffee machine, a fridge, a safety deposit box, a flat-screen TV and a private bathroom with a bidet. Every room has a kettle, while certain rooms here will provide you with a balcony and others also provide guests with mountain views. At Hakone Yuyado Zen all rooms have bed linen and towels.\n",
      "\n",
      "An Asian breakfast is available daily at the accommodation.\n",
      "\n",
      "Hakone Yuyado Zen offers 4-star accommodation with a wellness packages.\n",
      "\n",
      "Hakone-Yumoto Station is 16 km from the ryokan, while Shuzen-ji Temple is 42 km away. The nearest airport is Oshima Airport, 85 km from Hakone Yuyado Zen. Guests are required to show a photo identification and credit card upon check-in. Please note that all Special Requests are subject to availability and additional charges may apply. Disclaimer notification: Amenities are subject to availability and may be chargeable as per the hotel policy.\n",
      "\n",
      "Calificacion:0.685326\n",
      "\n",
      "Nombre del hotel: zen, Ciudad:Hakone, Direccion:1245-96 sengokuhara, hakone 250-0631kanagawa, hakone, 250-0631, japan\n",
      "\n",
      "Pais: Japan, Continente:Asia, URI:s3://chunked-hotel-data/1810064-cabb3e3e189e11ef9eac16ffcf11486b.txt\n",
      "\n",
      "Contexto:\n",
      "Next to Hayakawa River and overlooking bamboo hills, Hakone’s Shiunso Ryokan offers luxurious Japanese accommodation with natural hot-spring baths. Traditional multi-course meals and rooms with private open-air baths are featured. Free WiFi is available.\n",
      "\n",
      "All rooms at Ryokan Shiunso have tatami (woven-straw) floors, futon beds and an en suite bathroom. Guests can make a fresh cup of tea and watch a DVD or simply listen to the whispering river.\n",
      "\n",
      "In addition to the hotel’s 3 public hot-spring baths, private-use baths can be reserved for a fee. Those wanting a break from the peaceful atmosphere can sing karaoke in the lounge.\n",
      "\n",
      "Multi-course meals featuring Japanese specialities are served in guests’ rooms. Fresh seasonal seafood are prepared and acquired by the head chef who goes to the Tsukiji Fish Market on a daily basis. Meals are served on dishware made from bamboo acquired on site. The hotel can prepare a Western breakfast or special meals upon advance request.\n",
      "\n",
      "Calificacion:0.678155\n",
      "\n",
      "Nombre del hotel: shiunso, Ciudad:Hakone, Direccion:92 tonosawa, ashigarashimo-gunhakone 250-0315kanagawa prefecture, hakone, 250-0315, japan\n",
      "\n",
      "Pais: Japan, Continente:Asia, URI:s3://chunked-hotel-data/1382180-bea992e2189111ef9eac16ffcf11486b.txt\n",
      "\n",
      "Contexto:\n",
      "HeadLine : Near Hakone Kowakien YunessunLocation : With a stay at GORA HANAOUGI-SOUNKAKU in Hakone (Gora), you ll be within a 5-minute drive of Hakone Ropeway and Hakone Kowakien Yunessun.  This 4.5-star ryokan is 1.3 mi (2 km) from Hakone Ropeway and 2.2 mi (3.5 km) from Hakone Open Air Museum.Rooms : Make yourself at home in one of the 24 air-conditioned rooms featuring refrigerators and flat-screen televisions. Complimentary wireless Internet access is available to keep you connected. Bathrooms with separate bathtubs and showers feature deep soaking bathtubs and complimentary toiletries. Conveniences include safes and minibars, and housekeeping is provided daily.Dining : A complimentary local cuisine breakfast is served daily from 8 AM to 9 AM.CheckIn Instructions : Extra-person charges may apply and vary depending on property policy. Government-issued photo identification and a credit card, debit card, or cash deposit are required at check-in for incidental charges. Special requests are subject to availability upon check-in and may incur additional charges. Special requests cannot be guaranteed.   Please note that cultural norms and guest policies may differ by country and by property. The policies listed are provided by the property.  Requests for dietary restrictions or food allergies cannot be accommodated. For more details, please contact the office using the information on the reservation confirmation received after booking. Disclaimer notification: Amenities are subject to availability and may be chargeable as per the hotel policy.\n",
      "\n",
      "Calificacion:0.669846\n",
      "\n",
      "Nombre del hotel: gora hanaogi sounkaku, Ciudad:Hakone, Direccion:1300 gora hakone machi, ashigarashimo-gunhakone 250-0408kanagawa prefecture, hakone, 250-0408, japan\n",
      "\n",
      "Pais: Japan, Continente:Asia, URI:s3://chunked-hotel-data/1370368-e63731c6188b11ef9eac16ffcf11486b.txt\n"
     ]
    }
   ],
   "source": [
    "input = '''Can you recommend hotels in Hakone Japan? Ideally I am looking for traditional japanese ryokans.'''\n",
    "\n",
    "elapsed_time, response = retrieve_and_generate(input, retriever, llm)\n",
    "display_response(response, elapsed_time)"
   ]
  },
  {
   "cell_type": "markdown",
   "metadata": {},
   "source": [
    "**Respuesta de ChatGpt**\n",
    "\n",
    "For traditional Japanese ryokans in Hakone, Japan, you might consider the following options:\n",
    "\n",
    "1. Gora Kadan: This luxurious ryokan offers traditional Japanese accommodations with modern amenities, including hot spring baths and gourmet kaiseki meals.\n",
    "\n",
    "2. Hakone Ginyu: Situated in the scenic Hakone area, Hakone Ginyu provides elegant ryokan-style rooms with private outdoor hot spring baths and panoramic views of the surrounding mountains.\n",
    "\n",
    "3. Yamano Hotel: Yamano Hotel offers authentic Japanese hospitality in a tranquil setting. Guests can enjoy traditional tatami mat rooms, communal hot spring baths, and delicious multi-course meals.\n",
    "\n",
    "4. Gora Hanaougi: Nestled in the heart of Hakone, Gora Hanaougi features spacious ryokan accommodations, soothing hot spring baths, and impeccable service.\n",
    "\n",
    "5. Hakone Yutowa: This ryokan combines traditional Japanese design with modern comforts, offering guests a relaxing retreat with hot spring baths, gourmet dining, and serene natural surroundings.\n",
    "\n",
    "These are just a few options to consider for experiencing traditional Japanese hospitality in Hakone. Be sure to check availability and make reservations in advance, especially during peak travel seasons."
   ]
  },
  {
   "cell_type": "markdown",
   "metadata": {},
   "source": [
    "**Análisis**\n",
    "\n",
    "Las respuestas obtenidas por nuestro modelo son correctas. Al leer la descripción de los hoteles podemos corroborar que se está recomendando al usuario un hotel tradicional japonés situado en la ciudad de Hakone, Japón. Al ser un ryokan, se espera que el hotel tenga amenidades como aguas termales, y esta característica si es mencionada en todos los hoteles recomendados por el sistema.\n"
   ]
  },
  {
   "cell_type": "markdown",
   "metadata": {},
   "source": [
    "**Obteniendo Respuestas de la Base Conocimiento y el Modelo Fundacional**"
   ]
  },
  {
   "cell_type": "code",
   "execution_count": 24,
   "metadata": {},
   "outputs": [
    {
     "name": "stdout",
     "output_type": "stream",
     "text": [
      "Respuesta despues de 1.2019 segundos:\n",
      "I don't know.\n",
      "\n",
      "Contexto:\n",
      "The hotel is located on the Avenue of Technology, north of Chihuahua City, in the industrial zone. It is situated 800 metres from the Chihuahua Industrial Complex, near the new campus of the University of Chihuahua and other places of interest, including the Ford Motor Company. The hotel is located 20 minutes from the airport.\n",
      "\n",
      "The hotel offers accommodation offering a pleasant stay to guests travelling for business or pleasure. Facilities on offer to guests include a snack bar, business centre and meeting room. Additional features include a hotel safe and currency exchange facilities. Guests can enjoy the convenience of Internet access. There are parking facilities for those arriving by car. Guests can also take advantage of the laundry service. A medical service is also available.\n",
      "\n",
      "All rooms come with a bathroom with a hairdryer. Rooms and bathrooms offer disabled access. Rooms also come equipped with a telephone, radio alarm clock, safe, TV and minibar. Standard in-room amenities include Internet access, a fridge and a microwave. Furthermore, an ironing set and heating are provided in all accommodation units as standard. Disclaimer notification: Amenities are subject to availability and may be chargeable as per the hotel policy.\n",
      "\n",
      "Calificacion:0.633849\n",
      "\n",
      "Nombre del hotel: el cason & suites, Ciudad:Chihuahua, Direccion:av.tecnologico colonia deportistas 11315, chihuahua, chihuahua, 31125, mexico\n",
      "\n",
      "Pais: Mexico, Continente:Americas, URI:s3://chunked-hotel-data/1185516-49dc3db618a011ef9eac16ffcf11486b.txt\n",
      "\n",
      "Contexto:\n",
      "Located in Tlalpujahua de Rayón, 18 km from Tepetongo Water Park, Quinta La Huerta provides accommodation with a fitness centre, free private parking, a garden and a shared lounge. This 4-star hotel offers a restaurant. The hotel features an indoor pool, a 24-hour front desk and free WiFi.\n",
      "\n",
      "At the hotel, every room is equipped with a wardrobe, a flat-screen TV, a private bathroom, bed linen and towels.\n",
      "\n",
      "The nearest airport is General Francisco J. Mujica International Airport, 107 km from Quinta La Huerta. Payment before arrival via bank transfer is required. The property will contact you after you book to provide instructions.\n",
      "Due to Coronavirus (COVID-19), this property is taking steps to help protect the safety of guests and staff. Certain services and amenities may be reduced or unavailable as a result.\n",
      "Food & beverage services at this property may be limited or unavailable due to Coronavirus (COVID-19).\n",
      "In response to Coronavirus (COVID-19), additional safety and sanitation measures are in effect at this property.\n",
      "Due to Coronavirus (COVID-19), this property has reduced reception and service operating hours.\n",
      "Spa and gym facilities at this property are unavailable due to Coronavirus (COVID-19).\n",
      "Due to Coronavirus (COVID-19), wearing a face mask is mandatory in all indoor common areas.\n",
      "A reservation that does not have a deposit prior to arrival, will have until 3 pm to check in or else the reservation will be canceled.\n",
      "\n",
      "Calificacion:0.632483\n",
      "\n",
      "Nombre del hotel: quinta la huerta, Ciudad:Tlalpujahua De Rayon, Direccion:dolores # 19 col. centro, colonia centrotlalpujahua, tlalpujahua de rayon, 61060, mexico\n",
      "\n",
      "Pais: Mexico, Continente:Americas, URI:s3://chunked-hotel-data/1634216-dd42a3ee188f11ef9eac16ffcf11486b.txt\n",
      "\n",
      "Contexto:\n",
      "With its strategic location, this hotel is an excellent option for the business traveller, since Ecatepec and Tlalnepantla are located near to the important corporate and industrial centres in the north of the city, such as Vallejo. Holidaymakers will find numerous attractions close to the hotel as well as restaurants, shopping centres, bars and many other entertainment options. The Planetarium and the Tenayuca pyramids are just a 5-minute drive from the hotel, Pachucha is 30 minutes by car and the Teotihucan archaeological site is around 45 minutes' drive. The Terminal del Norte bus station is a 10-minute drive, and Benito Juarez International Airport is approximately 18 km away.\n",
      "\n",
      "The family-friendly city hotel offers excellent services and facilities, 124 comfortable guest rooms, and a bar and restaurant. Guests are welcomed to the air-conditioned business hotel in a lobby with 24-hour reception and check-out services, a hotel safe, currency exchange facilities, a cloakroom and lift access to the upper floors. Further facilities include a games room, TV lounge, children's playground, conference facilities and wireless Internet access. Room and laundry services are offered for additional fees. Guests arriving by car may leave their vehicle in the car park or garage.\n",
      "\n",
      "Calificacion:0.599847\n",
      "\n",
      "Nombre del hotel: quality inn lindavista, Ciudad:Mexico City, Direccion:miguel bernard, col. la escalera, 670, ciudad de mexico, mexico city, 07320, mexico\n",
      "\n",
      "Pais: Mexico, Continente:Americas, URI:s3://chunked-hotel-data/1345535-d1fe82b4188511ef9eac16ffcf11486b.txt\n",
      "\n",
      "Contexto:\n",
      "HeadLine : Near St. John the Evangelist ChurchLocation : With a stay at Fiesta Americana Hacienda San Antonio El Puente Cuernavaca in Xochitepec, you ll be 5.3 mi (8.5 km) from WTC-Morelos Convention Center and 10.1 mi (16.3 km) from Robert Brady Museum.  This 4-star hotel is 10.3 mi (16.5 km) from Cuauhnahuac Regional Museum and 15 mi (24.1 km) from Jardines de México.Rooms : Make yourself at home in one of the 148 air-conditioned rooms featuring minibars and flat-screen televisions. Complimentary wireless Internet access keeps you connected, and satellite programming is available for your entertainment. Private bathrooms with showers feature complimentary toiletries and hair dryers. Conveniences include phones, as well as laptop-compatible safes and complimentary bottled water.Dining : Grab a bite to eat at the La Molienda, a restaurant where you can take in the garden view, or stay in and take advantage of room service (during limited hours). Quench your thirst with your favorite drink at the bar/lounge.CheckIn Instructions :   Extra-person charges may apply and vary depending on property policyGovernment-issued photo identification and a credit card may be required at check-in for incidental chargesSpecial requests are subject to availability upon check-in and may incur additional charges; special requests cannot be guaranteedThe name on the credit card used at check-in to pay for incidentals must be the primary name on the guestroom reservationThis property accepts credit cards, debit cards, and cashSafety features at this property include a fire extinguisher and a smoke detector  Special Instructions : Front desk staff will greet guests on arrival. Disclaimer notification: Amenities are subject to availability and may be chargeable as per the hotel policy.\n",
      "\n",
      "Calificacion:0.591921\n",
      "\n",
      "Nombre del hotel: fiesta americana hacienda san antonio el puente, Ciudad:Cuernavaca, Direccion:reforma 2 fraccionamiento real del puente, fraccionamiento real del puente62790 xochitepec, cuernavaca, 62790, mexico\n",
      "\n",
      "Pais: Mexico, Continente:Americas, URI:s3://chunked-hotel-data/1325670-4586fbb0188311ef9eac16ffcf11486b.txt\n",
      "\n",
      "Contexto:\n",
      "HotelDescription#This hotel lies just minutes from the most important tourist attractions and the historical centre of Guanajuato as well as close to the Alhóndiga de Granaditas museum, La Pipila monument and Dolores Hidalgo road. It is just 30 km to Leon airport.\n",
      "\n",
      "This hotel complex affords a typical colonial style and underwent renovations in the year 2005. The hotel comprises a total of 6 floors with 116 rooms and suites, as well as a garden and terrace. Amongst the facilities count a 24-hour reception desk, a hire safe, a currency exchange facility, a cloakroom and a lift. Further facilities at this hotel include El Pozo bar, La Capilla restaurant, a nightclub and a café. Also on offer at this hotel are a car park and garage for those arriving by car as well as meeting and banqueting facilities and wireless Internet access.\n",
      "\n",
      "The rooms and suites afford a colonial style and come with an en suite bathroom, cable TV, a direct dial telephone, two double beds and a hire safe.\n",
      "\n",
      "In the outdoor complex is a heated swimming pool with slides and a separate children's pool, a bullfighting arena and wonderful gardens where guests may enjoy taking a relaxing stroll.\n",
      "\n",
      "Guests may select their breakfast from an ample buffet. Lunch and the evening meal may be taken à la carte or chosen from a menu. Full board stays may be booked at this hotel. Disclaimer notification: Amenities are subject to availability and may be chargeable as per the hotel policy.\n",
      "\n",
      "Calificacion:0.588281\n",
      "\n",
      "Nombre del hotel: parador san javier, Ciudad:Guanajuato, Direccion:plaza aldama col.san javier 92 36020 guanajuato, plaza aldama36020 guanajuato, guanajuato, 36020, mexico\n",
      "\n",
      "Pais: Mexico, Continente:Americas, URI:s3://chunked-hotel-data/1133046-342697a4189c11ef9eac16ffcf11486b.txt\n"
     ]
    }
   ],
   "source": [
    "input = '''Can you recommend hotels in Chihuauha that are located near la Juventud highway?'''\n",
    "\n",
    "elapsed_time, response = retrieve_and_generate(input, retriever, llm)\n",
    "display_response(response, elapsed_time)"
   ]
  },
  {
   "cell_type": "markdown",
   "metadata": {},
   "source": [
    "**Respuesta de ChatGpt**\n",
    "\n",
    "I don't have direct access to real-time data or external sources like hotel databases. However, I can suggest a general approach to finding hotels near Periférico de la Juventud in Chihuahua City:\n",
    "\n",
    "Online Hotel Booking Platforms: Websites like Booking.com, Expedia, or TripAdvisor allow you to search for hotels based on specific locations. You can enter \"Periférico de la Juventud\" as the location and see the hotels available nearby.\n",
    "\n",
    "Google Maps: You can use Google Maps to search for hotels near Periférico de la Juventud. Simply type \"hotels near Periférico de la Juventud, Chihuahua City\" into the search bar, and Google Maps will display a list of hotels in that area along with their ratings and reviews.\n",
    "\n",
    "Local Directories: Check local business directories or tourism websites for information on hotels near Periférico de la Juventud. They may have listings and contact details for hotels in the area.\n",
    "\n",
    "Contact Hotels Directly: Once you have a list of potential hotels, you can contact them directly to inquire about their location relative to Periférico de la Juventud and any other details you need to know.\n",
    "\n",
    "By using these methods, you should be able to find hotels in Chihuahua City that are located near Periférico de la Juventud."
   ]
  },
  {
   "cell_type": "markdown",
   "metadata": {},
   "source": [
    "**Análisis**\n",
    "\n",
    "Nuestro sistema falla al no encontrar una respuesta específica para la pregunta y también al no manejar la falta de información de manera correnda. Esto por que se anima a dar recomendación que según él esta relacionada en cercanía al Periferico de la Juventud en Chihuahua, pero termina haciendo una recomendación de un hotel en Puebla. "
   ]
  },
  {
   "cell_type": "markdown",
   "metadata": {
    "id": "b68fb8b7-959c-4eab-82d8-ac622c8071ff"
   },
   "source": [
    "## **Conclusiones**\n"
   ]
  },
  {
   "cell_type": "markdown",
   "metadata": {
    "id": "_6oLU1ff3twF"
   },
   "source": [
    "El objetivo de la base de conocimiento en *Retrieval Augmented Generation*, o *RAG*, es proveer una fuente de información para proveer contexto adicional al modelo generativo, o *LLM* para que pueda generar una mejor respuesta. La calidad de la respuesta dependerá del modelo LLM usado y de la calidad del contenido en la base de conocimiento (Monigatti, 2023).\n",
    "\n",
    "Por un lado, y basados en los resultados obtenidos, es claro que la solucion basada en una base de conocimiento y un modelo fundacional de AWS Bedrock produce resultados prometedores, pero aún hay ajustes por hacer. Dados los hallazgos hechos durante el análisis de las respuestas un ajuste del tamaño del pedazo o *chunk size* es requerido. También es necesario hacer cambios a los textos ya que cierta información, como la dirección, no figuró en las respuestas, lo que implica más ingeniería de características para generar más metadatos.\n",
    "Por otro lado, es lamentable no tener mecanismos automatizados para evaluar el desempeño del modelo. Para solventar esta limitación se tendrán que desarrollar alternativas que permitan calcular algunas métricas de desempeño, probablemente usando alguna técnica o librería como RAGAS (Monigatti, 2023) o una forma de sistema RAG adversario para comparar (Grech, 2024).\n"
   ]
  },
  {
   "cell_type": "markdown",
   "metadata": {
    "id": "c8c2c4ae-24a2-40a1-a4c1-44792313fbff"
   },
   "source": [
    "## **Referencias**\n",
    "\n",
    "* Monigatti, L. (2023, 6 de diciembre). A Guide on 12 Tuning Strategies for Production-Ready RAG Applications. Medium. https://towardsdatascience.com/a-guide-on-12-tuning-strategies-for-production-ready-rag-applications-7ca646833439\n",
    "\n",
    "* AWS. (s.f.). Set up a data source for your knowledge base - Amazon Bedrock. docs.aws.amazon.com. Recuperado 7 de mayo, 2024, de https://docs.aws.amazon.com/bedrock/latest/userguide/knowledge-base-ds.html\n",
    "\n",
    "* AWS. (s.f.). Getting started with model evaluations - Amazon Bedrock. docs.aws.amazon.com. Recuperado 15 de mayo, 2024, de https://docs.aws.amazon.com/bedrock/latest/userguide/model-evaluation-type.html\n",
    "\n",
    "* AWS. (2023, 28 de noviembre). Knowledge Bases now delivers fully managed RAG experience in Amazon Bedrock - Amazon Web Services.  Amazon Web Services. https://aws.amazon.com/es/blogs/aws/knowledge-bases-now-delivers-fully-managed-rag-experience-in-amazon-bedrock/\n",
    "\n",
    "* Monigatti, L. (2023, 15 de deciembre). Evaluating RAG Applications with RAGAs. Medium. https://towardsdatascience.com/evaluating-rag-applications-with-ragas-81d67b0ee31a\n",
    "\n",
    "* Grech, C. (2024, 16 de febrero). Evaluating RAG Performance: A Comprehensive Guide. Medium. https://christiangrech.medium.com/evaluating-rag-performance-a-comprehensive-guide-b1d8f903b7ad\n",
    "\n",
    "* AWS (s.f.). Amazon Titan Text models - Amazon Bedrock. docs.aws.amazon.com. Recuperado 20 de mayo 26, 2024, de https://docs.aws.amazon.com/bedrock/latest/userguide/model-parameters-titan-text.html\n",
    "\n",
    "* LangChain. (s.f.). Bedrock (Knowledge Bases). python.langchain.com. Recuperado 20 de mayo 26, 2024, de https://python.langchain.com/v0.1/docs/integrations/retrievers/bedrock/\n",
    "\n",
    "* LangChain. (s.f.). ChatBedrock. python.langchain.com. Recuperado 20 de mayo 26, 2024, de https://python.langchain.com/v0.1/docs/integrations/chat/bedrock/\n",
    "\n",
    "* LangChain. (s.f.). langchain.chains.retrieval_qa.base.RetrievalQA LangChain 0.1.12. api.python.langchain.com. https://api.python.langchain.com/en/latest/chains/langchain.chains.retrieval_qa.base.RetrievalQA.html\n",
    "\n"
   ]
  },
  {
   "cell_type": "code",
   "execution_count": null,
   "metadata": {},
   "outputs": [],
   "source": []
  }
 ],
 "metadata": {
  "colab": {
   "authorship_tag": "ABX9TyN7RsC+bWpa5Yqc1sfHsoAr",
   "include_colab_link": true,
   "provenance": []
  },
  "kernelspec": {
   "display_name": "conda_python3",
   "language": "python",
   "name": "conda_python3"
  },
  "language_info": {
   "codemirror_mode": {
    "name": "ipython",
    "version": 3
   },
   "file_extension": ".py",
   "mimetype": "text/x-python",
   "name": "python",
   "nbconvert_exporter": "python",
   "pygments_lexer": "ipython3",
   "version": "3.10.14"
  }
 },
 "nbformat": 4,
 "nbformat_minor": 4
}
