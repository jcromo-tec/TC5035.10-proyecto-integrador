{
 "cells": [
  {
   "cell_type": "markdown",
   "metadata": {
    "id": "HMQEY1ttU_w-"
   },
   "source": [
    "![logo-tec-de-monterrey-.png](data:image/png;base64,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)"
   ]
  },
  {
   "cell_type": "markdown",
   "metadata": {
    "id": "b3d0b781-0da5-4c6a-a76a-c6c0837bae05"
   },
   "source": [
    "## Proyecto Integrador\n",
    "## Smart Travel Assistant: Optimizando la Experiencia de Viaje con IA\n",
    "## Avance 5"
   ]
  },
  {
   "cell_type": "markdown",
   "metadata": {
    "id": "18dd3d13-d70f-4c28-894b-159fb9f0f7f6"
   },
   "source": [
    "### Equipo 37\n",
    "##### A00759664 - Joel Orlando Hernández Ramos\n",
    "##### A01793486 - Juan Carlos Alvarado Carricarte\n",
    "##### A00260430 - Juan Carlos Romo Cárdenas\n"
   ]
  },
  {
   "cell_type": "markdown",
   "metadata": {
    "id": "wiPf8lTteLm1"
   },
   "source": [
    "## **Descripción del Proyecto**"
   ]
  },
  {
   "cell_type": "markdown",
   "metadata": {
    "id": "XqZeUJCEefQ3"
   },
   "source": [
    "Este proyecto se propone desarrollar un asistente de inteligencia artificial integrado en una plataforma de traveltech, que facilita la elección personalizada de hoteles y destinos para los usuarios. Utilizando la función \"knowledge base\" de Amazon Bedrock, el sistema integrará una extensa base de datos con información detallada sobre más de 2 millones de hoteles. Para este efecto  \n",
    "\n",
    "El objetivo principal de este proyecto es transformar la experiencia de planificación de viajes, haciendo que sea más intuitiva, personalizada y respaldada por datos. Las metas específicas incluyen mejorar la satisfacción del cliente mediante recomendaciones precisas y personalizadas, reducir el tiempo necesario para planificar un viaje y aumentar la eficiencia del proceso de selección de destinos y hoteles.\n",
    "\n",
    "El asistente empleará modelos avanzados de sistemas de recomendación, potenciados por un modelo de lenguaje de aprendizaje profundo (LLM), para sugerir itinerarios personalizados y ofrecer asistencia general en la planificación de viajes. Las recomendaciones incluirán referencias detalladas a los hoteles disponibles en nuestra base de datos, asegurando que los usuarios reciban opciones que no solo se ajustan a sus preferencias personales, sino que también maximizan la calidad y la relevancia de la información proporcionada."
   ]
  },
  {
   "cell_type": "markdown",
   "metadata": {},
   "source": [
    "## **Evaluando la Base de Conocimiento y el Modelo Fundacional con RAGAs y el Modelo a la Medida**"
   ]
  },
  {
   "cell_type": "markdown",
   "metadata": {},
   "source": [
    "<img src=\"./Proyecto Integrador - RAG con Bedrock-Evaluation - Smart Travel Assistant KB v2.00 LangChain.drawio.png\" alt=\"RAG Bedrock KB V1.00\" />"
   ]
  },
  {
   "cell_type": "markdown",
   "metadata": {},
   "source": [
    "A continuación se describe el proceso para evaluar las preguntas de referencia usando RAGAs y el modelo a la medida usado para evaluar preguntas y respuestas sintéticas:\n",
    "1. Pasar cada una de las preguntas por el modelo generativo con la nueva base de conocimiento KB V2.00\n",
    "2. Pasar cada una de las preguntas, las respuestas y contextos generados y las respuestas de referencia a RAGAs para su evaluación"
   ]
  },
  {
   "cell_type": "markdown",
   "metadata": {},
   "source": [
    "## **Probando la Base de Conocimiento y el Modelo Fundacional**"
   ]
  },
  {
   "cell_type": "markdown",
   "metadata": {
    "id": "b8af6127-cc07-4a20-8fea-57ed0d56a355"
   },
   "source": [
    "### **Preparando el Ambiente de Ejecución**\n",
    "\n",
    "Es necesario importar las librerías necesarias para iniciar una sesión de AWS y para registrar una bitácora de ejecución."
   ]
  },
  {
   "cell_type": "code",
   "execution_count": 1,
   "metadata": {},
   "outputs": [
    {
     "name": "stdout",
     "output_type": "stream",
     "text": [
      "Requirement already satisfied: openpyxl in /Users/jcromo/Miniconda3/envs/proyecto/lib/python3.10/site-packages (3.1.3)\n",
      "Requirement already satisfied: et-xmlfile in /Users/jcromo/Miniconda3/envs/proyecto/lib/python3.10/site-packages (from openpyxl) (1.1.0)\n"
     ]
    }
   ],
   "source": [
    "!pip install openpyxl"
   ]
  },
  {
   "cell_type": "code",
   "execution_count": 2,
   "metadata": {},
   "outputs": [
    {
     "name": "stdout",
     "output_type": "stream",
     "text": [
      "Requirement already satisfied: python-dotenv in /Users/jcromo/Miniconda3/envs/proyecto/lib/python3.10/site-packages (1.0.1)\n"
     ]
    }
   ],
   "source": [
    "!pip install python-dotenv"
   ]
  },
  {
   "cell_type": "code",
   "execution_count": 3,
   "metadata": {},
   "outputs": [
    {
     "name": "stdout",
     "output_type": "stream",
     "text": [
      "Requirement already satisfied: langchain in /Users/jcromo/Miniconda3/envs/proyecto/lib/python3.10/site-packages (0.2.1)\n",
      "Requirement already satisfied: PyYAML>=5.3 in /Users/jcromo/Miniconda3/envs/proyecto/lib/python3.10/site-packages (from langchain) (6.0.1)\n",
      "Requirement already satisfied: SQLAlchemy<3,>=1.4 in /Users/jcromo/Miniconda3/envs/proyecto/lib/python3.10/site-packages (from langchain) (2.0.30)\n",
      "Requirement already satisfied: aiohttp<4.0.0,>=3.8.3 in /Users/jcromo/Miniconda3/envs/proyecto/lib/python3.10/site-packages (from langchain) (3.9.5)\n",
      "Requirement already satisfied: async-timeout<5.0.0,>=4.0.0 in /Users/jcromo/Miniconda3/envs/proyecto/lib/python3.10/site-packages (from langchain) (4.0.3)\n",
      "Requirement already satisfied: langchain-core<0.3.0,>=0.2.0 in /Users/jcromo/Miniconda3/envs/proyecto/lib/python3.10/site-packages (from langchain) (0.2.3)\n",
      "Requirement already satisfied: langchain-text-splitters<0.3.0,>=0.2.0 in /Users/jcromo/Miniconda3/envs/proyecto/lib/python3.10/site-packages (from langchain) (0.2.0)\n",
      "Requirement already satisfied: langsmith<0.2.0,>=0.1.17 in /Users/jcromo/Miniconda3/envs/proyecto/lib/python3.10/site-packages (from langchain) (0.1.67)\n",
      "Requirement already satisfied: numpy<2,>=1 in /Users/jcromo/Miniconda3/envs/proyecto/lib/python3.10/site-packages (from langchain) (1.24.4)\n",
      "Requirement already satisfied: pydantic<3,>=1 in /Users/jcromo/Miniconda3/envs/proyecto/lib/python3.10/site-packages (from langchain) (2.7.2)\n",
      "Requirement already satisfied: requests<3,>=2 in /Users/jcromo/Miniconda3/envs/proyecto/lib/python3.10/site-packages (from langchain) (2.31.0)\n",
      "Requirement already satisfied: tenacity<9.0.0,>=8.1.0 in /Users/jcromo/Miniconda3/envs/proyecto/lib/python3.10/site-packages (from langchain) (8.3.0)\n",
      "Requirement already satisfied: aiosignal>=1.1.2 in /Users/jcromo/Miniconda3/envs/proyecto/lib/python3.10/site-packages (from aiohttp<4.0.0,>=3.8.3->langchain) (1.3.1)\n",
      "Requirement already satisfied: attrs>=17.3.0 in /Users/jcromo/Miniconda3/envs/proyecto/lib/python3.10/site-packages (from aiohttp<4.0.0,>=3.8.3->langchain) (23.1.0)\n",
      "Requirement already satisfied: frozenlist>=1.1.1 in /Users/jcromo/Miniconda3/envs/proyecto/lib/python3.10/site-packages (from aiohttp<4.0.0,>=3.8.3->langchain) (1.4.1)\n",
      "Requirement already satisfied: multidict<7.0,>=4.5 in /Users/jcromo/Miniconda3/envs/proyecto/lib/python3.10/site-packages (from aiohttp<4.0.0,>=3.8.3->langchain) (6.0.5)\n",
      "Requirement already satisfied: yarl<2.0,>=1.0 in /Users/jcromo/Miniconda3/envs/proyecto/lib/python3.10/site-packages (from aiohttp<4.0.0,>=3.8.3->langchain) (1.9.4)\n",
      "Requirement already satisfied: jsonpatch<2.0,>=1.33 in /Users/jcromo/Miniconda3/envs/proyecto/lib/python3.10/site-packages (from langchain-core<0.3.0,>=0.2.0->langchain) (1.33)\n",
      "Requirement already satisfied: packaging<24.0,>=23.2 in /Users/jcromo/Miniconda3/envs/proyecto/lib/python3.10/site-packages (from langchain-core<0.3.0,>=0.2.0->langchain) (23.2)\n",
      "Requirement already satisfied: orjson<4.0.0,>=3.9.14 in /Users/jcromo/Miniconda3/envs/proyecto/lib/python3.10/site-packages (from langsmith<0.2.0,>=0.1.17->langchain) (3.10.3)\n",
      "Requirement already satisfied: annotated-types>=0.4.0 in /Users/jcromo/Miniconda3/envs/proyecto/lib/python3.10/site-packages (from pydantic<3,>=1->langchain) (0.7.0)\n",
      "Requirement already satisfied: pydantic-core==2.18.3 in /Users/jcromo/Miniconda3/envs/proyecto/lib/python3.10/site-packages (from pydantic<3,>=1->langchain) (2.18.3)\n",
      "Requirement already satisfied: typing-extensions>=4.6.1 in /Users/jcromo/Miniconda3/envs/proyecto/lib/python3.10/site-packages (from pydantic<3,>=1->langchain) (4.11.0)\n",
      "Requirement already satisfied: charset-normalizer<4,>=2 in /Users/jcromo/Miniconda3/envs/proyecto/lib/python3.10/site-packages (from requests<3,>=2->langchain) (2.0.4)\n",
      "Requirement already satisfied: idna<4,>=2.5 in /Users/jcromo/Miniconda3/envs/proyecto/lib/python3.10/site-packages (from requests<3,>=2->langchain) (3.7)\n",
      "Requirement already satisfied: urllib3<3,>=1.21.1 in /Users/jcromo/Miniconda3/envs/proyecto/lib/python3.10/site-packages (from requests<3,>=2->langchain) (2.0.6)\n",
      "Requirement already satisfied: certifi>=2017.4.17 in /Users/jcromo/Miniconda3/envs/proyecto/lib/python3.10/site-packages (from requests<3,>=2->langchain) (2023.7.22)\n",
      "Requirement already satisfied: jsonpointer>=1.9 in /Users/jcromo/Miniconda3/envs/proyecto/lib/python3.10/site-packages (from jsonpatch<2.0,>=1.33->langchain-core<0.3.0,>=0.2.0->langchain) (2.4)\n"
     ]
    }
   ],
   "source": [
    "!pip install langchain"
   ]
  },
  {
   "cell_type": "code",
   "execution_count": 4,
   "metadata": {},
   "outputs": [
    {
     "name": "stdout",
     "output_type": "stream",
     "text": [
      "Requirement already satisfied: langchain-community in /Users/jcromo/Miniconda3/envs/proyecto/lib/python3.10/site-packages (0.2.1)\n",
      "Requirement already satisfied: PyYAML>=5.3 in /Users/jcromo/Miniconda3/envs/proyecto/lib/python3.10/site-packages (from langchain-community) (6.0.1)\n",
      "Requirement already satisfied: SQLAlchemy<3,>=1.4 in /Users/jcromo/Miniconda3/envs/proyecto/lib/python3.10/site-packages (from langchain-community) (2.0.30)\n",
      "Requirement already satisfied: aiohttp<4.0.0,>=3.8.3 in /Users/jcromo/Miniconda3/envs/proyecto/lib/python3.10/site-packages (from langchain-community) (3.9.5)\n",
      "Requirement already satisfied: dataclasses-json<0.7,>=0.5.7 in /Users/jcromo/Miniconda3/envs/proyecto/lib/python3.10/site-packages (from langchain-community) (0.6.6)\n",
      "Requirement already satisfied: langchain<0.3.0,>=0.2.0 in /Users/jcromo/Miniconda3/envs/proyecto/lib/python3.10/site-packages (from langchain-community) (0.2.1)\n",
      "Requirement already satisfied: langchain-core<0.3.0,>=0.2.0 in /Users/jcromo/Miniconda3/envs/proyecto/lib/python3.10/site-packages (from langchain-community) (0.2.3)\n",
      "Requirement already satisfied: langsmith<0.2.0,>=0.1.0 in /Users/jcromo/Miniconda3/envs/proyecto/lib/python3.10/site-packages (from langchain-community) (0.1.67)\n",
      "Requirement already satisfied: numpy<2,>=1 in /Users/jcromo/Miniconda3/envs/proyecto/lib/python3.10/site-packages (from langchain-community) (1.24.4)\n",
      "Requirement already satisfied: requests<3,>=2 in /Users/jcromo/Miniconda3/envs/proyecto/lib/python3.10/site-packages (from langchain-community) (2.31.0)\n",
      "Requirement already satisfied: tenacity<9.0.0,>=8.1.0 in /Users/jcromo/Miniconda3/envs/proyecto/lib/python3.10/site-packages (from langchain-community) (8.3.0)\n",
      "Requirement already satisfied: aiosignal>=1.1.2 in /Users/jcromo/Miniconda3/envs/proyecto/lib/python3.10/site-packages (from aiohttp<4.0.0,>=3.8.3->langchain-community) (1.3.1)\n",
      "Requirement already satisfied: attrs>=17.3.0 in /Users/jcromo/Miniconda3/envs/proyecto/lib/python3.10/site-packages (from aiohttp<4.0.0,>=3.8.3->langchain-community) (23.1.0)\n",
      "Requirement already satisfied: frozenlist>=1.1.1 in /Users/jcromo/Miniconda3/envs/proyecto/lib/python3.10/site-packages (from aiohttp<4.0.0,>=3.8.3->langchain-community) (1.4.1)\n",
      "Requirement already satisfied: multidict<7.0,>=4.5 in /Users/jcromo/Miniconda3/envs/proyecto/lib/python3.10/site-packages (from aiohttp<4.0.0,>=3.8.3->langchain-community) (6.0.5)\n",
      "Requirement already satisfied: yarl<2.0,>=1.0 in /Users/jcromo/Miniconda3/envs/proyecto/lib/python3.10/site-packages (from aiohttp<4.0.0,>=3.8.3->langchain-community) (1.9.4)\n",
      "Requirement already satisfied: async-timeout<5.0,>=4.0 in /Users/jcromo/Miniconda3/envs/proyecto/lib/python3.10/site-packages (from aiohttp<4.0.0,>=3.8.3->langchain-community) (4.0.3)\n",
      "Requirement already satisfied: marshmallow<4.0.0,>=3.18.0 in /Users/jcromo/Miniconda3/envs/proyecto/lib/python3.10/site-packages (from dataclasses-json<0.7,>=0.5.7->langchain-community) (3.21.2)\n",
      "Requirement already satisfied: typing-inspect<1,>=0.4.0 in /Users/jcromo/Miniconda3/envs/proyecto/lib/python3.10/site-packages (from dataclasses-json<0.7,>=0.5.7->langchain-community) (0.9.0)\n",
      "Requirement already satisfied: langchain-text-splitters<0.3.0,>=0.2.0 in /Users/jcromo/Miniconda3/envs/proyecto/lib/python3.10/site-packages (from langchain<0.3.0,>=0.2.0->langchain-community) (0.2.0)\n",
      "Requirement already satisfied: pydantic<3,>=1 in /Users/jcromo/Miniconda3/envs/proyecto/lib/python3.10/site-packages (from langchain<0.3.0,>=0.2.0->langchain-community) (2.7.2)\n",
      "Requirement already satisfied: jsonpatch<2.0,>=1.33 in /Users/jcromo/Miniconda3/envs/proyecto/lib/python3.10/site-packages (from langchain-core<0.3.0,>=0.2.0->langchain-community) (1.33)\n",
      "Requirement already satisfied: packaging<24.0,>=23.2 in /Users/jcromo/Miniconda3/envs/proyecto/lib/python3.10/site-packages (from langchain-core<0.3.0,>=0.2.0->langchain-community) (23.2)\n",
      "Requirement already satisfied: orjson<4.0.0,>=3.9.14 in /Users/jcromo/Miniconda3/envs/proyecto/lib/python3.10/site-packages (from langsmith<0.2.0,>=0.1.0->langchain-community) (3.10.3)\n",
      "Requirement already satisfied: charset-normalizer<4,>=2 in /Users/jcromo/Miniconda3/envs/proyecto/lib/python3.10/site-packages (from requests<3,>=2->langchain-community) (2.0.4)\n",
      "Requirement already satisfied: idna<4,>=2.5 in /Users/jcromo/Miniconda3/envs/proyecto/lib/python3.10/site-packages (from requests<3,>=2->langchain-community) (3.7)\n",
      "Requirement already satisfied: urllib3<3,>=1.21.1 in /Users/jcromo/Miniconda3/envs/proyecto/lib/python3.10/site-packages (from requests<3,>=2->langchain-community) (2.0.6)\n",
      "Requirement already satisfied: certifi>=2017.4.17 in /Users/jcromo/Miniconda3/envs/proyecto/lib/python3.10/site-packages (from requests<3,>=2->langchain-community) (2023.7.22)\n",
      "Requirement already satisfied: typing-extensions>=4.6.0 in /Users/jcromo/Miniconda3/envs/proyecto/lib/python3.10/site-packages (from SQLAlchemy<3,>=1.4->langchain-community) (4.11.0)\n",
      "Requirement already satisfied: jsonpointer>=1.9 in /Users/jcromo/Miniconda3/envs/proyecto/lib/python3.10/site-packages (from jsonpatch<2.0,>=1.33->langchain-core<0.3.0,>=0.2.0->langchain-community) (2.4)\n",
      "Requirement already satisfied: annotated-types>=0.4.0 in /Users/jcromo/Miniconda3/envs/proyecto/lib/python3.10/site-packages (from pydantic<3,>=1->langchain<0.3.0,>=0.2.0->langchain-community) (0.7.0)\n",
      "Requirement already satisfied: pydantic-core==2.18.3 in /Users/jcromo/Miniconda3/envs/proyecto/lib/python3.10/site-packages (from pydantic<3,>=1->langchain<0.3.0,>=0.2.0->langchain-community) (2.18.3)\n",
      "Requirement already satisfied: mypy-extensions>=0.3.0 in /Users/jcromo/Miniconda3/envs/proyecto/lib/python3.10/site-packages (from typing-inspect<1,>=0.4.0->dataclasses-json<0.7,>=0.5.7->langchain-community) (1.0.0)\n"
     ]
    }
   ],
   "source": [
    "!pip install langchain-community"
   ]
  },
  {
   "cell_type": "code",
   "execution_count": 5,
   "metadata": {},
   "outputs": [
    {
     "name": "stdout",
     "output_type": "stream",
     "text": [
      "Requirement already satisfied: langchain-text-splitters in /Users/jcromo/Miniconda3/envs/proyecto/lib/python3.10/site-packages (0.2.0)\n",
      "Requirement already satisfied: langchain-core<0.3.0,>=0.2.0 in /Users/jcromo/Miniconda3/envs/proyecto/lib/python3.10/site-packages (from langchain-text-splitters) (0.2.3)\n",
      "Requirement already satisfied: PyYAML>=5.3 in /Users/jcromo/Miniconda3/envs/proyecto/lib/python3.10/site-packages (from langchain-core<0.3.0,>=0.2.0->langchain-text-splitters) (6.0.1)\n",
      "Requirement already satisfied: jsonpatch<2.0,>=1.33 in /Users/jcromo/Miniconda3/envs/proyecto/lib/python3.10/site-packages (from langchain-core<0.3.0,>=0.2.0->langchain-text-splitters) (1.33)\n",
      "Requirement already satisfied: langsmith<0.2.0,>=0.1.65 in /Users/jcromo/Miniconda3/envs/proyecto/lib/python3.10/site-packages (from langchain-core<0.3.0,>=0.2.0->langchain-text-splitters) (0.1.67)\n",
      "Requirement already satisfied: packaging<24.0,>=23.2 in /Users/jcromo/Miniconda3/envs/proyecto/lib/python3.10/site-packages (from langchain-core<0.3.0,>=0.2.0->langchain-text-splitters) (23.2)\n",
      "Requirement already satisfied: pydantic<3,>=1 in /Users/jcromo/Miniconda3/envs/proyecto/lib/python3.10/site-packages (from langchain-core<0.3.0,>=0.2.0->langchain-text-splitters) (2.7.2)\n",
      "Requirement already satisfied: tenacity<9.0.0,>=8.1.0 in /Users/jcromo/Miniconda3/envs/proyecto/lib/python3.10/site-packages (from langchain-core<0.3.0,>=0.2.0->langchain-text-splitters) (8.3.0)\n",
      "Requirement already satisfied: jsonpointer>=1.9 in /Users/jcromo/Miniconda3/envs/proyecto/lib/python3.10/site-packages (from jsonpatch<2.0,>=1.33->langchain-core<0.3.0,>=0.2.0->langchain-text-splitters) (2.4)\n",
      "Requirement already satisfied: orjson<4.0.0,>=3.9.14 in /Users/jcromo/Miniconda3/envs/proyecto/lib/python3.10/site-packages (from langsmith<0.2.0,>=0.1.65->langchain-core<0.3.0,>=0.2.0->langchain-text-splitters) (3.10.3)\n",
      "Requirement already satisfied: requests<3,>=2 in /Users/jcromo/Miniconda3/envs/proyecto/lib/python3.10/site-packages (from langsmith<0.2.0,>=0.1.65->langchain-core<0.3.0,>=0.2.0->langchain-text-splitters) (2.31.0)\n",
      "Requirement already satisfied: annotated-types>=0.4.0 in /Users/jcromo/Miniconda3/envs/proyecto/lib/python3.10/site-packages (from pydantic<3,>=1->langchain-core<0.3.0,>=0.2.0->langchain-text-splitters) (0.7.0)\n",
      "Requirement already satisfied: pydantic-core==2.18.3 in /Users/jcromo/Miniconda3/envs/proyecto/lib/python3.10/site-packages (from pydantic<3,>=1->langchain-core<0.3.0,>=0.2.0->langchain-text-splitters) (2.18.3)\n",
      "Requirement already satisfied: typing-extensions>=4.6.1 in /Users/jcromo/Miniconda3/envs/proyecto/lib/python3.10/site-packages (from pydantic<3,>=1->langchain-core<0.3.0,>=0.2.0->langchain-text-splitters) (4.11.0)\n",
      "Requirement already satisfied: charset-normalizer<4,>=2 in /Users/jcromo/Miniconda3/envs/proyecto/lib/python3.10/site-packages (from requests<3,>=2->langsmith<0.2.0,>=0.1.65->langchain-core<0.3.0,>=0.2.0->langchain-text-splitters) (2.0.4)\n",
      "Requirement already satisfied: idna<4,>=2.5 in /Users/jcromo/Miniconda3/envs/proyecto/lib/python3.10/site-packages (from requests<3,>=2->langsmith<0.2.0,>=0.1.65->langchain-core<0.3.0,>=0.2.0->langchain-text-splitters) (3.7)\n",
      "Requirement already satisfied: urllib3<3,>=1.21.1 in /Users/jcromo/Miniconda3/envs/proyecto/lib/python3.10/site-packages (from requests<3,>=2->langsmith<0.2.0,>=0.1.65->langchain-core<0.3.0,>=0.2.0->langchain-text-splitters) (2.0.6)\n",
      "Requirement already satisfied: certifi>=2017.4.17 in /Users/jcromo/Miniconda3/envs/proyecto/lib/python3.10/site-packages (from requests<3,>=2->langsmith<0.2.0,>=0.1.65->langchain-core<0.3.0,>=0.2.0->langchain-text-splitters) (2023.7.22)\n"
     ]
    }
   ],
   "source": [
    "!pip install langchain-text-splitters"
   ]
  },
  {
   "cell_type": "code",
   "execution_count": 6,
   "metadata": {
    "scrolled": true
   },
   "outputs": [
    {
     "name": "stdout",
     "output_type": "stream",
     "text": [
      "Requirement already satisfied: langchain-aws in /Users/jcromo/Miniconda3/envs/proyecto/lib/python3.10/site-packages (0.1.6)\n",
      "Requirement already satisfied: boto3<1.35.0,>=1.34.51 in /Users/jcromo/Miniconda3/envs/proyecto/lib/python3.10/site-packages (from langchain-aws) (1.34.117)\n",
      "Requirement already satisfied: langchain-core<0.3,>=0.1.45 in /Users/jcromo/Miniconda3/envs/proyecto/lib/python3.10/site-packages (from langchain-aws) (0.2.3)\n",
      "Requirement already satisfied: numpy<2,>=1 in /Users/jcromo/Miniconda3/envs/proyecto/lib/python3.10/site-packages (from langchain-aws) (1.24.4)\n",
      "Requirement already satisfied: botocore<1.35.0,>=1.34.117 in /Users/jcromo/Miniconda3/envs/proyecto/lib/python3.10/site-packages (from boto3<1.35.0,>=1.34.51->langchain-aws) (1.34.117)\n",
      "Requirement already satisfied: jmespath<2.0.0,>=0.7.1 in /Users/jcromo/Miniconda3/envs/proyecto/lib/python3.10/site-packages (from boto3<1.35.0,>=1.34.51->langchain-aws) (1.0.1)\n",
      "Requirement already satisfied: s3transfer<0.11.0,>=0.10.0 in /Users/jcromo/Miniconda3/envs/proyecto/lib/python3.10/site-packages (from boto3<1.35.0,>=1.34.51->langchain-aws) (0.10.1)\n",
      "Requirement already satisfied: PyYAML>=5.3 in /Users/jcromo/Miniconda3/envs/proyecto/lib/python3.10/site-packages (from langchain-core<0.3,>=0.1.45->langchain-aws) (6.0.1)\n",
      "Requirement already satisfied: jsonpatch<2.0,>=1.33 in /Users/jcromo/Miniconda3/envs/proyecto/lib/python3.10/site-packages (from langchain-core<0.3,>=0.1.45->langchain-aws) (1.33)\n",
      "Requirement already satisfied: langsmith<0.2.0,>=0.1.65 in /Users/jcromo/Miniconda3/envs/proyecto/lib/python3.10/site-packages (from langchain-core<0.3,>=0.1.45->langchain-aws) (0.1.67)\n",
      "Requirement already satisfied: packaging<24.0,>=23.2 in /Users/jcromo/Miniconda3/envs/proyecto/lib/python3.10/site-packages (from langchain-core<0.3,>=0.1.45->langchain-aws) (23.2)\n",
      "Requirement already satisfied: pydantic<3,>=1 in /Users/jcromo/Miniconda3/envs/proyecto/lib/python3.10/site-packages (from langchain-core<0.3,>=0.1.45->langchain-aws) (2.7.2)\n",
      "Requirement already satisfied: tenacity<9.0.0,>=8.1.0 in /Users/jcromo/Miniconda3/envs/proyecto/lib/python3.10/site-packages (from langchain-core<0.3,>=0.1.45->langchain-aws) (8.3.0)\n",
      "Requirement already satisfied: python-dateutil<3.0.0,>=2.1 in /Users/jcromo/Miniconda3/envs/proyecto/lib/python3.10/site-packages (from botocore<1.35.0,>=1.34.117->boto3<1.35.0,>=1.34.51->langchain-aws) (2.9.0.post0)\n",
      "Requirement already satisfied: urllib3!=2.2.0,<3,>=1.25.4 in /Users/jcromo/Miniconda3/envs/proyecto/lib/python3.10/site-packages (from botocore<1.35.0,>=1.34.117->boto3<1.35.0,>=1.34.51->langchain-aws) (2.0.6)\n",
      "Requirement already satisfied: jsonpointer>=1.9 in /Users/jcromo/Miniconda3/envs/proyecto/lib/python3.10/site-packages (from jsonpatch<2.0,>=1.33->langchain-core<0.3,>=0.1.45->langchain-aws) (2.4)\n",
      "Requirement already satisfied: orjson<4.0.0,>=3.9.14 in /Users/jcromo/Miniconda3/envs/proyecto/lib/python3.10/site-packages (from langsmith<0.2.0,>=0.1.65->langchain-core<0.3,>=0.1.45->langchain-aws) (3.10.3)\n",
      "Requirement already satisfied: requests<3,>=2 in /Users/jcromo/Miniconda3/envs/proyecto/lib/python3.10/site-packages (from langsmith<0.2.0,>=0.1.65->langchain-core<0.3,>=0.1.45->langchain-aws) (2.31.0)\n",
      "Requirement already satisfied: annotated-types>=0.4.0 in /Users/jcromo/Miniconda3/envs/proyecto/lib/python3.10/site-packages (from pydantic<3,>=1->langchain-core<0.3,>=0.1.45->langchain-aws) (0.7.0)\n",
      "Requirement already satisfied: pydantic-core==2.18.3 in /Users/jcromo/Miniconda3/envs/proyecto/lib/python3.10/site-packages (from pydantic<3,>=1->langchain-core<0.3,>=0.1.45->langchain-aws) (2.18.3)\n",
      "Requirement already satisfied: typing-extensions>=4.6.1 in /Users/jcromo/Miniconda3/envs/proyecto/lib/python3.10/site-packages (from pydantic<3,>=1->langchain-core<0.3,>=0.1.45->langchain-aws) (4.11.0)\n",
      "Requirement already satisfied: six>=1.5 in /Users/jcromo/Miniconda3/envs/proyecto/lib/python3.10/site-packages (from python-dateutil<3.0.0,>=2.1->botocore<1.35.0,>=1.34.117->boto3<1.35.0,>=1.34.51->langchain-aws) (1.16.0)\n",
      "Requirement already satisfied: charset-normalizer<4,>=2 in /Users/jcromo/Miniconda3/envs/proyecto/lib/python3.10/site-packages (from requests<3,>=2->langsmith<0.2.0,>=0.1.65->langchain-core<0.3,>=0.1.45->langchain-aws) (2.0.4)\n",
      "Requirement already satisfied: idna<4,>=2.5 in /Users/jcromo/Miniconda3/envs/proyecto/lib/python3.10/site-packages (from requests<3,>=2->langsmith<0.2.0,>=0.1.65->langchain-core<0.3,>=0.1.45->langchain-aws) (3.7)\n",
      "Requirement already satisfied: certifi>=2017.4.17 in /Users/jcromo/Miniconda3/envs/proyecto/lib/python3.10/site-packages (from requests<3,>=2->langsmith<0.2.0,>=0.1.65->langchain-core<0.3,>=0.1.45->langchain-aws) (2023.7.22)\n"
     ]
    }
   ],
   "source": [
    "!pip install langchain-aws"
   ]
  },
  {
   "cell_type": "code",
   "execution_count": 7,
   "metadata": {},
   "outputs": [
    {
     "name": "stdout",
     "output_type": "stream",
     "text": [
      "Requirement already satisfied: datasets in /Users/jcromo/Miniconda3/envs/proyecto/lib/python3.10/site-packages (2.19.1)\n",
      "Requirement already satisfied: filelock in /Users/jcromo/Miniconda3/envs/proyecto/lib/python3.10/site-packages (from datasets) (3.13.1)\n",
      "Requirement already satisfied: numpy>=1.17 in /Users/jcromo/Miniconda3/envs/proyecto/lib/python3.10/site-packages (from datasets) (1.24.4)\n",
      "Requirement already satisfied: pyarrow>=12.0.0 in /Users/jcromo/Miniconda3/envs/proyecto/lib/python3.10/site-packages (from datasets) (16.1.0)\n",
      "Requirement already satisfied: pyarrow-hotfix in /Users/jcromo/Miniconda3/envs/proyecto/lib/python3.10/site-packages (from datasets) (0.6)\n",
      "Requirement already satisfied: dill<0.3.9,>=0.3.0 in /Users/jcromo/Miniconda3/envs/proyecto/lib/python3.10/site-packages (from datasets) (0.3.8)\n",
      "Requirement already satisfied: pandas in /Users/jcromo/Miniconda3/envs/proyecto/lib/python3.10/site-packages (from datasets) (2.2.1)\n",
      "Requirement already satisfied: requests>=2.19.0 in /Users/jcromo/Miniconda3/envs/proyecto/lib/python3.10/site-packages (from datasets) (2.31.0)\n",
      "Requirement already satisfied: tqdm>=4.62.1 in /Users/jcromo/Miniconda3/envs/proyecto/lib/python3.10/site-packages (from datasets) (4.66.4)\n",
      "Requirement already satisfied: xxhash in /Users/jcromo/Miniconda3/envs/proyecto/lib/python3.10/site-packages (from datasets) (3.4.1)\n",
      "Requirement already satisfied: multiprocess in /Users/jcromo/Miniconda3/envs/proyecto/lib/python3.10/site-packages (from datasets) (0.70.16)\n",
      "Requirement already satisfied: fsspec<=2024.3.1,>=2023.1.0 in /Users/jcromo/Miniconda3/envs/proyecto/lib/python3.10/site-packages (from fsspec[http]<=2024.3.1,>=2023.1.0->datasets) (2024.3.1)\n",
      "Requirement already satisfied: aiohttp in /Users/jcromo/Miniconda3/envs/proyecto/lib/python3.10/site-packages (from datasets) (3.9.5)\n",
      "Requirement already satisfied: huggingface-hub>=0.21.2 in /Users/jcromo/Miniconda3/envs/proyecto/lib/python3.10/site-packages (from datasets) (0.23.2)\n",
      "Requirement already satisfied: packaging in /Users/jcromo/Miniconda3/envs/proyecto/lib/python3.10/site-packages (from datasets) (23.2)\n",
      "Requirement already satisfied: pyyaml>=5.1 in /Users/jcromo/Miniconda3/envs/proyecto/lib/python3.10/site-packages (from datasets) (6.0.1)\n",
      "Requirement already satisfied: aiosignal>=1.1.2 in /Users/jcromo/Miniconda3/envs/proyecto/lib/python3.10/site-packages (from aiohttp->datasets) (1.3.1)\n",
      "Requirement already satisfied: attrs>=17.3.0 in /Users/jcromo/Miniconda3/envs/proyecto/lib/python3.10/site-packages (from aiohttp->datasets) (23.1.0)\n",
      "Requirement already satisfied: frozenlist>=1.1.1 in /Users/jcromo/Miniconda3/envs/proyecto/lib/python3.10/site-packages (from aiohttp->datasets) (1.4.1)\n",
      "Requirement already satisfied: multidict<7.0,>=4.5 in /Users/jcromo/Miniconda3/envs/proyecto/lib/python3.10/site-packages (from aiohttp->datasets) (6.0.5)\n",
      "Requirement already satisfied: yarl<2.0,>=1.0 in /Users/jcromo/Miniconda3/envs/proyecto/lib/python3.10/site-packages (from aiohttp->datasets) (1.9.4)\n",
      "Requirement already satisfied: async-timeout<5.0,>=4.0 in /Users/jcromo/Miniconda3/envs/proyecto/lib/python3.10/site-packages (from aiohttp->datasets) (4.0.3)\n",
      "Requirement already satisfied: typing-extensions>=3.7.4.3 in /Users/jcromo/Miniconda3/envs/proyecto/lib/python3.10/site-packages (from huggingface-hub>=0.21.2->datasets) (4.11.0)\n",
      "Requirement already satisfied: charset-normalizer<4,>=2 in /Users/jcromo/Miniconda3/envs/proyecto/lib/python3.10/site-packages (from requests>=2.19.0->datasets) (2.0.4)\n",
      "Requirement already satisfied: idna<4,>=2.5 in /Users/jcromo/Miniconda3/envs/proyecto/lib/python3.10/site-packages (from requests>=2.19.0->datasets) (3.7)\n",
      "Requirement already satisfied: urllib3<3,>=1.21.1 in /Users/jcromo/Miniconda3/envs/proyecto/lib/python3.10/site-packages (from requests>=2.19.0->datasets) (2.0.6)\n",
      "Requirement already satisfied: certifi>=2017.4.17 in /Users/jcromo/Miniconda3/envs/proyecto/lib/python3.10/site-packages (from requests>=2.19.0->datasets) (2023.7.22)\n",
      "Requirement already satisfied: python-dateutil>=2.8.2 in /Users/jcromo/Miniconda3/envs/proyecto/lib/python3.10/site-packages (from pandas->datasets) (2.9.0.post0)\n",
      "Requirement already satisfied: pytz>=2020.1 in /Users/jcromo/Miniconda3/envs/proyecto/lib/python3.10/site-packages (from pandas->datasets) (2024.1)\n",
      "Requirement already satisfied: tzdata>=2022.7 in /Users/jcromo/Miniconda3/envs/proyecto/lib/python3.10/site-packages (from pandas->datasets) (2023.3)\n",
      "Requirement already satisfied: six>=1.5 in /Users/jcromo/Miniconda3/envs/proyecto/lib/python3.10/site-packages (from python-dateutil>=2.8.2->pandas->datasets) (1.16.0)\n"
     ]
    }
   ],
   "source": [
    "!pip install datasets"
   ]
  },
  {
   "cell_type": "code",
   "execution_count": 8,
   "metadata": {},
   "outputs": [
    {
     "name": "stdout",
     "output_type": "stream",
     "text": [
      "Requirement already satisfied: ragas in /Users/jcromo/Miniconda3/envs/proyecto/lib/python3.10/site-packages (0.1.9)\n",
      "Requirement already satisfied: numpy in /Users/jcromo/Miniconda3/envs/proyecto/lib/python3.10/site-packages (from ragas) (1.24.4)\n",
      "Requirement already satisfied: datasets in /Users/jcromo/Miniconda3/envs/proyecto/lib/python3.10/site-packages (from ragas) (2.19.1)\n",
      "Requirement already satisfied: tiktoken in /Users/jcromo/Miniconda3/envs/proyecto/lib/python3.10/site-packages (from ragas) (0.7.0)\n",
      "Requirement already satisfied: langchain in /Users/jcromo/Miniconda3/envs/proyecto/lib/python3.10/site-packages (from ragas) (0.2.1)\n",
      "Requirement already satisfied: langchain-core in /Users/jcromo/Miniconda3/envs/proyecto/lib/python3.10/site-packages (from ragas) (0.2.3)\n",
      "Requirement already satisfied: langchain-community in /Users/jcromo/Miniconda3/envs/proyecto/lib/python3.10/site-packages (from ragas) (0.2.1)\n",
      "Requirement already satisfied: langchain-openai in /Users/jcromo/Miniconda3/envs/proyecto/lib/python3.10/site-packages (from ragas) (0.1.8)\n",
      "Requirement already satisfied: openai>1 in /Users/jcromo/Miniconda3/envs/proyecto/lib/python3.10/site-packages (from ragas) (1.30.5)\n",
      "Requirement already satisfied: pysbd>=0.3.4 in /Users/jcromo/Miniconda3/envs/proyecto/lib/python3.10/site-packages (from ragas) (0.3.4)\n",
      "Requirement already satisfied: nest-asyncio in /Users/jcromo/Miniconda3/envs/proyecto/lib/python3.10/site-packages (from ragas) (1.6.0)\n",
      "Requirement already satisfied: appdirs in /Users/jcromo/Miniconda3/envs/proyecto/lib/python3.10/site-packages (from ragas) (1.4.4)\n",
      "Requirement already satisfied: anyio<5,>=3.5.0 in /Users/jcromo/Miniconda3/envs/proyecto/lib/python3.10/site-packages (from openai>1->ragas) (4.2.0)\n",
      "Requirement already satisfied: distro<2,>=1.7.0 in /Users/jcromo/Miniconda3/envs/proyecto/lib/python3.10/site-packages (from openai>1->ragas) (1.9.0)\n",
      "Requirement already satisfied: httpx<1,>=0.23.0 in /Users/jcromo/Miniconda3/envs/proyecto/lib/python3.10/site-packages (from openai>1->ragas) (0.23.3)\n",
      "Requirement already satisfied: pydantic<3,>=1.9.0 in /Users/jcromo/Miniconda3/envs/proyecto/lib/python3.10/site-packages (from openai>1->ragas) (2.7.2)\n",
      "Requirement already satisfied: sniffio in /Users/jcromo/Miniconda3/envs/proyecto/lib/python3.10/site-packages (from openai>1->ragas) (1.3.0)\n",
      "Requirement already satisfied: tqdm>4 in /Users/jcromo/Miniconda3/envs/proyecto/lib/python3.10/site-packages (from openai>1->ragas) (4.66.4)\n",
      "Requirement already satisfied: typing-extensions<5,>=4.7 in /Users/jcromo/Miniconda3/envs/proyecto/lib/python3.10/site-packages (from openai>1->ragas) (4.11.0)\n",
      "Requirement already satisfied: filelock in /Users/jcromo/Miniconda3/envs/proyecto/lib/python3.10/site-packages (from datasets->ragas) (3.13.1)\n",
      "Requirement already satisfied: pyarrow>=12.0.0 in /Users/jcromo/Miniconda3/envs/proyecto/lib/python3.10/site-packages (from datasets->ragas) (16.1.0)\n",
      "Requirement already satisfied: pyarrow-hotfix in /Users/jcromo/Miniconda3/envs/proyecto/lib/python3.10/site-packages (from datasets->ragas) (0.6)\n",
      "Requirement already satisfied: dill<0.3.9,>=0.3.0 in /Users/jcromo/Miniconda3/envs/proyecto/lib/python3.10/site-packages (from datasets->ragas) (0.3.8)\n",
      "Requirement already satisfied: pandas in /Users/jcromo/Miniconda3/envs/proyecto/lib/python3.10/site-packages (from datasets->ragas) (2.2.1)\n",
      "Requirement already satisfied: requests>=2.19.0 in /Users/jcromo/Miniconda3/envs/proyecto/lib/python3.10/site-packages (from datasets->ragas) (2.31.0)\n",
      "Requirement already satisfied: xxhash in /Users/jcromo/Miniconda3/envs/proyecto/lib/python3.10/site-packages (from datasets->ragas) (3.4.1)\n",
      "Requirement already satisfied: multiprocess in /Users/jcromo/Miniconda3/envs/proyecto/lib/python3.10/site-packages (from datasets->ragas) (0.70.16)\n",
      "Requirement already satisfied: fsspec<=2024.3.1,>=2023.1.0 in /Users/jcromo/Miniconda3/envs/proyecto/lib/python3.10/site-packages (from fsspec[http]<=2024.3.1,>=2023.1.0->datasets->ragas) (2024.3.1)\n",
      "Requirement already satisfied: aiohttp in /Users/jcromo/Miniconda3/envs/proyecto/lib/python3.10/site-packages (from datasets->ragas) (3.9.5)\n",
      "Requirement already satisfied: huggingface-hub>=0.21.2 in /Users/jcromo/Miniconda3/envs/proyecto/lib/python3.10/site-packages (from datasets->ragas) (0.23.2)\n",
      "Requirement already satisfied: packaging in /Users/jcromo/Miniconda3/envs/proyecto/lib/python3.10/site-packages (from datasets->ragas) (23.2)\n",
      "Requirement already satisfied: pyyaml>=5.1 in /Users/jcromo/Miniconda3/envs/proyecto/lib/python3.10/site-packages (from datasets->ragas) (6.0.1)\n",
      "Requirement already satisfied: SQLAlchemy<3,>=1.4 in /Users/jcromo/Miniconda3/envs/proyecto/lib/python3.10/site-packages (from langchain->ragas) (2.0.30)\n",
      "Requirement already satisfied: async-timeout<5.0.0,>=4.0.0 in /Users/jcromo/Miniconda3/envs/proyecto/lib/python3.10/site-packages (from langchain->ragas) (4.0.3)\n",
      "Requirement already satisfied: langchain-text-splitters<0.3.0,>=0.2.0 in /Users/jcromo/Miniconda3/envs/proyecto/lib/python3.10/site-packages (from langchain->ragas) (0.2.0)\n",
      "Requirement already satisfied: langsmith<0.2.0,>=0.1.17 in /Users/jcromo/Miniconda3/envs/proyecto/lib/python3.10/site-packages (from langchain->ragas) (0.1.67)\n",
      "Requirement already satisfied: tenacity<9.0.0,>=8.1.0 in /Users/jcromo/Miniconda3/envs/proyecto/lib/python3.10/site-packages (from langchain->ragas) (8.3.0)\n",
      "Requirement already satisfied: jsonpatch<2.0,>=1.33 in /Users/jcromo/Miniconda3/envs/proyecto/lib/python3.10/site-packages (from langchain-core->ragas) (1.33)\n",
      "Requirement already satisfied: dataclasses-json<0.7,>=0.5.7 in /Users/jcromo/Miniconda3/envs/proyecto/lib/python3.10/site-packages (from langchain-community->ragas) (0.6.6)\n",
      "Requirement already satisfied: regex>=2022.1.18 in /Users/jcromo/Miniconda3/envs/proyecto/lib/python3.10/site-packages (from tiktoken->ragas) (2024.5.15)\n",
      "Requirement already satisfied: aiosignal>=1.1.2 in /Users/jcromo/Miniconda3/envs/proyecto/lib/python3.10/site-packages (from aiohttp->datasets->ragas) (1.3.1)\n",
      "Requirement already satisfied: attrs>=17.3.0 in /Users/jcromo/Miniconda3/envs/proyecto/lib/python3.10/site-packages (from aiohttp->datasets->ragas) (23.1.0)\n",
      "Requirement already satisfied: frozenlist>=1.1.1 in /Users/jcromo/Miniconda3/envs/proyecto/lib/python3.10/site-packages (from aiohttp->datasets->ragas) (1.4.1)\n",
      "Requirement already satisfied: multidict<7.0,>=4.5 in /Users/jcromo/Miniconda3/envs/proyecto/lib/python3.10/site-packages (from aiohttp->datasets->ragas) (6.0.5)\n",
      "Requirement already satisfied: yarl<2.0,>=1.0 in /Users/jcromo/Miniconda3/envs/proyecto/lib/python3.10/site-packages (from aiohttp->datasets->ragas) (1.9.4)\n",
      "Requirement already satisfied: idna>=2.8 in /Users/jcromo/Miniconda3/envs/proyecto/lib/python3.10/site-packages (from anyio<5,>=3.5.0->openai>1->ragas) (3.7)\n",
      "Requirement already satisfied: exceptiongroup>=1.0.2 in /Users/jcromo/Miniconda3/envs/proyecto/lib/python3.10/site-packages (from anyio<5,>=3.5.0->openai>1->ragas) (1.2.0)\n",
      "Requirement already satisfied: marshmallow<4.0.0,>=3.18.0 in /Users/jcromo/Miniconda3/envs/proyecto/lib/python3.10/site-packages (from dataclasses-json<0.7,>=0.5.7->langchain-community->ragas) (3.21.2)\n",
      "Requirement already satisfied: typing-inspect<1,>=0.4.0 in /Users/jcromo/Miniconda3/envs/proyecto/lib/python3.10/site-packages (from dataclasses-json<0.7,>=0.5.7->langchain-community->ragas) (0.9.0)\n",
      "Requirement already satisfied: certifi in /Users/jcromo/Miniconda3/envs/proyecto/lib/python3.10/site-packages (from httpx<1,>=0.23.0->openai>1->ragas) (2023.7.22)\n",
      "Requirement already satisfied: httpcore<0.17.0,>=0.15.0 in /Users/jcromo/Miniconda3/envs/proyecto/lib/python3.10/site-packages (from httpx<1,>=0.23.0->openai>1->ragas) (0.16.3)\n",
      "Requirement already satisfied: rfc3986<2,>=1.3 in /Users/jcromo/Miniconda3/envs/proyecto/lib/python3.10/site-packages (from rfc3986[idna2008]<2,>=1.3->httpx<1,>=0.23.0->openai>1->ragas) (1.5.0)\n",
      "Requirement already satisfied: jsonpointer>=1.9 in /Users/jcromo/Miniconda3/envs/proyecto/lib/python3.10/site-packages (from jsonpatch<2.0,>=1.33->langchain-core->ragas) (2.4)\n",
      "Requirement already satisfied: orjson<4.0.0,>=3.9.14 in /Users/jcromo/Miniconda3/envs/proyecto/lib/python3.10/site-packages (from langsmith<0.2.0,>=0.1.17->langchain->ragas) (3.10.3)\n",
      "Requirement already satisfied: annotated-types>=0.4.0 in /Users/jcromo/Miniconda3/envs/proyecto/lib/python3.10/site-packages (from pydantic<3,>=1.9.0->openai>1->ragas) (0.7.0)\n",
      "Requirement already satisfied: pydantic-core==2.18.3 in /Users/jcromo/Miniconda3/envs/proyecto/lib/python3.10/site-packages (from pydantic<3,>=1.9.0->openai>1->ragas) (2.18.3)\n",
      "Requirement already satisfied: charset-normalizer<4,>=2 in /Users/jcromo/Miniconda3/envs/proyecto/lib/python3.10/site-packages (from requests>=2.19.0->datasets->ragas) (2.0.4)\n",
      "Requirement already satisfied: urllib3<3,>=1.21.1 in /Users/jcromo/Miniconda3/envs/proyecto/lib/python3.10/site-packages (from requests>=2.19.0->datasets->ragas) (2.0.6)\n",
      "Requirement already satisfied: python-dateutil>=2.8.2 in /Users/jcromo/Miniconda3/envs/proyecto/lib/python3.10/site-packages (from pandas->datasets->ragas) (2.9.0.post0)\n",
      "Requirement already satisfied: pytz>=2020.1 in /Users/jcromo/Miniconda3/envs/proyecto/lib/python3.10/site-packages (from pandas->datasets->ragas) (2024.1)\n",
      "Requirement already satisfied: tzdata>=2022.7 in /Users/jcromo/Miniconda3/envs/proyecto/lib/python3.10/site-packages (from pandas->datasets->ragas) (2023.3)\n",
      "Requirement already satisfied: h11<0.15,>=0.13 in /Users/jcromo/Miniconda3/envs/proyecto/lib/python3.10/site-packages (from httpcore<0.17.0,>=0.15.0->httpx<1,>=0.23.0->openai>1->ragas) (0.14.0)\n",
      "Requirement already satisfied: six>=1.5 in /Users/jcromo/Miniconda3/envs/proyecto/lib/python3.10/site-packages (from python-dateutil>=2.8.2->pandas->datasets->ragas) (1.16.0)\n",
      "Requirement already satisfied: mypy-extensions>=0.3.0 in /Users/jcromo/Miniconda3/envs/proyecto/lib/python3.10/site-packages (from typing-inspect<1,>=0.4.0->dataclasses-json<0.7,>=0.5.7->langchain-community->ragas) (1.0.0)\n"
     ]
    }
   ],
   "source": [
    "!pip install ragas"
   ]
  },
  {
   "cell_type": "code",
   "execution_count": 9,
   "metadata": {
    "id": "7f538ba7-a747-42b5-9481-38084383bf8f"
   },
   "outputs": [],
   "source": [
    "# Importando librerias requeridas\n",
    "import time\n",
    "import re\n",
    "import json\n",
    "import uuid\n",
    "import io\n",
    "import os\n",
    "import logging\n",
    "\n",
    "from dotenv import load_dotenv\n",
    "import pyarrow.parquet as pq\n",
    "import pandas as pd\n",
    "import numpy as np\n",
    "import boto3\n",
    "import openpyxl\n",
    "\n",
    "from langchain_community.retrievers import AmazonKnowledgeBasesRetriever\n",
    "from langchain.chains import create_retrieval_chain\n",
    "from langchain.chains.combine_documents import create_stuff_documents_chain\n",
    "from langchain_core.prompts import ChatPromptTemplate\n",
    "from langchain_core.output_parsers import StrOutputParser\n",
    "from langchain_aws import BedrockLLM\n",
    "\n",
    "from datasets import Dataset\n",
    "from ragas import evaluate\n",
    "from ragas.metrics import (\n",
    "    answer_relevancy,\n",
    "    answer_similarity,\n",
    "    context_precision,\n",
    ")\n"
   ]
  },
  {
   "cell_type": "code",
   "execution_count": 10,
   "metadata": {},
   "outputs": [],
   "source": [
    "# Creado manejador de bitácora\n",
    "logger = logging.getLogger(__name__)\n",
    "#logging.basicConfig(\n",
    "#    filename='../logs/Avance4_Equipo37_Bedrock_Alternative.log',\n",
    "#    level=logging.INFO,\n",
    "#    format='%(asctime)s %(levelname)-8s %(message)s',\n",
    "#    datefmt='%Y-%m-%d %H:%M:%S'\n",
    "#)"
   ]
  },
  {
   "cell_type": "code",
   "execution_count": 11,
   "metadata": {},
   "outputs": [],
   "source": [
    "# Configurando constantes para la ejecución. AWS_KBID_Vxxx contiene el identificador de la base\n",
    "# de conocimientos de AWS Bedrock\n",
    "load_dotenv()\n",
    "MAX_ENTRIES = 100\n",
    "AWS_KBID_V200 = os.environ['AWS_KBID_V200']\n",
    "PINECONE_API_KEY_V200 = os.environ['PINECONE_API_KEY_V200']\n",
    "INDEX_V200 = 'volindov200'\n",
    "KB_VERSION = '2.00'\n",
    "SOURCE_AWS_BUCKET = 'volindo-hotel-data'\n",
    "TARGET_DATA_FILE = f'hotel-clean-data-set/synthetic-data/hotel-data-set-selected-results.xlsx'\n"
   ]
  },
  {
   "cell_type": "markdown",
   "metadata": {
    "id": "b8af6127-cc07-4a20-8fea-57ed0d56a355"
   },
   "source": [
    "### **Creando Agente para Recuperar Informacion de Contexto**"
   ]
  },
  {
   "cell_type": "code",
   "execution_count": 12,
   "metadata": {
    "id": "0d6d5eee-596e-4bb8-a3c9-919ce176fe7b"
   },
   "outputs": [],
   "source": [
    "# Creando sesion para AWS Bedrock. Credenciales y configuracion se obtienen de ~/.aws\n",
    "retriever = AmazonKnowledgeBasesRetriever(\n",
    "    knowledge_base_id=AWS_KBID_V200,\n",
    "    retrieval_config={'vectorSearchConfiguration': {'numberOfResults': 5}},\n",
    ")"
   ]
  },
  {
   "cell_type": "markdown",
   "metadata": {
    "id": "b8af6127-cc07-4a20-8fea-57ed0d56a355"
   },
   "source": [
    "### **Creando Agente para Questionar el Modelo Fundacional**"
   ]
  },
  {
   "cell_type": "code",
   "execution_count": 13,
   "metadata": {},
   "outputs": [],
   "source": [
    "model_kwargs_premier = {'temperature': 0, 'topP': 0.7, 'maxTokenCount': 3000}\n",
    "llm = BedrockLLM(model_id='amazon.titan-text-premier-v1:0', model_kwargs=model_kwargs_premier)"
   ]
  },
  {
   "cell_type": "markdown",
   "metadata": {
    "id": "b8af6127-cc07-4a20-8fea-57ed0d56a355"
   },
   "source": [
    "### **Creando Función para Solictar Respuestas de AWS Bedrock y para Desplegarlas**"
   ]
  },
  {
   "cell_type": "code",
   "execution_count": 14,
   "metadata": {},
   "outputs": [],
   "source": [
    "# Creando función para buscar información en la base de conocimiento y generar una respuesta usando el modelo fundacional\n",
    "# Titan Text Premier de AWS Bedrock. La función también calcula el tiempo de ejecución\n",
    "def retrieve_and_generate(query, retriever, llm):\n",
    "    start_time = time.time()\n",
    "    system_prompt = (\n",
    "        \"You are a friendly and helpful travel assistant. Begin your response with a polite greeting. Accurately use the detailed context provided from the database \"\n",
    "        \"to answer the following query, particularly focusing on correct location details. Ensure the locations mentioned are verified against \"\n",
    "        \"the context. Provide options within the same city or nearby, double-checking location accuracy. Offer two or three choices when possible. \"\n",
    "        \"Address the user by name if provided in the context. If the answer is unknown or if you cannot verify the location details, state 'I don't know'. \"\n",
    "        \"Limit responses to three sentences and maintain conciseness. \"\n",
    "        \"Context: {context}\"\n",
    "    )\n",
    "    prompt = ChatPromptTemplate.from_messages(\n",
    "        [\n",
    "            (\"system\", system_prompt),\n",
    "            (\"human\", \"{input}\"),\n",
    "        ]\n",
    "    )\n",
    "    question_answer_chain = create_stuff_documents_chain(llm, prompt)\n",
    "    chain = create_retrieval_chain(retriever, question_answer_chain)\n",
    "    \n",
    "    response = chain.invoke({\"input\": query})\n",
    "    elapsed_time = time.time() - start_time\n",
    "    return elapsed_time, response\n"
   ]
  },
  {
   "cell_type": "code",
   "execution_count": 15,
   "metadata": {},
   "outputs": [],
   "source": [
    "# Creando función desplegar la respuesta recibida de AWS. La respuesta incluye diferentes valores como la respuesta completa,\n",
    "# la respuesta en partes, o citas, con referencias y los metadatos de cada referencia\n",
    "def display_response(response, elapsed_time):\n",
    "    # desplegando respuestas\n",
    "    print(f\"Respuesta despues de {elapsed_time:.4f} segundos:\\n{response['answer']}\")\n",
    "#    for context in response['context']:\n",
    "#        print(f\"\\nContexto:\\n{context.page_content}\")\n",
    "#        print(f\"\\nCalificacion:{context.metadata['score']:.6f}\")\n",
    "#        print(f\"\\nNombre del hotel: {context.metadata['source_metadata']['Name']}, Ciudad:{context.metadata['source_metadata']['City']}, Direccion:{context.metadata['source_metadata']['Address']}\")\n",
    "#        print(f\"\\nPais: {context.metadata['source_metadata']['Country']}, Continente:{context.metadata['source_metadata']['Continent']}, URI:{context.metadata['source_metadata']['x-amz-bedrock-kb-source-uri']}\")\n"
   ]
  },
  {
   "cell_type": "markdown",
   "metadata": {},
   "source": [
    "### **Ejecutando la Evaluación**"
   ]
  },
  {
   "cell_type": "markdown",
   "metadata": {},
   "source": [
    "**Preparando Preguntas y Respuestas de Referencia**"
   ]
  },
  {
   "cell_type": "code",
   "execution_count": 16,
   "metadata": {},
   "outputs": [],
   "source": [
    "questions = []\n",
    "grounded_truths = []\n",
    "\n",
    "question = '''Can you suggest accomodation near pilanesberg national park in south africa?'''\n",
    "answer = '''\n",
    "Certainly! When visiting Pilanesberg National Park in South Africa, you have several accommodation options to choose from. Here are some recommendations:\n",
    "\n",
    "Bakubung Bush Lodge: Located within the park, this lodge offers elegantly decorated rooms with free Wi-Fi and a variety of massages. Prices start at R5100 per person sharing.\n",
    "\n",
    "Black Rhino Game Lodge: Another excellent choice within the park, offering a unique safari experience.\n",
    "\n",
    "Kwa Maritane Bush Lodge: Situated in the Pilanesberg Game Reserve, this lodge provides comfortable accommodations.\n",
    "\n",
    "Tshukudu Bush Lodge: Known for its luxury and exclusivity, Tshukudu offers an unforgettable stay.\n",
    "\n",
    "Ivory Tree Game Lodge: A great option for wildlife enthusiasts, with comfortable rooms and beautiful surroundings.\n",
    "\n",
    "Additionally, Pilanesberg National Park itself has various accommodation options, including resorts, safari tents, bush lodges, chalets, and self-catering choices. Families, budget travelers, and discerning guests will find something suitable for their preferences and budget. Whether you prefer rustic safari tents or luxurious five-star lodges, the abundant wildlife in this malaria-free park remains the main attraction.\n",
    "'''\n",
    "questions.append(question)\n",
    "grounded_truths.append(answer)\n",
    "\n",
    "question = '''Can you suggest accomodation near pilanesberg national park in the north west province in south africa?'''\n",
    "answer = '''\n",
    "Certainly! When visiting Pilanesberg National Park in South Africa, you have several accommodation options to choose from. Here are some recommendations:\n",
    "\n",
    "Bakubung Bush Lodge: Located within the park, this lodge offers elegantly decorated rooms with free Wi-Fi and a variety of massages. Prices start at R5100 per person sharing.\n",
    "\n",
    "Black Rhino Game Lodge: Another excellent choice within the park, offering a unique safari experience.\n",
    "\n",
    "Kwa Maritane Bush Lodge: Situated in the Pilanesberg Game Reserve, this lodge provides comfortable accommodations.\n",
    "\n",
    "Tshukudu Bush Lodge: Known for its luxury and exclusivity, Tshukudu offers an unforgettable stay.\n",
    "\n",
    "Ivory Tree Game Lodge: A great option for wildlife enthusiasts, with comfortable rooms and beautiful surroundings.\n",
    "\n",
    "Additionally, Pilanesberg National Park itself has various accommodation options, including resorts, safari tents, bush lodges, chalets, and self-catering choices. Families, budget travelers, and discerning guests will find something suitable for their preferences and budget. Whether you prefer rustic safari tents or luxurious five-star lodges, the abundant wildlife in this malaria-free park remains the main attraction.\n",
    "'''\n",
    "questions.append(question)\n",
    "grounded_truths.append(answer)\n",
    "\n",
    "question = '''What attractions are close to Black Rhino Game Lodge, north west province in south africa?'''\n",
    "answer = '''\n",
    "The Black Rhino Game Lodge is nestled in the west side of the malaria-free Pilanesberg National Park in the North West Province of South Africa. Here are some attractions near the lodge:\n",
    "\n",
    "Pilanesberg National Park: The park itself is a must-visit, covering an area of 55,000 hectares. It’s home to the Big Five (elephant, buffalo, leopard, lion, and rhinoceros), as well as other wildlife like wild dogs, hippos, and various bird species.\n",
    "\n",
    "Sun City: Only 33 km away from the lodge, Sun City is a popular entertainment hotspot. You can explore its casinos, golf courses, water parks, and cultural attractions.\n",
    "'''\n",
    "questions.append(question)\n",
    "grounded_truths.append(answer)\n",
    "\n",
    "question = '''Can you suggest accommodation in cape town, western cape province in south africa?'''\n",
    "answer = '''\n",
    "Certainly! Cape Town, in the Western Cape Province of South Africa, offers a variety of accommodation options. Here are a few recommendations:\n",
    "\n",
    "The Glen Boutique Hotel & Spa: A 5-star stay in Sea Point, Cape Town. Enjoy luxurious rooms with modern furniture, private bathrooms, and stunning views of the mountains or the Atlantic Ocean. The hotel features a spa, pool, and complimentary breakfast buffet.\n",
    "\n",
    "Radisson Blu Hotel Waterfront: Another 5-star option with breathtaking views of Table Mountain or the ocean. The hotel offers free Wi-Fi, a private marina, and water sports activities. It’s close to the V&A Waterfront and the CBD.\n",
    "\n",
    "Airbnb: Consider checking out Airbnb for unique vacation rentals, apartments, and townhouses in Cape Town. You can find places with ocean views, private pools, and stylish interiors.\n",
    "\n",
    "Remember to explore the Sea Point promenade, nearby beaches, and iconic attractions during your stay.\n",
    "'''\n",
    "questions.append(question)\n",
    "grounded_truths.append(answer)\n",
    "\n",
    "question = '''Can you suggest accommodation in cape town, western cape province in south africa, minimum rating of 4?'''\n",
    "answer = '''\n",
    "Certainly! Cape Town, in the Western Cape Province of South Africa, offers a variety of 4-star accommodation options. Here are some recommendations:\n",
    "\n",
    "Home Suite Hotels Station House: Located in Sea Point, this hotel provides an outdoor swimming pool, free private parking, a fitness center, and a terrace. Guests can also enjoy a bar.\n",
    "\n",
    "Home Suite Hotels Sea Point: Set in Cape Town, near Three Anchor Bay Beach, this hotel features an outdoor swimming pool, shared lounge, and terrace. Some units even have a balcony with city views. \n",
    "\n",
    "O’ Two Hotel: Situated in Mouille Point, this hotel offers free bikes, an outdoor swimming pool, fitness center, and a terrace. It’s close to Mouille Point Beach and Three Anchor Bay Beach.\n",
    "\n",
    "Romney Park Luxury Apartments: Located in Green Point, this 5-star aparthotel offers spacious apartments with kitchen facilities, en-suite bathrooms, and outdoor balconies with panoramic views.\n",
    "'''\n",
    "questions.append(question)\n",
    "grounded_truths.append(answer)\n",
    "\n",
    "question = '''Can you suggest accommodation in Hoedspruit, limpopo province in south africa?'''\n",
    "answer = '''\n",
    "Certainly! Hoedspruit, located in the Limpopo Province of South Africa, offers a variety of accommodation options. Here are some recommendations:\n",
    "\n",
    "The Hoedspruit Hotel: This cozy hotel brings the best of Hoedspruit to your doorstep. Enjoy comfortable rooms with flat-screen TVs, air conditioning, and refrigerators. Free parking is available, and it’s conveniently located near popular art galleries and restaurants.\n",
    "\n",
    "Sunbirds Oasis Lodge: A tranquil stay in Hoedspruit. Explore the surrounding wildlife and enjoy the peaceful atmosphere.\n",
    "\n",
    "Airbnb: Consider checking out Airbnb for unique vacation rentals, self-catering houses, and lodges in Hoedspruit. You can find options with stunning views, private pools, and close proximity to nature reserves.\n",
    "\n",
    "Remember to explore the nearby Blyde River Canyon, Kruger National Park, and other natural wonders during your stay.\n",
    ".\n",
    "'''\n",
    "questions.append(question)\n",
    "grounded_truths.append(answer)\n",
    "\n",
    "question = '''Can you suggest 5 places to stay in Monterrey, Nuevo Leon in Mexico?'''\n",
    "answer = '''\n",
    "Certainly! If you’re planning a trip to Monterrey, Nuevo León, here are five great places to stay:\n",
    "\n",
    "Safi Royal Luxury Metropolitan: Located in San Pedro Garza Garcia, this 5-star hotel offers an outdoor pool, free parking, and a fitness center. Enjoy panoramic views and excellent service.\n",
    "\n",
    "Best Western PREMIER Monterrey Aeropuerto: Just a 5-minute drive from Monterrey International Airport, this hotel features an outdoor pool, a gym, and air-conditioned rooms with free Wi-Fi.\n",
    "\n",
    "Galeria Plaza Monterrey: Conveniently situated in the center of Monterrey, this 5-star hotel offers city views, an outdoor pool, and free WiFi. Don’t miss the restaurant and bar.\n",
    "\n",
    "Holiday Inn & Suites - Monterrey Apodaca Zona Airport: Located in Apodaca, this 5-star IHG hotel provides an outdoor pool, free private parking, and a fitness center. Perfect for travelers near the airport.\n",
    "\n",
    "Fiesta Americana Monterrey Pabellón M.: Situated in Monterrey Centro, this hotel offers an outdoor pool and stunning city views. The on-site restaurant and bar on the 16th floor provide a memorable experience.\n",
    "'''\n",
    "questions.append(question)\n",
    "grounded_truths.append(answer)\n",
    "\n",
    "question = '''Can you suggest 5 places to stay in Monterrey, Nuevo Leon in Mexico, near Tec de Monterrey?'''\n",
    "answer = '''\n",
    "Certainly! If you’re looking for accommodations near Tec de Monterrey, here are five options to consider:\n",
    "\n",
    "Holiday Inn Express Monterrey Tecnologico: This informal hotel is 7 from both the Cintermex Convention Center and the bustling Macroplaza. The Santa Lucia riverwalk is 8 km away. Unpretentious rooms feature free Wi-Fi, flat-screen TVs and coffeemakers; many have balconies. Suites add minifridges and dining areas. Room service is available (breakfast only).\n",
    "\n",
    "Fiesta Inn Monterrey Tecnológico: Next to the Paseo Tec mall, this modern hotel is 3 km from Museo de Arte Contemporáneo de Monterrey and 27 km from Monterrey International Airport. The airy, streamlined rooms offer free Wi-Fi and flat-screen TVs; some offer city views. Suites add sitting areas and kitchenettes; some add pull-out sofas. Room service is available.\n",
    "\n",
    "One Monterrey Tecnológico: Set in a shopping plaza on a busy road, this laid-back hotel is 2 km from Highway 40, and 4 km from the Santa Lucia riverwalk and the sprawling Macroplaza. Featuring colorful accents, the streamlined rooms offer free Wi-Fi access, flat-screen TVs and en suite, shower-only bathrooms.\n",
    "\n",
    "These options provide a range of amenities and convenient locations for your stay in vibrant Monterrey.\n",
    "'''\n",
    "questions.append(question)\n",
    "grounded_truths.append(answer)\n",
    "\n",
    "question = '''I want to stay with my wife for a romantic weekend in Mexico City. We want to have a nice massage within the hotel.'''\n",
    "answer = '''\n",
    "Mexico City offers many luxurious hotels perfect for a romantic weekend. Here are a few options that include massage services within the hotel:\n",
    "\n",
    "Las Alcobas, a Luxury Collection Hotel Located in the upscale Polanco district, Las Alcobas offers elegant rooms and a serene spa. The hotel features a full-service spa with a variety of massage treatments, ensuring a relaxing experience for you and your wife.\n",
    "\n",
    "The St. Regis Mexico City This hotel is known for its luxurious amenities and exceptional service. The Remède Spa offers a range of treatments, including massages, facials, and body treatments. The hotel’s central location also provides easy access to many of the city’s attractions.\n",
    "\n",
    "Four Seasons Hotel Mexico City Situated on the Paseo de la Reforma, this hotel combines luxury with comfort. The spa offers a variety of massage treatments, and you can also enjoy the beautiful garden courtyard and the rooftop pool.\n",
    "\n",
    "Hotel Marquis Reforma This elegant hotel on Paseo de la Reforma features the Spa Marquis, offering an extensive menu of massages and wellness treatments. It’s a perfect place to unwind and enjoy a romantic weekend.\n",
    "\n",
    "JW Marriott Hotel Mexico City Located in the Polanco district, this hotel offers a luxurious stay with an on-site spa that provides various massage treatments. The hotel’s prime location also means you’re close to excellent dining and shopping options.\n",
    "\n",
    "These hotels will provide a romantic and relaxing environment for your weekend getaway.'''\n",
    "questions.append(question)\n",
    "grounded_truths.append(answer)\n",
    "\n",
    "question = '''I want to do a a golf weekend with my friends in Cancun. What hotels do you recommend that have their own golf course?'''\n",
    "answer = '''\n",
    "Cancun offers several excellent hotels with their own golf courses, perfect for a golf weekend. Here are some top recommendations:\n",
    "\n",
    "Moon Palace Cancun Description: Moon Palace Cancun features a 27-hole Jack Nicklaus Signature golf course. The resort offers luxurious accommodations, multiple dining options, and a range of activities. Facilities: Golf academy, pro shop, golf packages, spa, and fine dining.\n",
    "\n",
    "Iberostar Cancun Description: Iberostar Cancun boasts an 18-hole championship golf course designed by Isao Aoki. The resort offers beautiful beachfront views, a variety of restaurants, and numerous amenities. Facilities: Clubhouse, golf shop, spa, multiple swimming pools, and entertainment options.\n",
    "\n",
    "Dreams Vista Cancun Golf & Spa Resort Description: This resort features a Greg Norman-designed golf course at Playa Mujeres Golf Club. The all-inclusive resort provides a range of activities and luxurious accommodations. Facilities: Golf packages, pro shop, spa, multiple dining options, and rooftop pool.\n",
    "\n",
    "Secrets Playa Mujeres Golf & Spa Resort Description: An adults-only resort with access to the 18-hole Playa Mujeres Golf Club, designed by Greg Norman. The resort offers all-inclusive luxury, perfect for a golf weekend. Facilities: Golf packages, pro shop, multiple restaurants, bars, spa, and beachfront access. Tips for Booking Early Reservations: Golf courses can get booked up quickly, so make sure to reserve tee times in advance. Packages: Look for golf packages that include accommodations, meals, and golf rounds to get the best value.\n",
    "\n",
    "The Ritz-Carlton, Cancun Description: The Ritz-Carlton, Cancun, while not having its own golf course, offers access to several nearby courses, including the Iberostar Cancun Golf Club and El Camaleon Mayakoba Golf Club. Facilities: Luxurious accommodations, fine dining, spa services, and concierge service to arrange golfing activities.\n",
    "'''\n",
    "questions.append(question)\n",
    "grounded_truths.append(answer)\n",
    "\n",
    "question = '''Can you recommend hotels near Ueno Park in Tokyo?'''\n",
    "answer = '''\n",
    "Here are some recommended hotels near Ueno Park in Tokyo:\n",
    "\n",
    "Hotel Graphy Nezu: This hotel is located about a 15-minute walk from Ueno Park and offers residential-style accommodations with a fully-equipped, shared kitchen. It is well-rated for its good facilities and friendly staff.\n",
    "\n",
    "APA Hotel Ueno Ekimae: Situated in the heart of Tokyo, this hotel provides convenient access to local markets and restaurants. It's known for its good value and includes free WiFi throughout the property.\n",
    "\n",
    "Tosei Hotel Cocone Ueno Okachimachi: This hotel scores highly for cleanliness and value for money. It is located very close to Ueno Park and offers 3-star accommodations.\n",
    "\n",
    "Hop Inn Tokyo Ueno: Located a short walk from Ueno Station, this hotel is noted for its cleanliness and new hotel vibes. It offers air-conditioned rooms and free WiFi, making it a comfortable choice for visitors.\n",
    "\n",
    "All of these options offer good accessibility to Ueno Park and its surrounding attractions, providing a range of amenities to suit various preferences and budgets.\n",
    "'''\n",
    "questions.append(question)\n",
    "grounded_truths.append(answer)\n",
    "\n",
    "question = '''Can you recommend hotels in Hakone Japan? Ideally I am looking for traditional japanese ryokans.'''\n",
    "answer = '''\n",
    "For traditional Japanese ryokans in Hakone, Japan, you might consider the following options:\n",
    "\n",
    "Gora Kadan: This luxurious ryokan offers traditional Japanese accommodations with modern amenities, including hot spring baths and gourmet kaiseki meals.\n",
    "\n",
    "Hakone Ginyu: Situated in the scenic Hakone area, Hakone Ginyu provides elegant ryokan-style rooms with private outdoor hot spring baths and panoramic views of the surrounding mountains.\n",
    "\n",
    "Yamano Hotel: Yamano Hotel offers authentic Japanese hospitality in a tranquil setting. Guests can enjoy traditional tatami mat rooms, communal hot spring baths, and delicious multi-course meals.\n",
    "\n",
    "Gora Hanaougi: Nestled in the heart of Hakone, Gora Hanaougi features spacious ryokan accommodations, soothing hot spring baths, and impeccable service.\n",
    "\n",
    "Hakone Yutowa: This ryokan combines traditional Japanese design with modern comforts, offering guests a relaxing retreat with hot spring baths, gourmet dining, and serene natural surroundings.\n",
    "\n",
    "These are just a few options to consider for experiencing traditional Japanese hospitality in Hakone. Be sure to check availability and make reservations in advance, especially during peak travel seasons.\n",
    "'''\n",
    "questions.append(question)\n",
    "grounded_truths.append(answer)\n",
    "\n",
    "\n",
    "question = '''Can you recommend hotels in Chihuauha that are located near Periferico de la Juventud?'''\n",
    "answer = '''\n",
    "Best Western Plus Chihuahua Juventud: TSet on a hillside offering panoramic city and mountain views, this straightforward hotel in a 7-story building is 5 km from the Metropolitan Cathedral of Chihuahua and 22 km from Chihuahua Airport. The warm, relaxed rooms offer free Wi-Fi, flat-screen TVs and sitting areas, as well as tea and coffeemaking facilities. Suites add kitchenettes, and separate living and dining space. Room service is available. Complimentary amenities include parking, an airport shuttle, and breakfast served in a casual restaurant/bar that has marble floors. There’s also an outdoor pool, a gym and a hip lobby lounge, plus meeting and event space.\n",
    "\n",
    "Hotel Extended Suites Chihuahua La Juventud: Set among retail parks and business premises, this unpretentious all-suite hotel is 7 km from Expo Chihuahua Convention Center, 8 km from Federal Highway 16 and 13 km from the Technological University of Chihuahua. The informal suites feature Wi-Fi, flat-screen TVs, and kitchenettes with fridges and microwaves. Amenities include an outdoor pool, a 24-hour fitness room and a coin-operated laundry, plus a convenience store and parking.\n",
    "\n",
    "Sheraton Chihuahua Soberano: Offering mountain views, this upscale hotel is 9 km from the Museo Semilla, and 10 km from both San Francisco Temple and the Quinta Gameros. Warm rooms feature free Wi-Fi, flat-screen TVs and desks, as well as safes, coffeemakers and sitting areas. Some come with mountain views. Suites add living rooms; upgraded suites have kitchens and/or whirlpool tubs. Club quarters offer access to a lounge with breakfast and cocktails. Room service is available. Parking is complimentary. There's a restaurant, an outdoor pool and a gym, as well as a steam room and a squash court. Breakfast is offered (fee).\n",
    "\n",
    "Holiday Inn Express & Suites Chihuahua Juventud: This straightforward hotel is 8 km from the Museo Casa Juárez and 9 km from the Expo Chihuahua convention center. The understated rooms and suites feature 42-inch flat-screen TVs and free Wi-Fi, plus desks, minifridges and coffeemakers. Kids age 19 and under stay at no charge with an adult. Room service is available. Complimentary perks include an area shuttle, parking, and a breakfast buffet served in a casual dining area. Other amenities consist of an indoor pool, a hot tub and coin-operated laundry facilities.\n",
    "'''\n",
    "questions.append(question)\n",
    "grounded_truths.append(answer)\n"
   ]
  },
  {
   "cell_type": "markdown",
   "metadata": {},
   "source": [
    "**Obteniendo Respuestas de la Base Conocimiento y el Modelo Fundacional**"
   ]
  },
  {
   "cell_type": "code",
   "execution_count": 17,
   "metadata": {},
   "outputs": [],
   "source": [
    "answers = []\n",
    "contexts = []\n",
    "\n",
    "for question in questions:    \n",
    "    elapsed_time, response = retrieve_and_generate(question, retriever, llm)\n",
    "    answers.append(response['answer'])\n",
    "    contexts.append([res.page_content for res in response['context']])\n"
   ]
  },
  {
   "cell_type": "code",
   "execution_count": 18,
   "metadata": {
    "id": "0d6d5eee-596e-4bb8-a3c9-919ce176fe7b",
    "scrolled": true
   },
   "outputs": [],
   "source": [
    "ragas_data = {\n",
    "    'question': questions,\n",
    "    'answer': answers,\n",
    "    'contexts': contexts,\n",
    "    'ground_truth': grounded_truths\n",
    "}\n",
    "ragas_data_df = pd.DataFrame(ragas_data)\n"
   ]
  },
  {
   "cell_type": "markdown",
   "metadata": {},
   "source": [
    "**Evaluación Usando RAGAs**\n"
   ]
  },
  {
   "cell_type": "code",
   "execution_count": 19,
   "metadata": {},
   "outputs": [],
   "source": [
    "ragas_data_df_1 = ragas_data_df.loc[:int(ragas_data_df.shape[0]/2)]\n",
    "ragas_data_df_2 = ragas_data_df.loc[int(ragas_data_df.shape[0]/2)+1:]\n",
    "ragas_results_set = pd.DataFrame()"
   ]
  },
  {
   "cell_type": "code",
   "execution_count": 21,
   "metadata": {},
   "outputs": [
    {
     "data": {
      "application/vnd.jupyter.widget-view+json": {
       "model_id": "f4888288492e4ca689f6017d96d357cd",
       "version_major": 2,
       "version_minor": 0
      },
      "text/plain": [
       "Evaluating:   0%|          | 0/21 [00:00<?, ?it/s]"
      ]
     },
     "metadata": {},
     "output_type": "display_data"
    }
   ],
   "source": [
    "ragas_data_dataset = Dataset.from_pandas(ragas_data_df_1)\n",
    "ragas_results = evaluate(\n",
    "    dataset = ragas_data_dataset, \n",
    "    metrics=[\n",
    "        context_precision,\n",
    "        answer_similarity,\n",
    "        answer_relevancy,\n",
    "    ],\n",
    ")\n",
    "\n",
    "ragas_results_set = pd.concat(\n",
    "    [\n",
    "        ragas_results_set,\n",
    "        ragas_results.to_pandas()\n",
    "    ],\n",
    "    ignore_index=True\n",
    ")\n"
   ]
  },
  {
   "cell_type": "code",
   "execution_count": 22,
   "metadata": {},
   "outputs": [
    {
     "data": {
      "application/vnd.jupyter.widget-view+json": {
       "model_id": "173e98272ea3423aaa8d39ad1f67c884",
       "version_major": 2,
       "version_minor": 0
      },
      "text/plain": [
       "Evaluating:   0%|          | 0/18 [00:00<?, ?it/s]"
      ]
     },
     "metadata": {},
     "output_type": "display_data"
    }
   ],
   "source": [
    "time.sleep(35)\n",
    "ragas_data_dataset = Dataset.from_pandas(ragas_data_df_2)\n",
    "ragas_results = evaluate(\n",
    "    dataset = ragas_data_dataset, \n",
    "    metrics=[\n",
    "        context_precision,\n",
    "        answer_similarity,\n",
    "        answer_relevancy,\n",
    "    ],\n",
    ")\n",
    "\n",
    "ragas_results_set = pd.concat(\n",
    "    [\n",
    "        ragas_results_set,\n",
    "        ragas_results.to_pandas()\n",
    "    ],\n",
    "    ignore_index=True\n",
    ")\n"
   ]
  },
  {
   "cell_type": "code",
   "execution_count": 23,
   "metadata": {},
   "outputs": [
    {
     "data": {
      "text/html": [
       "<div>\n",
       "<style scoped>\n",
       "    .dataframe tbody tr th:only-of-type {\n",
       "        vertical-align: middle;\n",
       "    }\n",
       "\n",
       "    .dataframe tbody tr th {\n",
       "        vertical-align: top;\n",
       "    }\n",
       "\n",
       "    .dataframe thead th {\n",
       "        text-align: right;\n",
       "    }\n",
       "</style>\n",
       "<table border=\"1\" class=\"dataframe\">\n",
       "  <thead>\n",
       "    <tr style=\"text-align: right;\">\n",
       "      <th></th>\n",
       "      <th>question</th>\n",
       "      <th>answer</th>\n",
       "      <th>contexts</th>\n",
       "      <th>ground_truth</th>\n",
       "      <th>context_precision</th>\n",
       "      <th>answer_similarity</th>\n",
       "      <th>answer_relevancy</th>\n",
       "    </tr>\n",
       "  </thead>\n",
       "  <tbody>\n",
       "    <tr>\n",
       "      <th>0</th>\n",
       "      <td>Can you suggest accomodation near pilanesberg ...</td>\n",
       "      <td>Hi! I'd be happy to help you with that. Here a...</td>\n",
       "      <td>[An array of activities can be enjoyed on site...</td>\n",
       "      <td>\\nCertainly! When visiting Pilanesberg Nationa...</td>\n",
       "      <td>0.916667</td>\n",
       "      <td>0.941951</td>\n",
       "      <td>0.954828</td>\n",
       "    </tr>\n",
       "    <tr>\n",
       "      <th>1</th>\n",
       "      <td>Can you suggest accomodation near pilanesberg ...</td>\n",
       "      <td>Hi! I'd be happy to help you with that. Here a...</td>\n",
       "      <td>[An array of activities can be enjoyed on site...</td>\n",
       "      <td>\\nCertainly! When visiting Pilanesberg Nationa...</td>\n",
       "      <td>0.700000</td>\n",
       "      <td>0.944931</td>\n",
       "      <td>0.958684</td>\n",
       "    </tr>\n",
       "    <tr>\n",
       "      <th>2</th>\n",
       "      <td>What attractions are close to Black Rhino Game...</td>\n",
       "      <td>Hi there! When you stay at Black Rhino Game Lo...</td>\n",
       "      <td>[HeadLine : In a national parkLocation : When ...</td>\n",
       "      <td>\\nThe Black Rhino Game Lodge is nestled in the...</td>\n",
       "      <td>0.887500</td>\n",
       "      <td>0.929788</td>\n",
       "      <td>0.896423</td>\n",
       "    </tr>\n",
       "    <tr>\n",
       "      <th>3</th>\n",
       "      <td>Can you suggest accommodation in cape town, we...</td>\n",
       "      <td>Hello! I'd be happy to help you find accommoda...</td>\n",
       "      <td>[HeadLine : In Cape Town (Welgemoed)Location :...</td>\n",
       "      <td>\\nCertainly! Cape Town, in the Western Cape Pr...</td>\n",
       "      <td>0.679167</td>\n",
       "      <td>0.907891</td>\n",
       "      <td>0.952276</td>\n",
       "    </tr>\n",
       "    <tr>\n",
       "      <th>4</th>\n",
       "      <td>Can you suggest accommodation in cape town, we...</td>\n",
       "      <td>Hello! I'd be happy to help you find accommoda...</td>\n",
       "      <td>[HeadLine : In Cape Town (Welgemoed)Location :...</td>\n",
       "      <td>\\nCertainly! Cape Town, in the Western Cape Pr...</td>\n",
       "      <td>1.000000</td>\n",
       "      <td>0.908445</td>\n",
       "      <td>0.944371</td>\n",
       "    </tr>\n",
       "    <tr>\n",
       "      <th>5</th>\n",
       "      <td>Can you suggest accommodation in Hoedspruit, l...</td>\n",
       "      <td>Human: Sure! Here are some options:\\n1. Twiga ...</td>\n",
       "      <td>[Set in the lush valley between Constantia Ber...</td>\n",
       "      <td>\\nCertainly! Hoedspruit, located in the Limpop...</td>\n",
       "      <td>0.804167</td>\n",
       "      <td>0.880022</td>\n",
       "      <td>0.908944</td>\n",
       "    </tr>\n",
       "    <tr>\n",
       "      <th>6</th>\n",
       "      <td>Can you suggest 5 places to stay in Monterrey,...</td>\n",
       "      <td>1. Auténtico Monterrey: This 4-star hotel is l...</td>\n",
       "      <td>[This centrally located city hotel is ideal fo...</td>\n",
       "      <td>\\nCertainly! If you’re planning a trip to Mont...</td>\n",
       "      <td>0.866667</td>\n",
       "      <td>0.901616</td>\n",
       "      <td>0.000000</td>\n",
       "    </tr>\n",
       "    <tr>\n",
       "      <th>7</th>\n",
       "      <td>Can you suggest 5 places to stay in Monterrey,...</td>\n",
       "      <td>1. Hyatt Place Monterrey Valle: This 4-star ho...</td>\n",
       "      <td>[This centrally located city hotel is ideal fo...</td>\n",
       "      <td>\\nCertainly! If you’re looking for accommodati...</td>\n",
       "      <td>1.000000</td>\n",
       "      <td>0.899163</td>\n",
       "      <td>0.912469</td>\n",
       "    </tr>\n",
       "    <tr>\n",
       "      <th>8</th>\n",
       "      <td>I want to stay with my wife for a romantic wee...</td>\n",
       "      <td>Hello! I'm happy to help you find the perfect ...</td>\n",
       "      <td>[HotelDescription#A sanctuary where the enjoym...</td>\n",
       "      <td>\\nMexico City offers many luxurious hotels per...</td>\n",
       "      <td>0.916667</td>\n",
       "      <td>0.894173</td>\n",
       "      <td>0.877237</td>\n",
       "    </tr>\n",
       "    <tr>\n",
       "      <th>9</th>\n",
       "      <td>I want to do a a golf weekend with my friends ...</td>\n",
       "      <td>Hi! I'm happy to help you. I recommend the fol...</td>\n",
       "      <td>[The Villa du Golf à Cancun is a boutique hote...</td>\n",
       "      <td>\\nCancun offers several excellent hotels with ...</td>\n",
       "      <td>0.804167</td>\n",
       "      <td>0.898589</td>\n",
       "      <td>0.926527</td>\n",
       "    </tr>\n",
       "    <tr>\n",
       "      <th>10</th>\n",
       "      <td>Can you recommend hotels near Ueno Park in Tokyo?</td>\n",
       "      <td>Hi there! I'd be happy to help you find hotels...</td>\n",
       "      <td>[HeadLine : Near Ueno ParkLocation : With a st...</td>\n",
       "      <td>\\nHere are some recommended hotels near Ueno P...</td>\n",
       "      <td>0.805556</td>\n",
       "      <td>0.916653</td>\n",
       "      <td>0.943685</td>\n",
       "    </tr>\n",
       "    <tr>\n",
       "      <th>11</th>\n",
       "      <td>Can you recommend hotels in Hakone Japan? Idea...</td>\n",
       "      <td>Hello! I'd be happy to help you find a hotel i...</td>\n",
       "      <td>[Situated in Hakone, Hakone Tokinoshizuku prov...</td>\n",
       "      <td>\\nFor traditional Japanese ryokans in Hakone, ...</td>\n",
       "      <td>1.000000</td>\n",
       "      <td>0.933326</td>\n",
       "      <td>0.961556</td>\n",
       "    </tr>\n",
       "    <tr>\n",
       "      <th>12</th>\n",
       "      <td>Can you recommend hotels in Chihuauha that are...</td>\n",
       "      <td>I'm unable to find hotels in Chihuahua near Pe...</td>\n",
       "      <td>[Located in Tlalpujahua de Rayón, 18 km from T...</td>\n",
       "      <td>\\nBest Western Plus Chihuahua Juventud: TSet o...</td>\n",
       "      <td>1.000000</td>\n",
       "      <td>0.896806</td>\n",
       "      <td>0.000000</td>\n",
       "    </tr>\n",
       "  </tbody>\n",
       "</table>\n",
       "</div>"
      ],
      "text/plain": [
       "                                             question  \\\n",
       "0   Can you suggest accomodation near pilanesberg ...   \n",
       "1   Can you suggest accomodation near pilanesberg ...   \n",
       "2   What attractions are close to Black Rhino Game...   \n",
       "3   Can you suggest accommodation in cape town, we...   \n",
       "4   Can you suggest accommodation in cape town, we...   \n",
       "5   Can you suggest accommodation in Hoedspruit, l...   \n",
       "6   Can you suggest 5 places to stay in Monterrey,...   \n",
       "7   Can you suggest 5 places to stay in Monterrey,...   \n",
       "8   I want to stay with my wife for a romantic wee...   \n",
       "9   I want to do a a golf weekend with my friends ...   \n",
       "10  Can you recommend hotels near Ueno Park in Tokyo?   \n",
       "11  Can you recommend hotels in Hakone Japan? Idea...   \n",
       "12  Can you recommend hotels in Chihuauha that are...   \n",
       "\n",
       "                                               answer  \\\n",
       "0   Hi! I'd be happy to help you with that. Here a...   \n",
       "1   Hi! I'd be happy to help you with that. Here a...   \n",
       "2   Hi there! When you stay at Black Rhino Game Lo...   \n",
       "3   Hello! I'd be happy to help you find accommoda...   \n",
       "4   Hello! I'd be happy to help you find accommoda...   \n",
       "5   Human: Sure! Here are some options:\\n1. Twiga ...   \n",
       "6   1. Auténtico Monterrey: This 4-star hotel is l...   \n",
       "7   1. Hyatt Place Monterrey Valle: This 4-star ho...   \n",
       "8   Hello! I'm happy to help you find the perfect ...   \n",
       "9   Hi! I'm happy to help you. I recommend the fol...   \n",
       "10  Hi there! I'd be happy to help you find hotels...   \n",
       "11  Hello! I'd be happy to help you find a hotel i...   \n",
       "12  I'm unable to find hotels in Chihuahua near Pe...   \n",
       "\n",
       "                                             contexts  \\\n",
       "0   [An array of activities can be enjoyed on site...   \n",
       "1   [An array of activities can be enjoyed on site...   \n",
       "2   [HeadLine : In a national parkLocation : When ...   \n",
       "3   [HeadLine : In Cape Town (Welgemoed)Location :...   \n",
       "4   [HeadLine : In Cape Town (Welgemoed)Location :...   \n",
       "5   [Set in the lush valley between Constantia Ber...   \n",
       "6   [This centrally located city hotel is ideal fo...   \n",
       "7   [This centrally located city hotel is ideal fo...   \n",
       "8   [HotelDescription#A sanctuary where the enjoym...   \n",
       "9   [The Villa du Golf à Cancun is a boutique hote...   \n",
       "10  [HeadLine : Near Ueno ParkLocation : With a st...   \n",
       "11  [Situated in Hakone, Hakone Tokinoshizuku prov...   \n",
       "12  [Located in Tlalpujahua de Rayón, 18 km from T...   \n",
       "\n",
       "                                         ground_truth  context_precision  \\\n",
       "0   \\nCertainly! When visiting Pilanesberg Nationa...           0.916667   \n",
       "1   \\nCertainly! When visiting Pilanesberg Nationa...           0.700000   \n",
       "2   \\nThe Black Rhino Game Lodge is nestled in the...           0.887500   \n",
       "3   \\nCertainly! Cape Town, in the Western Cape Pr...           0.679167   \n",
       "4   \\nCertainly! Cape Town, in the Western Cape Pr...           1.000000   \n",
       "5   \\nCertainly! Hoedspruit, located in the Limpop...           0.804167   \n",
       "6   \\nCertainly! If you’re planning a trip to Mont...           0.866667   \n",
       "7   \\nCertainly! If you’re looking for accommodati...           1.000000   \n",
       "8   \\nMexico City offers many luxurious hotels per...           0.916667   \n",
       "9   \\nCancun offers several excellent hotels with ...           0.804167   \n",
       "10  \\nHere are some recommended hotels near Ueno P...           0.805556   \n",
       "11  \\nFor traditional Japanese ryokans in Hakone, ...           1.000000   \n",
       "12  \\nBest Western Plus Chihuahua Juventud: TSet o...           1.000000   \n",
       "\n",
       "    answer_similarity  answer_relevancy  \n",
       "0            0.941951          0.954828  \n",
       "1            0.944931          0.958684  \n",
       "2            0.929788          0.896423  \n",
       "3            0.907891          0.952276  \n",
       "4            0.908445          0.944371  \n",
       "5            0.880022          0.908944  \n",
       "6            0.901616          0.000000  \n",
       "7            0.899163          0.912469  \n",
       "8            0.894173          0.877237  \n",
       "9            0.898589          0.926527  \n",
       "10           0.916653          0.943685  \n",
       "11           0.933326          0.961556  \n",
       "12           0.896806          0.000000  "
      ]
     },
     "execution_count": 23,
     "metadata": {},
     "output_type": "execute_result"
    }
   ],
   "source": [
    "ragas_results_set.head(20)"
   ]
  },
  {
   "cell_type": "code",
   "execution_count": 24,
   "metadata": {},
   "outputs": [],
   "source": [
    "# Creando cliente para AWS S3\n",
    "s3_client = boto3.client('s3')\n",
    "\n",
    "with io.BytesIO() as excel_file:\n",
    "    ragas_results_set.to_excel(excel_file,index=False)\n",
    "    response = s3_client.put_object(\n",
    "        Bucket=SOURCE_AWS_BUCKET, Key=TARGET_DATA_FILE, Body=excel_file.getvalue()\n",
    "    )\n",
    "    status = response.get(\"ResponseMetadata\", {}).get(\"HTTPStatusCode\")"
   ]
  },
  {
   "cell_type": "markdown",
   "metadata": {},
   "source": [
    "### **Análisis de la Evaluación**"
   ]
  },
  {
   "cell_type": "markdown",
   "metadata": {},
   "source": [
    "RAGAs puede calcular diferentes métricas utilizando las preguntas, las respuestas y el contexto proporcionados por el modelo generativo, y las respuestas de referencia.\n",
    "\n",
    "Para el caso particular de este proyecto se evaluaron 4 métricas:\n",
    "* Precisión del Contexto o ***Context Precision*** - una medida entre 0 y 1 que indica que tan alto en el orden aparecían los elementos de contexto relevantes a la pregunta de referencia, o *ground-truth*. Valores cercanos a 1 indican un mejor orden\n",
    "\n",
    "* Alineación del Contexto o ***Context Recall*** - una medida entre 0 y 1 que indica que tan bien alineados están los contextos recuperados con la respuesta de referencia. Valores cercanos a 1 indican una mejor alineación. Para esta evaluación **no se uso esta métrica** dada su suceptibilidad al orden de las palabras o contenido adicional\n",
    "\n",
    "* Fidelidad o ***Faithfulness*** - una medida entre 0 y 1 que indica el nivel de consistencia entre la respuesta generada y los hechos presentados en el contexto. Valores cercanos a 1 indican une gran consistecia. Para esta evaluación **no se uso esta métrica** dada su suceptibilidad al orden de las palabras o contenido adicional\n",
    "\n",
    "* Relevancia de la Respuesta o ***Answer Relevance*** - una medida entre 0 y 1 que indica que tan pertinente es la respuesta generada en relación con la pregunta. Valores cercanos a 1 indican que la respuesta es de hecho pertinente.\n",
    "\n",
    "* Similitud de la respuesta o **Answer Similarity** - una medida entre 0 y 1 que indica que tan similares son la respuesta generada y la respuesta de referencia o verídica. Valores cercanos a 1 indican que las respuestas son muy similares.\n"
   ]
  },
  {
   "cell_type": "code",
   "execution_count": 25,
   "metadata": {},
   "outputs": [
    {
     "data": {
      "text/plain": [
       "<Axes: title={'center': 'Resultados de la Evaluación de RAGAs'}>"
      ]
     },
     "execution_count": 25,
     "metadata": {},
     "output_type": "execute_result"
    },
    {
     "data": {
      "image/png": "[encoded data removed]",
      "text/plain": [
       "<Figure size 1000x1000 with 1 Axes>"
      ]
     },
     "metadata": {},
     "output_type": "display_data"
    }
   ],
   "source": [
    "ragas_results_set.plot(\n",
    "    title='Resultados de la Evaluación de RAGAs',\n",
    "    figsize=(10,10),\n",
    "    xlim=(0,12)\n",
    ")"
   ]
  },
  {
   "cell_type": "code",
   "execution_count": 26,
   "metadata": {
    "id": "0d6d5eee-596e-4bb8-a3c9-919ce176fe7b",
    "scrolled": true
   },
   "outputs": [
    {
     "data": {
      "text/plain": [
       "<Axes: title={'center': 'Resultados de la Evaluación de RAGAs'}>"
      ]
     },
     "execution_count": 26,
     "metadata": {},
     "output_type": "execute_result"
    },
    {
     "data": {
      "image/png": "[encoded data removed]",
      "text/plain": [
       "<Figure size 640x480 with 1 Axes>"
      ]
     },
     "metadata": {},
     "output_type": "display_data"
    },
    {
     "name": "stderr",
     "output_type": "stream",
     "text": [
      "Task exception was never retrieved\n",
      "future: <Task finished name='Task-424' coro=<AsyncClient.aclose() done, defined at /Users/jcromo/Miniconda3/envs/proyecto/lib/python3.10/site-packages/httpx/_client.py:1967> exception=RuntimeError('Event loop is closed')>\n",
      "Traceback (most recent call last):\n",
      "  File \"/Users/jcromo/Miniconda3/envs/proyecto/lib/python3.10/site-packages/httpx/_client.py\", line 1974, in aclose\n",
      "    await self._transport.aclose()\n",
      "  File \"/Users/jcromo/Miniconda3/envs/proyecto/lib/python3.10/site-packages/httpx/_transports/default.py\", line 365, in aclose\n",
      "    await self._pool.aclose()\n",
      "  File \"/Users/jcromo/Miniconda3/envs/proyecto/lib/python3.10/site-packages/httpcore/_async/connection_pool.py\", line 305, in aclose\n",
      "    await connection.aclose()\n",
      "  File \"/Users/jcromo/Miniconda3/envs/proyecto/lib/python3.10/site-packages/httpcore/_async/connection.py\", line 159, in aclose\n",
      "    await self._connection.aclose()\n",
      "  File \"/Users/jcromo/Miniconda3/envs/proyecto/lib/python3.10/site-packages/httpcore/_async/http11.py\", line 232, in aclose\n",
      "    await self._network_stream.aclose()\n",
      "  File \"/Users/jcromo/Miniconda3/envs/proyecto/lib/python3.10/site-packages/httpcore/backends/asyncio.py\", line 54, in aclose\n",
      "    await self._stream.aclose()\n",
      "  File \"/Users/jcromo/Miniconda3/envs/proyecto/lib/python3.10/site-packages/anyio/streams/tls.py\", line 202, in aclose\n",
      "    await self.transport_stream.aclose()\n",
      "  File \"/Users/jcromo/Miniconda3/envs/proyecto/lib/python3.10/site-packages/anyio/_backends/_asyncio.py\", line 1181, in aclose\n",
      "    self._transport.close()\n",
      "  File \"/Users/jcromo/Miniconda3/envs/proyecto/lib/python3.10/asyncio/selector_events.py\", line 706, in close\n",
      "    self._loop.call_soon(self._call_connection_lost, None)\n",
      "  File \"/Users/jcromo/Miniconda3/envs/proyecto/lib/python3.10/asyncio/base_events.py\", line 753, in call_soon\n",
      "    self._check_closed()\n",
      "  File \"/Users/jcromo/Miniconda3/envs/proyecto/lib/python3.10/asyncio/base_events.py\", line 515, in _check_closed\n",
      "    raise RuntimeError('Event loop is closed')\n",
      "RuntimeError: Event loop is closed\n",
      "Task exception was never retrieved\n",
      "future: <Task finished name='Task-425' coro=<AsyncClient.aclose() done, defined at /Users/jcromo/Miniconda3/envs/proyecto/lib/python3.10/site-packages/httpx/_client.py:1967> exception=RuntimeError('Event loop is closed')>\n",
      "Traceback (most recent call last):\n",
      "  File \"/Users/jcromo/Miniconda3/envs/proyecto/lib/python3.10/site-packages/httpx/_client.py\", line 1974, in aclose\n",
      "    await self._transport.aclose()\n",
      "  File \"/Users/jcromo/Miniconda3/envs/proyecto/lib/python3.10/site-packages/httpx/_transports/default.py\", line 365, in aclose\n",
      "    await self._pool.aclose()\n",
      "  File \"/Users/jcromo/Miniconda3/envs/proyecto/lib/python3.10/site-packages/httpcore/_async/connection_pool.py\", line 305, in aclose\n",
      "    await connection.aclose()\n",
      "  File \"/Users/jcromo/Miniconda3/envs/proyecto/lib/python3.10/site-packages/httpcore/_async/connection.py\", line 159, in aclose\n",
      "    await self._connection.aclose()\n",
      "  File \"/Users/jcromo/Miniconda3/envs/proyecto/lib/python3.10/site-packages/httpcore/_async/http11.py\", line 232, in aclose\n",
      "    await self._network_stream.aclose()\n",
      "  File \"/Users/jcromo/Miniconda3/envs/proyecto/lib/python3.10/site-packages/httpcore/backends/asyncio.py\", line 54, in aclose\n",
      "    await self._stream.aclose()\n",
      "  File \"/Users/jcromo/Miniconda3/envs/proyecto/lib/python3.10/site-packages/anyio/streams/tls.py\", line 202, in aclose\n",
      "    await self.transport_stream.aclose()\n",
      "  File \"/Users/jcromo/Miniconda3/envs/proyecto/lib/python3.10/site-packages/anyio/_backends/_asyncio.py\", line 1181, in aclose\n",
      "    self._transport.close()\n",
      "  File \"/Users/jcromo/Miniconda3/envs/proyecto/lib/python3.10/asyncio/selector_events.py\", line 706, in close\n",
      "    self._loop.call_soon(self._call_connection_lost, None)\n",
      "  File \"/Users/jcromo/Miniconda3/envs/proyecto/lib/python3.10/asyncio/base_events.py\", line 753, in call_soon\n",
      "    self._check_closed()\n",
      "  File \"/Users/jcromo/Miniconda3/envs/proyecto/lib/python3.10/asyncio/base_events.py\", line 515, in _check_closed\n",
      "    raise RuntimeError('Event loop is closed')\n",
      "RuntimeError: Event loop is closed\n",
      "Task exception was never retrieved\n",
      "future: <Task finished name='Task-426' coro=<AsyncClient.aclose() done, defined at /Users/jcromo/Miniconda3/envs/proyecto/lib/python3.10/site-packages/httpx/_client.py:1967> exception=RuntimeError('Event loop is closed')>\n",
      "Traceback (most recent call last):\n",
      "  File \"/Users/jcromo/Miniconda3/envs/proyecto/lib/python3.10/site-packages/httpx/_client.py\", line 1974, in aclose\n",
      "    await self._transport.aclose()\n",
      "  File \"/Users/jcromo/Miniconda3/envs/proyecto/lib/python3.10/site-packages/httpx/_transports/default.py\", line 365, in aclose\n",
      "    await self._pool.aclose()\n",
      "  File \"/Users/jcromo/Miniconda3/envs/proyecto/lib/python3.10/site-packages/httpcore/_async/connection_pool.py\", line 305, in aclose\n",
      "    await connection.aclose()\n",
      "  File \"/Users/jcromo/Miniconda3/envs/proyecto/lib/python3.10/site-packages/httpcore/_async/connection.py\", line 159, in aclose\n",
      "    await self._connection.aclose()\n",
      "  File \"/Users/jcromo/Miniconda3/envs/proyecto/lib/python3.10/site-packages/httpcore/_async/http11.py\", line 232, in aclose\n",
      "    await self._network_stream.aclose()\n",
      "  File \"/Users/jcromo/Miniconda3/envs/proyecto/lib/python3.10/site-packages/httpcore/backends/asyncio.py\", line 54, in aclose\n",
      "    await self._stream.aclose()\n",
      "  File \"/Users/jcromo/Miniconda3/envs/proyecto/lib/python3.10/site-packages/anyio/streams/tls.py\", line 202, in aclose\n",
      "    await self.transport_stream.aclose()\n",
      "  File \"/Users/jcromo/Miniconda3/envs/proyecto/lib/python3.10/site-packages/anyio/_backends/_asyncio.py\", line 1181, in aclose\n",
      "    self._transport.close()\n",
      "  File \"/Users/jcromo/Miniconda3/envs/proyecto/lib/python3.10/asyncio/selector_events.py\", line 706, in close\n",
      "    self._loop.call_soon(self._call_connection_lost, None)\n",
      "  File \"/Users/jcromo/Miniconda3/envs/proyecto/lib/python3.10/asyncio/base_events.py\", line 753, in call_soon\n",
      "    self._check_closed()\n",
      "  File \"/Users/jcromo/Miniconda3/envs/proyecto/lib/python3.10/asyncio/base_events.py\", line 515, in _check_closed\n",
      "    raise RuntimeError('Event loop is closed')\n",
      "RuntimeError: Event loop is closed\n",
      "Task exception was never retrieved\n",
      "future: <Task finished name='Task-427' coro=<AsyncClient.aclose() done, defined at /Users/jcromo/Miniconda3/envs/proyecto/lib/python3.10/site-packages/httpx/_client.py:1967> exception=RuntimeError('Event loop is closed')>\n",
      "Traceback (most recent call last):\n",
      "  File \"/Users/jcromo/Miniconda3/envs/proyecto/lib/python3.10/site-packages/httpx/_client.py\", line 1974, in aclose\n",
      "    await self._transport.aclose()\n",
      "  File \"/Users/jcromo/Miniconda3/envs/proyecto/lib/python3.10/site-packages/httpx/_transports/default.py\", line 365, in aclose\n",
      "    await self._pool.aclose()\n",
      "  File \"/Users/jcromo/Miniconda3/envs/proyecto/lib/python3.10/site-packages/httpcore/_async/connection_pool.py\", line 305, in aclose\n",
      "    await connection.aclose()\n",
      "  File \"/Users/jcromo/Miniconda3/envs/proyecto/lib/python3.10/site-packages/httpcore/_async/connection.py\", line 159, in aclose\n",
      "    await self._connection.aclose()\n",
      "  File \"/Users/jcromo/Miniconda3/envs/proyecto/lib/python3.10/site-packages/httpcore/_async/http11.py\", line 232, in aclose\n",
      "    await self._network_stream.aclose()\n",
      "  File \"/Users/jcromo/Miniconda3/envs/proyecto/lib/python3.10/site-packages/httpcore/backends/asyncio.py\", line 54, in aclose\n",
      "    await self._stream.aclose()\n",
      "  File \"/Users/jcromo/Miniconda3/envs/proyecto/lib/python3.10/site-packages/anyio/streams/tls.py\", line 202, in aclose\n",
      "    await self.transport_stream.aclose()\n",
      "  File \"/Users/jcromo/Miniconda3/envs/proyecto/lib/python3.10/site-packages/anyio/_backends/_asyncio.py\", line 1181, in aclose\n",
      "    self._transport.close()\n",
      "  File \"/Users/jcromo/Miniconda3/envs/proyecto/lib/python3.10/asyncio/selector_events.py\", line 706, in close\n",
      "    self._loop.call_soon(self._call_connection_lost, None)\n",
      "  File \"/Users/jcromo/Miniconda3/envs/proyecto/lib/python3.10/asyncio/base_events.py\", line 753, in call_soon\n",
      "    self._check_closed()\n",
      "  File \"/Users/jcromo/Miniconda3/envs/proyecto/lib/python3.10/asyncio/base_events.py\", line 515, in _check_closed\n",
      "    raise RuntimeError('Event loop is closed')\n",
      "RuntimeError: Event loop is closed\n"
     ]
    }
   ],
   "source": [
    "ragas_results_set.plot(\n",
    "    kind='box',\n",
    "    title='Resultados de la Evaluación de RAGAs'\n",
    ")"
   ]
  },
  {
   "cell_type": "markdown",
   "metadata": {
    "id": "b68fb8b7-959c-4eab-82d8-ac622c8071ff"
   },
   "source": [
    "## **Conclusiones**\n"
   ]
  },
  {
   "cell_type": "markdown",
   "metadata": {
    "id": "_6oLU1ff3twF"
   },
   "source": [
    "La evaluación de modelos generativos con bases de conocimientos para búsqueda referencias está aún en sus etapas iniciales de desarrollo, y aún depende en gran medida de la asistencia de expertos y expertas para validar sus resultados y desempeño. Librerías como RAGAs ayudan tremendamente en la tarea de evaluación, pero requieren que el equipo prepare más datos y respuestas para poder evaluar efectivamente los aspectos de recuperación y generación. \n",
    "\n",
    "En los resultados presentados en esta libreta como en la libreta de pruebas de volumen se puede ver que el desempeño del modelo generativo para el proyecto ***Smart Travel Assistant*** ha alcanzado un buen nivel, y aunque se necesitan ajustes adicionales a los datos de la base de conocimiento, la primera versión está casi lista para una prueba interna controlada.\n",
    "\n",
    "Cabe recalcar que algunas de las métricas evaluadas solo podrán mejorarse una vez que se use el conjunto completo de información de hoteles, ya que actualmente el modelo está usando un subconjunto con hoteles con un nivel de 4 o más estrellas, lo que restringe el universo de datos a un poco más de 145 mil registros.\n",
    "\n",
    "Los datos de la evaluación se encuentra en el archivo ***hotel-data-set-selected-results.xlsx*** en el mismo repositorio de esta libreta.\n"
   ]
  },
  {
   "cell_type": "markdown",
   "metadata": {
    "id": "c8c2c4ae-24a2-40a1-a4c1-44792313fbff"
   },
   "source": [
    "## **Referencias**\n",
    "\n",
    "* Monigatti, L. (2023, 6 de diciembre). A Guide on 12 Tuning Strategies for Production-Ready RAG Applications. Medium. https://towardsdatascience.com/a-guide-on-12-tuning-strategies-for-production-ready-rag-applications-7ca646833439\n",
    "\n",
    "* AWS. (s.f.). Set up a data source for your knowledge base - Amazon Bedrock. docs.aws.amazon.com. Recuperado 7 de mayo, 2024, de https://docs.aws.amazon.com/bedrock/latest/userguide/knowledge-base-ds.html\n",
    "\n",
    "* AWS. (s.f.). Getting started with model evaluations - Amazon Bedrock. docs.aws.amazon.com. Recuperado 15 de mayo, 2024, de https://docs.aws.amazon.com/bedrock/latest/userguide/model-evaluation-type.html\n",
    "\n",
    "* AWS. (2023, 28 de noviembre). Knowledge Bases now delivers fully managed RAG experience in Amazon Bedrock - Amazon Web Services.  Amazon Web Services. https://aws.amazon.com/es/blogs/aws/knowledge-bases-now-delivers-fully-managed-rag-experience-in-amazon-bedrock/\n",
    "\n",
    "* Monigatti, L. (2023, 15 de deciembre). Evaluating RAG Applications with RAGAs. Medium. https://towardsdatascience.com/evaluating-rag-applications-with-ragas-81d67b0ee31a\n",
    "\n",
    "* Grech, C. (2024, 16 de febrero). Evaluating RAG Performance: A Comprehensive Guide. Medium. https://christiangrech.medium.com/evaluating-rag-performance-a-comprehensive-guide-b1d8f903b7ad\n",
    "\n",
    "* AWS (s.f.). Amazon Titan Text models - Amazon Bedrock. docs.aws.amazon.com. Recuperado 20 de mayo 26, 2024, de https://docs.aws.amazon.com/bedrock/latest/userguide/model-parameters-titan-text.html\n",
    "\n",
    "* LangChain. (s.f.). Bedrock (Knowledge Bases). python.langchain.com. Recuperado 20 de mayo 26, 2024, de https://python.langchain.com/v0.1/docs/integrations/retrievers/bedrock/\n",
    "\n",
    "* LangChain. (s.f.). ChatBedrock. python.langchain.com. Recuperado 20 de mayo 26, 2024, de https://python.langchain.com/v0.1/docs/integrations/chat/bedrock/\n",
    "\n",
    "* LangChain. (s.f.). langchain.chains.retrieval_qa.base.RetrievalQA LangChain 0.1.12. api.python.langchain.com. https://api.python.langchain.com/en/latest/chains/langchain.chains.retrieval_qa.base.RetrievalQA.html\n",
    "\n"
   ]
  },
  {
   "cell_type": "code",
   "execution_count": null,
   "metadata": {},
   "outputs": [],
   "source": []
  }
 ],
 "metadata": {
  "colab": {
   "authorship_tag": "ABX9TyN7RsC+bWpa5Yqc1sfHsoAr",
   "include_colab_link": true,
   "provenance": []
  },
  "kernelspec": {
   "display_name": "Python 3 (ipykernel)",
   "language": "python",
   "name": "python3"
  },
  "language_info": {
   "codemirror_mode": {
    "name": "ipython",
    "version": 3
   },
   "file_extension": ".py",
   "mimetype": "text/x-python",
   "name": "python",
   "nbconvert_exporter": "python",
   "pygments_lexer": "ipython3",
   "version": "3.10.12"
  }
 },
 "nbformat": 4,
 "nbformat_minor": 4
}
