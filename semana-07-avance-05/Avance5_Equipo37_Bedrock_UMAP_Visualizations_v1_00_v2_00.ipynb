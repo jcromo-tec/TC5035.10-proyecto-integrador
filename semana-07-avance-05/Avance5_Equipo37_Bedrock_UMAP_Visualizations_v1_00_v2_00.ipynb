{
 "cells": [
  {
   "cell_type": "markdown",
   "metadata": {
    "id": "HMQEY1ttU_w-"
   },
   "source": [
    "![logo-tec-de-monterrey-.png](data:image/png;base64,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)"
   ]
  },
  {
   "cell_type": "markdown",
   "metadata": {
    "id": "b3d0b781-0da5-4c6a-a76a-c6c0837bae05"
   },
   "source": [
    "## Proyecto Integrador\n",
    "## Smart Travel Assistant: Optimizando la Experiencia de Viaje con IA\n",
    "## Avance 4"
   ]
  },
  {
   "cell_type": "markdown",
   "metadata": {
    "id": "18dd3d13-d70f-4c28-894b-159fb9f0f7f6"
   },
   "source": [
    "### Equipo 37\n",
    "##### A00759664 - Joel Orlando Hernández Ramos\n",
    "##### A01793486 - Juan Carlos Alvarado Carricarte\n",
    "##### A00260430 - Juan Carlos Romo Cárdenas\n"
   ]
  },
  {
   "cell_type": "markdown",
   "metadata": {
    "id": "wiPf8lTteLm1"
   },
   "source": [
    "## **Descripción del Proyecto**"
   ]
  },
  {
   "cell_type": "markdown",
   "metadata": {
    "id": "XqZeUJCEefQ3"
   },
   "source": [
    "Este proyecto se propone desarrollar un asistente de inteligencia artificial integrado en una plataforma de traveltech, que facilita la elección personalizada de hoteles y destinos para los usuarios. Utilizando la función \"knowledge base\" de Amazon Bedrock, el sistema integrará una extensa base de datos con información detallada sobre más de 2 millones de hoteles. Para este efecto  \n",
    "\n",
    "El objetivo principal de este proyecto es transformar la experiencia de planificación de viajes, haciendo que sea más intuitiva, personalizada y respaldada por datos. Las metas específicas incluyen mejorar la satisfacción del cliente mediante recomendaciones precisas y personalizadas, reducir el tiempo necesario para planificar un viaje y aumentar la eficiencia del proceso de selección de destinos y hoteles.\n",
    "\n",
    "El asistente empleará modelos avanzados de sistemas de recomendación, potenciados por un modelo de lenguaje de aprendizaje profundo (LLM), para sugerir itinerarios personalizados y ofrecer asistencia general en la planificación de viajes. Las recomendaciones incluirán referencias detalladas a los hoteles disponibles en nuestra base de datos, asegurando que los usuarios reciban opciones que no solo se ajustan a sus preferencias personales, sino que también maximizan la calidad y la relevancia de la información proporcionada."
   ]
  },
  {
   "cell_type": "markdown",
   "metadata": {},
   "source": [
    "## **Configuración la Base de Conocimiento y el Modelo Fundacional**"
   ]
  },
  {
   "cell_type": "markdown",
   "metadata": {},
   "source": [
    "<img src=\"./Proyecto Integrador - RAG con Bedrock-Smart Travel Assistant KB v2.00 LangChain.drawio.png\" alt=\"RAG Bedrock KB V1.00\" />"
   ]
  },
  {
   "cell_type": "markdown",
   "metadata": {},
   "source": [
    "Para crear el modelo de referencia para este proyecto se creo una base de datos de conocimientos en **AWS Bedrock**. El proceso es el siguiente:\n",
    "1. Crear la base de conocimientos, o **Knowledge Base**. Para este proyecto la base de conocimiento se llama *Volindo-hotels* y se usa una base de datos de vectores de **Pinecone**\n",
    "> * La fuente de conocimiento incluye más de 160 mil pares de archivos de texto y JSON con los datos de más de 145,000 hoteles. Cada par de archivos representa un hotel.\n",
    "2. Cargar los datos en un Bucket de S3, llamado *hotel-clean-data*\n",
    "3. Asociar el Bucket de S3 como una fuente de información para la base de conocimiento\n",
    "4. Sincronizar (cargar) los datos de la fuente de información\n",
    "\n",
    "Una vez cargado la base de conocimiento se puede probar usando la consola de AWS Bedrock o a través de APIs, tal y como se hará a continuación."
   ]
  },
  {
   "cell_type": "markdown",
   "metadata": {},
   "source": [
    "## **Probando la Base de Conocimiento y el Modelo Fundacional**"
   ]
  },
  {
   "cell_type": "markdown",
   "metadata": {
    "id": "b8af6127-cc07-4a20-8fea-57ed0d56a355"
   },
   "source": [
    "### **Preparando el Ambiente de Ejecución**\n",
    "\n",
    "Es necesario importar las librerías necesarias para iniciar una sesión de AWS y para registrar una bitácora de ejecución."
   ]
  },
  {
   "cell_type": "code",
   "execution_count": 1,
   "metadata": {},
   "outputs": [
    {
     "name": "stdout",
     "output_type": "stream",
     "text": [
      "Requirement already satisfied: langchain in /Users/jcromo/Miniconda3/envs/proyecto/lib/python3.10/site-packages (0.2.0)\n",
      "Requirement already satisfied: PyYAML>=5.3 in /Users/jcromo/Miniconda3/envs/proyecto/lib/python3.10/site-packages (from langchain) (6.0.1)\n",
      "Requirement already satisfied: SQLAlchemy<3,>=1.4 in /Users/jcromo/Miniconda3/envs/proyecto/lib/python3.10/site-packages (from langchain) (2.0.30)\n",
      "Requirement already satisfied: aiohttp<4.0.0,>=3.8.3 in /Users/jcromo/Miniconda3/envs/proyecto/lib/python3.10/site-packages (from langchain) (3.9.5)\n",
      "Requirement already satisfied: async-timeout<5.0.0,>=4.0.0 in /Users/jcromo/Miniconda3/envs/proyecto/lib/python3.10/site-packages (from langchain) (4.0.3)\n",
      "Requirement already satisfied: dataclasses-json<0.7,>=0.5.7 in /Users/jcromo/Miniconda3/envs/proyecto/lib/python3.10/site-packages (from langchain) (0.6.6)\n",
      "Requirement already satisfied: langchain-core<0.3.0,>=0.2.0 in /Users/jcromo/Miniconda3/envs/proyecto/lib/python3.10/site-packages (from langchain) (0.2.0)\n",
      "Requirement already satisfied: langchain-text-splitters<0.3.0,>=0.2.0 in /Users/jcromo/Miniconda3/envs/proyecto/lib/python3.10/site-packages (from langchain) (0.2.0)\n",
      "Requirement already satisfied: langsmith<0.2.0,>=0.1.17 in /Users/jcromo/Miniconda3/envs/proyecto/lib/python3.10/site-packages (from langchain) (0.1.63)\n",
      "Requirement already satisfied: numpy<2,>=1 in /Users/jcromo/Miniconda3/envs/proyecto/lib/python3.10/site-packages (from langchain) (1.24.4)\n",
      "Requirement already satisfied: pydantic<3,>=1 in /Users/jcromo/Miniconda3/envs/proyecto/lib/python3.10/site-packages (from langchain) (2.7.1)\n",
      "Requirement already satisfied: requests<3,>=2 in /Users/jcromo/Miniconda3/envs/proyecto/lib/python3.10/site-packages (from langchain) (2.31.0)\n",
      "Requirement already satisfied: tenacity<9.0.0,>=8.1.0 in /Users/jcromo/Miniconda3/envs/proyecto/lib/python3.10/site-packages (from langchain) (8.3.0)\n",
      "Requirement already satisfied: aiosignal>=1.1.2 in /Users/jcromo/Miniconda3/envs/proyecto/lib/python3.10/site-packages (from aiohttp<4.0.0,>=3.8.3->langchain) (1.3.1)\n",
      "Requirement already satisfied: attrs>=17.3.0 in /Users/jcromo/Miniconda3/envs/proyecto/lib/python3.10/site-packages (from aiohttp<4.0.0,>=3.8.3->langchain) (23.1.0)\n",
      "Requirement already satisfied: frozenlist>=1.1.1 in /Users/jcromo/Miniconda3/envs/proyecto/lib/python3.10/site-packages (from aiohttp<4.0.0,>=3.8.3->langchain) (1.4.1)\n",
      "Requirement already satisfied: multidict<7.0,>=4.5 in /Users/jcromo/Miniconda3/envs/proyecto/lib/python3.10/site-packages (from aiohttp<4.0.0,>=3.8.3->langchain) (6.0.5)\n",
      "Requirement already satisfied: yarl<2.0,>=1.0 in /Users/jcromo/Miniconda3/envs/proyecto/lib/python3.10/site-packages (from aiohttp<4.0.0,>=3.8.3->langchain) (1.9.4)\n",
      "Requirement already satisfied: marshmallow<4.0.0,>=3.18.0 in /Users/jcromo/Miniconda3/envs/proyecto/lib/python3.10/site-packages (from dataclasses-json<0.7,>=0.5.7->langchain) (3.21.2)\n",
      "Requirement already satisfied: typing-inspect<1,>=0.4.0 in /Users/jcromo/Miniconda3/envs/proyecto/lib/python3.10/site-packages (from dataclasses-json<0.7,>=0.5.7->langchain) (0.9.0)\n",
      "Requirement already satisfied: jsonpatch<2.0,>=1.33 in /Users/jcromo/Miniconda3/envs/proyecto/lib/python3.10/site-packages (from langchain-core<0.3.0,>=0.2.0->langchain) (1.33)\n",
      "Requirement already satisfied: packaging<24.0,>=23.2 in /Users/jcromo/Miniconda3/envs/proyecto/lib/python3.10/site-packages (from langchain-core<0.3.0,>=0.2.0->langchain) (23.2)\n",
      "Requirement already satisfied: orjson<4.0.0,>=3.9.14 in /Users/jcromo/Miniconda3/envs/proyecto/lib/python3.10/site-packages (from langsmith<0.2.0,>=0.1.17->langchain) (3.10.3)\n",
      "Requirement already satisfied: annotated-types>=0.4.0 in /Users/jcromo/Miniconda3/envs/proyecto/lib/python3.10/site-packages (from pydantic<3,>=1->langchain) (0.7.0)\n",
      "Requirement already satisfied: pydantic-core==2.18.2 in /Users/jcromo/Miniconda3/envs/proyecto/lib/python3.10/site-packages (from pydantic<3,>=1->langchain) (2.18.2)\n",
      "Requirement already satisfied: typing-extensions>=4.6.1 in /Users/jcromo/Miniconda3/envs/proyecto/lib/python3.10/site-packages (from pydantic<3,>=1->langchain) (4.9.0)\n",
      "Requirement already satisfied: charset-normalizer<4,>=2 in /Users/jcromo/Miniconda3/envs/proyecto/lib/python3.10/site-packages (from requests<3,>=2->langchain) (2.0.4)\n",
      "Requirement already satisfied: idna<4,>=2.5 in /Users/jcromo/Miniconda3/envs/proyecto/lib/python3.10/site-packages (from requests<3,>=2->langchain) (3.7)\n",
      "Requirement already satisfied: urllib3<3,>=1.21.1 in /Users/jcromo/Miniconda3/envs/proyecto/lib/python3.10/site-packages (from requests<3,>=2->langchain) (2.1.0)\n",
      "Requirement already satisfied: certifi>=2017.4.17 in /Users/jcromo/Miniconda3/envs/proyecto/lib/python3.10/site-packages (from requests<3,>=2->langchain) (2024.2.2)\n",
      "Requirement already satisfied: jsonpointer>=1.9 in /Users/jcromo/Miniconda3/envs/proyecto/lib/python3.10/site-packages (from jsonpatch<2.0,>=1.33->langchain-core<0.3.0,>=0.2.0->langchain) (2.4)\n",
      "Requirement already satisfied: mypy-extensions>=0.3.0 in /Users/jcromo/Miniconda3/envs/proyecto/lib/python3.10/site-packages (from typing-inspect<1,>=0.4.0->dataclasses-json<0.7,>=0.5.7->langchain) (1.0.0)\n"
     ]
    }
   ],
   "source": [
    "!pip install langchain"
   ]
  },
  {
   "cell_type": "code",
   "execution_count": 2,
   "metadata": {},
   "outputs": [
    {
     "name": "stdout",
     "output_type": "stream",
     "text": [
      "Requirement already satisfied: langchain-community in /Users/jcromo/Miniconda3/envs/proyecto/lib/python3.10/site-packages (0.2.0)\n",
      "Requirement already satisfied: PyYAML>=5.3 in /Users/jcromo/Miniconda3/envs/proyecto/lib/python3.10/site-packages (from langchain-community) (6.0.1)\n",
      "Requirement already satisfied: SQLAlchemy<3,>=1.4 in /Users/jcromo/Miniconda3/envs/proyecto/lib/python3.10/site-packages (from langchain-community) (2.0.30)\n",
      "Requirement already satisfied: aiohttp<4.0.0,>=3.8.3 in /Users/jcromo/Miniconda3/envs/proyecto/lib/python3.10/site-packages (from langchain-community) (3.9.5)\n",
      "Requirement already satisfied: dataclasses-json<0.7,>=0.5.7 in /Users/jcromo/Miniconda3/envs/proyecto/lib/python3.10/site-packages (from langchain-community) (0.6.6)\n",
      "Requirement already satisfied: langchain<0.3.0,>=0.2.0 in /Users/jcromo/Miniconda3/envs/proyecto/lib/python3.10/site-packages (from langchain-community) (0.2.0)\n",
      "Requirement already satisfied: langchain-core<0.3.0,>=0.2.0 in /Users/jcromo/Miniconda3/envs/proyecto/lib/python3.10/site-packages (from langchain-community) (0.2.0)\n",
      "Requirement already satisfied: langsmith<0.2.0,>=0.1.0 in /Users/jcromo/Miniconda3/envs/proyecto/lib/python3.10/site-packages (from langchain-community) (0.1.63)\n",
      "Requirement already satisfied: numpy<2,>=1 in /Users/jcromo/Miniconda3/envs/proyecto/lib/python3.10/site-packages (from langchain-community) (1.24.4)\n",
      "Requirement already satisfied: requests<3,>=2 in /Users/jcromo/Miniconda3/envs/proyecto/lib/python3.10/site-packages (from langchain-community) (2.31.0)\n",
      "Requirement already satisfied: tenacity<9.0.0,>=8.1.0 in /Users/jcromo/Miniconda3/envs/proyecto/lib/python3.10/site-packages (from langchain-community) (8.3.0)\n",
      "Requirement already satisfied: aiosignal>=1.1.2 in /Users/jcromo/Miniconda3/envs/proyecto/lib/python3.10/site-packages (from aiohttp<4.0.0,>=3.8.3->langchain-community) (1.3.1)\n",
      "Requirement already satisfied: attrs>=17.3.0 in /Users/jcromo/Miniconda3/envs/proyecto/lib/python3.10/site-packages (from aiohttp<4.0.0,>=3.8.3->langchain-community) (23.1.0)\n",
      "Requirement already satisfied: frozenlist>=1.1.1 in /Users/jcromo/Miniconda3/envs/proyecto/lib/python3.10/site-packages (from aiohttp<4.0.0,>=3.8.3->langchain-community) (1.4.1)\n",
      "Requirement already satisfied: multidict<7.0,>=4.5 in /Users/jcromo/Miniconda3/envs/proyecto/lib/python3.10/site-packages (from aiohttp<4.0.0,>=3.8.3->langchain-community) (6.0.5)\n",
      "Requirement already satisfied: yarl<2.0,>=1.0 in /Users/jcromo/Miniconda3/envs/proyecto/lib/python3.10/site-packages (from aiohttp<4.0.0,>=3.8.3->langchain-community) (1.9.4)\n",
      "Requirement already satisfied: async-timeout<5.0,>=4.0 in /Users/jcromo/Miniconda3/envs/proyecto/lib/python3.10/site-packages (from aiohttp<4.0.0,>=3.8.3->langchain-community) (4.0.3)\n",
      "Requirement already satisfied: marshmallow<4.0.0,>=3.18.0 in /Users/jcromo/Miniconda3/envs/proyecto/lib/python3.10/site-packages (from dataclasses-json<0.7,>=0.5.7->langchain-community) (3.21.2)\n",
      "Requirement already satisfied: typing-inspect<1,>=0.4.0 in /Users/jcromo/Miniconda3/envs/proyecto/lib/python3.10/site-packages (from dataclasses-json<0.7,>=0.5.7->langchain-community) (0.9.0)\n",
      "Requirement already satisfied: langchain-text-splitters<0.3.0,>=0.2.0 in /Users/jcromo/Miniconda3/envs/proyecto/lib/python3.10/site-packages (from langchain<0.3.0,>=0.2.0->langchain-community) (0.2.0)\n",
      "Requirement already satisfied: pydantic<3,>=1 in /Users/jcromo/Miniconda3/envs/proyecto/lib/python3.10/site-packages (from langchain<0.3.0,>=0.2.0->langchain-community) (2.7.1)\n",
      "Requirement already satisfied: jsonpatch<2.0,>=1.33 in /Users/jcromo/Miniconda3/envs/proyecto/lib/python3.10/site-packages (from langchain-core<0.3.0,>=0.2.0->langchain-community) (1.33)\n",
      "Requirement already satisfied: packaging<24.0,>=23.2 in /Users/jcromo/Miniconda3/envs/proyecto/lib/python3.10/site-packages (from langchain-core<0.3.0,>=0.2.0->langchain-community) (23.2)\n",
      "Requirement already satisfied: orjson<4.0.0,>=3.9.14 in /Users/jcromo/Miniconda3/envs/proyecto/lib/python3.10/site-packages (from langsmith<0.2.0,>=0.1.0->langchain-community) (3.10.3)\n",
      "Requirement already satisfied: charset-normalizer<4,>=2 in /Users/jcromo/Miniconda3/envs/proyecto/lib/python3.10/site-packages (from requests<3,>=2->langchain-community) (2.0.4)\n",
      "Requirement already satisfied: idna<4,>=2.5 in /Users/jcromo/Miniconda3/envs/proyecto/lib/python3.10/site-packages (from requests<3,>=2->langchain-community) (3.7)\n",
      "Requirement already satisfied: urllib3<3,>=1.21.1 in /Users/jcromo/Miniconda3/envs/proyecto/lib/python3.10/site-packages (from requests<3,>=2->langchain-community) (2.1.0)\n",
      "Requirement already satisfied: certifi>=2017.4.17 in /Users/jcromo/Miniconda3/envs/proyecto/lib/python3.10/site-packages (from requests<3,>=2->langchain-community) (2024.2.2)\n",
      "Requirement already satisfied: typing-extensions>=4.6.0 in /Users/jcromo/Miniconda3/envs/proyecto/lib/python3.10/site-packages (from SQLAlchemy<3,>=1.4->langchain-community) (4.9.0)\n",
      "Requirement already satisfied: jsonpointer>=1.9 in /Users/jcromo/Miniconda3/envs/proyecto/lib/python3.10/site-packages (from jsonpatch<2.0,>=1.33->langchain-core<0.3.0,>=0.2.0->langchain-community) (2.4)\n",
      "Requirement already satisfied: annotated-types>=0.4.0 in /Users/jcromo/Miniconda3/envs/proyecto/lib/python3.10/site-packages (from pydantic<3,>=1->langchain<0.3.0,>=0.2.0->langchain-community) (0.7.0)\n",
      "Requirement already satisfied: pydantic-core==2.18.2 in /Users/jcromo/Miniconda3/envs/proyecto/lib/python3.10/site-packages (from pydantic<3,>=1->langchain<0.3.0,>=0.2.0->langchain-community) (2.18.2)\n",
      "Requirement already satisfied: mypy-extensions>=0.3.0 in /Users/jcromo/Miniconda3/envs/proyecto/lib/python3.10/site-packages (from typing-inspect<1,>=0.4.0->dataclasses-json<0.7,>=0.5.7->langchain-community) (1.0.0)\n"
     ]
    }
   ],
   "source": [
    "!pip install langchain-community"
   ]
  },
  {
   "cell_type": "code",
   "execution_count": 3,
   "metadata": {},
   "outputs": [
    {
     "name": "stdout",
     "output_type": "stream",
     "text": [
      "Requirement already satisfied: langchain-text-splitters in /Users/jcromo/Miniconda3/envs/proyecto/lib/python3.10/site-packages (0.2.0)\n",
      "Requirement already satisfied: langchain-core<0.3.0,>=0.2.0 in /Users/jcromo/Miniconda3/envs/proyecto/lib/python3.10/site-packages (from langchain-text-splitters) (0.2.0)\n",
      "Requirement already satisfied: PyYAML>=5.3 in /Users/jcromo/Miniconda3/envs/proyecto/lib/python3.10/site-packages (from langchain-core<0.3.0,>=0.2.0->langchain-text-splitters) (6.0.1)\n",
      "Requirement already satisfied: jsonpatch<2.0,>=1.33 in /Users/jcromo/Miniconda3/envs/proyecto/lib/python3.10/site-packages (from langchain-core<0.3.0,>=0.2.0->langchain-text-splitters) (1.33)\n",
      "Requirement already satisfied: langsmith<0.2.0,>=0.1.0 in /Users/jcromo/Miniconda3/envs/proyecto/lib/python3.10/site-packages (from langchain-core<0.3.0,>=0.2.0->langchain-text-splitters) (0.1.63)\n",
      "Requirement already satisfied: packaging<24.0,>=23.2 in /Users/jcromo/Miniconda3/envs/proyecto/lib/python3.10/site-packages (from langchain-core<0.3.0,>=0.2.0->langchain-text-splitters) (23.2)\n",
      "Requirement already satisfied: pydantic<3,>=1 in /Users/jcromo/Miniconda3/envs/proyecto/lib/python3.10/site-packages (from langchain-core<0.3.0,>=0.2.0->langchain-text-splitters) (2.7.1)\n",
      "Requirement already satisfied: tenacity<9.0.0,>=8.1.0 in /Users/jcromo/Miniconda3/envs/proyecto/lib/python3.10/site-packages (from langchain-core<0.3.0,>=0.2.0->langchain-text-splitters) (8.3.0)\n",
      "Requirement already satisfied: jsonpointer>=1.9 in /Users/jcromo/Miniconda3/envs/proyecto/lib/python3.10/site-packages (from jsonpatch<2.0,>=1.33->langchain-core<0.3.0,>=0.2.0->langchain-text-splitters) (2.4)\n",
      "Requirement already satisfied: orjson<4.0.0,>=3.9.14 in /Users/jcromo/Miniconda3/envs/proyecto/lib/python3.10/site-packages (from langsmith<0.2.0,>=0.1.0->langchain-core<0.3.0,>=0.2.0->langchain-text-splitters) (3.10.3)\n",
      "Requirement already satisfied: requests<3,>=2 in /Users/jcromo/Miniconda3/envs/proyecto/lib/python3.10/site-packages (from langsmith<0.2.0,>=0.1.0->langchain-core<0.3.0,>=0.2.0->langchain-text-splitters) (2.31.0)\n",
      "Requirement already satisfied: annotated-types>=0.4.0 in /Users/jcromo/Miniconda3/envs/proyecto/lib/python3.10/site-packages (from pydantic<3,>=1->langchain-core<0.3.0,>=0.2.0->langchain-text-splitters) (0.7.0)\n",
      "Requirement already satisfied: pydantic-core==2.18.2 in /Users/jcromo/Miniconda3/envs/proyecto/lib/python3.10/site-packages (from pydantic<3,>=1->langchain-core<0.3.0,>=0.2.0->langchain-text-splitters) (2.18.2)\n",
      "Requirement already satisfied: typing-extensions>=4.6.1 in /Users/jcromo/Miniconda3/envs/proyecto/lib/python3.10/site-packages (from pydantic<3,>=1->langchain-core<0.3.0,>=0.2.0->langchain-text-splitters) (4.9.0)\n",
      "Requirement already satisfied: charset-normalizer<4,>=2 in /Users/jcromo/Miniconda3/envs/proyecto/lib/python3.10/site-packages (from requests<3,>=2->langsmith<0.2.0,>=0.1.0->langchain-core<0.3.0,>=0.2.0->langchain-text-splitters) (2.0.4)\n",
      "Requirement already satisfied: idna<4,>=2.5 in /Users/jcromo/Miniconda3/envs/proyecto/lib/python3.10/site-packages (from requests<3,>=2->langsmith<0.2.0,>=0.1.0->langchain-core<0.3.0,>=0.2.0->langchain-text-splitters) (3.7)\n",
      "Requirement already satisfied: urllib3<3,>=1.21.1 in /Users/jcromo/Miniconda3/envs/proyecto/lib/python3.10/site-packages (from requests<3,>=2->langsmith<0.2.0,>=0.1.0->langchain-core<0.3.0,>=0.2.0->langchain-text-splitters) (2.1.0)\n",
      "Requirement already satisfied: certifi>=2017.4.17 in /Users/jcromo/Miniconda3/envs/proyecto/lib/python3.10/site-packages (from requests<3,>=2->langsmith<0.2.0,>=0.1.0->langchain-core<0.3.0,>=0.2.0->langchain-text-splitters) (2024.2.2)\n"
     ]
    }
   ],
   "source": [
    "!pip install langchain-text-splitters"
   ]
  },
  {
   "cell_type": "code",
   "execution_count": 4,
   "metadata": {},
   "outputs": [
    {
     "name": "stdout",
     "output_type": "stream",
     "text": [
      "Requirement already satisfied: langchain-aws in /Users/jcromo/Miniconda3/envs/proyecto/lib/python3.10/site-packages (0.1.6)\r\n",
      "Requirement already satisfied: boto3<1.35.0,>=1.34.51 in /Users/jcromo/Miniconda3/envs/proyecto/lib/python3.10/site-packages (from langchain-aws) (1.34.82)\r\n",
      "Requirement already satisfied: langchain-core<0.3,>=0.1.45 in /Users/jcromo/Miniconda3/envs/proyecto/lib/python3.10/site-packages (from langchain-aws) (0.2.0)\r\n",
      "Requirement already satisfied: numpy<2,>=1 in /Users/jcromo/Miniconda3/envs/proyecto/lib/python3.10/site-packages (from langchain-aws) (1.24.4)\r\n",
      "Requirement already satisfied: botocore<1.35.0,>=1.34.82 in /Users/jcromo/Miniconda3/envs/proyecto/lib/python3.10/site-packages (from boto3<1.35.0,>=1.34.51->langchain-aws) (1.34.82)\r\n",
      "Requirement already satisfied: jmespath<2.0.0,>=0.7.1 in /Users/jcromo/Miniconda3/envs/proyecto/lib/python3.10/site-packages (from boto3<1.35.0,>=1.34.51->langchain-aws) (1.0.1)\r\n",
      "Requirement already satisfied: s3transfer<0.11.0,>=0.10.0 in /Users/jcromo/Miniconda3/envs/proyecto/lib/python3.10/site-packages (from boto3<1.35.0,>=1.34.51->langchain-aws) (0.10.1)\r\n",
      "Requirement already satisfied: PyYAML>=5.3 in /Users/jcromo/Miniconda3/envs/proyecto/lib/python3.10/site-packages (from langchain-core<0.3,>=0.1.45->langchain-aws) (6.0.1)\r\n",
      "Requirement already satisfied: jsonpatch<2.0,>=1.33 in /Users/jcromo/Miniconda3/envs/proyecto/lib/python3.10/site-packages (from langchain-core<0.3,>=0.1.45->langchain-aws) (1.33)\r\n",
      "Requirement already satisfied: langsmith<0.2.0,>=0.1.0 in /Users/jcromo/Miniconda3/envs/proyecto/lib/python3.10/site-packages (from langchain-core<0.3,>=0.1.45->langchain-aws) (0.1.63)\r\n",
      "Requirement already satisfied: packaging<24.0,>=23.2 in /Users/jcromo/Miniconda3/envs/proyecto/lib/python3.10/site-packages (from langchain-core<0.3,>=0.1.45->langchain-aws) (23.2)\r\n",
      "Requirement already satisfied: pydantic<3,>=1 in /Users/jcromo/Miniconda3/envs/proyecto/lib/python3.10/site-packages (from langchain-core<0.3,>=0.1.45->langchain-aws) (2.7.1)\r\n",
      "Requirement already satisfied: tenacity<9.0.0,>=8.1.0 in /Users/jcromo/Miniconda3/envs/proyecto/lib/python3.10/site-packages (from langchain-core<0.3,>=0.1.45->langchain-aws) (8.3.0)\r\n",
      "Requirement already satisfied: python-dateutil<3.0.0,>=2.1 in /Users/jcromo/Miniconda3/envs/proyecto/lib/python3.10/site-packages (from botocore<1.35.0,>=1.34.82->boto3<1.35.0,>=1.34.51->langchain-aws) (2.8.2)\r\n",
      "Requirement already satisfied: urllib3!=2.2.0,<3,>=1.25.4 in /Users/jcromo/Miniconda3/envs/proyecto/lib/python3.10/site-packages (from botocore<1.35.0,>=1.34.82->boto3<1.35.0,>=1.34.51->langchain-aws) (2.1.0)\r\n",
      "Requirement already satisfied: jsonpointer>=1.9 in /Users/jcromo/Miniconda3/envs/proyecto/lib/python3.10/site-packages (from jsonpatch<2.0,>=1.33->langchain-core<0.3,>=0.1.45->langchain-aws) (2.4)\r\n",
      "Requirement already satisfied: orjson<4.0.0,>=3.9.14 in /Users/jcromo/Miniconda3/envs/proyecto/lib/python3.10/site-packages (from langsmith<0.2.0,>=0.1.0->langchain-core<0.3,>=0.1.45->langchain-aws) (3.10.3)\r\n",
      "Requirement already satisfied: requests<3,>=2 in /Users/jcromo/Miniconda3/envs/proyecto/lib/python3.10/site-packages (from langsmith<0.2.0,>=0.1.0->langchain-core<0.3,>=0.1.45->langchain-aws) (2.31.0)\r\n",
      "Requirement already satisfied: annotated-types>=0.4.0 in /Users/jcromo/Miniconda3/envs/proyecto/lib/python3.10/site-packages (from pydantic<3,>=1->langchain-core<0.3,>=0.1.45->langchain-aws) (0.7.0)\r\n",
      "Requirement already satisfied: pydantic-core==2.18.2 in /Users/jcromo/Miniconda3/envs/proyecto/lib/python3.10/site-packages (from pydantic<3,>=1->langchain-core<0.3,>=0.1.45->langchain-aws) (2.18.2)\r\n",
      "Requirement already satisfied: typing-extensions>=4.6.1 in /Users/jcromo/Miniconda3/envs/proyecto/lib/python3.10/site-packages (from pydantic<3,>=1->langchain-core<0.3,>=0.1.45->langchain-aws) (4.9.0)\r\n",
      "Requirement already satisfied: six>=1.5 in /Users/jcromo/Miniconda3/envs/proyecto/lib/python3.10/site-packages (from python-dateutil<3.0.0,>=2.1->botocore<1.35.0,>=1.34.82->boto3<1.35.0,>=1.34.51->langchain-aws) (1.16.0)\r\n",
      "Requirement already satisfied: charset-normalizer<4,>=2 in /Users/jcromo/Miniconda3/envs/proyecto/lib/python3.10/site-packages (from requests<3,>=2->langsmith<0.2.0,>=0.1.0->langchain-core<0.3,>=0.1.45->langchain-aws) (2.0.4)\r\n",
      "Requirement already satisfied: idna<4,>=2.5 in /Users/jcromo/Miniconda3/envs/proyecto/lib/python3.10/site-packages (from requests<3,>=2->langsmith<0.2.0,>=0.1.0->langchain-core<0.3,>=0.1.45->langchain-aws) (3.7)\r\n",
      "Requirement already satisfied: certifi>=2017.4.17 in /Users/jcromo/Miniconda3/envs/proyecto/lib/python3.10/site-packages (from requests<3,>=2->langsmith<0.2.0,>=0.1.0->langchain-core<0.3,>=0.1.45->langchain-aws) (2024.2.2)\r\n"
     ]
    }
   ],
   "source": [
    "!pip install langchain-aws"
   ]
  },
  {
   "cell_type": "code",
   "execution_count": 9,
   "metadata": {},
   "outputs": [
    {
     "name": "stdout",
     "output_type": "stream",
     "text": [
      "Requirement already satisfied: python-dotenv in /Users/jcromo/Miniconda3/envs/proyecto/lib/python3.10/site-packages (1.0.1)\r\n"
     ]
    }
   ],
   "source": [
    "!pip install python-dotenv"
   ]
  },
  {
   "cell_type": "code",
   "execution_count": 10,
   "metadata": {},
   "outputs": [
    {
     "name": "stdout",
     "output_type": "stream",
     "text": [
      "Requirement already satisfied: pinecone-client in /Users/jcromo/Miniconda3/envs/proyecto/lib/python3.10/site-packages (4.1.0)\r\n",
      "Requirement already satisfied: certifi>=2019.11.17 in /Users/jcromo/Miniconda3/envs/proyecto/lib/python3.10/site-packages (from pinecone-client) (2024.2.2)\r\n",
      "Requirement already satisfied: tqdm>=4.64.1 in /Users/jcromo/Miniconda3/envs/proyecto/lib/python3.10/site-packages (from pinecone-client) (4.66.2)\r\n",
      "Requirement already satisfied: typing-extensions>=3.7.4 in /Users/jcromo/Miniconda3/envs/proyecto/lib/python3.10/site-packages (from pinecone-client) (4.9.0)\r\n",
      "Requirement already satisfied: urllib3>=1.26.0 in /Users/jcromo/Miniconda3/envs/proyecto/lib/python3.10/site-packages (from pinecone-client) (2.1.0)\r\n"
     ]
    }
   ],
   "source": [
    "!pip install pinecone-client"
   ]
  },
  {
   "cell_type": "code",
   "execution_count": 11,
   "metadata": {},
   "outputs": [
    {
     "name": "stdout",
     "output_type": "stream",
     "text": [
      "Requirement already satisfied: pip in /Users/jcromo/Miniconda3/envs/proyecto/lib/python3.10/site-packages (24.0)\n",
      "Requirement already satisfied: install in /Users/jcromo/Miniconda3/envs/proyecto/lib/python3.10/site-packages (1.3.5)\n",
      "Requirement already satisfied: renumics-spotlight in /Users/jcromo/Miniconda3/envs/proyecto/lib/python3.10/site-packages (1.6.8)\n",
      "Requirement already satisfied: aiofiles in /Users/jcromo/Miniconda3/envs/proyecto/lib/python3.10/site-packages (from renumics-spotlight) (23.2.1)\n",
      "Requirement already satisfied: appdirs in /Users/jcromo/Miniconda3/envs/proyecto/lib/python3.10/site-packages (from renumics-spotlight) (1.4.4)\n",
      "Requirement already satisfied: av in /Users/jcromo/Miniconda3/envs/proyecto/lib/python3.10/site-packages (from renumics-spotlight) (12.0.0)\n",
      "Requirement already satisfied: cleanlab in /Users/jcromo/Miniconda3/envs/proyecto/lib/python3.10/site-packages (from renumics-spotlight) (2.6.5)\n",
      "Requirement already satisfied: cleanvision in /Users/jcromo/Miniconda3/envs/proyecto/lib/python3.10/site-packages (from renumics-spotlight) (0.3.6)\n",
      "Requirement already satisfied: click in /Users/jcromo/Miniconda3/envs/proyecto/lib/python3.10/site-packages (from renumics-spotlight) (8.1.7)\n",
      "Requirement already satisfied: databases>=0.1.3 in /Users/jcromo/Miniconda3/envs/proyecto/lib/python3.10/site-packages (from databases[sqlite]>=0.1.3->renumics-spotlight) (0.9.0)\n",
      "Requirement already satisfied: datasets<3.0.0,>=2.12.0 in /Users/jcromo/Miniconda3/envs/proyecto/lib/python3.10/site-packages (from datasets[audio]<3.0.0,>=2.12.0->renumics-spotlight) (2.19.1)\n",
      "Requirement already satisfied: diskcache in /Users/jcromo/Miniconda3/envs/proyecto/lib/python3.10/site-packages (from renumics-spotlight) (5.6.3)\n",
      "Requirement already satisfied: fastapi>=0.65.2 in /Users/jcromo/Miniconda3/envs/proyecto/lib/python3.10/site-packages (from renumics-spotlight) (0.111.0)\n",
      "Requirement already satisfied: filetype in /Users/jcromo/Miniconda3/envs/proyecto/lib/python3.10/site-packages (from renumics-spotlight) (1.2.0)\n",
      "Requirement already satisfied: h5py>3.0 in /Users/jcromo/Miniconda3/envs/proyecto/lib/python3.10/site-packages (from renumics-spotlight) (3.11.0)\n",
      "Requirement already satisfied: httptools in /Users/jcromo/Miniconda3/envs/proyecto/lib/python3.10/site-packages (from renumics-spotlight) (0.6.1)\n",
      "Requirement already satisfied: httpx<0.24.0,>=0.23.0 in /Users/jcromo/Miniconda3/envs/proyecto/lib/python3.10/site-packages (from renumics-spotlight) (0.23.3)\n",
      "Requirement already satisfied: imageio>=2.18.0 in /Users/jcromo/Miniconda3/envs/proyecto/lib/python3.10/site-packages (from renumics-spotlight) (2.33.1)\n",
      "Requirement already satisfied: importlib_resources<5.8.0 in /Users/jcromo/Miniconda3/envs/proyecto/lib/python3.10/site-packages (from renumics-spotlight) (5.7.1)\n",
      "Requirement already satisfied: ipywidgets in /Users/jcromo/Miniconda3/envs/proyecto/lib/python3.10/site-packages (from renumics-spotlight) (8.1.3)\n",
      "Requirement already satisfied: jinja2 in /Users/jcromo/Miniconda3/envs/proyecto/lib/python3.10/site-packages (from renumics-spotlight) (3.1.3)\n",
      "Requirement already satisfied: loguru in /Users/jcromo/Miniconda3/envs/proyecto/lib/python3.10/site-packages (from renumics-spotlight) (0.7.2)\n",
      "Requirement already satisfied: networkx in /Users/jcromo/Miniconda3/envs/proyecto/lib/python3.10/site-packages (from renumics-spotlight) (3.1)\n",
      "Requirement already satisfied: numba<0.58.0,>=0.57.1 in /Users/jcromo/Miniconda3/envs/proyecto/lib/python3.10/site-packages (from renumics-spotlight) (0.57.1)\n",
      "Requirement already satisfied: numpy in /Users/jcromo/Miniconda3/envs/proyecto/lib/python3.10/site-packages (from renumics-spotlight) (1.24.4)\n",
      "Requirement already satisfied: orjson in /Users/jcromo/Miniconda3/envs/proyecto/lib/python3.10/site-packages (from renumics-spotlight) (3.10.3)\n",
      "Requirement already satisfied: packaging in /Users/jcromo/Miniconda3/envs/proyecto/lib/python3.10/site-packages (from renumics-spotlight) (23.2)\n",
      "Requirement already satisfied: pandas in /Users/jcromo/Miniconda3/envs/proyecto/lib/python3.10/site-packages (from renumics-spotlight) (2.2.1)\n",
      "Requirement already satisfied: pillow<11.0.0,>=10.0.0 in /Users/jcromo/Miniconda3/envs/proyecto/lib/python3.10/site-packages (from renumics-spotlight) (10.3.0)\n",
      "Requirement already satisfied: prettytable in /Users/jcromo/Miniconda3/envs/proyecto/lib/python3.10/site-packages (from renumics-spotlight) (3.10.0)\n",
      "Requirement already satisfied: py-machineid in /Users/jcromo/Miniconda3/envs/proyecto/lib/python3.10/site-packages (from renumics-spotlight) (0.5.1)\n",
      "Requirement already satisfied: pyarrow in /Users/jcromo/Miniconda3/envs/proyecto/lib/python3.10/site-packages (from renumics-spotlight) (16.0.0)\n",
      "Requirement already satisfied: pydantic<3.0.0,>=2.0.0 in /Users/jcromo/Miniconda3/envs/proyecto/lib/python3.10/site-packages (from renumics-spotlight) (2.7.1)\n",
      "Requirement already satisfied: pydantic-settings<3.0.0,>=2.0.3 in /Users/jcromo/Miniconda3/envs/proyecto/lib/python3.10/site-packages (from renumics-spotlight) (2.2.1)\n",
      "Requirement already satisfied: pygltflib>=1.15.1 in /Users/jcromo/Miniconda3/envs/proyecto/lib/python3.10/site-packages (from renumics-spotlight) (1.16.2)\n",
      "Requirement already satisfied: requests>=2.31 in /Users/jcromo/Miniconda3/envs/proyecto/lib/python3.10/site-packages (from renumics-spotlight) (2.31.0)\n",
      "Requirement already satisfied: rsa in /Users/jcromo/Miniconda3/envs/proyecto/lib/python3.10/site-packages (from renumics-spotlight) (4.9)\n",
      "Requirement already satisfied: scikit-image in /Users/jcromo/Miniconda3/envs/proyecto/lib/python3.10/site-packages (from renumics-spotlight) (0.22.0)\n",
      "Requirement already satisfied: scikit-learn in /Users/jcromo/Miniconda3/envs/proyecto/lib/python3.10/site-packages (from renumics-spotlight) (1.4.2)\n",
      "Requirement already satisfied: setuptools in /Users/jcromo/Miniconda3/envs/proyecto/lib/python3.10/site-packages (from renumics-spotlight) (69.5.1)\n",
      "Requirement already satisfied: toml in /Users/jcromo/Miniconda3/envs/proyecto/lib/python3.10/site-packages (from renumics-spotlight) (0.10.2)\n",
      "Requirement already satisfied: tqdm in /Users/jcromo/Miniconda3/envs/proyecto/lib/python3.10/site-packages (from renumics-spotlight) (4.66.2)\n",
      "Requirement already satisfied: transformers<5.0.0,>=4.35.2 in /Users/jcromo/Miniconda3/envs/proyecto/lib/python3.10/site-packages (from renumics-spotlight) (4.41.1)\n",
      "Requirement already satisfied: trimesh in /Users/jcromo/Miniconda3/envs/proyecto/lib/python3.10/site-packages (from renumics-spotlight) (4.4.0)\n",
      "Requirement already satisfied: typing-extensions in /Users/jcromo/Miniconda3/envs/proyecto/lib/python3.10/site-packages (from renumics-spotlight) (4.9.0)\n",
      "Requirement already satisfied: umap-learn in /Users/jcromo/Miniconda3/envs/proyecto/lib/python3.10/site-packages (from renumics-spotlight) (0.5.6)\n",
      "Requirement already satisfied: uvicorn>=0.22 in /Users/jcromo/Miniconda3/envs/proyecto/lib/python3.10/site-packages (from renumics-spotlight) (0.30.0)\n",
      "Requirement already satisfied: uvloop>=0.17.0 in /Users/jcromo/Miniconda3/envs/proyecto/lib/python3.10/site-packages (from renumics-spotlight) (0.19.0)\n",
      "Requirement already satisfied: validators in /Users/jcromo/Miniconda3/envs/proyecto/lib/python3.10/site-packages (from renumics-spotlight) (0.28.3)\n",
      "Requirement already satisfied: websockets in /Users/jcromo/Miniconda3/envs/proyecto/lib/python3.10/site-packages (from renumics-spotlight) (12.0)\n",
      "Requirement already satisfied: sqlalchemy>=2.0.7 in /Users/jcromo/Miniconda3/envs/proyecto/lib/python3.10/site-packages (from databases>=0.1.3->databases[sqlite]>=0.1.3->renumics-spotlight) (2.0.30)\n",
      "Requirement already satisfied: aiosqlite in /Users/jcromo/Miniconda3/envs/proyecto/lib/python3.10/site-packages (from databases[sqlite]>=0.1.3->renumics-spotlight) (0.20.0)\n",
      "Requirement already satisfied: filelock in /Users/jcromo/Miniconda3/envs/proyecto/lib/python3.10/site-packages (from datasets<3.0.0,>=2.12.0->datasets[audio]<3.0.0,>=2.12.0->renumics-spotlight) (3.13.1)\n",
      "Requirement already satisfied: pyarrow-hotfix in /Users/jcromo/Miniconda3/envs/proyecto/lib/python3.10/site-packages (from datasets<3.0.0,>=2.12.0->datasets[audio]<3.0.0,>=2.12.0->renumics-spotlight) (0.6)\n",
      "Requirement already satisfied: dill<0.3.9,>=0.3.0 in /Users/jcromo/Miniconda3/envs/proyecto/lib/python3.10/site-packages (from datasets<3.0.0,>=2.12.0->datasets[audio]<3.0.0,>=2.12.0->renumics-spotlight) (0.3.8)\n",
      "Requirement already satisfied: xxhash in /Users/jcromo/Miniconda3/envs/proyecto/lib/python3.10/site-packages (from datasets<3.0.0,>=2.12.0->datasets[audio]<3.0.0,>=2.12.0->renumics-spotlight) (3.4.1)\n",
      "Requirement already satisfied: multiprocess in /Users/jcromo/Miniconda3/envs/proyecto/lib/python3.10/site-packages (from datasets<3.0.0,>=2.12.0->datasets[audio]<3.0.0,>=2.12.0->renumics-spotlight) (0.70.16)\n",
      "Requirement already satisfied: fsspec<=2024.3.1,>=2023.1.0 in /Users/jcromo/Miniconda3/envs/proyecto/lib/python3.10/site-packages (from fsspec[http]<=2024.3.1,>=2023.1.0->datasets<3.0.0,>=2.12.0->datasets[audio]<3.0.0,>=2.12.0->renumics-spotlight) (2024.3.1)\n",
      "Requirement already satisfied: aiohttp in /Users/jcromo/Miniconda3/envs/proyecto/lib/python3.10/site-packages (from datasets<3.0.0,>=2.12.0->datasets[audio]<3.0.0,>=2.12.0->renumics-spotlight) (3.9.5)\n",
      "Requirement already satisfied: huggingface-hub>=0.21.2 in /Users/jcromo/Miniconda3/envs/proyecto/lib/python3.10/site-packages (from datasets<3.0.0,>=2.12.0->datasets[audio]<3.0.0,>=2.12.0->renumics-spotlight) (0.23.1)\n",
      "Requirement already satisfied: pyyaml>=5.1 in /Users/jcromo/Miniconda3/envs/proyecto/lib/python3.10/site-packages (from datasets<3.0.0,>=2.12.0->datasets[audio]<3.0.0,>=2.12.0->renumics-spotlight) (6.0.1)\n",
      "Requirement already satisfied: soundfile>=0.12.1 in /Users/jcromo/Miniconda3/envs/proyecto/lib/python3.10/site-packages (from datasets[audio]<3.0.0,>=2.12.0->renumics-spotlight) (0.12.1)\n",
      "Requirement already satisfied: librosa in /Users/jcromo/Miniconda3/envs/proyecto/lib/python3.10/site-packages (from datasets[audio]<3.0.0,>=2.12.0->renumics-spotlight) (0.10.2.post1)\n"
     ]
    },
    {
     "name": "stdout",
     "output_type": "stream",
     "text": [
      "Requirement already satisfied: starlette<0.38.0,>=0.37.2 in /Users/jcromo/Miniconda3/envs/proyecto/lib/python3.10/site-packages (from fastapi>=0.65.2->renumics-spotlight) (0.37.2)\n",
      "Requirement already satisfied: fastapi-cli>=0.0.2 in /Users/jcromo/Miniconda3/envs/proyecto/lib/python3.10/site-packages (from fastapi>=0.65.2->renumics-spotlight) (0.0.4)\n",
      "Requirement already satisfied: python-multipart>=0.0.7 in /Users/jcromo/Miniconda3/envs/proyecto/lib/python3.10/site-packages (from fastapi>=0.65.2->renumics-spotlight) (0.0.9)\n",
      "Requirement already satisfied: ujson!=4.0.2,!=4.1.0,!=4.2.0,!=4.3.0,!=5.0.0,!=5.1.0,>=4.0.1 in /Users/jcromo/Miniconda3/envs/proyecto/lib/python3.10/site-packages (from fastapi>=0.65.2->renumics-spotlight) (5.10.0)\n",
      "Requirement already satisfied: email_validator>=2.0.0 in /Users/jcromo/Miniconda3/envs/proyecto/lib/python3.10/site-packages (from fastapi>=0.65.2->renumics-spotlight) (2.1.1)\n",
      "Requirement already satisfied: certifi in /Users/jcromo/Miniconda3/envs/proyecto/lib/python3.10/site-packages (from httpx<0.24.0,>=0.23.0->renumics-spotlight) (2024.2.2)\n",
      "Requirement already satisfied: httpcore<0.17.0,>=0.15.0 in /Users/jcromo/Miniconda3/envs/proyecto/lib/python3.10/site-packages (from httpx<0.24.0,>=0.23.0->renumics-spotlight) (0.16.3)\n",
      "Requirement already satisfied: rfc3986<2,>=1.3 in /Users/jcromo/Miniconda3/envs/proyecto/lib/python3.10/site-packages (from rfc3986[idna2008]<2,>=1.3->httpx<0.24.0,>=0.23.0->renumics-spotlight) (1.5.0)\n",
      "Requirement already satisfied: sniffio in /Users/jcromo/Miniconda3/envs/proyecto/lib/python3.10/site-packages (from httpx<0.24.0,>=0.23.0->renumics-spotlight) (1.3.0)\n",
      "Requirement already satisfied: MarkupSafe>=2.0 in /Users/jcromo/Miniconda3/envs/proyecto/lib/python3.10/site-packages (from jinja2->renumics-spotlight) (2.1.3)\n",
      "Requirement already satisfied: llvmlite<0.41,>=0.40.0dev0 in /Users/jcromo/Miniconda3/envs/proyecto/lib/python3.10/site-packages (from numba<0.58.0,>=0.57.1->renumics-spotlight) (0.40.1)\n",
      "Requirement already satisfied: annotated-types>=0.4.0 in /Users/jcromo/Miniconda3/envs/proyecto/lib/python3.10/site-packages (from pydantic<3.0.0,>=2.0.0->renumics-spotlight) (0.7.0)\n",
      "Requirement already satisfied: pydantic-core==2.18.2 in /Users/jcromo/Miniconda3/envs/proyecto/lib/python3.10/site-packages (from pydantic<3.0.0,>=2.0.0->renumics-spotlight) (2.18.2)\n",
      "Requirement already satisfied: python-dotenv>=0.21.0 in /Users/jcromo/Miniconda3/envs/proyecto/lib/python3.10/site-packages (from pydantic-settings<3.0.0,>=2.0.3->renumics-spotlight) (1.0.1)\n",
      "Requirement already satisfied: dataclasses-json>=0.0.25 in /Users/jcromo/Miniconda3/envs/proyecto/lib/python3.10/site-packages (from pygltflib>=1.15.1->renumics-spotlight) (0.6.6)\n",
      "Requirement already satisfied: deprecated in /Users/jcromo/Miniconda3/envs/proyecto/lib/python3.10/site-packages (from pygltflib>=1.15.1->renumics-spotlight) (1.2.14)\n",
      "Requirement already satisfied: charset-normalizer<4,>=2 in /Users/jcromo/Miniconda3/envs/proyecto/lib/python3.10/site-packages (from requests>=2.31->renumics-spotlight) (2.0.4)\n",
      "Requirement already satisfied: idna<4,>=2.5 in /Users/jcromo/Miniconda3/envs/proyecto/lib/python3.10/site-packages (from requests>=2.31->renumics-spotlight) (3.7)\n",
      "Requirement already satisfied: urllib3<3,>=1.21.1 in /Users/jcromo/Miniconda3/envs/proyecto/lib/python3.10/site-packages (from requests>=2.31->renumics-spotlight) (2.1.0)\n",
      "Requirement already satisfied: regex!=2019.12.17 in /Users/jcromo/Miniconda3/envs/proyecto/lib/python3.10/site-packages (from transformers<5.0.0,>=4.35.2->renumics-spotlight) (2024.5.15)\n",
      "Requirement already satisfied: tokenizers<0.20,>=0.19 in /Users/jcromo/Miniconda3/envs/proyecto/lib/python3.10/site-packages (from transformers<5.0.0,>=4.35.2->renumics-spotlight) (0.19.1)\n",
      "Requirement already satisfied: safetensors>=0.4.1 in /Users/jcromo/Miniconda3/envs/proyecto/lib/python3.10/site-packages (from transformers<5.0.0,>=4.35.2->renumics-spotlight) (0.4.3)\n",
      "Requirement already satisfied: h11>=0.8 in /Users/jcromo/Miniconda3/envs/proyecto/lib/python3.10/site-packages (from uvicorn>=0.22->renumics-spotlight) (0.14.0)\n",
      "Requirement already satisfied: termcolor>=2.4.0 in /Users/jcromo/Miniconda3/envs/proyecto/lib/python3.10/site-packages (from cleanlab->renumics-spotlight) (2.4.0)\n",
      "Requirement already satisfied: python-dateutil>=2.8.2 in /Users/jcromo/Miniconda3/envs/proyecto/lib/python3.10/site-packages (from pandas->renumics-spotlight) (2.8.2)\n",
      "Requirement already satisfied: pytz>=2020.1 in /Users/jcromo/Miniconda3/envs/proyecto/lib/python3.10/site-packages (from pandas->renumics-spotlight) (2024.1)\n",
      "Requirement already satisfied: tzdata>=2022.7 in /Users/jcromo/Miniconda3/envs/proyecto/lib/python3.10/site-packages (from pandas->renumics-spotlight) (2023.3)\n",
      "Requirement already satisfied: scipy>=1.6.0 in /Users/jcromo/Miniconda3/envs/proyecto/lib/python3.10/site-packages (from scikit-learn->renumics-spotlight) (1.13.0)\n",
      "Requirement already satisfied: joblib>=1.2.0 in /Users/jcromo/Miniconda3/envs/proyecto/lib/python3.10/site-packages (from scikit-learn->renumics-spotlight) (1.4.0)\n",
      "Requirement already satisfied: threadpoolctl>=2.0.0 in /Users/jcromo/Miniconda3/envs/proyecto/lib/python3.10/site-packages (from scikit-learn->renumics-spotlight) (2.2.0)\n",
      "Requirement already satisfied: tabulate>=0.8.3 in /Users/jcromo/Miniconda3/envs/proyecto/lib/python3.10/site-packages (from cleanvision->renumics-spotlight) (0.9.0)\n",
      "Requirement already satisfied: imagehash>=4.2.0 in /Users/jcromo/Miniconda3/envs/proyecto/lib/python3.10/site-packages (from cleanvision->renumics-spotlight) (4.3.1)\n",
      "Requirement already satisfied: matplotlib>=3.4 in /Users/jcromo/Miniconda3/envs/proyecto/lib/python3.10/site-packages (from cleanvision->renumics-spotlight) (3.8.4)\n",
      "Requirement already satisfied: comm>=0.1.3 in /Users/jcromo/Miniconda3/envs/proyecto/lib/python3.10/site-packages (from ipywidgets->renumics-spotlight) (0.2.1)\n",
      "Requirement already satisfied: ipython>=6.1.0 in /Users/jcromo/Miniconda3/envs/proyecto/lib/python3.10/site-packages (from ipywidgets->renumics-spotlight) (8.20.0)\n",
      "Requirement already satisfied: traitlets>=4.3.1 in /Users/jcromo/Miniconda3/envs/proyecto/lib/python3.10/site-packages (from ipywidgets->renumics-spotlight) (5.7.1)\n",
      "Requirement already satisfied: widgetsnbextension~=4.0.11 in /Users/jcromo/Miniconda3/envs/proyecto/lib/python3.10/site-packages (from ipywidgets->renumics-spotlight) (4.0.11)\n",
      "Requirement already satisfied: jupyterlab-widgets~=3.0.11 in /Users/jcromo/Miniconda3/envs/proyecto/lib/python3.10/site-packages (from ipywidgets->renumics-spotlight) (3.0.11)\n",
      "Requirement already satisfied: wcwidth in /Users/jcromo/Miniconda3/envs/proyecto/lib/python3.10/site-packages (from prettytable->renumics-spotlight) (0.2.5)\n",
      "Requirement already satisfied: pyasn1>=0.1.3 in /Users/jcromo/Miniconda3/envs/proyecto/lib/python3.10/site-packages (from rsa->renumics-spotlight) (0.6.0)\n",
      "Requirement already satisfied: tifffile>=2022.8.12 in /Users/jcromo/Miniconda3/envs/proyecto/lib/python3.10/site-packages (from scikit-image->renumics-spotlight) (2023.4.12)\n",
      "Requirement already satisfied: lazy_loader>=0.3 in /Users/jcromo/Miniconda3/envs/proyecto/lib/python3.10/site-packages (from scikit-image->renumics-spotlight) (0.3)\n",
      "Requirement already satisfied: pynndescent>=0.5 in /Users/jcromo/Miniconda3/envs/proyecto/lib/python3.10/site-packages (from umap-learn->renumics-spotlight) (0.5.12)\n",
      "Requirement already satisfied: marshmallow<4.0.0,>=3.18.0 in /Users/jcromo/Miniconda3/envs/proyecto/lib/python3.10/site-packages (from dataclasses-json>=0.0.25->pygltflib>=1.15.1->renumics-spotlight) (3.21.2)\n",
      "Requirement already satisfied: typing-inspect<1,>=0.4.0 in /Users/jcromo/Miniconda3/envs/proyecto/lib/python3.10/site-packages (from dataclasses-json>=0.0.25->pygltflib>=1.15.1->renumics-spotlight) (0.9.0)\n",
      "Requirement already satisfied: dnspython>=2.0.0 in /Users/jcromo/Miniconda3/envs/proyecto/lib/python3.10/site-packages (from email_validator>=2.0.0->fastapi>=0.65.2->renumics-spotlight) (2.6.1)\n",
      "Requirement already satisfied: typer>=0.12.3 in /Users/jcromo/Miniconda3/envs/proyecto/lib/python3.10/site-packages (from fastapi-cli>=0.0.2->fastapi>=0.65.2->renumics-spotlight) (0.12.3)\n"
     ]
    },
    {
     "name": "stdout",
     "output_type": "stream",
     "text": [
      "Requirement already satisfied: aiosignal>=1.1.2 in /Users/jcromo/Miniconda3/envs/proyecto/lib/python3.10/site-packages (from aiohttp->datasets<3.0.0,>=2.12.0->datasets[audio]<3.0.0,>=2.12.0->renumics-spotlight) (1.3.1)\n",
      "Requirement already satisfied: attrs>=17.3.0 in /Users/jcromo/Miniconda3/envs/proyecto/lib/python3.10/site-packages (from aiohttp->datasets<3.0.0,>=2.12.0->datasets[audio]<3.0.0,>=2.12.0->renumics-spotlight) (23.1.0)\n",
      "Requirement already satisfied: frozenlist>=1.1.1 in /Users/jcromo/Miniconda3/envs/proyecto/lib/python3.10/site-packages (from aiohttp->datasets<3.0.0,>=2.12.0->datasets[audio]<3.0.0,>=2.12.0->renumics-spotlight) (1.4.1)\n",
      "Requirement already satisfied: multidict<7.0,>=4.5 in /Users/jcromo/Miniconda3/envs/proyecto/lib/python3.10/site-packages (from aiohttp->datasets<3.0.0,>=2.12.0->datasets[audio]<3.0.0,>=2.12.0->renumics-spotlight) (6.0.5)\n",
      "Requirement already satisfied: yarl<2.0,>=1.0 in /Users/jcromo/Miniconda3/envs/proyecto/lib/python3.10/site-packages (from aiohttp->datasets<3.0.0,>=2.12.0->datasets[audio]<3.0.0,>=2.12.0->renumics-spotlight) (1.9.4)\n",
      "Requirement already satisfied: async-timeout<5.0,>=4.0 in /Users/jcromo/Miniconda3/envs/proyecto/lib/python3.10/site-packages (from aiohttp->datasets<3.0.0,>=2.12.0->datasets[audio]<3.0.0,>=2.12.0->renumics-spotlight) (4.0.3)\n",
      "Requirement already satisfied: anyio<5.0,>=3.0 in /Users/jcromo/Miniconda3/envs/proyecto/lib/python3.10/site-packages (from httpcore<0.17.0,>=0.15.0->httpx<0.24.0,>=0.23.0->renumics-spotlight) (4.2.0)\n",
      "Requirement already satisfied: PyWavelets in /Users/jcromo/Miniconda3/envs/proyecto/lib/python3.10/site-packages (from imagehash>=4.2.0->cleanvision->renumics-spotlight) (1.5.0)\n",
      "Requirement already satisfied: decorator in /Users/jcromo/Miniconda3/envs/proyecto/lib/python3.10/site-packages (from ipython>=6.1.0->ipywidgets->renumics-spotlight) (5.1.1)\n",
      "Requirement already satisfied: jedi>=0.16 in /Users/jcromo/Miniconda3/envs/proyecto/lib/python3.10/site-packages (from ipython>=6.1.0->ipywidgets->renumics-spotlight) (0.18.1)\n",
      "Requirement already satisfied: matplotlib-inline in /Users/jcromo/Miniconda3/envs/proyecto/lib/python3.10/site-packages (from ipython>=6.1.0->ipywidgets->renumics-spotlight) (0.1.6)\n",
      "Requirement already satisfied: prompt-toolkit<3.1.0,>=3.0.41 in /Users/jcromo/Miniconda3/envs/proyecto/lib/python3.10/site-packages (from ipython>=6.1.0->ipywidgets->renumics-spotlight) (3.0.43)\n",
      "Requirement already satisfied: pygments>=2.4.0 in /Users/jcromo/Miniconda3/envs/proyecto/lib/python3.10/site-packages (from ipython>=6.1.0->ipywidgets->renumics-spotlight) (2.15.1)\n",
      "Requirement already satisfied: stack-data in /Users/jcromo/Miniconda3/envs/proyecto/lib/python3.10/site-packages (from ipython>=6.1.0->ipywidgets->renumics-spotlight) (0.2.0)\n",
      "Requirement already satisfied: exceptiongroup in /Users/jcromo/Miniconda3/envs/proyecto/lib/python3.10/site-packages (from ipython>=6.1.0->ipywidgets->renumics-spotlight) (1.2.0)\n",
      "Requirement already satisfied: pexpect>4.3 in /Users/jcromo/Miniconda3/envs/proyecto/lib/python3.10/site-packages (from ipython>=6.1.0->ipywidgets->renumics-spotlight) (4.8.0)\n",
      "Requirement already satisfied: contourpy>=1.0.1 in /Users/jcromo/Miniconda3/envs/proyecto/lib/python3.10/site-packages (from matplotlib>=3.4->cleanvision->renumics-spotlight) (1.2.0)\n",
      "Requirement already satisfied: cycler>=0.10 in /Users/jcromo/Miniconda3/envs/proyecto/lib/python3.10/site-packages (from matplotlib>=3.4->cleanvision->renumics-spotlight) (0.11.0)\n",
      "Requirement already satisfied: fonttools>=4.22.0 in /Users/jcromo/Miniconda3/envs/proyecto/lib/python3.10/site-packages (from matplotlib>=3.4->cleanvision->renumics-spotlight) (4.51.0)\n",
      "Requirement already satisfied: kiwisolver>=1.3.1 in /Users/jcromo/Miniconda3/envs/proyecto/lib/python3.10/site-packages (from matplotlib>=3.4->cleanvision->renumics-spotlight) (1.4.4)\n",
      "Requirement already satisfied: pyparsing>=2.3.1 in /Users/jcromo/Miniconda3/envs/proyecto/lib/python3.10/site-packages (from matplotlib>=3.4->cleanvision->renumics-spotlight) (3.0.9)\n",
      "Requirement already satisfied: six>=1.5 in /Users/jcromo/Miniconda3/envs/proyecto/lib/python3.10/site-packages (from python-dateutil>=2.8.2->pandas->renumics-spotlight) (1.16.0)\n",
      "Requirement already satisfied: cffi>=1.0 in /Users/jcromo/Miniconda3/envs/proyecto/lib/python3.10/site-packages (from soundfile>=0.12.1->datasets[audio]<3.0.0,>=2.12.0->renumics-spotlight) (1.16.0)\n",
      "Requirement already satisfied: watchfiles>=0.13 in /Users/jcromo/Miniconda3/envs/proyecto/lib/python3.10/site-packages (from uvicorn[standard]>=0.12.0->fastapi>=0.65.2->renumics-spotlight) (0.22.0)\n",
      "Requirement already satisfied: wrapt<2,>=1.10 in /Users/jcromo/Miniconda3/envs/proyecto/lib/python3.10/site-packages (from deprecated->pygltflib>=1.15.1->renumics-spotlight) (1.16.0)\n",
      "Requirement already satisfied: audioread>=2.1.9 in /Users/jcromo/Miniconda3/envs/proyecto/lib/python3.10/site-packages (from librosa->datasets[audio]<3.0.0,>=2.12.0->renumics-spotlight) (3.0.1)\n",
      "Requirement already satisfied: pooch>=1.1 in /Users/jcromo/Miniconda3/envs/proyecto/lib/python3.10/site-packages (from librosa->datasets[audio]<3.0.0,>=2.12.0->renumics-spotlight) (1.8.1)\n",
      "Requirement already satisfied: soxr>=0.3.2 in /Users/jcromo/Miniconda3/envs/proyecto/lib/python3.10/site-packages (from librosa->datasets[audio]<3.0.0,>=2.12.0->renumics-spotlight) (0.3.7)\n",
      "Requirement already satisfied: msgpack>=1.0 in /Users/jcromo/Miniconda3/envs/proyecto/lib/python3.10/site-packages (from librosa->datasets[audio]<3.0.0,>=2.12.0->renumics-spotlight) (1.0.8)\n",
      "Requirement already satisfied: pycparser in /Users/jcromo/Miniconda3/envs/proyecto/lib/python3.10/site-packages (from cffi>=1.0->soundfile>=0.12.1->datasets[audio]<3.0.0,>=2.12.0->renumics-spotlight) (2.21)\n",
      "Requirement already satisfied: parso<0.9.0,>=0.8.0 in /Users/jcromo/Miniconda3/envs/proyecto/lib/python3.10/site-packages (from jedi>=0.16->ipython>=6.1.0->ipywidgets->renumics-spotlight) (0.8.3)\n",
      "Requirement already satisfied: ptyprocess>=0.5 in /Users/jcromo/Miniconda3/envs/proyecto/lib/python3.10/site-packages (from pexpect>4.3->ipython>=6.1.0->ipywidgets->renumics-spotlight) (0.7.0)\n",
      "Requirement already satisfied: platformdirs>=2.5.0 in /Users/jcromo/Miniconda3/envs/proyecto/lib/python3.10/site-packages (from pooch>=1.1->librosa->datasets[audio]<3.0.0,>=2.12.0->renumics-spotlight) (3.10.0)\n",
      "Requirement already satisfied: shellingham>=1.3.0 in /Users/jcromo/Miniconda3/envs/proyecto/lib/python3.10/site-packages (from typer>=0.12.3->fastapi-cli>=0.0.2->fastapi>=0.65.2->renumics-spotlight) (1.5.4)\n",
      "Requirement already satisfied: rich>=10.11.0 in /Users/jcromo/Miniconda3/envs/proyecto/lib/python3.10/site-packages (from typer>=0.12.3->fastapi-cli>=0.0.2->fastapi>=0.65.2->renumics-spotlight) (13.7.1)\n",
      "Requirement already satisfied: mypy-extensions>=0.3.0 in /Users/jcromo/Miniconda3/envs/proyecto/lib/python3.10/site-packages (from typing-inspect<1,>=0.4.0->dataclasses-json>=0.0.25->pygltflib>=1.15.1->renumics-spotlight) (1.0.0)\n",
      "Requirement already satisfied: executing in /Users/jcromo/Miniconda3/envs/proyecto/lib/python3.10/site-packages (from stack-data->ipython>=6.1.0->ipywidgets->renumics-spotlight) (0.8.3)\n",
      "Requirement already satisfied: asttokens in /Users/jcromo/Miniconda3/envs/proyecto/lib/python3.10/site-packages (from stack-data->ipython>=6.1.0->ipywidgets->renumics-spotlight) (2.0.5)\n",
      "Requirement already satisfied: pure-eval in /Users/jcromo/Miniconda3/envs/proyecto/lib/python3.10/site-packages (from stack-data->ipython>=6.1.0->ipywidgets->renumics-spotlight) (0.2.2)\n",
      "Requirement already satisfied: markdown-it-py>=2.2.0 in /Users/jcromo/Miniconda3/envs/proyecto/lib/python3.10/site-packages (from rich>=10.11.0->typer>=0.12.3->fastapi-cli>=0.0.2->fastapi>=0.65.2->renumics-spotlight) (3.0.0)\n",
      "Requirement already satisfied: mdurl~=0.1 in /Users/jcromo/Miniconda3/envs/proyecto/lib/python3.10/site-packages (from markdown-it-py>=2.2.0->rich>=10.11.0->typer>=0.12.3->fastapi-cli>=0.0.2->fastapi>=0.65.2->renumics-spotlight) (0.1.2)\n"
     ]
    }
   ],
   "source": [
    "!pip install pip install renumics-spotlight"
   ]
  },
  {
   "cell_type": "code",
   "execution_count": 12,
   "metadata": {
    "id": "7f538ba7-a747-42b5-9481-38084383bf8f"
   },
   "outputs": [],
   "source": [
    "# Importando librerias requeridas\n",
    "import time\n",
    "import re\n",
    "import json\n",
    "import uuid\n",
    "import io\n",
    "import logging\n",
    "import os\n",
    "\n",
    "from dotenv import load_dotenv\n",
    "import pyarrow.parquet as pq\n",
    "import pandas as pd\n",
    "import numpy as np\n",
    "import boto3\n",
    "\n",
    "from langchain_community.retrievers import AmazonKnowledgeBasesRetriever\n",
    "from langchain.chains import create_retrieval_chain\n",
    "from langchain.chains.combine_documents import create_stuff_documents_chain\n",
    "from langchain_core.prompts import ChatPromptTemplate\n",
    "from langchain.embeddings import BedrockEmbeddings\n",
    "from langchain_aws import BedrockLLM\n",
    "\n",
    "from pinecone import Pinecone\n",
    "from sklearn.metrics.pairwise import cosine_similarity\n",
    "from renumics import spotlight"
   ]
  },
  {
   "cell_type": "code",
   "execution_count": 13,
   "metadata": {},
   "outputs": [],
   "source": [
    "# Creado manejador de bitácora\n",
    "logger = logging.getLogger(__name__)\n",
    "#logging.basicConfig(\n",
    "#    filename='../logs/Avance4_Equipo37_Bedrock_Alternative.log',\n",
    "#    level=logging.INFO,\n",
    "#    format='%(asctime)s %(levelname)-8s %(message)s',\n",
    "#    datefmt='%Y-%m-%d %H:%M:%S'\n",
    "#)"
   ]
  },
  {
   "cell_type": "code",
   "execution_count": 59,
   "metadata": {},
   "outputs": [],
   "source": [
    "# Configurando constantes para la ejecución. AWS_KBID_Vxxx contiene el identificador de la base\n",
    "# de conocimientos de AWS Bedrock\n",
    "load_dotenv()\n",
    "MAX_ENTRIES = 100\n",
    "AWS_KBID_V100 = os.environ['AWS_KBID_V100']\n",
    "AWS_KBID_V200 = os.environ['AWS_KBID_V200']\n",
    "PINECONE_API_KEY_V100 = os.environ['PINECONE_API_KEY_V100']\n",
    "INDEX_V100 = 'volindov101'\n",
    "PINECONE_API_KEY_V200 = os.environ['PINECONE_API_KEY_V200']\n",
    "INDEX_V200 = 'volindov200'\n",
    "KB_VERSION = '2.00'\n",
    "\n",
    "if KB_VERSION == '1.00':\n",
    "    PINDEX = INDEX_V100\n",
    "    PKEY = PINECONE_API_KEY_V100\n",
    "else:\n",
    "    PINDEX = INDEX_V200\n",
    "    PKEY = PINECONE_API_KEY_V200\n"
   ]
  },
  {
   "cell_type": "markdown",
   "metadata": {
    "id": "b8af6127-cc07-4a20-8fea-57ed0d56a355"
   },
   "source": [
    "### **Evaluando la Base de Conocimiento y el Modelo Fundacional Visualmente con UMAP**\n",
    "\n",
    "AWS Bedrock provee tres tipos de mecanismos para evaluar el desempeño de los modelos fundacionales:\n",
    "* Evaluación automatizada\n",
    "* Evaluación por un equipo de humanos\n",
    "* Evaluación por un servicio de evaluación de AWS\n",
    "\n",
    "La evaluación automatizada permite hacer evaluaciones de la precisión del modelo, la toxicidad de las respuestas y la robustes de las respuestas. Desafortunadamente AWS solo ofrece este servicio para solo uno de los modelos de Amazon y no cubre la evaluación de la base de conocimiento y de las respuestas generadas en combinación con el modelo fundacional de Titan Text Premier.\n",
    "\n",
    "Blah, Blah, Blah, Blah"
   ]
  },
  {
   "cell_type": "markdown",
   "metadata": {
    "id": "b8af6127-cc07-4a20-8fea-57ed0d56a355"
   },
   "source": [
    "### **Creando Agente para Recuperar Informacion de Contexto**"
   ]
  },
  {
   "cell_type": "code",
   "execution_count": 60,
   "metadata": {
    "id": "0d6d5eee-596e-4bb8-a3c9-919ce176fe7b"
   },
   "outputs": [],
   "source": [
    "# Creando clientes para componentes de AWS Bedrock. Credenciales y configuracion se obtienen de ~/.aws\n",
    "if KB_VERSION == '1.00':\n",
    "    retriever = AmazonKnowledgeBasesRetriever(\n",
    "        knowledge_base_id=AWS_KBID_V100,\n",
    "        retrieval_config={'vectorSearchConfiguration': {'numberOfResults': 10}},\n",
    "    )\n",
    "else:\n",
    "    retriever = AmazonKnowledgeBasesRetriever(\n",
    "        knowledge_base_id=AWS_KBID_V200,\n",
    "        retrieval_config={'vectorSearchConfiguration': {'numberOfResults': 10}},\n",
    "    )"
   ]
  },
  {
   "cell_type": "markdown",
   "metadata": {
    "id": "b8af6127-cc07-4a20-8fea-57ed0d56a355"
   },
   "source": [
    "### **Creando Agente para Questionar el Modelo Fundacional**"
   ]
  },
  {
   "cell_type": "code",
   "execution_count": 61,
   "metadata": {},
   "outputs": [],
   "source": [
    "model_kwargs_premier = {'temperature': 0, 'topP': 0.7, 'maxTokenCount': 3000}\n",
    "llm = BedrockLLM(model_id='amazon.titan-text-premier-v1:0', model_kwargs=model_kwargs_premier)"
   ]
  },
  {
   "cell_type": "markdown",
   "metadata": {
    "id": "b8af6127-cc07-4a20-8fea-57ed0d56a355"
   },
   "source": [
    "### **Creando Función para Solictar Respuestas de AWS Bedrock y para Desplegarlas**"
   ]
  },
  {
   "cell_type": "code",
   "execution_count": 62,
   "metadata": {},
   "outputs": [],
   "source": [
    "# Creando función para buscar información en la base de conocimiento y generar una respuesta usando el modelo fundacional\n",
    "# Titan Text Premier de AWS Bedrock. La función también calcula el tiempo de ejecución\n",
    "def retrieve_and_generate(query, retriever, llm):\n",
    "    start_time = time.time()\n",
    "    system_prompt = (\n",
    "        \"You are a friendly and helpful travel assistant. Begin your response with a polite greeting. Accurately use the detailed context provided from the database \"\n",
    "        \"to answer the following query, particularly focusing on correct location details. Ensure the locations mentioned are verified against \"\n",
    "        \"the context. Provide options within the same city or nearby, double-checking location accuracy. Offer two or three choices when possible. \"\n",
    "        \"Address the user by name if provided in the context. If the answer is unknown or if you cannot verify the location details, state 'I don't know'. \"\n",
    "        \"Limit responses to three sentences and maintain conciseness. \"\n",
    "        \"Context: {context}\"\n",
    "    )\n",
    "    prompt = ChatPromptTemplate.from_messages(\n",
    "        [\n",
    "            (\"system\", system_prompt),\n",
    "            (\"human\", \"{input}\"),\n",
    "        ]\n",
    "    )\n",
    "    question_answer_chain = create_stuff_documents_chain(llm, prompt)\n",
    "    chain = create_retrieval_chain(retriever, question_answer_chain)\n",
    "    \n",
    "    response = chain.invoke({\"input\": query})\n",
    "    elapsed_time = time.time() - start_time\n",
    "    return elapsed_time, response\n"
   ]
  },
  {
   "cell_type": "code",
   "execution_count": 63,
   "metadata": {},
   "outputs": [],
   "source": [
    "# Creando función desplegar la respuesta recibida de AWS. La respuesta incluye diferentes valores como la respuesta completa,\n",
    "# la respuesta en partes, o citas, con referencias y los metadatos de cada referencia\n",
    "def display_response(response, elapsed_time):\n",
    "    # desplegando respuestas\n",
    "    print(f\"Respuesta despues de {elapsed_time:.4f} segundos:\\n{response['answer']}\")\n",
    "#    for context in response['context']:\n",
    "#        print(f\"\\nContexto:\\n{context.page_content}\")\n",
    "#        print(f\"\\nCalificacion:{context.metadata['score']:.6f}\")\n",
    "#        print(f\"\\nNombre del hotel: {context.metadata['source_metadata']['Name']}, Ciudad:{context.metadata['source_metadata']['City']}, Direccion:{context.metadata['source_metadata']['Address']}\")\n",
    "#        print(f\"\\nPais: {context.metadata['source_metadata']['Country']}, Continente:{context.metadata['source_metadata']['Continent']}, URI:{context.metadata['source_metadata']['x-amz-bedrock-kb-source-uri']}\")\n"
   ]
  },
  {
   "cell_type": "code",
   "execution_count": 64,
   "metadata": {},
   "outputs": [],
   "source": [
    "def prepare_emb_space(query, answer, country, index_name, key, entries=1000):\n",
    "    # Preparando modelo de embeddings de AWS Bedrock Titan Embed Text v1.x\n",
    "    embeddings = BedrockEmbeddings(model_id='amazon.titan-embed-text-v1')\n",
    "    \n",
    "    # Generando un dataframe con embeddings para la pregunta\n",
    "    query_emb = embeddings.embed_query(query)\n",
    "    query_emb_df = pd.DataFrame({'id': 'query','query': query,'embeddings': [query_emb]})\n",
    "    \n",
    "    # Generando un dataframe con embeddings para la respuesta\n",
    "    answer_emb = embeddings.embed_query(answer)\n",
    "    answer_emb_df = pd.DataFrame({'id': 'answer','answer': answer,'embeddings': [answer_emb]})\n",
    "\n",
    "    # Creando cliente de Pinecone\n",
    "    pc = Pinecone(api_key=key)\n",
    "    \n",
    "    # Recuperando registros del índice de Pinecone para un país en especifico\n",
    "    index = pc.Index(index_name)\n",
    "    emb_space = index.query(\n",
    "        vector=query_emb,\n",
    "        top_k=entries,\n",
    "        include_values=True,\n",
    "        include_metadata=True,\n",
    "        filter={\n",
    "            \"Country\": {\"$eq\": country}\n",
    "        }\n",
    "    )\n",
    "\n",
    "    # Creando un dataframe con los datos recuperados del índice de Pinecone\n",
    "    emb_space_df = pd.DataFrame(columns=['id', 'source', 'score', 'document', 'embeddings'])\n",
    "    for match in emb_space.matches:\n",
    "        id = match.id\n",
    "        source = match.metadata['x-amz-bedrock-kb-source-uri']\n",
    "        score = match.score\n",
    "        document = match.metadata['hotel-data']\n",
    "        embeddings = match.values\n",
    "        emb_space_df = pd.concat(\n",
    "            [\n",
    "                emb_space_df,\n",
    "                pd.DataFrame({'id': id, 'source': source, 'score': score, 'document': document, 'embeddings': [embeddings]})\n",
    "            ],\n",
    "            ignore_index=True\n",
    "        )\n",
    "\n",
    "    # Creando un dataframe con los registros para la pregunta, la respuesta y los datos\n",
    "    # recuperados de Pinecone\n",
    "    emb_space_df = pd.concat([query_emb_df, answer_emb_df, emb_space_df])\n",
    "\n",
    "    # Calculando la distancia de coseno para cada registro\n",
    "    emb_space_df['distance'] = emb_space_df.apply(\n",
    "        lambda row: 1 - (\n",
    "            np.dot(row['embeddings'], answer_emb) / (np.linalg.norm(row['embeddings']) * np.linalg.norm(answer_emb))\n",
    "        ),\n",
    "        axis=1\n",
    "    )\n",
    "\n",
    "    return emb_space_df\n"
   ]
  },
  {
   "cell_type": "markdown",
   "metadata": {},
   "source": [
    "### **Ejecutando la Evaluación**"
   ]
  },
  {
   "cell_type": "markdown",
   "metadata": {},
   "source": [
    "**Obteniendo Respuestas de la Base Conocimiento y el Modelo Fundacional**"
   ]
  },
  {
   "cell_type": "code",
   "execution_count": 65,
   "metadata": {
    "id": "0d6d5eee-596e-4bb8-a3c9-919ce176fe7b",
    "scrolled": true
   },
   "outputs": [
    {
     "name": "stdout",
     "output_type": "stream",
     "text": [
      "Respuesta despues de 7.5442 segundos:\n",
      "Sure thing! Here are some options:\n",
      "- Tshukudu Bush Lodge\n",
      "- Bakubung Bush Lodge\n",
      "- Kwa Maritane Bush Lodge\n",
      "- Black Rhino Game Lodge\n",
      "- The Kingdom Resort\n",
      "- Shepherd's Tree Game Lodge\n",
      "- Sun City Resort\n",
      "- Pilanesberg Private Lodge\n",
      "- Manyane Resort\n",
      "- Bakgatla Resort\n",
      "\n",
      "These are all located near the Pilanesberg National Park in South Africa. Let me know if you need more information about any of these options!\n"
     ]
    }
   ],
   "source": [
    "input = '''Can you suggest accomodation near pilanesberg national park in south africa?'''\n",
    "\n",
    "elapsed_time, response = retrieve_and_generate(input, retriever, llm)\n",
    "display_response(response, elapsed_time)\n"
   ]
  },
  {
   "cell_type": "markdown",
   "metadata": {},
   "source": [
    "**Evaluación**"
   ]
  },
  {
   "cell_type": "code",
   "execution_count": 66,
   "metadata": {},
   "outputs": [
    {
     "name": "stderr",
     "output_type": "stream",
     "text": [
      "/var/folders/cy/k7rk55bs57sg43vmv400yd_r0000gp/T/ipykernel_3741/1787413403.py:36: FutureWarning: The behavior of DataFrame concatenation with empty or all-NA entries is deprecated. In a future version, this will no longer exclude empty or all-NA columns when determining the result dtypes. To retain the old behavior, exclude the relevant entries before the concat operation.\n",
      "  emb_space_df = pd.concat(\n"
     ]
    },
    {
     "data": {
      "application/vnd.jupyter.widget-view+json": {
       "model_id": "6d9253f482b248da937fbbd9315f6a95",
       "version_major": 2,
       "version_minor": 0
      },
      "text/plain": [
       "VBox(children=(Label(value='Spotlight running on http://127.0.0.1:53042/'), HBox(children=(Button(description=…"
      ]
     },
     "metadata": {},
     "output_type": "display_data"
    }
   ],
   "source": [
    "emb_space = prepare_emb_space(\n",
    "    input,\n",
    "    response['answer'],\n",
    "    'South Africa',\n",
    "    PINDEX,\n",
    "    PKEY,\n",
    "    MAX_ENTRIES\n",
    ")\n",
    "spotlight.show(emb_space)\n"
   ]
  },
  {
   "cell_type": "markdown",
   "metadata": {},
   "source": [
    "**Obteniendo Respuestas de la Base Conocimiento y el Modelo Fundacional**"
   ]
  },
  {
   "cell_type": "code",
   "execution_count": 67,
   "metadata": {
    "id": "0d6d5eee-596e-4bb8-a3c9-919ce176fe7b",
    "scrolled": true
   },
   "outputs": [
    {
     "name": "stdout",
     "output_type": "stream",
     "text": [
      "Respuesta despues de 11.9932 segundos:\n",
      "Hello! I'd be happy to help you find accommodations near Pilanesberg National Park in the North West Province of South Africa. Here are a few options for you to consider:\n",
      "\n",
      "1. Tshukudu Bush Lodge - This 4-star lodge is located within Pilanesberg National Park and offers luxurious accommodations with private balconies and fireplaces. Guests can enjoy a complimentary buffet breakfast, a restaurant, a bar, and a poolside bar.\n",
      "\n",
      "2. Nkala Safari Lodge - This 4.5-star lodge is also located within Pilanesberg National Park and offers air-conditioned rooms with kitchens, flat-screen TVs, and complimentary Wi-Fi. Guests can enjoy a bar and a terrace with views of the surrounding bush.\n",
      "\n",
      "3. Bakubung Bush Lodge - This 4-star lodge is located just outside Pilanesberg National Park and offers spacious rooms with private balconies, a restaurant, a bar, and an outdoor pool. Guests can enjoy game drives, bush walks, and birdwatching.\n",
      "\n",
      "4. Kwa Maritane Bush Lodge - This 4-star lodge is located just outside Pilanesberg National Park and offers comfortable rooms with private balconies, a restaurant, a bar, and an outdoor pool. Guests can enjoy game drives, bush walks, and birdwatching.\n",
      "\n",
      "5. Black Rhino Game Lodge - This 4-star lodge is located within Pilanesberg National Park and offers luxurious accommodations with private balconies and fireplaces. Guests can enjoy a restaurant, a bar, and an outdoor pool.\n",
      "\n",
      "I hope this helps! Let me know if you have any other questions.\n"
     ]
    }
   ],
   "source": [
    "input = '''Can you suggest accomodation near pilanesberg national park in the north west province in south africa?'''\n",
    "\n",
    "elapsed_time, response = retrieve_and_generate(input, retriever, llm)\n",
    "display_response(response, elapsed_time)\n"
   ]
  },
  {
   "cell_type": "markdown",
   "metadata": {},
   "source": [
    "**Evaluación**\n"
   ]
  },
  {
   "cell_type": "code",
   "execution_count": 69,
   "metadata": {},
   "outputs": [
    {
     "name": "stderr",
     "output_type": "stream",
     "text": [
      "/var/folders/cy/k7rk55bs57sg43vmv400yd_r0000gp/T/ipykernel_3741/1787413403.py:36: FutureWarning: The behavior of DataFrame concatenation with empty or all-NA entries is deprecated. In a future version, this will no longer exclude empty or all-NA columns when determining the result dtypes. To retain the old behavior, exclude the relevant entries before the concat operation.\n",
      "  emb_space_df = pd.concat(\n"
     ]
    },
    {
     "data": {
      "application/vnd.jupyter.widget-view+json": {
       "model_id": "d96ac1c998a44317995c1deb0164110e",
       "version_major": 2,
       "version_minor": 0
      },
      "text/plain": [
       "VBox(children=(Label(value='Spotlight running on http://127.0.0.1:53227/'), HBox(children=(Button(description=…"
      ]
     },
     "metadata": {},
     "output_type": "display_data"
    }
   ],
   "source": [
    "emb_space = prepare_emb_space(\n",
    "    input,\n",
    "    response['answer'],\n",
    "    'South Africa',\n",
    "    PINDEX,\n",
    "    PKEY,\n",
    "    MAX_ENTRIES\n",
    ")\n",
    "spotlight.show(emb_space)\n"
   ]
  },
  {
   "cell_type": "markdown",
   "metadata": {},
   "source": [
    "**Obteniendo Respuestas de la Base Conocimiento y el Modelo Fundacional**"
   ]
  },
  {
   "cell_type": "code",
   "execution_count": 70,
   "metadata": {
    "scrolled": true
   },
   "outputs": [
    {
     "name": "stdout",
     "output_type": "stream",
     "text": [
      "Respuesta despues de 60.9077 segundos:\n",
      "Hi there! The Black Rhino Game Lodge is located in Pilanesberg National Park, which is a popular destination for wildlife enthusiasts. Within the park, you can explore various game drives and safaris to spot the Big Five (lions, leopards, rhinos, elephants, and buffalos) and other wildlife. Additionally, the nearby Sun City Resort offers a range of attractions, including casinos, golf courses, water parks, and entertainment venues. If you're interested in cultural experiences, you can visit the Pilanesberg Centre, which provides information about the park's history, ecology, and conservation efforts. Overall, the area offers a mix of wildlife, adventure, and relaxation options to suit different interests.\n"
     ]
    }
   ],
   "source": [
    "input = '''What attractions are close to Black Rhino Game Lodge, north west province in south africa?'''\n",
    "\n",
    "elapsed_time, response = retrieve_and_generate(input, retriever, llm)\n",
    "display_response(response, elapsed_time)\n"
   ]
  },
  {
   "cell_type": "markdown",
   "metadata": {},
   "source": [
    "**Evaluación**\n"
   ]
  },
  {
   "cell_type": "code",
   "execution_count": 71,
   "metadata": {},
   "outputs": [
    {
     "name": "stderr",
     "output_type": "stream",
     "text": [
      "/var/folders/cy/k7rk55bs57sg43vmv400yd_r0000gp/T/ipykernel_3741/1787413403.py:36: FutureWarning: The behavior of DataFrame concatenation with empty or all-NA entries is deprecated. In a future version, this will no longer exclude empty or all-NA columns when determining the result dtypes. To retain the old behavior, exclude the relevant entries before the concat operation.\n",
      "  emb_space_df = pd.concat(\n"
     ]
    },
    {
     "data": {
      "application/vnd.jupyter.widget-view+json": {
       "model_id": "361e9cc38a424b658549e0f72446e0c0",
       "version_major": 2,
       "version_minor": 0
      },
      "text/plain": [
       "VBox(children=(Label(value='Spotlight running on http://127.0.0.1:53265/'), HBox(children=(Button(description=…"
      ]
     },
     "metadata": {},
     "output_type": "display_data"
    }
   ],
   "source": [
    "emb_space = prepare_emb_space(\n",
    "    input,\n",
    "    response['answer'],\n",
    "    'South Africa',\n",
    "    PINDEX,\n",
    "    PKEY,\n",
    "    MAX_ENTRIES\n",
    ")\n",
    "spotlight.show(emb_space)\n"
   ]
  },
  {
   "cell_type": "markdown",
   "metadata": {},
   "source": [
    "**Obteniendo Respuestas de la Base Conocimiento y el Modelo Fundacional**"
   ]
  },
  {
   "cell_type": "code",
   "execution_count": 72,
   "metadata": {},
   "outputs": [
    {
     "name": "stdout",
     "output_type": "stream",
     "text": [
      "Respuesta despues de 12.4944 segundos:\n",
      "Hello! I'd be happy to help you find accommodation in Cape Town, Western Cape Province, South Africa. Here are some options for you:\n",
      "\n",
      "1. Cape Village Lodge - This 4-star guesthouse is located in Cape Town (Welgemoed) and is within a 5-minute drive of Durbanville Golf Club and Nitida Cellars.\n",
      "2. This cottage - This 5-star cottage is located in Cape Town (Cape Town City Centre) and is within a 10-minute drive of Table Mountain and South African National Gallery.\n",
      "3. This apartment - This 4-star apartment is located in Cape Town (Cape Town City Centre) and is within a 10-minute walk of Kloof Street and Table Mountain National Park.\n",
      "4. This vacation home - This 4.5-star vacation home is located in Cape Town (Cape Town City Centre) and is within a 5-minute walk of Greenmarket Square and Table Mountain National Park.\n",
      "5. This apartment - This 4-star apartment is located in Cape Town (Cape Town City Centre) and is within a 5-minute drive of Castle of Good Hope and Kloof Street.\n",
      "6. This apartment - This 4-star apartment is located in Cape Town (Cape Town City Centre) and is within a 5-minute drive of District 6 and Cape Peninsula University of Technology.\n",
      "7. This apartment - This 4-star apartment is located in Cape Town (Cape Town City Centre) and is within a 10-minute drive of Long Street and Lions Head.\n",
      "8. This apartment - This 4-star apartment is located in Cape Town (Cape Town City Centre) and is within a 10-minute walk of Cape Quarter Lifestyle Village and Table Mountain National Park.\n",
      "\n",
      "Let me know if you have any questions about these options or if you would like to see more!\n"
     ]
    }
   ],
   "source": [
    "input = '''Can you suggest accommodation in cape town, western cape province in south africa?'''\n",
    "\n",
    "elapsed_time, response = retrieve_and_generate(input, retriever, llm)\n",
    "display_response(response, elapsed_time)\n"
   ]
  },
  {
   "cell_type": "markdown",
   "metadata": {},
   "source": [
    "**Evaluación**\n"
   ]
  },
  {
   "cell_type": "code",
   "execution_count": 73,
   "metadata": {},
   "outputs": [
    {
     "name": "stderr",
     "output_type": "stream",
     "text": [
      "/var/folders/cy/k7rk55bs57sg43vmv400yd_r0000gp/T/ipykernel_3741/1787413403.py:36: FutureWarning: The behavior of DataFrame concatenation with empty or all-NA entries is deprecated. In a future version, this will no longer exclude empty or all-NA columns when determining the result dtypes. To retain the old behavior, exclude the relevant entries before the concat operation.\n",
      "  emb_space_df = pd.concat(\n"
     ]
    },
    {
     "data": {
      "application/vnd.jupyter.widget-view+json": {
       "model_id": "2c7a39204aa7454d9767b31bdbaeb3e2",
       "version_major": 2,
       "version_minor": 0
      },
      "text/plain": [
       "VBox(children=(Label(value='Spotlight running on http://127.0.0.1:53314/'), HBox(children=(Button(description=…"
      ]
     },
     "metadata": {},
     "output_type": "display_data"
    }
   ],
   "source": [
    "emb_space = prepare_emb_space(\n",
    "    input,\n",
    "    response['answer'],\n",
    "    'South Africa',\n",
    "    PINDEX,\n",
    "    PKEY,\n",
    "    MAX_ENTRIES\n",
    ")\n",
    "spotlight.show(emb_space)\n"
   ]
  },
  {
   "cell_type": "markdown",
   "metadata": {},
   "source": [
    "**Obteniendo Respuestas de la Base Conocimiento y el Modelo Fundacional**"
   ]
  },
  {
   "cell_type": "code",
   "execution_count": 74,
   "metadata": {},
   "outputs": [
    {
     "name": "stdout",
     "output_type": "stream",
     "text": [
      "Respuesta despues de 10.3708 segundos:\n",
      "Hello! I'd be happy to help you find accommodation in Cape Town, Western Cape Province, South Africa with a minimum rating of 4. Here are some options for you:\n",
      "\n",
      "1. Cape Village Lodge in Cape Town (Welgemoed) - 4-star guesthouse\n",
      "2. This apartment in Cape Town (Cape Town City Centre) - 4-star apartment\n",
      "3. This apartment in Cape Town (Cape Town City Centre) - 4-star apartment\n",
      "4. This apartment in Cape Town (Cape Town City Centre) - 4-star apartment\n",
      "5. This apartment in Cape Town (Cape Town City Centre) - 4-star apartment\n",
      "6. This apartment in Cape Town (Cape Town City Centre) - 4-star apartment\n",
      "7. This apartment in Cape Town (Cape Town City Centre) - 4-star apartment\n",
      "8. This apartment in Cape Town (Cape Town City Centre) - 4-star apartment\n",
      "9. This vacation home in Cape Town (Cape Peninsula) - 4-star vacation home\n",
      "10. This cottage in Cape Town (Cape Peninsula) - 4-star cottage\n",
      "11. This apartment in Cape Town (Camps Bay) - 4-star apartment\n",
      "12. This apartment in Cape Town (Cape Town City Centre) - 4-star apartment\n",
      "13. This apartment in Cape Town (Cape Town City Centre) - 4-star apartment\n",
      "\n",
      "Please let me know if you need more information about any of these options or if you have any other preferences.\n"
     ]
    }
   ],
   "source": [
    "input = '''Can you suggest accommodation in cape town, western cape province in south africa, minimum rating of 4?'''\n",
    "\n",
    "elapsed_time, response = retrieve_and_generate(input, retriever, llm)\n",
    "display_response(response, elapsed_time)\n"
   ]
  },
  {
   "cell_type": "markdown",
   "metadata": {},
   "source": [
    "**Evaluación**\n"
   ]
  },
  {
   "cell_type": "code",
   "execution_count": 76,
   "metadata": {},
   "outputs": [
    {
     "name": "stderr",
     "output_type": "stream",
     "text": [
      "/var/folders/cy/k7rk55bs57sg43vmv400yd_r0000gp/T/ipykernel_3741/1787413403.py:36: FutureWarning: The behavior of DataFrame concatenation with empty or all-NA entries is deprecated. In a future version, this will no longer exclude empty or all-NA columns when determining the result dtypes. To retain the old behavior, exclude the relevant entries before the concat operation.\n",
      "  emb_space_df = pd.concat(\n"
     ]
    },
    {
     "data": {
      "application/vnd.jupyter.widget-view+json": {
       "model_id": "4e24908a87904ab19f20e8f32cefd1b7",
       "version_major": 2,
       "version_minor": 0
      },
      "text/plain": [
       "VBox(children=(Label(value='Spotlight running on http://127.0.0.1:53422/'), HBox(children=(Button(description=…"
      ]
     },
     "metadata": {},
     "output_type": "display_data"
    }
   ],
   "source": [
    "emb_space = prepare_emb_space(\n",
    "    input,\n",
    "    response['answer'],\n",
    "    'South Africa',\n",
    "    PINDEX,\n",
    "    PKEY,\n",
    "    MAX_ENTRIES\n",
    ")\n",
    "spotlight.show(emb_space)\n"
   ]
  },
  {
   "cell_type": "markdown",
   "metadata": {},
   "source": [
    "**Obteniendo Respuestas de la Base Conocimiento y el Modelo Fundacional**"
   ]
  },
  {
   "cell_type": "code",
   "execution_count": 77,
   "metadata": {},
   "outputs": [
    {
     "name": "stdout",
     "output_type": "stream",
     "text": [
      "Respuesta despues de 11.8143 segundos:\n",
      "Hello! I'd be happy to help you find accommodation in Hoedspruit, Limpopo Province, South Africa. Here are some options for you:\n",
      "\n",
      "1. Twiga Travel: This 4-star lodge is located in Hoedspruit and is 13.2 mi (21.2 km) from Jessica the Hippo and 15.1 mi (24.2 km) from Hoedspruit Endangered Species Centre.\n",
      "2. Private Vacation Home: This 4-star vacation home is located in Hoedspruit and is within a 5-minute drive of Hoedspruit Wildlife Estate. It is 5.8 mi (9.4 km) from Greater Kruger National Park and 11.9 mi (19.2 km) from Jessica the Hippo.\n",
      "3. Private Vacation Home: This 4-star vacation home is located in Hoedspruit and is in the mountains, a 4-minute drive from Hoedspruit Wildlife Estate and 11 minutes from Kapama Game Reserve. It is 5.6 mi (9.1 km) from Balule Game Reserve and 12.2 mi (19.6 km) from Jessica the Hippo.\n",
      "\n",
      "Please note that the third option will be closed for renovations from April 24, 2021, to January 31, 2023.\n",
      "\n",
      "Let me know if you have any other questions or if you would like more information about any of these options!\n"
     ]
    }
   ],
   "source": [
    "input = '''Can you suggest accommodation in Hoedspruit, limpopo province in south africa?'''\n",
    "\n",
    "elapsed_time, response = retrieve_and_generate(input, retriever, llm)\n",
    "display_response(response, elapsed_time)\n"
   ]
  },
  {
   "cell_type": "markdown",
   "metadata": {},
   "source": [
    "**Evaluación**\n"
   ]
  },
  {
   "cell_type": "code",
   "execution_count": 78,
   "metadata": {},
   "outputs": [
    {
     "name": "stderr",
     "output_type": "stream",
     "text": [
      "/var/folders/cy/k7rk55bs57sg43vmv400yd_r0000gp/T/ipykernel_3741/1787413403.py:36: FutureWarning: The behavior of DataFrame concatenation with empty or all-NA entries is deprecated. In a future version, this will no longer exclude empty or all-NA columns when determining the result dtypes. To retain the old behavior, exclude the relevant entries before the concat operation.\n",
      "  emb_space_df = pd.concat(\n"
     ]
    },
    {
     "data": {
      "application/vnd.jupyter.widget-view+json": {
       "model_id": "9ecc0f0f623d4086ae4ec4aef9e6f64e",
       "version_major": 2,
       "version_minor": 0
      },
      "text/plain": [
       "VBox(children=(Label(value='Spotlight running on http://127.0.0.1:53441/'), HBox(children=(Button(description=…"
      ]
     },
     "metadata": {},
     "output_type": "display_data"
    }
   ],
   "source": [
    "emb_space = prepare_emb_space(\n",
    "    input,\n",
    "    response['answer'],\n",
    "    'South Africa',\n",
    "    PINDEX,\n",
    "    PKEY,\n",
    "    MAX_ENTRIES\n",
    ")\n",
    "spotlight.show(emb_space)\n"
   ]
  },
  {
   "cell_type": "markdown",
   "metadata": {},
   "source": [
    "**Obteniendo Respuestas de la Base Conocimiento y el Modelo Fundacional**"
   ]
  },
  {
   "cell_type": "code",
   "execution_count": 79,
   "metadata": {},
   "outputs": [
    {
     "name": "stdout",
     "output_type": "stream",
     "text": [
      "Respuesta despues de 10.6289 segundos:\n",
      "Hello! I'd be happy to help you find a place to stay in Monterrey, Nuevo Leon. Here are five options for you:\n",
      "\n",
      "1. Auténtico Monterrey: This 4-star hotel is located in San Pedro Garza García, within a 10-minute drive of Fundidora Park and Paseo San Pedro. It offers comfortable guest rooms with modern amenities, a swimming pool, and a restaurant.\n",
      "\n",
      "2. NH Monterrey La Fe: This 4-star hotel is centrally located in San Nicolas de los Garza, within a 10-minute drive of Fundidora Park and Paseo La Fe. It offers air-conditioned rooms with minibars and flat-screen TVs, a restaurant, and a bar.\n",
      "\n",
      "3. Hotel Cinco Monteria: This hotel is located in Montería, Colombia, not in Monterrey, Mexico. However, I'll include it here for reference. It offers a restaurant, a rooftop terrace with a hot tub, and free WiFi access.\n",
      "\n",
      "4. Real Inn Nuevo Morelos: This hotel is located in Nuevo Morelos and features a garden, a bar, and a terrace. It offers air-conditioned rooms with private bathrooms, a restaurant, and room service.\n",
      "\n",
      "5. Mex Hoteles: This 4-star hotel is located in the Downtown Cancun district of Cancún, Mexico, not in Monterrey. However, I'll include it here for reference. It offers a fitness center, an outdoor pool, and air-conditioned rooms with private bathrooms.\n",
      "\n",
      "I hope this helps! Let me know if you have any other questions.\n"
     ]
    }
   ],
   "source": [
    "input = '''Can you suggest 5 places to stay in Monterrey, Nuevo Leon in Mexico?'''\n",
    "\n",
    "elapsed_time, response = retrieve_and_generate(input, retriever, llm)\n",
    "display_response(response, elapsed_time)\n"
   ]
  },
  {
   "cell_type": "markdown",
   "metadata": {},
   "source": [
    "**Evaluación**\n"
   ]
  },
  {
   "cell_type": "code",
   "execution_count": 80,
   "metadata": {},
   "outputs": [
    {
     "name": "stderr",
     "output_type": "stream",
     "text": [
      "/var/folders/cy/k7rk55bs57sg43vmv400yd_r0000gp/T/ipykernel_3741/1787413403.py:36: FutureWarning: The behavior of DataFrame concatenation with empty or all-NA entries is deprecated. In a future version, this will no longer exclude empty or all-NA columns when determining the result dtypes. To retain the old behavior, exclude the relevant entries before the concat operation.\n",
      "  emb_space_df = pd.concat(\n"
     ]
    },
    {
     "data": {
      "application/vnd.jupyter.widget-view+json": {
       "model_id": "ba4df947479e4292a5a48ff218fd7fc3",
       "version_major": 2,
       "version_minor": 0
      },
      "text/plain": [
       "VBox(children=(Label(value='Spotlight running on http://127.0.0.1:53468/'), HBox(children=(Button(description=…"
      ]
     },
     "metadata": {},
     "output_type": "display_data"
    }
   ],
   "source": [
    "emb_space = prepare_emb_space(\n",
    "    input,\n",
    "    response['answer'],\n",
    "    'Mexico',\n",
    "    PINDEX,\n",
    "    PKEY,\n",
    "    MAX_ENTRIES\n",
    ")\n",
    "spotlight.show(emb_space)\n"
   ]
  },
  {
   "cell_type": "markdown",
   "metadata": {},
   "source": [
    "**Obteniendo Respuestas de la Base Conocimiento y el Modelo Fundacional**"
   ]
  },
  {
   "cell_type": "code",
   "execution_count": 81,
   "metadata": {},
   "outputs": [
    {
     "name": "stdout",
     "output_type": "stream",
     "text": [
      "Respuesta despues de 5.3668 segundos:\n",
      "Hello! Here are five places to stay in Monterrey, Nuevo Leon, Mexico, near Tec de Monterrey:\n",
      "1. Hyatt Place Monterrey Valle\n",
      "2. NH Monterrey La Fe\n",
      "3. Quinta Real Monterrey\n",
      "4. Smart Hotel Cintermex\n",
      "5. Novotel Monterrey Valle\n",
      "\n",
      "I hope this helps! Let me know if you have any other questions.\n"
     ]
    }
   ],
   "source": [
    "input = '''Can you suggest 5 places to stay in Monterrey, Nuevo Leon in Mexico, near Tec de Monterrey?'''\n",
    "\n",
    "elapsed_time, response = retrieve_and_generate(input, retriever, llm)\n",
    "display_response(response, elapsed_time)\n"
   ]
  },
  {
   "cell_type": "markdown",
   "metadata": {},
   "source": [
    "**Evaluación**\n"
   ]
  },
  {
   "cell_type": "code",
   "execution_count": 82,
   "metadata": {},
   "outputs": [
    {
     "name": "stderr",
     "output_type": "stream",
     "text": [
      "/var/folders/cy/k7rk55bs57sg43vmv400yd_r0000gp/T/ipykernel_3741/1787413403.py:36: FutureWarning: The behavior of DataFrame concatenation with empty or all-NA entries is deprecated. In a future version, this will no longer exclude empty or all-NA columns when determining the result dtypes. To retain the old behavior, exclude the relevant entries before the concat operation.\n",
      "  emb_space_df = pd.concat(\n"
     ]
    },
    {
     "data": {
      "application/vnd.jupyter.widget-view+json": {
       "model_id": "40b559aa500d4976b65285cc7b0205e3",
       "version_major": 2,
       "version_minor": 0
      },
      "text/plain": [
       "VBox(children=(Label(value='Spotlight running on http://127.0.0.1:53526/'), HBox(children=(Button(description=…"
      ]
     },
     "metadata": {},
     "output_type": "display_data"
    }
   ],
   "source": [
    "emb_space = prepare_emb_space(\n",
    "    input,\n",
    "    response['answer'],\n",
    "    'Mexico',\n",
    "    PINDEX,\n",
    "    PKEY,\n",
    "    MAX_ENTRIES\n",
    ")\n",
    "spotlight.show(emb_space)\n"
   ]
  },
  {
   "cell_type": "markdown",
   "metadata": {},
   "source": [
    "**Obteniendo Respuestas de la Base Conocimiento y el Modelo Fundacional**"
   ]
  },
  {
   "cell_type": "code",
   "execution_count": 83,
   "metadata": {},
   "outputs": [
    {
     "name": "stdout",
     "output_type": "stream",
     "text": [
      "Respuesta despues de 6.0281 segundos:\n",
      "Hello! I'm happy to help you find the perfect hotel for your romantic weekend in Mexico City. Marquis Reforma Hotel Spa is a 4.5-star hotel that offers spa services, including massages. It is located in the city center, close to Chapultepec Park and the Angel of Independence Monument. Another option is Hotel Spa Sitio Sagrado, which is located in the outskirts of Tepoztlán, a Magic Village. It offers an outdoor pool, a restaurant, and a bar, as well as spa services. Let me know if you would like to know more about these hotels or if you want to explore other options.\n"
     ]
    }
   ],
   "source": [
    "input = '''I want to stay with my wife for a romantic weekend in Mexico City. We want to have a nice massage within the hotel.'''\n",
    "\n",
    "elapsed_time, response = retrieve_and_generate(input, retriever, llm)\n",
    "display_response(response, elapsed_time)\n"
   ]
  },
  {
   "cell_type": "markdown",
   "metadata": {},
   "source": [
    "**Evaluación**\n"
   ]
  },
  {
   "cell_type": "code",
   "execution_count": 84,
   "metadata": {},
   "outputs": [
    {
     "name": "stderr",
     "output_type": "stream",
     "text": [
      "/var/folders/cy/k7rk55bs57sg43vmv400yd_r0000gp/T/ipykernel_3741/1787413403.py:36: FutureWarning: The behavior of DataFrame concatenation with empty or all-NA entries is deprecated. In a future version, this will no longer exclude empty or all-NA columns when determining the result dtypes. To retain the old behavior, exclude the relevant entries before the concat operation.\n",
      "  emb_space_df = pd.concat(\n"
     ]
    },
    {
     "data": {
      "application/vnd.jupyter.widget-view+json": {
       "model_id": "148396f6d27e40c9b1519178e449ae73",
       "version_major": 2,
       "version_minor": 0
      },
      "text/plain": [
       "VBox(children=(Label(value='Spotlight running on http://127.0.0.1:53570/'), HBox(children=(Button(description=…"
      ]
     },
     "metadata": {},
     "output_type": "display_data"
    }
   ],
   "source": [
    "emb_space = prepare_emb_space(\n",
    "    input,\n",
    "    response['answer'],\n",
    "    'Mexico',\n",
    "    PINDEX,\n",
    "    PKEY,\n",
    "    MAX_ENTRIES\n",
    ")\n",
    "spotlight.show(emb_space)\n"
   ]
  },
  {
   "cell_type": "markdown",
   "metadata": {},
   "source": [
    "**Obteniendo Respuestas de la Base Conocimiento y el Modelo Fundacional**"
   ]
  },
  {
   "cell_type": "code",
   "execution_count": 85,
   "metadata": {},
   "outputs": [
    {
     "name": "stdout",
     "output_type": "stream",
     "text": [
      "Respuesta despues de 7.1317 segundos:\n",
      "Hi! I'm happy to help you find the perfect hotel for your golf weekend in Cancun. Here are some options that have their own golf course:\n",
      "\n",
      "- The Villa du Golf à Cancun Hotel Boutique is located in the exclusive Golf Course of Pok-ta-Pok in Cancun's hotel zone.\n",
      "- The Dreams Vista Cancun Golf & Spa Resort - All Inclusive is located near the Puerto Cancun Golf Course.\n",
      "- The Wyndham Grand Cancun All Inclusive Resort & Villas is located near the Iberostar Cancun Golf Course.\n",
      "\n",
      "Let me know if you have any questions about these hotels or if you would like to see more options!\n"
     ]
    }
   ],
   "source": [
    "input = '''I want to do a a golf weekend with my friends in Cancun. What hotels do you recommend that have their own golf course?'''\n",
    "\n",
    "elapsed_time, response = retrieve_and_generate(input, retriever, llm)\n",
    "display_response(response, elapsed_time)\n"
   ]
  },
  {
   "cell_type": "markdown",
   "metadata": {},
   "source": [
    "**Evaluación**\n"
   ]
  },
  {
   "cell_type": "code",
   "execution_count": 86,
   "metadata": {},
   "outputs": [
    {
     "name": "stderr",
     "output_type": "stream",
     "text": [
      "/var/folders/cy/k7rk55bs57sg43vmv400yd_r0000gp/T/ipykernel_3741/1787413403.py:36: FutureWarning: The behavior of DataFrame concatenation with empty or all-NA entries is deprecated. In a future version, this will no longer exclude empty or all-NA columns when determining the result dtypes. To retain the old behavior, exclude the relevant entries before the concat operation.\n",
      "  emb_space_df = pd.concat(\n"
     ]
    },
    {
     "data": {
      "application/vnd.jupyter.widget-view+json": {
       "model_id": "a7aaa219721944869cd0a356a8ce16de",
       "version_major": 2,
       "version_minor": 0
      },
      "text/plain": [
       "VBox(children=(Label(value='Spotlight running on http://127.0.0.1:53677/'), HBox(children=(Button(description=…"
      ]
     },
     "metadata": {},
     "output_type": "display_data"
    }
   ],
   "source": [
    "emb_space = prepare_emb_space(\n",
    "    input,\n",
    "    response['answer'],\n",
    "    'Mexico',\n",
    "    PINDEX,\n",
    "    PKEY,\n",
    "    MAX_ENTRIES\n",
    ")\n",
    "spotlight.show(emb_space)\n"
   ]
  },
  {
   "cell_type": "markdown",
   "metadata": {},
   "source": [
    "**Obteniendo Respuestas de la Base Conocimiento y el Modelo Fundacional**"
   ]
  },
  {
   "cell_type": "code",
   "execution_count": 87,
   "metadata": {},
   "outputs": [
    {
     "name": "stdout",
     "output_type": "stream",
     "text": [
      "Respuesta despues de 6.3769 segundos:\n",
      "Hello! I'd be happy to help you find hotels near Ueno Park in Tokyo. Here are some options:\n",
      "\n",
      "1. Mitsui Garden Hotel Ueno Tokyo - This 4-star hotel is just 0.3 miles (0.5 km) from Ueno Park.\n",
      "2. Candeo Hotels Uenokoen - Another 4-star hotel, Candeo Hotels Uenokoen is also located near Ueno Park.\n",
      "\n",
      "Both hotels offer comfortable rooms and convenient amenities. Let me know if you need more information about either of these options!\n"
     ]
    }
   ],
   "source": [
    "input = '''Can you recommend hotels near Ueno Park in Tokyo?'''\n",
    "\n",
    "elapsed_time, response = retrieve_and_generate(input, retriever, llm)\n",
    "display_response(response, elapsed_time)\n"
   ]
  },
  {
   "cell_type": "markdown",
   "metadata": {},
   "source": [
    "**Evaluación**\n"
   ]
  },
  {
   "cell_type": "code",
   "execution_count": 88,
   "metadata": {},
   "outputs": [
    {
     "name": "stderr",
     "output_type": "stream",
     "text": [
      "/var/folders/cy/k7rk55bs57sg43vmv400yd_r0000gp/T/ipykernel_3741/1787413403.py:36: FutureWarning: The behavior of DataFrame concatenation with empty or all-NA entries is deprecated. In a future version, this will no longer exclude empty or all-NA columns when determining the result dtypes. To retain the old behavior, exclude the relevant entries before the concat operation.\n",
      "  emb_space_df = pd.concat(\n"
     ]
    },
    {
     "data": {
      "application/vnd.jupyter.widget-view+json": {
       "model_id": "5547ad7514f74d60abbd542cae8586d1",
       "version_major": 2,
       "version_minor": 0
      },
      "text/plain": [
       "VBox(children=(Label(value='Spotlight running on http://127.0.0.1:53748/'), HBox(children=(Button(description=…"
      ]
     },
     "metadata": {},
     "output_type": "display_data"
    }
   ],
   "source": [
    "emb_space = prepare_emb_space(\n",
    "    input,\n",
    "    response['answer'],\n",
    "    'Japan',\n",
    "    PINDEX,\n",
    "    PKEY,\n",
    "    MAX_ENTRIES\n",
    ")\n",
    "spotlight.show(emb_space)\n"
   ]
  },
  {
   "cell_type": "markdown",
   "metadata": {},
   "source": [
    "**Obteniendo Respuestas de la Base Conocimiento y el Modelo Fundacional**"
   ]
  },
  {
   "cell_type": "code",
   "execution_count": 89,
   "metadata": {},
   "outputs": [
    {
     "name": "stdout",
     "output_type": "stream",
     "text": [
      "Respuesta despues de 19.2539 segundos:\n",
      "Hello! I'd be happy to help you find a hotel in Hakone, Japan. Here are some traditional Japanese ryokans you might like:\n",
      "\n",
      "1. Hakone Tokinoshizuku - This ryokan offers 5-star accommodation with private balconies, a restaurant, a 24-hour front desk, and free WiFi. It also features a hot spring bath, spa facilities, and an open-air bath.\n",
      "\n",
      "2. Gyokutei Ryokan - This ryokan is located atop a hill in Hakone and offers an authentic Japanese accommodation with an indoor hot spring bath. It also has a garden, luggage storage space, and a massage service.\n",
      "\n",
      "3. Hakone Yuyado Zen - This adults-only ryokan offers a garden, a bar, a shared lounge, a restaurant, an open-air bath, a hot spring bath, and a spa facility. It also has a sun terrace and free WiFi.\n",
      "\n",
      "4. Shiunso Ryokan - This ryokan is located next to Hayakawa River and offers luxurious Japanese accommodation with natural hot-spring baths. It also has traditional multi-course meals and rooms with private open-air baths.\n",
      "\n",
      "5. GORA HANAOUGI-SOUNKAKU - This ryokan is located near Hakone Kowakien Yunessun and offers 4.5-star accommodation with 24 air-conditioned rooms featuring refrigerators and flat-screen televisions. It also has a complimentary local cuisine breakfast and 4 hot-spring baths.\n",
      "\n",
      "6. Kashiwaya Honten - This ryokan is located near Kitamuki Kannon Temple and offers 4 hot-spring baths, a \"Nakai-san\" personal attendant, and traditional Kaiseki dinners. It also has indoor, open-air, and private reservable hot-spring baths.\n",
      "\n",
      "7. Hakuunsou - This ryokan is located in Yugawara and offers accommodation with an open-air bath, free WiFi, and free private parking. It also has a restaurant, a garden, a hot spring bath, and a public bath.\n",
      "\n",
      "8. Yoshiike Ryokan - This ryokan is located near Hakone Yumoto Station and offers a hot spring bath with spring water flowing directly from the source. It also has Japanese and Western-style rooms, a Japanese garden, and a restaurant.\n",
      "\n",
      "9. Gora Kadan - This ryokan is located near Hakone Kowakien Yunessun and offers 4.5-star accommodation with 39 individually decorated guestrooms featuring refrigerators and minibars. It also has a restaurant, a bar/lounge, and a complimentary full breakfast.\n",
      "\n",
      "I hope this helps! Let me know if you have any other questions.\n"
     ]
    }
   ],
   "source": [
    "input = '''Can you recommend hotels in Hakone Japan? Ideally I am looking for traditional japanese ryokans.'''\n",
    "\n",
    "elapsed_time, response = retrieve_and_generate(input, retriever, llm)\n",
    "display_response(response, elapsed_time)\n"
   ]
  },
  {
   "cell_type": "markdown",
   "metadata": {},
   "source": [
    "**Evaluación**\n"
   ]
  },
  {
   "cell_type": "code",
   "execution_count": 90,
   "metadata": {},
   "outputs": [
    {
     "name": "stderr",
     "output_type": "stream",
     "text": [
      "/var/folders/cy/k7rk55bs57sg43vmv400yd_r0000gp/T/ipykernel_3741/1787413403.py:36: FutureWarning: The behavior of DataFrame concatenation with empty or all-NA entries is deprecated. In a future version, this will no longer exclude empty or all-NA columns when determining the result dtypes. To retain the old behavior, exclude the relevant entries before the concat operation.\n",
      "  emb_space_df = pd.concat(\n"
     ]
    },
    {
     "data": {
      "application/vnd.jupyter.widget-view+json": {
       "model_id": "a14711033b1a484ebc3306f44ec41e2d",
       "version_major": 2,
       "version_minor": 0
      },
      "text/plain": [
       "VBox(children=(Label(value='Spotlight running on http://127.0.0.1:53795/'), HBox(children=(Button(description=…"
      ]
     },
     "metadata": {},
     "output_type": "display_data"
    }
   ],
   "source": [
    "emb_space = prepare_emb_space(\n",
    "    input,\n",
    "    response['answer'],\n",
    "    'Japan',\n",
    "    PINDEX,\n",
    "    PKEY,\n",
    "    MAX_ENTRIES\n",
    ")\n",
    "spotlight.show(emb_space)\n"
   ]
  },
  {
   "cell_type": "markdown",
   "metadata": {},
   "source": [
    "**Obteniendo Respuestas de la Base Conocimiento y el Modelo Fundacional**"
   ]
  },
  {
   "cell_type": "code",
   "execution_count": 91,
   "metadata": {},
   "outputs": [
    {
     "name": "stdout",
     "output_type": "stream",
     "text": [
      "Respuesta despues de 8.1313 segundos:\n",
      "I'm sorry, but I don't have enough information to provide hotel recommendations in Chihuahua near Periferico de la Juventud. However, I can suggest some hotels in Chihuahua that you might find interesting:\n",
      "\n",
      "1. Quinta Real Chihuahua: This hotel is located in the heart of Chihuahua and offers luxurious accommodations, a spa, and a fitness center.\n",
      "2. City Express Chihuahua: This hotel is located near the city center and offers modern rooms, a fitness center, and a business center.\n",
      "3. Hotel Colonial Chihuahua: This hotel is located in the historic center of Chihuahua and offers traditional Mexican decor, a restaurant, and a bar.\n",
      "4. Hotel Lucerna Chihuahua: This hotel is located near the airport and offers spacious rooms, a fitness center, and a pool.\n",
      "5. Hotel Plaza Chihuahua: This hotel is located in the city center and offers comfortable rooms, a restaurant, and a bar.\n",
      "\n",
      "I hope this helps! Let me know if you have any other questions.\n"
     ]
    }
   ],
   "source": [
    "input = '''Can you recommend hotels in Chihuauha that are located near Periferico de la Juventud?'''\n",
    "\n",
    "elapsed_time, response = retrieve_and_generate(input, retriever, llm)\n",
    "display_response(response, elapsed_time)\n"
   ]
  },
  {
   "cell_type": "markdown",
   "metadata": {},
   "source": [
    "**Evaluación**\n"
   ]
  },
  {
   "cell_type": "code",
   "execution_count": 92,
   "metadata": {},
   "outputs": [
    {
     "name": "stderr",
     "output_type": "stream",
     "text": [
      "/var/folders/cy/k7rk55bs57sg43vmv400yd_r0000gp/T/ipykernel_3741/1787413403.py:36: FutureWarning: The behavior of DataFrame concatenation with empty or all-NA entries is deprecated. In a future version, this will no longer exclude empty or all-NA columns when determining the result dtypes. To retain the old behavior, exclude the relevant entries before the concat operation.\n",
      "  emb_space_df = pd.concat(\n"
     ]
    },
    {
     "data": {
      "application/vnd.jupyter.widget-view+json": {
       "model_id": "0eb3896d77f142dd9458ab36f9ad716d",
       "version_major": 2,
       "version_minor": 0
      },
      "text/plain": [
       "VBox(children=(Label(value='Spotlight running on http://127.0.0.1:53852/'), HBox(children=(Button(description=…"
      ]
     },
     "metadata": {},
     "output_type": "display_data"
    }
   ],
   "source": [
    "emb_space = prepare_emb_space(\n",
    "    input,\n",
    "    response['answer'],\n",
    "    'Mexico',\n",
    "    PINDEX,\n",
    "    PKEY,\n",
    "    MAX_ENTRIES\n",
    ")\n",
    "spotlight.show(emb_space)\n"
   ]
  },
  {
   "cell_type": "markdown",
   "metadata": {
    "id": "b68fb8b7-959c-4eab-82d8-ac622c8071ff"
   },
   "source": [
    "## **Conclusiones**\n"
   ]
  },
  {
   "cell_type": "markdown",
   "metadata": {
    "id": "_6oLU1ff3twF"
   },
   "source": [
    "El análisis de la evaluación se encuentra en el archivo ***Proyecto-Integrador-Evaluacion-Avance4.xlsx*** en el mismo repositorio de esta libreta.\n",
    "\n",
    "La presentación de los nuevos modelos y la selección del mejor modelo se encuentran en el archivo ***Avance4 Smart Travel Assistant-Reporte de Progreso-02.pptx*** en el mismo repositorio de esta libreta."
   ]
  },
  {
   "cell_type": "markdown",
   "metadata": {
    "id": "c8c2c4ae-24a2-40a1-a4c1-44792313fbff"
   },
   "source": [
    "## **Referencias**\n",
    "\n",
    "* Monigatti, L. (2023, 6 de diciembre). A Guide on 12 Tuning Strategies for Production-Ready RAG Applications. Medium. https://towardsdatascience.com/a-guide-on-12-tuning-strategies-for-production-ready-rag-applications-7ca646833439\n",
    "\n",
    "* AWS. (2023, 28 de noviembre). Knowledge Bases now delivers fully managed RAG experience in Amazon Bedrock - Amazon Web Services.  Amazon Web Services. https://aws.amazon.com/es/blogs/aws/knowledge-bases-now-delivers-fully-managed-rag-experience-in-amazon-bedrock/\n",
    "\n",
    "* Monigatti, L. (2023, 15 de deciembre). Evaluating RAG Applications with RAGAs. Medium. https://towardsdatascience.com/evaluating-rag-applications-with-ragas-81d67b0ee31a\n",
    "\n",
    "* Grech, C. (2024, 16 de febrero). Evaluating RAG Performance: A Comprehensive Guide. Medium. https://christiangrech.medium.com/evaluating-rag-performance-a-comprehensive-guide-b1d8f903b7ad\n",
    "\n",
    "* AWS (s.f.). Amazon Titan Text models - Amazon Bedrock. docs.aws.amazon.com. Recuperado 20 de mayo 26, 2024, de https://docs.aws.amazon.com/bedrock/latest/userguide/model-parameters-titan-text.html\n",
    "\n",
    "* LangChain. (s.f.). Bedrock (Knowledge Bases). python.langchain.com. Recuperado 20 de mayo 26, 2024, de https://python.langchain.com/v0.1/docs/integrations/retrievers/bedrock/\n",
    "\n",
    "* LangChain. (s.f.). ChatBedrock. python.langchain.com. Recuperado 20 de mayo 26, 2024, de https://python.langchain.com/v0.1/docs/integrations/chat/bedrock/\n",
    "\n",
    "* LangChain. (s.f.). langchain.chains.retrieval_qa.base.RetrievalQA LangChain 0.1.12. api.python.langchain.com. https://api.python.langchain.com/en/latest/chains/langchain.chains.retrieval_qa.base.RetrievalQA.html\n",
    "\n",
    "* McInnes, L., Healy, J., & Melville, J. (2020, 17 de septiembre). UMAP: Uniform Manifold Approximation and Projection for Dimension Reduction. ArXiv.org. https://doi.org/10.48550/arXiv.1802.03426\n",
    "\n",
    "* Renumics. (s.d.). spotlight. renumics.com. Recuperado 27 de mayo, 2024, from https://renumics.com/api/spotlight\n"
   ]
  },
  {
   "cell_type": "code",
   "execution_count": null,
   "metadata": {},
   "outputs": [],
   "source": []
  }
 ],
 "metadata": {
  "colab": {
   "authorship_tag": "ABX9TyN7RsC+bWpa5Yqc1sfHsoAr",
   "include_colab_link": true,
   "provenance": []
  },
  "kernelspec": {
   "display_name": "Python 3 (ipykernel)",
   "language": "python",
   "name": "python3"
  },
  "language_info": {
   "codemirror_mode": {
    "name": "ipython",
    "version": 3
   },
   "file_extension": ".py",
   "mimetype": "text/x-python",
   "name": "python",
   "nbconvert_exporter": "python",
   "pygments_lexer": "ipython3",
   "version": "3.10.13"
  }
 },
 "nbformat": 4,
 "nbformat_minor": 4
}
