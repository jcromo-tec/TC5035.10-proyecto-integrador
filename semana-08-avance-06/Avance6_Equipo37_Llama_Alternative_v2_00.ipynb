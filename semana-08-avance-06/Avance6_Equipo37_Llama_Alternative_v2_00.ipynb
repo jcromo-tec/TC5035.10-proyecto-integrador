{
 "cells": [
  {
   "cell_type": "markdown",
   "metadata": {
    "id": "HMQEY1ttU_w-"
   },
   "source": [
    "![logo-tec-de-monterrey-.png](data:image/png;base64,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)"
   ]
  },
  {
   "cell_type": "markdown",
   "metadata": {
    "id": "b3d0b781-0da5-4c6a-a76a-c6c0837bae05"
   },
   "source": [
    "## Proyecto Integrador\n",
    "## Smart Travel Assistant: Optimizando la Experiencia de Viaje con IA\n",
    "## Avance 4"
   ]
  },
  {
   "cell_type": "markdown",
   "metadata": {
    "id": "18dd3d13-d70f-4c28-894b-159fb9f0f7f6"
   },
   "source": [
    "### Equipo 37\n",
    "##### A00759664 - Joel Orlando Hernández Ramos\n",
    "##### A01793486 - Juan Carlos Alvarado Carricarte\n",
    "##### A00260430 - Juan Carlos Romo Cárdenas\n"
   ]
  },
  {
   "cell_type": "markdown",
   "metadata": {
    "id": "wiPf8lTteLm1"
   },
   "source": [
    "## **Descripción del Proyecto**"
   ]
  },
  {
   "cell_type": "markdown",
   "metadata": {
    "id": "XqZeUJCEefQ3"
   },
   "source": [
    "Este proyecto se propone desarrollar un asistente de inteligencia artificial integrado en una plataforma de traveltech, que facilita la elección personalizada de hoteles y destinos para los usuarios. Utilizando la función \"knowledge base\" de Amazon Bedrock, el sistema integrará una extensa base de datos con información detallada sobre más de 2 millones de hoteles. Para este efecto  \n",
    "\n",
    "El objetivo principal de este proyecto es transformar la experiencia de planificación de viajes, haciendo que sea más intuitiva, personalizada y respaldada por datos. Las metas específicas incluyen mejorar la satisfacción del cliente mediante recomendaciones precisas y personalizadas, reducir el tiempo necesario para planificar un viaje y aumentar la eficiencia del proceso de selección de destinos y hoteles.\n",
    "\n",
    "El asistente empleará modelos avanzados de sistemas de recomendación, potenciados por un modelo de lenguaje de aprendizaje profundo (LLM), para sugerir itinerarios personalizados y ofrecer asistencia general en la planificación de viajes. Las recomendaciones incluirán referencias detalladas a los hoteles disponibles en nuestra base de datos, asegurando que los usuarios reciban opciones que no solo se ajustan a sus preferencias personales, sino que también maximizan la calidad y la relevancia de la información proporcionada."
   ]
  },
  {
   "cell_type": "markdown",
   "metadata": {},
   "source": [
    "## **Configuración la Base de Conocimiento y el Modelo Fundacional**"
   ]
  },
  {
   "cell_type": "markdown",
   "metadata": {},
   "source": [
    "<img src=\"./Proyecto Integrador - RAG con Bedrock-Smart Travel Assistant KB v2.00 LangChain.drawio.png\" alt=\"RAG Bedrock KB V1.00\" />"
   ]
  },
  {
   "cell_type": "markdown",
   "metadata": {},
   "source": [
    "Para crear el modelo de referencia para este proyecto se creo una base de datos de conocimientos en **AWS Bedrock**. El proceso es el siguiente:\n",
    "1. Crear la base de conocimientos, o **Knowledge Base**. Para este proyecto la base de conocimiento se llama *Volindo-hotels* y se usa una base de datos de vectores de **Pinecone**\n",
    "> * La fuente de conocimiento incluye más de 160 mil pares de archivos de texto y JSON con los datos de más de 145,000 hoteles. Cada par de archivos representa un hotel.\n",
    "2. Cargar los datos en un Bucket de S3, llamado *hotel-clean-data*\n",
    "3. Asociar el Bucket de S3 como una fuente de información para la base de conocimiento\n",
    "4. Sincronizar (cargar) los datos de la fuente de información\n",
    "\n",
    "Una vez cargado la base de conocimiento se puede probar usando la consola de AWS Bedrock o a través de APIs, tal y como se hará a continuación."
   ]
  },
  {
   "cell_type": "markdown",
   "metadata": {},
   "source": [
    "## **Probando la Base de Conocimiento y el Modelo Fundacional**"
   ]
  },
  {
   "cell_type": "markdown",
   "metadata": {
    "id": "b8af6127-cc07-4a20-8fea-57ed0d56a355"
   },
   "source": [
    "### **Preparando el Ambiente de Ejecución**\n",
    "\n",
    "Es necesario importar las librerías necesarias para iniciar una sesión de AWS y para registrar una bitácora de ejecución."
   ]
  },
  {
   "cell_type": "code",
   "execution_count": 97,
   "metadata": {
    "id": "7f538ba7-a747-42b5-9481-38084383bf8f"
   },
   "outputs": [],
   "source": [
    "# Importando librerias requeridas\n",
    "import time\n",
    "import re\n",
    "import json\n",
    "import uuid\n",
    "import io\n",
    "import logging\n",
    "import pyarrow.parquet as pq\n",
    "import pandas as pd\n",
    "import numpy as np\n",
    "import boto3\n",
    "\n",
    "import chromadb\n",
    "from chromadb.config import DEFAULT_TENANT, DEFAULT_DATABASE, Settings\n",
    "from chromadb.utils.embedding_functions import DefaultEmbeddingFunction\n",
    "\n",
    "from langchain_community.llms import LlamaCpp\n",
    "from langchain_community.embeddings.sentence_transformer import (\n",
    "    SentenceTransformerEmbeddings,\n",
    ")\n",
    "from langchain_core.output_parsers import StrOutputParser\n",
    "from langchain_core.prompts import PromptTemplate, ChatPromptTemplate\n",
    "from langchain_core.runnables import RunnablePassthrough, RunnablePick\n",
    "from langchain import hub\n",
    "\n",
    "from langchain_chroma import Chroma"
   ]
  },
  {
   "cell_type": "markdown",
   "metadata": {
    "id": "b8af6127-cc07-4a20-8fea-57ed0d56a355"
   },
   "source": [
    "### **Evaluando la Base de Conocimiento y el Modelo Fundacional**\n",
    "\n",
    "AWS Bedrock provee tres tipos de mecanismos para evaluar el desempeño de los modelos fundacionales:\n",
    "* Evaluación automatizada\n",
    "* Evaluación por un equipo de humanos\n",
    "* Evaluación por un servicio de evaluación de AWS\n",
    "\n",
    "La evaluación automatizada permite hacer evaluaciones de la precisión del modelo, la toxicidad de las respuestas y la robustes de las respuestas. Desafortunadamente AWS solo ofrece este servicio para solo uno de los modelos de Amazon y no cubre la evaluación de la base de conocimiento y de las respuestas generadas en combinación con el modelo fundacional de Titan Text Premier.\n",
    "\n",
    "Durante estas pruebas se hará una evaluación cualitativa de las repuestas. Para este efecto cada participante del equipo proveerá una calificación de la respuesta indicando si la respuesta es o no correcta, si es precisa o imprecisa y si está o no basada en los hechos de referencia. La calificación se evalúa en una escala del 1 al 5 como sigue  (Grech, 2024):\n",
    "\n",
    "1. La respuesta es completamente incorrecta, imprecisa y/o no basada en los hechos\n",
    "2. La respuesta es en su mayoría incorrecta, imprecisa y/o no basada en los hechos\n",
    "3. La respuesta es de alguna manera correcta, precisa y/o basada en los hechos\n",
    "4. La respuesta es en su mayoría correcta, precisa y/o basada en los hechos\n",
    "5. La respuesta es completamente correcta, precisa y/o basada en los hechos\n"
   ]
  },
  {
   "cell_type": "markdown",
   "metadata": {
    "id": "b8af6127-cc07-4a20-8fea-57ed0d56a355"
   },
   "source": [
    "### **Creando Agente para Recuperar Informacion de Contexto**"
   ]
  },
  {
   "cell_type": "code",
   "execution_count": 98,
   "metadata": {
    "id": "0d6d5eee-596e-4bb8-a3c9-919ce176fe7b"
   },
   "outputs": [
    {
     "name": "stderr",
     "output_type": "stream",
     "text": [
      "/Users/jcromo/Miniconda3/envs/proyecto/lib/python3.10/site-packages/huggingface_hub/file_download.py:1132: FutureWarning: `resume_download` is deprecated and will be removed in version 1.0.0. Downloads always resume when possible. If you want to force a new download, use `force_download=True`.\n",
      "  warnings.warn(\n"
     ]
    }
   ],
   "source": [
    "# Creando sesion para AWS Bedrock. Credenciales y configuracion se obtienen de ~/.aws\n",
    "embeddings = SentenceTransformerEmbeddings(model_name=\"all-MiniLM-L6-v2\")\n",
    "\n",
    "db_client = chromadb.PersistentClient(\n",
    "    path=\"../chroma/4p\",\n",
    "    tenant=DEFAULT_TENANT,\n",
    "    database=DEFAULT_DATABASE,\n",
    ")\n",
    "\n",
    "vector_store = Chroma(\n",
    "    'volindo',\n",
    "    client=db_client,\n",
    "    embedding_function=embeddings,\n",
    "    collection_metadata={\"hnsw:space\": \"cosine\"}\n",
    ")\n",
    "\n"
   ]
  },
  {
   "cell_type": "markdown",
   "metadata": {
    "id": "b8af6127-cc07-4a20-8fea-57ed0d56a355"
   },
   "source": [
    "### **Creando Agente para Questionar el Modelo Fundacional**"
   ]
  },
  {
   "cell_type": "code",
   "execution_count": 99,
   "metadata": {},
   "outputs": [],
   "source": [
    "model_kwargs_premier = {'temperature': 0, 'topP': 0.7, 'maxTokenCount': 3000}\n",
    "n_gpu_layers = 1  # Metal set to 1 is enough.\n",
    "n_batch = 512  # Should be between 1 and n_ctx, consider the amount of RAM of your Apple Silicon Chip.\n",
    "\n",
    "# Make sure the model path is correct for your system!\n",
    "llm = LlamaCpp(\n",
    "    model_path=\"../llama/llama-2-7b-chat/llama-2-7b-chat.Q5_K_M.gguf\",\n",
    "    n_gpu_layers=n_gpu_layers,\n",
    "    n_batch=n_batch,\n",
    "    n_ctx=4096,\n",
    "    f16_kv=True,  # MUST set to True, otherwise you will run into problem after a couple of calls\n",
    "    verbose=False,\n",
    "    temperature=0.00001,\n",
    "    top_k=10,\n",
    "    top_p=0.7,\n",
    "    max_tokens=3000,\n",
    "    use_mmap=True\n",
    ")"
   ]
  },
  {
   "cell_type": "markdown",
   "metadata": {
    "id": "b8af6127-cc07-4a20-8fea-57ed0d56a355"
   },
   "source": [
    "### **Creando Función para Solictar Respuestas de AWS Bedrock y para Desplegarlas**"
   ]
  },
  {
   "cell_type": "code",
   "execution_count": 100,
   "metadata": {},
   "outputs": [
    {
     "data": {
      "text/plain": [
       "ChatPromptTemplate(input_variables=['context', 'question'], metadata={'lc_hub_owner': 'rlm', 'lc_hub_repo': 'rag-prompt-llama', 'lc_hub_commit_hash': '693a2db5447e3b58c060a6ac02758dc7f1aaaaa4ee6214d127bf70b443158630'}, messages=[HumanMessagePromptTemplate(prompt=PromptTemplate(input_variables=['context', 'question'], template=\"[INST]<<SYS>> You are an assistant for question-answering tasks. Use the following pieces of retrieved context to answer the question. If you don't know the answer, just say that you don't know. Use three sentences maximum and keep the answer concise.<</SYS>> \\nQuestion: {question} \\nContext: {context} \\nAnswer: [/INST]\"))])"
      ]
     },
     "execution_count": 100,
     "metadata": {},
     "output_type": "execute_result"
    }
   ],
   "source": [
    "# Prompt\n",
    "rag_prompt_llama = hub.pull(\"rlm/rag-prompt-llama\")\n",
    "rag_prompt_llama"
   ]
  },
  {
   "cell_type": "code",
   "execution_count": 101,
   "metadata": {},
   "outputs": [
    {
     "data": {
      "text/plain": [
       "ChatPromptTemplate(input_variables=['context', 'question'], messages=[HumanMessagePromptTemplate(prompt=PromptTemplate(input_variables=['context', 'question'], template=\"[INST]<<SYS>> You are a friendly and helpful travel assistant. Begin your response with a polite greeting. Accurately use the detailed context provided to answer the following query, particularly focusing on correct location details. Ensure the locations mentioned are verified against the context. Provide options within the same city or nearby, double-checking location accuracy. Offer two or three choices when possible. Address the user by name if provided in the context. If the answer is unknown or if you cannot verify the location details, state 'I don't know'. Limit responses to three sentences and maintain conciseness.<</SYS>> \\nQuestion: {question} \\nContext: {context} \\nAnswer: [/INST]\"))])"
      ]
     },
     "execution_count": 101,
     "metadata": {},
     "output_type": "execute_result"
    }
   ],
   "source": [
    "system_prompt = (\n",
    "    \"[INST]<<SYS>> \"\n",
    "    \"You are a friendly and helpful travel assistant. Begin your response with a polite greeting.\"\n",
    "    \" Accurately use the detailed context provided to answer the following query, particularly focusing on correct location details.\"\n",
    "    \" Ensure the locations mentioned are verified against the context.\"\n",
    "    \" Provide options within the same city or nearby, double-checking location accuracy.\"\n",
    "    \" Offer two or three choices when possible. Address the user by name if provided in the context.\"\n",
    "    \" If the answer is unknown or if you cannot verify the location details, state 'I don't know'.\"\n",
    "    \" Limit responses to three sentences and maintain conciseness.<</SYS>>\"\n",
    "    \" \\nQuestion: {question} \\nContext: {context} \\nAnswer: [/INST]\"\n",
    ")\n",
    "rag_prompt_llama = ChatPromptTemplate.from_messages(\n",
    "    [\n",
    "        (\"human\", system_prompt),\n",
    "    ]\n",
    ")\n",
    "rag_prompt_llama"
   ]
  },
  {
   "cell_type": "code",
   "execution_count": 102,
   "metadata": {},
   "outputs": [],
   "source": [
    "def format_docs(docs):\n",
    "    return \"\\n\\n\".join(doc.page_content for doc in docs)\n"
   ]
  },
  {
   "cell_type": "code",
   "execution_count": 103,
   "metadata": {},
   "outputs": [],
   "source": [
    "# Creando función para buscar información en la base de conocimiento y generar una respuesta usando el modelo fundacional\n",
    "# Titan Text Premier de AWS Bedrock. La función también calcula el tiempo de ejecución\n",
    "def retrieve_and_generate(query, rag_prompt, vector_store, llm):\n",
    "    start_time = time.time()\n",
    "\n",
    "    context = vector_store.similarity_search(query)\n",
    "    \n",
    "    chain = (\n",
    "        RunnablePassthrough.assign(context=RunnablePick(\"context\") | format_docs)\n",
    "        | rag_prompt\n",
    "        | llm\n",
    "        | StrOutputParser()\n",
    "    )\n",
    "    response = chain.invoke({\"context\": context, \"question\": query})\n",
    "\n",
    "    elapsed_time = time.time() - start_time\n",
    "    return elapsed_time, response, context\n"
   ]
  },
  {
   "cell_type": "code",
   "execution_count": 104,
   "metadata": {},
   "outputs": [],
   "source": [
    "# Creando función desplegar la respuesta recibida de AWS. La respuesta incluye diferentes valores como la respuesta completa,\n",
    "# la respuesta en partes, o citas, con referencias y los metadatos de cada referencia\n",
    "def display_response(response, context, elapsed_time):\n",
    "    # desplegando respuestas\n",
    "    print(f\"Respuesta despues de {elapsed_time:.4f} segundos:\\n{response}\")\n",
    "    for doc in context:\n",
    "        print(f\"\\nContexto:\\n{doc}\")\n"
   ]
  },
  {
   "cell_type": "markdown",
   "metadata": {},
   "source": [
    "### **Ejecutando la Evaluación**"
   ]
  },
  {
   "cell_type": "markdown",
   "metadata": {},
   "source": [
    "**Obteniendo Respuestas de la Base Conocimiento y el Modelo Fundacional**"
   ]
  },
  {
   "cell_type": "code",
   "execution_count": 105,
   "metadata": {
    "id": "0d6d5eee-596e-4bb8-a3c9-919ce176fe7b",
    "scrolled": true
   },
   "outputs": [
    {
     "name": "stdout",
     "output_type": "stream",
     "text": [
      "Respuesta despues de 61.7056 segundos:\n",
      "  Hello there! I'm happy to help you find accommodation near Pilanesberg National Park in South Africa. Based on the context provided, here are three options for you to consider:\n",
      "1. Grootbos Private Nature Reserve - Located in Gaansbai, this luxury resort offers stunning views of ancient forests and the whale watching haven of Walker Bay. The air-conditioned suites feature floor-to-ceiling windows, a spacious lounge with a fireplace, satellite TV, and a private wooden deck. Guests can enjoy African and European cuisine, as well as various tours including flower safaris, horse riding, birding tours, and shark cage diving. The reserve is a multi-award winning nature reserve and home to over 740 different species of plants.\n",
      "2. Villa Chad - Located in Kleinmond, this guesthouse offers comfortable rooms with complimentary wireless Internet access and cable programming. A complimentary English breakfast is included, and guests can enjoy beach picnics, safaris, and nature walks nearby. The guesthouse is within a 5-minute drive of Kleinmond Beach and SA Forest Adventures Kleinmond.\n",
      "3. Walking On Water Guest House - This 4-star guest house is located in Langebaan, less than 3km from the beach and less than 4km from the West Coast National Park. All rooms include a satellite TV, bar fridge, and seating area, as well as free WiFi. A free breakfast is offered to all guests, and packed lunches can be arranged upon request. The guest house features a terrace, garden, and ironing and laundry service. Staff can arrange bike rental and organize activities in the region such as kayaking and boat trips.\n",
      "I hope these options are helpful in finding the perfect accommodation for your needs!\n",
      "\n",
      "Contexto:\n",
      "page_content='Grootbos Private Nature Reserve is located in Gaansbai, South Africa.Grootbos Private Nature Reserve offers luxury accommodation featuring spectacular views of ancient forests and the whale watching haven of Walker Bay, just a 30-minute drive from Hermanus.\\n\\nThe air-conditioned suites of Grootbos feature floor-to-ceiling windows, making the suites light and airy. All suites offer a spacious lounge with a cosy fireplace, satellite TV and a DVD player, and a private wooden deck.\\n\\nGuests can enjoy African and European gourmet cuisine, made with fresh and locally grown produce in Grootbos Private Nature Reserve’s 2 restaurants. Full English breakfast menus, light lunches and 6-course dinners are included in the rate.\\n\\nGrootbos Private Nature Reserve offers various tours, including flower safaris, horse riding, birding tours, shark cage diving in Gansbaai, and of course whale watching tours.\\n\\nGrootbos Nature Reserve is a multi-award winning nature reserve, and home to more than 740 different species of plants. The centre of Capetown is a scenic 2-hour drive away. Kindly note that all land-based activities such as beach picnics, safaris and nature walks are included in the room rates. Please note that all tours feature specialized guides. Disclaimer notification: Amenities are subject to availability and may be chargeable as per the hotel policy.' metadata={'Address': 'grootbos private nature reserve, gansbaai 7220western cape, gaansbai, 7220, south africa', 'City': 'Gaansbai', 'Code': '1158083', 'Continent': 'Africa', 'Country': 'South Africa', 'CountryCode': 'ZA', 'Latitude': -34.54014, 'Longitude': 19.41181, 'Name': 'grootbos private nature reserve', 'Rating': 5.0}\n",
      "\n",
      "Contexto:\n",
      "page_content='Villachad Guesthouse is located in Kleinmond, South Africa.HeadLine : Near SA Forest Adventures KleinmondLocation : When you stay at Villa Chad in Kleinmond, you ll be next to a golf course, within a 5-minute drive of Kleinmond Beach and SA Forest Adventures Kleinmond.  This 4-star guesthouse is 1.1 mi (1.8 km) from Cape Floral Region Protected Areas and 1.1 mi (1.8 km) from Kogelberg Nature Reserve.Rooms : Make yourself at home in one of the 5 guestrooms. Complimentary wireless Internet access keeps you connected, and cable programming is available for your entertainment. Conveniences include safes and desks, and housekeeping is provided daily.Dining : A complimentary English breakfast is included.CheckIn Instructions :   Extra-person charges may apply and vary depending on property policyGovernment-issued photo identification and a credit card, debit card, or cash deposit may be required at check-in for incidental chargesSpecial requests are subject to availability upon check-in and may incur additional charges; special requests cannot be guaranteedThis property accepts credit cardsSafety features at this property include a fire extinguisher, a security system, a first aid kit, and window guards  Special Instructions : There is no front desk at this property. Disclaimer notification: Amenities are subject to availability and may be chargeable as per the hotel policy.' metadata={'Address': '63 6th street, kleinmond 7195cape town, kleinmond, 7195, south africa', 'City': 'Kleinmond', 'Code': '1628832', 'Continent': 'Africa', 'Country': 'South Africa', 'CountryCode': 'ZA', 'Latitude': -34.336405, 'Longitude': 19.026319, 'Name': 'villachad guesthouse', 'Rating': 4.0}\n",
      "\n",
      "Contexto:\n",
      "page_content='Walking On Water Guest House is located in Langebaan, South Africa.This 4-star guest house features panoramic views of the Langebaan Lagoon and the countryside from all rooms. It is less than 3km from the beach, and less than 4km from the West Coast National Park.\\n\\nAll of the rooms at Walking on Water Guest House include a satellite TV, a bar fridge, and a seating area. Free WiFi is also available in all rooms.\\n\\nA free breakfast is offered to all guests. Special dietary needs can be met on request. Packed lunches are available if booked in advance.\\n\\nThe guest house includes a terrace, a garden, and an ironing and laundry service. Staff can arrange bike rental, and organise a range of activities in the region such as kayaking and boat trips.\\n\\nThe Walking on Water Guest House is located 6 minutes’ drive from the centre of Langebaan, and just over 2 hours’ drive from Cape Town. Dear Visitor, this region is currently experiencing drought conditions. Please be aware that certain properties are subject to comply with local water usage restrictions. Disclaimer notification: Amenities are subject to availability and may be chargeable as per the hotel policy.' metadata={'Address': '1 undulata close myburgh park langebaan, myburgh parklangebaan 7357, langebaan, 7357, south africa', 'City': 'Langebaan', 'Code': '1605309', 'Continent': 'Africa', 'Country': 'South Africa', 'CountryCode': 'ZA', 'Latitude': -33.09297, 'Longitude': 18.04868, 'Name': 'walking on water guest house', 'Rating': 4.0}\n",
      "\n",
      "Contexto:\n",
      "page_content='Pelican Place Guest Cottages is located in Kraaifontein, South Africa.Located in the leafy suburb of Durbanville, Pelican Place offers self catering cottages with patios. Just a 20-minute drive away from Table Mountain, it features an outdoor pool and barbecue facilities.\\n\\nPelican Place Guest Cottages has spacious cottages, elegantly decorated with wooden furniture and tiled floors. Each unit has a private entrance, ironing facilities and a private bathroom with a hairdryer.\\n\\nA full English or Continental breakfast is served daily upon request, and there is an excellent variety of restaurants and cafés in the surrounding area. Guests can also prepare their meals in the privacy of their cottage.\\n\\nYou can choose from a variety of activities, including golf, tennis and hiking. Younger guests can use the playground or relax in the garden. The property features a communal spa bath.\\n\\nVictoria and Alfred Waterfront is a 20-minute drive away, and Cape Town International Airport is only 15 km. A car rental service and an airport shuttle are also available. Dear Visitor, this region is currently experiencing drought conditions. Please be aware that certain properties are subject to comply with local water usage restrictions.\\nThis property will not accommodate hen, stag or similar parties. Disclaimer notification: Amenities are subject to availability and may be chargeable as per the hotel policy.' metadata={'Address': '1 pelican way, nerinadurbanville 7550, kraaifontein, 7550, south africa', 'City': 'Kraaifontein', 'Code': '1385235', 'Continent': 'Africa', 'Country': 'South Africa', 'CountryCode': 'ZA', 'Latitude': -33.82071, 'Longitude': 18.64626, 'Name': 'pelican place guest cottages', 'Rating': 4.0}\n"
     ]
    }
   ],
   "source": [
    "input = '''Can you suggest accomodation near pilanesberg national park in south africa?'''\n",
    "\n",
    "elapsed_time, response, context = retrieve_and_generate(input, rag_prompt_llama, vector_store, llm)\n",
    "display_response(response, context, elapsed_time)"
   ]
  },
  {
   "cell_type": "markdown",
   "metadata": {},
   "source": [
    "**Respuesta de Copilot Edge**\n",
    "\n",
    "Certainly! When visiting Pilanesberg National Park in South Africa, you have several accommodation options to choose from. Here are some recommendations:\n",
    "\n",
    "Bakubung Bush Lodge: Located within the park, this lodge offers elegantly decorated rooms with free Wi-Fi and a variety of massages. Prices start at R5100 per person sharing1.\n",
    "Black Rhino Game Lodge: Another excellent choice within the park, offering a unique safari experience.\n",
    "Kwa Maritane Bush Lodge: Situated in the Pilanesberg Game Reserve, this lodge provides comfortable accommodations.\n",
    "Tshukudu Bush Lodge: Known for its luxury and exclusivity, Tshukudu offers an unforgettable stay.\n",
    "Ivory Tree Game Lodge: A great option for wildlife enthusiasts, with comfortable rooms and beautiful surroundings.\n",
    "Additionally, Pilanesberg National Park itself has various accommodation options, including resorts, safari tents, bush lodges, chalets, and self-catering choices. Families, budget travelers, and discerning guests will find something suitable for their preferences and budget. Whether you prefer rustic safari tents or luxurious five-star lodges, the abundant wildlife in this malaria-free park remains the main attraction"
   ]
  },
  {
   "cell_type": "markdown",
   "metadata": {},
   "source": [
    "**Evaluación**\n",
    "\n",
    "| Participante | Calificación |\n",
    "| :- | -: |\n",
    "| JO Hernández | 5 |\n",
    "| JC Alvarado | 5 |\n",
    "| JC Romo | 5 |"
   ]
  },
  {
   "cell_type": "markdown",
   "metadata": {},
   "source": [
    "**Obteniendo Respuestas de la Base Conocimiento y el Modelo Fundacional**"
   ]
  },
  {
   "cell_type": "code",
   "execution_count": 106,
   "metadata": {
    "id": "0d6d5eee-596e-4bb8-a3c9-919ce176fe7b",
    "scrolled": true
   },
   "outputs": [
    {
     "name": "stdout",
     "output_type": "stream",
     "text": [
      "Respuesta despues de 62.3981 segundos:\n",
      "  Greetings! I'm happy to help you find accommodation near Pilanesberg National Park in North West Province, South Africa. Based on the information provided, here are three options for you to consider:\n",
      "1. Kwa Maritane Bush Lodge - Located within the park itself, Kwa Maritane offers comfortable self-catering chalets with modern amenities. Guests can enjoy a satisfying meal at the restaurant and relax with a drink at the bar/lounge. The lodge is about 15 minutes from Sun City Casino and 4.8 mi from Waterworld.\n",
      "2. Nkala Safari Lodge - This 4.5-star lodge is located within Pilanesberg National Park and offers air-conditioned rooms with kitchens. Guests can enjoy the bar/lounge and take advantage of amenities like safes and minibars. The lodge is about 22 mi from Sun City Casino and 22.2 mi from Waterworld.\n",
      "3. Lush Private Game Lodge - This 5-star lodge offers individually decorated guestrooms with private pools, providing a unique and luxurious experience. Guests can enjoy complimentary wireless Internet access and private bathrooms with separate bathtubs and showers. The lodge is about 15 minutes from Pilanesberg National Park and 22.2 mi from Sun City Casino.\n",
      "All three options offer comfortable accommodation and easy access to Pilanesberg National Park. Please let me know if you have any further questions or if there's anything else I can help you with!\n",
      "\n",
      "Contexto:\n",
      "page_content='Kwa Maritane Bush Lodge is located in Pilanesberg National Park, South Africa.HeadLine : In Pilanesberg National ParkLocation : With a stay at Kwa Maritane Self-Catering Chalets in Pilanesberg National Park, you ll be within a 15-minute drive of Pilanesberg National Park and Waterworld.  This 4-star lodge is 4.8 mi (7.7 km) from Sun City Casino and 4.9 mi (7.8 km) from The Gary Player Golf Course.Rooms : Make yourself at home in one of the 90 air-conditioned rooms featuring refrigerators. Complimentary wireless Internet access keeps you connected, and satellite programming is available for your entertainment. Bathrooms have bathtubs or showers and hair dryers. Conveniences include phones, as well as safes and coffee/tea makers.Dining : At Kwa Maritane Self-Catering Chalets, enjoy a satisfying meal at the restaurant. Wrap up your day with a drink at the bar/lounge. English breakfasts are available for a fee.CheckIn Instructions :   Extra-person charges may apply and vary depending on property policyGovernment-issued photo identification and a credit card, debit card, or cash deposit may be required at check-in for incidental chargesSpecial requests are subject to availability upon check-in and may incur additional charges; special requests cannot be guaranteedThis property accepts cash  Special Instructions : There is no front desk at this property. To make arrangements for check-in please contact the property ahead of time using the information on the booking confirmation. If you are planning to arrive after 8:00 PM please contact the property in advance using the information on the booking confirmation. Guests must contact the property in advance for check-in instructions. The host will greet guests on arrival. Disclaimer notification: Amenities are subject to availability and may be chargeable as per the hotel policy.' metadata={'Address': 'pilanesberg national park, rustenburg, pilanesberg national park, 0316, south africa', 'City': 'Pilanesberg National Park', 'Code': '1015820', 'Continent': 'Africa', 'Country': 'South Africa', 'CountryCode': 'ZA', 'Latitude': -25.33576, 'Longitude': 27.145368, 'Name': 'kwa maritane bush lodge', 'Rating': 4.0}\n",
      "\n",
      "Contexto:\n",
      "page_content='Nkala Safari Lodge is located in Pilanesberg National Park, South Africa.HeadLine : In Pilanesberg National ParkLocation : When you stay at Nkala Safari Lodge in Pilanesberg National Park, you ll be within a 5-minute drive of Pilanesberg National Park.  This 4.5-star lodge is 22 mi (35.4 km) from Waterworld and 22.2 mi (35.7 km) from Sun City Casino.Rooms : Make yourself at home in one of the air-conditioned rooms featuring kitchens. Flat-screen televisions with satellite programming provide entertainment, while complimentary wireless Internet access keeps you connected. Conveniences include safes and minibars, and housekeeping is provided daily.Dining : Quench your thirst with your favorite drink at the bar/lounge.CheckIn Instructions :   Extra-person charges may apply and vary depending on property policyGovernment-issued photo identification and a credit card, debit card, or cash deposit may be required at check-in for incidental chargesSpecial requests are subject to availability upon check-in and may incur additional charges; special requests cannot be guaranteed  Special Instructions : There is no front desk at this property. Disclaimer notification: Amenities are subject to availability and may be chargeable as per the hotel policy.' metadata={'Address': 'r 565, derdepoort road,lodge 10, black rhino game reserve, , pilanesberg national park, 318, south africa', 'City': 'Pilanesberg National Park', 'Code': '6176559', 'Continent': 'Africa', 'Country': 'South Africa', 'CountryCode': 'ZA', 'Latitude': -25.162093, 'Longitude': 26.982615, 'Name': 'nkala safari lodge', 'Rating': 4.0}\n",
      "\n",
      "Contexto:\n",
      "page_content='The Kingdom Resort is located in Pilanesberg National Park, South Africa.HeadLine : In a national parkLocation : Located in Moses Kotane, The Kingdom Resort is in a national park, within a 10-minute drive of Pilanesberg National Park and Waterworld.  This 4-star hotel is 4.4 mi (7.1 km) from The Valley of Waves and 4.5 mi (7.2 km) from Sun City Casino.Rooms : Make yourself at home in one of the 142 air-conditioned rooms featuring flat-screen televisions. Complimentary wireless Internet access keeps you connected, and satellite programming is available for your entertainment. Bathrooms have bathtubs or showers and hair dryers. Housekeeping is provided daily, and cribs/infant beds (complimentary) can be requested.Dining : Enjoy a satisfying meal at Acacia Terrace serving guests of The Kingdom Resort. Quench your thirst with your favorite drink at the bar/lounge. Buffet breakfasts are available daily from 8:00 AM to 10:00 AM for a fee.CheckIn Instructions :   Extra-person charges may apply and vary depending on property policyGovernment-issued photo identification and a credit card may be required at check-in for incidental chargesSpecial requests are subject to availability upon check-in and may incur additional charges; special requests cannot be guaranteedThis property accepts credit cards; cash is not acceptedSafety features at this property include a fire extinguisherPlease note that cultural norms and guest policies may differ by country and by property; the policies listed are provided by the property     Please note: Each self-catering accommodation is equipped with a barbecue. Barbecues cannot be used by guests staying in other guestrooms. Portable barbecues are not allowed on the premises.Units booked may not be sublet or split between separate guests during the duration of the booking. Fees are incurred if the number of guests checking in varies from the number established at booking.WiFi is limited to 100 MB per person, per day. A surcharge applies for additional usage.  Special Instructions : The front desk is open daily from 7:30 AM - 9:00 PM. If you are planning to arrive after 7:00 PM please contact the property in advance using the information on the booking confirmation. Front desk staff will greet guests on arrival. For more details, please contact the property using the information on the booking confirmation.  Villas and Suites at this resort may share a communal door entrance and common areas. Disclaimer notification: Amenities are subject to availability and may be chargeable as per the hotel policy.' metadata={'Address': 'r556 south village sun city 0316 south africa, south villagepilanesberg national parksun city 0316, pilanesberg national park, 0316, south africa', 'City': 'Pilanesberg National Park', 'Code': '1380283', 'Continent': 'Africa', 'Country': 'South Africa', 'CountryCode': 'ZA', 'Latitude': -25.355986, 'Longitude': 27.152521, 'Name': 'the kingdom resort', 'Rating': 4.0}\n",
      "\n",
      "Contexto:\n",
      "page_content='Lush Private Lodge is located in Pilanesberg, South Africa.HeadLine : In a national parkLocation : When you stay at Lush Private Game Lodge in Pilanesberg National Park, you ll be in a national park and 15 minutes by foot from Pilanesberg National Park.  This 5-star lodge is 22.2 mi (35.7 km) from Sun City Casino and 22.3 mi (35.8 km) from The Gary Player Golf Course.Rooms : Treat yourself to a stay in one of the 5 individually decorated guestrooms, featuring private pools. Rooms have private furnished patios. Complimentary wireless Internet access is available to keep you connected. Private bathrooms with separate bathtubs and showers feature deep soaking bathtubs and rainfall showerheads.Dining : This lodge is all inclusive. Rates include meals and beverages at onsite dining establishments. Charges may be applied for dining at some restaurants, special dinners and dishes, some beverages, and other amenities. Stop by the lodge s restaurant for lunch or dinner. Dining is also available at the coffee shop/cafe, and room service (during limited hours) is provided. Wrap up your day with a drink at the bar/lounge. A complimentary buffet breakfast is served daily from 9 AM to 10:30 AM. CheckIn Instructions :   Extra-person charges may apply and vary depending on property policyGovernment-issued photo identification and a credit card, debit card, or cash deposit may be required at check-in for incidental chargesSpecial requests are subject to availability upon check-in and may incur additional charges; special requests cannot be guaranteedThis property accepts credit cards, debit cards, and cashSafety features at this property include a fire extinguisher and a first aid kitPlease note that cultural norms and guest policies may differ by country and by property; the policies listed are provided by the property  Special Instructions : To make arrangements for check-in please contact the property at least 24 hours before arrival using the information on the booking confirmation. If you are planning to arrive after 6 PM please contact the property in advance using the information on the booking confirmation. Guests must contact the property in advance for check-in instructions. Front desk staff will greet guests on arrival.  The listed mandatory destination fee is for travel starting from January 1, 2024. The park entrance fee is ZAR 140 per guest, per day for travel dates from now until December 31, 2023. Disclaimer notification: Amenities are subject to availability and may be chargeable as per the hotel policy.' metadata={'Address': 'stand 2 black rhino game reserve pilanesberg, pilanesberg 7130, pilanesberg, 7130, south africa', 'City': 'Pilanesberg', 'Code': '1812402', 'Continent': 'Africa', 'Country': 'South Africa', 'CountryCode': 'ZA', 'Latitude': -25.163587, 'Longitude': 26.978668, 'Name': 'lush private lodge', 'Rating': 5.0}\n"
     ]
    }
   ],
   "source": [
    "input = '''Can you suggest accomodation near pilanesberg national park in the north west province in south africa?'''\n",
    "\n",
    "elapsed_time, response, context = retrieve_and_generate(input, rag_prompt_llama, vector_store, llm)\n",
    "display_response(response, context, elapsed_time)"
   ]
  },
  {
   "cell_type": "markdown",
   "metadata": {},
   "source": [
    "**Respuesta de Copilot Edge**\n",
    "\n",
    "Certainly! When visiting Pilanesberg National Park in South Africa, you have several accommodation options to choose from. Here are some recommendations:\n",
    "\n",
    "Bakubung Bush Lodge: Located within the park, this lodge offers elegantly decorated rooms with free Wi-Fi and a variety of massages. Prices start at R5100 per person sharing1.\n",
    "Black Rhino Game Lodge: Another excellent choice within the park, offering a unique safari experience.\n",
    "Kwa Maritane Bush Lodge: Situated in the Pilanesberg Game Reserve, this lodge provides comfortable accommodations.\n",
    "Tshukudu Bush Lodge: Known for its luxury and exclusivity, Tshukudu offers an unforgettable stay.\n",
    "Ivory Tree Game Lodge: A great option for wildlife enthusiasts, with comfortable rooms and beautiful surroundings.\n",
    "Additionally, Pilanesberg National Park itself has various accommodation options, including resorts, safari tents, bush lodges, chalets, and self-catering choices. Families, budget travelers, and discerning guests will find something suitable for their preferences and budget. Whether you prefer rustic safari tents or luxurious five-star lodges, the abundant wildlife in this malaria-free park remains the main attraction"
   ]
  },
  {
   "cell_type": "markdown",
   "metadata": {},
   "source": [
    "**Evaluación**\n",
    "\n",
    "| Participante | Calificación |\n",
    "| :- | -: |\n",
    "| JO Hernández | 5 |\n",
    "| JC Alvarado | 5 |\n",
    "| JC Romo | 5 |"
   ]
  },
  {
   "cell_type": "markdown",
   "metadata": {},
   "source": [
    "**Obteniendo Respuestas de la Base Conocimiento y el Modelo Fundacional**"
   ]
  },
  {
   "cell_type": "code",
   "execution_count": 107,
   "metadata": {
    "scrolled": true
   },
   "outputs": [
    {
     "name": "stdout",
     "output_type": "stream",
     "text": [
      "Respuesta despues de 39.3485 segundos:\n",
      "  Hello! I'm happy to help you find attractions near Black Rhino Game Lodge in Pilanesberg National Park, South Africa. Here are two options within the same city or nearby:\n",
      "1. Sun City Casino - Located approximately 22 miles from Black Rhino Game Lodge, Sun City Casino is a popular destination for gaming and entertainment. It features a variety of slot machines, table games, and live entertainment.\n",
      "2. The Valley of Waves - Approximately 22 miles from the lodge, The Valley of Waves is a water park with a variety of slides, wave pools, and other attractions for all ages. It's a great place to cool off and have fun during the summer months.\n",
      "I hope this helps! Let me know if you have any other questions.\n",
      "\n",
      "Contexto:\n",
      "page_content='Rhino Ridge Safari Lodge is located in Hluhluwe, South Africa.HeadLine : In a national parkLocation : With a stay at Rhino Ridge Safari Lodge in Hlabisa, you ll be 1.6 mi (2.7 km) from Hluhluwe–Imfolozi Park and 23.5 mi (37.8 km) from Centenary Centre.  This 4-star lodge is 27.4 mi (44.1 km) from Zululand Rhino Reserve and 29.7 mi (47.8 km) from Manyoni Private Game Reserve.Rooms : Make yourself at home in one of the 16 air-conditioned rooms featuring minibars. Conveniences include safes and coffee/tea makers, and housekeeping is provided daily.Dining : At Rhino Ridge Safari Lodge, enjoy a satisfying meal at the restaurant. Wrap up your day with a drink at the bar/lounge. A complimentary full breakfast is included.CheckIn Instructions :   Extra-person charges may apply and vary depending on property policyGovernment-issued photo identification and a credit card, debit card, or cash deposit may be required at check-in for incidental chargesSpecial requests are subject to availability upon check-in and may incur additional charges; special requests cannot be guaranteedThis property accepts credit cards and cashSafety features at this property include a carbon monoxide detector, a fire extinguisher, a smoke detector, a security system, and a first aid kit  Special Instructions : The front desk is open daily from 6 AM - 10 PM. This property doesn t offer after-hours check-in. Front desk staff will greet guests on arrival. Disclaimer notification: Amenities are subject to availability and may be chargeable as per the hotel policy.' metadata={'Address': 'hluhluwe imfolozi park, hluhluwe 3937kwazulu natal, hluhluwe, 3815, south africa', 'City': 'Hluhluwe', 'Code': '1227974', 'Continent': 'Africa', 'Country': 'South Africa', 'CountryCode': 'ZA', 'Latitude': -28.153892, 'Longitude': 31.955264, 'Name': 'rhino ridge safari lodge', 'Rating': 4.0}\n",
      "\n",
      "Contexto:\n",
      "page_content='Black Rhino Game Lodge is located in Pilanesberg National Park, South Africa.HeadLine : In a national parkLocation : When you stay at Black Rhino Game Lodge in Pilanesberg National Park, you ll be in a national park and 13 minutes by foot from Pilanesberg National Park.  This 4-star lodge is 22.1 mi (35.6 km) from Sun City Casino and 22.5 mi (36.1 km) from The Valley of Waves.Rooms : Make yourself at home in one of the 22 individually decorated guestrooms, featuring minibars and flat-screen televisions. Rooms have private furnished patios. Complimentary wireless Internet access keeps you connected, and satellite programming is available for your entertainment. Private bathrooms with separate bathtubs and showers feature complimentary toiletries and hair dryers.Dining : Enjoy a meal at the restaurant or snacks in the lodge s coffee shop/cafe. Wrap up your day with a drink at the bar/lounge. A complimentary self-serve breakfast is served daily from 7:00 AM to 9:00 AM.CheckIn Instructions :   Extra-person charges may apply and vary depending on property policyGovernment-issued photo identification and a credit card or cash deposit may be required at check-in for incidental chargesSpecial requests are subject to availability upon check-in and may incur additional charges; special requests cannot be guaranteedThis property accepts credit cards; cash is not acceptedPlease note that cultural norms and guest policies may differ by country and by property; the policies listed are provided by the property  Special Instructions : The front desk is open daily from 7:00 AM - 10:00 PM. This property doesn t offer after-hours check-in. Front desk staff will greet guests on arrival. For more details, please contact the property using the information on the booking confirmation.  This property does not permit children under 5 years old on game drives. Children ages 6-11 are permitted on game drives at management discretion. Children age 12 and older are permitted on game drives, and are charged the adult rate per game drive. Guests driving to the property should contact this property in advance. Disclaimer notification: Amenities are subject to availability and may be chargeable as per the hotel policy.' metadata={'Address': 'r565 black rhino game reserve, black rhino game reservepilanesberg 7130pilanesberg national park, pilanesberg national park, 2128, south africa', 'City': 'Pilanesberg National Park', 'Code': '1167213', 'Continent': 'Africa', 'Country': 'South Africa', 'CountryCode': 'ZA', 'Latitude': -25.166387, 'Longitude': 26.972807, 'Name': 'black rhino game lodge', 'Rating': 4.0}\n",
      "\n",
      "Contexto:\n",
      "page_content='Zululand Tree Lodge is located in Hluhluwe, South Africa.Situated in the forested Ubizane Wildlife Reserve, this lodge in the heart of Zululand features a garden. Guests can sleep in luxurious rooms with a thatched roof.\\n\\nWith wooden floors and a spacious modern bathroom, all air-conditioned rooms at Zululand Tree Lodge come with a balcony and view of the Fever trees. Each bed is elegantly draped with mosquito nets.\\n\\nA buffet breakfast is served daily in Tree Lodges restaurant, which overlooks the gardens. There is an adjoining veranda terrace where guests can relax on reed sofas and chairs.\\n\\nFree parking is provided. The staff can take care of  babysitting while parents enjoy rhino spotting in the adjacent Hluhluwe and Umfolozi Game Reserves. A communal pool is situated about 400 metres away.\\n\\nThe lodge is situated a 5-hour drive from Johannesburg and 260 km from Durban and its international airport. The nearest town, Hluhluwe, is 4 km away. Please inform Zululand Tree Lodge in advance of your expected arrival time. You can use the Special Requests box when booking, or contact the property directly with the contact details provided in your confirmation.\\nPlease note the gate closes strictly at 19:00 and all late arrivals must be arranged in advance.\\n\\nPlease note, children below the age of 5 years old are not permitted on a Hluhluwe Game Drive. Disclaimer notification: Amenities are subject to availability and may be chargeable as per the hotel policy.' metadata={'Address': 'ubizane wildlife reserve, 1020 main road, ubizane reservehluhluwe 3960kwazulu natal, hluhluwe, 3960, south africa', 'City': 'Hluhluwe', 'Code': '1069638', 'Continent': 'Africa', 'Country': 'South Africa', 'CountryCode': 'ZA', 'Latitude': -28.01427, 'Longitude': 32.21741, 'Name': 'zululand tree lodge', 'Rating': 4.0}\n",
      "\n",
      "Contexto:\n",
      "page_content=\"Zulu Nyala Safari Game Lodge is located in Kwazulu Natal, South Africa.This lodge resort is stunningly located in South Africa, lying amidst the 4,500 acres of wilderness reserves of Hluhluwe, Mkuze and St. Lucia. The city of Swaziland is located just a 3 hours' driving distance away. The resort affords guests a prime setting from which to explore the wonderful Pongolapoort Tiger Fishing area, Elephant Interaction tour, and the Crocodile and Snake Centre. Zulu Inyala Airport is located just 11 km away. This stunning lodge resort comprises beautifully-designed stone lodges, which blend seamlessly with the spectacular surroundings. Guests can enjoy the host of facilities and services that the resort has to offer. Younger visitors will appreciate the children's playground. Business travellers will be pleased by the hotel's conference facilities. Disclaimer notification: Amenities are subject to availability and may be chargeable as per the hotel policy.\" metadata={'Address': 'mzineni road, hluhluwe, kwazulu natal, 3960, south africa', 'City': 'Kwazulu Natal', 'Code': '1372832', 'Continent': 'Africa', 'Country': 'South Africa', 'CountryCode': 'ZA', 'Latitude': -27.90127, 'Longitude': 32.271486, 'Name': 'zulu nyala safari game lodge', 'Rating': 4.0}\n"
     ]
    }
   ],
   "source": [
    "input = '''What attractions are close to Black Rhino Game Lodge, north west province in south africa?'''\n",
    "\n",
    "elapsed_time, response, context = retrieve_and_generate(input, rag_prompt_llama, vector_store, llm)\n",
    "display_response(response, context, elapsed_time)"
   ]
  },
  {
   "cell_type": "markdown",
   "metadata": {},
   "source": [
    "**Respuesta de Copilot Edge**\n",
    "\n",
    "The Black Rhino Game Lodge is nestled in the west side of the malaria-free Pilanesberg National Park in the North West Province of South Africa. Here are some attractions near the lodge:\n",
    "\n",
    "Pilanesberg National Park: The park itself is a must-visit, covering an area of 55,000 hectares. It’s home to the Big Five (elephant, buffalo, leopard, lion, and rhinoceros), as well as other wildlife like wild dogs, hippos, and various bird species12.\n",
    "Sun City: Only 33 km away from the lodge, Sun City is a popular entertainment hotspot. You can explore its casinos, golf courses, water parks, and cultural attractions1.\n",
    "Tambuti Lodge: Located in the northwestern side of Pilanesberg National Park, Tambuti Lodge offers spacious and luxurious accommodation surrounded by the trees of the old Tamboti forest. It’s an excellent option for visitors seeking a unique safari experience3.\n",
    "Kgorogoro Lodge (Morokolo Safari Lodge): Situated on the northern slopes of the Pilanesberg mountains, Kgorogoro Lodge boasts rich varieties of African wildlife, fauna, and flora. You can book either the 4 Suite Lodge or the Executive Suite for a memorable stay4.\n",
    "Remember that the Black Rhino Game Reserve and the greater Pilanesberg National Park are only about 2.5 hours’ drive from Johannesburg, Pretoria, and the OR Tambo International Airport, making it easily accessible for travelers1. Enjoy your bushveld adventure! raction"
   ]
  },
  {
   "cell_type": "markdown",
   "metadata": {},
   "source": [
    "**Evaluación**\n",
    "\n",
    "| Participante | Calificación |\n",
    "| :- | -: |\n",
    "| JO Hernández | 5 |\n",
    "| JC Alvarado | 5 |\n",
    "| JC Romo | 5 |"
   ]
  },
  {
   "cell_type": "markdown",
   "metadata": {},
   "source": [
    "**Obteniendo Respuestas de la Base Conocimiento y el Modelo Fundacional**"
   ]
  },
  {
   "cell_type": "code",
   "execution_count": 108,
   "metadata": {},
   "outputs": [
    {
     "name": "stdout",
     "output_type": "stream",
     "text": [
      "Respuesta despues de 57.9277 segundos:\n",
      "  Hello! I'm happy to help you find accommodation in Cape Town, South Africa. Based on the information provided, here are three options for you to consider:\n",
      "1. Afribode Icon Apartments - This option is located in the heart of Cape Town, within walking distance to Long Street and the Cape Town International Convention Centre. The apartments feature full-sized kitchens, 32-inch flat-screen televisions with DVD players, and complimentary wireless internet access.\n",
      "2. Cape Town Lodge Hotel - This option is also located in the heart of Cape Town, within walking distance to Bree Street and the Bo Kaap Museum. The hotel offers minibars, LCD televisions, and complimentary wireless internet access. Guests can enjoy local cuisine at the on-site restaurant or take advantage of room service during limited hours.\n",
      "3. The Tree House Boutique Hotel - This option is located in a quiet area of Cape Town, within walking distance to Table Mountain National Park and Greenpoint Market. The hotel features individually decorated guestrooms with satellite television, private bathrooms with rainfall showerheads, and complimentary toiletries. Guests can enjoy the hotel's room service or mingle with other guests at the complimentary reception.\n",
      "I hope these options are helpful in finding the perfect accommodation for your needs! If you have any further questions or would like more information, please feel free to ask.\n",
      "\n",
      "Contexto:\n",
      "page_content='Afribode Icon Apartments is located in Cape Town, South Africa.HeadLine : In Cape Town (Cape Town City Centre)Location : With a stay at Cape eazi stayz Icon Apartments, you ll be centrally located in Cape Town, steps from Long Street and within a 5-minute walk of Cape Town International Convention Centre.  This 4-star hotel is 1.3 mi (2.1 km) from Two Oceans Aquarium and 1.5 mi (2.4 km) from Cape Town Stadium.Rooms : Make yourself at home in one of the 214 guestrooms, featuring kitchens with full-sized refrigerators/freezers and ovens. 32-inch flat-screen televisions with DVD players and satellite programming provide entertainment. Conveniences include safes and microwaves, and housekeeping is provided daily.Dining : Satisfy your appetite at the hotel s 2 coffee shops/cafes.CheckIn Instructions :   Extra-person charges may apply and vary depending on property policyGovernment-issued photo identification and a credit card, debit card, or cash deposit may be required at check-in for incidental chargesSpecial requests are subject to availability upon check-in and may incur additional charges; special requests cannot be guaranteedThis property accepts credit cards and cash  Special Instructions : This property offers transfers from the airport (surcharges may apply). Guests must contact the property with arrival details before travel, using the contact information on the booking confirmation. There is no front desk at this property. To make arrangements for check-in please contact the property at least 48 hours before arrival using the information on the booking confirmation. Guests must contact the property in advance for check-in instructions. Guests can access their accommodation through a private entrance. Disclaimer notification: Amenities are subject to availability and may be chargeable as per the hotel policy.' metadata={'Address': 'icon building 24 hans strijdom avenue, cape town, cape town, 8001, south africa', 'City': 'Cape Town', 'Code': '1628663', 'Continent': 'Africa', 'Country': 'South Africa', 'CountryCode': 'ZA', 'Latitude': -33.91796, 'Longitude': 18.423535, 'Name': 'afribode icon apartments', 'Rating': 4.0}\n",
      "\n",
      "Contexto:\n",
      "page_content='Cape Town Lodge Hotel is located in Cape Town, South Africa.HeadLine : In Cape Town (Cape Town City Centre)Location : A stay at Cape Town Lodge Hotel places you in the heart of Cape Town, steps from Bree Street and Bo Kaap Museum.  This 4-star hotel is 1.5 mi (2.5 km) from Cape Town Cruise Terminal and 3.1 mi (4.9 km) from Table Mountain.Rooms : Make yourself at home in one of the 123 guestrooms featuring minibars and LCD televisions. Complimentary wireless Internet access keeps you connected, and satellite programming is available for your entertainment. Private bathrooms with shower/tub combinations feature complimentary toiletries and hair dryers. Conveniences include phones, as well as safes and desks.Dining : Enjoy local cuisine at The Famous Butchers Grill, a steakhouse which features a bar/lounge, or stay in and take advantage of the room service (during limited hours). Wrap up your day with a drink at the poolside bar. Full breakfasts are available daily from 6:30 AM to 10 AM for a fee.CheckIn Instructions :   Extra-person charges may apply and vary depending on property policyGovernment-issued photo identification and a credit card, debit card, or cash deposit may be required at check-in for incidental chargesSpecial requests are subject to availability upon check-in and may incur additional charges; special requests cannot be guaranteedThe name on the credit card used at check-in to pay for incidentals must be the primary name on the guestroom reservationThis property accepts credit cards; cash is not acceptedSafety features at this property include a fire extinguisher, a smoke detector, a security system, a first aid kit, and window guards  Special Instructions : Front desk staff will greet guests on arrival. Disclaimer notification: Amenities are subject to availability and may be chargeable as per the hotel policy.' metadata={'Address': '101 buitengracht street, cape town 8001, cape town, 8001, south africa', 'City': 'Cape Town', 'Code': '1014263', 'Continent': 'Africa', 'Country': 'South Africa', 'CountryCode': 'ZA', 'Latitude': -33.922359, 'Longitude': 18.415722, 'Name': 'cape town lodge hotel', 'Rating': 4.0}\n",
      "\n",
      "Contexto:\n",
      "page_content='The Tree House Boutique Hotel is located in Cape Town, South Africa.HeadLine : In Cape Town (Cape Town City Centre)Location : A stay at The Tree House Boutique Hotel places you in the heart of Cape Town, within a 15-minute walk of Table Mountain National Park and Greenpoint Market.  This 5-star hotel is 1.3 mi (2.2 km) from Cape Town Cruise Terminal and 4.5 mi (7.2 km) from Camps Bay Beach.Rooms : Make yourself at home in one of the 14 individually decorated guestrooms. Satellite television is provided for your entertainment. Private bathrooms with showers feature rainfall showerheads and complimentary toiletries. Conveniences include safes and desks, and housekeeping is provided daily.Dining : Take advantage of the hotel s room service. Mingle with other guests at the complimentary reception, held daily. Quench your thirst with your favorite drink at the bar/lounge.CheckIn Instructions :   Extra-person charges may apply and vary depending on property policyGovernment-issued photo identification and a credit card, debit card, or cash deposit may be required at check-in for incidental chargesSpecial requests are subject to availability upon check-in and may incur additional charges; special requests cannot be guaranteedThe name on the credit card used at check-in to pay for incidentals must be the primary name on the guestroom reservationThis property accepts credit cards and debit cards; cash is not acceptedSafety features at this property include a fire extinguisher, a smoke detector, a security system, and a first aid kit  Special Instructions : Front desk staff will greet guests on arrival. Disclaimer notification: Amenities are subject to availability and may be chargeable as per the hotel policy.' metadata={'Address': '28 vesperdene road greenpoint, green pointkapstadt 8005, cape town, 8005, south africa', 'City': 'Cape Town', 'Code': '1607407', 'Continent': 'Africa', 'Country': 'South Africa', 'CountryCode': 'ZA', 'Latitude': -33.91143, 'Longitude': 18.41125, 'Name': 'the tree house boutique hotel', 'Rating': 5.0}\n",
      "\n",
      "Contexto:\n",
      "page_content='The Village Lodge Portfolio is located in Cape Town, South Africa.HeadLine : In Cape Town (Cape Town City Centre)Location : A stay at The Grey Hotel places you in the heart of Cape Town, within a 10-minute drive of Two Oceans Aquarium and Cape Town Stadium.  This 4-star hotel is 0.8 mi (1.3 km) from Cape Town International Convention Centre and 1 mi (1.6 km) from Castle of Good Hope.Rooms : Make yourself at home in one of the 13 individually decorated guestrooms, featuring iPod docking stations and minibars. Your memory foam bed comes with down comforters and Frette Italian sheets. 32-inch LED televisions with satellite programming provide entertainment, while complimentary wireless Internet access keeps you connected. Private bathrooms with showers feature complimentary toiletries and hair dryers.Dining : Enjoy Japanese cuisine at The Piano Bar, one of the hotel s many dining establishments, which include 3 restaurants and a coffee shop/cafe. Mingle with other guests at the complimentary reception, held daily. Relax with a refreshing drink from the poolside bar or one of the 2 bars/lounges. Cooked-to-order breakfasts are available daily from 7:30 AM to 10:00 AM for a fee.CheckIn Instructions :   Extra-person charges may apply and vary depending on property policyGovernment-issued photo identification and a credit card, debit card, or cash deposit may be required at check-in for incidental chargesSpecial requests are subject to availability upon check-in and may incur additional charges; special requests cannot be guaranteedNoise-free guestrooms cannot be guaranteedSafety features at this property include a carbon monoxide detector, a fire extinguisher, a smoke detector, a security system, and a first aid kitSome rooms at this property are not suitable for children; please add child ages in the search parameters to display available roomsBe prepared: check the latest COVID-19 travel requirements and measures in place for this destination before you travel.  Special Instructions : This property offers transfers from the airport (surcharges may apply). To arrange pick-up, guests must contact the property 24 hours prior to arrival, using the contact information on the booking confirmation. To make arrangements for check-in please contact the property at least 24 hours before arrival using the information on the booking confirmation. Guests will receive an email 24 hours before arrival with check-in instructions. Front desk staff will greet guests on arrival. Disclaimer notification: Amenities are subject to availability and may be chargeable as per the hotel policy.' metadata={'Address': '49 napier street de waterkant, cape town 8001, cape town, 8001, south africa', 'City': 'Cape Town', 'Code': '1133562', 'Continent': 'Africa', 'Country': 'South Africa', 'CountryCode': 'ZA', 'Latitude': -33.915561, 'Longitude': 18.416989, 'Name': 'the village lodge portfolio', 'Rating': 4.0}\n"
     ]
    }
   ],
   "source": [
    "input = '''Can you suggest accommodation in cape town, western cape province in south africa?'''\n",
    "\n",
    "elapsed_time, response, context = retrieve_and_generate(input, rag_prompt_llama, vector_store, llm)\n",
    "display_response(response, context, elapsed_time)"
   ]
  },
  {
   "cell_type": "markdown",
   "metadata": {},
   "source": [
    "**Respuesta de Copilot Edge**\n",
    "\n",
    "Certainly! Cape Town, in the Western Cape Province of South Africa, offers a variety of accommodation options. Here are a few recommendations:\n",
    "\n",
    "The Glen Boutique Hotel & Spa: A 5-star stay in Sea Point, Cape Town. Enjoy luxurious rooms with modern furniture, private bathrooms, and stunning views of the mountains or the Atlantic Ocean. The hotel features a spa, pool, and complimentary breakfast buffet1.\n",
    "Radisson Blu Hotel Waterfront: Another 5-star option with breathtaking views of Table Mountain or the ocean. The hotel offers free Wi-Fi, a private marina, and water sports activities. It’s close to the V&A Waterfront and the CBD2.\n",
    "Airbnb: Consider checking out Airbnb for unique vacation rentals, apartments, and townhouses in Cape Town. You can find places with ocean views, private pools, and stylish interiors34.\n",
    "Remember to explore the Sea Point promenade, nearby beaches, and iconic attractions during your stay. Enjoy your trip!raction"
   ]
  },
  {
   "cell_type": "markdown",
   "metadata": {},
   "source": [
    "**Evaluación**\n",
    "\n",
    "| Participante | Calificación |\n",
    "| :- | -: |\n",
    "| JO Hernández | 5 |\n",
    "| JC Alvarado | 5 |\n",
    "| JC Romo | 4 |"
   ]
  },
  {
   "cell_type": "markdown",
   "metadata": {},
   "source": [
    "**Obteniendo Respuestas de la Base Conocimiento y el Modelo Fundacional**"
   ]
  },
  {
   "cell_type": "code",
   "execution_count": 109,
   "metadata": {},
   "outputs": [
    {
     "name": "stdout",
     "output_type": "stream",
     "text": [
      "Respuesta despues de 49.9023 segundos:\n",
      "  Hello! I'm happy to help you find accommodation in Cape Town, South Africa. Based on your requirements, I would recommend Four On C Luxury Suites By Totalstay. It is located in the heart of Cape Town, steps away from Sea Point Swimming Pool and Sea Point Promenade. The property offers 2 air-conditioned rooms with private furnished balconies, full-sized refrigerators/freezers, ovens, and flat-screen televisions. Safety features include a fire extinguisher, smoke detector, security system, and first aid kit.\n",
      "The check-in instructions provided are as follows:\n",
      "* Extra-person charges may apply and vary depending on property policy\n",
      "* Government-issued photo identification and a credit card, debit card, or cash deposit may be required at check-in for incidental charges\n",
      "* Special requests are subject to availability upon check-in and may incur additional charges; special requests cannot be guaranteed\n",
      "* This property accepts credit cards\n",
      "\n",
      "I hope this helps! Let me know if you have any other questions.\n",
      "\n",
      "Contexto:\n",
      "page_content='Itc Hospitality Group Canterbury Suites Building is located in Cape Town, South Africa.HeadLine : In Cape Town (Cape Town City Centre)Location : A stay at this apartment places you in the heart of Cape Town, within a 10-minute walk of South African National Gallery and District Six Museum.  This 4-star apartment is 2.2 mi (3.6 km) from Cape Town Cruise Terminal and 4.3 mi (6.9 km) from Camps Bay Beach.Rooms : Make yourself comfortable in this individually decorated apartment, featuring a kitchen with a refrigerator and an oven. There s a private furnished balcony. A flat-screen television with digital programming provides entertainment, while wireless Internet access (surcharge) keeps you connected. Conveniences include a safe and a separate sitting area, and housekeeping is provided weekly.CheckIn Instructions :   Extra-person charges may apply and vary depending on property policyGovernment-issued photo identification and a credit card, debit card, or cash deposit may be required at check-in for incidental chargesSpecial requests are subject to availability upon check-in and may incur additional charges; special requests cannot be guaranteedThe name on the credit card used at check-in to pay for incidentals must be the primary name on the guestroom reservationThis property accepts credit cards and cash  Special Instructions : This property offers transfers from the airport (surcharges may apply). Guests must contact the property with arrival details before travel, using the contact information on the booking confirmation. There is no front desk at this property. To make arrangements for check-in please contact the property at least 72 hours before arrival using the information on the booking confirmation. If you are planning to arrive after 5:00 PM please contact the property in advance using the information on the booking confirmation. Guests will receive an email 24 hours before arrival with check-in instructions. The host will greet guests on arrival. Disclaimer notification: Amenities are subject to availability and may be chargeable as per the hotel policy.' metadata={'Address': '32 glynn street, , cape town, 8001, south africa', 'City': 'Cape Town', 'Code': '5152821', 'Continent': 'Africa', 'Country': 'South Africa', 'CountryCode': 'ZA', 'Latitude': -33.9314, 'Longitude': 18.42178, 'Name': 'itc hospitality group canterbury suites building', 'Rating': 4.0}\n",
      "\n",
      "Contexto:\n",
      "page_content='Four On C Luxury Suites By Totalstay is located in Cape Town, South Africa.HeadLine : In Cape Town (Sea Point)Location : A stay at Four on C Luxury Suites places you in the heart of Cape Town, steps from Sea Point Swimming Pool and Sea Point Promenade.  This 4-star apartment is 2.3 mi (3.6 km) from Camps Bay Beach and 3.2 mi (5.2 km) from Cape Town Cruise Terminal.Rooms : Make yourself at home in one of the 2 air-conditioned rooms featuring fireplaces and flat-screen televisions. Rooms have private furnished balconies. Kitchens are outfitted with full-sized refrigerators/freezers, ovens, and stovetops. Satellite television is provided for your entertainment. Private bathrooms with separate bathtubs and showers feature deep soaking bathtubs and complimentary toiletries.CheckIn Instructions :   Extra-person charges may apply and vary depending on property policyGovernment-issued photo identification and a credit card, debit card, or cash deposit may be required at check-in for incidental chargesSpecial requests are subject to availability upon check-in and may incur additional charges; special requests cannot be guaranteedThis property accepts credit cardsSafety features at this property include a fire extinguisher, a smoke detector, a security system, and a first aid kit  Special Instructions : This property offers transfers from the airport (surcharges may apply). Guests must contact the property with arrival details before travel, using the contact information on the booking confirmation. There is no front desk at this property. To make arrangements for check-in please contact the property at least 24 hours before arrival using the information on the booking confirmation. Guests must contact the property for check-in instructions. Disclaimer notification: Amenities are subject to availability and may be chargeable as per the hotel policy.' metadata={'Address': '4 clarens road sea point, , cape town, 8005, south africa', 'City': 'Cape Town', 'Code': '5457141', 'Continent': 'Africa', 'Country': 'South Africa', 'CountryCode': 'ZA', 'Latitude': -33.91968, 'Longitude': 18.38506, 'Name': 'four on c luxury suites by totalstay', 'Rating': 4.0}\n",
      "\n",
      "Contexto:\n",
      "page_content='Cape Town Lodge Hotel is located in Cape Town, South Africa.HeadLine : In Cape Town (Cape Town City Centre)Location : A stay at Cape Town Lodge Hotel places you in the heart of Cape Town, steps from Bree Street and Bo Kaap Museum.  This 4-star hotel is 1.5 mi (2.5 km) from Cape Town Cruise Terminal and 3.1 mi (4.9 km) from Table Mountain.Rooms : Make yourself at home in one of the 123 guestrooms featuring minibars and LCD televisions. Complimentary wireless Internet access keeps you connected, and satellite programming is available for your entertainment. Private bathrooms with shower/tub combinations feature complimentary toiletries and hair dryers. Conveniences include phones, as well as safes and desks.Dining : Enjoy local cuisine at The Famous Butchers Grill, a steakhouse which features a bar/lounge, or stay in and take advantage of the room service (during limited hours). Wrap up your day with a drink at the poolside bar. Full breakfasts are available daily from 6:30 AM to 10 AM for a fee.CheckIn Instructions :   Extra-person charges may apply and vary depending on property policyGovernment-issued photo identification and a credit card, debit card, or cash deposit may be required at check-in for incidental chargesSpecial requests are subject to availability upon check-in and may incur additional charges; special requests cannot be guaranteedThe name on the credit card used at check-in to pay for incidentals must be the primary name on the guestroom reservationThis property accepts credit cards; cash is not acceptedSafety features at this property include a fire extinguisher, a smoke detector, a security system, a first aid kit, and window guards  Special Instructions : Front desk staff will greet guests on arrival. Disclaimer notification: Amenities are subject to availability and may be chargeable as per the hotel policy.' metadata={'Address': '101 buitengracht street, cape town 8001, cape town, 8001, south africa', 'City': 'Cape Town', 'Code': '1014263', 'Continent': 'Africa', 'Country': 'South Africa', 'CountryCode': 'ZA', 'Latitude': -33.922359, 'Longitude': 18.415722, 'Name': 'cape town lodge hotel', 'Rating': 4.0}\n",
      "\n",
      "Contexto:\n",
      "page_content='Itc Hospitality Group Icon Building is located in Cape Town, South Africa.HeadLine : In Cape Town (Cape Town City Centre)Location : A stay at this apartment places you in the heart of Cape Town, steps from Long Street and Bree Street.  This 4-star apartment is 0.2 mi (0.4 km) from Cape Town International Convention Centre and 0.3 mi (0.5 km) from Greenmarket Square.Rooms : Make yourself comfortable in this individually decorated apartment, featuring a kitchen with a full-sized refrigerator/freezer and an oven. The apartment has a Tempur-Pedic bed. A 40-inch Smart television with satellite programming provides entertainment, while complimentary wireless Internet access keeps you connected. Conveniences include a safe and a separate sitting area, and housekeeping is provided weekly.Dining : Grab a bite from the grocery/convenience store serving guests of this apartment.CheckIn Instructions :   Extra-person charges may apply and vary depending on property policyGovernment-issued photo identification and a credit card, debit card, or cash deposit may be required at check-in for incidental chargesSpecial requests are subject to availability upon check-in and may incur additional charges; special requests cannot be guaranteedSafety features at this property include a fire extinguisherBe prepared: check the latest COVID-19 travel requirements and measures in place for this destination before you travel.Please note that cultural norms and guest policies may differ by country and by property; the policies listed are provided by the property  Special Instructions : This property offers transfers from the airport (surcharges may apply). Guests must contact the property with arrival details before travel, using the contact information on the booking confirmation. There is no front desk at this property. This property doesn t offer after-hours check-in. To make arrangements for check-in please contact the property at least 72 hours before arrival using the information on the booking confirmation. Guests will receive an email 72 hours before arrival with check-in instructions. The host will greet guests on arrival. For more details, please contact the property using the information on the booking confirmation.  The credit card used to book the reservation must be presented by the cardholder at check-in. Any other arrangements must be coordinated with the property prior to arrival. Disclaimer notification: Amenities are subject to availability and may be chargeable as per the hotel policy.' metadata={'Address': '24 hans strijdom ave ln, , cape town, 8001, south africa', 'City': 'Cape Town', 'Code': '5141923', 'Continent': 'Africa', 'Country': 'South Africa', 'CountryCode': 'ZA', 'Latitude': -33.917561, 'Longitude': 18.42396, 'Name': 'itc hospitality group icon building', 'Rating': 4.0}\n"
     ]
    }
   ],
   "source": [
    "input = '''Can you suggest accommodation in cape town, western cape province in south africa, minimum rating of 4?'''\n",
    "\n",
    "elapsed_time, response, context = retrieve_and_generate(input, rag_prompt_llama, vector_store, llm)\n",
    "display_response(response, context, elapsed_time)"
   ]
  },
  {
   "cell_type": "markdown",
   "metadata": {},
   "source": [
    "**Respuesta de Copilot Edge**\n",
    "\n",
    "Certainly! Cape Town, in the Western Cape Province of South Africa, offers a variety of 4-star accommodation options. Here are some recommendations:\n",
    "\n",
    "Home Suite Hotels Station House: Located in Sea Point, this hotel provides an outdoor swimming pool, free private parking, a fitness center, and a terrace. Guests can also enjoy a bar12.\n",
    "Home Suite Hotels Sea Point: Set in Cape Town, near Three Anchor Bay Beach, this hotel features an outdoor swimming pool, shared lounge, and terrace. Some units even have a balcony with city views12.\n",
    "O’ Two Hotel: Situated in Mouille Point, this hotel offers free bikes, an outdoor swimming pool, fitness center, and a terrace. It’s close to Mouille Point Beach and Three Anchor Bay Beach12.\n",
    "Romney Park Luxury Apartments: Located in Green Point, this 5-star aparthotel offers spacious apartments with kitchen facilities, en-suite bathrooms, and outdoor balconies with panoramic views12.\n",
    "Remember to explore the nearby attractions and enjoy your stay in beautiful Cape Town!raction"
   ]
  },
  {
   "cell_type": "markdown",
   "metadata": {},
   "source": [
    "**Evaluación**\n",
    "\n",
    "| Participante | Calificación |\n",
    "| :- | -: |\n",
    "| JO Hernández | 5 |\n",
    "| JC Alvarado | 5 |\n",
    "| JC Romo | 5 |"
   ]
  },
  {
   "cell_type": "markdown",
   "metadata": {},
   "source": [
    "**Obteniendo Respuestas de la Base Conocimiento y el Modelo Fundacional**"
   ]
  },
  {
   "cell_type": "code",
   "execution_count": 110,
   "metadata": {},
   "outputs": [
    {
     "name": "stdout",
     "output_type": "stream",
     "text": [
      "Respuesta despues de 53.0994 segundos:\n",
      "  Hello there! I'm happy to help you find accommodation in Hoedspruit, Limpopo province in South Africa. Based on the information provided, here are three options for you to consider:\n",
      "1. Villa Toscana Guesthouse - Located in Thabazimbi, this guesthouse is a 3-minute drive from Thaba Mall and 8 minutes from Ben Alberts Nature Reserve. They offer air-conditioned rooms with complimentary wireless internet access and a full breakfast is included.\n",
      "2. African Dreams Guest House - Located in Cape Town, this guesthouse is within a 10-minute drive of Lourensford Wine Estate and Cheetah Outreach. They offer individually decorated rooms with kitchens, complimentary wireless internet access, and a buffet breakfast is available for a fee.\n",
      "3. Aligeo Guest House - Located in Senqu, this guesthouse is 0.9 mi from Empilisweni District Hospital and 8.6 mi from Jozanna's Hoek Dam. They offer air-conditioned rooms with flat-screen televisions, complimentary wireless internet access, and a restaurant. A buffet breakfast is available for a fee.\n",
      "I hope this helps you find the perfect accommodation for your needs! If you have any further questions or if there's anything else I can assist you with, please feel free to ask.\n",
      "\n",
      "Contexto:\n",
      "page_content='Villa Toscana Guesthouse is located in Thabazimbi, South Africa.HeadLine : Near Thaba MallLocation : Located in Thabazimbi, Villa Toscana Guesthouse is a 3-minute drive from Thaba Mall and 8 minutes from Ben Alberts Nature Reserve.  This 4-star guesthouse is 5.3 mi (8.6 km) from Marakele National Park and 23.2 mi (37.3 km) from Amandelbult Koppies Lookout.Rooms : Make yourself at home in one of the 6 air-conditioned guestrooms. Complimentary wireless Internet access is available to keep you connected. Bathrooms with bathtubs or showers are provided.Dining : A complimentary full breakfast is included.CheckIn Instructions :   Extra-person charges may apply and vary depending on property policyGovernment-issued photo identification and a credit card, debit card, or cash deposit may be required at check-in for incidental chargesSpecial requests are subject to availability upon check-in and may incur additional charges; special requests cannot be guaranteedNo onsite parking is available  Special Instructions : The front desk is open daily from noon - 9:00 PM. This property doesn t offer after-hours check-in. Front desk staff will greet guests on arrival. Disclaimer notification: Amenities are subject to availability and may be chargeable as per the hotel policy.' metadata={'Address': '68 steenbok street, thabazimbi 0380, thabazimbi, 0380, south africa', 'City': 'Thabazimbi', 'Code': '1550702', 'Continent': 'Africa', 'Country': 'South Africa', 'CountryCode': 'ZA', 'Latitude': -24.58234, 'Longitude': 27.4151, 'Name': 'villa toscana guesthouse', 'Rating': 4.0}\n",
      "\n",
      "Contexto:\n",
      "page_content='African Dreams Guest House is located in Cape Town, South Africa.HeadLine : In Cape Town (Somerset West)Location : Located in Cape Town (Somerset West),  Morgen Guest House is within a 10-minute drive of Lourensford Wine Estate and Cheetah Outreach.  This 5-star guesthouse is 2.7 mi (4.3 km) from Helderberg Nature Reserve and 3.8 mi (6.1 km) from Vergelegen Wine Estate.Rooms : Make yourself at home in one of the 5 individually decorated guestrooms, featuring kitchens with full-sized refrigerators/freezers and stovetops. Complimentary wireless Internet access is available to keep you connected. Conveniences include safes and minibars, and housekeeping is provided daily.Dining : Quench your thirst with your favorite drink at the bar/lounge. Buffet breakfasts are available daily from 8 AM to 10 AM for a fee.CheckIn Instructions :   Extra-person charges may apply and vary depending on property policyGovernment-issued photo identification and a credit card or cash deposit may be required at check-in for incidental chargesSpecial requests are subject to availability upon check-in and may incur additional charges; special requests cannot be guaranteedThe name on the credit card used at check-in to pay for incidentals must be the primary name on the guestroom reservationThis property accepts credit cards, debit cards, and cash  Special Instructions : This property offers transfers from the airport (surcharges may apply). To arrange pick-up, guests must contact the property 48 hours prior to arrival, using the contact information on the booking confirmation. The front desk is open daily from 8:00 AM - 5:00 PM. To make arrangements for check-in please contact the property ahead of time using the information on the booking confirmation. If you are planning to arrive after 6:00 PM please contact the property in advance using the information on the booking confirmation. Guests must contact the property in advance for check-in instructions. Guests can access their accommodation through a private entrance. Disclaimer notification: Amenities are subject to availability and may be chargeable as per the hotel policy.' metadata={'Address': '13 fraser road spanish farms, somerset west, fairview heightsspanish farmssomerset west, cape town, 7130, south africa', 'City': 'Cape Town', 'Code': '1467341', 'Continent': 'Africa', 'Country': 'South Africa', 'CountryCode': 'ZA', 'Latitude': -34.05793, 'Longitude': 18.84918, 'Name': 'african dreams guest house', 'Rating': 5.0}\n",
      "\n",
      "Contexto:\n",
      "page_content='Aligeo Guest House is located in Senqu, South Africa.HeadLine : Near Empilisweni District HospitalLocation : With a stay at Aligeo Guest House in Senqu, you ll be 0.9 mi (1.4 km) from Empilisweni District Hospital and 8.6 mi (13.9 km) from Jozanna s Hoek Dam.  This 4-star guesthouse is 25.9 mi (41.8 km) from Cave House Museum.Rooms : Make yourself at home in one of the 8 air-conditioned rooms featuring flat-screen televisions. Complimentary wireless Internet access keeps you connected, and digital programming is available for your entertainment. Bathrooms with showers are provided. Conveniences include phones and coffee/tea makers.Dining : At Aligeo Guest House, enjoy a satisfying meal at the restaurant. Wrap up your day with a drink at the bar/lounge. Buffet breakfasts are available daily from 7:00 AM to 9:00 AM for a fee.CheckIn Instructions :   Extra-person charges may apply and vary depending on property policyGovernment-issued photo identification and a credit card, debit card, or cash deposit may be required at check-in for incidental chargesSpecial requests are subject to availability upon check-in and may incur additional charges; special requests cannot be guaranteedThis property accepts cash  Special Instructions :  Disclaimer notification: Amenities are subject to availability and may be chargeable as per the hotel policy.' metadata={'Address': '132 meriting street ext 1 lady grey, ext 1p.o. box 203sterkspruit 9762, senqu, 9762, south africa', 'City': 'Senqu', 'Code': '1546736', 'Continent': 'Africa', 'Country': 'South Africa', 'CountryCode': 'ZA', 'Latitude': -30.52599, 'Longitude': 27.364038, 'Name': 'aligeo guest house', 'Rating': 4.0}\n",
      "\n",
      "Contexto:\n",
      "page_content='5 Options Guest House is located in Cape Town, South Africa.HeadLine : In Cape Town (Bloubergstrand)Location : With a stay at 5 Options in Cape Town, you ll be 0.5 mi (0.8 km) from Bloubergstrand Beach and 12.2 mi (19.6 km) from Bo Kaap Museum.  This 4-star guesthouse is 12.2 mi (19.7 km) from South African National Gallery and 14.4 mi (23.2 km) from Lions Head.Rooms : Make yourself at home in one of the 5 individually decorated guestrooms, featuring kitchenettes with refrigerators and microwaves. Your Tempur-Pedic bed comes with down comforters and premium bedding. Complimentary wireless Internet access keeps you connected, and satellite programming is available for your entertainment. Private bathrooms have deep soaking bathtubs and complimentary toiletries.Dining : A complimentary full breakfast is served daily from 7:00 AM to 10:00 AM.CheckIn Instructions :   Extra-person charges may apply and vary depending on property policyGovernment-issued photo identification and a credit card or cash deposit may be required at check-in for incidental chargesSpecial requests are subject to availability upon check-in and may incur additional charges; special requests cannot be guaranteedThe name on the credit card used at check-in to pay for incidentals must be the primary name on the guestroom reservationThis property accepts major credit cardsSafety features at this property include a fire extinguisher, a security system, a first aid kit, and window guards  Special Instructions :  Disclaimer notification: Amenities are subject to availability and may be chargeable as per the hotel policy.' metadata={'Address': '14 edinburgh road, west beachcape town, cape town, 7441, south africa', 'City': 'Cape Town', 'Code': '1046295', 'Continent': 'Africa', 'Country': 'South Africa', 'CountryCode': 'ZA', 'Latitude': -33.809785, 'Longitude': 18.472695, 'Name': '5 options guest house', 'Rating': 4.0}\n"
     ]
    }
   ],
   "source": [
    "input = '''Can you suggest accommodation in Hoedspruit, limpopo province in south africa?'''\n",
    "\n",
    "elapsed_time, response, context = retrieve_and_generate(input, rag_prompt_llama, vector_store, llm)\n",
    "display_response(response, context, elapsed_time)"
   ]
  },
  {
   "cell_type": "markdown",
   "metadata": {},
   "source": [
    "**Respuesta de Copilot Edge**\n",
    "\n",
    "Certainly! Hoedspruit, located in the Limpopo Province of South Africa, offers a variety of accommodation options. Here are some recommendations:\n",
    "\n",
    "The Hoedspruit Hotel: This cozy hotel brings the best of Hoedspruit to your doorstep. Enjoy comfortable rooms with flat-screen TVs, air conditioning, and refrigerators. Free parking is available, and it’s conveniently located near popular art galleries and restaurants1.\n",
    "Sunbirds Oasis Lodge: A tranquil stay in Hoedspruit. Explore the surrounding wildlife and enjoy the peaceful atmosphere2.\n",
    "Airbnb: Consider checking out Airbnb for unique vacation rentals, self-catering houses, and lodges in Hoedspruit. You can find options with stunning views, private pools, and close proximity to nature reserves3.\n",
    "Remember to explore the nearby Blyde River Canyon, Kruger National Park, and other natural wonders during your stay.raction"
   ]
  },
  {
   "cell_type": "markdown",
   "metadata": {},
   "source": [
    "**Evaluación**\n",
    "\n",
    "| Participante | Calificación |\n",
    "| :- | -: |\n",
    "| JO Hernández | 5 |\n",
    "| JC Alvarado | 5 |\n",
    "| JC Romo | 5 |"
   ]
  },
  {
   "cell_type": "markdown",
   "metadata": {},
   "source": [
    "**Obteniendo Respuestas de la Base Conocimiento y el Modelo Fundacional**"
   ]
  },
  {
   "cell_type": "code",
   "execution_count": 111,
   "metadata": {},
   "outputs": [
    {
     "name": "stdout",
     "output_type": "stream",
     "text": [
      "Respuesta despues de 55.9021 segundos:\n",
      "  Hello! I'm happy to help you find a place to stay in Monterrey, Mexico. Based on your query, I suggest checking out the following options:\n",
      "1. Real Inn Monterrey - This hotel is located in the heart of Monterrey, within walking distance to Fashion Drive and other popular attractions. They offer comfortable rooms with modern amenities, a restaurant, and 24-hour room service.\n",
      "2. Novotel Monterrey Valle - If you're looking for a more relaxed atmosphere, Novotel Monterrey Valle is a great option. Located in the business district, this hotel offers spacious rooms with flat-screen TVs, a restaurant, and a bar/lounge. They also have an outdoor pool and a fitness center.\n",
      "3. Nh Collection Monterrey San Pedro - For a more central location, Nh Collection Monterrey San Pedro is located in the shopping district of San Pedro Garza García, within walking distance to Paseo San Pedro and other popular attractions. They offer modern rooms with minibars and espresso makers, a restaurant, and 24-hour room service.\n",
      "I hope these suggestions help you find the perfect place to stay in Monterrey! Let me know if you have any further questions or if there's anything else I can help you with.\n",
      "\n",
      "Contexto:\n",
      "page_content='Real Inn Monterrey is located in Monterrey, Mexico.HeadLine : Near Fashion DriveLocation : With a stay at Camino Real Fashion Drive Monterrey in San Pedro Garza García, you ll be connected to a shopping center, within a 10-minute drive of Fundidora Park and Fashion Drive.  This 4.5-star hotel is 3.4 mi (5.5 km) from Macroplaza and 7.9 mi (12.7 km) from Estadio BBVA Bancomer.Rooms : Make yourself at home in one of the 238 air-conditioned rooms featuring flat-screen televisions. Complimentary wireless Internet access keeps you connected, and satellite programming is available for your entertainment. Private bathrooms with showers feature complimentary toiletries and hair dryers. Conveniences include phones, as well as safes and desks.Dining : Enjoy a meal at Distrito Regio or snacks in the coffee shop/cafe. The hotel also offers 24-hour room service. Wrap up your day with a drink at the bar/lounge. Buffet breakfasts are available daily from 6:30 AM to 11 AM for a fee.CheckIn Instructions :   Extra-person charges may apply and vary depending on property policyGovernment-issued photo identification and a credit card, debit card, or cash deposit may be required at check-in for incidental chargesSpecial requests are subject to availability upon check-in and may incur additional charges; special requests cannot be guaranteedThis property accepts credit cards; cash is not acceptedSafety features at this property include a carbon monoxide detector, a smoke detector, and a security system  Special Instructions : Front desk staff will greet guests on arrival. Disclaimer notification: Amenities are subject to availability and may be chargeable as per the hotel policy.' metadata={'Address': 'av. lazaro cardenas 1002 zona san agustin 66260 san pedro garza garcia, colonia del valle oriente66260 san pedro garza garcíamonterrey, monterrey, 66260, mexico', 'City': 'Monterrey', 'Code': '1801440', 'Continent': 'Americas', 'Country': 'Mexico', 'CountryCode': 'MX', 'Latitude': 25.651497, 'Longitude': -100.335181, 'Name': 'real inn monterrey', 'Rating': 4.0}\n",
      "\n",
      "Contexto:\n",
      "page_content='Novotel Monterrey Valle is located in Monterrey, Mexico.HeadLine : Near Metropolitan CenterLocation : With a stay at Novotel Monterrey Valle in San Pedro Garza García, you ll be in the business district, within a 10-minute walk of Metropolitan Center and Showcenter Complex.  This 4-star hotel is 0.8 mi (1.3 km) from Fashion Drive and 3.3 mi (5.3 km) from Auditorium Pabellón M.Rooms : Stay in one of 238 guestrooms featuring flat-screen televisions. Complimentary wired and wireless Internet access keeps you connected, and cable programming provides entertainment. Private bathrooms have deep soaking bathtubs and complimentary toiletries. Conveniences include laptop-compatible safes and desks, as well as phones with free local calls.Dining : Enjoy a meal at the restaurant, or stay in and take advantage of the hotel s room service (during limited hours). Wrap up your day with a drink at the bar/lounge. Buffet breakfasts are available daily from 6:30 AM to 11:00 AM for a fee.CheckIn Instructions :   Extra-person charges may apply and vary depending on property policyGovernment-issued photo identification and a credit card, debit card, or cash deposit may be required at check-in for incidental chargesSpecial requests are subject to availability upon check-in and may incur additional charges; special requests cannot be guaranteedThe name on the credit card used at check-in to pay for incidentals must be the primary name on the guestroom reservationThis property accepts credit cards and cashSafety features at this property include a fire extinguisher and a smoke detectorPlease note that cultural norms and guest policies may differ by country and by property; the policies listed are provided by the property  Special Instructions : Front desk staff will greet guests on arrival. Disclaimer notification: Amenities are subject to availability and may be chargeable as per the hotel policy.' metadata={'Address': 'avenida lazaro cardenas 3000 esq dr alt. col. valle oriente, esquina dr. altcolonia valle oriente66269 san pedro garza garcia, monterrey, 66269, mexico', 'City': 'Monterrey', 'Code': '1041430', 'Continent': 'Americas', 'Country': 'Mexico', 'CountryCode': 'MX', 'Latitude': 25.647507, 'Longitude': -100.328636, 'Name': 'novotel monterrey valle', 'Rating': 4.0}\n",
      "\n",
      "Contexto:\n",
      "page_content='Nh Collection Monterrey San Pedro is located in Monterrey, Mexico.HeadLine : Near Paseo San PedroLocation : With a stay at NH Collection Monterrey San Pedro in San Pedro Garza García, you ll be connected to a shopping center, just steps from Paseo San Pedro and a 4-minute drive from Plaza Fiesta San Agustin.  This 4-star hotel is 3.6 mi (5.8 km) from Basilica de Guadalupe and 5.5 mi (8.8 km) from Monterrey Institute of Technology.Rooms : Make yourself at home in one of the 217 air-conditioned rooms featuring minibars and espresso makers. Your pillowtop bed comes with premium bedding. 46-inch flat-screen televisions with cable programming provide entertainment, while complimentary wireless Internet access keeps you connected. Private bathrooms with showers feature rainfall showerheads and complimentary toiletries.Dining : Enjoy a meal at the restaurant or snacks in the coffee shop/cafe. The hotel also offers 24-hour room service. Meet other guests and eat at the complimentary reception. Quench your thirst with your favorite drink at the bar/lounge. Buffet breakfasts are available daily from 7 AM to noon for a fee.CheckIn Instructions :   Extra-person charges may apply and vary depending on property policyGovernment-issued photo identification and a credit card, debit card, or cash deposit may be required at check-in for incidental chargesSpecial requests are subject to availability upon check-in and may incur additional charges; special requests cannot be guaranteedThis property accepts credit cards and cashThis property reserves the right to pre-authorize the guest s credit card prior to arrival.Please note that cultural norms and guest policies may differ by country and by property; the policies listed are provided by the property     Guests planning to check in with a pet must provide the pet s health certificate at check-in.  Special Instructions : This property doesn t offer after-hours check-in. Front desk staff will greet guests on arrival. Disclaimer notification: Amenities are subject to availability and may be chargeable as per the hotel policy.' metadata={'Address': 'avenida jose vasconcelos, 402 esquina manuel gómez morín, 66268 monterrey, monterrey, 66268, mexico', 'City': 'Monterrey', 'Code': '1255760', 'Continent': 'Americas', 'Country': 'Mexico', 'CountryCode': 'MX', 'Latitude': 25.65053, 'Longitude': -100.35924, 'Name': 'nh collection monterrey san pedro', 'Rating': 4.0}\n",
      "\n",
      "Contexto:\n",
      "page_content='Nh Monterrey La Fe is located in Monterrey, Mexico.HeadLine : Near Paseo La FeLocation : With a stay at NH Monterrey La Fe, you ll be centrally located in San Nicolas de los Garza, within a 10-minute drive of Fundidora Park and Paseo La Fe.  This 4-star hotel is 4.7 mi (7.6 km) from Estadio BBVA Bancomer and 7.5 mi (12.1 km) from Macroplaza.Rooms : Make yourself at home in one of the 152 air-conditioned rooms featuring minibars and flat-screen televisions. Complimentary wireless Internet access keeps you connected, and satellite programming is available for your entertainment. Private bathrooms with showers feature rainfall showerheads and complimentary toiletries. Conveniences include phones, as well as safes and desks.Dining : Satisfy your appetite for lunch or dinner at NH Monterrey La Fe Restau, a restaurant which specializes in Mexican cuisine, or stay in and take advantage of the 24-hour room service. Quench your thirst with your favorite drink at the bar/lounge. Buffet breakfasts are served on weekdays from 7:00 AM to 11:00 AM and on weekends from 6:00 AM to noon for a fee.CheckIn Instructions :   Extra-person charges may apply and vary depending on property policyGovernment-issued photo identification and a credit card, debit card, or cash deposit may be required at check-in for incidental chargesSpecial requests are subject to availability upon check-in and may incur additional charges; special requests cannot be guaranteedThis property accepts credit cards and cashThis property reserves the right to pre-authorize the guest s credit card prior to arrival.Please note that cultural norms and guest policies may differ by country and by property; the policies listed are provided by the property     Guests planning to check in with a pet must provide the pet s health certificate at check-in.  Special Instructions : This property offers transfers from the airport (surcharges may apply). Guests must contact the property with arrival details before travel, using the contact information on the booking confirmation. Front desk staff will greet guests on arrival. Disclaimer notification: Amenities are subject to availability and may be chargeable as per the hotel policy.' metadata={'Address': 'av. miguel alema n 200 col. talaverna 200 200, col. talaverna66470 monterrey, monterrey, 64470, mexico', 'City': 'Monterrey', 'Code': '1632335', 'Continent': 'Americas', 'Country': 'Mexico', 'CountryCode': 'MX', 'Latitude': 25.719755, 'Longitude': -100.218994, 'Name': 'nh monterrey la fe', 'Rating': 4.0}\n"
     ]
    }
   ],
   "source": [
    "input = '''Can you suggest 5 places to stay in Monterrey, Nuevo Leon in Mexico?'''\n",
    "\n",
    "elapsed_time, response, context = retrieve_and_generate(input, rag_prompt_llama, vector_store, llm)\n",
    "display_response(response, context, elapsed_time)"
   ]
  },
  {
   "cell_type": "markdown",
   "metadata": {},
   "source": [
    "**Respuesta de Copilot Edge**\n",
    "\n",
    "Certainly! If you’re planning a trip to Monterrey, Nuevo León, here are five great places to stay:\n",
    "\n",
    "Safi Royal Luxury Metropolitan: Located in San Pedro Garza Garcia, this 5-star hotel offers an outdoor pool, free parking, and a fitness center. Enjoy panoramic views and excellent service12.\n",
    "Best Western PREMIER Monterrey Aeropuerto: Just a 5-minute drive from Monterrey International Airport, this hotel features an outdoor pool, a gym, and air-conditioned rooms with free Wi-Fi13.\n",
    "Galeria Plaza Monterrey: Conveniently situated in the center of Monterrey, this 5-star hotel offers city views, an outdoor pool, and free WiFi. Don’t miss the restaurant and bar13.\n",
    "Holiday Inn & Suites - Monterrey Apodaca Zona Airport: Located in Apodaca, this 5-star IHG hotel provides an outdoor pool, free private parking, and a fitness center. Perfect for travelers near the airport13.\n",
    "Fiesta Americana Monterrey Pabellón M.: Situated in Monterrey Centro, this hotel offers an outdoor pool and stunning city views. The on-site restaurant and bar on the 16th floor provide a memorable experience12.\n",
    "Enjoy your stay in vibrant Monterrey!raction"
   ]
  },
  {
   "cell_type": "markdown",
   "metadata": {},
   "source": [
    "**Evaluación**\n",
    "\n",
    "| Participante | Calificación |\n",
    "| :- | -: |\n",
    "| JO Hernández | 1 |\n",
    "| JC Alvarado | 1 |\n",
    "| JC Romo | 2 |"
   ]
  },
  {
   "cell_type": "markdown",
   "metadata": {},
   "source": [
    "**Obteniendo Respuestas de la Base Conocimiento y el Modelo Fundacional**"
   ]
  },
  {
   "cell_type": "code",
   "execution_count": 112,
   "metadata": {},
   "outputs": [
    {
     "name": "stdout",
     "output_type": "stream",
     "text": [
      "Respuesta despues de 59.7428 segundos:\n",
      "  Hello! I'm happy to help you find a place to stay in Monterrey, Nuevo Leon, Mexico. Based on your query, I suggest checking out the following options near Tec de Monterrey:\n",
      "1. Four Seasons Hotel Mexico City - While it may not be located in Monterrey specifically, this 5-star hotel offers luxurious accommodations and excellent service, making it a great choice for those looking for a comfortable stay. It's about an hour and a half drive from Tec de Monterrey, depending on traffic.\n",
      "2. Real Inn Monterrey - This 4.5-star hotel is located in the heart of Monterrey, within walking distance to Fashion Drive and other shopping centers. It offers modern rooms with amenities like flat-screen TVs and free WiFi. The hotel is about a 10-minute drive from Tec de Monterrey.\n",
      "3. Novotel Monterrey Valle - Located in the business district of San Pedro Garza García, this 4-star hotel offers comfortable rooms with flat-screen TVs and free WiFi. It's about a 10-minute walk to Metropolitan Center and Showcenter Complex, making it a great choice for those looking for easy access to business hubs. The hotel is about a 30-minute drive from Tec de Monterrey.\n",
      "I hope this helps you find the perfect place to stay near Tec de Monterrey in Monterrey, Nuevo Leon! Let me know if you have any other questions.\n",
      "\n",
      "Contexto:\n",
      "page_content='Four Seasons Hotel Mexico City is located in Mexico City, Mexico.HeadLine : Near The Angel of Independence MonumentLocation : With a stay at Four Seasons Hotel Mexico City, you ll be centrally located in Mexico City, steps from Paseo de la Reforma and 10 minutes by foot from The Angel of Independence Monument.  This 5-star hotel is 7 mi (11.3 km) from Basilica of Our Lady of Guadalupe and 7.2 mi (11.5 km) from Autódromo Hermanos Rodríguez.Rooms : Make yourself at home in one of the 240 guestrooms featuring iPod docking stations and LCD televisions. Wired and wireless Internet access is complimentary, while DVD players and cable programming provide entertainment. Bathrooms feature separate bathtubs and showers, designer toiletries, and hair dryers. Conveniences include phones, as well as laptop-compatible safes and desks.Dining : Grab a bite to eat at the Zanaya, a restaurant where you can take in the garden view, or stay in and take advantage of 24-hour room service. Wrap up your day with a drink at the bar/lounge. Full breakfasts are available daily from 7:00 AM to 10:00 AM for a fee.CheckIn Instructions :   Extra-person charges may apply and vary depending on property policyGovernment-issued photo identification and a credit card, debit card, or cash deposit may be required at check-in for incidental chargesSpecial requests are subject to availability upon check-in and may incur additional charges; special requests cannot be guaranteedThis property accepts credit cards, debit cards, and cashSafety features at this property include a carbon monoxide detector, a fire extinguisher, a smoke detector, a security system, and a first aid kitPlease note that cultural norms and guest policies may differ by country and by property; the policies listed are provided by the property  Special Instructions : Front desk staff will greet guests on arrival. Disclaimer notification: Amenities are subject to availability and may be chargeable as per the hotel policy.' metadata={'Address': 'paseo de la reforma 500 colonia juarez, colonia juárez06600 mexiko-stadtciudad de méxico, mexico city, 06600, mexico', 'City': 'Mexico City', 'Code': '1157308', 'Continent': 'Americas', 'Country': 'Mexico', 'CountryCode': 'MX', 'Latitude': 19.423302, 'Longitude': -99.1741, 'Name': 'four seasons hotel mexico city', 'Rating': 5.0}\n",
      "\n",
      "Contexto:\n",
      "page_content='Real Inn Monterrey is located in Monterrey, Mexico.HeadLine : Near Fashion DriveLocation : With a stay at Camino Real Fashion Drive Monterrey in San Pedro Garza García, you ll be connected to a shopping center, within a 10-minute drive of Fundidora Park and Fashion Drive.  This 4.5-star hotel is 3.4 mi (5.5 km) from Macroplaza and 7.9 mi (12.7 km) from Estadio BBVA Bancomer.Rooms : Make yourself at home in one of the 238 air-conditioned rooms featuring flat-screen televisions. Complimentary wireless Internet access keeps you connected, and satellite programming is available for your entertainment. Private bathrooms with showers feature complimentary toiletries and hair dryers. Conveniences include phones, as well as safes and desks.Dining : Enjoy a meal at Distrito Regio or snacks in the coffee shop/cafe. The hotel also offers 24-hour room service. Wrap up your day with a drink at the bar/lounge. Buffet breakfasts are available daily from 6:30 AM to 11 AM for a fee.CheckIn Instructions :   Extra-person charges may apply and vary depending on property policyGovernment-issued photo identification and a credit card, debit card, or cash deposit may be required at check-in for incidental chargesSpecial requests are subject to availability upon check-in and may incur additional charges; special requests cannot be guaranteedThis property accepts credit cards; cash is not acceptedSafety features at this property include a carbon monoxide detector, a smoke detector, and a security system  Special Instructions : Front desk staff will greet guests on arrival. Disclaimer notification: Amenities are subject to availability and may be chargeable as per the hotel policy.' metadata={'Address': 'av. lazaro cardenas 1002 zona san agustin 66260 san pedro garza garcia, colonia del valle oriente66260 san pedro garza garcíamonterrey, monterrey, 66260, mexico', 'City': 'Monterrey', 'Code': '1801440', 'Continent': 'Americas', 'Country': 'Mexico', 'CountryCode': 'MX', 'Latitude': 25.651497, 'Longitude': -100.335181, 'Name': 'real inn monterrey', 'Rating': 4.0}\n",
      "\n",
      "Contexto:\n",
      "page_content='Novotel Monterrey Valle is located in Monterrey, Mexico.HeadLine : Near Metropolitan CenterLocation : With a stay at Novotel Monterrey Valle in San Pedro Garza García, you ll be in the business district, within a 10-minute walk of Metropolitan Center and Showcenter Complex.  This 4-star hotel is 0.8 mi (1.3 km) from Fashion Drive and 3.3 mi (5.3 km) from Auditorium Pabellón M.Rooms : Stay in one of 238 guestrooms featuring flat-screen televisions. Complimentary wired and wireless Internet access keeps you connected, and cable programming provides entertainment. Private bathrooms have deep soaking bathtubs and complimentary toiletries. Conveniences include laptop-compatible safes and desks, as well as phones with free local calls.Dining : Enjoy a meal at the restaurant, or stay in and take advantage of the hotel s room service (during limited hours). Wrap up your day with a drink at the bar/lounge. Buffet breakfasts are available daily from 6:30 AM to 11:00 AM for a fee.CheckIn Instructions :   Extra-person charges may apply and vary depending on property policyGovernment-issued photo identification and a credit card, debit card, or cash deposit may be required at check-in for incidental chargesSpecial requests are subject to availability upon check-in and may incur additional charges; special requests cannot be guaranteedThe name on the credit card used at check-in to pay for incidentals must be the primary name on the guestroom reservationThis property accepts credit cards and cashSafety features at this property include a fire extinguisher and a smoke detectorPlease note that cultural norms and guest policies may differ by country and by property; the policies listed are provided by the property  Special Instructions : Front desk staff will greet guests on arrival. Disclaimer notification: Amenities are subject to availability and may be chargeable as per the hotel policy.' metadata={'Address': 'avenida lazaro cardenas 3000 esq dr alt. col. valle oriente, esquina dr. altcolonia valle oriente66269 san pedro garza garcia, monterrey, 66269, mexico', 'City': 'Monterrey', 'Code': '1041430', 'Continent': 'Americas', 'Country': 'Mexico', 'CountryCode': 'MX', 'Latitude': 25.647507, 'Longitude': -100.328636, 'Name': 'novotel monterrey valle', 'Rating': 4.0}\n",
      "\n",
      "Contexto:\n",
      "page_content='Nh Collection Monterrey San Pedro is located in Monterrey, Mexico.HeadLine : Near Paseo San PedroLocation : With a stay at NH Collection Monterrey San Pedro in San Pedro Garza García, you ll be connected to a shopping center, just steps from Paseo San Pedro and a 4-minute drive from Plaza Fiesta San Agustin.  This 4-star hotel is 3.6 mi (5.8 km) from Basilica de Guadalupe and 5.5 mi (8.8 km) from Monterrey Institute of Technology.Rooms : Make yourself at home in one of the 217 air-conditioned rooms featuring minibars and espresso makers. Your pillowtop bed comes with premium bedding. 46-inch flat-screen televisions with cable programming provide entertainment, while complimentary wireless Internet access keeps you connected. Private bathrooms with showers feature rainfall showerheads and complimentary toiletries.Dining : Enjoy a meal at the restaurant or snacks in the coffee shop/cafe. The hotel also offers 24-hour room service. Meet other guests and eat at the complimentary reception. Quench your thirst with your favorite drink at the bar/lounge. Buffet breakfasts are available daily from 7 AM to noon for a fee.CheckIn Instructions :   Extra-person charges may apply and vary depending on property policyGovernment-issued photo identification and a credit card, debit card, or cash deposit may be required at check-in for incidental chargesSpecial requests are subject to availability upon check-in and may incur additional charges; special requests cannot be guaranteedThis property accepts credit cards and cashThis property reserves the right to pre-authorize the guest s credit card prior to arrival.Please note that cultural norms and guest policies may differ by country and by property; the policies listed are provided by the property     Guests planning to check in with a pet must provide the pet s health certificate at check-in.  Special Instructions : This property doesn t offer after-hours check-in. Front desk staff will greet guests on arrival. Disclaimer notification: Amenities are subject to availability and may be chargeable as per the hotel policy.' metadata={'Address': 'avenida jose vasconcelos, 402 esquina manuel gómez morín, 66268 monterrey, monterrey, 66268, mexico', 'City': 'Monterrey', 'Code': '1255760', 'Continent': 'Americas', 'Country': 'Mexico', 'CountryCode': 'MX', 'Latitude': 25.65053, 'Longitude': -100.35924, 'Name': 'nh collection monterrey san pedro', 'Rating': 4.0}\n"
     ]
    }
   ],
   "source": [
    "input = '''Can you suggest 5 places to stay in Monterrey, Nuevo Leon in Mexico, near Tec de Monterrey?'''\n",
    "\n",
    "elapsed_time, response, context = retrieve_and_generate(input, rag_prompt_llama, vector_store, llm)\n",
    "display_response(response, context, elapsed_time)"
   ]
  },
  {
   "cell_type": "markdown",
   "metadata": {},
   "source": [
    "**Respuesta de Copilot Edge**\n",
    "\n",
    "Certainly! If you’re looking for accommodations near Tec de Monterrey, here are five options to consider:\n",
    "\n",
    "Safi Royal Luxury Metropolitan: Located in San Pedro Garza Garcia, this 5-star hotel offers an outdoor swimming pool, free private parking, a fitness center, and a restaurant. Enjoy a comfortable stay with excellent amenities1.\n",
    "Best Western PREMIER Monterrey Aeropuerto: Just a 5-minute drive from Monterrey International Airport, this hotel features an outdoor pool, a gym, and air-conditioned rooms with free Wi-Fi1.\n",
    "Galeria Plaza Monterrey: Attractively set in the center of Monterrey, this 5-star hotel offers air-conditioned rooms, an outdoor swimming pool, free Wi-Fi, and a fitness center. Enjoy city views and convenient amenities1.\n",
    "Holiday Inn & Suites - Monterrey Apodaca Zona Airport: Situated in Apodaca, this 5-star IHG hotel provides an outdoor pool, free private parking, and a fitness center. Perfect for travelers near the airport1.\n",
    "Fiesta Americana Monterrey Pabellón M.: Offering an outdoor pool and city views, this hotel is located in Monterrey Centro. Enjoy panoramic vistas from the on-site restaurant and bar on the 16th floor1.\n",
    "These options provide a range of amenities and convenient locations for your stay in vibrant Monterrey!raction"
   ]
  },
  {
   "cell_type": "markdown",
   "metadata": {},
   "source": [
    "**Evaluación**\n",
    "\n",
    "| Participante | Calificación |\n",
    "| :- | -: |\n",
    "| JO Hernández | 5 |\n",
    "| JC Alvarado | 5 |\n",
    "| JC Romo | 5 |"
   ]
  },
  {
   "cell_type": "markdown",
   "metadata": {},
   "source": [
    "**Obteniendo Respuestas de la Base Conocimiento y el Modelo Fundacional**"
   ]
  },
  {
   "cell_type": "code",
   "execution_count": 113,
   "metadata": {},
   "outputs": [
    {
     "name": "stdout",
     "output_type": "stream",
     "text": [
      "Respuesta despues de 52.7501 segundos:\n",
      "  Hello! I'm happy to help you find a romantic weekend getaway in Mexico City with a nice massage option within your hotel. Based on the information provided, I would recommend Hotel Black Mexico City. It is located near The Angel of Independence Monument and offers elegant dining experiences for guests.\n",
      "The hotel features 70 air-conditioned rooms with Smart televisions, down comforters, and premium bedding. You can enjoy a meal at the restaurant or snacks in the coffee shop/cafe, and room service is available during limited hours. The hotel also offers a cooked-to-order breakfast for a fee.\n",
      "In terms of massage options, Hotel Black Mexico City does not have an on-site spa, but there are several nearby options you can consider. One option is Spa at Four Seasons Mexico City, which is located about 10 minutes away by car. This luxurious spa offers a range of treatments including massages, facials, and body wraps. Another option is The Spa at the St. Regis Mexico City, which is located about 20 minutes away by car. This spa offers a variety of treatments including massages, facials, and body treatments in a luxurious setting.\n",
      "I hope this information helps you plan your romantic weekend getaway in Mexico City! Let me know if you have any other questions.\n",
      "\n",
      "Contexto:\n",
      "page_content='The hotel offers a variety of elegant dining experiences for guests. Whether indoors or outdoors, dine surrounded by the beauty of Mexico and enjoy the excellent service found. Enjoy breakfast, lunch or dinner in a casual, polished setting with family and friends. Disclaimer notification: Amenities are subject to availability and may be chargeable as per the hotel policy.' metadata={'Address': 'av. sábalo cerritos s/n, zona hotelera nortemazatlán 82100, mazatlan, 82100, mexico', 'City': 'Mazatlan', 'Code': '1309267', 'Continent': 'Americas', 'Country': 'Mexico', 'CountryCode': 'MX', 'Latitude': 23.288787080706, 'Longitude': -106.47296336231, 'Name': 'mayan palace mazatlan & sea garden mazatlan', 'Rating': 4.0}\n",
      "\n",
      "Contexto:\n",
      "page_content='Basic Hotel is located in Mexico City, Mexico.HeadLine : Near The Angel of Independence MonumentLocation : A stay at Hotel Black Mexico City places you in the heart of Mexico City, within a 5-minute drive of The Angel of Independence Monument and Museo Nacional de la Revolucion.  This 4-star hotel is 1.3 mi (2.1 km) from Museo Universitario del Chopo and 1.4 mi (2.3 km) from Avenida Presidente Masaryk.Rooms : Make yourself at home in one of the 70 air-conditioned rooms featuring Smart televisions. Your memory foam bed comes with down comforters and premium bedding. Complimentary wireless Internet access keeps you connected, and cable programming is available for your entertainment. Private bathrooms with showers feature rainfall showerheads and hair dryers.Dining : Enjoy a meal at the restaurant or snacks in the coffee shop/cafe. The hotel also offers room service (during limited hours). Wrap up your day with a drink at the bar/lounge. Cooked-to-order breakfasts are available daily from 8:00 AM to noon for a fee.CheckIn Instructions :   Extra-person charges may apply and vary depending on property policyGovernment-issued photo identification and a credit card, debit card, or cash deposit may be required at check-in for incidental chargesSpecial requests are subject to availability upon check-in and may incur additional charges; special requests cannot be guaranteedGuests must contact this property in advance to reserve sofa bedsTax ID - BAS160519H15This property accepts credit cards, debit cards, and cashLong-term renters welcomeNoise-free guestrooms cannot be guaranteedSafety features at this property include a smoke detector, a security system, and window guardsPlease note that cultural norms and guest policies may differ by country and by property; the policies listed are provided by the property     Outside food is not permitted on the premises.  Special Instructions : This property doesn t offer after-hours check-in. Front desk staff will greet guests on arrival. For more details, please contact the property using the information on the booking confirmation. Disclaimer notification: Amenities are subject to availability and may be chargeable as per the hotel policy.' metadata={'Address': 'james sullivan 163 bis col san rafael, colonia san rafaeldelegación cuauhtémoc06470 ciudad de méxico, mexico city, 06470, mexico', 'City': 'Mexico City', 'Code': '1348339', 'Continent': 'Americas', 'Country': 'Mexico', 'CountryCode': 'MX', 'Latitude': 19.43521, 'Longitude': -99.16636, 'Name': 'basic hotel', 'Rating': 4.0}\n",
      "\n",
      "Contexto:\n",
      "page_content='Four Seasons Hotel Mexico City is located in Mexico City, Mexico.HeadLine : Near The Angel of Independence MonumentLocation : With a stay at Four Seasons Hotel Mexico City, you ll be centrally located in Mexico City, steps from Paseo de la Reforma and 10 minutes by foot from The Angel of Independence Monument.  This 5-star hotel is 7 mi (11.3 km) from Basilica of Our Lady of Guadalupe and 7.2 mi (11.5 km) from Autódromo Hermanos Rodríguez.Rooms : Make yourself at home in one of the 240 guestrooms featuring iPod docking stations and LCD televisions. Wired and wireless Internet access is complimentary, while DVD players and cable programming provide entertainment. Bathrooms feature separate bathtubs and showers, designer toiletries, and hair dryers. Conveniences include phones, as well as laptop-compatible safes and desks.Dining : Grab a bite to eat at the Zanaya, a restaurant where you can take in the garden view, or stay in and take advantage of 24-hour room service. Wrap up your day with a drink at the bar/lounge. Full breakfasts are available daily from 7:00 AM to 10:00 AM for a fee.CheckIn Instructions :   Extra-person charges may apply and vary depending on property policyGovernment-issued photo identification and a credit card, debit card, or cash deposit may be required at check-in for incidental chargesSpecial requests are subject to availability upon check-in and may incur additional charges; special requests cannot be guaranteedThis property accepts credit cards, debit cards, and cashSafety features at this property include a carbon monoxide detector, a fire extinguisher, a smoke detector, a security system, and a first aid kitPlease note that cultural norms and guest policies may differ by country and by property; the policies listed are provided by the property  Special Instructions : Front desk staff will greet guests on arrival. Disclaimer notification: Amenities are subject to availability and may be chargeable as per the hotel policy.' metadata={'Address': 'paseo de la reforma 500 colonia juarez, colonia juárez06600 mexiko-stadtciudad de méxico, mexico city, 06600, mexico', 'City': 'Mexico City', 'Code': '1157308', 'Continent': 'Americas', 'Country': 'Mexico', 'CountryCode': 'MX', 'Latitude': 19.423302, 'Longitude': -99.1741, 'Name': 'four seasons hotel mexico city', 'Rating': 5.0}\n",
      "\n",
      "Contexto:\n",
      "page_content='Hotel Mexico is located in Vera, Spain.HeadLine : Near Puerto del Rey BeachLocation : When you stay at Hotel México in Vera, you ll be near the beach, within a 10-minute walk of Playa El Playazo and Puerto del Rey Beach.  This 4-star hotel is 14.8 mi (23.8 km) from Cabo de Gata-Níjar Natural Park and 0.5 mi (0.8 km) from Vera Beach.Rooms : Make yourself at home in one of the 155 guestrooms featuring minibars. Rooms have private balconies or patios. Complimentary wireless Internet access keeps you connected, and satellite programming is available for your entertainment. Bathrooms feature shower/tub combinations, complimentary toiletries, and bidets.Dining : Enjoy a satisfying meal at Restaurante Buffet serving guests of Hotel México. Relax with a refreshing drink from the bar/lounge or one of the 2 beach bars. Buffet breakfasts are available daily from 8 AM to 10:30 AM for a fee.CheckIn Instructions :   Extra-person charges may apply and vary depending on property policyGovernment-issued photo identification and a credit card, debit card, or cash deposit may be required at check-in for incidental chargesSpecial requests are subject to availability upon check-in and may incur additional charges; special requests cannot be guaranteedGuests must contact this property in advance to reserve cribs/infant bedsThis property accepts credit cards, debit cards, and cashSafety features at this property include a smoke detector, a security system, and a first aid kit  Special Instructions : The front desk is open daily from 10:00 AM - 8:00 PM. Front desk staff will greet guests on arrival. Disclaimer notification: Amenities are subject to availability and may be chargeable as per the hotel policy.' metadata={'Address': 'carretera garrucha villaricos s n urbanizacion puerto rey, urbanización puerto rey04621 veraalmería, vera, 04621, spain', 'City': 'Vera', 'Code': '1039504', 'Continent': 'Europe', 'Country': 'Spain', 'CountryCode': 'ES', 'Latitude': 37.20901, 'Longitude': -1.815712, 'Name': 'hotel mexico', 'Rating': 4.0}\n"
     ]
    }
   ],
   "source": [
    "input = '''I want to stay with my wife for a romantic weekend in Mexico City. We want to have a nice massage within the hotel.'''\n",
    "\n",
    "elapsed_time, response, context = retrieve_and_generate(input, rag_prompt_llama, vector_store, llm)\n",
    "display_response(response, context, elapsed_time)"
   ]
  },
  {
   "cell_type": "markdown",
   "metadata": {},
   "source": [
    "**Respuesta de ChatGpt**\n",
    "\n",
    "Mexico City offers many luxurious hotels perfect for a romantic weekend. Here are a few options that include massage services within the hotel:\n",
    "\n",
    "1. Las Alcobas, a Luxury Collection Hotel\n",
    "Located in the upscale Polanco district, Las Alcobas offers elegant rooms and a serene spa. The hotel features a full-service spa with a variety of massage treatments, ensuring a relaxing experience for you and your wife.\n",
    "\n",
    "2. The St. Regis Mexico City\n",
    "This hotel is known for its luxurious amenities and exceptional service. The Remède Spa offers a range of treatments, including massages, facials, and body treatments. The hotel’s central location also provides easy access to many of the city’s attractions.\n",
    "\n",
    "3. Four Seasons Hotel Mexico City\n",
    "Situated on the Paseo de la Reforma, this hotel combines luxury with comfort. The spa offers a variety of massage treatments, and you can also enjoy the beautiful garden courtyard and the rooftop pool.\n",
    "\n",
    "4. Hotel Marquis Reforma\n",
    "This elegant hotel on Paseo de la Reforma features the Spa Marquis, offering an extensive menu of massages and wellness treatments. It’s a perfect place to unwind and enjoy a romantic weekend.\n",
    "\n",
    "5. JW Marriott Hotel Mexico City\n",
    "Located in the Polanco district, this hotel offers a luxurious stay with an on-site spa that provides various massage treatments. The hotel’s prime location also means you’re close to excellent dining and shopping options.\n",
    "\n",
    "These hotels will provide a romantic and relaxing environment for your weekend getaway."
   ]
  },
  {
   "cell_type": "markdown",
   "metadata": {},
   "source": [
    "**Evaluación**\n",
    "\n",
    "| Participante | Calificación |\n",
    "| :- | -: |\n",
    "| JO Hernández | 5 |\n",
    "| JC Alvarado | 4 |\n",
    "| JC Romo | 5 |"
   ]
  },
  {
   "cell_type": "markdown",
   "metadata": {},
   "source": [
    "**Obteniendo Respuestas de la Base Conocimiento y el Modelo Fundacional**"
   ]
  },
  {
   "cell_type": "code",
   "execution_count": 114,
   "metadata": {},
   "outputs": [
    {
     "name": "stdout",
     "output_type": "stream",
     "text": [
      "Respuesta despues de 37.4047 segundos:\n",
      "  Hello! I'm glad you're interested in planning a golf weekend in Cancun. Based on the information provided, I recommend checking out the following hotels that have their own golf courses:\n",
      "1. The Westin Lagunamar Ocean Resort Villas & Spa - This hotel offers an 18-hole golf course designed by Jack Nicklaus, as well as a practice range and golf academy for guests to improve their skills. Additionally, the hotel features a spa, fitness center, and several swimming pools.\n",
      "2. The Grand Park Royal Cancun Caribe - This resort offers a 9-hole golf course, as well as a driving range and putting green. Guests can also enjoy the hotel's spa, fitness center, and outdoor swimming pool.\n",
      "3. The Hyatt Regency Cancun Resort Spa &amp; Marina - This hotel features an 18-hole golf course designed by Robert von Hagge, as well as a driving range and putting green. Other amenities include a spa, fitness center, and several swimming pools.\n",
      "Please note that while these hotels have their own golf courses, some may offer additional fees or require reservations in advance. It's always best to check with the hotel directly for the most up-to-date information on their golf facilities and policies.\n",
      "\n",
      "Contexto:\n",
      "page_content=\"Guests may enjoy spending time in the indoor swimming pool, the freshwater pool with a children's paddling area and making use of the sun terrace, the poolside snack bar, sun loungers and parasols (additional charges apply). Those wishing to relax may like to use the Jacuzzi, the steam room or the sauna as well as perhaps make use of the massage service. Sports enthusiasts may like to work out in the hotel's gym, play table tennis or billiards (some activities at an extra charge). The nearest golf course is some 8 km away. Disclaimer notification: Amenities are subject to availability and may be chargeable as per the hotel policy.\" metadata={'Address': 'sitio da tendeira - pico do atalaia, s/n, canico, caniço, 9125-114, portugal', 'City': 'Caniço', 'Code': '1194488', 'Continent': 'Europe', 'Country': 'Portugal', 'CountryCode': 'PT', 'Latitude': 32.65527047216892, 'Longitude': -16.81976594030857, 'Name': 'apartamentos pestana atalaia', 'Rating': 4.0}\n",
      "\n",
      "Contexto:\n",
      "page_content='The hotel offers weekly golf practice sessions and lessons as well as tennis, volleyball and archery tournaments. The property has two swimming pools and guests may also take part in an aerobics session, relax in the sauna or work out in the gym. Watersports options include waterskiing, diving (for certified divers only), windsurfing, kayaking, canoeing and sailing. Disclaimer notification: Amenities are subject to availability and may be chargeable as per the hotel policy.' metadata={'Address': 'malabar beach, castries, castries, 190, saint lucia', 'City': 'Castries', 'Code': '1169980', 'Continent': 'Americas', 'Country': 'Saint Lucia', 'CountryCode': 'LC', 'Latitude': 14.023528, 'Longitude': -60.985235, 'Name': 'rendezvous', 'Rating': 4.0}\n",
      "\n",
      "Contexto:\n",
      "page_content='The hotel offers a wide range of comfortable deluxe rooms or premium deluxe rooms. Each room has a private bathroom with shower, bathtub and hairdryer and amenities include a direct dial telephone, satellite TV, Internet access, safe and a minibar. Tea and coffee making facilities, centrally regulated air conditioning, and a private balcony or terrace also feature in all rooms as standard.\\n\\nThere is an outdoor swimming pool with poolside snack bar (charges apply) and guests can also relax in the sauna, steam room or enjoy a spa or massage treatment (fees apply to all). More active guests can work out in the gym or enjoy a round of golf on the 9-hole course. Tennis and minigolf round off the sport and leisure options (additional fees apply for both). Disclaimer notification: Amenities are subject to availability and may be chargeable as per the hotel policy.' metadata={'Address': 'nh-8, near indira gandhi international airport, new delhi, new delhi, 110037, india', 'City': 'New Delhi', 'Code': '1114439', 'Continent': 'Asia', 'Country': 'India', 'CountryCode': 'IN', 'Latitude': 28.5350397728896, 'Longitude': 77.1015608311791, 'Name': 'the uppal an ecotel hotel new delhi', 'Rating': 4.0}\n",
      "\n",
      "Contexto:\n",
      "page_content='Guests can enjoy a soak in the hotel hot tub or work on their suntans on the sun terrace. Furthermore, guests can relax with massage treatments or play a game of tennis or table tennis. Those looking to stay in shape can enjoy a workout at the hotel gym. Facilities for playing pool/snooker are also provided and there is a bowling alley and minigolf course. Fans of the fairway can head to the nearest golf course, Club de Golf Señorio de Illescas, which is some 3 km from the hotel. Disclaimer notification: Amenities are subject to availability and may be chargeable as per the hotel policy.' metadata={'Address': 'doctor fleming, 19, yuncos, yuncos, 45210, spain', 'City': 'Yuncos', 'Code': '1351046', 'Continent': 'Europe', 'Country': 'Spain', 'CountryCode': 'ES', 'Latitude': 40.09019, 'Longitude': -3.89608, 'Name': 'oc hotel central yuncos', 'Rating': 4.0}\n"
     ]
    }
   ],
   "source": [
    "input = '''I want to do a a golf weekend with my friends in Cancun. What hotels do you recommend that have their own golf course?'''\n",
    "\n",
    "elapsed_time, response, context = retrieve_and_generate(input, rag_prompt_llama, vector_store, llm)\n",
    "display_response(response, context, elapsed_time)"
   ]
  },
  {
   "cell_type": "markdown",
   "metadata": {},
   "source": [
    "**Respuesta de ChatGpt**\n",
    "\n",
    "Cancun offers several excellent hotels with their own golf courses, perfect for a golf weekend. Here are some top recommendations:\n",
    "\n",
    "1. Moon Palace Cancun\n",
    "Description: Moon Palace Cancun features a 27-hole Jack Nicklaus Signature golf course. The resort offers luxurious accommodations, multiple dining options, and a range of activities.\n",
    "Facilities: Golf academy, pro shop, golf packages, spa, and fine dining.\n",
    "2. Iberostar Cancun\n",
    "Description: Iberostar Cancun boasts an 18-hole championship golf course designed by Isao Aoki. The resort offers beautiful beachfront views, a variety of restaurants, and numerous amenities.\n",
    "Facilities: Clubhouse, golf shop, spa, multiple swimming pools, and entertainment options.\n",
    "3. The Ritz-Carlton, Cancun\n",
    "Description: The Ritz-Carlton, Cancun, while not having its own golf course, offers access to several nearby courses, including the Iberostar Cancun Golf Club and El Camaleon Mayakoba Golf Club.\n",
    "Facilities: Luxurious accommodations, fine dining, spa services, and concierge service to arrange golfing activities.\n",
    "4. Dreams Vista Cancun Golf & Spa Resort\n",
    "Description: This resort features a Greg Norman-designed golf course at Playa Mujeres Golf Club. The all-inclusive resort provides a range of activities and luxurious accommodations.\n",
    "Facilities: Golf packages, pro shop, spa, multiple dining options, and rooftop pool.\n",
    "5. Secrets Playa Mujeres Golf & Spa Resort\n",
    "Description: An adults-only resort with access to the 18-hole Playa Mujeres Golf Club, designed by Greg Norman. The resort offers all-inclusive luxury, perfect for a golf weekend.\n",
    "Facilities: Golf packages, pro shop, multiple restaurants, bars, spa, and beachfront access.\n",
    "Tips for Booking\n",
    "Early Reservations: Golf courses can get booked up quickly, so make sure to reserve tee times in advance.\n",
    "Packages: Look for golf packages that include accommodations, meals, and golf rounds to get the best value.\n",
    "Group Discounts: If you are traveling with a group, inquire about group rates or special deals.\n",
    "Would you like more information on any of these hotels or assistance with booking?"
   ]
  },
  {
   "cell_type": "markdown",
   "metadata": {},
   "source": [
    "**Evaluación**\n",
    "\n",
    "| Participante | Calificación |\n",
    "| :- | -: |\n",
    "| JO Hernández | 4 |\n",
    "| JC Alvarado | 4 |\n",
    "| JC Romo | 5 |"
   ]
  },
  {
   "cell_type": "markdown",
   "metadata": {},
   "source": [
    "**Obteniendo Respuestas de la Base Conocimiento y el Modelo Fundacional**"
   ]
  },
  {
   "cell_type": "code",
   "execution_count": 115,
   "metadata": {},
   "outputs": [
    {
     "name": "stdout",
     "output_type": "stream",
     "text": [
      "Respuesta despues de 53.3705 segundos:\n",
      "  Hello! I'm happy to help you find hotels near Ueno Park in Tokyo. Based on your search, I recommend Candeo Hotels Uenokoen and Park Hotel Tokyo. Both of these hotels are located within a short distance from Ueno Park and offer comfortable accommodations with modern amenities.\n",
      "Candeo Hotels Uenokoen offers 268 guestrooms with refrigerators, LCD televisions, and complimentary wired and wireless Internet access. The hotel also features a restaurant, buffet breakfasts, and a convenient location within walking distance of Tokyo Skytree and Ueno Park.\n",
      "Park Hotel Tokyo, on the other hand, offers 270 guestrooms with refrigerators, flat-screen televisions, and complimentary wireless Internet access. The hotel is located in a prime location near Ginza Six and Ginza Graphic Gallery, and provides easy access to other popular attractions in Tokyo.\n",
      "Both of these hotels have received positive reviews from guests for their cleanliness, comfort, and convenient location. I hope this helps you make an informed decision for your stay in Tokyo!\n",
      "\n",
      "Contexto:\n",
      "page_content='Candeo Ueno Park is located in Tokyo, Japan.HeadLine : In Tokyo (Taito)Location : With a stay at Candeo Hotels Uenokoen, you ll be centrally located in Tokyo, within a 5-minute drive of Tokyo Skytree and Ueno Park.  This 4-star hotel is 3 mi (4.8 km) from Tokyo Dome and 6.4 mi (10.3 km) from Tokyo Tower.Rooms : Make yourself at home in one of the 268 guestrooms featuring refrigerators and LCD televisions. Complimentary wired and wireless Internet access keeps you connected, and digital programming provides entertainment. Private bathrooms with shower/tub combinations feature complimentary toiletries and bidets. Conveniences include blackout drapes/curtains, housekeeping is provided on request, and irons/ironing boards can be requested.Dining : At Candeo Hotels Uenokoen, enjoy a satisfying meal at the restaurant. Buffet breakfasts are available daily from 7 AM to 9:30 AM for a fee.CheckIn Instructions :   Extra-person charges may apply and vary depending on property policyGovernment-issued photo identification and a credit card, debit card, or cash deposit may be required at check-in for incidental chargesSpecial requests are subject to availability upon check-in and may incur additional charges; special requests cannot be guaranteedThis property accepts credit cards; cash is not accepted  Special Instructions : If you are planning to arrive after midnight please contact the property in advance using the information on the booking confirmation. Front desk staff will greet guests on arrival. Disclaimer notification: Amenities are subject to availability and may be chargeable as per the hotel policy.' metadata={'Address': '1-2-13 negishi, taito-ku110-0003 tokyo, tokyo, 110-0003, japan', 'City': 'Tokyo', 'Code': '1020628', 'Continent': 'Asia', 'Country': 'Japan', 'CountryCode': 'JP', 'Latitude': 35.721912, 'Longitude': 139.779963, 'Name': 'candeo ueno park', 'Rating': 4.0}\n",
      "\n",
      "Contexto:\n",
      "page_content='Park Hotel Tokyo is located in Tokyo, Japan.HeadLine : In Tokyo (Minato)Location : Centrally located in Tokyo, Park Hotel Tokyo is within a 15-minute walk of Ginza Six and Ginza Graphic Gallery.  This 4-star hotel is 1.5 mi (2.4 km) from Tokyo Tower and 1.7 mi (2.8 km) from Tokyo Imperial Palace.Rooms : Make yourself at home in one of the 270 guestrooms featuring refrigerators and flat-screen televisions. Complimentary wireless Internet access keeps you connected, and satellite programming is available for your entertainment. Bathrooms with shower/tub combinations feature deep soaking bathtubs and designer toiletries. Conveniences include phones, as well as safes and desks.Dining : Enjoy Japanese cuisine at Hanasanshou, one of the hotel s 3 restaurants, or stay in and take advantage of the room service (during limited hours). Snacks are also available at the coffee shop/cafe. Wrap up your day with a drink at the bar/lounge. Full breakfasts are available daily from 7 AM to 10:30 AM for a fee.CheckIn Instructions :   Extra-person charges may apply and vary depending on property policyGovernment-issued photo identification and a credit card, debit card, or cash deposit may be required at check-in for incidental chargesSpecial requests are subject to availability upon check-in and may incur additional charges; special requests cannot be guaranteedThis property accepts credit cards and cashThis property uses eco-friendly cleaning productsSafety features at this property include a smoke detector and window guardsPlease note that cultural norms and guest policies may differ by country and by property; the policies listed are provided by the property  Special Instructions : Front desk staff will greet guests on arrival.  A scheduled power outage will take place from January 5, 2024 at 11 PM to January 6, 2024 at 5 AM. Disclaimer notification: Amenities are subject to availability and may be chargeable as per the hotel policy.' metadata={'Address': '1 7 1 higashishimbashi shiodome media tower, 1-7-1 higashi shimbashiminato-ku105-7227 tokyo, tokyo, 105-7227, japan', 'City': 'Tokyo', 'Code': '1312333', 'Continent': 'Asia', 'Country': 'Japan', 'CountryCode': 'JP', 'Latitude': 35.6635, 'Longitude': 139.75965, 'Name': 'park hotel tokyo', 'Rating': 4.0}\n",
      "\n",
      "Contexto:\n",
      "page_content='Royal Park Hotel is located in Tokyo, Japan.HeadLine : Near Suitengu ShrineLocation : With a stay at Royal Park Hotel Tokyo Nihonbashi, you ll be centrally located in Tokyo, a 5-minute walk from Suitengu Shrine and a 3-minute drive from Ryogoku Kokugikan.  This 4-star hotel is 1.5 mi (2.5 km) from Tsukiji Outer Market and 3 mi (4.8 km) from Senso-ji Temple.Rooms : Make yourself at home in one of the 419 guestrooms featuring minibars and LCD televisions. Your pillowtop bed comes with premium bedding. Wired and wireless Internet access is complimentary, while 26-inch Smart televisions with digital programming provide entertainment. Private bathrooms with shower/tub combinations feature complimentary toiletries and bidets.Dining : Enjoy barbecue at ??? ???/Sumida, one of the hotel s 4 restaurants, or stay in and take advantage of the room service (during limited hours). Snacks are also available at the coffee shop/cafe. Need to unwind? Take a break with a tasty beverage at one of the 2 bars/lounges. Buffet breakfasts are available daily from 7:00 AM to 10:00 AM for a fee.CheckIn Instructions :   Extra-person charges may apply and vary depending on property policyGovernment-issued photo identification and a credit card or cash deposit may be required at check-in for incidental chargesSpecial requests are subject to availability upon check-in and may incur additional charges; special requests cannot be guaranteedThis property accepts credit cards and cashPlease note that cultural norms and guest policies may differ by country and by property; the policies listed are provided by the property     For children older than 1 year of age, guests must provide their own crib.Additional fees may apply to children for items such as meals and access to the fitness club and must be paid directly at the hotel.Children under 13 years of age are not permitted to access the Executive Lounge after 5 PM.  Special Instructions : To make arrangements for check-in please contact the property at least 24 hours before arrival using the information on the booking confirmation. If you are planning to arrive after midnight please contact the property in advance using the information on the booking confirmation. Guests must contact the property in advance for check-in instructions. Front desk staff will greet guests on arrival. For more details, please contact the property using the information on the booking confirmation.  The Executive room rate does not include breakfast and health club access for children age 12 and younger sharing existing bedding. Additional fees apply. Disclaimer notification: Amenities are subject to availability and may be chargeable as per the hotel policy.' metadata={'Address': 'chuo ku nihonbashi kakigara cho 2 1 1 chuo-ku, chuo-kutokyo 103-8520, tokyo, 103-8520, japan', 'City': 'Tokyo', 'Code': '1069132', 'Continent': 'Asia', 'Country': 'Japan', 'CountryCode': 'JP', 'Latitude': 35.68207, 'Longitude': 139.78608, 'Name': 'royal park hotel', 'Rating': 4.0}\n",
      "\n",
      "Contexto:\n",
      "page_content='Royal Park Hotel The Shiodome Tokyo is located in Tokyo, Japan.HeadLine : In Tokyo (Minato)Location : With a stay at The Royal Park Hotel Iconic Tokyo Shiodome in Tokyo (Minato), you ll be within a 15-minute walk of Kabuki-za Theatre and Ginza Wako Building.  This 4-star hotel is 0.7 mi (1.2 km) from Hibiya Park and 1.3 mi (2.1 km) from Tokyo Tower.Rooms : Make yourself at home in one of the 490 air-conditioned rooms featuring refrigerators and LCD televisions. Complimentary wired Internet access is available to keep you connected. Private bathrooms with shower/tub combinations feature deep soaking bathtubs and hair dryers. Conveniences include phones, as well as safes and desks.Dining : You can enjoy a meal at Harmony serving the guests of The Royal Park Hotel Iconic Tokyo Shiodome, or stop in at the grocery/convenience store. Wrap up your day with a drink at the bar/lounge. Buffet breakfasts are available daily from 7:00 AM to 10:00 AM for a fee.CheckIn Instructions :   Extra-person charges may apply and vary depending on property policyGovernment-issued photo identification and a credit card, debit card, or cash deposit may be required at check-in for incidental chargesSpecial requests are subject to availability upon check-in and may incur additional charges; special requests cannot be guaranteedThis property accepts credit cards; cash is not acceptedPlease note that cultural norms and guest policies may differ by country and by property; the policies listed are provided by the property  Special Instructions : Front desk staff will greet guests on arrival. For more details, please contact the property using the information on the booking confirmation.  Meals are not included in the Breakfast Included rates for children ages 0-5. Guests must contact the property in advance to request meals for children ages 0-5. Fees are collected at the property. Disclaimer notification: Amenities are subject to availability and may be chargeable as per the hotel policy.' metadata={'Address': '1 6 3 higashi shinbashi minato ku, minato-kutokyo 105-8333, tokyo, 105-8333, japan', 'City': 'Tokyo', 'Code': '1315893', 'Continent': 'Asia', 'Country': 'Japan', 'CountryCode': 'JP', 'Latitude': 35.66408, 'Longitude': 139.76092, 'Name': 'royal park hotel the shiodome tokyo', 'Rating': 4.0}\n"
     ]
    }
   ],
   "source": [
    "input = '''Can you recommend hotels near Ueno Park in Tokyo?'''\n",
    "\n",
    "elapsed_time, response, context = retrieve_and_generate(input, rag_prompt_llama, vector_store, llm)\n",
    "display_response(response, context, elapsed_time)"
   ]
  },
  {
   "cell_type": "markdown",
   "metadata": {},
   "source": [
    "**Respuesta de ChatGpt**\n",
    "\n",
    "Here are some recommended hotels near Ueno Park in Tokyo:\n",
    "\n",
    "1. Hotel Graphy Nezu: This hotel is located about a 15-minute walk from Ueno Park and offers residential-style accommodations with a fully-equipped, shared kitchen. It is well-rated for its good facilities and friendly staff.\n",
    "\n",
    "2. APA Hotel Ueno Ekimae: Situated in the heart of Tokyo, this hotel provides convenient access to local markets and restaurants. It's known for its good value and includes free WiFi throughout the property.\n",
    "\n",
    "3. Tosei Hotel Cocone Ueno Okachimachi: This hotel scores highly for cleanliness and value for money. It is located very close to Ueno Park and offers 3-star accommodations.\n",
    "\n",
    "4. Hop Inn Tokyo Ueno: Located a short walk from Ueno Station, this hotel is noted for its cleanliness and new hotel vibes. It offers air-conditioned rooms and free WiFi, making it a comfortable choice for visitors.\n",
    "\n",
    "All of these options offer good accessibility to Ueno Park and its surrounding attractions, providing a range of amenities to suit various preferences and budgets."
   ]
  },
  {
   "cell_type": "markdown",
   "metadata": {},
   "source": [
    "**Evaluación**\n",
    "\n",
    "| Participante | Calificación |\n",
    "| :- | -: |\n",
    "| JO Hernández | 4 |\n",
    "| JC Alvarado | 5|\n",
    "| JC Romo | 5 |"
   ]
  },
  {
   "cell_type": "markdown",
   "metadata": {},
   "source": [
    "**Obteniendo Respuestas de la Base Conocimiento y el Modelo Fundacional**"
   ]
  },
  {
   "cell_type": "code",
   "execution_count": 116,
   "metadata": {},
   "outputs": [
    {
     "name": "stdout",
     "output_type": "stream",
     "text": [
      "Respuesta despues de 51.2563 segundos:\n",
      "  Thank you for considering me as your friendly travel assistant! I'd be happy to help you find a traditional Japanese ryokan in Hakone, Japan. Based on the information provided, here are two options that I recommend:\n",
      "1. Hotel Kajikaso: This 4-star ryokan is located in the heart of Hakone (Yumoto) and offers comfortable rooms with refrigerators and flat-screen televisions. The hotel is within walking distance to several attractions, including Hakone Kowakien Yunessun and Tamadare Falls. Guests can enjoy traditional Japanese cuisine at the on-site restaurant or relax in the hot spring bath.\n",
      "2. Yumoto Fujiya Hotel: This 4-star hotel is also located in Hakone (Yumoto) and offers stunning views of Mt. Fuji. The hotel features 149 air-conditioned rooms with refrigerators, as well as a restaurant serving Japanese cuisine. Guests can enjoy the hot spring bath or take advantage of the hotel's other amenities, including a fitness center and massage services.\n",
      "Both of these options offer a traditional Japanese experience and are located in convenient areas of Hakone. If you have any further questions or would like more recommendations, please feel free to ask!\n",
      "\n",
      "Contexto:\n",
      "page_content='Hotel Kajikaso is located in Hakone, Japan.HeadLine : In Hakone (Yumoto)Location : With a stay at Hotel Kajikaso in Hakone (Yumoto), you ll be within a 15-minute drive of Hakone Kowakien Yunessun and Tamadare Falls.  This 4-star ryokan is 10.3 mi (16.6 km) from Lake Ashi and 5.2 mi (8.3 km) from Hakone Open Air Museum.Rooms : Make yourself at home in one of the 74 air-conditioned rooms featuring refrigerators and flat-screen televisions. Complimentary wireless Internet access is available to keep you connected. Bathrooms have complimentary toiletries and hair dryers. Conveniences include phones, as well as safes and a turndown service.Dining : Stop by the ryokan s restaurant for dinner, or grab snacks at the 2 coffee shops/cafes. Quench your thirst with your favorite drink at the bar/lounge.CheckIn Instructions :   Extra-person charges may apply and vary depending on property policyGovernment-issued photo identification and a credit card, debit card, or cash deposit may be required at check-in for incidental chargesSpecial requests are subject to availability upon check-in and may incur additional charges; special requests cannot be guaranteedThis property accepts credit cards; cash is not acceptedSafety features at this property include a fire extinguisher, a smoke detector, and a first aid kitPlease note that cultural norms and guest policies may differ by country and by property; the policies listed are provided by the property  Special Instructions : The front desk is open daily from 8:00 AM - 10:00 PM. This property doesn t offer after-hours check-in. Front desk staff will greet guests on arrival. For more details, please contact the property using the information on the booking confirmation.  Guests booked in Half Board rates must check-in by 7:30 PM to receive dinner. Disclaimer notification: Amenities are subject to availability and may be chargeable as per the hotel policy.' metadata={'Address': '688 yumoto, hakone-machi  250-0311ashigawashimo-gunkanagawa, hakone, 250-0311, japan', 'City': 'Hakone', 'Code': '1482765', 'Continent': 'Asia', 'Country': 'Japan', 'CountryCode': 'JP', 'Latitude': 35.231338, 'Longitude': 139.101298, 'Name': 'hotel kajikaso', 'Rating': 4.0}\n",
      "\n",
      "Contexto:\n",
      "page_content='Yumoto Fujiya Hotel is located in Hakone, Japan.HeadLine : In Hakone (Yumoto)Location : With a stay at Yumoto Fujiya Hotel in Hakone (Yumoto), you ll be within a 15-minute drive of Hakone Kowakien Yunessun and Sounji Temple.  This 4-star hotel is 8.9 mi (14.4 km) from Lake Ashi and 5.5 mi (8.8 km) from Hakone Open Air Museum.Rooms : Make yourself at home in one of the 149 air-conditioned rooms featuring refrigerators. Complimentary wireless Internet access is available to keep you connected. Private bathrooms with shower/tub combinations feature complimentary toiletries and hair dryers. Conveniences include phones, as well as safes and desks.Dining : Enjoy Japanese cuisine at Himeshara, one of the hotel s many dining establishments, which include 4 restaurants and a coffee shop/cafe. Quench your thirst with your favorite drink at the bar/lounge. Buffet breakfasts are available daily from 7:00 AM to 9:00 AM for a fee.CheckIn Instructions :   Extra-person charges may apply and vary depending on property policyGovernment-issued photo identification and a credit card, debit card, or cash deposit may be required at check-in for incidental chargesSpecial requests are subject to availability upon check-in and may incur additional charges; special requests cannot be guaranteedThis property accepts credit cards and mobile payments; cash is not acceptedMobile payment options include: Alipay, PayPay, and LINE PayPlease note that cultural norms and guest policies may differ by country and by property; the policies listed are provided by the property  Special Instructions : Front desk staff will greet guests on arrival. For more details, please contact the property using the information on the booking confirmation.  Guests booked in Half Board rates must check-in by 5 PM to receive dinner. Disclaimer notification: Amenities are subject to availability and may be chargeable as per the hotel policy.' metadata={'Address': '256-1 yumoto, hakone 250-0392kanagawa prefecture, hakone, 250-0392, japan', 'City': 'Hakone', 'Code': '1169811', 'Continent': 'Asia', 'Country': 'Japan', 'CountryCode': 'JP', 'Latitude': 35.232716, 'Longitude': 139.106062, 'Name': 'yumoto fujiya hotel', 'Rating': 4.0}\n",
      "\n",
      "Contexto:\n",
      "page_content='Fujiya Hotel is located in Hakone, Japan.HeadLine : In Hakone (Miyanoshita)Location : With a stay at Fujiya Hotel in Hakone (Miyanoshita), you ll be within a 5-minute drive of Hakone Open Air Museum and Hakone Kowakien Yunessun.  This 5-star ryokan is 2.1 mi (3.3 km) from Hakone Gora Park and 3.5 mi (5.6 km) from Owakudani.Rooms : Make yourself at home in one of the 120 air-conditioned rooms featuring refrigerators and flat-screen televisions. Complimentary wireless Internet access keeps you connected, and digital programming is available for your entertainment. Private bathrooms with shower/tub combinations feature complimentary toiletries and bidets. Conveniences include phones, as well as safes and desks.Dining : Enjoy French cuisine at The Fujiya, one of the ryokan s 3 restaurants, or stay in and take advantage of the room service (during limited hours). Snacks are also available at the coffee shop/cafe. Quench your thirst with your favorite drink at the bar/lounge. Full breakfasts are available daily from 7:30 AM to 10:00 AM for a fee.CheckIn Instructions :   Extra-person charges may apply and vary depending on property policyGovernment-issued photo identification and a credit card, debit card, or cash deposit may be required at check-in for incidental chargesSpecial requests are subject to availability upon check-in and may incur additional charges; special requests cannot be guaranteedThis property accepts credit cards and cashPlease note that cultural norms and guest policies may differ by country and by property; the policies listed are provided by the property     Guests traveling with a service animal must contact the property in advance.  Special Instructions : Front desk staff will greet guests on arrival. For more details, please contact the property using the information on the booking confirmation.  Meals and bedding are not included in the Breakfast Included rate for children ages 0-5. Guests booked in dinner inclusive rates must check-in by 8 PM to receive dinner, served in the restaurant. Guests arriving from 8-9 PM must contact the property in advance to reserve dinner, served in the guestroom. This property s restaurant tables can seat up to 4. Groups of 13 guests or more must contact the property in advance to reserve restaurant space. Disclaimer notification: Amenities are subject to availability and may be chargeable as per the hotel policy.' metadata={'Address': '359 miyanoshita, hakone-machi 250-0404kanagawa-ken, hakone, 250-0404, japan', 'City': 'Hakone', 'Code': '1084438', 'Continent': 'Asia', 'Country': 'Japan', 'CountryCode': 'JP', 'Latitude': 35.244622, 'Longitude': 139.058906, 'Name': 'fujiya hotel', 'Rating': 5.0}\n",
      "\n",
      "Contexto:\n",
      "page_content='Palace Hotel Hakone is located in Hakone, Japan.You can meet various kinds of natural beauty by each season at Hakone Palace Hotel. This is a real resort hotel from which you can enjoy the view of Mt. Fuji or Lake Ashi. It is located on the spacious Sengokubara Highlands, 90 minutes drive from Tokyo. Disclaimer notification: Amenities are subject to availability and may be chargeable as per the hotel policy.' metadata={'Address': 'sengokuhara, 1245, hakone machi, hakone, 250-0631, japan', 'City': 'Hakone', 'Code': '1312074', 'Continent': 'Asia', 'Country': 'Japan', 'CountryCode': 'JP', 'Latitude': 35.143812, 'Longitude': 139.000292, 'Name': 'palace hotel hakone', 'Rating': 4.0}\n"
     ]
    }
   ],
   "source": [
    "input = '''Can you recommend hotels in Hakone Japan? Ideally I am looking for traditional japanese ryokans.'''\n",
    "\n",
    "elapsed_time, response, context = retrieve_and_generate(input, rag_prompt_llama, vector_store, llm)\n",
    "display_response(response, context, elapsed_time)"
   ]
  },
  {
   "cell_type": "markdown",
   "metadata": {},
   "source": [
    "**Respuesta de ChatGpt**\n",
    "\n",
    "For traditional Japanese ryokans in Hakone, Japan, you might consider the following options:\n",
    "\n",
    "1. Gora Kadan: This luxurious ryokan offers traditional Japanese accommodations with modern amenities, including hot spring baths and gourmet kaiseki meals.\n",
    "\n",
    "2. Hakone Ginyu: Situated in the scenic Hakone area, Hakone Ginyu provides elegant ryokan-style rooms with private outdoor hot spring baths and panoramic views of the surrounding mountains.\n",
    "\n",
    "3. Yamano Hotel: Yamano Hotel offers authentic Japanese hospitality in a tranquil setting. Guests can enjoy traditional tatami mat rooms, communal hot spring baths, and delicious multi-course meals.\n",
    "\n",
    "4. Gora Hanaougi: Nestled in the heart of Hakone, Gora Hanaougi features spacious ryokan accommodations, soothing hot spring baths, and impeccable service.\n",
    "\n",
    "5. Hakone Yutowa: This ryokan combines traditional Japanese design with modern comforts, offering guests a relaxing retreat with hot spring baths, gourmet dining, and serene natural surroundings.\n",
    "\n",
    "These are just a few options to consider for experiencing traditional Japanese hospitality in Hakone. Be sure to check availability and make reservations in advance, especially during peak travel seasons."
   ]
  },
  {
   "cell_type": "markdown",
   "metadata": {},
   "source": [
    "**Evaluación**\n",
    "\n",
    "| Participante | Calificación |\n",
    "| :- | -: |\n",
    "| JO Hernández | 5 |\n",
    "| JC Alvarado | 5 |\n",
    "| JC Romo | 5 |"
   ]
  },
  {
   "cell_type": "markdown",
   "metadata": {},
   "source": [
    "**Obteniendo Respuestas de la Base Conocimiento y el Modelo Fundacional**"
   ]
  },
  {
   "cell_type": "code",
   "execution_count": 117,
   "metadata": {},
   "outputs": [
    {
     "name": "stdout",
     "output_type": "stream",
     "text": [
      "Respuesta despues de 46.7351 segundos:\n",
      "  Hello! I'm happy to help you find hotels near Periferico de la Juventud in Chihuahua, Mexico. Based on the information provided, here are two options for hotels that are located within the same city or nearby:\n",
      "1. Hotel 9 Manantiales - This hotel is located on the shores of Lake Amoloya and offers a spa, bar-restaurant with panoramic lake views, and free Wi-Fi in all rooms. Each room has bright contemporary décor and tiled floors, and guests can rent fishing equipment from the hotel. The historic centre of Chignahuapan is a 3-minute drive away.\n",
      "2. Los Acebos Ushuaia Hotel - This 4-star hotel is located in the mountains, within a 10-minute drive of Glaciar Martial and Islas Malvinas Square. The hotel offers free Wi-Fi, minibars, flat-screen televisions, and complimentary breakfast. Guests can enjoy a meal at the restaurant or snacks in the coffee shop/cafe, and the hotel also offers room service. Quench your thirst with your favorite drink at the bar/lounge.\n",
      "I hope this helps! Let me know if you have any other questions.\n",
      "\n",
      "Contexto:\n",
      "page_content='Hotel Chicamocha is located in Bucaramanga, Colombia.HeadLine : Near Megamall Shopping CenterLocation : Located in Bucaramanga, Hotel Chicamocha is in a shopping district, within a 15-minute walk of Megamall Shopping Center and Parque del Agua.  This 4-star hotel is 0.8 mi (1.4 km) from Canaveral Mall and 1.1 mi (1.7 km) from San Pio Park.Rooms : Make yourself at home in one of the 160 air-conditioned rooms featuring refrigerators and minibars. LCD televisions with cable programming provide entertainment, while complimentary wireless Internet access keeps you connected. Bathrooms feature showers, complimentary toiletries, and hair dryers. Conveniences include phones, as well as desks and complimentary weekday newspapers.Dining : Enjoy international cuisine at Piscina, one of the hotel s 3 restaurants, or stay in and take advantage of the room service (during limited hours). Snacks are also available at the 2 coffee shops/cafes. Relax with a refreshing drink from the poolside bar or one of the 3 bars/lounges. A complimentary English breakfast is served daily from 6:30 AM to 9:30 AM.Renovations : The following facilities or services will be unavailable from September 1 2023 to October 1 2023 (dates subject to change): Swimming poolCheckIn Instructions :   Extra-person charges may apply and vary depending on property policyGovernment-issued photo identification and a credit card, debit card, or cash deposit may be required at check-in for incidental chargesSpecial requests are subject to availability upon check-in and may incur additional charges; special requests cannot be guaranteedGuests must contact this property in advance to reserve onsite parkingThis property accepts credit cards and cashPlease note that cultural norms and guest policies may differ by country and by property; the policies listed are provided by the property  Special Instructions : This property offers transfers from the airport (surcharges may apply). Guests must contact the property with arrival details before travel, using the contact information on the booking confirmation. Front desk staff will greet guests on arrival. Disclaimer notification: Amenities are subject to availability and may be chargeable as per the hotel policy.' metadata={'Address': 'calle 34 no. 31 24, bucaramangasantander, bucaramanga, 680010, colombia', 'City': 'Bucaramanga', 'Code': '1107522', 'Continent': 'Americas', 'Country': 'Colombia', 'CountryCode': 'CO', 'Latitude': 7.124732, 'Longitude': -73.113842, 'Name': 'hotel chicamocha', 'Rating': 4.0}\n",
      "\n",
      "Contexto:\n",
      "page_content='Hotel 9 Manantiales is located in Chignahuapan, Mexico.Located on the shores of Lake Amoloya, Hotel 9 Manantiales offers a spa and a bar-restaurant with panoramic lake views. Each stylish room has free Wi-Fi and an LCD TV with cable channels.\\n\\nRooms at Hotel 9 Manantiales have bright contemporary décor and tiled floors. Each one includes 2 queen-size beds, a telephone, a safe and a private bathroom with free toiletries.\\n\\nThe La Esfera bar-restaurant serves typical regional cuisine. You can also enjoy drinks and snacks in the 3 Elementos café.\\n\\nYou can rent fishing equipment from the hotel, and staff can provide local area information. Free private parking is available on site, and the historic centre of Chignahuapan is a 3-minute drive away. This property does not accept American Express. Disclaimer notification: Amenities are subject to availability and may be chargeable as per the hotel policy.' metadata={'Address': 'prolongacion guillermo prieto colonia teoconchila, colonia teoconchila73300 chignahuapan, chignahuapan, 73300, mexico', 'City': 'Chignahuapan', 'Code': '1419208', 'Continent': 'Americas', 'Country': 'Mexico', 'CountryCode': 'MX', 'Latitude': 19.84139, 'Longitude': -98.02348, 'Name': 'hotel 9 manantiales', 'Rating': 4.0}\n",
      "\n",
      "Contexto:\n",
      "page_content='Los Acebos Ushuaia Hotel is located in Ushuaia, Argentina.HeadLine : Near Solar del BosqueLocation : Located in Ushuaia, Los Acebos Ushuaia Hotel is in the mountains, within a 10-minute drive of Glaciar Martial and Islas Malvinas Square.  This 4-star hotel is 2.6 mi (4.1 km) from Islas Malvinas Monument and 2.8 mi (4.4 km) from St. Christopher Shipwreck.Rooms : Make yourself at home in one of the 90 guestrooms featuring minibars and flat-screen televisions. Complimentary wireless Internet access keeps you connected, and digital programming is available for your entertainment. Private bathrooms with shower/tub combinations feature deep soaking bathtubs and complimentary toiletries. Conveniences include laptop-compatible safes and desks, and housekeeping is provided daily.Dining : Enjoy a meal at the restaurant or snacks in the coffee shop/cafe. The hotel also offers room service (during limited hours). Quench your thirst with your favorite drink at the bar/lounge. A complimentary buffet breakfast is served daily from 7 AM to 10:30 AM.CheckIn Instructions :   Extra-person charges may apply and vary depending on property policyGovernment-issued photo identification and a credit card, debit card, or cash deposit may be required at check-in for incidental chargesSpecial requests are subject to availability upon check-in and may incur additional charges; special requests cannot be guaranteedThis property accepts credit cards; cash is not accepted  Special Instructions : Front desk staff will greet guests on arrival. Disclaimer notification: Amenities are subject to availability and may be chargeable as per the hotel policy.' metadata={'Address': 'luis martial 1911, 9410 ushuaia, ushuaia, 9410, argentina', 'City': 'Ushuaia', 'Code': '1164054', 'Continent': 'Americas', 'Country': 'Argentina', 'CountryCode': 'AR', 'Latitude': -54.806275, 'Longitude': -68.352825, 'Name': 'los acebos ushuaia hotel', 'Rating': 4.0}\n",
      "\n",
      "Contexto:\n",
      "page_content='Hotel Madaura is located in Chinauta, Colombia.Featuring a swimming pool and a restaurant, Hotel de Aventura y Centro de Convenciones Madaura offers rooms with free WiFi and plasma TV in Chinauta. Free parking is provided. Bogota is 1 hour away by car.\\n\\nDecorated with lively-coloured bedspreads, rooms at Madaura are bright and spacious. All of them have air conditioning and private balconies.\\n\\nAn American breakfast is served daily. Regional and international dishes can be ordered at the property’s restaurant.\\n\\nGuests can relax on the sun loungers or make use of the sauna and Turkish bath. There are 2 big parks with sports facilities, and a games room is also featured.\\n\\nHotel de Aventura y Centro de Convenciones Madaura is 5 km from La Glorieta bus station. Disclaimer notification: Amenities are subject to availability and may be chargeable as per the hotel policy.' metadata={'Address': 'via melgar km 59, chinauta, chinauta, 252211, colombia', 'City': 'Chinauta', 'Code': '1256871', 'Continent': 'Americas', 'Country': 'Colombia', 'CountryCode': 'CO', 'Latitude': 4.30371, 'Longitude': -74.44822, 'Name': 'hotel madaura', 'Rating': 4.0}\n"
     ]
    }
   ],
   "source": [
    "input = '''Can you recommend hotels in Chihuauha that are located near Periferico de la Juventud?'''\n",
    "\n",
    "elapsed_time, response, context = retrieve_and_generate(input, rag_prompt_llama, vector_store, llm)\n",
    "display_response(response, context, elapsed_time)"
   ]
  },
  {
   "cell_type": "markdown",
   "metadata": {},
   "source": [
    "**Respuesta de ChatGpt**\n",
    "\n",
    "I don't have direct access to real-time data or external sources like hotel databases. However, I can suggest a general approach to finding hotels near Periférico de la Juventud in Chihuahua City:\n",
    "\n",
    "Online Hotel Booking Platforms: Websites like Booking.com, Expedia, or TripAdvisor allow you to search for hotels based on specific locations. You can enter \"Periférico de la Juventud\" as the location and see the hotels available nearby.\n",
    "\n",
    "Google Maps: You can use Google Maps to search for hotels near Periférico de la Juventud. Simply type \"hotels near Periférico de la Juventud, Chihuahua City\" into the search bar, and Google Maps will display a list of hotels in that area along with their ratings and reviews.\n",
    "\n",
    "Local Directories: Check local business directories or tourism websites for information on hotels near Periférico de la Juventud. They may have listings and contact details for hotels in the area.\n",
    "\n",
    "Contact Hotels Directly: Once you have a list of potential hotels, you can contact them directly to inquire about their location relative to Periférico de la Juventud and any other details you need to know.\n",
    "\n",
    "By using these methods, you should be able to find hotels in Chihuahua City that are located near Periférico de la Juventud."
   ]
  },
  {
   "cell_type": "markdown",
   "metadata": {},
   "source": [
    "**Evaluación**\n",
    "\n",
    "| Participante | Calificación |\n",
    "| :- | -: |\n",
    "| JO Hernández | 2 |\n",
    "| JC Alvarado | 4 |\n",
    "| JC Romo | 3 |"
   ]
  },
  {
   "cell_type": "markdown",
   "metadata": {
    "id": "b68fb8b7-959c-4eab-82d8-ac622c8071ff"
   },
   "source": [
    "## **Conclusiones**\n"
   ]
  },
  {
   "cell_type": "markdown",
   "metadata": {
    "id": "_6oLU1ff3twF"
   },
   "source": [
    "El análisis de la evaluación se encuentra en el archivo ***Proyecto-Integrador-Evaluacion-Avance4.xlsx*** en el mismo repositorio de esta libreta.\n",
    "\n",
    "La presentación de los nuevos modelos y la selección del mejor modelo se encuentran en el archivo ***Avance4 Smart Travel Assistant-Reporte de Progreso-02.pptx*** en el mismo repositorio de esta libreta."
   ]
  },
  {
   "cell_type": "markdown",
   "metadata": {
    "id": "c8c2c4ae-24a2-40a1-a4c1-44792313fbff"
   },
   "source": [
    "## **Referencias**\n",
    "\n",
    "* Monigatti, L. (2023, 6 de diciembre). A Guide on 12 Tuning Strategies for Production-Ready RAG Applications. Medium. https://towardsdatascience.com/a-guide-on-12-tuning-strategies-for-production-ready-rag-applications-7ca646833439\n",
    "\n",
    "* AWS. (s.f.). Set up a data source for your knowledge base - Amazon Bedrock. docs.aws.amazon.com. Recuperado 7 de mayo, 2024, de https://docs.aws.amazon.com/bedrock/latest/userguide/knowledge-base-ds.html\n",
    "\n",
    "* AWS. (s.f.). Getting started with model evaluations - Amazon Bedrock. docs.aws.amazon.com. Recuperado 15 de mayo, 2024, de https://docs.aws.amazon.com/bedrock/latest/userguide/model-evaluation-type.html\n",
    "\n",
    "* AWS. (2023, 28 de noviembre). Knowledge Bases now delivers fully managed RAG experience in Amazon Bedrock - Amazon Web Services.  Amazon Web Services. https://aws.amazon.com/es/blogs/aws/knowledge-bases-now-delivers-fully-managed-rag-experience-in-amazon-bedrock/\n",
    "\n",
    "* Monigatti, L. (2023, 15 de deciembre). Evaluating RAG Applications with RAGAs. Medium. https://towardsdatascience.com/evaluating-rag-applications-with-ragas-81d67b0ee31a\n",
    "\n",
    "* Grech, C. (2024, 16 de febrero). Evaluating RAG Performance: A Comprehensive Guide. Medium. https://christiangrech.medium.com/evaluating-rag-performance-a-comprehensive-guide-b1d8f903b7ad\n",
    "\n",
    "* AWS (s.f.). Amazon Titan Text models - Amazon Bedrock. docs.aws.amazon.com. Recuperado 20 de mayo 26, 2024, de https://docs.aws.amazon.com/bedrock/latest/userguide/model-parameters-titan-text.html\n",
    "\n",
    "* LangChain. (s.f.). Bedrock (Knowledge Bases). python.langchain.com. Recuperado 20 de mayo 26, 2024, de https://python.langchain.com/v0.1/docs/integrations/retrievers/bedrock/\n",
    "\n",
    "* LangChain. (s.f.). ChatBedrock. python.langchain.com. Recuperado 20 de mayo 26, 2024, de https://python.langchain.com/v0.1/docs/integrations/chat/bedrock/\n",
    "\n",
    "* LangChain. (s.f.). langchain.chains.retrieval_qa.base.RetrievalQA LangChain 0.1.12. api.python.langchain.com. https://api.python.langchain.com/en/latest/chains/langchain.chains.retrieval_qa.base.RetrievalQA.html\n",
    "\n"
   ]
  },
  {
   "cell_type": "code",
   "execution_count": null,
   "metadata": {},
   "outputs": [],
   "source": []
  }
 ],
 "metadata": {
  "colab": {
   "authorship_tag": "ABX9TyN7RsC+bWpa5Yqc1sfHsoAr",
   "include_colab_link": true,
   "provenance": []
  },
  "kernelspec": {
   "display_name": "Python 3 (ipykernel)",
   "language": "python",
   "name": "python3"
  },
  "language_info": {
   "codemirror_mode": {
    "name": "ipython",
    "version": 3
   },
   "file_extension": ".py",
   "mimetype": "text/x-python",
   "name": "python",
   "nbconvert_exporter": "python",
   "pygments_lexer": "ipython3",
   "version": "3.10.12"
  }
 },
 "nbformat": 4,
 "nbformat_minor": 4
}
